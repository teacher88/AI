{
 "cells": [
  {
   "cell_type": "markdown",
   "id": "7c8a68ea-0a2f-4669-b5b6-f6001f571bd1",
   "metadata": {},
   "source": [
    "# Project\n",
    "## 분석 데이터 - 한국복지 패널\n",
    "-  분석 내용(한국인의 삶을 파악하라)\n",
    "1) 성별에 따른 월급 차이 - 성별에 따라 월급이 다를까?\n",
    "2) 나이와 월급의 관계 - 몇 살때 월급을 가장 많이 받을까?\n",
    "3) 연령대에 따른 월급 차이 - 어떤 연령대의 월급이 가장 많이 받을까?\n",
    "4) 연령대 및 성별 월급 차이 - 성별 월급 차이는 연령대별로 다를까?\n",
    "5) 직업별 월급 차이 - 어떤 직업이 월급 가장 많이 받을까?\n",
    "6) 성별 직업 빈도 - 성별로 어떤 직업이 가장 많을까?\n",
    "7) 종교 유무에 따른 이혼율 - 종교가 있으면 이혼을 덜 할까?\n",
    "8) 지역별 연령대 비율 - 어느 지역에 노년층이 많을까?"
   ]
  },
  {
   "cell_type": "markdown",
   "id": "b4cfcf70-754c-4bff-9f28-de08a08e3389",
   "metadata": {},
   "source": [
    "### 설치 및 라이브러리 설정"
   ]
  },
  {
   "cell_type": "code",
   "execution_count": 5,
   "id": "6da97e99-5048-465b-a3a7-e83d02bd5512",
   "metadata": {},
   "outputs": [],
   "source": [
    "# !pip install pyreadstat    "
   ]
  },
  {
   "cell_type": "code",
   "execution_count": 16,
   "id": "8d006a9e-3645-4e99-933f-27285615deb6",
   "metadata": {},
   "outputs": [],
   "source": [
    "import numpy as np\n",
    "import pandas as pd\n",
    "import seaborn as sns\n",
    "\n",
    "import matplotlib.pyplot as plt\n",
    "import matplotlib as mpl\n",
    "mpl.rc('font', family='Malgun Gothic') \n",
    "plt.rcParams['axes.unicode_minus'] = False\n",
    "\n",
    "import scipy.stats as stats"
   ]
  },
  {
   "cell_type": "markdown",
   "id": "8ba79a9f-b713-4e5a-a3eb-1c1c97d6eb53",
   "metadata": {},
   "source": [
    "### 데이터 전처리\n",
    "- https://www.koweps.re.kr:442/data/data/list.do\n",
    "- 데이터 불러오기 및 검토\n",
    "- 원하는 컬럼 추출 및 컬럼명 변경"
   ]
  },
  {
   "cell_type": "code",
   "execution_count": 4,
   "id": "4b625dc5-3c2f-4740-948a-cd1fd36b91f1",
   "metadata": {},
   "outputs": [
    {
     "data": {
      "text/plain": [
       "(14418, 830)"
      ]
     },
     "execution_count": 4,
     "metadata": {},
     "output_type": "execute_result"
    }
   ],
   "source": [
    "data=pd.read_spss('./data/pandas/project/Koweps_hpwc14_2019_beta2.sav')\n",
    "data.shape"
   ]
  },
  {
   "cell_type": "code",
   "execution_count": 5,
   "id": "1e9579ad-9df4-4585-8cdb-602ff881c5f4",
   "metadata": {},
   "outputs": [
    {
     "data": {
      "text/html": [
       "<div>\n",
       "<style scoped>\n",
       "    .dataframe tbody tr th:only-of-type {\n",
       "        vertical-align: middle;\n",
       "    }\n",
       "\n",
       "    .dataframe tbody tr th {\n",
       "        vertical-align: top;\n",
       "    }\n",
       "\n",
       "    .dataframe thead th {\n",
       "        text-align: right;\n",
       "    }\n",
       "</style>\n",
       "<table border=\"1\" class=\"dataframe\">\n",
       "  <thead>\n",
       "    <tr style=\"text-align: right;\">\n",
       "      <th></th>\n",
       "      <th>h14_id</th>\n",
       "      <th>h14_ind</th>\n",
       "      <th>h14_sn</th>\n",
       "      <th>h14_merkey</th>\n",
       "      <th>h_new</th>\n",
       "      <th>h14_cobf</th>\n",
       "      <th>p14_wsc</th>\n",
       "      <th>p14_wsl</th>\n",
       "      <th>p14_wgc</th>\n",
       "      <th>p14_wgl</th>\n",
       "      <th>...</th>\n",
       "      <th>wc14_64</th>\n",
       "      <th>wc14_65</th>\n",
       "      <th>wc14_5aq4</th>\n",
       "      <th>wc14_5aq5</th>\n",
       "      <th>wc14_5aq6</th>\n",
       "      <th>h14_pers_income1</th>\n",
       "      <th>h14_pers_income2</th>\n",
       "      <th>h14_pers_income3</th>\n",
       "      <th>h14_pers_income4</th>\n",
       "      <th>h14_pers_income5</th>\n",
       "    </tr>\n",
       "  </thead>\n",
       "  <tbody>\n",
       "    <tr>\n",
       "      <th>0</th>\n",
       "      <td>2.0</td>\n",
       "      <td>1.0</td>\n",
       "      <td>1.0</td>\n",
       "      <td>20101.0</td>\n",
       "      <td>0.0</td>\n",
       "      <td>NaN</td>\n",
       "      <td>0.291589</td>\n",
       "      <td>0.291589</td>\n",
       "      <td>1307.764781</td>\n",
       "      <td>1307.764781</td>\n",
       "      <td>...</td>\n",
       "      <td>NaN</td>\n",
       "      <td></td>\n",
       "      <td>NaN</td>\n",
       "      <td>NaN</td>\n",
       "      <td>NaN</td>\n",
       "      <td>NaN</td>\n",
       "      <td>NaN</td>\n",
       "      <td>NaN</td>\n",
       "      <td>0.0</td>\n",
       "      <td>NaN</td>\n",
       "    </tr>\n",
       "    <tr>\n",
       "      <th>1</th>\n",
       "      <td>3.0</td>\n",
       "      <td>1.0</td>\n",
       "      <td>1.0</td>\n",
       "      <td>30101.0</td>\n",
       "      <td>0.0</td>\n",
       "      <td>NaN</td>\n",
       "      <td>0.419753</td>\n",
       "      <td>0.419753</td>\n",
       "      <td>1882.570960</td>\n",
       "      <td>1882.570960</td>\n",
       "      <td>...</td>\n",
       "      <td>NaN</td>\n",
       "      <td></td>\n",
       "      <td>NaN</td>\n",
       "      <td>NaN</td>\n",
       "      <td>NaN</td>\n",
       "      <td>NaN</td>\n",
       "      <td>NaN</td>\n",
       "      <td>NaN</td>\n",
       "      <td>0.0</td>\n",
       "      <td>NaN</td>\n",
       "    </tr>\n",
       "    <tr>\n",
       "      <th>2</th>\n",
       "      <td>4.0</td>\n",
       "      <td>1.0</td>\n",
       "      <td>1.0</td>\n",
       "      <td>40101.0</td>\n",
       "      <td>0.0</td>\n",
       "      <td>NaN</td>\n",
       "      <td>0.265263</td>\n",
       "      <td>0.265980</td>\n",
       "      <td>1189.691668</td>\n",
       "      <td>1192.908537</td>\n",
       "      <td>...</td>\n",
       "      <td>NaN</td>\n",
       "      <td></td>\n",
       "      <td>NaN</td>\n",
       "      <td>NaN</td>\n",
       "      <td>NaN</td>\n",
       "      <td>NaN</td>\n",
       "      <td>1284.0</td>\n",
       "      <td>NaN</td>\n",
       "      <td>0.0</td>\n",
       "      <td>NaN</td>\n",
       "    </tr>\n",
       "    <tr>\n",
       "      <th>3</th>\n",
       "      <td>6.0</td>\n",
       "      <td>1.0</td>\n",
       "      <td>1.0</td>\n",
       "      <td>60101.0</td>\n",
       "      <td>0.0</td>\n",
       "      <td>NaN</td>\n",
       "      <td>0.494906</td>\n",
       "      <td>0.495941</td>\n",
       "      <td>2219.630833</td>\n",
       "      <td>2224.273816</td>\n",
       "      <td>...</td>\n",
       "      <td>1.0</td>\n",
       "      <td>.</td>\n",
       "      <td>2.0</td>\n",
       "      <td>4.0</td>\n",
       "      <td>4.0</td>\n",
       "      <td>2304.0</td>\n",
       "      <td>NaN</td>\n",
       "      <td>1800.0</td>\n",
       "      <td>0.0</td>\n",
       "      <td>NaN</td>\n",
       "    </tr>\n",
       "    <tr>\n",
       "      <th>4</th>\n",
       "      <td>6.0</td>\n",
       "      <td>1.0</td>\n",
       "      <td>1.0</td>\n",
       "      <td>60101.0</td>\n",
       "      <td>0.0</td>\n",
       "      <td>NaN</td>\n",
       "      <td>1.017935</td>\n",
       "      <td>1.017935</td>\n",
       "      <td>4565.389177</td>\n",
       "      <td>4565.389177</td>\n",
       "      <td>...</td>\n",
       "      <td>1.0</td>\n",
       "      <td>.</td>\n",
       "      <td>1.0</td>\n",
       "      <td>5.0</td>\n",
       "      <td>2.0</td>\n",
       "      <td>NaN</td>\n",
       "      <td>NaN</td>\n",
       "      <td>NaN</td>\n",
       "      <td>0.0</td>\n",
       "      <td>NaN</td>\n",
       "    </tr>\n",
       "  </tbody>\n",
       "</table>\n",
       "<p>5 rows × 830 columns</p>\n",
       "</div>"
      ],
      "text/plain": [
       "   h14_id  h14_ind  h14_sn  h14_merkey  h_new  h14_cobf   p14_wsc   p14_wsl  \\\n",
       "0     2.0      1.0     1.0     20101.0    0.0       NaN  0.291589  0.291589   \n",
       "1     3.0      1.0     1.0     30101.0    0.0       NaN  0.419753  0.419753   \n",
       "2     4.0      1.0     1.0     40101.0    0.0       NaN  0.265263  0.265980   \n",
       "3     6.0      1.0     1.0     60101.0    0.0       NaN  0.494906  0.495941   \n",
       "4     6.0      1.0     1.0     60101.0    0.0       NaN  1.017935  1.017935   \n",
       "\n",
       "       p14_wgc      p14_wgl  ...  wc14_64  wc14_65  wc14_5aq4  wc14_5aq5  \\\n",
       "0  1307.764781  1307.764781  ...      NaN                 NaN        NaN   \n",
       "1  1882.570960  1882.570960  ...      NaN                 NaN        NaN   \n",
       "2  1189.691668  1192.908537  ...      NaN                 NaN        NaN   \n",
       "3  2219.630833  2224.273816  ...      1.0        .        2.0        4.0   \n",
       "4  4565.389177  4565.389177  ...      1.0        .        1.0        5.0   \n",
       "\n",
       "   wc14_5aq6  h14_pers_income1  h14_pers_income2  h14_pers_income3  \\\n",
       "0        NaN               NaN               NaN               NaN   \n",
       "1        NaN               NaN               NaN               NaN   \n",
       "2        NaN               NaN            1284.0               NaN   \n",
       "3        4.0            2304.0               NaN            1800.0   \n",
       "4        2.0               NaN               NaN               NaN   \n",
       "\n",
       "   h14_pers_income4  h14_pers_income5  \n",
       "0               0.0               NaN  \n",
       "1               0.0               NaN  \n",
       "2               0.0               NaN  \n",
       "3               0.0               NaN  \n",
       "4               0.0               NaN  \n",
       "\n",
       "[5 rows x 830 columns]"
      ]
     },
     "execution_count": 5,
     "metadata": {},
     "output_type": "execute_result"
    }
   ],
   "source": [
    "data.head()"
   ]
  },
  {
   "cell_type": "code",
   "execution_count": 6,
   "id": "94bbd257-7222-414a-aa64-65a43f11407f",
   "metadata": {},
   "outputs": [],
   "source": [
    "data.to_csv('./data/pandas/project/Koweps_hpwc14_2019_beta2.csv', index=False) "
   ]
  },
  {
   "cell_type": "code",
   "execution_count": 7,
   "id": "c26b083c-ebdd-461f-9c5d-195da6f0a9ae",
   "metadata": {},
   "outputs": [
    {
     "data": {
      "text/html": [
       "<div>\n",
       "<style scoped>\n",
       "    .dataframe tbody tr th:only-of-type {\n",
       "        vertical-align: middle;\n",
       "    }\n",
       "\n",
       "    .dataframe tbody tr th {\n",
       "        vertical-align: top;\n",
       "    }\n",
       "\n",
       "    .dataframe thead th {\n",
       "        text-align: right;\n",
       "    }\n",
       "</style>\n",
       "<table border=\"1\" class=\"dataframe\">\n",
       "  <thead>\n",
       "    <tr style=\"text-align: right;\">\n",
       "      <th></th>\n",
       "      <th>h14_g3</th>\n",
       "      <th>h14_g4</th>\n",
       "      <th>h14_g10</th>\n",
       "      <th>h14_g11</th>\n",
       "      <th>p1402_8aq1</th>\n",
       "      <th>h14_eco9</th>\n",
       "      <th>h14_reg7</th>\n",
       "    </tr>\n",
       "  </thead>\n",
       "  <tbody>\n",
       "    <tr>\n",
       "      <th>0</th>\n",
       "      <td>2.0</td>\n",
       "      <td>1945.0</td>\n",
       "      <td>2.0</td>\n",
       "      <td>1.0</td>\n",
       "      <td>NaN</td>\n",
       "      <td>NaN</td>\n",
       "      <td>1.0</td>\n",
       "    </tr>\n",
       "    <tr>\n",
       "      <th>1</th>\n",
       "      <td>1.0</td>\n",
       "      <td>1948.0</td>\n",
       "      <td>2.0</td>\n",
       "      <td>2.0</td>\n",
       "      <td>NaN</td>\n",
       "      <td>NaN</td>\n",
       "      <td>1.0</td>\n",
       "    </tr>\n",
       "    <tr>\n",
       "      <th>2</th>\n",
       "      <td>1.0</td>\n",
       "      <td>1942.0</td>\n",
       "      <td>3.0</td>\n",
       "      <td>1.0</td>\n",
       "      <td>107.0</td>\n",
       "      <td>762.0</td>\n",
       "      <td>1.0</td>\n",
       "    </tr>\n",
       "    <tr>\n",
       "      <th>3</th>\n",
       "      <td>1.0</td>\n",
       "      <td>1962.0</td>\n",
       "      <td>1.0</td>\n",
       "      <td>1.0</td>\n",
       "      <td>192.0</td>\n",
       "      <td>855.0</td>\n",
       "      <td>1.0</td>\n",
       "    </tr>\n",
       "    <tr>\n",
       "      <th>4</th>\n",
       "      <td>2.0</td>\n",
       "      <td>1963.0</td>\n",
       "      <td>1.0</td>\n",
       "      <td>1.0</td>\n",
       "      <td>NaN</td>\n",
       "      <td>NaN</td>\n",
       "      <td>1.0</td>\n",
       "    </tr>\n",
       "  </tbody>\n",
       "</table>\n",
       "</div>"
      ],
      "text/plain": [
       "   h14_g3  h14_g4  h14_g10  h14_g11  p1402_8aq1  h14_eco9  h14_reg7\n",
       "0     2.0  1945.0      2.0      1.0         NaN       NaN       1.0\n",
       "1     1.0  1948.0      2.0      2.0         NaN       NaN       1.0\n",
       "2     1.0  1942.0      3.0      1.0       107.0     762.0       1.0\n",
       "3     1.0  1962.0      1.0      1.0       192.0     855.0       1.0\n",
       "4     2.0  1963.0      1.0      1.0         NaN       NaN       1.0"
      ]
     },
     "execution_count": 7,
     "metadata": {},
     "output_type": "execute_result"
    }
   ],
   "source": [
    "# 원하는 컬럼 추출\n",
    "person=data[['h14_g3', 'h14_g4',  'h14_g10', 'h14_g11', 'p1402_8aq1', 'h14_eco9', 'h14_reg7']]\n",
    "person.head()"
   ]
  },
  {
   "cell_type": "code",
   "execution_count": 8,
   "id": "35988eaf-c613-4d48-9a6a-1abb943bdd59",
   "metadata": {},
   "outputs": [
    {
     "data": {
      "text/html": [
       "<div>\n",
       "<style scoped>\n",
       "    .dataframe tbody tr th:only-of-type {\n",
       "        vertical-align: middle;\n",
       "    }\n",
       "\n",
       "    .dataframe tbody tr th {\n",
       "        vertical-align: top;\n",
       "    }\n",
       "\n",
       "    .dataframe thead th {\n",
       "        text-align: right;\n",
       "    }\n",
       "</style>\n",
       "<table border=\"1\" class=\"dataframe\">\n",
       "  <thead>\n",
       "    <tr style=\"text-align: right;\">\n",
       "      <th></th>\n",
       "      <th>성별</th>\n",
       "      <th>태어난연도</th>\n",
       "      <th>혼인상태</th>\n",
       "      <th>종교</th>\n",
       "      <th>월급</th>\n",
       "      <th>직업코드</th>\n",
       "      <th>지역코드</th>\n",
       "    </tr>\n",
       "  </thead>\n",
       "  <tbody>\n",
       "    <tr>\n",
       "      <th>0</th>\n",
       "      <td>2.0</td>\n",
       "      <td>1945.0</td>\n",
       "      <td>2.0</td>\n",
       "      <td>1.0</td>\n",
       "      <td>NaN</td>\n",
       "      <td>NaN</td>\n",
       "      <td>1.0</td>\n",
       "    </tr>\n",
       "    <tr>\n",
       "      <th>1</th>\n",
       "      <td>1.0</td>\n",
       "      <td>1948.0</td>\n",
       "      <td>2.0</td>\n",
       "      <td>2.0</td>\n",
       "      <td>NaN</td>\n",
       "      <td>NaN</td>\n",
       "      <td>1.0</td>\n",
       "    </tr>\n",
       "    <tr>\n",
       "      <th>2</th>\n",
       "      <td>1.0</td>\n",
       "      <td>1942.0</td>\n",
       "      <td>3.0</td>\n",
       "      <td>1.0</td>\n",
       "      <td>107.0</td>\n",
       "      <td>762.0</td>\n",
       "      <td>1.0</td>\n",
       "    </tr>\n",
       "    <tr>\n",
       "      <th>3</th>\n",
       "      <td>1.0</td>\n",
       "      <td>1962.0</td>\n",
       "      <td>1.0</td>\n",
       "      <td>1.0</td>\n",
       "      <td>192.0</td>\n",
       "      <td>855.0</td>\n",
       "      <td>1.0</td>\n",
       "    </tr>\n",
       "    <tr>\n",
       "      <th>4</th>\n",
       "      <td>2.0</td>\n",
       "      <td>1963.0</td>\n",
       "      <td>1.0</td>\n",
       "      <td>1.0</td>\n",
       "      <td>NaN</td>\n",
       "      <td>NaN</td>\n",
       "      <td>1.0</td>\n",
       "    </tr>\n",
       "  </tbody>\n",
       "</table>\n",
       "</div>"
      ],
      "text/plain": [
       "    성별   태어난연도  혼인상태   종교     월급   직업코드  지역코드\n",
       "0  2.0  1945.0   2.0  1.0    NaN    NaN   1.0\n",
       "1  1.0  1948.0   2.0  2.0    NaN    NaN   1.0\n",
       "2  1.0  1942.0   3.0  1.0  107.0  762.0   1.0\n",
       "3  1.0  1962.0   1.0  1.0  192.0  855.0   1.0\n",
       "4  2.0  1963.0   1.0  1.0    NaN    NaN   1.0"
      ]
     },
     "execution_count": 8,
     "metadata": {},
     "output_type": "execute_result"
    }
   ],
   "source": [
    "# 컬럼명 변경\n",
    "person=person.rename(columns={'h14_g3':'성별',\n",
    "                             'h14_g4':'태어난연도',\n",
    "                             'h14_g10':'혼인상태',\n",
    "                             'h14_g11':'종교',\n",
    "                             'p1402_8aq1':'월급',\n",
    "                             'h14_eco9':'직업코드',\n",
    "                             'h14_reg7':'지역코드' })\n",
    "person.head()"
   ]
  },
  {
   "cell_type": "code",
   "execution_count": 9,
   "id": "a213c73e-6322-4bc0-9c8e-ce127b3b2771",
   "metadata": {},
   "outputs": [],
   "source": [
    "# csv 파이리로 저장 - 추후 사용\n",
    "person.to_csv('./data/pandas/project/person.csv', index=False)"
   ]
  },
  {
   "cell_type": "code",
   "execution_count": 10,
   "id": "fa0615b3-710b-4985-825c-0a851a769ebc",
   "metadata": {},
   "outputs": [
    {
     "name": "stdout",
     "output_type": "stream",
     "text": [
      "<class 'pandas.core.frame.DataFrame'>\n",
      "RangeIndex: 14418 entries, 0 to 14417\n",
      "Data columns (total 7 columns):\n",
      " #   Column  Non-Null Count  Dtype  \n",
      "---  ------  --------------  -----  \n",
      " 0   성별      14418 non-null  float64\n",
      " 1   태어난연도   14418 non-null  float64\n",
      " 2   혼인상태    14418 non-null  float64\n",
      " 3   종교      14418 non-null  float64\n",
      " 4   월급      4534 non-null   float64\n",
      " 5   직업코드    6878 non-null   float64\n",
      " 6   지역코드    14418 non-null  float64\n",
      "dtypes: float64(7)\n",
      "memory usage: 788.6 KB\n"
     ]
    }
   ],
   "source": [
    "person.info()"
   ]
  },
  {
   "cell_type": "code",
   "execution_count": 11,
   "id": "ce349a57-4d73-4eb4-83d4-6b8d9d16e2c2",
   "metadata": {},
   "outputs": [
    {
     "data": {
      "text/plain": [
       "성별          0\n",
       "태어난연도       0\n",
       "혼인상태        0\n",
       "종교          0\n",
       "월급       9884\n",
       "직업코드     7540\n",
       "지역코드        0\n",
       "dtype: int64"
      ]
     },
     "execution_count": 11,
     "metadata": {},
     "output_type": "execute_result"
    }
   ],
   "source": [
    "person.isna().sum()"
   ]
  },
  {
   "cell_type": "code",
   "execution_count": 12,
   "id": "ef2bbcbc-23a1-4695-8a9f-1269b7eae8c2",
   "metadata": {},
   "outputs": [
    {
     "data": {
      "text/html": [
       "<div>\n",
       "<style scoped>\n",
       "    .dataframe tbody tr th:only-of-type {\n",
       "        vertical-align: middle;\n",
       "    }\n",
       "\n",
       "    .dataframe tbody tr th {\n",
       "        vertical-align: top;\n",
       "    }\n",
       "\n",
       "    .dataframe thead th {\n",
       "        text-align: right;\n",
       "    }\n",
       "</style>\n",
       "<table border=\"1\" class=\"dataframe\">\n",
       "  <thead>\n",
       "    <tr style=\"text-align: right;\">\n",
       "      <th></th>\n",
       "      <th>count</th>\n",
       "      <th>mean</th>\n",
       "      <th>std</th>\n",
       "      <th>min</th>\n",
       "      <th>25%</th>\n",
       "      <th>50%</th>\n",
       "      <th>75%</th>\n",
       "      <th>max</th>\n",
       "    </tr>\n",
       "  </thead>\n",
       "  <tbody>\n",
       "    <tr>\n",
       "      <th>성별</th>\n",
       "      <td>14418</td>\n",
       "      <td>1</td>\n",
       "      <td>0</td>\n",
       "      <td>1</td>\n",
       "      <td>1</td>\n",
       "      <td>2</td>\n",
       "      <td>2</td>\n",
       "      <td>2</td>\n",
       "    </tr>\n",
       "    <tr>\n",
       "      <th>태어난연도</th>\n",
       "      <td>14418</td>\n",
       "      <td>1969</td>\n",
       "      <td>24</td>\n",
       "      <td>1907</td>\n",
       "      <td>1948</td>\n",
       "      <td>1968</td>\n",
       "      <td>1990</td>\n",
       "      <td>2018</td>\n",
       "    </tr>\n",
       "    <tr>\n",
       "      <th>혼인상태</th>\n",
       "      <td>14418</td>\n",
       "      <td>1</td>\n",
       "      <td>1</td>\n",
       "      <td>0</td>\n",
       "      <td>1</td>\n",
       "      <td>1</td>\n",
       "      <td>2</td>\n",
       "      <td>6</td>\n",
       "    </tr>\n",
       "    <tr>\n",
       "      <th>종교</th>\n",
       "      <td>14418</td>\n",
       "      <td>1</td>\n",
       "      <td>0</td>\n",
       "      <td>1</td>\n",
       "      <td>1</td>\n",
       "      <td>2</td>\n",
       "      <td>2</td>\n",
       "      <td>2</td>\n",
       "    </tr>\n",
       "    <tr>\n",
       "      <th>월급</th>\n",
       "      <td>4534</td>\n",
       "      <td>268</td>\n",
       "      <td>198</td>\n",
       "      <td>0</td>\n",
       "      <td>150</td>\n",
       "      <td>220</td>\n",
       "      <td>345</td>\n",
       "      <td>1892</td>\n",
       "    </tr>\n",
       "    <tr>\n",
       "      <th>직업코드</th>\n",
       "      <td>6878</td>\n",
       "      <td>587</td>\n",
       "      <td>264</td>\n",
       "      <td>111</td>\n",
       "      <td>313</td>\n",
       "      <td>611</td>\n",
       "      <td>873</td>\n",
       "      <td>1009</td>\n",
       "    </tr>\n",
       "    <tr>\n",
       "      <th>지역코드</th>\n",
       "      <td>14418</td>\n",
       "      <td>3</td>\n",
       "      <td>2</td>\n",
       "      <td>1</td>\n",
       "      <td>2</td>\n",
       "      <td>3</td>\n",
       "      <td>5</td>\n",
       "      <td>7</td>\n",
       "    </tr>\n",
       "  </tbody>\n",
       "</table>\n",
       "</div>"
      ],
      "text/plain": [
       "       count  mean  std   min   25%   50%   75%   max\n",
       "성별     14418     1    0     1     1     2     2     2\n",
       "태어난연도  14418  1969   24  1907  1948  1968  1990  2018\n",
       "혼인상태   14418     1    1     0     1     1     2     6\n",
       "종교     14418     1    0     1     1     2     2     2\n",
       "월급      4534   268  198     0   150   220   345  1892\n",
       "직업코드    6878   587  264   111   313   611   873  1009\n",
       "지역코드   14418     3    2     1     2     3     5     7"
      ]
     },
     "execution_count": 12,
     "metadata": {},
     "output_type": "execute_result"
    }
   ],
   "source": [
    "person.describe().T.astype(int)"
   ]
  },
  {
   "cell_type": "markdown",
   "id": "2afbc67e-1793-4453-91d9-fd2f069ed3ce",
   "metadata": {},
   "source": [
    "## 성별에 따른 월급 차이 - 성별에 따라 월급이 다를까?\n",
    "- DDA: 분석에 활용할 변수(성별, 월급)를 전처리\n",
    "    - 이상치, 결측치\n",
    "    - 변수값 다루기 편하게 수정 -  남(1)/여(2)\n",
    "- EDA : 변수 간 관계 분석\n",
    "    - 데이터 요약표 (성별월급 평균표 만들기)\n",
    "    - 그래프 : X(문자형/성별), Y(숫자형/월급) - BarChar\n",
    "- CDA : 검증\n",
    "    - X(문자형) / Y(숫자형) : 정규성 검증  >> 등분산 검증 >> 2집단, 3집단이상"
   ]
  },
  {
   "cell_type": "markdown",
   "id": "fc6c7817-18d3-49a2-86c7-34305c10f930",
   "metadata": {},
   "source": [
    "### 성별 변수 검토 및 전처리\n",
    "- 이상치, 결측치 체크\n",
    "- 성별 값 수정 : 1(남), 2(여)"
   ]
  },
  {
   "cell_type": "code",
   "execution_count": 15,
   "id": "c702b983-8c05-4b69-aa5b-cbec347ee84b",
   "metadata": {},
   "outputs": [],
   "source": [
    "ex_one=person.copy()"
   ]
  },
  {
   "cell_type": "code",
   "execution_count": 16,
   "id": "28ad0321-b309-4ab4-a80f-4dd0b491b0cf",
   "metadata": {},
   "outputs": [
    {
     "name": "stdout",
     "output_type": "stream",
     "text": [
      "<class 'pandas.core.series.Series'>\n",
      "RangeIndex: 14418 entries, 0 to 14417\n",
      "Series name: 성별\n",
      "Non-Null Count  Dtype  \n",
      "--------------  -----  \n",
      "14418 non-null  float64\n",
      "dtypes: float64(1)\n",
      "memory usage: 112.8 KB\n"
     ]
    }
   ],
   "source": [
    "ex_one['성별'].info()"
   ]
  },
  {
   "cell_type": "code",
   "execution_count": 17,
   "id": "0334b4c7-11f0-40ba-b817-bf2bba20faa0",
   "metadata": {},
   "outputs": [
    {
     "name": "stdout",
     "output_type": "stream",
     "text": [
      "타입: float64\n",
      "사이즈: 14418\n",
      "결측치: 0\n"
     ]
    }
   ],
   "source": [
    "print(\"타입:\", ex_one['성별'].dtypes)\n",
    "print(\"사이즈:\", ex_one['성별'].size)\n",
    "print(\"결측치:\", ex_one['성별'].isna().sum())"
   ]
  },
  {
   "cell_type": "code",
   "execution_count": 18,
   "id": "bf34913f-1ac4-4a1c-9cea-2d4bd1ae751a",
   "metadata": {},
   "outputs": [
    {
     "data": {
      "text/plain": [
       "count    14418.000000\n",
       "mean         1.548828\n",
       "std          0.497627\n",
       "min          1.000000\n",
       "25%          1.000000\n",
       "50%          2.000000\n",
       "75%          2.000000\n",
       "max          2.000000\n",
       "Name: 성별, dtype: float64"
      ]
     },
     "execution_count": 18,
     "metadata": {},
     "output_type": "execute_result"
    }
   ],
   "source": [
    "ex_one['성별'].describe()"
   ]
  },
  {
   "cell_type": "code",
   "execution_count": 19,
   "id": "b223007e-a5e8-42c0-b475-e69657bb26be",
   "metadata": {},
   "outputs": [
    {
     "data": {
      "text/plain": [
       "성별\n",
       "2.0    7913\n",
       "1.0    6505\n",
       "Name: count, dtype: int64"
      ]
     },
     "execution_count": 19,
     "metadata": {},
     "output_type": "execute_result"
    }
   ],
   "source": [
    "ex_one['성별'].value_counts()"
   ]
  },
  {
   "cell_type": "code",
   "execution_count": 60,
   "id": "92055b3e-9d9f-4305-8744-a4ae3cc7252e",
   "metadata": {},
   "outputs": [],
   "source": [
    "# 이상치 >> 결측치 처리 >> 대체 또는 삭제\n",
    "# ex_one['성별']=np.where(ex_one['성별'] == 9, np.nan, ex_one['성별'])\n",
    "# ex_one['성별'].isna().sum()"
   ]
  },
  {
   "cell_type": "code",
   "execution_count": 35,
   "id": "1fbe1983-5c67-4047-ac74-b8999df21cc4",
   "metadata": {},
   "outputs": [
    {
     "data": {
      "text/plain": [
       "성별\n",
       "여    7913\n",
       "남    6505\n",
       "Name: count, dtype: int64"
      ]
     },
     "execution_count": 35,
     "metadata": {},
     "output_type": "execute_result"
    }
   ],
   "source": [
    "# 성별 값 수정 - 다루기 편하게 수정\n",
    "ex_one['성별']=np.where(ex_one['성별'] == 1.0, '남', '여')\n",
    "ex_one['성별'].value_counts()"
   ]
  },
  {
   "cell_type": "code",
   "execution_count": 37,
   "id": "d26d9ba4-c9d8-4edd-b4a7-ce41dcc4184e",
   "metadata": {},
   "outputs": [
    {
     "data": {
      "text/plain": [
       "<Axes: xlabel='성별', ylabel='count'>"
      ]
     },
     "execution_count": 37,
     "metadata": {},
     "output_type": "execute_result"
    },
    {
     "data": {
      "image/png": "[encoded data removed]",
      "text/plain": [
       "<Figure size 640x480 with 1 Axes>"
      ]
     },
     "metadata": {},
     "output_type": "display_data"
    }
   ],
   "source": [
    "# 단일변수 - countplot, pie \n",
    "\n",
    "sns.countplot(data=ex_one, x='성별')"
   ]
  },
  {
   "cell_type": "code",
   "execution_count": 39,
   "id": "60853b97-1571-479c-aa26-9e86c6a5019e",
   "metadata": {},
   "outputs": [
    {
     "data": {
      "image/png": "[encoded data removed]",
      "text/plain": [
       "<Figure size 640x480 with 1 Axes>"
      ]
     },
     "metadata": {},
     "output_type": "display_data"
    }
   ],
   "source": [
    "plt.pie(x=ex_one['성별'].value_counts(),\n",
    "        labels=ex_one['성별'].value_counts().index,\n",
    "        autopct='%.1f%%', \n",
    "        explode=[0, 0.1])\n",
    "plt.show()"
   ]
  },
  {
   "cell_type": "markdown",
   "id": "a45fa407-6417-4929-b9a4-a598fa45f323",
   "metadata": {},
   "source": [
    "### 월급 변수 검토 및 전처리\n",
    "- 이상치, 결측치 체크"
   ]
  },
  {
   "cell_type": "code",
   "execution_count": 44,
   "id": "741d8c2c-f77e-4b5f-bc7c-d7188ee42843",
   "metadata": {},
   "outputs": [
    {
     "name": "stdout",
     "output_type": "stream",
     "text": [
      "타입: float64\n",
      "사이즈: 14418\n",
      "결측치: 9884\n"
     ]
    }
   ],
   "source": [
    "# ex_one['월급'].info()\n",
    "\n",
    "print(\"타입:\", ex_one['월급'].dtypes)\n",
    "print(\"사이즈:\", ex_one['월급'].size)\n",
    "print(\"결측치:\", ex_one['월급'].isna().sum())"
   ]
  },
  {
   "cell_type": "code",
   "execution_count": 46,
   "id": "cf231ab8-ec27-46ff-8020-a024ec74bc0c",
   "metadata": {},
   "outputs": [
    {
     "data": {
      "text/plain": [
       "count    4534\n",
       "mean      268\n",
       "std       198\n",
       "min         0\n",
       "25%       150\n",
       "50%       220\n",
       "75%       345\n",
       "max      1892\n",
       "Name: 월급, dtype: int32"
      ]
     },
     "execution_count": 46,
     "metadata": {},
     "output_type": "execute_result"
    }
   ],
   "source": [
    "ex_one['월급'].describe().astype(int)"
   ]
  },
  {
   "cell_type": "code",
   "execution_count": 56,
   "id": "c85807ac-8925-4c3a-af15-c6421c8269d6",
   "metadata": {},
   "outputs": [
    {
     "data": {
      "text/plain": [
       "(7, 7)"
      ]
     },
     "execution_count": 56,
     "metadata": {},
     "output_type": "execute_result"
    }
   ],
   "source": [
    "# r=ex_one[ex_one['월급'] == 9999]\n",
    "r=ex_one[ex_one['월급'] == 0]\n",
    "r.shape"
   ]
  },
  {
   "cell_type": "code",
   "execution_count": 52,
   "id": "befca435-a564-46c0-b2a4-d71bb89be87f",
   "metadata": {},
   "outputs": [
    {
     "data": {
      "text/html": [
       "<div>\n",
       "<style scoped>\n",
       "    .dataframe tbody tr th:only-of-type {\n",
       "        vertical-align: middle;\n",
       "    }\n",
       "\n",
       "    .dataframe tbody tr th {\n",
       "        vertical-align: top;\n",
       "    }\n",
       "\n",
       "    .dataframe thead th {\n",
       "        text-align: right;\n",
       "    }\n",
       "</style>\n",
       "<table border=\"1\" class=\"dataframe\">\n",
       "  <thead>\n",
       "    <tr style=\"text-align: right;\">\n",
       "      <th></th>\n",
       "      <th>성별</th>\n",
       "      <th>태어난연도</th>\n",
       "      <th>혼인상태</th>\n",
       "      <th>종교</th>\n",
       "      <th>월급</th>\n",
       "      <th>직업코드</th>\n",
       "      <th>지역코드</th>\n",
       "    </tr>\n",
       "  </thead>\n",
       "  <tbody>\n",
       "    <tr>\n",
       "      <th>4715</th>\n",
       "      <td>여</td>\n",
       "      <td>1983.0</td>\n",
       "      <td>1.0</td>\n",
       "      <td>2.0</td>\n",
       "      <td>0.0</td>\n",
       "      <td>311.0</td>\n",
       "      <td>5.0</td>\n",
       "    </tr>\n",
       "    <tr>\n",
       "      <th>6347</th>\n",
       "      <td>여</td>\n",
       "      <td>1983.0</td>\n",
       "      <td>1.0</td>\n",
       "      <td>1.0</td>\n",
       "      <td>0.0</td>\n",
       "      <td>252.0</td>\n",
       "      <td>1.0</td>\n",
       "    </tr>\n",
       "    <tr>\n",
       "      <th>6632</th>\n",
       "      <td>여</td>\n",
       "      <td>1991.0</td>\n",
       "      <td>5.0</td>\n",
       "      <td>1.0</td>\n",
       "      <td>0.0</td>\n",
       "      <td>313.0</td>\n",
       "      <td>2.0</td>\n",
       "    </tr>\n",
       "    <tr>\n",
       "      <th>10487</th>\n",
       "      <td>여</td>\n",
       "      <td>1980.0</td>\n",
       "      <td>1.0</td>\n",
       "      <td>2.0</td>\n",
       "      <td>0.0</td>\n",
       "      <td>311.0</td>\n",
       "      <td>3.0</td>\n",
       "    </tr>\n",
       "    <tr>\n",
       "      <th>10620</th>\n",
       "      <td>여</td>\n",
       "      <td>1985.0</td>\n",
       "      <td>1.0</td>\n",
       "      <td>1.0</td>\n",
       "      <td>0.0</td>\n",
       "      <td>320.0</td>\n",
       "      <td>3.0</td>\n",
       "    </tr>\n",
       "  </tbody>\n",
       "</table>\n",
       "</div>"
      ],
      "text/plain": [
       "      성별   태어난연도  혼인상태   종교   월급   직업코드  지역코드\n",
       "4715   여  1983.0   1.0  2.0  0.0  311.0   5.0\n",
       "6347   여  1983.0   1.0  1.0  0.0  252.0   1.0\n",
       "6632   여  1991.0   5.0  1.0  0.0  313.0   2.0\n",
       "10487  여  1980.0   1.0  2.0  0.0  311.0   3.0\n",
       "10620  여  1985.0   1.0  1.0  0.0  320.0   3.0"
      ]
     },
     "execution_count": 52,
     "metadata": {},
     "output_type": "execute_result"
    }
   ],
   "source": [
    "r.head()"
   ]
  },
  {
   "cell_type": "code",
   "execution_count": 58,
   "id": "46bc75bc-95ae-48ef-9ccf-a232f689740a",
   "metadata": {},
   "outputs": [],
   "source": [
    "# ex_one['월급']=np.where(ex_one['월급'] == 9999, np.nan, ex_one['월급'])\n",
    "# ex_one['월급']=np.where(ex_one['월급'] == 0, np.nan, ex_one['월급'])\n",
    "# ex_one['월급'].isna().sum()"
   ]
  },
  {
   "cell_type": "code",
   "execution_count": 60,
   "id": "cbdf593b-3d27-456f-bc2c-6d00cbab5340",
   "metadata": {},
   "outputs": [
    {
     "data": {
      "text/plain": [
       "0"
      ]
     },
     "execution_count": 60,
     "metadata": {},
     "output_type": "execute_result"
    }
   ],
   "source": [
    "# 결측치\n",
    "ex_one.dropna(inplace=True)\n",
    "ex_one['월급'].isna().sum()"
   ]
  },
  {
   "cell_type": "code",
   "execution_count": 62,
   "id": "8e5d6b3d-057c-470d-a9ff-005dfde506aa",
   "metadata": {},
   "outputs": [
    {
     "data": {
      "text/plain": [
       "(4534, 7)"
      ]
     },
     "execution_count": 62,
     "metadata": {},
     "output_type": "execute_result"
    }
   ],
   "source": [
    "ex_one.shape"
   ]
  },
  {
   "cell_type": "code",
   "execution_count": 64,
   "id": "156fe4d3-6f8b-4ffc-85f5-dcef3524da50",
   "metadata": {},
   "outputs": [
    {
     "data": {
      "text/plain": [
       "<Axes: xlabel='월급', ylabel='Count'>"
      ]
     },
     "execution_count": 64,
     "metadata": {},
     "output_type": "execute_result"
    },
    {
     "data": {
      "image/png": "[encoded data removed]",
      "text/plain": [
       "<Figure size 640x480 with 1 Axes>"
      ]
     },
     "metadata": {},
     "output_type": "display_data"
    }
   ],
   "source": [
    "# 단일변수 - 연속형 시각화 :histplot, boxplot\n",
    "\n",
    "sns.histplot(data=ex_one, x='월급', kde=True)"
   ]
  },
  {
   "cell_type": "code",
   "execution_count": 66,
   "id": "b6b161db-b7fb-45df-b06a-2a578f24f56e",
   "metadata": {},
   "outputs": [
    {
     "data": {
      "text/plain": [
       "<Axes: xlabel='월급'>"
      ]
     },
     "execution_count": 66,
     "metadata": {},
     "output_type": "execute_result"
    },
    {
     "data": {
      "image/png": "[encoded data removed]",
      "text/plain": [
       "<Figure size 640x480 with 1 Axes>"
      ]
     },
     "metadata": {},
     "output_type": "display_data"
    }
   ],
   "source": [
    "sns.boxplot(data=ex_one, x='월급')"
   ]
  },
  {
   "cell_type": "markdown",
   "id": "372f0e37-9763-4eac-8831-42e5eb7a4333",
   "metadata": {},
   "source": [
    "### 성별, 월급 간 관계 분석\n",
    "- 성별에 따른 월급 차이 - 성별에 따라 월급이 다를까?\n",
    "    - 시각화\n",
    "    - 데이터 요약"
   ]
  },
  {
   "cell_type": "code",
   "execution_count": 69,
   "id": "7781d6cf-fbc2-41e1-9844-f106ce9ffeb4",
   "metadata": {},
   "outputs": [
    {
     "data": {
      "text/plain": [
       "<Axes: xlabel='성별', ylabel='월급'>"
      ]
     },
     "execution_count": 69,
     "metadata": {},
     "output_type": "execute_result"
    },
    {
     "data": {
      "image/png": "[encoded data removed]",
      "text/plain": [
       "<Figure size 640x480 with 1 Axes>"
      ]
     },
     "metadata": {},
     "output_type": "display_data"
    }
   ],
   "source": [
    "# 다변수 : X(문자형) / (숫자) - barplot\n",
    "\n",
    "sns.barplot(data=ex_one, x='성별', y='월급', errorbar=None)"
   ]
  },
  {
   "cell_type": "code",
   "execution_count": 71,
   "id": "1c5164f9-1779-4df0-a4b9-9cbde4403562",
   "metadata": {},
   "outputs": [
    {
     "data": {
      "text/plain": [
       "성별\n",
       "남    349.037571\n",
       "여    186.293096\n",
       "Name: 월급, dtype: float64"
      ]
     },
     "execution_count": 71,
     "metadata": {},
     "output_type": "execute_result"
    }
   ],
   "source": [
    "# 요약표\n",
    "ex_one.groupby('성별')['월급'].mean()"
   ]
  },
  {
   "cell_type": "code",
   "execution_count": 73,
   "id": "14b79fea-394b-4b7c-845f-3d86b70e0554",
   "metadata": {},
   "outputs": [
    {
     "data": {
      "text/html": [
       "<div>\n",
       "<style scoped>\n",
       "    .dataframe tbody tr th:only-of-type {\n",
       "        vertical-align: middle;\n",
       "    }\n",
       "\n",
       "    .dataframe tbody tr th {\n",
       "        vertical-align: top;\n",
       "    }\n",
       "\n",
       "    .dataframe thead th {\n",
       "        text-align: right;\n",
       "    }\n",
       "</style>\n",
       "<table border=\"1\" class=\"dataframe\">\n",
       "  <thead>\n",
       "    <tr style=\"text-align: right;\">\n",
       "      <th></th>\n",
       "      <th>성별</th>\n",
       "      <th>월급평균</th>\n",
       "    </tr>\n",
       "  </thead>\n",
       "  <tbody>\n",
       "    <tr>\n",
       "      <th>0</th>\n",
       "      <td>남</td>\n",
       "      <td>349.037571</td>\n",
       "    </tr>\n",
       "    <tr>\n",
       "      <th>1</th>\n",
       "      <td>여</td>\n",
       "      <td>186.293096</td>\n",
       "    </tr>\n",
       "  </tbody>\n",
       "</table>\n",
       "</div>"
      ],
      "text/plain": [
       "  성별        월급평균\n",
       "0  남  349.037571\n",
       "1  여  186.293096"
      ]
     },
     "execution_count": 73,
     "metadata": {},
     "output_type": "execute_result"
    }
   ],
   "source": [
    "ex_one.groupby('성별')['월급'].mean().reset_index(name='월급평균')"
   ]
  },
  {
   "cell_type": "code",
   "execution_count": 79,
   "id": "dbe4bf8e-bdab-4499-91a8-1dd03bf534e2",
   "metadata": {},
   "outputs": [
    {
     "data": {
      "text/html": [
       "<div>\n",
       "<style scoped>\n",
       "    .dataframe tbody tr th:only-of-type {\n",
       "        vertical-align: middle;\n",
       "    }\n",
       "\n",
       "    .dataframe tbody tr th {\n",
       "        vertical-align: top;\n",
       "    }\n",
       "\n",
       "    .dataframe thead th {\n",
       "        text-align: right;\n",
       "    }\n",
       "</style>\n",
       "<table border=\"1\" class=\"dataframe\">\n",
       "  <thead>\n",
       "    <tr style=\"text-align: right;\">\n",
       "      <th></th>\n",
       "      <th>월급평균</th>\n",
       "    </tr>\n",
       "    <tr>\n",
       "      <th>성별</th>\n",
       "      <th></th>\n",
       "    </tr>\n",
       "  </thead>\n",
       "  <tbody>\n",
       "    <tr>\n",
       "      <th>남</th>\n",
       "      <td>349.037571</td>\n",
       "    </tr>\n",
       "    <tr>\n",
       "      <th>여</th>\n",
       "      <td>186.293096</td>\n",
       "    </tr>\n",
       "  </tbody>\n",
       "</table>\n",
       "</div>"
      ],
      "text/plain": [
       "          월급평균\n",
       "성별            \n",
       "남   349.037571\n",
       "여   186.293096"
      ]
     },
     "execution_count": 79,
     "metadata": {},
     "output_type": "execute_result"
    }
   ],
   "source": [
    "ex_one_tab=ex_one.pivot_table(\n",
    "    index='성별',\n",
    "    values='월급',\n",
    "    aggfunc='mean'\n",
    ")\n",
    "ex_one_tab.rename(columns={'월급':'월급평균'}, inplace=True)\n",
    "ex_one_tab"
   ]
  },
  {
   "cell_type": "markdown",
   "id": "aa9b1f58-f037-4d00-8fb1-38817954c3f7",
   "metadata": {},
   "source": [
    "### 통계적 가설 검정\n",
    "- 성별예 따른 월급 차이 - 성별에 따라 월급이 다를까?\n",
    "- 다변수 : X(문자형) / Y(숫자형)\n",
    "    - 정규성 검정 : 정규성(등분산, 이분산), 비정규  >> 2집단, 2집단 이상\n",
    "    - 가설\n",
    "        - 귀무가설 : 남녀간 월급의 차이가 없다.\n",
    "        - 대립(연구) 가설 : 남녀간 월급의 차이가 있다. \n",
    "    - 분석결과(Wilcoxon Test) : 통계적으로 남여 월급의 차이가 있다. (p < 0.05)"
   ]
  },
  {
   "cell_type": "code",
   "execution_count": 82,
   "id": "e04cf0ad-9322-4aa9-8ebd-68bbcf5eeb7f",
   "metadata": {},
   "outputs": [
    {
     "data": {
      "text/plain": [
       "NormaltestResult(statistic=1657.4427188351524, pvalue=0.0)"
      ]
     },
     "execution_count": 82,
     "metadata": {},
     "output_type": "execute_result"
    }
   ],
   "source": [
    "# 정규성 검정\n",
    "stats.normaltest(ex_one['월급'])   # 대립가설 참, 비정규분포"
   ]
  },
  {
   "cell_type": "code",
   "execution_count": 86,
   "id": "ac2e996a-1e27-4c15-8bf5-f10b518e233e",
   "metadata": {},
   "outputs": [
    {
     "data": {
      "text/plain": [
       "((2289, 7), (2245, 7))"
      ]
     },
     "execution_count": 86,
     "metadata": {},
     "output_type": "execute_result"
    }
   ],
   "source": [
    "# 비정규성 >> 2집단 >> wilcoxon Test\n",
    "ex_one_m=ex_one[ex_one['성별'] == '남']\n",
    "ex_one_f=ex_one[ex_one['성별'] == '여']\n",
    "ex_one_m.shape, ex_one_f.shape"
   ]
  },
  {
   "cell_type": "code",
   "execution_count": 88,
   "id": "598d9550-8fe1-4209-b74c-ab40211b90f5",
   "metadata": {},
   "outputs": [
    {
     "data": {
      "text/plain": [
       "RanksumsResult(statistic=30.80580065407471, pvalue=2.1912606852089194e-208)"
      ]
     },
     "execution_count": 88,
     "metadata": {},
     "output_type": "execute_result"
    }
   ],
   "source": [
    "stats.ranksums(ex_one_m['월급'], ex_one_f['월급'])\n",
    "\n",
    "# 대립가설 참, 남여 월급의 차이가 있다. "
   ]
  },
  {
   "cell_type": "markdown",
   "id": "89be08f8-8ce0-4f8a-80ba-2f09a7b49207",
   "metadata": {},
   "source": [
    "## 나이와 월급의 관계 - 몇 살때 월급을 가장 많이 받을까?\n",
    "- 분석에 활용한 변수 (태어난연도, 월급)를 전처리\n",
    "    - 이상치, 결측치 정제\n",
    "    - 변수 값을 다루기 편하게 수정 : 태어난연도를 활용해서 나이(파생변수) 컬럼 만들기\n",
    "- 변수 간 관계분석\n",
    "    - 그래프 : X(나이 / 순서형), Y(월급 / 숫자헝) - LineChar\n",
    "    - 데이터 요약표 (나이별 월급 평균표 만들기)\n",
    "- 검증\n",
    "    - X(숫자/순서형) / Y(연속형) : 상관분석\n",
    "    - 정규성(personr), 비정규(spearmanr)"
   ]
  },
  {
   "cell_type": "markdown",
   "id": "5e52d6de-e912-4891-a45f-806087b87b69",
   "metadata": {},
   "source": [
    "### 나이 변수 검토 및 전처리"
   ]
  },
  {
   "cell_type": "code",
   "execution_count": 95,
   "id": "943379af-b58d-41db-b916-29d30cdbbc6e",
   "metadata": {},
   "outputs": [],
   "source": [
    "ex_two=ex_one.copy()"
   ]
  },
  {
   "cell_type": "code",
   "execution_count": 97,
   "id": "0c5c8902-e683-4eed-b3bb-95f1c00a7c4f",
   "metadata": {},
   "outputs": [
    {
     "name": "stdout",
     "output_type": "stream",
     "text": [
      "타입: float64\n",
      "사이즈: 4534\n",
      "결측치: 0\n"
     ]
    }
   ],
   "source": [
    "# ex_two['태어난연도'].info()\n",
    "print(\"타입:\", ex_two['태어난연도'].dtypes)\n",
    "print(\"사이즈:\", ex_two['태어난연도'].size)\n",
    "print(\"결측치:\", ex_two['태어난연도'].isna().sum())"
   ]
  },
  {
   "cell_type": "code",
   "execution_count": 99,
   "id": "df410778-2bb6-4297-8746-3fdfffaad26b",
   "metadata": {},
   "outputs": [
    {
     "data": {
      "text/plain": [
       "count    4534\n",
       "mean     1971\n",
       "std        15\n",
       "min      1928\n",
       "25%      1961\n",
       "50%      1972\n",
       "75%      1982\n",
       "max      2001\n",
       "Name: 태어난연도, dtype: int32"
      ]
     },
     "execution_count": 99,
     "metadata": {},
     "output_type": "execute_result"
    }
   ],
   "source": [
    "ex_two['태어난연도'].describe().astype(int)"
   ]
  },
  {
   "cell_type": "code",
   "execution_count": null,
   "id": "6b60c92e-efc7-4861-b257-5f1c27115c72",
   "metadata": {},
   "outputs": [],
   "source": [
    "# 이상치 >> 결측치 처리 >> 대체 또는 삭제\n",
    "# ex_two['태어난연도']=np.where(ex_two['태어난연도'] == 9999, np.nan, ex_two['태어난연도'])\n",
    "# ex_two['태어난연도'].isna().sum()"
   ]
  },
  {
   "cell_type": "code",
   "execution_count": 101,
   "id": "1657cff1-8670-4f50-a809-154e4afd0597",
   "metadata": {},
   "outputs": [
    {
     "data": {
      "text/plain": [
       "2025"
      ]
     },
     "execution_count": 101,
     "metadata": {},
     "output_type": "execute_result"
    }
   ],
   "source": [
    "# 파생변수 만들기 - 나이\n",
    "current_year=pd.Timestamp.today().year\n",
    "current_year"
   ]
  },
  {
   "cell_type": "code",
   "execution_count": 107,
   "id": "f1c65366-138b-45e9-80fc-834850f8b233",
   "metadata": {},
   "outputs": [
    {
     "data": {
      "text/html": [
       "<div>\n",
       "<style scoped>\n",
       "    .dataframe tbody tr th:only-of-type {\n",
       "        vertical-align: middle;\n",
       "    }\n",
       "\n",
       "    .dataframe tbody tr th {\n",
       "        vertical-align: top;\n",
       "    }\n",
       "\n",
       "    .dataframe thead th {\n",
       "        text-align: right;\n",
       "    }\n",
       "</style>\n",
       "<table border=\"1\" class=\"dataframe\">\n",
       "  <thead>\n",
       "    <tr style=\"text-align: right;\">\n",
       "      <th></th>\n",
       "      <th>성별</th>\n",
       "      <th>태어난연도</th>\n",
       "      <th>혼인상태</th>\n",
       "      <th>종교</th>\n",
       "      <th>월급</th>\n",
       "      <th>직업코드</th>\n",
       "      <th>지역코드</th>\n",
       "      <th>나이</th>\n",
       "    </tr>\n",
       "  </thead>\n",
       "  <tbody>\n",
       "    <tr>\n",
       "      <th>2</th>\n",
       "      <td>남</td>\n",
       "      <td>1942.0</td>\n",
       "      <td>3.0</td>\n",
       "      <td>1.0</td>\n",
       "      <td>107.0</td>\n",
       "      <td>762.0</td>\n",
       "      <td>1.0</td>\n",
       "      <td>78.0</td>\n",
       "    </tr>\n",
       "    <tr>\n",
       "      <th>3</th>\n",
       "      <td>남</td>\n",
       "      <td>1962.0</td>\n",
       "      <td>1.0</td>\n",
       "      <td>1.0</td>\n",
       "      <td>192.0</td>\n",
       "      <td>855.0</td>\n",
       "      <td>1.0</td>\n",
       "      <td>58.0</td>\n",
       "    </tr>\n",
       "    <tr>\n",
       "      <th>7</th>\n",
       "      <td>여</td>\n",
       "      <td>1934.0</td>\n",
       "      <td>1.0</td>\n",
       "      <td>1.0</td>\n",
       "      <td>27.0</td>\n",
       "      <td>941.0</td>\n",
       "      <td>1.0</td>\n",
       "      <td>86.0</td>\n",
       "    </tr>\n",
       "    <tr>\n",
       "      <th>8</th>\n",
       "      <td>여</td>\n",
       "      <td>1940.0</td>\n",
       "      <td>2.0</td>\n",
       "      <td>1.0</td>\n",
       "      <td>27.0</td>\n",
       "      <td>999.0</td>\n",
       "      <td>2.0</td>\n",
       "      <td>80.0</td>\n",
       "    </tr>\n",
       "    <tr>\n",
       "      <th>14</th>\n",
       "      <td>남</td>\n",
       "      <td>1978.0</td>\n",
       "      <td>1.0</td>\n",
       "      <td>2.0</td>\n",
       "      <td>338.0</td>\n",
       "      <td>312.0</td>\n",
       "      <td>1.0</td>\n",
       "      <td>42.0</td>\n",
       "    </tr>\n",
       "  </tbody>\n",
       "</table>\n",
       "</div>"
      ],
      "text/plain": [
       "   성별   태어난연도  혼인상태   종교     월급   직업코드  지역코드    나이\n",
       "2   남  1942.0   3.0  1.0  107.0  762.0   1.0  78.0\n",
       "3   남  1962.0   1.0  1.0  192.0  855.0   1.0  58.0\n",
       "7   여  1934.0   1.0  1.0   27.0  941.0   1.0  86.0\n",
       "8   여  1940.0   2.0  1.0   27.0  999.0   2.0  80.0\n",
       "14  남  1978.0   1.0  2.0  338.0  312.0   1.0  42.0"
      ]
     },
     "execution_count": 107,
     "metadata": {},
     "output_type": "execute_result"
    }
   ],
   "source": [
    "ex_two['나이']=2019-person['태어난연도']+1   # 2019년에 조사가 진행된 데이터\n",
    "ex_two.head()"
   ]
  },
  {
   "cell_type": "code",
   "execution_count": 109,
   "id": "b3445858-976a-4e71-a32b-e04d2803e5ae",
   "metadata": {},
   "outputs": [
    {
     "data": {
      "text/plain": [
       "<Axes: xlabel='나이', ylabel='Count'>"
      ]
     },
     "execution_count": 109,
     "metadata": {},
     "output_type": "execute_result"
    },
    {
     "data": {
      "image/png": "[encoded data removed]",
      "text/plain": [
       "<Figure size 640x480 with 1 Axes>"
      ]
     },
     "metadata": {},
     "output_type": "display_data"
    }
   ],
   "source": [
    "# 단일(숫자형) 변수 - histplot, boxplot\n",
    "sns.histplot(data=ex_two, x='나이', kde=True)"
   ]
  },
  {
   "cell_type": "markdown",
   "id": "b4e850e0-2184-4fc9-9b7c-3122d8ebf5ad",
   "metadata": {},
   "source": [
    "### 월급 변수 검토 밎 전처리\n",
    "- 1.2.2 전처리 참조"
   ]
  },
  {
   "cell_type": "code",
   "execution_count": 113,
   "id": "65dac44e-0e0f-4afd-8d82-42f1fe1fd4be",
   "metadata": {},
   "outputs": [
    {
     "name": "stdout",
     "output_type": "stream",
     "text": [
      "<class 'pandas.core.series.Series'>\n",
      "Index: 4534 entries, 2 to 14416\n",
      "Series name: 월급\n",
      "Non-Null Count  Dtype  \n",
      "--------------  -----  \n",
      "4534 non-null   float64\n",
      "dtypes: float64(1)\n",
      "memory usage: 70.8 KB\n"
     ]
    }
   ],
   "source": [
    "ex_two['월급'].info()"
   ]
  },
  {
   "cell_type": "markdown",
   "id": "0bea5deb-c931-4636-884e-25a3688a177b",
   "metadata": {},
   "source": [
    "### 나이와 월급 관계 분석\n",
    "- 나이와 월급의 관계 : 몇 살때 월급을 가장 많이 받을까?\n",
    "    - 시각화\n",
    "    - 데이터 요약"
   ]
  },
  {
   "cell_type": "code",
   "execution_count": 118,
   "id": "e625017a-46b4-46cc-9a99-1124040aec26",
   "metadata": {},
   "outputs": [
    {
     "data": {
      "text/html": [
       "<div>\n",
       "<style scoped>\n",
       "    .dataframe tbody tr th:only-of-type {\n",
       "        vertical-align: middle;\n",
       "    }\n",
       "\n",
       "    .dataframe tbody tr th {\n",
       "        vertical-align: top;\n",
       "    }\n",
       "\n",
       "    .dataframe thead th {\n",
       "        text-align: right;\n",
       "    }\n",
       "</style>\n",
       "<table border=\"1\" class=\"dataframe\">\n",
       "  <thead>\n",
       "    <tr style=\"text-align: right;\">\n",
       "      <th></th>\n",
       "      <th>나이</th>\n",
       "      <th>나이월급평균</th>\n",
       "    </tr>\n",
       "  </thead>\n",
       "  <tbody>\n",
       "    <tr>\n",
       "      <th>0</th>\n",
       "      <td>19.0</td>\n",
       "      <td>162.000000</td>\n",
       "    </tr>\n",
       "    <tr>\n",
       "      <th>1</th>\n",
       "      <td>20.0</td>\n",
       "      <td>121.333333</td>\n",
       "    </tr>\n",
       "    <tr>\n",
       "      <th>2</th>\n",
       "      <td>21.0</td>\n",
       "      <td>136.400000</td>\n",
       "    </tr>\n",
       "    <tr>\n",
       "      <th>3</th>\n",
       "      <td>22.0</td>\n",
       "      <td>123.666667</td>\n",
       "    </tr>\n",
       "    <tr>\n",
       "      <th>4</th>\n",
       "      <td>23.0</td>\n",
       "      <td>179.676471</td>\n",
       "    </tr>\n",
       "  </tbody>\n",
       "</table>\n",
       "</div>"
      ],
      "text/plain": [
       "     나이      나이월급평균\n",
       "0  19.0  162.000000\n",
       "1  20.0  121.333333\n",
       "2  21.0  136.400000\n",
       "3  22.0  123.666667\n",
       "4  23.0  179.676471"
      ]
     },
     "execution_count": 118,
     "metadata": {},
     "output_type": "execute_result"
    }
   ],
   "source": [
    "# 나이별 그룹화, 월급 평균 구하\n",
    "reslut=ex_two.groupby('나이')['월급'].mean().reset_index(name='나이월급평균')\n",
    "reslut.head()"
   ]
  },
  {
   "cell_type": "code",
   "execution_count": 122,
   "id": "1e21cde7-734f-4fe7-8548-1349e99fb4a8",
   "metadata": {},
   "outputs": [
    {
     "data": {
      "text/html": [
       "<div>\n",
       "<style scoped>\n",
       "    .dataframe tbody tr th:only-of-type {\n",
       "        vertical-align: middle;\n",
       "    }\n",
       "\n",
       "    .dataframe tbody tr th {\n",
       "        vertical-align: top;\n",
       "    }\n",
       "\n",
       "    .dataframe thead th {\n",
       "        text-align: right;\n",
       "    }\n",
       "</style>\n",
       "<table border=\"1\" class=\"dataframe\">\n",
       "  <thead>\n",
       "    <tr style=\"text-align: right;\">\n",
       "      <th></th>\n",
       "      <th>나이</th>\n",
       "      <th>나이월급평균</th>\n",
       "    </tr>\n",
       "  </thead>\n",
       "  <tbody>\n",
       "    <tr>\n",
       "      <th>25</th>\n",
       "      <td>44.0</td>\n",
       "      <td>386.195876</td>\n",
       "    </tr>\n",
       "  </tbody>\n",
       "</table>\n",
       "</div>"
      ],
      "text/plain": [
       "      나이      나이월급평균\n",
       "25  44.0  386.195876"
      ]
     },
     "execution_count": 122,
     "metadata": {},
     "output_type": "execute_result"
    }
   ],
   "source": [
    "max_row=reslut[reslut['나이월급평균'] == reslut['나이월급평균'].max()]\n",
    "max_row"
   ]
  },
  {
   "cell_type": "code",
   "execution_count": 124,
   "id": "5c67d9d3-f427-4c3b-9b84-f4d7ca5f632f",
   "metadata": {},
   "outputs": [
    {
     "data": {
      "text/plain": [
       "<Axes: xlabel='나이', ylabel='월급'>"
      ]
     },
     "execution_count": 124,
     "metadata": {},
     "output_type": "execute_result"
    },
    {
     "data": {
      "image/png": "[encoded data removed]",
      "text/plain": [
       "<Figure size 640x480 with 1 Axes>"
      ]
     },
     "metadata": {},
     "output_type": "display_data"
    }
   ],
   "source": [
    "# 다변수 : X(순서형) / Y(숫자) : lineplot\n",
    "sns.lineplot(data=ex_two, x='나이', y='월급', errorbar=None)"
   ]
  },
  {
   "cell_type": "markdown",
   "id": "d9d7d667-81e9-4c81-bcf1-6d39016788af",
   "metadata": {},
   "source": [
    "### 통계적 가설 검정\n",
    "- 나이와 월급의 관계 \n",
    "    - 다변수 : x, y - 숫자형\n",
    "    - 상관분석 - 정규성, 비정규성\n",
    "        - 귀무가설 : 나이와 월급은 상관이 없다.\n",
    "        - 대립(연구) 가설 : 나이와 월급은 상관이 있다.\n",
    "- 분석 결과 (spearmanr)\n",
    "      - 나이와 월급은 산관이 있다. (통계량:0.29, p < 0.05)"
   ]
  },
  {
   "cell_type": "code",
   "execution_count": 129,
   "id": "af2e2a5c-82f8-4223-825d-187520a06300",
   "metadata": {},
   "outputs": [
    {
     "data": {
      "text/html": [
       "<div>\n",
       "<style scoped>\n",
       "    .dataframe tbody tr th:only-of-type {\n",
       "        vertical-align: middle;\n",
       "    }\n",
       "\n",
       "    .dataframe tbody tr th {\n",
       "        vertical-align: top;\n",
       "    }\n",
       "\n",
       "    .dataframe thead th {\n",
       "        text-align: right;\n",
       "    }\n",
       "</style>\n",
       "<table border=\"1\" class=\"dataframe\">\n",
       "  <thead>\n",
       "    <tr style=\"text-align: right;\">\n",
       "      <th></th>\n",
       "      <th>태어난연도</th>\n",
       "      <th>혼인상태</th>\n",
       "      <th>종교</th>\n",
       "      <th>월급</th>\n",
       "      <th>직업코드</th>\n",
       "      <th>지역코드</th>\n",
       "      <th>나이</th>\n",
       "    </tr>\n",
       "  </thead>\n",
       "  <tbody>\n",
       "    <tr>\n",
       "      <th>태어난연도</th>\n",
       "      <td>1.00</td>\n",
       "      <td>0.49</td>\n",
       "      <td>0.22</td>\n",
       "      <td>0.22</td>\n",
       "      <td>-0.43</td>\n",
       "      <td>-0.08</td>\n",
       "      <td>-1.00</td>\n",
       "    </tr>\n",
       "    <tr>\n",
       "      <th>혼인상태</th>\n",
       "      <td>0.49</td>\n",
       "      <td>1.00</td>\n",
       "      <td>0.10</td>\n",
       "      <td>-0.16</td>\n",
       "      <td>-0.11</td>\n",
       "      <td>-0.07</td>\n",
       "      <td>-0.49</td>\n",
       "    </tr>\n",
       "    <tr>\n",
       "      <th>종교</th>\n",
       "      <td>0.22</td>\n",
       "      <td>0.10</td>\n",
       "      <td>1.00</td>\n",
       "      <td>0.09</td>\n",
       "      <td>-0.06</td>\n",
       "      <td>0.03</td>\n",
       "      <td>-0.22</td>\n",
       "    </tr>\n",
       "    <tr>\n",
       "      <th>월급</th>\n",
       "      <td>0.22</td>\n",
       "      <td>-0.16</td>\n",
       "      <td>0.09</td>\n",
       "      <td>1.00</td>\n",
       "      <td>-0.35</td>\n",
       "      <td>-0.06</td>\n",
       "      <td>-0.22</td>\n",
       "    </tr>\n",
       "    <tr>\n",
       "      <th>직업코드</th>\n",
       "      <td>-0.43</td>\n",
       "      <td>-0.11</td>\n",
       "      <td>-0.06</td>\n",
       "      <td>-0.35</td>\n",
       "      <td>1.00</td>\n",
       "      <td>0.05</td>\n",
       "      <td>0.43</td>\n",
       "    </tr>\n",
       "    <tr>\n",
       "      <th>지역코드</th>\n",
       "      <td>-0.08</td>\n",
       "      <td>-0.07</td>\n",
       "      <td>0.03</td>\n",
       "      <td>-0.06</td>\n",
       "      <td>0.05</td>\n",
       "      <td>1.00</td>\n",
       "      <td>0.08</td>\n",
       "    </tr>\n",
       "    <tr>\n",
       "      <th>나이</th>\n",
       "      <td>-1.00</td>\n",
       "      <td>-0.49</td>\n",
       "      <td>-0.22</td>\n",
       "      <td>-0.22</td>\n",
       "      <td>0.43</td>\n",
       "      <td>0.08</td>\n",
       "      <td>1.00</td>\n",
       "    </tr>\n",
       "  </tbody>\n",
       "</table>\n",
       "</div>"
      ],
      "text/plain": [
       "       태어난연도  혼인상태    종교    월급  직업코드  지역코드    나이\n",
       "태어난연도   1.00  0.49  0.22  0.22 -0.43 -0.08 -1.00\n",
       "혼인상태    0.49  1.00  0.10 -0.16 -0.11 -0.07 -0.49\n",
       "종교      0.22  0.10  1.00  0.09 -0.06  0.03 -0.22\n",
       "월급      0.22 -0.16  0.09  1.00 -0.35 -0.06 -0.22\n",
       "직업코드   -0.43 -0.11 -0.06 -0.35  1.00  0.05  0.43\n",
       "지역코드   -0.08 -0.07  0.03 -0.06  0.05  1.00  0.08\n",
       "나이     -1.00 -0.49 -0.22 -0.22  0.43  0.08  1.00"
      ]
     },
     "execution_count": 129,
     "metadata": {},
     "output_type": "execute_result"
    }
   ],
   "source": [
    "ex_two_num=ex_two.select_dtypes(include='number')\n",
    "round(ex_two_num.corr(), 2)\n",
    "\n",
    "# 나이와 월급 -0.22 약한 상관 관계 /  60대부터 월급이 감소하는 경향"
   ]
  },
  {
   "cell_type": "code",
   "execution_count": 131,
   "id": "bcce7ecd-d9a2-4e04-9279-960de45dfbc8",
   "metadata": {},
   "outputs": [
    {
     "data": {
      "image/png": "[encoded data removed]",
      "text/plain": [
       "<Figure size 1000x500 with 2 Axes>"
      ]
     },
     "metadata": {},
     "output_type": "display_data"
    }
   ],
   "source": [
    "plt.figure(figsize=(10, 5))\n",
    "sns.heatmap(ex_two_num.corr(), annot=True)\n",
    "plt.show()"
   ]
  },
  {
   "cell_type": "code",
   "execution_count": 133,
   "id": "aeb2cf76-ce1a-4b69-b8bd-33ec1341a8d9",
   "metadata": {},
   "outputs": [
    {
     "data": {
      "text/plain": [
       "NormaltestResult(statistic=1657.4427188351524, pvalue=0.0)"
      ]
     },
     "execution_count": 133,
     "metadata": {},
     "output_type": "execute_result"
    }
   ],
   "source": [
    "# 정규성 검정\n",
    "stats.normaltest(ex_two['월급'])"
   ]
  },
  {
   "cell_type": "code",
   "execution_count": 135,
   "id": "9cb209c4-03ee-4daa-be73-1c2dd32b6a0a",
   "metadata": {},
   "outputs": [
    {
     "data": {
      "text/plain": [
       "SignificanceResult(statistic=-0.2995003794137383, pvalue=1.2825223923244415e-94)"
      ]
     },
     "execution_count": 135,
     "metadata": {},
     "output_type": "execute_result"
    }
   ],
   "source": [
    "stats.spearmanr(ex_two['나이'], ex_two['월급'])\n",
    "\n",
    "# 대립 참, 나이와 월급의 상관성이 있다. "
   ]
  },
  {
   "cell_type": "markdown",
   "id": "18e5cf7f-b81e-44ea-9a24-89d3425425b0",
   "metadata": {},
   "source": [
    "## 연령대에 따른 월급 차이 - 어떤 연령대의 월급이 가장 많이 받을까?\n",
    "- 분석에 활용할 변수 (나이, 월급)를 전처리\n",
    "    - 이상치, 결측치 정제\n",
    "    - 변수 값을 다루기 편하기 수정 - 나이를 활용한 연령대(파생변수) 변수 만들기\n",
    "- 변수 간 관계 분석\n",
    "    - 데이터 요약표 (나이별 월급 평균표 만들기)\n",
    "    - 그래프\n",
    "- 검증\n",
    "    - X(문자형) / Y(숫자형) 정규성 검증 >> 정규성  >> 등분산 검증(등분산/이분산) >> 2집단, 3집단 \n",
    "    -                                     >> 비정규  >> 2집단, 3집단"
   ]
  },
  {
   "cell_type": "markdown",
   "id": "68fb05ff-54bd-42ac-8419-471b2e2d6a57",
   "metadata": {},
   "source": [
    "### 연령대 변수 검토 및 전처리 \n",
    "- 연령 : 나이 >> 태어난연도"
   ]
  },
  {
   "cell_type": "code",
   "execution_count": 144,
   "id": "1322debe-cf52-4520-924b-db6c53d5622d",
   "metadata": {},
   "outputs": [
    {
     "data": {
      "text/html": [
       "<div>\n",
       "<style scoped>\n",
       "    .dataframe tbody tr th:only-of-type {\n",
       "        vertical-align: middle;\n",
       "    }\n",
       "\n",
       "    .dataframe tbody tr th {\n",
       "        vertical-align: top;\n",
       "    }\n",
       "\n",
       "    .dataframe thead th {\n",
       "        text-align: right;\n",
       "    }\n",
       "</style>\n",
       "<table border=\"1\" class=\"dataframe\">\n",
       "  <thead>\n",
       "    <tr style=\"text-align: right;\">\n",
       "      <th></th>\n",
       "      <th>성별</th>\n",
       "      <th>태어난연도</th>\n",
       "      <th>혼인상태</th>\n",
       "      <th>종교</th>\n",
       "      <th>월급</th>\n",
       "      <th>직업코드</th>\n",
       "      <th>지역코드</th>\n",
       "      <th>나이</th>\n",
       "    </tr>\n",
       "  </thead>\n",
       "  <tbody>\n",
       "    <tr>\n",
       "      <th>2</th>\n",
       "      <td>남</td>\n",
       "      <td>1942.0</td>\n",
       "      <td>3.0</td>\n",
       "      <td>1.0</td>\n",
       "      <td>107.0</td>\n",
       "      <td>762.0</td>\n",
       "      <td>1.0</td>\n",
       "      <td>78.0</td>\n",
       "    </tr>\n",
       "    <tr>\n",
       "      <th>3</th>\n",
       "      <td>남</td>\n",
       "      <td>1962.0</td>\n",
       "      <td>1.0</td>\n",
       "      <td>1.0</td>\n",
       "      <td>192.0</td>\n",
       "      <td>855.0</td>\n",
       "      <td>1.0</td>\n",
       "      <td>58.0</td>\n",
       "    </tr>\n",
       "    <tr>\n",
       "      <th>7</th>\n",
       "      <td>여</td>\n",
       "      <td>1934.0</td>\n",
       "      <td>1.0</td>\n",
       "      <td>1.0</td>\n",
       "      <td>27.0</td>\n",
       "      <td>941.0</td>\n",
       "      <td>1.0</td>\n",
       "      <td>86.0</td>\n",
       "    </tr>\n",
       "    <tr>\n",
       "      <th>8</th>\n",
       "      <td>여</td>\n",
       "      <td>1940.0</td>\n",
       "      <td>2.0</td>\n",
       "      <td>1.0</td>\n",
       "      <td>27.0</td>\n",
       "      <td>999.0</td>\n",
       "      <td>2.0</td>\n",
       "      <td>80.0</td>\n",
       "    </tr>\n",
       "    <tr>\n",
       "      <th>14</th>\n",
       "      <td>남</td>\n",
       "      <td>1978.0</td>\n",
       "      <td>1.0</td>\n",
       "      <td>2.0</td>\n",
       "      <td>338.0</td>\n",
       "      <td>312.0</td>\n",
       "      <td>1.0</td>\n",
       "      <td>42.0</td>\n",
       "    </tr>\n",
       "  </tbody>\n",
       "</table>\n",
       "</div>"
      ],
      "text/plain": [
       "   성별   태어난연도  혼인상태   종교     월급   직업코드  지역코드    나이\n",
       "2   남  1942.0   3.0  1.0  107.0  762.0   1.0  78.0\n",
       "3   남  1962.0   1.0  1.0  192.0  855.0   1.0  58.0\n",
       "7   여  1934.0   1.0  1.0   27.0  941.0   1.0  86.0\n",
       "8   여  1940.0   2.0  1.0   27.0  999.0   2.0  80.0\n",
       "14  남  1978.0   1.0  2.0  338.0  312.0   1.0  42.0"
      ]
     },
     "execution_count": 144,
     "metadata": {},
     "output_type": "execute_result"
    }
   ],
   "source": [
    "ex_three=ex_two.copy()\n",
    "ex_three.head()"
   ]
  },
  {
   "cell_type": "code",
   "execution_count": 148,
   "id": "1f748ab5-d949-47fe-9639-ecd19427febd",
   "metadata": {},
   "outputs": [
    {
     "data": {
      "text/plain": [
       "연령대\n",
       "노년    1093\n",
       "중년    2927\n",
       "초년     514\n",
       "Name: count, dtype: int64"
      ]
     },
     "execution_count": 148,
     "metadata": {},
     "output_type": "execute_result"
    }
   ],
   "source": [
    "# 연령대 변수 만들기 - 초년(30세 미만) / 중년(30 ~ 56세) / 노년(60세 이상)\n",
    "\n",
    "ex_three['연령대']=np.where(ex_three['나이'] < 30, '초년', \n",
    "                        np.where(ex_three['나이'] <= 59, '중년', '노년'))\n",
    "ex_three['연령대'].value_counts().sort_index()"
   ]
  },
  {
   "cell_type": "code",
   "execution_count": 150,
   "id": "72f573b1-c4de-4f54-bc06-887cb6085dbe",
   "metadata": {},
   "outputs": [
    {
     "data": {
      "text/plain": [
       "<Axes: xlabel='연령대', ylabel='count'>"
      ]
     },
     "execution_count": 150,
     "metadata": {},
     "output_type": "execute_result"
    },
    {
     "data": {
      "image/png": "[encoded data removed]",
      "text/plain": [
       "<Figure size 640x480 with 1 Axes>"
      ]
     },
     "metadata": {},
     "output_type": "display_data"
    }
   ],
   "source": [
    "sns.countplot(data=ex_three, x='연령대')"
   ]
  },
  {
   "cell_type": "markdown",
   "id": "0e8fe395-14d3-408a-88f2-ffd2839a557d",
   "metadata": {},
   "source": [
    "### 월급 변수 검토\n",
    "- 월급 전처리 1.2.2  참조"
   ]
  },
  {
   "cell_type": "markdown",
   "id": "d8f45e0f-a408-4a76-a531-1211087628c8",
   "metadata": {},
   "source": [
    "### 연령대와 월급의 관계 분석 - 어떤 연령대의 월급이 가장 많을까?\n",
    "- 데이터 요약\n",
    "- 시각화"
   ]
  },
  {
   "cell_type": "code",
   "execution_count": 154,
   "id": "c9814848-4805-4da7-a009-efba88143e7d",
   "metadata": {},
   "outputs": [
    {
     "data": {
      "text/plain": [
       "<Axes: xlabel='연령대', ylabel='월급'>"
      ]
     },
     "execution_count": 154,
     "metadata": {},
     "output_type": "execute_result"
    },
    {
     "data": {
      "image/png": "[encoded data removed]",
      "text/plain": [
       "<Figure size 640x480 with 1 Axes>"
      ]
     },
     "metadata": {},
     "output_type": "display_data"
    }
   ],
   "source": [
    "sns.barplot(data=ex_three, x='연령대', y='월급')"
   ]
  },
  {
   "cell_type": "code",
   "execution_count": 158,
   "id": "1f76aa04-f43d-44c1-8c9b-26ed0185236d",
   "metadata": {},
   "outputs": [
    {
     "data": {
      "text/html": [
       "<div>\n",
       "<style scoped>\n",
       "    .dataframe tbody tr th:only-of-type {\n",
       "        vertical-align: middle;\n",
       "    }\n",
       "\n",
       "    .dataframe tbody tr th {\n",
       "        vertical-align: top;\n",
       "    }\n",
       "\n",
       "    .dataframe thead th {\n",
       "        text-align: right;\n",
       "    }\n",
       "</style>\n",
       "<table border=\"1\" class=\"dataframe\">\n",
       "  <thead>\n",
       "    <tr style=\"text-align: right;\">\n",
       "      <th></th>\n",
       "      <th>연령대</th>\n",
       "      <th>연령대평균월급</th>\n",
       "    </tr>\n",
       "  </thead>\n",
       "  <tbody>\n",
       "    <tr>\n",
       "      <th>0</th>\n",
       "      <td>노년</td>\n",
       "      <td>140.129003</td>\n",
       "    </tr>\n",
       "    <tr>\n",
       "      <th>1</th>\n",
       "      <td>중년</td>\n",
       "      <td>329.157157</td>\n",
       "    </tr>\n",
       "    <tr>\n",
       "      <th>2</th>\n",
       "      <td>초년</td>\n",
       "      <td>195.663424</td>\n",
       "    </tr>\n",
       "  </tbody>\n",
       "</table>\n",
       "</div>"
      ],
      "text/plain": [
       "  연령대     연령대평균월급\n",
       "0  노년  140.129003\n",
       "1  중년  329.157157\n",
       "2  초년  195.663424"
      ]
     },
     "execution_count": 158,
     "metadata": {},
     "output_type": "execute_result"
    }
   ],
   "source": [
    "result=ex_three.groupby('연령대')['월급'].mean().reset_index(name=\"연령대평균월급\")\n",
    "result                                                     "
   ]
  },
  {
   "cell_type": "markdown",
   "id": "d6c250bc-9c77-4160-96dd-db7079446954",
   "metadata": {},
   "source": [
    "### 통계적 가설 검증\n",
    "- 연령에 따른 월급 차이 - 연령의 따라 월급이 다를까?\n",
    "- 다변수 : X 문자형 / Y 숫자형\n",
    "- 가설\n",
    "   - 귀무가설 : 연령대간 월급의 차이가 없다.\n",
    "   - 대립(연구가설) : 연령대간 월급의 차이가 있다.\n",
    "- 분석결과(Kruskal Willis Test)\n",
    "   - 통계적 분석 결과 연령대간 월급의 차이가 있다. (통계량:1154.8, p < 0.05)"
   ]
  },
  {
   "cell_type": "code",
   "execution_count": 164,
   "id": "151fd35a-6024-4451-ac86-228391c972d4",
   "metadata": {},
   "outputs": [
    {
     "data": {
      "text/plain": [
       "NormaltestResult(statistic=1657.4427188351524, pvalue=0.0)"
      ]
     },
     "execution_count": 164,
     "metadata": {},
     "output_type": "execute_result"
    }
   ],
   "source": [
    "stats.normaltest(ex_three['월급'])"
   ]
  },
  {
   "cell_type": "code",
   "execution_count": 166,
   "id": "84191c38-6c72-4683-af08-f4a621554e53",
   "metadata": {},
   "outputs": [
    {
     "data": {
      "text/plain": [
       "((1093, 9), (2927, 9), (514, 9))"
      ]
     },
     "execution_count": 166,
     "metadata": {},
     "output_type": "execute_result"
    }
   ],
   "source": [
    "# 비정규 >> 3집단 >> Kruskal Willis Test\n",
    "\n",
    "x=ex_three[ex_three['연령대'] == '노년']\n",
    "y=ex_three[ex_three['연령대'] == '중년']\n",
    "z=ex_three[ex_three['연령대'] == '초년']\n",
    "x.shape, y.shape, z.shape"
   ]
  },
  {
   "cell_type": "code",
   "execution_count": 168,
   "id": "9fabdb2a-b533-4c97-8189-994250563d45",
   "metadata": {},
   "outputs": [
    {
     "data": {
      "text/plain": [
       "KruskalResult(statistic=1154.8545662293197, pvalue=1.6846793127448966e-251)"
      ]
     },
     "execution_count": 168,
     "metadata": {},
     "output_type": "execute_result"
    }
   ],
   "source": [
    "stats.kruskal(x['월급'], y['월급'], z['월급'])\n",
    "\n",
    "# 대림가설 참, 연령대별 월급의 차이가 있다."
   ]
  },
  {
   "cell_type": "code",
   "execution_count": 171,
   "id": "7463276f-d33c-4f60-b9d1-e8df0384cdeb",
   "metadata": {},
   "outputs": [],
   "source": [
    "ex_three.to_csv('./data/pandas/project/ex_three.csv', index=False)"
   ]
  },
  {
   "cell_type": "markdown",
   "id": "c659cbd9-2176-43a7-a7e6-104e668a9051",
   "metadata": {},
   "source": [
    "## 연령대별 성별 월급 차이 - 성별 월급 차이는 연령대별로 다를까?\n",
    "### 변수 검토 및 전처리\n",
    "- 연령대(1-4-1), 성별(1-2-1), 월급(1-2-2) 전처리 참조"
   ]
  },
  {
   "cell_type": "code",
   "execution_count": 8,
   "id": "cddf3465-fe53-4034-b12c-cda427f4a0c2",
   "metadata": {},
   "outputs": [
    {
     "data": {
      "text/html": [
       "<div>\n",
       "<style scoped>\n",
       "    .dataframe tbody tr th:only-of-type {\n",
       "        vertical-align: middle;\n",
       "    }\n",
       "\n",
       "    .dataframe tbody tr th {\n",
       "        vertical-align: top;\n",
       "    }\n",
       "\n",
       "    .dataframe thead th {\n",
       "        text-align: right;\n",
       "    }\n",
       "</style>\n",
       "<table border=\"1\" class=\"dataframe\">\n",
       "  <thead>\n",
       "    <tr style=\"text-align: right;\">\n",
       "      <th></th>\n",
       "      <th>Unnamed: 0</th>\n",
       "      <th>성별</th>\n",
       "      <th>태어난연도</th>\n",
       "      <th>혼인상태</th>\n",
       "      <th>종교</th>\n",
       "      <th>월급</th>\n",
       "      <th>직업코드</th>\n",
       "      <th>지역코드</th>\n",
       "      <th>나이</th>\n",
       "      <th>연령대</th>\n",
       "    </tr>\n",
       "  </thead>\n",
       "  <tbody>\n",
       "    <tr>\n",
       "      <th>0</th>\n",
       "      <td>2</td>\n",
       "      <td>남</td>\n",
       "      <td>1942.0</td>\n",
       "      <td>3.0</td>\n",
       "      <td>1.0</td>\n",
       "      <td>107.0</td>\n",
       "      <td>762.0</td>\n",
       "      <td>1.0</td>\n",
       "      <td>78.0</td>\n",
       "      <td>노년</td>\n",
       "    </tr>\n",
       "    <tr>\n",
       "      <th>1</th>\n",
       "      <td>3</td>\n",
       "      <td>남</td>\n",
       "      <td>1962.0</td>\n",
       "      <td>1.0</td>\n",
       "      <td>1.0</td>\n",
       "      <td>192.0</td>\n",
       "      <td>855.0</td>\n",
       "      <td>1.0</td>\n",
       "      <td>58.0</td>\n",
       "      <td>중년</td>\n",
       "    </tr>\n",
       "  </tbody>\n",
       "</table>\n",
       "</div>"
      ],
      "text/plain": [
       "   Unnamed: 0 성별   태어난연도  혼인상태   종교     월급   직업코드  지역코드    나이 연령대\n",
       "0           2  남  1942.0   3.0  1.0  107.0  762.0   1.0  78.0  노년\n",
       "1           3  남  1962.0   1.0  1.0  192.0  855.0   1.0  58.0  중년"
      ]
     },
     "execution_count": 8,
     "metadata": {},
     "output_type": "execute_result"
    }
   ],
   "source": [
    "ex_four=pd.read_csv('./data/pandas/project/ex_three.csv')\n",
    "ex_four.head(2)"
   ]
  },
  {
   "cell_type": "markdown",
   "id": "6fc4738d-6b38-403d-8c14-454a22d2cfb9",
   "metadata": {},
   "source": [
    "### 분석 및 결과\n",
    "- 시각화 : X(문자) / Y(숫자)\n",
    "- 데이터 요약 "
   ]
  },
  {
   "cell_type": "code",
   "execution_count": 15,
   "id": "6e6389ed-146b-408e-8d7e-f4cab581d620",
   "metadata": {},
   "outputs": [
    {
     "data": {
      "text/plain": [
       "<Axes: xlabel='연령대', ylabel='월급'>"
      ]
     },
     "execution_count": 15,
     "metadata": {},
     "output_type": "execute_result"
    },
    {
     "data": {
      "image/png": "[encoded data removed]",
      "text/plain": [
       "<Figure size 640x480 with 1 Axes>"
      ]
     },
     "metadata": {},
     "output_type": "display_data"
    }
   ],
   "source": [
    "sns.barplot(data=ex_four, x='연령대', y='월급', hue='성별', order=['초년', '중년', '노년'])"
   ]
  },
  {
   "cell_type": "markdown",
   "id": "3fcc0750-f922-4955-8e0c-90a646cbc3fd",
   "metadata": {},
   "source": [
    "- 통계적 가설 검증(모집단)\n",
    "- 귀무가설 : 성별 월급 차이는 연령대별로 없다.\n",
    "- 대립(연구)가설 : 성별 월급 차이는 연령대별로 있다.\n",
    "- 월급 >> 비정규성 >> 3집단 이상 Kruskal Wills Test"
   ]
  },
  {
   "cell_type": "code",
   "execution_count": 22,
   "id": "4c0b72a7-339a-4f94-aed2-b9798571080f",
   "metadata": {},
   "outputs": [
    {
     "data": {
      "text/plain": [
       "KruskalResult(statistic=2104.3728897890423, pvalue=0.0)"
      ]
     },
     "execution_count": 22,
     "metadata": {},
     "output_type": "execute_result"
    }
   ],
   "source": [
    "m=ex_four[ex_four['성별']=='남']\n",
    "f=ex_four[ex_four['성별']=='여']\n",
    "\n",
    "o=ex_four[ex_four['연령대']=='노년']\n",
    "y=ex_four[ex_four['연령대']=='중년']\n",
    "b=ex_four[ex_four['연령대']=='초년']\n",
    "\n",
    "stats.kruskal(m['월급'], f['월급'], o['월급'], y['월급'], b['월급'])\n",
    "\n",
    "# 통계적(Kruskal Wills Test) 결론 : \n",
    "# 통계적으로 성별 월급차이는 연령대별로 차이가 있다. (통계량 2104.3, p < 0.05)"
   ]
  },
  {
   "cell_type": "markdown",
   "id": "70d2639b-2e2e-4733-8fae-c24bed777b3d",
   "metadata": {},
   "source": [
    "## 직업별 월급 차이 - 어떤 직업이 월급을 가장 많이 받을까?\n",
    "### 직업 변수 검토 및 전처리\n",
    "- 직업코드 변수와 코드북의 직업분류코드 병합"
   ]
  },
  {
   "cell_type": "code",
   "execution_count": 61,
   "id": "5f558995-032f-4432-83d3-34de802c4701",
   "metadata": {},
   "outputs": [
    {
     "data": {
      "text/plain": [
       "(14418, 7)"
      ]
     },
     "execution_count": 61,
     "metadata": {},
     "output_type": "execute_result"
    }
   ],
   "source": [
    "person=pd.read_csv('./data/pandas/project/person.csv')\n",
    "ex_five=person.copy()\n",
    "ex_five.shape"
   ]
  },
  {
   "cell_type": "code",
   "execution_count": 63,
   "id": "26ba9d14-0d5b-4577-95db-a5445b75f65a",
   "metadata": {},
   "outputs": [
    {
     "data": {
      "text/html": [
       "<div>\n",
       "<style scoped>\n",
       "    .dataframe tbody tr th:only-of-type {\n",
       "        vertical-align: middle;\n",
       "    }\n",
       "\n",
       "    .dataframe tbody tr th {\n",
       "        vertical-align: top;\n",
       "    }\n",
       "\n",
       "    .dataframe thead th {\n",
       "        text-align: right;\n",
       "    }\n",
       "</style>\n",
       "<table border=\"1\" class=\"dataframe\">\n",
       "  <thead>\n",
       "    <tr style=\"text-align: right;\">\n",
       "      <th></th>\n",
       "      <th>성별</th>\n",
       "      <th>태어난연도</th>\n",
       "      <th>혼인상태</th>\n",
       "      <th>종교</th>\n",
       "      <th>월급</th>\n",
       "      <th>직업코드</th>\n",
       "      <th>지역코드</th>\n",
       "    </tr>\n",
       "  </thead>\n",
       "  <tbody>\n",
       "    <tr>\n",
       "      <th>0</th>\n",
       "      <td>2.0</td>\n",
       "      <td>1945.0</td>\n",
       "      <td>2.0</td>\n",
       "      <td>1.0</td>\n",
       "      <td>NaN</td>\n",
       "      <td>NaN</td>\n",
       "      <td>1.0</td>\n",
       "    </tr>\n",
       "    <tr>\n",
       "      <th>1</th>\n",
       "      <td>1.0</td>\n",
       "      <td>1948.0</td>\n",
       "      <td>2.0</td>\n",
       "      <td>2.0</td>\n",
       "      <td>NaN</td>\n",
       "      <td>NaN</td>\n",
       "      <td>1.0</td>\n",
       "    </tr>\n",
       "  </tbody>\n",
       "</table>\n",
       "</div>"
      ],
      "text/plain": [
       "    성별   태어난연도  혼인상태   종교  월급  직업코드  지역코드\n",
       "0  2.0  1945.0   2.0  1.0 NaN   NaN   1.0\n",
       "1  1.0  1948.0   2.0  2.0 NaN   NaN   1.0"
      ]
     },
     "execution_count": 63,
     "metadata": {},
     "output_type": "execute_result"
    }
   ],
   "source": [
    "ex_five.head(2)"
   ]
  },
  {
   "cell_type": "code",
   "execution_count": 65,
   "id": "f2bf095b-a573-452b-aaab-8d85c070fc51",
   "metadata": {},
   "outputs": [
    {
     "name": "stdout",
     "output_type": "stream",
     "text": [
      "<class 'pandas.core.frame.DataFrame'>\n",
      "RangeIndex: 14418 entries, 0 to 14417\n",
      "Data columns (total 7 columns):\n",
      " #   Column  Non-Null Count  Dtype  \n",
      "---  ------  --------------  -----  \n",
      " 0   성별      14418 non-null  float64\n",
      " 1   태어난연도   14418 non-null  float64\n",
      " 2   혼인상태    14418 non-null  float64\n",
      " 3   종교      14418 non-null  float64\n",
      " 4   월급      4534 non-null   float64\n",
      " 5   직업코드    6878 non-null   float64\n",
      " 6   지역코드    14418 non-null  float64\n",
      "dtypes: float64(7)\n",
      "memory usage: 788.6 KB\n"
     ]
    }
   ],
   "source": [
    "ex_five.info()"
   ]
  },
  {
   "cell_type": "code",
   "execution_count": 67,
   "id": "5a63381d-a18a-4cc3-bf67-58fff161093c",
   "metadata": {},
   "outputs": [
    {
     "data": {
      "text/plain": [
       "직업코드\n",
       "611.0    962\n",
       "941.0    391\n",
       "521.0    354\n",
       "312.0    275\n",
       "873.0    236\n",
       "        ... \n",
       "112.0      2\n",
       "784.0      2\n",
       "423.0      1\n",
       "861.0      1\n",
       "872.0      1\n",
       "Name: count, Length: 150, dtype: int64"
      ]
     },
     "execution_count": 67,
     "metadata": {},
     "output_type": "execute_result"
    }
   ],
   "source": [
    "ex_five['직업코드'].value_counts()"
   ]
  },
  {
   "cell_type": "markdown",
   "id": "d2a99ec7-58aa-4fc0-b30d-dc1ae81f746e",
   "metadata": {},
   "source": [
    "### 코드북의 직업분류코드"
   ]
  },
  {
   "cell_type": "code",
   "execution_count": 70,
   "id": "20fe5d37-f9f6-4d3d-97d4-c9e21eb10d8a",
   "metadata": {},
   "outputs": [
    {
     "data": {
      "text/plain": [
       "(156, 2)"
      ]
     },
     "execution_count": 70,
     "metadata": {},
     "output_type": "execute_result"
    }
   ],
   "source": [
    "job_data=pd.read_excel('./data/pandas/project/Koweps_Codebook_2019.xlsx', sheet_name='직종코드')\n",
    "job_data.shape"
   ]
  },
  {
   "cell_type": "code",
   "execution_count": 72,
   "id": "c5953827-f19c-4ebd-8177-c917c3468bf6",
   "metadata": {},
   "outputs": [
    {
     "data": {
      "text/html": [
       "<div>\n",
       "<style scoped>\n",
       "    .dataframe tbody tr th:only-of-type {\n",
       "        vertical-align: middle;\n",
       "    }\n",
       "\n",
       "    .dataframe tbody tr th {\n",
       "        vertical-align: top;\n",
       "    }\n",
       "\n",
       "    .dataframe thead th {\n",
       "        text-align: right;\n",
       "    }\n",
       "</style>\n",
       "<table border=\"1\" class=\"dataframe\">\n",
       "  <thead>\n",
       "    <tr style=\"text-align: right;\">\n",
       "      <th></th>\n",
       "      <th>code_job</th>\n",
       "      <th>job</th>\n",
       "    </tr>\n",
       "  </thead>\n",
       "  <tbody>\n",
       "    <tr>\n",
       "      <th>0</th>\n",
       "      <td>111</td>\n",
       "      <td>의회 의원∙고위 공무원 및 공공단체 임원</td>\n",
       "    </tr>\n",
       "    <tr>\n",
       "      <th>1</th>\n",
       "      <td>112</td>\n",
       "      <td>기업 고위 임원</td>\n",
       "    </tr>\n",
       "  </tbody>\n",
       "</table>\n",
       "</div>"
      ],
      "text/plain": [
       "   code_job                     job\n",
       "0       111  의회 의원∙고위 공무원 및 공공단체 임원\n",
       "1       112                기업 고위 임원"
      ]
     },
     "execution_count": 72,
     "metadata": {},
     "output_type": "execute_result"
    }
   ],
   "source": [
    "job_data.head(2)"
   ]
  },
  {
   "cell_type": "code",
   "execution_count": 74,
   "id": "d103f379-c638-4057-88b5-0d96b53257e9",
   "metadata": {},
   "outputs": [
    {
     "name": "stdout",
     "output_type": "stream",
     "text": [
      "<class 'pandas.core.frame.DataFrame'>\n",
      "RangeIndex: 156 entries, 0 to 155\n",
      "Data columns (total 2 columns):\n",
      " #   Column    Non-Null Count  Dtype \n",
      "---  ------    --------------  ----- \n",
      " 0   code_job  156 non-null    int64 \n",
      " 1   job       156 non-null    object\n",
      "dtypes: int64(1), object(1)\n",
      "memory usage: 2.6+ KB\n"
     ]
    }
   ],
   "source": [
    "job_data.info()"
   ]
  },
  {
   "cell_type": "code",
   "execution_count": 76,
   "id": "0cb2a16e-d265-4a24-ad5f-7a2172815858",
   "metadata": {},
   "outputs": [
    {
     "data": {
      "text/html": [
       "<div>\n",
       "<style scoped>\n",
       "    .dataframe tbody tr th:only-of-type {\n",
       "        vertical-align: middle;\n",
       "    }\n",
       "\n",
       "    .dataframe tbody tr th {\n",
       "        vertical-align: top;\n",
       "    }\n",
       "\n",
       "    .dataframe thead th {\n",
       "        text-align: right;\n",
       "    }\n",
       "</style>\n",
       "<table border=\"1\" class=\"dataframe\">\n",
       "  <thead>\n",
       "    <tr style=\"text-align: right;\">\n",
       "      <th></th>\n",
       "      <th>직업코드</th>\n",
       "      <th>직무내용</th>\n",
       "    </tr>\n",
       "  </thead>\n",
       "  <tbody>\n",
       "    <tr>\n",
       "      <th>0</th>\n",
       "      <td>111</td>\n",
       "      <td>의회 의원∙고위 공무원 및 공공단체 임원</td>\n",
       "    </tr>\n",
       "    <tr>\n",
       "      <th>1</th>\n",
       "      <td>112</td>\n",
       "      <td>기업 고위 임원</td>\n",
       "    </tr>\n",
       "  </tbody>\n",
       "</table>\n",
       "</div>"
      ],
      "text/plain": [
       "   직업코드                    직무내용\n",
       "0   111  의회 의원∙고위 공무원 및 공공단체 임원\n",
       "1   112                기업 고위 임원"
      ]
     },
     "execution_count": 76,
     "metadata": {},
     "output_type": "execute_result"
    }
   ],
   "source": [
    "job_list=job_data.rename(columns={'code_job':'직업코드', 'job':'직무내용'})\n",
    "job_list.head(2)"
   ]
  },
  {
   "cell_type": "code",
   "execution_count": 78,
   "id": "cf91652c-2ed7-44e6-98cc-24b344553028",
   "metadata": {},
   "outputs": [],
   "source": [
    "job_list.to_excel('./data/pandas/project/joblist.xlsx', index=False)"
   ]
  },
  {
   "cell_type": "markdown",
   "id": "ee4011cd-da90-4fe2-993d-72babc86a7c0",
   "metadata": {},
   "source": [
    "### 한국복지패널과 직업분류 코드 병합"
   ]
  },
  {
   "cell_type": "code",
   "execution_count": 81,
   "id": "bd966782-1ad7-4173-9ca0-1378a571314c",
   "metadata": {},
   "outputs": [
    {
     "data": {
      "text/html": [
       "<div>\n",
       "<style scoped>\n",
       "    .dataframe tbody tr th:only-of-type {\n",
       "        vertical-align: middle;\n",
       "    }\n",
       "\n",
       "    .dataframe tbody tr th {\n",
       "        vertical-align: top;\n",
       "    }\n",
       "\n",
       "    .dataframe thead th {\n",
       "        text-align: right;\n",
       "    }\n",
       "</style>\n",
       "<table border=\"1\" class=\"dataframe\">\n",
       "  <thead>\n",
       "    <tr style=\"text-align: right;\">\n",
       "      <th></th>\n",
       "      <th>성별</th>\n",
       "      <th>태어난연도</th>\n",
       "      <th>혼인상태</th>\n",
       "      <th>종교</th>\n",
       "      <th>월급</th>\n",
       "      <th>직업코드</th>\n",
       "      <th>지역코드</th>\n",
       "      <th>직무내용</th>\n",
       "    </tr>\n",
       "  </thead>\n",
       "  <tbody>\n",
       "    <tr>\n",
       "      <th>0</th>\n",
       "      <td>1.0</td>\n",
       "      <td>1942.0</td>\n",
       "      <td>3.0</td>\n",
       "      <td>1.0</td>\n",
       "      <td>107.0</td>\n",
       "      <td>762.0</td>\n",
       "      <td>1.0</td>\n",
       "      <td>전기공</td>\n",
       "    </tr>\n",
       "    <tr>\n",
       "      <th>1</th>\n",
       "      <td>1.0</td>\n",
       "      <td>1962.0</td>\n",
       "      <td>1.0</td>\n",
       "      <td>1.0</td>\n",
       "      <td>192.0</td>\n",
       "      <td>855.0</td>\n",
       "      <td>1.0</td>\n",
       "      <td>금속기계 부품 조립원</td>\n",
       "    </tr>\n",
       "    <tr>\n",
       "      <th>2</th>\n",
       "      <td>2.0</td>\n",
       "      <td>1934.0</td>\n",
       "      <td>1.0</td>\n",
       "      <td>1.0</td>\n",
       "      <td>27.0</td>\n",
       "      <td>941.0</td>\n",
       "      <td>1.0</td>\n",
       "      <td>청소원 및 환경미화원</td>\n",
       "    </tr>\n",
       "    <tr>\n",
       "      <th>3</th>\n",
       "      <td>2.0</td>\n",
       "      <td>1940.0</td>\n",
       "      <td>2.0</td>\n",
       "      <td>1.0</td>\n",
       "      <td>27.0</td>\n",
       "      <td>999.0</td>\n",
       "      <td>2.0</td>\n",
       "      <td>기타 서비스 관련 단순 종사자</td>\n",
       "    </tr>\n",
       "    <tr>\n",
       "      <th>4</th>\n",
       "      <td>1.0</td>\n",
       "      <td>1978.0</td>\n",
       "      <td>1.0</td>\n",
       "      <td>2.0</td>\n",
       "      <td>338.0</td>\n",
       "      <td>312.0</td>\n",
       "      <td>1.0</td>\n",
       "      <td>경영 관련 사무원</td>\n",
       "    </tr>\n",
       "  </tbody>\n",
       "</table>\n",
       "</div>"
      ],
      "text/plain": [
       "    성별   태어난연도  혼인상태   종교     월급   직업코드  지역코드              직무내용\n",
       "0  1.0  1942.0   3.0  1.0  107.0  762.0   1.0               전기공\n",
       "1  1.0  1962.0   1.0  1.0  192.0  855.0   1.0       금속기계 부품 조립원\n",
       "2  2.0  1934.0   1.0  1.0   27.0  941.0   1.0       청소원 및 환경미화원\n",
       "3  2.0  1940.0   2.0  1.0   27.0  999.0   2.0  기타 서비스 관련 단순 종사자\n",
       "4  1.0  1978.0   1.0  2.0  338.0  312.0   1.0         경영 관련 사무원"
      ]
     },
     "execution_count": 81,
     "metadata": {},
     "output_type": "execute_result"
    }
   ],
   "source": [
    "ex_five_merage=ex_five.merge(job_list, on='직업코드', how='inner')\n",
    "ex_five_merage.head()"
   ]
  },
  {
   "cell_type": "code",
   "execution_count": 83,
   "id": "064dc6a9-a811-4914-ade7-8e7d9552b7b9",
   "metadata": {},
   "outputs": [
    {
     "name": "stdout",
     "output_type": "stream",
     "text": [
      "<class 'pandas.core.frame.DataFrame'>\n",
      "RangeIndex: 6878 entries, 0 to 6877\n",
      "Data columns (total 8 columns):\n",
      " #   Column  Non-Null Count  Dtype  \n",
      "---  ------  --------------  -----  \n",
      " 0   성별      6878 non-null   float64\n",
      " 1   태어난연도   6878 non-null   float64\n",
      " 2   혼인상태    6878 non-null   float64\n",
      " 3   종교      6878 non-null   float64\n",
      " 4   월급      4534 non-null   float64\n",
      " 5   직업코드    6878 non-null   float64\n",
      " 6   지역코드    6878 non-null   float64\n",
      " 7   직무내용    6878 non-null   object \n",
      "dtypes: float64(7), object(1)\n",
      "memory usage: 430.0+ KB\n"
     ]
    }
   ],
   "source": [
    "ex_five_merage.info()"
   ]
  },
  {
   "cell_type": "code",
   "execution_count": 85,
   "id": "30061d41-f7cb-483a-9d96-02b70e094b52",
   "metadata": {},
   "outputs": [],
   "source": [
    "ex_five_merage.dropna(inplace=True)"
   ]
  },
  {
   "cell_type": "code",
   "execution_count": 87,
   "id": "0bb8f78b-a447-4219-813b-62e3cea83690",
   "metadata": {},
   "outputs": [
    {
     "name": "stdout",
     "output_type": "stream",
     "text": [
      "<class 'pandas.core.frame.DataFrame'>\n",
      "Index: 4534 entries, 0 to 6877\n",
      "Data columns (total 8 columns):\n",
      " #   Column  Non-Null Count  Dtype  \n",
      "---  ------  --------------  -----  \n",
      " 0   성별      4534 non-null   float64\n",
      " 1   태어난연도   4534 non-null   float64\n",
      " 2   혼인상태    4534 non-null   float64\n",
      " 3   종교      4534 non-null   float64\n",
      " 4   월급      4534 non-null   float64\n",
      " 5   직업코드    4534 non-null   float64\n",
      " 6   지역코드    4534 non-null   float64\n",
      " 7   직무내용    4534 non-null   object \n",
      "dtypes: float64(7), object(1)\n",
      "memory usage: 318.8+ KB\n"
     ]
    }
   ],
   "source": [
    "ex_five_merage.info()"
   ]
  },
  {
   "cell_type": "markdown",
   "id": "b8888bfd-72a5-44e3-85f5-aa5d4deada91",
   "metadata": {},
   "source": [
    "### 분석\n",
    "- 직업별 월급 차이 : 어떤 직업이 월급을 가장 많이 받을까?\n",
    "- 시각화\n",
    "- 데이터 요약 - 직업별 월급 평균표"
   ]
  },
  {
   "cell_type": "code",
   "execution_count": 90,
   "id": "42534824-747c-4dba-9dcc-4d237c7ceb10",
   "metadata": {},
   "outputs": [
    {
     "data": {
      "text/plain": [
       "<Axes: xlabel='직무내용', ylabel='월급'>"
      ]
     },
     "execution_count": 90,
     "metadata": {},
     "output_type": "execute_result"
    },
    {
     "data": {
      "image/png": "[encoded data removed]",
      "text/plain": [
       "<Figure size 640x480 with 1 Axes>"
      ]
     },
     "metadata": {},
     "output_type": "display_data"
    }
   ],
   "source": [
    "sns.barplot(data=ex_five_merage, x='직무내용', y='월급')"
   ]
  },
  {
   "cell_type": "code",
   "execution_count": 91,
   "id": "1b7bddb5-95ba-47c3-940e-3159a2b53e57",
   "metadata": {},
   "outputs": [
    {
     "data": {
      "text/html": [
       "<div>\n",
       "<style scoped>\n",
       "    .dataframe tbody tr th:only-of-type {\n",
       "        vertical-align: middle;\n",
       "    }\n",
       "\n",
       "    .dataframe tbody tr th {\n",
       "        vertical-align: top;\n",
       "    }\n",
       "\n",
       "    .dataframe thead th {\n",
       "        text-align: right;\n",
       "    }\n",
       "</style>\n",
       "<table border=\"1\" class=\"dataframe\">\n",
       "  <thead>\n",
       "    <tr style=\"text-align: right;\">\n",
       "      <th></th>\n",
       "      <th>직무내용</th>\n",
       "      <th>직업별평균월급</th>\n",
       "    </tr>\n",
       "  </thead>\n",
       "  <tbody>\n",
       "    <tr>\n",
       "      <th>0</th>\n",
       "      <td>가사 및 육아 도우미</td>\n",
       "      <td>92.455882</td>\n",
       "    </tr>\n",
       "    <tr>\n",
       "      <th>1</th>\n",
       "      <td>간호사</td>\n",
       "      <td>265.219178</td>\n",
       "    </tr>\n",
       "    <tr>\n",
       "      <th>2</th>\n",
       "      <td>감정∙기술영업및중개관련종사자</td>\n",
       "      <td>391.000000</td>\n",
       "    </tr>\n",
       "    <tr>\n",
       "      <th>3</th>\n",
       "      <td>건물 관리원 및 검표원</td>\n",
       "      <td>168.375000</td>\n",
       "    </tr>\n",
       "    <tr>\n",
       "      <th>4</th>\n",
       "      <td>건설 및 광업 단순 종사자</td>\n",
       "      <td>261.975000</td>\n",
       "    </tr>\n",
       "    <tr>\n",
       "      <th>...</th>\n",
       "      <td>...</td>\n",
       "      <td>...</td>\n",
       "    </tr>\n",
       "    <tr>\n",
       "      <th>142</th>\n",
       "      <td>화학∙고무 및 플라스틱 제품 생산기 조작원</td>\n",
       "      <td>452.714286</td>\n",
       "    </tr>\n",
       "    <tr>\n",
       "      <th>143</th>\n",
       "      <td>화학공학 기술자 및 시험원</td>\n",
       "      <td>489.500000</td>\n",
       "    </tr>\n",
       "    <tr>\n",
       "      <th>144</th>\n",
       "      <td>환경∙청소 및 경비 관련 관리자</td>\n",
       "      <td>201.000000</td>\n",
       "    </tr>\n",
       "    <tr>\n",
       "      <th>145</th>\n",
       "      <td>환경공학∙가스·에너지 기술자 및 시험원</td>\n",
       "      <td>511.000000</td>\n",
       "    </tr>\n",
       "    <tr>\n",
       "      <th>146</th>\n",
       "      <td>회계 및 경리 사무원</td>\n",
       "      <td>274.840796</td>\n",
       "    </tr>\n",
       "  </tbody>\n",
       "</table>\n",
       "<p>147 rows × 2 columns</p>\n",
       "</div>"
      ],
      "text/plain": [
       "                        직무내용     직업별평균월급\n",
       "0                가사 및 육아 도우미   92.455882\n",
       "1                        간호사  265.219178\n",
       "2           감정∙기술영업및중개관련종사자   391.000000\n",
       "3               건물 관리원 및 검표원  168.375000\n",
       "4             건설 및 광업 단순 종사자  261.975000\n",
       "..                       ...         ...\n",
       "142  화학∙고무 및 플라스틱 제품 생산기 조작원  452.714286\n",
       "143           화학공학 기술자 및 시험원  489.500000\n",
       "144        환경∙청소 및 경비 관련 관리자  201.000000\n",
       "145    환경공학∙가스·에너지 기술자 및 시험원  511.000000\n",
       "146              회계 및 경리 사무원  274.840796\n",
       "\n",
       "[147 rows x 2 columns]"
      ]
     },
     "execution_count": 91,
     "metadata": {},
     "output_type": "execute_result"
    }
   ],
   "source": [
    "#  직업별 월급 평균표\n",
    "result=ex_five_merage.groupby('직무내용')['월급'].mean().reset_index(name=\"직업별평균월급\")\n",
    "result"
   ]
  },
  {
   "cell_type": "code",
   "execution_count": 92,
   "id": "ab622b0e-97da-46b2-9dde-a2b533df23fa",
   "metadata": {},
   "outputs": [
    {
     "data": {
      "text/plain": [
       "pandas.core.frame.DataFrame"
      ]
     },
     "execution_count": 92,
     "metadata": {},
     "output_type": "execute_result"
    }
   ],
   "source": [
    "type(result)"
   ]
  },
  {
   "cell_type": "code",
   "execution_count": 93,
   "id": "a39858db-fc82-4281-9dfa-0e9a41714862",
   "metadata": {},
   "outputs": [
    {
     "data": {
      "text/html": [
       "<div>\n",
       "<style scoped>\n",
       "    .dataframe tbody tr th:only-of-type {\n",
       "        vertical-align: middle;\n",
       "    }\n",
       "\n",
       "    .dataframe tbody tr th {\n",
       "        vertical-align: top;\n",
       "    }\n",
       "\n",
       "    .dataframe thead th {\n",
       "        text-align: right;\n",
       "    }\n",
       "</style>\n",
       "<table border=\"1\" class=\"dataframe\">\n",
       "  <thead>\n",
       "    <tr style=\"text-align: right;\">\n",
       "      <th></th>\n",
       "      <th>직무내용</th>\n",
       "      <th>직업별평균월급</th>\n",
       "    </tr>\n",
       "  </thead>\n",
       "  <tbody>\n",
       "    <tr>\n",
       "      <th>98</th>\n",
       "      <td>의료 진료 전문가</td>\n",
       "      <td>781.000000</td>\n",
       "    </tr>\n",
       "    <tr>\n",
       "      <th>60</th>\n",
       "      <td>법률 전문가</td>\n",
       "      <td>776.333333</td>\n",
       "    </tr>\n",
       "    <tr>\n",
       "      <th>140</th>\n",
       "      <td>행정 및 경영 지원 관리자</td>\n",
       "      <td>771.833333</td>\n",
       "    </tr>\n",
       "    <tr>\n",
       "      <th>63</th>\n",
       "      <td>보험 및 금융 관리자</td>\n",
       "      <td>734.750000</td>\n",
       "    </tr>\n",
       "    <tr>\n",
       "      <th>110</th>\n",
       "      <td>재활용 처리 및 소각로 조작원</td>\n",
       "      <td>688.000000</td>\n",
       "    </tr>\n",
       "    <tr>\n",
       "      <th>131</th>\n",
       "      <td>컴퓨터 하드웨어 및 통신공학 전문가</td>\n",
       "      <td>679.444444</td>\n",
       "    </tr>\n",
       "    <tr>\n",
       "      <th>24</th>\n",
       "      <td>기계∙로봇공학 기술자 및 시험원</td>\n",
       "      <td>669.166667</td>\n",
       "    </tr>\n",
       "    <tr>\n",
       "      <th>6</th>\n",
       "      <td>건설∙전기 및 생산 관련 관리자</td>\n",
       "      <td>603.083333</td>\n",
       "    </tr>\n",
       "    <tr>\n",
       "      <th>120</th>\n",
       "      <td>제관원 및 판금원</td>\n",
       "      <td>597.000000</td>\n",
       "    </tr>\n",
       "    <tr>\n",
       "      <th>100</th>\n",
       "      <td>의회 의원∙고위 공무원 및 공공단체 임원</td>\n",
       "      <td>580.500000</td>\n",
       "    </tr>\n",
       "  </tbody>\n",
       "</table>\n",
       "</div>"
      ],
      "text/plain": [
       "                       직무내용     직업별평균월급\n",
       "98                의료 진료 전문가  781.000000\n",
       "60                   법률 전문가  776.333333\n",
       "140          행정 및 경영 지원 관리자  771.833333\n",
       "63              보험 및 금융 관리자  734.750000\n",
       "110        재활용 처리 및 소각로 조작원  688.000000\n",
       "131     컴퓨터 하드웨어 및 통신공학 전문가  679.444444\n",
       "24        기계∙로봇공학 기술자 및 시험원  669.166667\n",
       "6         건설∙전기 및 생산 관련 관리자  603.083333\n",
       "120               제관원 및 판금원  597.000000\n",
       "100  의회 의원∙고위 공무원 및 공공단체 임원  580.500000"
      ]
     },
     "execution_count": 93,
     "metadata": {},
     "output_type": "execute_result"
    }
   ],
   "source": [
    "# 상위 10개 추출\n",
    "top10=result.sort_values('직업별평균월급', ascending=False).head(10)\n",
    "top10"
   ]
  },
  {
   "cell_type": "code",
   "execution_count": 94,
   "id": "26a74e05-60aa-4333-9eb2-f107b9a54758",
   "metadata": {},
   "outputs": [
    {
     "data": {
      "text/plain": [
       "<Axes: xlabel='직업별평균월급', ylabel='직무내용'>"
      ]
     },
     "execution_count": 94,
     "metadata": {},
     "output_type": "execute_result"
    },
    {
     "data": {
      "image/png": "[encoded data removed]",
      "text/plain": [
       "<Figure size 640x480 with 1 Axes>"
      ]
     },
     "metadata": {},
     "output_type": "display_data"
    }
   ],
   "source": [
    "sns.barplot(data=top10, y='직무내용', x='직업별평균월급')"
   ]
  },
  {
   "cell_type": "code",
   "execution_count": 95,
   "id": "9c278286-03e0-49ef-8e9d-9e756cfb1110",
   "metadata": {},
   "outputs": [
    {
     "data": {
      "text/html": [
       "<div>\n",
       "<style scoped>\n",
       "    .dataframe tbody tr th:only-of-type {\n",
       "        vertical-align: middle;\n",
       "    }\n",
       "\n",
       "    .dataframe tbody tr th {\n",
       "        vertical-align: top;\n",
       "    }\n",
       "\n",
       "    .dataframe thead th {\n",
       "        text-align: right;\n",
       "    }\n",
       "</style>\n",
       "<table border=\"1\" class=\"dataframe\">\n",
       "  <thead>\n",
       "    <tr style=\"text-align: right;\">\n",
       "      <th></th>\n",
       "      <th>직무내용</th>\n",
       "      <th>직업별평균월급</th>\n",
       "    </tr>\n",
       "  </thead>\n",
       "  <tbody>\n",
       "    <tr>\n",
       "      <th>33</th>\n",
       "      <td>기타 돌봄∙보건 및 개인 생활 서비스 종사자</td>\n",
       "      <td>73.964286</td>\n",
       "    </tr>\n",
       "    <tr>\n",
       "      <th>34</th>\n",
       "      <td>기타 서비스 관련 단순 종사자</td>\n",
       "      <td>77.789474</td>\n",
       "    </tr>\n",
       "    <tr>\n",
       "      <th>128</th>\n",
       "      <td>청소원 및 환경미화원</td>\n",
       "      <td>88.461756</td>\n",
       "    </tr>\n",
       "    <tr>\n",
       "      <th>0</th>\n",
       "      <td>가사 및 육아 도우미</td>\n",
       "      <td>92.455882</td>\n",
       "    </tr>\n",
       "    <tr>\n",
       "      <th>43</th>\n",
       "      <td>돌봄 및 보건 서비스 종사자</td>\n",
       "      <td>117.162338</td>\n",
       "    </tr>\n",
       "    <tr>\n",
       "      <th>97</th>\n",
       "      <td>음식 관련 단순 종사자</td>\n",
       "      <td>118.187500</td>\n",
       "    </tr>\n",
       "    <tr>\n",
       "      <th>39</th>\n",
       "      <td>농림∙어업 관련 단순 종사자</td>\n",
       "      <td>122.625000</td>\n",
       "    </tr>\n",
       "    <tr>\n",
       "      <th>139</th>\n",
       "      <td>학예사∙사서 및 기록물 관리사</td>\n",
       "      <td>140.000000</td>\n",
       "    </tr>\n",
       "    <tr>\n",
       "      <th>126</th>\n",
       "      <td>채굴 및 토목 관련 기능 종사자</td>\n",
       "      <td>140.000000</td>\n",
       "    </tr>\n",
       "    <tr>\n",
       "      <th>135</th>\n",
       "      <td>판매 관련 단순 종사자</td>\n",
       "      <td>140.909091</td>\n",
       "    </tr>\n",
       "  </tbody>\n",
       "</table>\n",
       "</div>"
      ],
      "text/plain": [
       "                         직무내용     직업별평균월급\n",
       "33   기타 돌봄∙보건 및 개인 생활 서비스 종사자   73.964286\n",
       "34           기타 서비스 관련 단순 종사자   77.789474\n",
       "128               청소원 및 환경미화원   88.461756\n",
       "0                 가사 및 육아 도우미   92.455882\n",
       "43            돌봄 및 보건 서비스 종사자  117.162338\n",
       "97               음식 관련 단순 종사자  118.187500\n",
       "39            농림∙어업 관련 단순 종사자  122.625000\n",
       "139          학예사∙사서 및 기록물 관리사  140.000000\n",
       "126         채굴 및 토목 관련 기능 종사자  140.000000\n",
       "135              판매 관련 단순 종사자  140.909091"
      ]
     },
     "execution_count": 95,
     "metadata": {},
     "output_type": "execute_result"
    }
   ],
   "source": [
    "# 하위 10\n",
    "bottom10=result.sort_values('직업별평균월급').head(10)\n",
    "bottom10"
   ]
  },
  {
   "cell_type": "code",
   "execution_count": 96,
   "id": "9e2ebce9-371e-4c60-a553-b794b505d258",
   "metadata": {},
   "outputs": [
    {
     "data": {
      "text/plain": [
       "<Axes: xlabel='직업별평균월급', ylabel='직무내용'>"
      ]
     },
     "execution_count": 96,
     "metadata": {},
     "output_type": "execute_result"
    },
    {
     "data": {
      "image/png": "[encoded data removed]",
      "text/plain": [
       "<Figure size 640x480 with 1 Axes>"
      ]
     },
     "metadata": {},
     "output_type": "display_data"
    }
   ],
   "source": [
    "sns.barplot(data=bottom10,  y='직무내용', x='직업별평균월급')"
   ]
  },
  {
   "cell_type": "markdown",
   "id": "f7758263-f39b-451e-ba97-f56685d8acee",
   "metadata": {},
   "source": [
    "### 통계적 가설 검증\n",
    "- 직업별 월급 차이가 없다 / 있다\n",
    "- 비정규성 >> 3집단 이상  Kruskal Wills Test\n",
    "- 분석결과(Kruskal Wills Test) : 통계적으로 직업별 월급 차이가 있다. / 통계량 2504.6, p < 0.05"
   ]
  },
  {
   "cell_type": "code",
   "execution_count": 98,
   "id": "63258051-6b3e-4d11-86f5-1ea5dc308ed5",
   "metadata": {},
   "outputs": [],
   "source": [
    "# ex_five_merage['직무내용'].unique()"
   ]
  },
  {
   "cell_type": "code",
   "execution_count": 99,
   "id": "79bfe034-5735-4a3c-ac56-5add379dec72",
   "metadata": {},
   "outputs": [
    {
     "data": {
      "text/plain": [
       "147"
      ]
     },
     "execution_count": 99,
     "metadata": {},
     "output_type": "execute_result"
    }
   ],
   "source": [
    "job_gropus=[]\n",
    "\n",
    "for job in ex_five_merage['직무내용'].unique():\n",
    "\n",
    "    job_salary=ex_five_merage[ex_five_merage['직무내용'] == job]['월급']\n",
    "    \n",
    "    # print(job, job_salary)\n",
    "    job_gropus.append(job_salary)\n",
    "\n",
    "len(job_gropus)\n",
    "# job_gropus"
   ]
  },
  {
   "cell_type": "code",
   "execution_count": 100,
   "id": "d13b3fc8-847d-4359-82b2-ce4f1bbb479e",
   "metadata": {},
   "outputs": [
    {
     "data": {
      "text/plain": [
       "KruskalResult(statistic=2504.604573255475, pvalue=0.0)"
      ]
     },
     "execution_count": 100,
     "metadata": {},
     "output_type": "execute_result"
    }
   ],
   "source": [
    "stats.kruskal(*job_gropus)   # 0보건['월급'], 1강사['월급']\n",
    "\n",
    "# * : 리스트 튜플과 같은 반복 가능한 객체를 개별 인자로 전달"
   ]
  },
  {
   "cell_type": "markdown",
   "id": "6811af58-af0c-4cb5-a77e-d9dba15ad138",
   "metadata": {},
   "source": [
    "## 성별 직업 빈도 - 성별로 어떤 직업이 가장 많을까?\n",
    "### 전처리\n",
    "- 성별, 직업코드, 직무내용"
   ]
  },
  {
   "cell_type": "code",
   "execution_count": 102,
   "id": "db6f9a08-d30f-4496-b532-4cc23ddcba91",
   "metadata": {},
   "outputs": [
    {
     "data": {
      "text/html": [
       "<div>\n",
       "<style scoped>\n",
       "    .dataframe tbody tr th:only-of-type {\n",
       "        vertical-align: middle;\n",
       "    }\n",
       "\n",
       "    .dataframe tbody tr th {\n",
       "        vertical-align: top;\n",
       "    }\n",
       "\n",
       "    .dataframe thead th {\n",
       "        text-align: right;\n",
       "    }\n",
       "</style>\n",
       "<table border=\"1\" class=\"dataframe\">\n",
       "  <thead>\n",
       "    <tr style=\"text-align: right;\">\n",
       "      <th></th>\n",
       "      <th>성별</th>\n",
       "      <th>직업코드</th>\n",
       "      <th>직무내용</th>\n",
       "    </tr>\n",
       "  </thead>\n",
       "  <tbody>\n",
       "    <tr>\n",
       "      <th>0</th>\n",
       "      <td>1.0</td>\n",
       "      <td>762.0</td>\n",
       "      <td>전기공</td>\n",
       "    </tr>\n",
       "    <tr>\n",
       "      <th>1</th>\n",
       "      <td>1.0</td>\n",
       "      <td>855.0</td>\n",
       "      <td>금속기계 부품 조립원</td>\n",
       "    </tr>\n",
       "  </tbody>\n",
       "</table>\n",
       "</div>"
      ],
      "text/plain": [
       "    성별   직업코드         직무내용\n",
       "0  1.0  762.0          전기공\n",
       "1  1.0  855.0  금속기계 부품 조립원"
      ]
     },
     "execution_count": 102,
     "metadata": {},
     "output_type": "execute_result"
    }
   ],
   "source": [
    "ex_six_imsi=ex_five_merage[['성별', '직업코드', '직무내용']]\n",
    "ex_six_imsi.head(2)"
   ]
  },
  {
   "cell_type": "code",
   "execution_count": 107,
   "id": "b9eb4382-89ca-4b8b-8134-fdbcafb8e907",
   "metadata": {},
   "outputs": [
    {
     "data": {
      "text/plain": [
       "성별\n",
       "남    2289\n",
       "여    2245\n",
       "Name: count, dtype: int64"
      ]
     },
     "execution_count": 107,
     "metadata": {},
     "output_type": "execute_result"
    }
   ],
   "source": [
    "ex_six=ex_six_imsi.copy()\n",
    "ex_six['성별']=np.where(ex_six['성별']==1.0, '남', '여')\n",
    "ex_six['성별'].value_counts()"
   ]
  },
  {
   "cell_type": "code",
   "execution_count": 115,
   "id": "d4b4e099-57f8-4eb9-b8cd-1438d361a38e",
   "metadata": {},
   "outputs": [
    {
     "data": {
      "text/plain": [
       "직무내용\n",
       "경영 관련 사무원           212\n",
       "자동차 운전원             114\n",
       "청소원 및 환경미화원          92\n",
       "영업 종사자               91\n",
       "건물 관리원 및 검표원         78\n",
       "행정 사무원               74\n",
       "제조 관련 단순 종사자         69\n",
       "매장 판매 종사자            60\n",
       "전기∙전자기기 설치 및 수리원     52\n",
       "배달원                  52\n",
       "Name: count, dtype: int64"
      ]
     },
     "execution_count": 115,
     "metadata": {},
     "output_type": "execute_result"
    }
   ],
   "source": [
    "# 남성의 직업빈도수\n",
    "male=ex_six[ex_six['성별'] == '남']\n",
    "male_count=male['직무내용'].value_counts().head(10)\n",
    "male_count"
   ]
  },
  {
   "cell_type": "code",
   "execution_count": 116,
   "id": "807f6b5c-f3a9-4eb2-98a9-24fce51c5f79",
   "metadata": {},
   "outputs": [
    {
     "data": {
      "text/plain": [
       "Text(0.5, 0, '인원수')"
      ]
     },
     "execution_count": 116,
     "metadata": {},
     "output_type": "execute_result"
    },
    {
     "data": {
      "image/png": "[encoded data removed]",
      "text/plain": [
       "<Figure size 640x480 with 1 Axes>"
      ]
     },
     "metadata": {},
     "output_type": "display_data"
    }
   ],
   "source": [
    "sns.countplot(data=male, y=\"직무내용\", order=male_count.index)\n",
    "plt.title(\"남자 직업 빈도수\")\n",
    "plt.xlabel(\"인원수\")"
   ]
  },
  {
   "cell_type": "code",
   "execution_count": 117,
   "id": "e9723e6f-81f1-448a-ab4d-a76f080bd76d",
   "metadata": {},
   "outputs": [
    {
     "data": {
      "text/plain": [
       "직무내용\n",
       "청소원 및 환경미화원         261\n",
       "회계 및 경리 사무원         151\n",
       "돌봄 및 보건 서비스 종사자     151\n",
       "제조 관련 단순 종사자        128\n",
       "매장 판매 종사자           106\n",
       "음식 관련 단순 종사자        101\n",
       "기타 서비스 관련 단순 종사자     83\n",
       "고객 상담 및 기타 사무원       74\n",
       "조리사                  72\n",
       "간호사                  70\n",
       "Name: count, dtype: int64"
      ]
     },
     "execution_count": 117,
     "metadata": {},
     "output_type": "execute_result"
    }
   ],
   "source": [
    "# 여성의 직업빈도수\n",
    "female=ex_six[ex_six['성별'] == '여']\n",
    "female_count=female['직무내용'].value_counts().head(10)\n",
    "female_count"
   ]
  },
  {
   "cell_type": "code",
   "execution_count": 118,
   "id": "42013c98-7799-4767-ad81-a9b0077f04dc",
   "metadata": {},
   "outputs": [
    {
     "data": {
      "text/plain": [
       "Text(0.5, 0, '인원수')"
      ]
     },
     "execution_count": 118,
     "metadata": {},
     "output_type": "execute_result"
    },
    {
     "data": {
      "image/png": "[encoded data removed]",
      "text/plain": [
       "<Figure size 640x480 with 1 Axes>"
      ]
     },
     "metadata": {},
     "output_type": "display_data"
    }
   ],
   "source": [
    "sns.countplot(data=female, y='직무내용', order=female_count.index)\n",
    "plt.title(\"여자 직업 빈도수\")\n",
    "plt.xlabel(\"인원수\")"
   ]
  },
  {
   "cell_type": "markdown",
   "id": "38b829ee-1ef5-4744-bc9a-49ec73028c91",
   "metadata": {},
   "source": [
    "### 분석\n",
    "- 시각화\n",
    "- 데이터 요약표 : 남녀 직업별 빈도수"
   ]
  },
  {
   "cell_type": "code",
   "execution_count": 121,
   "id": "ed6416e8-4cf2-460f-b6f7-3263164abddc",
   "metadata": {},
   "outputs": [
    {
     "data": {
      "text/plain": [
       "<Axes: title={'center': '남녀 직업 빈도수'}, xlabel='인원수', ylabel='직무내용'>"
      ]
     },
     "execution_count": 121,
     "metadata": {},
     "output_type": "execute_result"
    },
    {
     "data": {
      "image/png": "[encoded data removed]",
      "text/plain": [
       "<Figure size 640x480 with 1 Axes>"
      ]
     },
     "metadata": {},
     "output_type": "display_data"
    }
   ],
   "source": [
    "top=ex_six['직무내용'].value_counts().head(10)\n",
    "\n",
    "plt.title(\"남녀 직업 빈도수\")\n",
    "plt.xlabel(\"인원수\")\n",
    "sns.countplot(data=ex_six, y='직무내용', hue='성별', order=top.index)"
   ]
  },
  {
   "cell_type": "code",
   "execution_count": 122,
   "id": "e42f727f-efca-4579-9fe4-4ee843115c22",
   "metadata": {},
   "outputs": [
    {
     "data": {
      "text/html": [
       "<div>\n",
       "<style scoped>\n",
       "    .dataframe tbody tr th:only-of-type {\n",
       "        vertical-align: middle;\n",
       "    }\n",
       "\n",
       "    .dataframe tbody tr th {\n",
       "        vertical-align: top;\n",
       "    }\n",
       "\n",
       "    .dataframe thead th {\n",
       "        text-align: right;\n",
       "    }\n",
       "</style>\n",
       "<table border=\"1\" class=\"dataframe\">\n",
       "  <thead>\n",
       "    <tr style=\"text-align: right;\">\n",
       "      <th></th>\n",
       "      <th>직무내용</th>\n",
       "      <th>성별</th>\n",
       "      <th>인원수</th>\n",
       "    </tr>\n",
       "  </thead>\n",
       "  <tbody>\n",
       "    <tr>\n",
       "      <th>204</th>\n",
       "      <td>청소원 및 환경미화원</td>\n",
       "      <td>여</td>\n",
       "      <td>261</td>\n",
       "    </tr>\n",
       "    <tr>\n",
       "      <th>17</th>\n",
       "      <td>경영 관련 사무원</td>\n",
       "      <td>남</td>\n",
       "      <td>212</td>\n",
       "    </tr>\n",
       "    <tr>\n",
       "      <th>235</th>\n",
       "      <td>회계 및 경리 사무원</td>\n",
       "      <td>여</td>\n",
       "      <td>151</td>\n",
       "    </tr>\n",
       "    <tr>\n",
       "      <th>70</th>\n",
       "      <td>돌봄 및 보건 서비스 종사자</td>\n",
       "      <td>여</td>\n",
       "      <td>151</td>\n",
       "    </tr>\n",
       "    <tr>\n",
       "      <th>194</th>\n",
       "      <td>제조 관련 단순 종사자</td>\n",
       "      <td>여</td>\n",
       "      <td>128</td>\n",
       "    </tr>\n",
       "    <tr>\n",
       "      <th>171</th>\n",
       "      <td>자동차 운전원</td>\n",
       "      <td>남</td>\n",
       "      <td>114</td>\n",
       "    </tr>\n",
       "    <tr>\n",
       "      <th>75</th>\n",
       "      <td>매장 판매 종사자</td>\n",
       "      <td>여</td>\n",
       "      <td>106</td>\n",
       "    </tr>\n",
       "    <tr>\n",
       "      <th>160</th>\n",
       "      <td>음식 관련 단순 종사자</td>\n",
       "      <td>여</td>\n",
       "      <td>101</td>\n",
       "    </tr>\n",
       "    <tr>\n",
       "      <th>203</th>\n",
       "      <td>청소원 및 환경미화원</td>\n",
       "      <td>남</td>\n",
       "      <td>92</td>\n",
       "    </tr>\n",
       "    <tr>\n",
       "      <th>146</th>\n",
       "      <td>영업 종사자</td>\n",
       "      <td>남</td>\n",
       "      <td>91</td>\n",
       "    </tr>\n",
       "  </tbody>\n",
       "</table>\n",
       "</div>"
      ],
      "text/plain": [
       "                직무내용 성별  인원수\n",
       "204      청소원 및 환경미화원  여  261\n",
       "17         경영 관련 사무원  남  212\n",
       "235      회계 및 경리 사무원  여  151\n",
       "70   돌봄 및 보건 서비스 종사자  여  151\n",
       "194     제조 관련 단순 종사자  여  128\n",
       "171          자동차 운전원  남  114\n",
       "75         매장 판매 종사자  여  106\n",
       "160     음식 관련 단순 종사자  여  101\n",
       "203      청소원 및 환경미화원  남   92\n",
       "146           영업 종사자  남   91"
      ]
     },
     "execution_count": 122,
     "metadata": {},
     "output_type": "execute_result"
    }
   ],
   "source": [
    "# 성별 요약표 - 직무내용 그룹화\n",
    "result=ex_six.groupby(['직무내용', '성별'])['성별'].count().reset_index(name='인원수')\n",
    "result.sort_values('인원수', ascending=False).head(10)"
   ]
  },
  {
   "cell_type": "markdown",
   "id": "b7aa93f0-0b64-4386-bc85-b20e307a5bd9",
   "metadata": {},
   "source": [
    "### 통계적 가설 검증\n",
    "- 성별에 따라 직무의 차이가 없다 / 있다 (연관성)\n",
    "- 다변수 : X/Y - 문자형\n",
    "- Chi Square Test\n",
    "- 분석결과(Chi Square Test) : 성별에 따른 직업의 차이가 있다. (통계량 1979.0, p < 0.05)"
   ]
  },
  {
   "cell_type": "code",
   "execution_count": 139,
   "id": "23b02fa7-513d-4af7-8ea5-ffe8dc37d86d",
   "metadata": {},
   "outputs": [
    {
     "data": {
      "text/html": [
       "<div>\n",
       "<style scoped>\n",
       "    .dataframe tbody tr th:only-of-type {\n",
       "        vertical-align: middle;\n",
       "    }\n",
       "\n",
       "    .dataframe tbody tr th {\n",
       "        vertical-align: top;\n",
       "    }\n",
       "\n",
       "    .dataframe thead th {\n",
       "        text-align: right;\n",
       "    }\n",
       "</style>\n",
       "<table border=\"1\" class=\"dataframe\">\n",
       "  <thead>\n",
       "    <tr style=\"text-align: right;\">\n",
       "      <th>성별</th>\n",
       "      <th>남</th>\n",
       "      <th>여</th>\n",
       "    </tr>\n",
       "    <tr>\n",
       "      <th>직무내용</th>\n",
       "      <th></th>\n",
       "      <th></th>\n",
       "    </tr>\n",
       "  </thead>\n",
       "  <tbody>\n",
       "    <tr>\n",
       "      <th>가사 및 육아 도우미</th>\n",
       "      <td>1</td>\n",
       "      <td>67</td>\n",
       "    </tr>\n",
       "    <tr>\n",
       "      <th>간호사</th>\n",
       "      <td>3</td>\n",
       "      <td>70</td>\n",
       "    </tr>\n",
       "    <tr>\n",
       "      <th>감정∙기술영업및중개관련종사자</th>\n",
       "      <td>14</td>\n",
       "      <td>4</td>\n",
       "    </tr>\n",
       "    <tr>\n",
       "      <th>건물 관리원 및 검표원</th>\n",
       "      <td>78</td>\n",
       "      <td>2</td>\n",
       "    </tr>\n",
       "    <tr>\n",
       "      <th>건설 및 광업 단순 종사자</th>\n",
       "      <td>35</td>\n",
       "      <td>5</td>\n",
       "    </tr>\n",
       "    <tr>\n",
       "      <th>...</th>\n",
       "      <td>...</td>\n",
       "      <td>...</td>\n",
       "    </tr>\n",
       "    <tr>\n",
       "      <th>화학∙고무 및 플라스틱 제품 생산기 조작원</th>\n",
       "      <td>7</td>\n",
       "      <td>0</td>\n",
       "    </tr>\n",
       "    <tr>\n",
       "      <th>화학공학 기술자 및 시험원</th>\n",
       "      <td>6</td>\n",
       "      <td>0</td>\n",
       "    </tr>\n",
       "    <tr>\n",
       "      <th>환경∙청소 및 경비 관련 관리자</th>\n",
       "      <td>8</td>\n",
       "      <td>2</td>\n",
       "    </tr>\n",
       "    <tr>\n",
       "      <th>환경공학∙가스·에너지 기술자 및 시험원</th>\n",
       "      <td>4</td>\n",
       "      <td>1</td>\n",
       "    </tr>\n",
       "    <tr>\n",
       "      <th>회계 및 경리 사무원</th>\n",
       "      <td>50</td>\n",
       "      <td>151</td>\n",
       "    </tr>\n",
       "  </tbody>\n",
       "</table>\n",
       "<p>147 rows × 2 columns</p>\n",
       "</div>"
      ],
      "text/plain": [
       "성별                        남    여\n",
       "직무내용                            \n",
       "가사 및 육아 도우미               1   67\n",
       "간호사                       3   70\n",
       "감정∙기술영업및중개관련종사자          14    4\n",
       "건물 관리원 및 검표원             78    2\n",
       "건설 및 광업 단순 종사자           35    5\n",
       "...                      ..  ...\n",
       "화학∙고무 및 플라스틱 제품 생산기 조작원   7    0\n",
       "화학공학 기술자 및 시험원            6    0\n",
       "환경∙청소 및 경비 관련 관리자         8    2\n",
       "환경공학∙가스·에너지 기술자 및 시험원     4    1\n",
       "회계 및 경리 사무원              50  151\n",
       "\n",
       "[147 rows x 2 columns]"
      ]
     },
     "execution_count": 139,
     "metadata": {},
     "output_type": "execute_result"
    }
   ],
   "source": [
    "ex_six_crosstab=pd.crosstab(ex_six['직무내용'], ex_six['성별'])\n",
    "ex_six_crosstab"
   ]
  },
  {
   "cell_type": "code",
   "execution_count": 141,
   "id": "948ad6b9-bcae-43f9-b999-527648bde0fa",
   "metadata": {},
   "outputs": [
    {
     "data": {
      "text/plain": [
       "(1979.0205094555938, 0.0)"
      ]
     },
     "execution_count": 141,
     "metadata": {},
     "output_type": "execute_result"
    }
   ],
   "source": [
    "r=stats.chi2_contingency(ex_six_crosstab)\n",
    "r.statistic, r.pvalue"
   ]
  },
  {
   "cell_type": "markdown",
   "id": "08b1ddac-a157-43af-b075-5a20445f75fc",
   "metadata": {},
   "source": [
    "## 종교 유무에 따른 이혼율 - 종교가 있으면 이혼을 덜 할까?"
   ]
  },
  {
   "cell_type": "code",
   "execution_count": 143,
   "id": "e36cfa42-c575-44a7-9da2-871fd011eba3",
   "metadata": {},
   "outputs": [
    {
     "data": {
      "text/plain": [
       "(14418, 7)"
      ]
     },
     "execution_count": 143,
     "metadata": {},
     "output_type": "execute_result"
    }
   ],
   "source": [
    "person=pd.read_csv('./data/pandas/project/person.csv')\n",
    "person.shape"
   ]
  },
  {
   "cell_type": "code",
   "execution_count": 144,
   "id": "67c116d6-f586-46a3-a1ed-d9bb265d1b98",
   "metadata": {},
   "outputs": [
    {
     "data": {
      "text/html": [
       "<div>\n",
       "<style scoped>\n",
       "    .dataframe tbody tr th:only-of-type {\n",
       "        vertical-align: middle;\n",
       "    }\n",
       "\n",
       "    .dataframe tbody tr th {\n",
       "        vertical-align: top;\n",
       "    }\n",
       "\n",
       "    .dataframe thead th {\n",
       "        text-align: right;\n",
       "    }\n",
       "</style>\n",
       "<table border=\"1\" class=\"dataframe\">\n",
       "  <thead>\n",
       "    <tr style=\"text-align: right;\">\n",
       "      <th></th>\n",
       "      <th>직업코드</th>\n",
       "      <th>직무내용</th>\n",
       "    </tr>\n",
       "  </thead>\n",
       "  <tbody>\n",
       "    <tr>\n",
       "      <th>0</th>\n",
       "      <td>111</td>\n",
       "      <td>의회 의원∙고위 공무원 및 공공단체 임원</td>\n",
       "    </tr>\n",
       "    <tr>\n",
       "      <th>1</th>\n",
       "      <td>112</td>\n",
       "      <td>기업 고위 임원</td>\n",
       "    </tr>\n",
       "  </tbody>\n",
       "</table>\n",
       "</div>"
      ],
      "text/plain": [
       "   직업코드                    직무내용\n",
       "0   111  의회 의원∙고위 공무원 및 공공단체 임원\n",
       "1   112                기업 고위 임원"
      ]
     },
     "execution_count": 144,
     "metadata": {},
     "output_type": "execute_result"
    }
   ],
   "source": [
    "job_list=pd.read_excel('./data/pandas/project/joblist.xlsx')\n",
    "job_list.shape\n",
    "job_list.head(2)"
   ]
  },
  {
   "cell_type": "code",
   "execution_count": 148,
   "id": "45e79a20-ed86-471d-8de5-70cd5f5c6d9e",
   "metadata": {},
   "outputs": [
    {
     "data": {
      "text/plain": [
       "(14418, 8)"
      ]
     },
     "execution_count": 148,
     "metadata": {},
     "output_type": "execute_result"
    }
   ],
   "source": [
    "pj_mearage=person.merge(job_list, on='직업코드', how='left')\n",
    "pj_mearage.shape"
   ]
  },
  {
   "cell_type": "code",
   "execution_count": 149,
   "id": "8d7c79d2-2cb4-4119-a02e-0163094515c3",
   "metadata": {},
   "outputs": [
    {
     "data": {
      "text/html": [
       "<div>\n",
       "<style scoped>\n",
       "    .dataframe tbody tr th:only-of-type {\n",
       "        vertical-align: middle;\n",
       "    }\n",
       "\n",
       "    .dataframe tbody tr th {\n",
       "        vertical-align: top;\n",
       "    }\n",
       "\n",
       "    .dataframe thead th {\n",
       "        text-align: right;\n",
       "    }\n",
       "</style>\n",
       "<table border=\"1\" class=\"dataframe\">\n",
       "  <thead>\n",
       "    <tr style=\"text-align: right;\">\n",
       "      <th></th>\n",
       "      <th>성별</th>\n",
       "      <th>태어난연도</th>\n",
       "      <th>혼인상태</th>\n",
       "      <th>종교</th>\n",
       "      <th>월급</th>\n",
       "      <th>직업코드</th>\n",
       "      <th>지역코드</th>\n",
       "      <th>직무내용</th>\n",
       "    </tr>\n",
       "  </thead>\n",
       "  <tbody>\n",
       "    <tr>\n",
       "      <th>0</th>\n",
       "      <td>2.0</td>\n",
       "      <td>1945.0</td>\n",
       "      <td>2.0</td>\n",
       "      <td>1.0</td>\n",
       "      <td>NaN</td>\n",
       "      <td>NaN</td>\n",
       "      <td>1.0</td>\n",
       "      <td>NaN</td>\n",
       "    </tr>\n",
       "    <tr>\n",
       "      <th>1</th>\n",
       "      <td>1.0</td>\n",
       "      <td>1948.0</td>\n",
       "      <td>2.0</td>\n",
       "      <td>2.0</td>\n",
       "      <td>NaN</td>\n",
       "      <td>NaN</td>\n",
       "      <td>1.0</td>\n",
       "      <td>NaN</td>\n",
       "    </tr>\n",
       "    <tr>\n",
       "      <th>2</th>\n",
       "      <td>1.0</td>\n",
       "      <td>1942.0</td>\n",
       "      <td>3.0</td>\n",
       "      <td>1.0</td>\n",
       "      <td>107.0</td>\n",
       "      <td>762.0</td>\n",
       "      <td>1.0</td>\n",
       "      <td>전기공</td>\n",
       "    </tr>\n",
       "    <tr>\n",
       "      <th>3</th>\n",
       "      <td>1.0</td>\n",
       "      <td>1962.0</td>\n",
       "      <td>1.0</td>\n",
       "      <td>1.0</td>\n",
       "      <td>192.0</td>\n",
       "      <td>855.0</td>\n",
       "      <td>1.0</td>\n",
       "      <td>금속기계 부품 조립원</td>\n",
       "    </tr>\n",
       "    <tr>\n",
       "      <th>4</th>\n",
       "      <td>2.0</td>\n",
       "      <td>1963.0</td>\n",
       "      <td>1.0</td>\n",
       "      <td>1.0</td>\n",
       "      <td>NaN</td>\n",
       "      <td>NaN</td>\n",
       "      <td>1.0</td>\n",
       "      <td>NaN</td>\n",
       "    </tr>\n",
       "  </tbody>\n",
       "</table>\n",
       "</div>"
      ],
      "text/plain": [
       "    성별   태어난연도  혼인상태   종교     월급   직업코드  지역코드         직무내용\n",
       "0  2.0  1945.0   2.0  1.0    NaN    NaN   1.0          NaN\n",
       "1  1.0  1948.0   2.0  2.0    NaN    NaN   1.0          NaN\n",
       "2  1.0  1942.0   3.0  1.0  107.0  762.0   1.0          전기공\n",
       "3  1.0  1962.0   1.0  1.0  192.0  855.0   1.0  금속기계 부품 조립원\n",
       "4  2.0  1963.0   1.0  1.0    NaN    NaN   1.0          NaN"
      ]
     },
     "execution_count": 149,
     "metadata": {},
     "output_type": "execute_result"
    }
   ],
   "source": [
    "ex_seven=pj_mearage.copy()\n",
    "ex_seven.head()"
   ]
  },
  {
   "cell_type": "code",
   "execution_count": 150,
   "id": "e69745df-2b97-4a76-9014-5ef7e609feec",
   "metadata": {},
   "outputs": [
    {
     "name": "stdout",
     "output_type": "stream",
     "text": [
      "<class 'pandas.core.frame.DataFrame'>\n",
      "RangeIndex: 14418 entries, 0 to 14417\n",
      "Data columns (total 8 columns):\n",
      " #   Column  Non-Null Count  Dtype  \n",
      "---  ------  --------------  -----  \n",
      " 0   성별      14418 non-null  float64\n",
      " 1   태어난연도   14418 non-null  float64\n",
      " 2   혼인상태    14418 non-null  float64\n",
      " 3   종교      14418 non-null  float64\n",
      " 4   월급      4534 non-null   float64\n",
      " 5   직업코드    6878 non-null   float64\n",
      " 6   지역코드    14418 non-null  float64\n",
      " 7   직무내용    6878 non-null   object \n",
      "dtypes: float64(7), object(1)\n",
      "memory usage: 901.3+ KB\n"
     ]
    }
   ],
   "source": [
    "ex_seven.info()"
   ]
  },
  {
   "cell_type": "markdown",
   "id": "5ea8c977-f262-4d3f-96d4-3c7156df3f9e",
   "metadata": {},
   "source": [
    "### 종교 변수 검토 및 전처리\n",
    "- 종교변수 전처리 : 1 있음 >> 유,  2 없음 >> 무,  9 모름 >> 무응답"
   ]
  },
  {
   "cell_type": "code",
   "execution_count": 152,
   "id": "65059810-e23f-40c0-a2a4-ee738872c05e",
   "metadata": {},
   "outputs": [
    {
     "data": {
      "text/plain": [
       "종교\n",
       "2.0    7815\n",
       "1.0    6603\n",
       "Name: count, dtype: int64"
      ]
     },
     "execution_count": 152,
     "metadata": {},
     "output_type": "execute_result"
    }
   ],
   "source": [
    "ex_seven['종교'].value_counts()"
   ]
  },
  {
   "cell_type": "code",
   "execution_count": 153,
   "id": "032c4a27-63bd-44af-92f8-f5187402b086",
   "metadata": {},
   "outputs": [
    {
     "data": {
      "text/plain": [
       "종교\n",
       "무    7815\n",
       "유    6603\n",
       "Name: count, dtype: int64"
      ]
     },
     "execution_count": 153,
     "metadata": {},
     "output_type": "execute_result"
    }
   ],
   "source": [
    "ex_seven['종교']=np.where(ex_seven['종교']==1, '유', '무')\n",
    "ex_seven['종교'].value_counts()"
   ]
  },
  {
   "cell_type": "code",
   "execution_count": 154,
   "id": "874f7def-c9fc-452a-986f-be9360197f7f",
   "metadata": {},
   "outputs": [
    {
     "data": {
      "text/plain": [
       "<Axes: xlabel='종교', ylabel='count'>"
      ]
     },
     "execution_count": 154,
     "metadata": {},
     "output_type": "execute_result"
    },
    {
     "data": {
      "image/png": "[encoded data removed]",
      "text/plain": [
       "<Figure size 640x480 with 1 Axes>"
      ]
     },
     "metadata": {},
     "output_type": "display_data"
    }
   ],
   "source": [
    "sns.countplot(data=ex_seven, x=\"종교\")"
   ]
  },
  {
   "cell_type": "markdown",
   "id": "d8d1c945-c185-4120-bbe0-a3510380b649",
   "metadata": {},
   "source": [
    "### 혼인 상태 변수 검토 및 전처리\n",
    "- 코드북 확인: 0 ~ 6\n",
    "- 파생변수 만들기 :  1 >> 유배우, 3 >> 이혼,  2, 4, 5, 6 >> 기타"
   ]
  },
  {
   "cell_type": "code",
   "execution_count": 159,
   "id": "6752a166-b8b1-4b63-8769-fabee22faa7c",
   "metadata": {},
   "outputs": [
    {
     "data": {
      "text/plain": [
       "혼인타입\n",
       "유배우    7190\n",
       "기타     6539\n",
       "이혼      689\n",
       "Name: count, dtype: int64"
      ]
     },
     "execution_count": 159,
     "metadata": {},
     "output_type": "execute_result"
    }
   ],
   "source": [
    "ex_seven['혼인타입']=np.where(ex_seven['혼인상태']==1, '유배우',\n",
    "                              np.where(ex_seven['혼인상태']==3, '이혼', '기타'))\n",
    "ex_seven['혼인타입'].value_counts()"
   ]
  },
  {
   "cell_type": "code",
   "execution_count": 161,
   "id": "4bf02709-21ab-4f83-9710-fb62abc8ccc2",
   "metadata": {},
   "outputs": [
    {
     "data": {
      "text/html": [
       "<div>\n",
       "<style scoped>\n",
       "    .dataframe tbody tr th:only-of-type {\n",
       "        vertical-align: middle;\n",
       "    }\n",
       "\n",
       "    .dataframe tbody tr th {\n",
       "        vertical-align: top;\n",
       "    }\n",
       "\n",
       "    .dataframe thead th {\n",
       "        text-align: right;\n",
       "    }\n",
       "</style>\n",
       "<table border=\"1\" class=\"dataframe\">\n",
       "  <thead>\n",
       "    <tr style=\"text-align: right;\">\n",
       "      <th></th>\n",
       "      <th>성별</th>\n",
       "      <th>태어난연도</th>\n",
       "      <th>혼인상태</th>\n",
       "      <th>종교</th>\n",
       "      <th>월급</th>\n",
       "      <th>직업코드</th>\n",
       "      <th>지역코드</th>\n",
       "      <th>직무내용</th>\n",
       "      <th>혼인타입</th>\n",
       "    </tr>\n",
       "  </thead>\n",
       "  <tbody>\n",
       "    <tr>\n",
       "      <th>0</th>\n",
       "      <td>2.0</td>\n",
       "      <td>1945.0</td>\n",
       "      <td>2.0</td>\n",
       "      <td>유</td>\n",
       "      <td>NaN</td>\n",
       "      <td>NaN</td>\n",
       "      <td>1.0</td>\n",
       "      <td>NaN</td>\n",
       "      <td>기타</td>\n",
       "    </tr>\n",
       "    <tr>\n",
       "      <th>1</th>\n",
       "      <td>1.0</td>\n",
       "      <td>1948.0</td>\n",
       "      <td>2.0</td>\n",
       "      <td>무</td>\n",
       "      <td>NaN</td>\n",
       "      <td>NaN</td>\n",
       "      <td>1.0</td>\n",
       "      <td>NaN</td>\n",
       "      <td>기타</td>\n",
       "    </tr>\n",
       "  </tbody>\n",
       "</table>\n",
       "</div>"
      ],
      "text/plain": [
       "    성별   태어난연도  혼인상태 종교  월급  직업코드  지역코드 직무내용 혼인타입\n",
       "0  2.0  1945.0   2.0  유 NaN   NaN   1.0  NaN   기타\n",
       "1  1.0  1948.0   2.0  무 NaN   NaN   1.0  NaN   기타"
      ]
     },
     "execution_count": 161,
     "metadata": {},
     "output_type": "execute_result"
    }
   ],
   "source": [
    "ex_seven.head(2)"
   ]
  },
  {
   "cell_type": "code",
   "execution_count": 163,
   "id": "f11bc30a-d1b4-43cc-bb11-b0f9d268d7d9",
   "metadata": {},
   "outputs": [
    {
     "data": {
      "text/plain": [
       "(7879, 9)"
      ]
     },
     "execution_count": 163,
     "metadata": {},
     "output_type": "execute_result"
    }
   ],
   "source": [
    "rel_df=ex_seven[ex_seven['혼인타입'] != '기타']\n",
    "rel_df.shape"
   ]
  },
  {
   "cell_type": "code",
   "execution_count": 165,
   "id": "31afa5f1-4ed8-4c26-aa68-cea56cbeba36",
   "metadata": {},
   "outputs": [
    {
     "data": {
      "text/plain": [
       "혼인타입\n",
       "유배우    7190\n",
       "이혼      689\n",
       "Name: count, dtype: int64"
      ]
     },
     "execution_count": 165,
     "metadata": {},
     "output_type": "execute_result"
    }
   ],
   "source": [
    "rel_df['혼인타입'].value_counts()"
   ]
  },
  {
   "cell_type": "code",
   "execution_count": 166,
   "id": "a084b2fe-2e3a-458f-ad87-87de7fb750e7",
   "metadata": {},
   "outputs": [
    {
     "data": {
      "text/plain": [
       "<Axes: xlabel='혼인타입', ylabel='count'>"
      ]
     },
     "execution_count": 166,
     "metadata": {},
     "output_type": "execute_result"
    },
    {
     "data": {
      "image/png": "[encoded data removed]",
      "text/plain": [
       "<Figure size 640x480 with 1 Axes>"
      ]
     },
     "metadata": {},
     "output_type": "display_data"
    }
   ],
   "source": [
    "sns.countplot(data=rel_df, x='혼인타입')"
   ]
  },
  {
   "cell_type": "markdown",
   "id": "09233a72-65fa-48b6-a687-07305c2c04e6",
   "metadata": {},
   "source": [
    "### 데이터 분석\n",
    "- 종교 유무에 따른 이혼욜 : 종교가 있으면 이혼을 덜 할까?\n",
    "    - 시각화\n",
    "    - 데이터 요약표 - 종교유무의 이혼율 빈도수"
   ]
  },
  {
   "cell_type": "code",
   "execution_count": 168,
   "id": "5b758af2-eaea-4cef-8d47-3c9c2bdf85b1",
   "metadata": {},
   "outputs": [
    {
     "data": {
      "text/plain": [
       "<Axes: xlabel='혼인타입', ylabel='count'>"
      ]
     },
     "execution_count": 168,
     "metadata": {},
     "output_type": "execute_result"
    },
    {
     "data": {
      "image/png": "[encoded data removed]",
      "text/plain": [
       "<Figure size 640x480 with 1 Axes>"
      ]
     },
     "metadata": {},
     "output_type": "display_data"
    }
   ],
   "source": [
    "sns.countplot(data=rel_df, x='혼인타입', hue='종교')"
   ]
  },
  {
   "cell_type": "code",
   "execution_count": 169,
   "id": "d6c505d9-e7b7-478b-b60c-ed6bd56bad65",
   "metadata": {},
   "outputs": [
    {
     "data": {
      "text/html": [
       "<div>\n",
       "<style scoped>\n",
       "    .dataframe tbody tr th:only-of-type {\n",
       "        vertical-align: middle;\n",
       "    }\n",
       "\n",
       "    .dataframe tbody tr th {\n",
       "        vertical-align: top;\n",
       "    }\n",
       "\n",
       "    .dataframe thead th {\n",
       "        text-align: right;\n",
       "    }\n",
       "</style>\n",
       "<table border=\"1\" class=\"dataframe\">\n",
       "  <thead>\n",
       "    <tr style=\"text-align: right;\">\n",
       "      <th></th>\n",
       "      <th>종교</th>\n",
       "      <th>혼인타입</th>\n",
       "      <th>인원수</th>\n",
       "      <th>인원수백분율</th>\n",
       "    </tr>\n",
       "  </thead>\n",
       "  <tbody>\n",
       "    <tr>\n",
       "      <th>0</th>\n",
       "      <td>무</td>\n",
       "      <td>유배우</td>\n",
       "      <td>3660</td>\n",
       "      <td>46.5</td>\n",
       "    </tr>\n",
       "    <tr>\n",
       "      <th>1</th>\n",
       "      <td>무</td>\n",
       "      <td>이혼</td>\n",
       "      <td>384</td>\n",
       "      <td>4.9</td>\n",
       "    </tr>\n",
       "    <tr>\n",
       "      <th>2</th>\n",
       "      <td>유</td>\n",
       "      <td>유배우</td>\n",
       "      <td>3530</td>\n",
       "      <td>44.8</td>\n",
       "    </tr>\n",
       "    <tr>\n",
       "      <th>3</th>\n",
       "      <td>유</td>\n",
       "      <td>이혼</td>\n",
       "      <td>305</td>\n",
       "      <td>3.9</td>\n",
       "    </tr>\n",
       "  </tbody>\n",
       "</table>\n",
       "</div>"
      ],
      "text/plain": [
       "  종교 혼인타입   인원수  인원수백분율\n",
       "0  무  유배우  3660    46.5\n",
       "1  무   이혼   384     4.9\n",
       "2  유  유배우  3530    44.8\n",
       "3  유   이혼   305     3.9"
      ]
     },
     "execution_count": 169,
     "metadata": {},
     "output_type": "execute_result"
    }
   ],
   "source": [
    "# 데이터 요약표 - 종교별 그룹화 후 혼인 비율 구하기\n",
    "result=rel_df.groupby(['종교', '혼인타입'])['혼인타입'].count().reset_index(name=\"인원수\")\n",
    "result['인원수백분율']=round(result['인원수'] / result['인원수'].sum() * 100 , 1)\n",
    "result"
   ]
  },
  {
   "cell_type": "code",
   "execution_count": 170,
   "id": "ee1317e4-5607-4dd2-8c3d-eb798c30de0b",
   "metadata": {},
   "outputs": [
    {
     "data": {
      "text/html": [
       "<div>\n",
       "<style scoped>\n",
       "    .dataframe tbody tr th:only-of-type {\n",
       "        vertical-align: middle;\n",
       "    }\n",
       "\n",
       "    .dataframe tbody tr th {\n",
       "        vertical-align: top;\n",
       "    }\n",
       "\n",
       "    .dataframe thead th {\n",
       "        text-align: right;\n",
       "    }\n",
       "</style>\n",
       "<table border=\"1\" class=\"dataframe\">\n",
       "  <thead>\n",
       "    <tr style=\"text-align: right;\">\n",
       "      <th></th>\n",
       "      <th>종교</th>\n",
       "      <th>혼인타입</th>\n",
       "      <th>인원수</th>\n",
       "      <th>인원수백분율</th>\n",
       "    </tr>\n",
       "  </thead>\n",
       "  <tbody>\n",
       "    <tr>\n",
       "      <th>1</th>\n",
       "      <td>무</td>\n",
       "      <td>이혼</td>\n",
       "      <td>384</td>\n",
       "      <td>4.9</td>\n",
       "    </tr>\n",
       "    <tr>\n",
       "      <th>3</th>\n",
       "      <td>유</td>\n",
       "      <td>이혼</td>\n",
       "      <td>305</td>\n",
       "      <td>3.9</td>\n",
       "    </tr>\n",
       "  </tbody>\n",
       "</table>\n",
       "</div>"
      ],
      "text/plain": [
       "  종교 혼인타입  인원수  인원수백분율\n",
       "1  무   이혼  384     4.9\n",
       "3  유   이혼  305     3.9"
      ]
     },
     "execution_count": 170,
     "metadata": {},
     "output_type": "execute_result"
    }
   ],
   "source": [
    "result[result['혼인타입'] == '이혼']"
   ]
  },
  {
   "cell_type": "markdown",
   "id": "52a62b51-26bc-4c4a-95e6-d3d7b706ad36",
   "metadata": {},
   "source": [
    "### 통계적 가설 검증\n",
    "- 가설 : 연관성이 없다(독립) / 연관성이 있다. \n",
    "- 다변 : X/Y - Chi^2 Test\n",
    "- 분석결과(Chi^2) : 종교와 이혼율은 연관성이 있다. (통계량 5.67, p < 0.05)"
   ]
  },
  {
   "cell_type": "code",
   "execution_count": 173,
   "id": "8384746c-8a92-4ceb-8477-17b7339000b0",
   "metadata": {},
   "outputs": [
    {
     "data": {
      "text/html": [
       "<div>\n",
       "<style scoped>\n",
       "    .dataframe tbody tr th:only-of-type {\n",
       "        vertical-align: middle;\n",
       "    }\n",
       "\n",
       "    .dataframe tbody tr th {\n",
       "        vertical-align: top;\n",
       "    }\n",
       "\n",
       "    .dataframe thead th {\n",
       "        text-align: right;\n",
       "    }\n",
       "</style>\n",
       "<table border=\"1\" class=\"dataframe\">\n",
       "  <thead>\n",
       "    <tr style=\"text-align: right;\">\n",
       "      <th>종교</th>\n",
       "      <th>무</th>\n",
       "      <th>유</th>\n",
       "    </tr>\n",
       "    <tr>\n",
       "      <th>혼인타입</th>\n",
       "      <th></th>\n",
       "      <th></th>\n",
       "    </tr>\n",
       "  </thead>\n",
       "  <tbody>\n",
       "    <tr>\n",
       "      <th>유배우</th>\n",
       "      <td>3660</td>\n",
       "      <td>3530</td>\n",
       "    </tr>\n",
       "    <tr>\n",
       "      <th>이혼</th>\n",
       "      <td>384</td>\n",
       "      <td>305</td>\n",
       "    </tr>\n",
       "  </tbody>\n",
       "</table>\n",
       "</div>"
      ],
      "text/plain": [
       "종교       무     유\n",
       "혼인타입            \n",
       "유배우   3660  3530\n",
       "이혼     384   305"
      ]
     },
     "execution_count": 173,
     "metadata": {},
     "output_type": "execute_result"
    }
   ],
   "source": [
    "ex_seven_tab=pd.crosstab(rel_df['혼인타입'], rel_df['종교'])\n",
    "ex_seven_tab"
   ]
  },
  {
   "cell_type": "code",
   "execution_count": 174,
   "id": "3ae125e3-c9d3-454d-9efe-497e5ea3b53b",
   "metadata": {},
   "outputs": [
    {
     "data": {
      "text/plain": [
       "Chi2ContingencyResult(statistic=5.6769927793878825, pvalue=0.01718880447200066, dof=1, expected_freq=array([[3690.36172103, 3499.63827897],\n",
       "       [ 353.63827897,  335.36172103]]))"
      ]
     },
     "execution_count": 174,
     "metadata": {},
     "output_type": "execute_result"
    }
   ],
   "source": [
    "stats.chi2_contingency(ex_seven_tab)"
   ]
  },
  {
   "cell_type": "markdown",
   "id": "99a1131d-01e2-4491-884f-0148f4d041f4",
   "metadata": {},
   "source": [
    "## 지역별 연령대 비율 - 어느 지역에 노년층이 많을까?\n",
    "### 연령대 변수 검토 및 전처리"
   ]
  },
  {
   "cell_type": "code",
   "execution_count": 178,
   "id": "024f7a04-2ba4-4cd1-85a8-8ca177412e78",
   "metadata": {},
   "outputs": [
    {
     "data": {
      "text/html": [
       "<div>\n",
       "<style scoped>\n",
       "    .dataframe tbody tr th:only-of-type {\n",
       "        vertical-align: middle;\n",
       "    }\n",
       "\n",
       "    .dataframe tbody tr th {\n",
       "        vertical-align: top;\n",
       "    }\n",
       "\n",
       "    .dataframe thead th {\n",
       "        text-align: right;\n",
       "    }\n",
       "</style>\n",
       "<table border=\"1\" class=\"dataframe\">\n",
       "  <thead>\n",
       "    <tr style=\"text-align: right;\">\n",
       "      <th></th>\n",
       "      <th>성별</th>\n",
       "      <th>태어난연도</th>\n",
       "      <th>혼인상태</th>\n",
       "      <th>종교</th>\n",
       "      <th>월급</th>\n",
       "      <th>직업코드</th>\n",
       "      <th>지역코드</th>\n",
       "      <th>직무내용</th>\n",
       "      <th>혼인타입</th>\n",
       "    </tr>\n",
       "  </thead>\n",
       "  <tbody>\n",
       "    <tr>\n",
       "      <th>0</th>\n",
       "      <td>2.0</td>\n",
       "      <td>1945.0</td>\n",
       "      <td>2.0</td>\n",
       "      <td>유</td>\n",
       "      <td>NaN</td>\n",
       "      <td>NaN</td>\n",
       "      <td>1.0</td>\n",
       "      <td>NaN</td>\n",
       "      <td>기타</td>\n",
       "    </tr>\n",
       "    <tr>\n",
       "      <th>1</th>\n",
       "      <td>1.0</td>\n",
       "      <td>1948.0</td>\n",
       "      <td>2.0</td>\n",
       "      <td>무</td>\n",
       "      <td>NaN</td>\n",
       "      <td>NaN</td>\n",
       "      <td>1.0</td>\n",
       "      <td>NaN</td>\n",
       "      <td>기타</td>\n",
       "    </tr>\n",
       "  </tbody>\n",
       "</table>\n",
       "</div>"
      ],
      "text/plain": [
       "    성별   태어난연도  혼인상태 종교  월급  직업코드  지역코드 직무내용 혼인타입\n",
       "0  2.0  1945.0   2.0  유 NaN   NaN   1.0  NaN   기타\n",
       "1  1.0  1948.0   2.0  무 NaN   NaN   1.0  NaN   기타"
      ]
     },
     "execution_count": 178,
     "metadata": {},
     "output_type": "execute_result"
    }
   ],
   "source": [
    "ex_eight=ex_seven.copy()\n",
    "ex_eight.head(2)"
   ]
  },
  {
   "cell_type": "code",
   "execution_count": 179,
   "id": "b960ee7a-4fc6-4cc3-b53e-038dc64db1c4",
   "metadata": {},
   "outputs": [
    {
     "data": {
      "text/plain": [
       "연령대\n",
       "노년층    5955\n",
       "중년층    4963\n",
       "초년층    3500\n",
       "Name: count, dtype: int64"
      ]
     },
     "execution_count": 179,
     "metadata": {},
     "output_type": "execute_result"
    }
   ],
   "source": [
    "# 파생변수 만들기 - 나이\n",
    "ex_eight['나이']=2019-ex_eight['태어난연도']+1\n",
    "\n",
    "# 연령대 변수 만들기\n",
    "ex_eight['연령대']=np.where(ex_eight['나이'] < 30, '초년층', \n",
    "                         np.where(ex_eight['나이'] <=59, '중년층', '노년층'))\n",
    "ex_eight['연령대'].value_counts().sort_index()"
   ]
  },
  {
   "cell_type": "code",
   "execution_count": 180,
   "id": "686ee552-9bce-4d26-8030-876c120d221e",
   "metadata": {},
   "outputs": [
    {
     "data": {
      "text/html": [
       "<div>\n",
       "<style scoped>\n",
       "    .dataframe tbody tr th:only-of-type {\n",
       "        vertical-align: middle;\n",
       "    }\n",
       "\n",
       "    .dataframe tbody tr th {\n",
       "        vertical-align: top;\n",
       "    }\n",
       "\n",
       "    .dataframe thead th {\n",
       "        text-align: right;\n",
       "    }\n",
       "</style>\n",
       "<table border=\"1\" class=\"dataframe\">\n",
       "  <thead>\n",
       "    <tr style=\"text-align: right;\">\n",
       "      <th></th>\n",
       "      <th>성별</th>\n",
       "      <th>태어난연도</th>\n",
       "      <th>혼인상태</th>\n",
       "      <th>종교</th>\n",
       "      <th>월급</th>\n",
       "      <th>직업코드</th>\n",
       "      <th>지역코드</th>\n",
       "      <th>직무내용</th>\n",
       "      <th>혼인타입</th>\n",
       "      <th>나이</th>\n",
       "      <th>연령대</th>\n",
       "    </tr>\n",
       "  </thead>\n",
       "  <tbody>\n",
       "    <tr>\n",
       "      <th>0</th>\n",
       "      <td>2.0</td>\n",
       "      <td>1945.0</td>\n",
       "      <td>2.0</td>\n",
       "      <td>유</td>\n",
       "      <td>NaN</td>\n",
       "      <td>NaN</td>\n",
       "      <td>1.0</td>\n",
       "      <td>NaN</td>\n",
       "      <td>기타</td>\n",
       "      <td>75.0</td>\n",
       "      <td>노년층</td>\n",
       "    </tr>\n",
       "    <tr>\n",
       "      <th>1</th>\n",
       "      <td>1.0</td>\n",
       "      <td>1948.0</td>\n",
       "      <td>2.0</td>\n",
       "      <td>무</td>\n",
       "      <td>NaN</td>\n",
       "      <td>NaN</td>\n",
       "      <td>1.0</td>\n",
       "      <td>NaN</td>\n",
       "      <td>기타</td>\n",
       "      <td>72.0</td>\n",
       "      <td>노년층</td>\n",
       "    </tr>\n",
       "    <tr>\n",
       "      <th>2</th>\n",
       "      <td>1.0</td>\n",
       "      <td>1942.0</td>\n",
       "      <td>3.0</td>\n",
       "      <td>유</td>\n",
       "      <td>107.0</td>\n",
       "      <td>762.0</td>\n",
       "      <td>1.0</td>\n",
       "      <td>전기공</td>\n",
       "      <td>이혼</td>\n",
       "      <td>78.0</td>\n",
       "      <td>노년층</td>\n",
       "    </tr>\n",
       "  </tbody>\n",
       "</table>\n",
       "</div>"
      ],
      "text/plain": [
       "    성별   태어난연도  혼인상태 종교     월급   직업코드  지역코드 직무내용 혼인타입    나이  연령대\n",
       "0  2.0  1945.0   2.0  유    NaN    NaN   1.0  NaN   기타  75.0  노년층\n",
       "1  1.0  1948.0   2.0  무    NaN    NaN   1.0  NaN   기타  72.0  노년층\n",
       "2  1.0  1942.0   3.0  유  107.0  762.0   1.0  전기공   이혼  78.0  노년층"
      ]
     },
     "execution_count": 180,
     "metadata": {},
     "output_type": "execute_result"
    }
   ],
   "source": [
    "ex_eight.head(3)"
   ]
  },
  {
   "cell_type": "markdown",
   "id": "1a3bd898-2278-46ba-9d88-7b276b903399",
   "metadata": {},
   "source": [
    "###  지역코드 검토 및 전처리"
   ]
  },
  {
   "cell_type": "markdown",
   "id": "711d9d81-3c2f-4e83-98e6-1a337b5c76de",
   "metadata": {},
   "source": [
    "#### 지역코드 목록 만들기"
   ]
  },
  {
   "cell_type": "code",
   "execution_count": 187,
   "id": "0f36d6a6-3d5f-4a20-b9bd-abe11e154355",
   "metadata": {},
   "outputs": [
    {
     "data": {
      "text/html": [
       "<div>\n",
       "<style scoped>\n",
       "    .dataframe tbody tr th:only-of-type {\n",
       "        vertical-align: middle;\n",
       "    }\n",
       "\n",
       "    .dataframe tbody tr th {\n",
       "        vertical-align: top;\n",
       "    }\n",
       "\n",
       "    .dataframe thead th {\n",
       "        text-align: right;\n",
       "    }\n",
       "</style>\n",
       "<table border=\"1\" class=\"dataframe\">\n",
       "  <thead>\n",
       "    <tr style=\"text-align: right;\">\n",
       "      <th></th>\n",
       "      <th>지역코드</th>\n",
       "      <th>지역</th>\n",
       "    </tr>\n",
       "  </thead>\n",
       "  <tbody>\n",
       "    <tr>\n",
       "      <th>0</th>\n",
       "      <td>1</td>\n",
       "      <td>서울</td>\n",
       "    </tr>\n",
       "    <tr>\n",
       "      <th>1</th>\n",
       "      <td>2</td>\n",
       "      <td>수도권(인천/경기)</td>\n",
       "    </tr>\n",
       "    <tr>\n",
       "      <th>2</th>\n",
       "      <td>3</td>\n",
       "      <td>부산/경남/울산</td>\n",
       "    </tr>\n",
       "    <tr>\n",
       "      <th>3</th>\n",
       "      <td>4</td>\n",
       "      <td>대구/경북</td>\n",
       "    </tr>\n",
       "    <tr>\n",
       "      <th>4</th>\n",
       "      <td>5</td>\n",
       "      <td>대전/충남</td>\n",
       "    </tr>\n",
       "    <tr>\n",
       "      <th>5</th>\n",
       "      <td>6</td>\n",
       "      <td>강원/충북</td>\n",
       "    </tr>\n",
       "    <tr>\n",
       "      <th>6</th>\n",
       "      <td>7</td>\n",
       "      <td>광주/전남/전북/제주</td>\n",
       "    </tr>\n",
       "  </tbody>\n",
       "</table>\n",
       "</div>"
      ],
      "text/plain": [
       "   지역코드           지역\n",
       "0     1           서울\n",
       "1     2   수도권(인천/경기)\n",
       "2     3     부산/경남/울산\n",
       "3     4        대구/경북\n",
       "4     5        대전/충남\n",
       "5     6        강원/충북\n",
       "6     7  광주/전남/전북/제주"
      ]
     },
     "execution_count": 187,
     "metadata": {},
     "output_type": "execute_result"
    }
   ],
   "source": [
    "list_region=pd.DataFrame({'지역코드':[1, 2, 3, 4, 5, 6, 7],\n",
    "                           '지역':['서울',\n",
    "                                   '수도권(인천/경기)',\n",
    "                                   '부산/경남/울산',\n",
    "                                   '대구/경북',\n",
    "                                   '대전/충남',\n",
    "                                   '강원/충북',\n",
    "                                   '광주/전남/전북/제주']})\n",
    "list_region"
   ]
  },
  {
   "cell_type": "markdown",
   "id": "d33a6e3e-d873-4e97-8a6d-a57553360d5f",
   "metadata": {},
   "source": [
    "#### 병합 - 지역코드, 지역명 "
   ]
  },
  {
   "cell_type": "code",
   "execution_count": 190,
   "id": "077299ad-7561-4612-b3cf-ee01bf79a3d1",
   "metadata": {},
   "outputs": [
    {
     "name": "stdout",
     "output_type": "stream",
     "text": [
      "<class 'pandas.core.frame.DataFrame'>\n",
      "RangeIndex: 14418 entries, 0 to 14417\n",
      "Data columns (total 12 columns):\n",
      " #   Column  Non-Null Count  Dtype  \n",
      "---  ------  --------------  -----  \n",
      " 0   성별      14418 non-null  float64\n",
      " 1   태어난연도   14418 non-null  float64\n",
      " 2   혼인상태    14418 non-null  float64\n",
      " 3   종교      14418 non-null  object \n",
      " 4   월급      4534 non-null   float64\n",
      " 5   직업코드    6878 non-null   float64\n",
      " 6   지역코드    14418 non-null  float64\n",
      " 7   직무내용    6878 non-null   object \n",
      " 8   혼인타입    14418 non-null  object \n",
      " 9   나이      14418 non-null  float64\n",
      " 10  연령대     14418 non-null  object \n",
      " 11  지역      14418 non-null  object \n",
      "dtypes: float64(7), object(5)\n",
      "memory usage: 1.3+ MB\n"
     ]
    }
   ],
   "source": [
    "ex_eight_merge=ex_eight.merge(list_region, on='지역코드', how='left')\n",
    "ex_eight_merge.info()"
   ]
  },
  {
   "cell_type": "code",
   "execution_count": 191,
   "id": "eb4a30ba-ca4f-43e9-9de2-8623732a45af",
   "metadata": {},
   "outputs": [
    {
     "data": {
      "text/html": [
       "<div>\n",
       "<style scoped>\n",
       "    .dataframe tbody tr th:only-of-type {\n",
       "        vertical-align: middle;\n",
       "    }\n",
       "\n",
       "    .dataframe tbody tr th {\n",
       "        vertical-align: top;\n",
       "    }\n",
       "\n",
       "    .dataframe thead th {\n",
       "        text-align: right;\n",
       "    }\n",
       "</style>\n",
       "<table border=\"1\" class=\"dataframe\">\n",
       "  <thead>\n",
       "    <tr style=\"text-align: right;\">\n",
       "      <th></th>\n",
       "      <th>성별</th>\n",
       "      <th>태어난연도</th>\n",
       "      <th>혼인상태</th>\n",
       "      <th>종교</th>\n",
       "      <th>월급</th>\n",
       "      <th>직업코드</th>\n",
       "      <th>지역코드</th>\n",
       "      <th>직무내용</th>\n",
       "      <th>혼인타입</th>\n",
       "      <th>나이</th>\n",
       "      <th>연령대</th>\n",
       "      <th>지역</th>\n",
       "    </tr>\n",
       "  </thead>\n",
       "  <tbody>\n",
       "    <tr>\n",
       "      <th>0</th>\n",
       "      <td>2.0</td>\n",
       "      <td>1945.0</td>\n",
       "      <td>2.0</td>\n",
       "      <td>유</td>\n",
       "      <td>NaN</td>\n",
       "      <td>NaN</td>\n",
       "      <td>1.0</td>\n",
       "      <td>NaN</td>\n",
       "      <td>기타</td>\n",
       "      <td>75.0</td>\n",
       "      <td>노년층</td>\n",
       "      <td>서울</td>\n",
       "    </tr>\n",
       "    <tr>\n",
       "      <th>1</th>\n",
       "      <td>1.0</td>\n",
       "      <td>1948.0</td>\n",
       "      <td>2.0</td>\n",
       "      <td>무</td>\n",
       "      <td>NaN</td>\n",
       "      <td>NaN</td>\n",
       "      <td>1.0</td>\n",
       "      <td>NaN</td>\n",
       "      <td>기타</td>\n",
       "      <td>72.0</td>\n",
       "      <td>노년층</td>\n",
       "      <td>서울</td>\n",
       "    </tr>\n",
       "  </tbody>\n",
       "</table>\n",
       "</div>"
      ],
      "text/plain": [
       "    성별   태어난연도  혼인상태 종교  월급  직업코드  지역코드 직무내용 혼인타입    나이  연령대  지역\n",
       "0  2.0  1945.0   2.0  유 NaN   NaN   1.0  NaN   기타  75.0  노년층  서울\n",
       "1  1.0  1948.0   2.0  무 NaN   NaN   1.0  NaN   기타  72.0  노년층  서울"
      ]
     },
     "execution_count": 191,
     "metadata": {},
     "output_type": "execute_result"
    }
   ],
   "source": [
    "ex_eight_merge.head(2)"
   ]
  },
  {
   "cell_type": "markdown",
   "id": "c255c204-ba3a-4d91-99dc-792cf3d00f6f",
   "metadata": {},
   "source": [
    "### 데이터 분석\n",
    "- 지역별 연령대 비율\n",
    "    - 시각화\n",
    "    - 데이터 요약표 "
   ]
  },
  {
   "cell_type": "code",
   "execution_count": 205,
   "id": "f0c53f87-8917-445a-a4fb-f909fb32218c",
   "metadata": {},
   "outputs": [
    {
     "data": {
      "text/plain": [
       "<Axes: xlabel='count', ylabel='지역'>"
      ]
     },
     "execution_count": 205,
     "metadata": {},
     "output_type": "execute_result"
    },
    {
     "data": {
      "image/png": "[encoded data removed]",
      "text/plain": [
       "<Figure size 1000x800 with 1 Axes>"
      ]
     },
     "metadata": {},
     "output_type": "display_data"
    }
   ],
   "source": [
    "plt.figure(figsize=(10, 8))\n",
    "sns.countplot(data=ex_eight_merge, y='지역', hue='연령대')"
   ]
  },
  {
   "cell_type": "code",
   "execution_count": 206,
   "id": "9d229b86-d0a2-4bcb-a9ff-fabdeeb512a6",
   "metadata": {},
   "outputs": [
    {
     "data": {
      "text/html": [
       "<div>\n",
       "<style scoped>\n",
       "    .dataframe tbody tr th:only-of-type {\n",
       "        vertical-align: middle;\n",
       "    }\n",
       "\n",
       "    .dataframe tbody tr th {\n",
       "        vertical-align: top;\n",
       "    }\n",
       "\n",
       "    .dataframe thead th {\n",
       "        text-align: right;\n",
       "    }\n",
       "</style>\n",
       "<table border=\"1\" class=\"dataframe\">\n",
       "  <thead>\n",
       "    <tr style=\"text-align: right;\">\n",
       "      <th></th>\n",
       "      <th>지역</th>\n",
       "      <th>연령대</th>\n",
       "      <th>인원수</th>\n",
       "      <th>인원수_백분율</th>\n",
       "    </tr>\n",
       "  </thead>\n",
       "  <tbody>\n",
       "    <tr>\n",
       "      <th>0</th>\n",
       "      <td>강원/충북</td>\n",
       "      <td>노년층</td>\n",
       "      <td>0.459103</td>\n",
       "      <td>45.9</td>\n",
       "    </tr>\n",
       "    <tr>\n",
       "      <th>1</th>\n",
       "      <td>강원/충북</td>\n",
       "      <td>중년층</td>\n",
       "      <td>0.308707</td>\n",
       "      <td>30.9</td>\n",
       "    </tr>\n",
       "    <tr>\n",
       "      <th>2</th>\n",
       "      <td>강원/충북</td>\n",
       "      <td>초년층</td>\n",
       "      <td>0.232190</td>\n",
       "      <td>23.2</td>\n",
       "    </tr>\n",
       "    <tr>\n",
       "      <th>3</th>\n",
       "      <td>광주/전남/전북/제주</td>\n",
       "      <td>노년층</td>\n",
       "      <td>0.449311</td>\n",
       "      <td>44.9</td>\n",
       "    </tr>\n",
       "    <tr>\n",
       "      <th>4</th>\n",
       "      <td>광주/전남/전북/제주</td>\n",
       "      <td>중년층</td>\n",
       "      <td>0.317924</td>\n",
       "      <td>31.8</td>\n",
       "    </tr>\n",
       "    <tr>\n",
       "      <th>5</th>\n",
       "      <td>광주/전남/전북/제주</td>\n",
       "      <td>초년층</td>\n",
       "      <td>0.232766</td>\n",
       "      <td>23.3</td>\n",
       "    </tr>\n",
       "    <tr>\n",
       "      <th>6</th>\n",
       "      <td>대구/경북</td>\n",
       "      <td>노년층</td>\n",
       "      <td>0.504051</td>\n",
       "      <td>50.4</td>\n",
       "    </tr>\n",
       "    <tr>\n",
       "      <th>7</th>\n",
       "      <td>대구/경북</td>\n",
       "      <td>중년층</td>\n",
       "      <td>0.296296</td>\n",
       "      <td>29.6</td>\n",
       "    </tr>\n",
       "    <tr>\n",
       "      <th>8</th>\n",
       "      <td>대구/경북</td>\n",
       "      <td>초년층</td>\n",
       "      <td>0.199653</td>\n",
       "      <td>20.0</td>\n",
       "    </tr>\n",
       "    <tr>\n",
       "      <th>9</th>\n",
       "      <td>대전/충남</td>\n",
       "      <td>노년층</td>\n",
       "      <td>0.413372</td>\n",
       "      <td>41.3</td>\n",
       "    </tr>\n",
       "    <tr>\n",
       "      <th>10</th>\n",
       "      <td>대전/충남</td>\n",
       "      <td>중년층</td>\n",
       "      <td>0.336449</td>\n",
       "      <td>33.6</td>\n",
       "    </tr>\n",
       "    <tr>\n",
       "      <th>11</th>\n",
       "      <td>대전/충남</td>\n",
       "      <td>초년층</td>\n",
       "      <td>0.250180</td>\n",
       "      <td>25.0</td>\n",
       "    </tr>\n",
       "    <tr>\n",
       "      <th>12</th>\n",
       "      <td>부산/경남/울산</td>\n",
       "      <td>노년층</td>\n",
       "      <td>0.437500</td>\n",
       "      <td>43.8</td>\n",
       "    </tr>\n",
       "    <tr>\n",
       "      <th>13</th>\n",
       "      <td>부산/경남/울산</td>\n",
       "      <td>중년층</td>\n",
       "      <td>0.333742</td>\n",
       "      <td>33.4</td>\n",
       "    </tr>\n",
       "    <tr>\n",
       "      <th>14</th>\n",
       "      <td>부산/경남/울산</td>\n",
       "      <td>초년층</td>\n",
       "      <td>0.228758</td>\n",
       "      <td>22.9</td>\n",
       "    </tr>\n",
       "    <tr>\n",
       "      <th>15</th>\n",
       "      <td>서울</td>\n",
       "      <td>중년층</td>\n",
       "      <td>0.385115</td>\n",
       "      <td>38.5</td>\n",
       "    </tr>\n",
       "    <tr>\n",
       "      <th>16</th>\n",
       "      <td>서울</td>\n",
       "      <td>노년층</td>\n",
       "      <td>0.376124</td>\n",
       "      <td>37.6</td>\n",
       "    </tr>\n",
       "    <tr>\n",
       "      <th>17</th>\n",
       "      <td>서울</td>\n",
       "      <td>초년층</td>\n",
       "      <td>0.238761</td>\n",
       "      <td>23.9</td>\n",
       "    </tr>\n",
       "    <tr>\n",
       "      <th>18</th>\n",
       "      <td>수도권(인천/경기)</td>\n",
       "      <td>중년층</td>\n",
       "      <td>0.388170</td>\n",
       "      <td>38.8</td>\n",
       "    </tr>\n",
       "    <tr>\n",
       "      <th>19</th>\n",
       "      <td>수도권(인천/경기)</td>\n",
       "      <td>노년층</td>\n",
       "      <td>0.325015</td>\n",
       "      <td>32.5</td>\n",
       "    </tr>\n",
       "    <tr>\n",
       "      <th>20</th>\n",
       "      <td>수도권(인천/경기)</td>\n",
       "      <td>초년층</td>\n",
       "      <td>0.286815</td>\n",
       "      <td>28.7</td>\n",
       "    </tr>\n",
       "  </tbody>\n",
       "</table>\n",
       "</div>"
      ],
      "text/plain": [
       "             지역  연령대       인원수  인원수_백분율\n",
       "0         강원/충북  노년층  0.459103     45.9\n",
       "1         강원/충북  중년층  0.308707     30.9\n",
       "2         강원/충북  초년층  0.232190     23.2\n",
       "3   광주/전남/전북/제주  노년층  0.449311     44.9\n",
       "4   광주/전남/전북/제주  중년층  0.317924     31.8\n",
       "5   광주/전남/전북/제주  초년층  0.232766     23.3\n",
       "6         대구/경북  노년층  0.504051     50.4\n",
       "7         대구/경북  중년층  0.296296     29.6\n",
       "8         대구/경북  초년층  0.199653     20.0\n",
       "9         대전/충남  노년층  0.413372     41.3\n",
       "10        대전/충남  중년층  0.336449     33.6\n",
       "11        대전/충남  초년층  0.250180     25.0\n",
       "12     부산/경남/울산  노년층  0.437500     43.8\n",
       "13     부산/경남/울산  중년층  0.333742     33.4\n",
       "14     부산/경남/울산  초년층  0.228758     22.9\n",
       "15           서울  중년층  0.385115     38.5\n",
       "16           서울  노년층  0.376124     37.6\n",
       "17           서울  초년층  0.238761     23.9\n",
       "18   수도권(인천/경기)  중년층  0.388170     38.8\n",
       "19   수도권(인천/경기)  노년층  0.325015     32.5\n",
       "20   수도권(인천/경기)  초년층  0.286815     28.7"
      ]
     },
     "execution_count": 206,
     "metadata": {},
     "output_type": "execute_result"
    }
   ],
   "source": [
    "result=ex_eight_merge.groupby('지역')['연령대'].value_counts(normalize=True).reset_index(name='인원수')\n",
    "result['인원수_백분율']=round(result['인원수'] * 100, 1)\n",
    "result\n",
    "\n",
    "# 인원수 : 연령대 값의 비율 계산  normalize=True / 기본값:인원수\n",
    "# 백분율 : 인원수의 백분율"
   ]
  },
  {
   "cell_type": "code",
   "execution_count": 213,
   "id": "d4bcab65-7052-47e5-b8e2-829a6aef16ec",
   "metadata": {},
   "outputs": [
    {
     "data": {
      "text/html": [
       "<div>\n",
       "<style scoped>\n",
       "    .dataframe tbody tr th:only-of-type {\n",
       "        vertical-align: middle;\n",
       "    }\n",
       "\n",
       "    .dataframe tbody tr th {\n",
       "        vertical-align: top;\n",
       "    }\n",
       "\n",
       "    .dataframe thead th {\n",
       "        text-align: right;\n",
       "    }\n",
       "</style>\n",
       "<table border=\"1\" class=\"dataframe\">\n",
       "  <thead>\n",
       "    <tr style=\"text-align: right;\">\n",
       "      <th>연령대</th>\n",
       "      <th>노년층</th>\n",
       "      <th>중년층</th>\n",
       "      <th>초년층</th>\n",
       "    </tr>\n",
       "    <tr>\n",
       "      <th>지역</th>\n",
       "      <th></th>\n",
       "      <th></th>\n",
       "      <th></th>\n",
       "    </tr>\n",
       "  </thead>\n",
       "  <tbody>\n",
       "    <tr>\n",
       "      <th>강원/충북</th>\n",
       "      <td>45.9</td>\n",
       "      <td>30.9</td>\n",
       "      <td>23.2</td>\n",
       "    </tr>\n",
       "    <tr>\n",
       "      <th>광주/전남/전북/제주</th>\n",
       "      <td>44.9</td>\n",
       "      <td>31.8</td>\n",
       "      <td>23.3</td>\n",
       "    </tr>\n",
       "    <tr>\n",
       "      <th>대구/경북</th>\n",
       "      <td>50.4</td>\n",
       "      <td>29.6</td>\n",
       "      <td>20.0</td>\n",
       "    </tr>\n",
       "    <tr>\n",
       "      <th>대전/충남</th>\n",
       "      <td>41.3</td>\n",
       "      <td>33.6</td>\n",
       "      <td>25.0</td>\n",
       "    </tr>\n",
       "    <tr>\n",
       "      <th>부산/경남/울산</th>\n",
       "      <td>43.8</td>\n",
       "      <td>33.4</td>\n",
       "      <td>22.9</td>\n",
       "    </tr>\n",
       "    <tr>\n",
       "      <th>서울</th>\n",
       "      <td>37.6</td>\n",
       "      <td>38.5</td>\n",
       "      <td>23.9</td>\n",
       "    </tr>\n",
       "    <tr>\n",
       "      <th>수도권(인천/경기)</th>\n",
       "      <td>32.5</td>\n",
       "      <td>38.8</td>\n",
       "      <td>28.7</td>\n",
       "    </tr>\n",
       "  </tbody>\n",
       "</table>\n",
       "</div>"
      ],
      "text/plain": [
       "연령대           노년층   중년층   초년층\n",
       "지역                           \n",
       "강원/충북        45.9  30.9  23.2\n",
       "광주/전남/전북/제주  44.9  31.8  23.3\n",
       "대구/경북        50.4  29.6  20.0\n",
       "대전/충남        41.3  33.6  25.0\n",
       "부산/경남/울산     43.8  33.4  22.9\n",
       "서울           37.6  38.5  23.9\n",
       "수도권(인천/경기)   32.5  38.8  28.7"
      ]
     },
     "execution_count": 213,
     "metadata": {},
     "output_type": "execute_result"
    }
   ],
   "source": [
    "pivot_df=result.pivot_table(index='지역', columns='연령대', values='인원수_백분율')\n",
    "pivot_df"
   ]
  },
  {
   "cell_type": "code",
   "execution_count": 215,
   "id": "15079a20-d560-4885-bf1b-6c49ccb89b85",
   "metadata": {},
   "outputs": [
    {
     "data": {
      "text/plain": [
       "<Axes: ylabel='지역'>"
      ]
     },
     "execution_count": 215,
     "metadata": {},
     "output_type": "execute_result"
    },
    {
     "data": {
      "image/png": "[encoded data removed]",
      "text/plain": [
       "<Figure size 640x480 with 1 Axes>"
      ]
     },
     "metadata": {},
     "output_type": "display_data"
    }
   ],
   "source": [
    "# 가로 막대 \n",
    "pivot_df.plot.barh(stacked=True)\n",
    "\n",
    "# https://wikidocs.net/158849\n",
    "# https://pandas.pydata.org/docs/reference/api/pandas.DataFrame.plot.html#pandas.DataFrame.plot"
   ]
  },
  {
   "cell_type": "code",
   "execution_count": 217,
   "id": "e0258ddb-d85c-41f0-b556-e58cd0a44c0a",
   "metadata": {},
   "outputs": [
    {
     "data": {
      "text/html": [
       "<div>\n",
       "<style scoped>\n",
       "    .dataframe tbody tr th:only-of-type {\n",
       "        vertical-align: middle;\n",
       "    }\n",
       "\n",
       "    .dataframe tbody tr th {\n",
       "        vertical-align: top;\n",
       "    }\n",
       "\n",
       "    .dataframe thead th {\n",
       "        text-align: right;\n",
       "    }\n",
       "</style>\n",
       "<table border=\"1\" class=\"dataframe\">\n",
       "  <thead>\n",
       "    <tr style=\"text-align: right;\">\n",
       "      <th>연령대</th>\n",
       "      <th>노년층</th>\n",
       "      <th>중년층</th>\n",
       "      <th>초년층</th>\n",
       "    </tr>\n",
       "    <tr>\n",
       "      <th>지역</th>\n",
       "      <th></th>\n",
       "      <th></th>\n",
       "      <th></th>\n",
       "    </tr>\n",
       "  </thead>\n",
       "  <tbody>\n",
       "    <tr>\n",
       "      <th>강원/충북</th>\n",
       "      <td>0.036205</td>\n",
       "      <td>0.024345</td>\n",
       "      <td>0.018310</td>\n",
       "    </tr>\n",
       "    <tr>\n",
       "      <th>광주/전남/전북/제주</th>\n",
       "      <td>0.076848</td>\n",
       "      <td>0.054376</td>\n",
       "      <td>0.039811</td>\n",
       "    </tr>\n",
       "    <tr>\n",
       "      <th>대구/경북</th>\n",
       "      <td>0.060411</td>\n",
       "      <td>0.035511</td>\n",
       "      <td>0.023928</td>\n",
       "    </tr>\n",
       "    <tr>\n",
       "      <th>대전/충남</th>\n",
       "      <td>0.039881</td>\n",
       "      <td>0.032459</td>\n",
       "      <td>0.024136</td>\n",
       "    </tr>\n",
       "    <tr>\n",
       "      <th>부산/경남/울산</th>\n",
       "      <td>0.074282</td>\n",
       "      <td>0.056665</td>\n",
       "      <td>0.038840</td>\n",
       "    </tr>\n",
       "    <tr>\n",
       "      <th>서울</th>\n",
       "      <td>0.052226</td>\n",
       "      <td>0.053475</td>\n",
       "      <td>0.033153</td>\n",
       "    </tr>\n",
       "    <tr>\n",
       "      <th>수도권(인천/경기)</th>\n",
       "      <td>0.073172</td>\n",
       "      <td>0.087391</td>\n",
       "      <td>0.064572</td>\n",
       "    </tr>\n",
       "  </tbody>\n",
       "</table>\n",
       "</div>"
      ],
      "text/plain": [
       "연령대               노년층       중년층       초년층\n",
       "지역                                       \n",
       "강원/충북        0.036205  0.024345  0.018310\n",
       "광주/전남/전북/제주  0.076848  0.054376  0.039811\n",
       "대구/경북        0.060411  0.035511  0.023928\n",
       "대전/충남        0.039881  0.032459  0.024136\n",
       "부산/경남/울산     0.074282  0.056665  0.038840\n",
       "서울           0.052226  0.053475  0.033153\n",
       "수도권(인천/경기)   0.073172  0.087391  0.064572"
      ]
     },
     "execution_count": 217,
     "metadata": {},
     "output_type": "execute_result"
    }
   ],
   "source": [
    "# 비율\n",
    "ex_eight_crosstab=pd.crosstab(ex_eight_merge['지역'], ex_eight_merge['연령대'], normalize='all')\n",
    "ex_eight_crosstab   "
   ]
  },
  {
   "cell_type": "code",
   "execution_count": 219,
   "id": "f05c7434-e93c-4f3a-a2cd-9bac7eb8654e",
   "metadata": {},
   "outputs": [
    {
     "data": {
      "text/plain": [
       "<Axes: ylabel='지역'>"
      ]
     },
     "execution_count": 219,
     "metadata": {},
     "output_type": "execute_result"
    },
    {
     "data": {
      "image/png": "[encoded data removed]",
      "text/plain": [
       "<Figure size 640x480 with 1 Axes>"
      ]
     },
     "metadata": {},
     "output_type": "display_data"
    }
   ],
   "source": [
    "ex_eight_crosstab.plot.barh() "
   ]
  },
  {
   "cell_type": "code",
   "execution_count": 221,
   "id": "eb5d4450-ffad-4f3e-9b92-a47b933c2284",
   "metadata": {},
   "outputs": [
    {
     "data": {
      "text/html": [
       "<div>\n",
       "<style scoped>\n",
       "    .dataframe tbody tr th:only-of-type {\n",
       "        vertical-align: middle;\n",
       "    }\n",
       "\n",
       "    .dataframe tbody tr th {\n",
       "        vertical-align: top;\n",
       "    }\n",
       "\n",
       "    .dataframe thead th {\n",
       "        text-align: right;\n",
       "    }\n",
       "</style>\n",
       "<table border=\"1\" class=\"dataframe\">\n",
       "  <thead>\n",
       "    <tr style=\"text-align: right;\">\n",
       "      <th>연령대</th>\n",
       "      <th>노년층</th>\n",
       "      <th>중년층</th>\n",
       "      <th>초년층</th>\n",
       "    </tr>\n",
       "    <tr>\n",
       "      <th>지역</th>\n",
       "      <th></th>\n",
       "      <th></th>\n",
       "      <th></th>\n",
       "    </tr>\n",
       "  </thead>\n",
       "  <tbody>\n",
       "    <tr>\n",
       "      <th>강원/충북</th>\n",
       "      <td>0.036205</td>\n",
       "      <td>0.024345</td>\n",
       "      <td>0.018310</td>\n",
       "    </tr>\n",
       "    <tr>\n",
       "      <th>광주/전남/전북/제주</th>\n",
       "      <td>0.076848</td>\n",
       "      <td>0.054376</td>\n",
       "      <td>0.039811</td>\n",
       "    </tr>\n",
       "    <tr>\n",
       "      <th>대구/경북</th>\n",
       "      <td>0.060411</td>\n",
       "      <td>0.035511</td>\n",
       "      <td>0.023928</td>\n",
       "    </tr>\n",
       "    <tr>\n",
       "      <th>대전/충남</th>\n",
       "      <td>0.039881</td>\n",
       "      <td>0.032459</td>\n",
       "      <td>0.024136</td>\n",
       "    </tr>\n",
       "    <tr>\n",
       "      <th>부산/경남/울산</th>\n",
       "      <td>0.074282</td>\n",
       "      <td>0.056665</td>\n",
       "      <td>0.038840</td>\n",
       "    </tr>\n",
       "    <tr>\n",
       "      <th>서울</th>\n",
       "      <td>0.052226</td>\n",
       "      <td>0.053475</td>\n",
       "      <td>0.033153</td>\n",
       "    </tr>\n",
       "    <tr>\n",
       "      <th>수도권(인천/경기)</th>\n",
       "      <td>0.073172</td>\n",
       "      <td>0.087391</td>\n",
       "      <td>0.064572</td>\n",
       "    </tr>\n",
       "  </tbody>\n",
       "</table>\n",
       "</div>"
      ],
      "text/plain": [
       "연령대               노년층       중년층       초년층\n",
       "지역                                       \n",
       "강원/충북        0.036205  0.024345  0.018310\n",
       "광주/전남/전북/제주  0.076848  0.054376  0.039811\n",
       "대구/경북        0.060411  0.035511  0.023928\n",
       "대전/충남        0.039881  0.032459  0.024136\n",
       "부산/경남/울산     0.074282  0.056665  0.038840\n",
       "서울           0.052226  0.053475  0.033153\n",
       "수도권(인천/경기)   0.073172  0.087391  0.064572"
      ]
     },
     "execution_count": 221,
     "metadata": {},
     "output_type": "execute_result"
    }
   ],
   "source": [
    "ex_eight_crosstab=pd.crosstab(ex_eight_merge['지역'], ex_eight_merge['연령대'], normalize='all')\n",
    "ex_eight_crosstab       # 백분율"
   ]
  },
  {
   "cell_type": "code",
   "execution_count": 223,
   "id": "5d58aee6-84b7-4aa2-88b8-06f4a3fdf1c5",
   "metadata": {},
   "outputs": [
    {
     "data": {
      "image/png": "[encoded data removed]",
      "text/plain": [
       "<Figure size 2000x600 with 1 Axes>"
      ]
     },
     "metadata": {},
     "output_type": "display_data"
    }
   ],
   "source": [
    "ax=ex_eight_crosstab.plot.line()\n",
    "\n",
    "fig=ax.get_figure()\n",
    "fig.set_size_inches(20, 6) "
   ]
  },
  {
   "cell_type": "code",
   "execution_count": 225,
   "id": "5f415995-6a77-4bc1-9855-2a288c81c310",
   "metadata": {},
   "outputs": [
    {
     "data": {
      "text/plain": [
       "Chi2ContingencyResult(statistic=0.014714503623000877, pvalue=0.9999999999999998, dof=12, expected_freq=array([[0.03257108, 0.0271453 , 0.01914337],\n",
       "       [0.07064229, 0.05887451, 0.0415194 ],\n",
       "       [0.04950117, 0.04125513, 0.02909389],\n",
       "       [0.0398473 , 0.03320943, 0.02341991],\n",
       "       [0.07012666, 0.05844477, 0.04121634],\n",
       "       [0.05735031, 0.04779674, 0.03370715],\n",
       "       [0.09298657, 0.07749662, 0.05465206]]))"
      ]
     },
     "execution_count": 225,
     "metadata": {},
     "output_type": "execute_result"
    }
   ],
   "source": [
    "# 귀무가설(H₀): 지역별 연령대 분포는 서로 독립적이다.\n",
    "# 대립가설(H₁): 지역별 연령대 분포는 서로 독립적이지 않다.\n",
    "\n",
    "stats.chi2_contingency(ex_eight_crosstab)\n",
    "# 귀무가설 참, 귀무가설 기각 실패, 연령대별 지역 거주는 연관성이 없다."
   ]
  },
  {
   "cell_type": "code",
   "execution_count": null,
   "id": "dc2ae593-aa1c-4dbe-bab4-c9cbc8b830fb",
   "metadata": {},
   "outputs": [],
   "source": []
  }
 ],
 "metadata": {
  "kernelspec": {
   "display_name": "Python [conda env:base] *",
   "language": "python",
   "name": "conda-base-py"
  },
  "language_info": {
   "codemirror_mode": {
    "name": "ipython",
    "version": 3
   },
   "file_extension": ".py",
   "mimetype": "text/x-python",
   "name": "python",
   "nbconvert_exporter": "python",
   "pygments_lexer": "ipython3",
   "version": "3.12.7"
  }
 },
 "nbformat": 4,
 "nbformat_minor": 5
}
