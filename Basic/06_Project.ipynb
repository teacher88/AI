{
 "cells": [
  {
   "cell_type": "markdown",
   "id": "11bed5f9-a378-43d8-b496-a28a1c14d8c8",
   "metadata": {},
   "source": [
    "# Project\n",
    "## 분석 목표 - 한국복지 패널\n",
    "* 분석 내용(한국인의 삶을 파악하라)\n",
    "1) 성별에 따른 월급 차이 - 성별에 따라 월급이 다를까?\n",
    "2) 나이와 월급의 관계 - 몇 살때 월급을 가장 많이 받을까?\n",
    "3) 연령대에 따른 월급 차이 - 어떤 연령대의 월급이 가장 많이 받을까?\n",
    "4) 연령대 및 성별 월급 차이 - 성별 월급 차이는 연령대별로 다를까?\n",
    "5) 직업별 월급 차이 - 어떤 직업이 월급 가장 많이 받을까?\n",
    "6) 성별 직업 빈도 - 성별로 어떤 직업이 가장 많을까?\n",
    "7) 종교 유무에 따른 이혼율 - 종교가 있으면 이혼을 덜 할까?\n",
    "8) 지역별 연령대 비율 - 어느 지역에 노년층이 많을까?"
   ]
  },
  {
   "cell_type": "markdown",
   "id": "d401eba5-7fa9-45c0-be30-7a9b7e7682d0",
   "metadata": {},
   "source": [
    "### 설치 및 라이브러리 설정"
   ]
  },
  {
   "cell_type": "code",
   "execution_count": 2,
   "id": "f8c3acab-2c20-49d5-a096-8df2571531c8",
   "metadata": {},
   "outputs": [],
   "source": [
    "# 통계분석에 필요한 라이브러리 설치 (SPSS, SAS)\n",
    "!pip install pyreadstat"
   ]
  },
  {
   "cell_type": "code",
   "execution_count": 1,
   "id": "0a1b8152-556b-4cc1-bb0f-9a09d17fa3d5",
   "metadata": {},
   "outputs": [],
   "source": [
    "import numpy as np\n",
    "import pandas as pd\n",
    "import seaborn as sns      \n",
    "\n",
    "import matplotlib.pyplot as plt   \n",
    "import matplotlib as mpl          \n",
    "mpl.rc('font', family='Malgun Gothic') \n",
    "plt.rcParams['axes.unicode_minus'] = False\n",
    "\n",
    "import scipy.stats as stats"
   ]
  },
  {
   "cell_type": "markdown",
   "id": "f374b014-d889-4dae-96c9-ae07005374ca",
   "metadata": {},
   "source": [
    "### 데이터 전처리\n",
    "* https://www.koweps.re.kr:442/data/data/list.do \n",
    "* 데이터 불러오기 및 검토\n",
    "* 원하는 컬럼 추출 및 컬럼명 변경"
   ]
  },
  {
   "cell_type": "code",
   "execution_count": 139,
   "id": "dc6e58ed-f556-46aa-9a4d-237f06447072",
   "metadata": {},
   "outputs": [
    {
     "data": {
      "text/plain": [
       "(14418, 830)"
      ]
     },
     "execution_count": 139,
     "metadata": {},
     "output_type": "execute_result"
    }
   ],
   "source": [
    "data=pd.read_spss('./Data/pandas/project/Koweps_hpwc14_2019_beta2.sav')\n",
    "data.shape    #  6,331가구 / 14,418명의 정보 "
   ]
  },
  {
   "cell_type": "code",
   "execution_count": 141,
   "id": "d30213fd-4cf9-493f-a9a3-319c012cc7ad",
   "metadata": {},
   "outputs": [
    {
     "data": {
      "text/html": [
       "<div>\n",
       "<style scoped>\n",
       "    .dataframe tbody tr th:only-of-type {\n",
       "        vertical-align: middle;\n",
       "    }\n",
       "\n",
       "    .dataframe tbody tr th {\n",
       "        vertical-align: top;\n",
       "    }\n",
       "\n",
       "    .dataframe thead th {\n",
       "        text-align: right;\n",
       "    }\n",
       "</style>\n",
       "<table border=\"1\" class=\"dataframe\">\n",
       "  <thead>\n",
       "    <tr style=\"text-align: right;\">\n",
       "      <th></th>\n",
       "      <th>h14_id</th>\n",
       "      <th>h14_ind</th>\n",
       "      <th>h14_sn</th>\n",
       "      <th>h14_merkey</th>\n",
       "      <th>h_new</th>\n",
       "      <th>h14_cobf</th>\n",
       "      <th>p14_wsc</th>\n",
       "      <th>p14_wsl</th>\n",
       "      <th>p14_wgc</th>\n",
       "      <th>p14_wgl</th>\n",
       "      <th>...</th>\n",
       "      <th>wc14_64</th>\n",
       "      <th>wc14_65</th>\n",
       "      <th>wc14_5aq4</th>\n",
       "      <th>wc14_5aq5</th>\n",
       "      <th>wc14_5aq6</th>\n",
       "      <th>h14_pers_income1</th>\n",
       "      <th>h14_pers_income2</th>\n",
       "      <th>h14_pers_income3</th>\n",
       "      <th>h14_pers_income4</th>\n",
       "      <th>h14_pers_income5</th>\n",
       "    </tr>\n",
       "  </thead>\n",
       "  <tbody>\n",
       "    <tr>\n",
       "      <th>0</th>\n",
       "      <td>2.0</td>\n",
       "      <td>1.0</td>\n",
       "      <td>1.0</td>\n",
       "      <td>20101.0</td>\n",
       "      <td>0.0</td>\n",
       "      <td>NaN</td>\n",
       "      <td>0.291589</td>\n",
       "      <td>0.291589</td>\n",
       "      <td>1307.764781</td>\n",
       "      <td>1307.764781</td>\n",
       "      <td>...</td>\n",
       "      <td>NaN</td>\n",
       "      <td></td>\n",
       "      <td>NaN</td>\n",
       "      <td>NaN</td>\n",
       "      <td>NaN</td>\n",
       "      <td>NaN</td>\n",
       "      <td>NaN</td>\n",
       "      <td>NaN</td>\n",
       "      <td>0.0</td>\n",
       "      <td>NaN</td>\n",
       "    </tr>\n",
       "    <tr>\n",
       "      <th>1</th>\n",
       "      <td>3.0</td>\n",
       "      <td>1.0</td>\n",
       "      <td>1.0</td>\n",
       "      <td>30101.0</td>\n",
       "      <td>0.0</td>\n",
       "      <td>NaN</td>\n",
       "      <td>0.419753</td>\n",
       "      <td>0.419753</td>\n",
       "      <td>1882.570960</td>\n",
       "      <td>1882.570960</td>\n",
       "      <td>...</td>\n",
       "      <td>NaN</td>\n",
       "      <td></td>\n",
       "      <td>NaN</td>\n",
       "      <td>NaN</td>\n",
       "      <td>NaN</td>\n",
       "      <td>NaN</td>\n",
       "      <td>NaN</td>\n",
       "      <td>NaN</td>\n",
       "      <td>0.0</td>\n",
       "      <td>NaN</td>\n",
       "    </tr>\n",
       "    <tr>\n",
       "      <th>2</th>\n",
       "      <td>4.0</td>\n",
       "      <td>1.0</td>\n",
       "      <td>1.0</td>\n",
       "      <td>40101.0</td>\n",
       "      <td>0.0</td>\n",
       "      <td>NaN</td>\n",
       "      <td>0.265263</td>\n",
       "      <td>0.265980</td>\n",
       "      <td>1189.691668</td>\n",
       "      <td>1192.908537</td>\n",
       "      <td>...</td>\n",
       "      <td>NaN</td>\n",
       "      <td></td>\n",
       "      <td>NaN</td>\n",
       "      <td>NaN</td>\n",
       "      <td>NaN</td>\n",
       "      <td>NaN</td>\n",
       "      <td>1284.0</td>\n",
       "      <td>NaN</td>\n",
       "      <td>0.0</td>\n",
       "      <td>NaN</td>\n",
       "    </tr>\n",
       "    <tr>\n",
       "      <th>3</th>\n",
       "      <td>6.0</td>\n",
       "      <td>1.0</td>\n",
       "      <td>1.0</td>\n",
       "      <td>60101.0</td>\n",
       "      <td>0.0</td>\n",
       "      <td>NaN</td>\n",
       "      <td>0.494906</td>\n",
       "      <td>0.495941</td>\n",
       "      <td>2219.630833</td>\n",
       "      <td>2224.273816</td>\n",
       "      <td>...</td>\n",
       "      <td>1.0</td>\n",
       "      <td>.</td>\n",
       "      <td>2.0</td>\n",
       "      <td>4.0</td>\n",
       "      <td>4.0</td>\n",
       "      <td>2304.0</td>\n",
       "      <td>NaN</td>\n",
       "      <td>1800.0</td>\n",
       "      <td>0.0</td>\n",
       "      <td>NaN</td>\n",
       "    </tr>\n",
       "    <tr>\n",
       "      <th>4</th>\n",
       "      <td>6.0</td>\n",
       "      <td>1.0</td>\n",
       "      <td>1.0</td>\n",
       "      <td>60101.0</td>\n",
       "      <td>0.0</td>\n",
       "      <td>NaN</td>\n",
       "      <td>1.017935</td>\n",
       "      <td>1.017935</td>\n",
       "      <td>4565.389177</td>\n",
       "      <td>4565.389177</td>\n",
       "      <td>...</td>\n",
       "      <td>1.0</td>\n",
       "      <td>.</td>\n",
       "      <td>1.0</td>\n",
       "      <td>5.0</td>\n",
       "      <td>2.0</td>\n",
       "      <td>NaN</td>\n",
       "      <td>NaN</td>\n",
       "      <td>NaN</td>\n",
       "      <td>0.0</td>\n",
       "      <td>NaN</td>\n",
       "    </tr>\n",
       "  </tbody>\n",
       "</table>\n",
       "<p>5 rows × 830 columns</p>\n",
       "</div>"
      ],
      "text/plain": [
       "   h14_id  h14_ind  h14_sn  h14_merkey  h_new  h14_cobf   p14_wsc   p14_wsl  \\\n",
       "0     2.0      1.0     1.0     20101.0    0.0       NaN  0.291589  0.291589   \n",
       "1     3.0      1.0     1.0     30101.0    0.0       NaN  0.419753  0.419753   \n",
       "2     4.0      1.0     1.0     40101.0    0.0       NaN  0.265263  0.265980   \n",
       "3     6.0      1.0     1.0     60101.0    0.0       NaN  0.494906  0.495941   \n",
       "4     6.0      1.0     1.0     60101.0    0.0       NaN  1.017935  1.017935   \n",
       "\n",
       "       p14_wgc      p14_wgl  ...  wc14_64  wc14_65  wc14_5aq4  wc14_5aq5  \\\n",
       "0  1307.764781  1307.764781  ...      NaN                 NaN        NaN   \n",
       "1  1882.570960  1882.570960  ...      NaN                 NaN        NaN   \n",
       "2  1189.691668  1192.908537  ...      NaN                 NaN        NaN   \n",
       "3  2219.630833  2224.273816  ...      1.0        .        2.0        4.0   \n",
       "4  4565.389177  4565.389177  ...      1.0        .        1.0        5.0   \n",
       "\n",
       "   wc14_5aq6  h14_pers_income1  h14_pers_income2  h14_pers_income3  \\\n",
       "0        NaN               NaN               NaN               NaN   \n",
       "1        NaN               NaN               NaN               NaN   \n",
       "2        NaN               NaN            1284.0               NaN   \n",
       "3        4.0            2304.0               NaN            1800.0   \n",
       "4        2.0               NaN               NaN               NaN   \n",
       "\n",
       "   h14_pers_income4  h14_pers_income5  \n",
       "0               0.0               NaN  \n",
       "1               0.0               NaN  \n",
       "2               0.0               NaN  \n",
       "3               0.0               NaN  \n",
       "4               0.0               NaN  \n",
       "\n",
       "[5 rows x 830 columns]"
      ]
     },
     "execution_count": 141,
     "metadata": {},
     "output_type": "execute_result"
    }
   ],
   "source": [
    "data.head()"
   ]
  },
  {
   "cell_type": "code",
   "execution_count": 142,
   "id": "c21b4ef7-9d7d-4400-9205-b81008b3e6c8",
   "metadata": {},
   "outputs": [],
   "source": [
    "# csv 파일로 저장 \n",
    "# data.to_csv('./Data/pandas/project/Koweps_hpwc14_2019_beta2.csv', index=False)"
   ]
  },
  {
   "cell_type": "code",
   "execution_count": 143,
   "id": "9519b842-fa05-46d7-a2e6-e751f3b3769b",
   "metadata": {},
   "outputs": [],
   "source": [
    "# data.columns"
   ]
  },
  {
   "cell_type": "code",
   "execution_count": 144,
   "id": "04db9615-966c-4b98-9909-d84259a59d41",
   "metadata": {},
   "outputs": [
    {
     "data": {
      "text/html": [
       "<div>\n",
       "<style scoped>\n",
       "    .dataframe tbody tr th:only-of-type {\n",
       "        vertical-align: middle;\n",
       "    }\n",
       "\n",
       "    .dataframe tbody tr th {\n",
       "        vertical-align: top;\n",
       "    }\n",
       "\n",
       "    .dataframe thead th {\n",
       "        text-align: right;\n",
       "    }\n",
       "</style>\n",
       "<table border=\"1\" class=\"dataframe\">\n",
       "  <thead>\n",
       "    <tr style=\"text-align: right;\">\n",
       "      <th></th>\n",
       "      <th>h14_g3</th>\n",
       "      <th>h14_g4</th>\n",
       "      <th>h14_g10</th>\n",
       "      <th>h14_g11</th>\n",
       "      <th>p1402_8aq1</th>\n",
       "      <th>h14_eco9</th>\n",
       "      <th>h14_reg7</th>\n",
       "    </tr>\n",
       "  </thead>\n",
       "  <tbody>\n",
       "    <tr>\n",
       "      <th>0</th>\n",
       "      <td>2.0</td>\n",
       "      <td>1945.0</td>\n",
       "      <td>2.0</td>\n",
       "      <td>1.0</td>\n",
       "      <td>NaN</td>\n",
       "      <td>NaN</td>\n",
       "      <td>1.0</td>\n",
       "    </tr>\n",
       "    <tr>\n",
       "      <th>1</th>\n",
       "      <td>1.0</td>\n",
       "      <td>1948.0</td>\n",
       "      <td>2.0</td>\n",
       "      <td>2.0</td>\n",
       "      <td>NaN</td>\n",
       "      <td>NaN</td>\n",
       "      <td>1.0</td>\n",
       "    </tr>\n",
       "    <tr>\n",
       "      <th>2</th>\n",
       "      <td>1.0</td>\n",
       "      <td>1942.0</td>\n",
       "      <td>3.0</td>\n",
       "      <td>1.0</td>\n",
       "      <td>107.0</td>\n",
       "      <td>762.0</td>\n",
       "      <td>1.0</td>\n",
       "    </tr>\n",
       "    <tr>\n",
       "      <th>3</th>\n",
       "      <td>1.0</td>\n",
       "      <td>1962.0</td>\n",
       "      <td>1.0</td>\n",
       "      <td>1.0</td>\n",
       "      <td>192.0</td>\n",
       "      <td>855.0</td>\n",
       "      <td>1.0</td>\n",
       "    </tr>\n",
       "    <tr>\n",
       "      <th>4</th>\n",
       "      <td>2.0</td>\n",
       "      <td>1963.0</td>\n",
       "      <td>1.0</td>\n",
       "      <td>1.0</td>\n",
       "      <td>NaN</td>\n",
       "      <td>NaN</td>\n",
       "      <td>1.0</td>\n",
       "    </tr>\n",
       "  </tbody>\n",
       "</table>\n",
       "</div>"
      ],
      "text/plain": [
       "   h14_g3  h14_g4  h14_g10  h14_g11  p1402_8aq1  h14_eco9  h14_reg7\n",
       "0     2.0  1945.0      2.0      1.0         NaN       NaN       1.0\n",
       "1     1.0  1948.0      2.0      2.0         NaN       NaN       1.0\n",
       "2     1.0  1942.0      3.0      1.0       107.0     762.0       1.0\n",
       "3     1.0  1962.0      1.0      1.0       192.0     855.0       1.0\n",
       "4     2.0  1963.0      1.0      1.0         NaN       NaN       1.0"
      ]
     },
     "execution_count": 144,
     "metadata": {},
     "output_type": "execute_result"
    }
   ],
   "source": [
    "# 원하는 컬럼 추출 \n",
    "person=data[['h14_g3', 'h14_g4',  'h14_g10', 'h14_g11', 'p1402_8aq1', 'h14_eco9', 'h14_reg7']]\n",
    "person.head()"
   ]
  },
  {
   "cell_type": "code",
   "execution_count": 145,
   "id": "f1884571-5327-4a4c-97b9-3bbc76384609",
   "metadata": {},
   "outputs": [
    {
     "name": "stdout",
     "output_type": "stream",
     "text": [
      "<class 'pandas.core.frame.DataFrame'>\n",
      "RangeIndex: 14418 entries, 0 to 14417\n",
      "Data columns (total 7 columns):\n",
      " #   Column      Non-Null Count  Dtype  \n",
      "---  ------      --------------  -----  \n",
      " 0   h14_g3      14418 non-null  float64\n",
      " 1   h14_g4      14418 non-null  float64\n",
      " 2   h14_g10     14418 non-null  float64\n",
      " 3   h14_g11     14418 non-null  float64\n",
      " 4   p1402_8aq1  4534 non-null   float64\n",
      " 5   h14_eco9    6878 non-null   float64\n",
      " 6   h14_reg7    14418 non-null  float64\n",
      "dtypes: float64(7)\n",
      "memory usage: 788.6 KB\n"
     ]
    }
   ],
   "source": [
    "person.info()                      # 각 특성의 타입 및 결측치 체크 "
   ]
  },
  {
   "cell_type": "code",
   "execution_count": 146,
   "id": "53b00dac-f3e2-42d9-bd43-f6f0dea14589",
   "metadata": {},
   "outputs": [
    {
     "data": {
      "text/html": [
       "<div>\n",
       "<style scoped>\n",
       "    .dataframe tbody tr th:only-of-type {\n",
       "        vertical-align: middle;\n",
       "    }\n",
       "\n",
       "    .dataframe tbody tr th {\n",
       "        vertical-align: top;\n",
       "    }\n",
       "\n",
       "    .dataframe thead th {\n",
       "        text-align: right;\n",
       "    }\n",
       "</style>\n",
       "<table border=\"1\" class=\"dataframe\">\n",
       "  <thead>\n",
       "    <tr style=\"text-align: right;\">\n",
       "      <th></th>\n",
       "      <th>성별</th>\n",
       "      <th>태어난연도</th>\n",
       "      <th>혼인상태</th>\n",
       "      <th>종교</th>\n",
       "      <th>월급</th>\n",
       "      <th>직업코드</th>\n",
       "      <th>지역코드</th>\n",
       "    </tr>\n",
       "  </thead>\n",
       "  <tbody>\n",
       "    <tr>\n",
       "      <th>0</th>\n",
       "      <td>2.0</td>\n",
       "      <td>1945.0</td>\n",
       "      <td>2.0</td>\n",
       "      <td>1.0</td>\n",
       "      <td>NaN</td>\n",
       "      <td>NaN</td>\n",
       "      <td>1.0</td>\n",
       "    </tr>\n",
       "    <tr>\n",
       "      <th>1</th>\n",
       "      <td>1.0</td>\n",
       "      <td>1948.0</td>\n",
       "      <td>2.0</td>\n",
       "      <td>2.0</td>\n",
       "      <td>NaN</td>\n",
       "      <td>NaN</td>\n",
       "      <td>1.0</td>\n",
       "    </tr>\n",
       "    <tr>\n",
       "      <th>2</th>\n",
       "      <td>1.0</td>\n",
       "      <td>1942.0</td>\n",
       "      <td>3.0</td>\n",
       "      <td>1.0</td>\n",
       "      <td>107.0</td>\n",
       "      <td>762.0</td>\n",
       "      <td>1.0</td>\n",
       "    </tr>\n",
       "    <tr>\n",
       "      <th>3</th>\n",
       "      <td>1.0</td>\n",
       "      <td>1962.0</td>\n",
       "      <td>1.0</td>\n",
       "      <td>1.0</td>\n",
       "      <td>192.0</td>\n",
       "      <td>855.0</td>\n",
       "      <td>1.0</td>\n",
       "    </tr>\n",
       "    <tr>\n",
       "      <th>4</th>\n",
       "      <td>2.0</td>\n",
       "      <td>1963.0</td>\n",
       "      <td>1.0</td>\n",
       "      <td>1.0</td>\n",
       "      <td>NaN</td>\n",
       "      <td>NaN</td>\n",
       "      <td>1.0</td>\n",
       "    </tr>\n",
       "  </tbody>\n",
       "</table>\n",
       "</div>"
      ],
      "text/plain": [
       "    성별   태어난연도  혼인상태   종교     월급   직업코드  지역코드\n",
       "0  2.0  1945.0   2.0  1.0    NaN    NaN   1.0\n",
       "1  1.0  1948.0   2.0  2.0    NaN    NaN   1.0\n",
       "2  1.0  1942.0   3.0  1.0  107.0  762.0   1.0\n",
       "3  1.0  1962.0   1.0  1.0  192.0  855.0   1.0\n",
       "4  2.0  1963.0   1.0  1.0    NaN    NaN   1.0"
      ]
     },
     "execution_count": 146,
     "metadata": {},
     "output_type": "execute_result"
    }
   ],
   "source": [
    "# 컬럼명 변경\n",
    "person=person.rename(columns={'h14_g3':'성별',\n",
    "                             'h14_g4':'태어난연도',\n",
    "                             'h14_g10':'혼인상태',\n",
    "                             'h14_g11':'종교',\n",
    "                             'p1402_8aq1':'월급',\n",
    "                             'h14_eco9':'직업코드',\n",
    "                             'h14_reg7':'지역코드' })\n",
    "person.head()"
   ]
  },
  {
   "cell_type": "code",
   "execution_count": 147,
   "id": "767c1c00-ccc9-4f45-b089-df43322b2cbe",
   "metadata": {},
   "outputs": [],
   "source": [
    "# csv 파일로 저장 - 추후 사용 \n",
    "# person.to_csv('./Data/pandas/project/person.csv', index=False)"
   ]
  },
  {
   "cell_type": "code",
   "execution_count": 148,
   "id": "7eca3f51-7c63-4442-bdba-1cb4a4e4fe10",
   "metadata": {},
   "outputs": [
    {
     "data": {
      "text/plain": [
       "성별          0\n",
       "태어난연도       0\n",
       "혼인상태        0\n",
       "종교          0\n",
       "월급       9884\n",
       "직업코드     7540\n",
       "지역코드        0\n",
       "dtype: int64"
      ]
     },
     "execution_count": 148,
     "metadata": {},
     "output_type": "execute_result"
    }
   ],
   "source": [
    "# 결측치\n",
    "person.isna().sum()"
   ]
  },
  {
   "cell_type": "code",
   "execution_count": 149,
   "id": "e1f47027-1dbe-4127-b0e4-a4a512248164",
   "metadata": {},
   "outputs": [
    {
     "data": {
      "text/html": [
       "<div>\n",
       "<style scoped>\n",
       "    .dataframe tbody tr th:only-of-type {\n",
       "        vertical-align: middle;\n",
       "    }\n",
       "\n",
       "    .dataframe tbody tr th {\n",
       "        vertical-align: top;\n",
       "    }\n",
       "\n",
       "    .dataframe thead th {\n",
       "        text-align: right;\n",
       "    }\n",
       "</style>\n",
       "<table border=\"1\" class=\"dataframe\">\n",
       "  <thead>\n",
       "    <tr style=\"text-align: right;\">\n",
       "      <th></th>\n",
       "      <th>count</th>\n",
       "      <th>mean</th>\n",
       "      <th>std</th>\n",
       "      <th>min</th>\n",
       "      <th>25%</th>\n",
       "      <th>50%</th>\n",
       "      <th>75%</th>\n",
       "      <th>max</th>\n",
       "    </tr>\n",
       "  </thead>\n",
       "  <tbody>\n",
       "    <tr>\n",
       "      <th>성별</th>\n",
       "      <td>14418</td>\n",
       "      <td>1</td>\n",
       "      <td>0</td>\n",
       "      <td>1</td>\n",
       "      <td>1</td>\n",
       "      <td>2</td>\n",
       "      <td>2</td>\n",
       "      <td>2</td>\n",
       "    </tr>\n",
       "    <tr>\n",
       "      <th>태어난연도</th>\n",
       "      <td>14418</td>\n",
       "      <td>1969</td>\n",
       "      <td>24</td>\n",
       "      <td>1907</td>\n",
       "      <td>1948</td>\n",
       "      <td>1968</td>\n",
       "      <td>1990</td>\n",
       "      <td>2018</td>\n",
       "    </tr>\n",
       "    <tr>\n",
       "      <th>혼인상태</th>\n",
       "      <td>14418</td>\n",
       "      <td>1</td>\n",
       "      <td>1</td>\n",
       "      <td>0</td>\n",
       "      <td>1</td>\n",
       "      <td>1</td>\n",
       "      <td>2</td>\n",
       "      <td>6</td>\n",
       "    </tr>\n",
       "    <tr>\n",
       "      <th>종교</th>\n",
       "      <td>14418</td>\n",
       "      <td>1</td>\n",
       "      <td>0</td>\n",
       "      <td>1</td>\n",
       "      <td>1</td>\n",
       "      <td>2</td>\n",
       "      <td>2</td>\n",
       "      <td>2</td>\n",
       "    </tr>\n",
       "    <tr>\n",
       "      <th>월급</th>\n",
       "      <td>4534</td>\n",
       "      <td>268</td>\n",
       "      <td>198</td>\n",
       "      <td>0</td>\n",
       "      <td>150</td>\n",
       "      <td>220</td>\n",
       "      <td>345</td>\n",
       "      <td>1892</td>\n",
       "    </tr>\n",
       "    <tr>\n",
       "      <th>직업코드</th>\n",
       "      <td>6878</td>\n",
       "      <td>587</td>\n",
       "      <td>264</td>\n",
       "      <td>111</td>\n",
       "      <td>313</td>\n",
       "      <td>611</td>\n",
       "      <td>873</td>\n",
       "      <td>1009</td>\n",
       "    </tr>\n",
       "    <tr>\n",
       "      <th>지역코드</th>\n",
       "      <td>14418</td>\n",
       "      <td>3</td>\n",
       "      <td>2</td>\n",
       "      <td>1</td>\n",
       "      <td>2</td>\n",
       "      <td>3</td>\n",
       "      <td>5</td>\n",
       "      <td>7</td>\n",
       "    </tr>\n",
       "  </tbody>\n",
       "</table>\n",
       "</div>"
      ],
      "text/plain": [
       "       count  mean  std   min   25%   50%   75%   max\n",
       "성별     14418     1    0     1     1     2     2     2\n",
       "태어난연도  14418  1969   24  1907  1948  1968  1990  2018\n",
       "혼인상태   14418     1    1     0     1     1     2     6\n",
       "종교     14418     1    0     1     1     2     2     2\n",
       "월급      4534   268  198     0   150   220   345  1892\n",
       "직업코드    6878   587  264   111   313   611   873  1009\n",
       "지역코드   14418     3    2     1     2     3     5     7"
      ]
     },
     "execution_count": 149,
     "metadata": {},
     "output_type": "execute_result"
    }
   ],
   "source": [
    "# 기술 통계량\n",
    "person.describe().T.astype(int)     # round(person.describe().T, 1)"
   ]
  },
  {
   "cell_type": "markdown",
   "id": "2a55d53f-c772-403c-ac3e-dbe86923f204",
   "metadata": {},
   "source": [
    "## 성별에 따른 월급 차이 - 성별에 따라 월급이 다를까? \n",
    "* 분석에 활용할 변수(성별, 월급)를 전처리\n",
    "  - 이상치, 결측치 정제\n",
    "  - 변수값 다루기 편하게 수정 - 남(1)/여(2)\n",
    "* 변수 간 관계 분석\n",
    "  - 그래프 : X(성별/문자형), Y(월급/숫자형) - BarChar(성별월급평균)\n",
    "  - 데이터 요약표 (성별 월급 평균표 만들기)\n",
    "* 검증\n",
    "  - X(문자형) / Y(숫자형) >> 정규성 검증 >> 등분산 검증 >> 2집단, 3집단 이상"
   ]
  },
  {
   "cell_type": "markdown",
   "id": "8dcd5027-41fb-483c-8669-7722ad166db4",
   "metadata": {},
   "source": [
    "### 성별 변수 검토 및 전처리\n",
    "* 이상치, 결측치 체크\n",
    "* 성별 값 수정 / 남(1), 여(1)"
   ]
  },
  {
   "cell_type": "code",
   "execution_count": 152,
   "id": "31b9bb8e-4c6d-45d4-8ab1-bcee28835467",
   "metadata": {},
   "outputs": [],
   "source": [
    "ex_one=person.copy()"
   ]
  },
  {
   "cell_type": "code",
   "execution_count": 153,
   "id": "7a7946ac-c795-4662-a49e-77acaa2ef62b",
   "metadata": {},
   "outputs": [
    {
     "name": "stdout",
     "output_type": "stream",
     "text": [
      "타입: float64\n",
      "사이즈: 14418\n",
      "결측치: 0\n"
     ]
    }
   ],
   "source": [
    "# ex_one['성별'].info()\n",
    "\n",
    "print(\"타입:\", ex_one['성별'].dtypes)             # 타입\n",
    "print(\"사이즈:\", ex_one['성별'].size)             # 사이즈\n",
    "print(\"결측치:\", ex_one['성별'].isna().sum())     # 결측치"
   ]
  },
  {
   "cell_type": "code",
   "execution_count": 154,
   "id": "c3a221a9-3ee0-45b0-841a-81efb25f200b",
   "metadata": {},
   "outputs": [
    {
     "data": {
      "text/plain": [
       "count    14418.0\n",
       "mean         1.5\n",
       "std          0.5\n",
       "min          1.0\n",
       "25%          1.0\n",
       "50%          2.0\n",
       "75%          2.0\n",
       "max          2.0\n",
       "Name: 성별, dtype: float64"
      ]
     },
     "execution_count": 154,
     "metadata": {},
     "output_type": "execute_result"
    }
   ],
   "source": [
    "round(ex_one['성별'].describe(), 1)                 # 기술적 통계"
   ]
  },
  {
   "cell_type": "code",
   "execution_count": 155,
   "id": "9acfcd65-0351-4e4e-b3c5-1a48b43d9a6a",
   "metadata": {},
   "outputs": [
    {
     "data": {
      "text/plain": [
       "성별\n",
       "2.0    7913\n",
       "1.0    6505\n",
       "Name: count, dtype: int64"
      ]
     },
     "execution_count": 155,
     "metadata": {},
     "output_type": "execute_result"
    }
   ],
   "source": [
    "ex_one['성별'].value_counts()                    # 빈도수 확인 "
   ]
  },
  {
   "cell_type": "code",
   "execution_count": 156,
   "id": "91c450e0-79ef-40e4-856c-721c015eb417",
   "metadata": {},
   "outputs": [
    {
     "data": {
      "text/plain": [
       "0"
      ]
     },
     "execution_count": 156,
     "metadata": {},
     "output_type": "execute_result"
    }
   ],
   "source": [
    "# 이상치 >> 결측 처리 >> 대체 또는 삭제\n",
    "# 코드북 - 남(1), 여(2), 모름/무응답(9)\n",
    "ex_one['성별']=np.where(ex_one['성별'] == 9, np.nan, ex_one['성별'])\n",
    "ex_one['성별'].isna().sum()"
   ]
  },
  {
   "cell_type": "code",
   "execution_count": 157,
   "id": "43c71c6c-d064-4ee2-8b8c-a9a38689c415",
   "metadata": {},
   "outputs": [
    {
     "data": {
      "text/plain": [
       "성별\n",
       "여    7913\n",
       "남    6505\n",
       "Name: count, dtype: int64"
      ]
     },
     "execution_count": 157,
     "metadata": {},
     "output_type": "execute_result"
    }
   ],
   "source": [
    "ex_one['성별']=np.where(ex_one['성별']==1.0, '남', '여')            # 변수의 값을 다루기 편하게 수정\n",
    "ex_one['성별'].value_counts()"
   ]
  },
  {
   "cell_type": "code",
   "execution_count": 158,
   "id": "a3f12057-0e83-45a9-aa3d-901630ab8700",
   "metadata": {},
   "outputs": [
    {
     "data": {
      "text/plain": [
       "<Axes: xlabel='성별', ylabel='count'>"
      ]
     },
     "execution_count": 158,
     "metadata": {},
     "output_type": "execute_result"
    },
    {
     "data": {
      "image/png": "[encoded data removed]",
      "text/plain": [
       "<Figure size 640x480 with 1 Axes>"
      ]
     },
     "metadata": {},
     "output_type": "display_data"
    }
   ],
   "source": [
    "# 단일변수 - 범주형(문자형) 시각화  : countplot. pie\n",
    "sns.countplot(data=ex_one, x='성별')"
   ]
  },
  {
   "cell_type": "code",
   "execution_count": 159,
   "id": "43125806-31ef-4478-b1ea-e25d70a2522c",
   "metadata": {},
   "outputs": [
    {
     "data": {
      "image/png": "[encoded data removed]",
      "text/plain": [
       "<Figure size 640x480 with 1 Axes>"
      ]
     },
     "metadata": {},
     "output_type": "display_data"
    }
   ],
   "source": [
    "plt.pie(x=ex_one['성별'].value_counts(),\n",
    "       labels=ex_one['성별'].value_counts().index,\n",
    "        autopct='%.1f%%', explode=[0, 0.1])\n",
    "plt.show()"
   ]
  },
  {
   "cell_type": "markdown",
   "id": "7ecb8843-2902-46d0-9b7e-87c2c4c64a98",
   "metadata": {},
   "source": [
    "### 월급 변수 검토 및 전처리\n",
    "* 이상치, 결측치 체크"
   ]
  },
  {
   "cell_type": "code",
   "execution_count": 161,
   "id": "71e6f18b-ac87-42b2-ae79-a24e21aa0304",
   "metadata": {},
   "outputs": [
    {
     "name": "stdout",
     "output_type": "stream",
     "text": [
      "타입: float64\n",
      "사이즈: 14418\n",
      "결측치: 9884\n"
     ]
    }
   ],
   "source": [
    "# ex_one['월급'].info()\n",
    "\n",
    "print(\"타입:\", ex_one['월급'].dtypes)             # 타입\n",
    "print(\"사이즈:\", ex_one['월급'].size)             # 사이즈\n",
    "print(\"결측치:\", ex_one['월급'].isna().sum())     # 결측치 - 결측치 제거해야 됨"
   ]
  },
  {
   "cell_type": "code",
   "execution_count": 162,
   "id": "154589bf-7b34-40e6-88dc-03383db7802c",
   "metadata": {},
   "outputs": [
    {
     "data": {
      "text/plain": [
       "count    4534\n",
       "mean      268\n",
       "std       198\n",
       "min         0\n",
       "25%       150\n",
       "50%       220\n",
       "75%       345\n",
       "max      1892\n",
       "Name: 월급, dtype: int32"
      ]
     },
     "execution_count": 162,
     "metadata": {},
     "output_type": "execute_result"
    }
   ],
   "source": [
    "ex_one['월급'].describe().astype(int)           # 요약통계량(이상치 확인) / 월 0 ~ 1,892"
   ]
  },
  {
   "cell_type": "code",
   "execution_count": 163,
   "id": "708850ea-1d24-46dd-ae8c-88a166f8f665",
   "metadata": {},
   "outputs": [
    {
     "data": {
      "text/plain": [
       "(7, 7)"
      ]
     },
     "execution_count": 163,
     "metadata": {},
     "output_type": "execute_result"
    }
   ],
   "source": [
    "a=ex_one[ex_one['월급']== 9999]\n",
    "a.shape\n",
    "\n",
    "a=ex_one[ex_one['월급']== 0]\n",
    "a.shape"
   ]
  },
  {
   "cell_type": "code",
   "execution_count": 164,
   "id": "16c9c0b3-e6e7-4caa-85c9-214b873e3523",
   "metadata": {},
   "outputs": [],
   "source": [
    "# 이상치는 결측 처리 후  대체 또는 삭제\n",
    "# 이상치 >> 결측 처리 >> 대체 또는 삭제\n",
    "\n",
    "# ex_one[ex_one['월급']== 9999]\n",
    "# ex_one['월급']=np.where(ex_one['월급'] == 999, np.nan, ex_one['월급'])"
   ]
  },
  {
   "cell_type": "code",
   "execution_count": 165,
   "id": "25cec354-d977-4c24-83c8-c0f5c9b13388",
   "metadata": {},
   "outputs": [
    {
     "data": {
      "text/plain": [
       "(0, (4534, 7))"
      ]
     },
     "execution_count": 165,
     "metadata": {},
     "output_type": "execute_result"
    }
   ],
   "source": [
    "# 결측치 제거\n",
    "ex_one.dropna(inplace=True)            # 직업이 없어서 월급을 못 받음\n",
    "ex_one['월급'].isna().sum(), ex_one.shape"
   ]
  },
  {
   "cell_type": "code",
   "execution_count": 169,
   "id": "cac461d5-85b5-4c24-b8b6-61bbd33f71f6",
   "metadata": {},
   "outputs": [
    {
     "data": {
      "text/plain": [
       "<Axes: xlabel='월급', ylabel='Count'>"
      ]
     },
     "execution_count": 169,
     "metadata": {},
     "output_type": "execute_result"
    },
    {
     "data": {
      "image/png": "[encoded data removed]",
      "text/plain": [
       "<Figure size 640x480 with 1 Axes>"
      ]
     },
     "metadata": {},
     "output_type": "display_data"
    }
   ],
   "source": [
    "# 단일변수 - 연속형(숫자형) 시각화 : histplot, boxplot\n",
    "sns.histplot(data=ex_one, x='월급', kde=True)"
   ]
  },
  {
   "cell_type": "code",
   "execution_count": 173,
   "id": "65fb63ea-408a-45ee-b981-53aa62de3286",
   "metadata": {},
   "outputs": [
    {
     "data": {
      "text/plain": [
       "<Axes: xlabel='월급'>"
      ]
     },
     "execution_count": 173,
     "metadata": {},
     "output_type": "execute_result"
    },
    {
     "data": {
      "image/png": "[encoded data removed]",
      "text/plain": [
       "<Figure size 640x480 with 1 Axes>"
      ]
     },
     "metadata": {},
     "output_type": "display_data"
    }
   ],
   "source": [
    "sns.boxplot(data=ex_one, x='월급')"
   ]
  },
  {
   "cell_type": "markdown",
   "id": "b1b05a99-c745-4077-840b-e883c8b1ef99",
   "metadata": {},
   "source": [
    "### 분석 \n",
    "* 성별에 따른 월급 차이 - 성별에 따라 월급이 다를까?\n",
    "    - 시각화\n",
    "    - 데이터 요약"
   ]
  },
  {
   "cell_type": "code",
   "execution_count": 190,
   "id": "8be3a601-fd81-4400-a940-fce555123d8c",
   "metadata": {},
   "outputs": [
    {
     "data": {
      "text/plain": [
       "<Axes: xlabel='성별', ylabel='월급'>"
      ]
     },
     "execution_count": 190,
     "metadata": {},
     "output_type": "execute_result"
    },
    {
     "data": {
      "image/png": "[encoded data removed]",
      "text/plain": [
       "<Figure size 640x480 with 1 Axes>"
      ]
     },
     "metadata": {},
     "output_type": "display_data"
    }
   ],
   "source": [
    "# 성별에 따른 월급차이\n",
    "# sns.barplot(data=person_copy, x='성별', y='월급', errorbar=None, estimator=sum)\n",
    "\n",
    "# 다 변수 - X(문자)/y(숫자) 시각화 : barplot\n",
    "sns.barplot(data=ex_one, x='성별', y='월급', errorbar=None)"
   ]
  },
  {
   "cell_type": "code",
   "execution_count": 191,
   "id": "cf394d86-8d08-4f50-920e-ce3919bc7183",
   "metadata": {},
   "outputs": [
    {
     "data": {
      "text/plain": [
       "성별\n",
       "남    349.037571\n",
       "여    186.293096\n",
       "Name: 월급, dtype: float64"
      ]
     },
     "execution_count": 191,
     "metadata": {},
     "output_type": "execute_result"
    }
   ],
   "source": [
    "# 요약표\n",
    "ex_one.groupby('성별')['월급'].mean()"
   ]
  },
  {
   "cell_type": "code",
   "execution_count": 192,
   "id": "eaa3c616-6757-4005-92e6-53e19110f0da",
   "metadata": {},
   "outputs": [
    {
     "data": {
      "text/html": [
       "<div>\n",
       "<style scoped>\n",
       "    .dataframe tbody tr th:only-of-type {\n",
       "        vertical-align: middle;\n",
       "    }\n",
       "\n",
       "    .dataframe tbody tr th {\n",
       "        vertical-align: top;\n",
       "    }\n",
       "\n",
       "    .dataframe thead th {\n",
       "        text-align: right;\n",
       "    }\n",
       "</style>\n",
       "<table border=\"1\" class=\"dataframe\">\n",
       "  <thead>\n",
       "    <tr style=\"text-align: right;\">\n",
       "      <th></th>\n",
       "      <th>성별</th>\n",
       "      <th>월급평균</th>\n",
       "    </tr>\n",
       "  </thead>\n",
       "  <tbody>\n",
       "    <tr>\n",
       "      <th>0</th>\n",
       "      <td>남</td>\n",
       "      <td>349.037571</td>\n",
       "    </tr>\n",
       "    <tr>\n",
       "      <th>1</th>\n",
       "      <td>여</td>\n",
       "      <td>186.293096</td>\n",
       "    </tr>\n",
       "  </tbody>\n",
       "</table>\n",
       "</div>"
      ],
      "text/plain": [
       "  성별        월급평균\n",
       "0  남  349.037571\n",
       "1  여  186.293096"
      ]
     },
     "execution_count": 192,
     "metadata": {},
     "output_type": "execute_result"
    }
   ],
   "source": [
    "ex_one.groupby('성별')['월급'].mean().reset_index(name='월급평균')"
   ]
  },
  {
   "cell_type": "code",
   "execution_count": 193,
   "id": "73567e76-970a-4845-a128-6fbcca8d503c",
   "metadata": {},
   "outputs": [
    {
     "data": {
      "text/html": [
       "<div>\n",
       "<style scoped>\n",
       "    .dataframe tbody tr th:only-of-type {\n",
       "        vertical-align: middle;\n",
       "    }\n",
       "\n",
       "    .dataframe tbody tr th {\n",
       "        vertical-align: top;\n",
       "    }\n",
       "\n",
       "    .dataframe thead th {\n",
       "        text-align: right;\n",
       "    }\n",
       "</style>\n",
       "<table border=\"1\" class=\"dataframe\">\n",
       "  <thead>\n",
       "    <tr style=\"text-align: right;\">\n",
       "      <th></th>\n",
       "      <th>월급평균</th>\n",
       "    </tr>\n",
       "    <tr>\n",
       "      <th>성별</th>\n",
       "      <th></th>\n",
       "    </tr>\n",
       "  </thead>\n",
       "  <tbody>\n",
       "    <tr>\n",
       "      <th>남</th>\n",
       "      <td>349.037571</td>\n",
       "    </tr>\n",
       "    <tr>\n",
       "      <th>여</th>\n",
       "      <td>186.293096</td>\n",
       "    </tr>\n",
       "  </tbody>\n",
       "</table>\n",
       "</div>"
      ],
      "text/plain": [
       "          월급평균\n",
       "성별            \n",
       "남   349.037571\n",
       "여   186.293096"
      ]
     },
     "execution_count": 193,
     "metadata": {},
     "output_type": "execute_result"
    }
   ],
   "source": [
    "# 피벗 테이블 작성 \n",
    "ex_one_tab=ex_one.pivot_table(\n",
    "    index='성별',        # 행으로 사용할 열\n",
    "    values='월급',       # 집계할 값\n",
    "    aggfunc='mean',      # 집계 함수\n",
    "    # columns=None,      # 열로 사용할 열\n",
    "    # fill_value=0       # 결측값은 0으로 채움\n",
    ")\n",
    "\n",
    "ex_one_tab.rename(columns={'월급': '월급평균'}, inplace=True)\n",
    "ex_one_tab"
   ]
  },
  {
   "cell_type": "markdown",
   "id": "e1210865-ea5d-4a52-afb7-229dad982412",
   "metadata": {},
   "source": [
    "### 통계적 가설 검정\n",
    "* 성별에 따른 월급 차이 - 성별에 따라 월급이 다를까?\n",
    "    * 다변수: X 문자형 / Y 숫자형\n",
    "    * 정규성 검정: 정규분포이다 / 정규분포아니다\n",
    "    * 등분산성 검정: 등분산이다 / 등분산아니다\n",
    "    * 가설: 남녀간 월급의 차이가 없다 / 남녀간 월급의 차이가 있다\n",
    "    * 분석결과(Wilcoxon Test): 통계적으로 남여 월급의 차이가 있다 (p < 0.05)"
   ]
  },
  {
   "cell_type": "code",
   "execution_count": 196,
   "id": "03f9fff0-b694-498d-ba7a-da555232f108",
   "metadata": {},
   "outputs": [
    {
     "data": {
      "text/plain": [
       "NormaltestResult(statistic=1657.4427188351524, pvalue=0.0)"
      ]
     },
     "execution_count": 196,
     "metadata": {},
     "output_type": "execute_result"
    }
   ],
   "source": [
    "# 정규성 검정 \n",
    "stats.normaltest(ex_one['월급'])      \n",
    "\n",
    "# 대립가설 참, 귀무가설 기각, 비 정규분포 / 0.0 < 0.05"
   ]
  },
  {
   "cell_type": "code",
   "execution_count": 197,
   "id": "bebdd07c-4133-4791-99e1-76b4890c62ec",
   "metadata": {},
   "outputs": [
    {
     "data": {
      "text/plain": [
       "RanksumsResult(statistic=30.80580065407471, pvalue=2.1912606852089194e-208)"
      ]
     },
     "execution_count": 197,
     "metadata": {},
     "output_type": "execute_result"
    }
   ],
   "source": [
    "# 비정규성 >> 2집단 >> Wilcoxon Test\n",
    "ex_one_m=ex_one[ex_one['성별']=='남']\n",
    "ex_one_f=ex_one[ex_one['성별']=='여']\n",
    "\n",
    "stats.ranksums(ex_one_m['월급'], ex_one_f['월급'])\n",
    "\n",
    "# 대립가설 참, 귀무가설 기각, 남여 월급의 차이가 있다.\n",
    "# 결론]시각화, 월급비교표, 윌콕슨(Wilcoxon Test)검정에 통해 남여 월급의 차이가 있다. "
   ]
  },
  {
   "cell_type": "markdown",
   "id": "9f690f93-f98a-4392-91db-e5e2f0939b71",
   "metadata": {},
   "source": [
    "## 나이와 월급의 관계 - 몇 살때 월급을 가장 많이 받을까?\n",
    "* 분석에 활용할 변수(태어난연도, 월급)를 전처리\n",
    "    - 이상치, 결측치 정제\n",
    "    - 변수 값을 다루기 편하게 수정 - 태어난연도를 활용해 파생변수(나이) 만들기\n",
    "* 변수 간 관계 분석\n",
    "  - 그래프 : X(나이/순서형), Y(월급/숫자형) - LineChar : 시간에 따라 달라지는 데이터 / 장소, 시간\n",
    "  - 데이터 요약표 (나이별 월급 평균표 만들기)\n",
    "* 검증\n",
    "  - X(연속형) / Y(연속형) : 상관분석\n",
    "  - 정규성 검정 >> personr, spearmanr"
   ]
  },
  {
   "cell_type": "markdown",
   "id": "ce056d50-f1de-4da4-8a5a-ed695031553b",
   "metadata": {},
   "source": [
    "### 나이 변수 검토 및 전처리"
   ]
  },
  {
   "cell_type": "code",
   "execution_count": 202,
   "id": "7d7446ef-e935-48c0-b6ed-1bcd2b769dd3",
   "metadata": {},
   "outputs": [],
   "source": [
    "ex_two=ex_one.copy()"
   ]
  },
  {
   "cell_type": "code",
   "execution_count": 203,
   "id": "6816133d-b141-4e2f-8020-7b6ce0efa41a",
   "metadata": {},
   "outputs": [
    {
     "name": "stdout",
     "output_type": "stream",
     "text": [
      "타입: float64\n",
      "사이즈: 4534\n",
      "결측치: 0\n"
     ]
    }
   ],
   "source": [
    "print(\"타입:\", ex_two['태어난연도'].dtypes)             # 타입\n",
    "print(\"사이즈:\", ex_two['태어난연도'].size)             # 사이즈\n",
    "print(\"결측치:\", ex_two['태어난연도'].isna().sum())     # 결측치 확인"
   ]
  },
  {
   "cell_type": "code",
   "execution_count": 204,
   "id": "110123ca-3d63-4d49-9bab-d0d500c11835",
   "metadata": {},
   "outputs": [
    {
     "data": {
      "text/plain": [
       "count    4534\n",
       "mean     1971\n",
       "std        15\n",
       "min      1928\n",
       "25%      1961\n",
       "50%      1972\n",
       "75%      1982\n",
       "max      2001\n",
       "Name: 태어난연도, dtype: int32"
      ]
     },
     "execution_count": 204,
     "metadata": {},
     "output_type": "execute_result"
    }
   ],
   "source": [
    "ex_two['태어난연도'].describe().astype(int)            #  기술통계량(이상치}, 코드북 - 년 단위, 모름/무응답(9999)"
   ]
  },
  {
   "cell_type": "code",
   "execution_count": 205,
   "id": "4ceda318-86cf-42ef-bf7b-f1351b631424",
   "metadata": {},
   "outputs": [],
   "source": [
    "# 이상치 >> 결측 삭제 또는 대체 \n",
    "# ex_two['태어난연도']=np.where(ex_two['태어난연도'] == 9999, np.nan, ex_two['태어난연도'])\n",
    "# ex_two['태어난연도'].isna().sum()"
   ]
  },
  {
   "cell_type": "code",
   "execution_count": 206,
   "id": "e3cf46b8-c62e-4bea-90cc-0c4353930576",
   "metadata": {},
   "outputs": [
    {
     "data": {
      "text/plain": [
       "count    4534\n",
       "mean       48\n",
       "std        15\n",
       "min        19\n",
       "25%        38\n",
       "50%        48\n",
       "75%        59\n",
       "max        92\n",
       "Name: 나이, dtype: int32"
      ]
     },
     "execution_count": 206,
     "metadata": {},
     "output_type": "execute_result"
    }
   ],
   "source": [
    "# 파생변수 만들기 - 나이\n",
    "# current_year=pd.Timestamp.today().year\n",
    "ex_two['나이']=2019-person['태어난연도']+1          # 2019년에 조사가 진행된 데이터\n",
    "ex_two['나이'].head()\n",
    "ex_two['나이'].describe().astype(int)"
   ]
  },
  {
   "cell_type": "code",
   "execution_count": 207,
   "id": "659c20a7-1b82-4d42-89fe-183424ff807d",
   "metadata": {},
   "outputs": [
    {
     "data": {
      "text/plain": [
       "<Axes: xlabel='나이', ylabel='Count'>"
      ]
     },
     "execution_count": 207,
     "metadata": {},
     "output_type": "execute_result"
    },
    {
     "data": {
      "image/png": "[encoded data removed]",
      "text/plain": [
       "<Figure size 640x480 with 1 Axes>"
      ]
     },
     "metadata": {},
     "output_type": "display_data"
    }
   ],
   "source": [
    "# 단일변수 - X(숫자형) \n",
    "sns.histplot(data=ex_two, x='나이', kde=True)"
   ]
  },
  {
   "cell_type": "markdown",
   "id": "f791ea9f-58b1-4d6d-bd29-498b58361df2",
   "metadata": {},
   "source": [
    "### 월급 변수 검토 및 전처리\n",
    "* 성별에 따른 월급 차이에서 처리 5.2.2"
   ]
  },
  {
   "cell_type": "code",
   "execution_count": 209,
   "id": "1bfdf5b7-37c1-4e65-8652-c15ea57f33e6",
   "metadata": {},
   "outputs": [
    {
     "name": "stdout",
     "output_type": "stream",
     "text": [
      "타입: float64\n",
      "사이즈: 4534\n",
      "결측치: 0\n"
     ]
    }
   ],
   "source": [
    "print(\"타입:\", ex_two['월급'].dtypes)             # 타입\n",
    "print(\"사이즈:\", ex_two['월급'].size)             # 사이즈\n",
    "print(\"결측치:\", ex_two['월급'].isna().sum())     # 결측치 확인\n",
    "\n",
    "# ex_two['나이'].max(), ex_two['나이'].min()"
   ]
  },
  {
   "cell_type": "markdown",
   "id": "81b81486-d3d5-4906-87cb-2956505824a9",
   "metadata": {},
   "source": [
    "### 분석 \n",
    "* 나이와 월급의 관계 - 몇 살때 월급을 가장 많이 받을까?\n",
    "    * 시각화\n",
    "    * 데이터 요약"
   ]
  },
  {
   "cell_type": "code",
   "execution_count": 211,
   "id": "393dc364-8877-4c53-a6fe-93e7ee095044",
   "metadata": {},
   "outputs": [
    {
     "data": {
      "text/html": [
       "<div>\n",
       "<style scoped>\n",
       "    .dataframe tbody tr th:only-of-type {\n",
       "        vertical-align: middle;\n",
       "    }\n",
       "\n",
       "    .dataframe tbody tr th {\n",
       "        vertical-align: top;\n",
       "    }\n",
       "\n",
       "    .dataframe thead th {\n",
       "        text-align: right;\n",
       "    }\n",
       "</style>\n",
       "<table border=\"1\" class=\"dataframe\">\n",
       "  <thead>\n",
       "    <tr style=\"text-align: right;\">\n",
       "      <th></th>\n",
       "      <th>나이</th>\n",
       "      <th>나이월급평균</th>\n",
       "    </tr>\n",
       "  </thead>\n",
       "  <tbody>\n",
       "    <tr>\n",
       "      <th>0</th>\n",
       "      <td>19.0</td>\n",
       "      <td>162.000000</td>\n",
       "    </tr>\n",
       "    <tr>\n",
       "      <th>1</th>\n",
       "      <td>20.0</td>\n",
       "      <td>121.333333</td>\n",
       "    </tr>\n",
       "    <tr>\n",
       "      <th>2</th>\n",
       "      <td>21.0</td>\n",
       "      <td>136.400000</td>\n",
       "    </tr>\n",
       "    <tr>\n",
       "      <th>3</th>\n",
       "      <td>22.0</td>\n",
       "      <td>123.666667</td>\n",
       "    </tr>\n",
       "    <tr>\n",
       "      <th>4</th>\n",
       "      <td>23.0</td>\n",
       "      <td>179.676471</td>\n",
       "    </tr>\n",
       "  </tbody>\n",
       "</table>\n",
       "</div>"
      ],
      "text/plain": [
       "     나이      나이월급평균\n",
       "0  19.0  162.000000\n",
       "1  20.0  121.333333\n",
       "2  21.0  136.400000\n",
       "3  22.0  123.666667\n",
       "4  23.0  179.676471"
      ]
     },
     "execution_count": 211,
     "metadata": {},
     "output_type": "execute_result"
    }
   ],
   "source": [
    "# 나이별 그룹화, 월급 평균 구하기\n",
    "result=ex_two.groupby('나이')['월급'].mean().reset_index(name=\"나이월급평균\")\n",
    "result.head()"
   ]
  },
  {
   "cell_type": "code",
   "execution_count": 212,
   "id": "b6f6fd57-3d62-43ad-85fa-d7406fc96909",
   "metadata": {},
   "outputs": [
    {
     "data": {
      "text/html": [
       "<div>\n",
       "<style scoped>\n",
       "    .dataframe tbody tr th:only-of-type {\n",
       "        vertical-align: middle;\n",
       "    }\n",
       "\n",
       "    .dataframe tbody tr th {\n",
       "        vertical-align: top;\n",
       "    }\n",
       "\n",
       "    .dataframe thead th {\n",
       "        text-align: right;\n",
       "    }\n",
       "</style>\n",
       "<table border=\"1\" class=\"dataframe\">\n",
       "  <thead>\n",
       "    <tr style=\"text-align: right;\">\n",
       "      <th></th>\n",
       "      <th>나이</th>\n",
       "      <th>나이월급평균</th>\n",
       "    </tr>\n",
       "  </thead>\n",
       "  <tbody>\n",
       "    <tr>\n",
       "      <th>25</th>\n",
       "      <td>44.0</td>\n",
       "      <td>386.195876</td>\n",
       "    </tr>\n",
       "  </tbody>\n",
       "</table>\n",
       "</div>"
      ],
      "text/plain": [
       "      나이      나이월급평균\n",
       "25  44.0  386.195876"
      ]
     },
     "execution_count": 212,
     "metadata": {},
     "output_type": "execute_result"
    }
   ],
   "source": [
    "# 월급을 가장 많이 받는 나이\n",
    "max_row=result[result['나이월급평균'] == result['나이월급평균'].max()]\n",
    "max_row"
   ]
  },
  {
   "cell_type": "code",
   "execution_count": 213,
   "id": "4703b0e2-3321-441a-82c5-e4ded6b6556d",
   "metadata": {},
   "outputs": [
    {
     "data": {
      "text/plain": [
       "<Axes: xlabel='나이', ylabel='월급'>"
      ]
     },
     "execution_count": 213,
     "metadata": {},
     "output_type": "execute_result"
    },
    {
     "data": {
      "image/png": "[encoded data removed]",
      "text/plain": [
       "<Figure size 640x480 with 1 Axes>"
      ]
     },
     "metadata": {},
     "output_type": "display_data"
    }
   ],
   "source": [
    "# 다변수 - X(숫자)/y(숫자) 시간에 따른 시각화 : lineplot\n",
    "sns.lineplot(data=ex_two, x='나이', y='월급', errorbar=None)"
   ]
  },
  {
   "cell_type": "markdown",
   "id": "0c7d1c05-7344-4474-bd54-ce0f35378b60",
   "metadata": {},
   "source": [
    "### 통계적 가설 검정\n",
    "* 나이와 월급의 관계 - 몇 살때 월급을 가장 많이 받을까?\n",
    "    * 다변수: X 숫자형 / Y 숫자형\n",
    "    * 상관 분석: 정규성(pearson) / 비정규성 (spearman)"
   ]
  },
  {
   "cell_type": "code",
   "execution_count": 215,
   "id": "21143cf5-ca59-4e8a-ac39-34c030876d1c",
   "metadata": {
    "scrolled": true
   },
   "outputs": [
    {
     "data": {
      "text/html": [
       "<div>\n",
       "<style scoped>\n",
       "    .dataframe tbody tr th:only-of-type {\n",
       "        vertical-align: middle;\n",
       "    }\n",
       "\n",
       "    .dataframe tbody tr th {\n",
       "        vertical-align: top;\n",
       "    }\n",
       "\n",
       "    .dataframe thead th {\n",
       "        text-align: right;\n",
       "    }\n",
       "</style>\n",
       "<table border=\"1\" class=\"dataframe\">\n",
       "  <thead>\n",
       "    <tr style=\"text-align: right;\">\n",
       "      <th></th>\n",
       "      <th>태어난연도</th>\n",
       "      <th>혼인상태</th>\n",
       "      <th>종교</th>\n",
       "      <th>월급</th>\n",
       "      <th>직업코드</th>\n",
       "      <th>지역코드</th>\n",
       "      <th>나이</th>\n",
       "    </tr>\n",
       "  </thead>\n",
       "  <tbody>\n",
       "    <tr>\n",
       "      <th>태어난연도</th>\n",
       "      <td>1.00</td>\n",
       "      <td>0.49</td>\n",
       "      <td>0.22</td>\n",
       "      <td>0.22</td>\n",
       "      <td>-0.43</td>\n",
       "      <td>-0.08</td>\n",
       "      <td>-1.00</td>\n",
       "    </tr>\n",
       "    <tr>\n",
       "      <th>혼인상태</th>\n",
       "      <td>0.49</td>\n",
       "      <td>1.00</td>\n",
       "      <td>0.10</td>\n",
       "      <td>-0.16</td>\n",
       "      <td>-0.11</td>\n",
       "      <td>-0.07</td>\n",
       "      <td>-0.49</td>\n",
       "    </tr>\n",
       "    <tr>\n",
       "      <th>종교</th>\n",
       "      <td>0.22</td>\n",
       "      <td>0.10</td>\n",
       "      <td>1.00</td>\n",
       "      <td>0.09</td>\n",
       "      <td>-0.06</td>\n",
       "      <td>0.03</td>\n",
       "      <td>-0.22</td>\n",
       "    </tr>\n",
       "    <tr>\n",
       "      <th>월급</th>\n",
       "      <td>0.22</td>\n",
       "      <td>-0.16</td>\n",
       "      <td>0.09</td>\n",
       "      <td>1.00</td>\n",
       "      <td>-0.35</td>\n",
       "      <td>-0.06</td>\n",
       "      <td>-0.22</td>\n",
       "    </tr>\n",
       "    <tr>\n",
       "      <th>직업코드</th>\n",
       "      <td>-0.43</td>\n",
       "      <td>-0.11</td>\n",
       "      <td>-0.06</td>\n",
       "      <td>-0.35</td>\n",
       "      <td>1.00</td>\n",
       "      <td>0.05</td>\n",
       "      <td>0.43</td>\n",
       "    </tr>\n",
       "    <tr>\n",
       "      <th>지역코드</th>\n",
       "      <td>-0.08</td>\n",
       "      <td>-0.07</td>\n",
       "      <td>0.03</td>\n",
       "      <td>-0.06</td>\n",
       "      <td>0.05</td>\n",
       "      <td>1.00</td>\n",
       "      <td>0.08</td>\n",
       "    </tr>\n",
       "    <tr>\n",
       "      <th>나이</th>\n",
       "      <td>-1.00</td>\n",
       "      <td>-0.49</td>\n",
       "      <td>-0.22</td>\n",
       "      <td>-0.22</td>\n",
       "      <td>0.43</td>\n",
       "      <td>0.08</td>\n",
       "      <td>1.00</td>\n",
       "    </tr>\n",
       "  </tbody>\n",
       "</table>\n",
       "</div>"
      ],
      "text/plain": [
       "       태어난연도  혼인상태    종교    월급  직업코드  지역코드    나이\n",
       "태어난연도   1.00  0.49  0.22  0.22 -0.43 -0.08 -1.00\n",
       "혼인상태    0.49  1.00  0.10 -0.16 -0.11 -0.07 -0.49\n",
       "종교      0.22  0.10  1.00  0.09 -0.06  0.03 -0.22\n",
       "월급      0.22 -0.16  0.09  1.00 -0.35 -0.06 -0.22\n",
       "직업코드   -0.43 -0.11 -0.06 -0.35  1.00  0.05  0.43\n",
       "지역코드   -0.08 -0.07  0.03 -0.06  0.05  1.00  0.08\n",
       "나이     -1.00 -0.49 -0.22 -0.22  0.43  0.08  1.00"
      ]
     },
     "execution_count": 215,
     "metadata": {},
     "output_type": "execute_result"
    }
   ],
   "source": [
    "ex_two_numeric=ex_two.select_dtypes(include='number')\n",
    "round(ex_two_numeric.corr(), 2)\n",
    "\n",
    "# 나이와 월급 -0.22 약한 상관 관계 / 나이가 증가할수록 월급이 약간 감소하는 경향"
   ]
  },
  {
   "cell_type": "code",
   "execution_count": 218,
   "id": "8b77d883-32be-486c-b7e2-5c60c7819e98",
   "metadata": {},
   "outputs": [
    {
     "data": {
      "image/png": "[encoded data removed]",
      "text/plain": [
       "<Figure size 1000x500 with 2 Axes>"
      ]
     },
     "metadata": {},
     "output_type": "display_data"
    }
   ],
   "source": [
    "plt.figure(figsize=(10, 5))\n",
    "sns.heatmap(ex_two_numeric.corr(), annot=True)\n",
    "plt.show()"
   ]
  },
  {
   "cell_type": "code",
   "execution_count": 221,
   "id": "da86b06a-1751-4e21-916d-f169e327d10e",
   "metadata": {},
   "outputs": [
    {
     "name": "stdout",
     "output_type": "stream",
     "text": [
      "NormaltestResult(statistic=1657.4427188351524, pvalue=0.0)\n"
     ]
    }
   ],
   "source": [
    "# 정규성 검정\n",
    "# print(stats.normaltest(ex_two['나이']))\n",
    "print(stats.normaltest(ex_two['월급']))"
   ]
  },
  {
   "cell_type": "code",
   "execution_count": 222,
   "id": "984459d3-ad62-47f9-b047-aa85cf2f9e70",
   "metadata": {},
   "outputs": [
    {
     "data": {
      "text/plain": [
       "SignificanceResult(statistic=-0.2995003794137383, pvalue=1.2825223923244415e-94)"
      ]
     },
     "execution_count": 222,
     "metadata": {},
     "output_type": "execute_result"
    }
   ],
   "source": [
    "# 비정규성 \n",
    "# 귀무가설 : 나이와 월급의 상관성이 없다.\n",
    "# 대립가설 : 나이와 월급의 상관성이 있다.\n",
    "\n",
    "stats.spearmanr(ex_two['나이'], ex_two['월급'])  # 스피어맨 알\n",
    "\n",
    "# 대립 참, 귀무설 기각, 나이와 월급의 상관성이 있다."
   ]
  },
  {
   "cell_type": "markdown",
   "id": "60f16961-8b7f-49fd-9f90-8ad57c4fd018",
   "metadata": {},
   "source": [
    "## 연령대에 따른 월급 차이 - 어떤 연령대의 월급이 가장 많이 받을까?\n",
    "- 분석에 활용할 변수(나이, 월급)를 전처리\n",
    "    - 이상치, 결측치 정제\n",
    "    - 변수 값을 다루기 편하게 수정 - 나이를 활용해 파생변수(연령대) 만들기\n",
    "- 변수간 관계 분석\n",
    "    - 데이터 요약표 (나이별 월급 평균표 만들기)\n",
    "    - 그래프\n",
    "- 검증\n",
    "  - X(문자형) / Y(숫자형) >> 정규성 검증 >> 등분산 검증 >> 2집단, 3집단 이상"
   ]
  },
  {
   "cell_type": "markdown",
   "id": "290d73d0-9e5f-40c7-85bd-232dd265e847",
   "metadata": {},
   "source": [
    "### 연령대 변수 검토 및 전처리\n",
    "* 나이 >> 연령대\n",
    "* 나이 : 나이와 월급의 관계에서 처리 5.3.2"
   ]
  },
  {
   "cell_type": "code",
   "execution_count": 227,
   "id": "8fd6b7b9-cf01-440b-a7fc-a12b69c19f49",
   "metadata": {},
   "outputs": [
    {
     "data": {
      "text/html": [
       "<div>\n",
       "<style scoped>\n",
       "    .dataframe tbody tr th:only-of-type {\n",
       "        vertical-align: middle;\n",
       "    }\n",
       "\n",
       "    .dataframe tbody tr th {\n",
       "        vertical-align: top;\n",
       "    }\n",
       "\n",
       "    .dataframe thead th {\n",
       "        text-align: right;\n",
       "    }\n",
       "</style>\n",
       "<table border=\"1\" class=\"dataframe\">\n",
       "  <thead>\n",
       "    <tr style=\"text-align: right;\">\n",
       "      <th></th>\n",
       "      <th>성별</th>\n",
       "      <th>태어난연도</th>\n",
       "      <th>혼인상태</th>\n",
       "      <th>종교</th>\n",
       "      <th>월급</th>\n",
       "      <th>직업코드</th>\n",
       "      <th>지역코드</th>\n",
       "      <th>나이</th>\n",
       "    </tr>\n",
       "  </thead>\n",
       "  <tbody>\n",
       "    <tr>\n",
       "      <th>2</th>\n",
       "      <td>남</td>\n",
       "      <td>1942.0</td>\n",
       "      <td>3.0</td>\n",
       "      <td>1.0</td>\n",
       "      <td>107.0</td>\n",
       "      <td>762.0</td>\n",
       "      <td>1.0</td>\n",
       "      <td>78.0</td>\n",
       "    </tr>\n",
       "    <tr>\n",
       "      <th>3</th>\n",
       "      <td>남</td>\n",
       "      <td>1962.0</td>\n",
       "      <td>1.0</td>\n",
       "      <td>1.0</td>\n",
       "      <td>192.0</td>\n",
       "      <td>855.0</td>\n",
       "      <td>1.0</td>\n",
       "      <td>58.0</td>\n",
       "    </tr>\n",
       "    <tr>\n",
       "      <th>7</th>\n",
       "      <td>여</td>\n",
       "      <td>1934.0</td>\n",
       "      <td>1.0</td>\n",
       "      <td>1.0</td>\n",
       "      <td>27.0</td>\n",
       "      <td>941.0</td>\n",
       "      <td>1.0</td>\n",
       "      <td>86.0</td>\n",
       "    </tr>\n",
       "    <tr>\n",
       "      <th>8</th>\n",
       "      <td>여</td>\n",
       "      <td>1940.0</td>\n",
       "      <td>2.0</td>\n",
       "      <td>1.0</td>\n",
       "      <td>27.0</td>\n",
       "      <td>999.0</td>\n",
       "      <td>2.0</td>\n",
       "      <td>80.0</td>\n",
       "    </tr>\n",
       "    <tr>\n",
       "      <th>14</th>\n",
       "      <td>남</td>\n",
       "      <td>1978.0</td>\n",
       "      <td>1.0</td>\n",
       "      <td>2.0</td>\n",
       "      <td>338.0</td>\n",
       "      <td>312.0</td>\n",
       "      <td>1.0</td>\n",
       "      <td>42.0</td>\n",
       "    </tr>\n",
       "  </tbody>\n",
       "</table>\n",
       "</div>"
      ],
      "text/plain": [
       "   성별   태어난연도  혼인상태   종교     월급   직업코드  지역코드    나이\n",
       "2   남  1942.0   3.0  1.0  107.0  762.0   1.0  78.0\n",
       "3   남  1962.0   1.0  1.0  192.0  855.0   1.0  58.0\n",
       "7   여  1934.0   1.0  1.0   27.0  941.0   1.0  86.0\n",
       "8   여  1940.0   2.0  1.0   27.0  999.0   2.0  80.0\n",
       "14  남  1978.0   1.0  2.0  338.0  312.0   1.0  42.0"
      ]
     },
     "execution_count": 227,
     "metadata": {},
     "output_type": "execute_result"
    }
   ],
   "source": [
    "ex_three=ex_two.copy()\n",
    "ex_three.head()"
   ]
  },
  {
   "cell_type": "code",
   "execution_count": 228,
   "id": "bddedf65-d782-42a7-b2cc-e55b2af1a507",
   "metadata": {},
   "outputs": [
    {
     "data": {
      "text/plain": [
       "연령대\n",
       "노년    1093\n",
       "중년    2927\n",
       "초년     514\n",
       "Name: count, dtype: int64"
      ]
     },
     "execution_count": 228,
     "metadata": {},
     "output_type": "execute_result"
    }
   ],
   "source": [
    "# 연령대 변수 만들기 - 초년(30세미만) / 중년(30 ~ 59세) / 노년(60세이상)\n",
    "ex_three['연령대']=np.where(ex_three['나이'] < 30, '초년', \n",
    "                         np.where(ex_three['나이'] <= 59, '중년', '노년'))\n",
    "ex_three['연령대'].value_counts().sort_index()"
   ]
  },
  {
   "cell_type": "code",
   "execution_count": 229,
   "id": "894ae6dc-1e54-4349-ac38-1c06a52db3b3",
   "metadata": {},
   "outputs": [
    {
     "data": {
      "text/plain": [
       "<Axes: xlabel='연령대', ylabel='count'>"
      ]
     },
     "execution_count": 229,
     "metadata": {},
     "output_type": "execute_result"
    },
    {
     "data": {
      "image/png": "[encoded data removed]",
      "text/plain": [
       "<Figure size 640x480 with 1 Axes>"
      ]
     },
     "metadata": {},
     "output_type": "display_data"
    }
   ],
   "source": [
    "sns.countplot(data=ex_three, x='연령대')"
   ]
  },
  {
   "cell_type": "markdown",
   "id": "4a3ca917-451d-4aed-97f7-8dd1cc347f14",
   "metadata": {},
   "source": [
    "### 월급 변수 검토\n",
    "* 성별에 따른 월급 차이에서 처리 5.2.2"
   ]
  },
  {
   "cell_type": "code",
   "execution_count": 231,
   "id": "e35d32ee-64ed-4331-a3ca-719bc74d9137",
   "metadata": {},
   "outputs": [
    {
     "name": "stdout",
     "output_type": "stream",
     "text": [
      "타입: float64\n",
      "사이즈: 4534\n",
      "결측치: 0\n"
     ]
    }
   ],
   "source": [
    "print(\"타입:\", ex_three['월급'].dtypes)             # 타입\n",
    "print(\"사이즈:\", ex_three['월급'].size)             # 사이즈\n",
    "print(\"결측치:\", ex_three['월급'].isna().sum())     # 결측치 확인"
   ]
  },
  {
   "cell_type": "markdown",
   "id": "3a67bb44-ef14-4317-963e-14d8a8af433c",
   "metadata": {},
   "source": [
    "### 분석 \n",
    "* 연령대에 땨른 월급 차이 - 어떤 연령대의 월급이 가장 많을까?\n",
    "    * 시각화\n",
    "    * 데이터 요약"
   ]
  },
  {
   "cell_type": "code",
   "execution_count": 233,
   "id": "98d62914-0ba7-42cf-b6ec-03cc3152f9c8",
   "metadata": {},
   "outputs": [
    {
     "data": {
      "text/plain": [
       "<Axes: xlabel='연령대', ylabel='월급'>"
      ]
     },
     "execution_count": 233,
     "metadata": {},
     "output_type": "execute_result"
    },
    {
     "data": {
      "image/png": "[encoded data removed]",
      "text/plain": [
       "<Figure size 640x480 with 1 Axes>"
      ]
     },
     "metadata": {},
     "output_type": "display_data"
    }
   ],
   "source": [
    "# 다변수 - X(문자)/y(숫자) 시각화 : barplot\n",
    "\n",
    "sns.barplot(data=ex_three, x='연령대', y='월급')"
   ]
  },
  {
   "cell_type": "code",
   "execution_count": 235,
   "id": "ba5c4590-c8d9-4b6d-a980-d8c228144115",
   "metadata": {},
   "outputs": [
    {
     "data": {
      "text/html": [
       "<div>\n",
       "<style scoped>\n",
       "    .dataframe tbody tr th:only-of-type {\n",
       "        vertical-align: middle;\n",
       "    }\n",
       "\n",
       "    .dataframe tbody tr th {\n",
       "        vertical-align: top;\n",
       "    }\n",
       "\n",
       "    .dataframe thead th {\n",
       "        text-align: right;\n",
       "    }\n",
       "</style>\n",
       "<table border=\"1\" class=\"dataframe\">\n",
       "  <thead>\n",
       "    <tr style=\"text-align: right;\">\n",
       "      <th></th>\n",
       "      <th>연령대</th>\n",
       "      <th>연령대평균월급</th>\n",
       "    </tr>\n",
       "  </thead>\n",
       "  <tbody>\n",
       "    <tr>\n",
       "      <th>0</th>\n",
       "      <td>노년</td>\n",
       "      <td>140.0</td>\n",
       "    </tr>\n",
       "    <tr>\n",
       "      <th>1</th>\n",
       "      <td>중년</td>\n",
       "      <td>329.0</td>\n",
       "    </tr>\n",
       "    <tr>\n",
       "      <th>2</th>\n",
       "      <td>초년</td>\n",
       "      <td>196.0</td>\n",
       "    </tr>\n",
       "  </tbody>\n",
       "</table>\n",
       "</div>"
      ],
      "text/plain": [
       "  연령대  연령대평균월급\n",
       "0  노년    140.0\n",
       "1  중년    329.0\n",
       "2  초년    196.0"
      ]
     },
     "execution_count": 235,
     "metadata": {},
     "output_type": "execute_result"
    }
   ],
   "source": [
    "result=ex_three.groupby('연령대')['월급'].mean().reset_index(name='연령대평균월급')\n",
    "round(result, 0)"
   ]
  },
  {
   "cell_type": "markdown",
   "id": "f54d75ff-7bc4-4f8f-bd23-ef6b3b608949",
   "metadata": {},
   "source": [
    "### 통계적 가설 검증\n",
    "* 연령에 따른 월급 차이 - 어떤 연령의 따라 월급이 다를까?\n",
    "    * 다변수: X 문자형 / Y 숫자형\n",
    "    * 정규성 검정: 정규분포이다 / 정규분포아니다\n",
    "    * 등분산성 검정: 등분산이다 / 등분산아니다\n",
    "    * 가설: 연령대간 월급의 차이가 없다 / 연령대간  월급의 차이가 있다"
   ]
  },
  {
   "cell_type": "code",
   "execution_count": 239,
   "id": "78a03347-cd3d-4976-9b0c-620226ebd00b",
   "metadata": {},
   "outputs": [
    {
     "data": {
      "text/plain": [
       "NormaltestResult(statistic=1657.4427188351524, pvalue=0.0)"
      ]
     },
     "execution_count": 239,
     "metadata": {},
     "output_type": "execute_result"
    }
   ],
   "source": [
    "stats.normaltest(ex_three['월급'])   # 정규성 검증 : 비정규"
   ]
  },
  {
   "cell_type": "code",
   "execution_count": 240,
   "id": "f42bdbde-7abb-4dca-b60a-ca5c82137c26",
   "metadata": {},
   "outputs": [
    {
     "data": {
      "text/plain": [
       "KruskalResult(statistic=1154.8545662293197, pvalue=1.6846793127448966e-251)"
      ]
     },
     "execution_count": 240,
     "metadata": {},
     "output_type": "execute_result"
    }
   ],
   "source": [
    "# 비정규성 >> 3집단 >> Kruskal Willis Test\n",
    "\n",
    "x=ex_three[ex_three['연령대']=='노년']\n",
    "y=ex_three[ex_three['연령대']=='중년']\n",
    "z=ex_three[ex_three['연령대']=='초년']\n",
    "\n",
    "stats.kruskal(x['월급'], y['월급'], z['월급'])\n",
    "\n",
    "# 대립가설 참, 귀무가설 기각, 연령대별 월급의 차이가 있다.\n",
    "# 결론]시각화, 월급비교표(중년층), 크루스칼(Kruskal Willis Test)검정에 통해 연령대별 월급의 차이가 있다. "
   ]
  },
  {
   "cell_type": "markdown",
   "id": "539b8dce-50ad-4bab-a7ac-ee92e8701ff6",
   "metadata": {},
   "source": [
    "## 연령대별 성별 월급 차이 - 성별 월급 차이는 연령대별로 다를까?\n",
    "### 변수 검토 및 전처리\n",
    "* 연령대(5.4.1), 성별(5.2.1), 월급(5.2.2) 전처리 참조"
   ]
  },
  {
   "cell_type": "code",
   "execution_count": 244,
   "id": "42233b42-c535-4522-b8f0-f00477874f43",
   "metadata": {},
   "outputs": [
    {
     "name": "stdout",
     "output_type": "stream",
     "text": [
      "<class 'pandas.core.frame.DataFrame'>\n",
      "Index: 4534 entries, 2 to 14416\n",
      "Data columns (total 9 columns):\n",
      " #   Column  Non-Null Count  Dtype  \n",
      "---  ------  --------------  -----  \n",
      " 0   성별      4534 non-null   object \n",
      " 1   태어난연도   4534 non-null   float64\n",
      " 2   혼인상태    4534 non-null   float64\n",
      " 3   종교      4534 non-null   float64\n",
      " 4   월급      4534 non-null   float64\n",
      " 5   직업코드    4534 non-null   float64\n",
      " 6   지역코드    4534 non-null   float64\n",
      " 7   나이      4534 non-null   float64\n",
      " 8   연령대     4534 non-null   object \n",
      "dtypes: float64(7), object(2)\n",
      "memory usage: 354.2+ KB\n"
     ]
    }
   ],
   "source": [
    "ex_four=ex_three.copy()\n",
    "ex_four.head()\n",
    "ex_four.info()"
   ]
  },
  {
   "cell_type": "markdown",
   "id": "afef3c04-42d2-4c75-b9c0-24c7251f7ed9",
   "metadata": {},
   "source": [
    "### 분석 결과\n",
    "* 연령대 및 성별 월급 차이 - 성별 월급 차이는 연령대별로 다를까?\n",
    "    * 시각화\n",
    "    * 데이터 요약"
   ]
  },
  {
   "cell_type": "code",
   "execution_count": 248,
   "id": "5891c1f3-e220-4d24-8532-34c871eb2031",
   "metadata": {},
   "outputs": [
    {
     "data": {
      "text/plain": [
       "<Axes: xlabel='연령대', ylabel='월급'>"
      ]
     },
     "execution_count": 248,
     "metadata": {},
     "output_type": "execute_result"
    },
    {
     "data": {
      "image/png": "[encoded data removed]",
      "text/plain": [
       "<Figure size 640x480 with 1 Axes>"
      ]
     },
     "metadata": {},
     "output_type": "display_data"
    }
   ],
   "source": [
    "# 시각화 : x(문자), y(숫자) / barplat \n",
    "sns.barplot(data=ex_four, x='연령대', y='월급', hue='성별',  order=['초년', '중년', '노년'])"
   ]
  },
  {
   "cell_type": "code",
   "execution_count": 266,
   "id": "eef5533e-0b47-481d-add4-6030684c54ab",
   "metadata": {},
   "outputs": [
    {
     "data": {
      "text/html": [
       "<div>\n",
       "<style scoped>\n",
       "    .dataframe tbody tr th:only-of-type {\n",
       "        vertical-align: middle;\n",
       "    }\n",
       "\n",
       "    .dataframe tbody tr th {\n",
       "        vertical-align: top;\n",
       "    }\n",
       "\n",
       "    .dataframe thead th {\n",
       "        text-align: right;\n",
       "    }\n",
       "</style>\n",
       "<table border=\"1\" class=\"dataframe\">\n",
       "  <thead>\n",
       "    <tr style=\"text-align: right;\">\n",
       "      <th></th>\n",
       "      <th>연령대</th>\n",
       "      <th>성별</th>\n",
       "      <th>월급평균</th>\n",
       "    </tr>\n",
       "  </thead>\n",
       "  <tbody>\n",
       "    <tr>\n",
       "      <th>0</th>\n",
       "      <td>노년</td>\n",
       "      <td>남</td>\n",
       "      <td>205.0</td>\n",
       "    </tr>\n",
       "    <tr>\n",
       "      <th>1</th>\n",
       "      <td>노년</td>\n",
       "      <td>여</td>\n",
       "      <td>90.0</td>\n",
       "    </tr>\n",
       "    <tr>\n",
       "      <th>2</th>\n",
       "      <td>중년</td>\n",
       "      <td>남</td>\n",
       "      <td>410.0</td>\n",
       "    </tr>\n",
       "    <tr>\n",
       "      <th>3</th>\n",
       "      <td>중년</td>\n",
       "      <td>여</td>\n",
       "      <td>230.0</td>\n",
       "    </tr>\n",
       "    <tr>\n",
       "      <th>4</th>\n",
       "      <td>초년</td>\n",
       "      <td>남</td>\n",
       "      <td>205.0</td>\n",
       "    </tr>\n",
       "    <tr>\n",
       "      <th>5</th>\n",
       "      <td>초년</td>\n",
       "      <td>여</td>\n",
       "      <td>190.0</td>\n",
       "    </tr>\n",
       "  </tbody>\n",
       "</table>\n",
       "</div>"
      ],
      "text/plain": [
       "  연령대 성별   월급평균\n",
       "0  노년  남  205.0\n",
       "1  노년  여   90.0\n",
       "2  중년  남  410.0\n",
       "3  중년  여  230.0\n",
       "4  초년  남  205.0\n",
       "5  초년  여  190.0"
      ]
     },
     "execution_count": 266,
     "metadata": {},
     "output_type": "execute_result"
    }
   ],
   "source": [
    "# 데이터 요약\n",
    "result=ex_four.groupby(['연령대', '성별'])['월급'].mean().reset_index(name=\"월급평균\")\n",
    "result.round(0)"
   ]
  },
  {
   "cell_type": "markdown",
   "id": "03dd3897-c206-494b-9bdc-a542fb1554e8",
   "metadata": {},
   "source": [
    "### 통계적 가설 검증\n",
    "* 성별 월급 차이는 연령대별로 없다 / 있다.\n",
    "* 다변수: X 문자형 / Y 숫자형\n",
    "* 정규성 검정: 월급 >> 비정규성 >> 3집단 이상 Kruskal Wills Test (kruskal())"
   ]
  },
  {
   "cell_type": "code",
   "execution_count": 268,
   "id": "cab6a031-47ff-42a5-9066-7ce897049a24",
   "metadata": {},
   "outputs": [
    {
     "data": {
      "text/plain": [
       "KruskalResult(statistic=2104.3728897890423, pvalue=0.0)"
      ]
     },
     "execution_count": 268,
     "metadata": {},
     "output_type": "execute_result"
    }
   ],
   "source": [
    "m=ex_four[ex_four['성별']=='남']\n",
    "f=ex_one[ex_four['성별']=='여']\n",
    "\n",
    "o=ex_four[ex_four['연령대']=='노년']\n",
    "y=ex_four[ex_four['연령대']=='중년']\n",
    "b=ex_four[ex_four['연령대']=='초년']\n",
    "\n",
    "stats.kruskal(m['월급'], f['월급'], o['월급'], y['월급'], b['월급'])\n",
    "\n",
    "# 대립 가설 참, 귀무가설 기각, 성별 월급차이는 연령대별로 차이가 있다. 즉 다르다."
   ]
  },
  {
   "cell_type": "code",
   "execution_count": 371,
   "id": "558227cd-31f6-4f31-8ff9-10a349b4220a",
   "metadata": {},
   "outputs": [],
   "source": [
    "# 중간에 한번 저장\n",
    "# ex_four.head()\n",
    "# ex_four.to_csv(r'D:\\Edu\\Machine Learning\\workspace\\PythonBasic\\Data\\pandas\\project\\ex_four.csv', index=False)"
   ]
  },
  {
   "cell_type": "markdown",
   "id": "6447dddd-1cd0-4590-b06b-a520c0d1ccb8",
   "metadata": {},
   "source": [
    "## 직업별 월급 차이 - 어떤 직업이 월급을 가장 많이 받을까?"
   ]
  },
  {
   "cell_type": "markdown",
   "id": "140809f9-928a-4f73-8003-d448644223e9",
   "metadata": {},
   "source": [
    "### 직업 변수 검토 및 전처리\n",
    "* 직업코드 변수와 코드북의 직업분류코드 병합"
   ]
  },
  {
   "cell_type": "code",
   "execution_count": 497,
   "id": "70b098c1-648d-45e5-8ddb-c5b295d5917f",
   "metadata": {},
   "outputs": [
    {
     "data": {
      "text/plain": [
       "(14418, 7)"
      ]
     },
     "execution_count": 497,
     "metadata": {},
     "output_type": "execute_result"
    }
   ],
   "source": [
    "person=pd.read_csv('./Data/pandas/project/person.csv')\n",
    "ex_five=person.copy()\n",
    "ex_five.shape"
   ]
  },
  {
   "cell_type": "code",
   "execution_count": 499,
   "id": "308e5ee8-7527-4740-b91b-6892ca9eebfb",
   "metadata": {},
   "outputs": [
    {
     "name": "stdout",
     "output_type": "stream",
     "text": [
      "<class 'pandas.core.frame.DataFrame'>\n",
      "RangeIndex: 14418 entries, 0 to 14417\n",
      "Data columns (total 7 columns):\n",
      " #   Column  Non-Null Count  Dtype  \n",
      "---  ------  --------------  -----  \n",
      " 0   성별      14418 non-null  float64\n",
      " 1   태어난연도   14418 non-null  float64\n",
      " 2   혼인상태    14418 non-null  float64\n",
      " 3   종교      14418 non-null  float64\n",
      " 4   월급      4534 non-null   float64\n",
      " 5   직업코드    6878 non-null   float64\n",
      " 6   지역코드    14418 non-null  float64\n",
      "dtypes: float64(7)\n",
      "memory usage: 788.6 KB\n"
     ]
    }
   ],
   "source": [
    "ex_five.info()"
   ]
  },
  {
   "cell_type": "code",
   "execution_count": 501,
   "id": "b9c43873-b75d-40e9-84f4-98c434a7f8f1",
   "metadata": {},
   "outputs": [
    {
     "data": {
      "text/plain": [
       "직업코드\n",
       "611.0    962\n",
       "941.0    391\n",
       "521.0    354\n",
       "312.0    275\n",
       "873.0    236\n",
       "        ... \n",
       "112.0      2\n",
       "784.0      2\n",
       "423.0      1\n",
       "861.0      1\n",
       "872.0      1\n",
       "Name: count, Length: 150, dtype: int64"
      ]
     },
     "execution_count": 501,
     "metadata": {},
     "output_type": "execute_result"
    }
   ],
   "source": [
    "ex_five['직업코드'].value_counts()"
   ]
  },
  {
   "cell_type": "markdown",
   "id": "7fe31d11-9091-4d22-b041-853135fdc5fc",
   "metadata": {},
   "source": [
    "#### 코드북의 직업분류코드"
   ]
  },
  {
   "cell_type": "code",
   "execution_count": 503,
   "id": "84cb91c8-e152-4d56-96b4-4a747b2604b2",
   "metadata": {},
   "outputs": [
    {
     "data": {
      "text/html": [
       "<div>\n",
       "<style scoped>\n",
       "    .dataframe tbody tr th:only-of-type {\n",
       "        vertical-align: middle;\n",
       "    }\n",
       "\n",
       "    .dataframe tbody tr th {\n",
       "        vertical-align: top;\n",
       "    }\n",
       "\n",
       "    .dataframe thead th {\n",
       "        text-align: right;\n",
       "    }\n",
       "</style>\n",
       "<table border=\"1\" class=\"dataframe\">\n",
       "  <thead>\n",
       "    <tr style=\"text-align: right;\">\n",
       "      <th></th>\n",
       "      <th>code_job</th>\n",
       "      <th>job</th>\n",
       "    </tr>\n",
       "  </thead>\n",
       "  <tbody>\n",
       "    <tr>\n",
       "      <th>0</th>\n",
       "      <td>111</td>\n",
       "      <td>의회 의원∙고위 공무원 및 공공단체 임원</td>\n",
       "    </tr>\n",
       "    <tr>\n",
       "      <th>1</th>\n",
       "      <td>112</td>\n",
       "      <td>기업 고위 임원</td>\n",
       "    </tr>\n",
       "    <tr>\n",
       "      <th>2</th>\n",
       "      <td>121</td>\n",
       "      <td>행정 및 경영 지원 관리자</td>\n",
       "    </tr>\n",
       "    <tr>\n",
       "      <th>3</th>\n",
       "      <td>122</td>\n",
       "      <td>마케팅 및 광고∙홍보 관리자</td>\n",
       "    </tr>\n",
       "    <tr>\n",
       "      <th>4</th>\n",
       "      <td>131</td>\n",
       "      <td>연구∙교육 및 법률 관련 관리자</td>\n",
       "    </tr>\n",
       "  </tbody>\n",
       "</table>\n",
       "</div>"
      ],
      "text/plain": [
       "   code_job                     job\n",
       "0       111  의회 의원∙고위 공무원 및 공공단체 임원\n",
       "1       112                기업 고위 임원\n",
       "2       121          행정 및 경영 지원 관리자\n",
       "3       122         마케팅 및 광고∙홍보 관리자\n",
       "4       131       연구∙교육 및 법률 관련 관리자"
      ]
     },
     "execution_count": 503,
     "metadata": {},
     "output_type": "execute_result"
    }
   ],
   "source": [
    "# 전처리 - Koweps_Codebook_2019.xlsx\n",
    "job_data=pd.read_excel('./Data/pandas/project/Koweps_Codebook_2019.xlsx', sheet_name='직종코드')\n",
    "job_data.shape      # (156, 2)\n",
    "job_data.head()"
   ]
  },
  {
   "cell_type": "code",
   "execution_count": 505,
   "id": "58259550-73dc-4a5a-bbec-540dc53b5f6a",
   "metadata": {},
   "outputs": [
    {
     "data": {
      "text/html": [
       "<div>\n",
       "<style scoped>\n",
       "    .dataframe tbody tr th:only-of-type {\n",
       "        vertical-align: middle;\n",
       "    }\n",
       "\n",
       "    .dataframe tbody tr th {\n",
       "        vertical-align: top;\n",
       "    }\n",
       "\n",
       "    .dataframe thead th {\n",
       "        text-align: right;\n",
       "    }\n",
       "</style>\n",
       "<table border=\"1\" class=\"dataframe\">\n",
       "  <thead>\n",
       "    <tr style=\"text-align: right;\">\n",
       "      <th></th>\n",
       "      <th>직업코드</th>\n",
       "      <th>직무내용</th>\n",
       "    </tr>\n",
       "  </thead>\n",
       "  <tbody>\n",
       "    <tr>\n",
       "      <th>0</th>\n",
       "      <td>111</td>\n",
       "      <td>의회 의원∙고위 공무원 및 공공단체 임원</td>\n",
       "    </tr>\n",
       "    <tr>\n",
       "      <th>1</th>\n",
       "      <td>112</td>\n",
       "      <td>기업 고위 임원</td>\n",
       "    </tr>\n",
       "    <tr>\n",
       "      <th>2</th>\n",
       "      <td>121</td>\n",
       "      <td>행정 및 경영 지원 관리자</td>\n",
       "    </tr>\n",
       "    <tr>\n",
       "      <th>3</th>\n",
       "      <td>122</td>\n",
       "      <td>마케팅 및 광고∙홍보 관리자</td>\n",
       "    </tr>\n",
       "    <tr>\n",
       "      <th>4</th>\n",
       "      <td>131</td>\n",
       "      <td>연구∙교육 및 법률 관련 관리자</td>\n",
       "    </tr>\n",
       "  </tbody>\n",
       "</table>\n",
       "</div>"
      ],
      "text/plain": [
       "   직업코드                    직무내용\n",
       "0   111  의회 의원∙고위 공무원 및 공공단체 임원\n",
       "1   112                기업 고위 임원\n",
       "2   121          행정 및 경영 지원 관리자\n",
       "3   122         마케팅 및 광고∙홍보 관리자\n",
       "4   131       연구∙교육 및 법률 관련 관리자"
      ]
     },
     "execution_count": 505,
     "metadata": {},
     "output_type": "execute_result"
    }
   ],
   "source": [
    "job_list=job_data.rename(columns={'code_job' : '직업코드', 'job' : '직무내용'})\n",
    "job_list.head()\n",
    "\n",
    "# 저장 : 기본적으로 인덱스(index) 포함, index='인덱스를 포함하지 않고'\n",
    "# job_list.to_excel(r'C:\\Users\\JMH\\Desktop\\KimPro\\workspace\\PythonBasic\\Data\\pands\\project\\joblist.xlsx', index=False)"
   ]
  },
  {
   "cell_type": "markdown",
   "id": "9bb02b11-c95a-4299-905c-3f0822d2c0c2",
   "metadata": {},
   "source": [
    "#### 한국복지패널과 직업분류코드 병합"
   ]
  },
  {
   "cell_type": "code",
   "execution_count": 519,
   "id": "b2b4add9-f6a3-487c-a306-37f9ff76a186",
   "metadata": {},
   "outputs": [
    {
     "data": {
      "text/html": [
       "<div>\n",
       "<style scoped>\n",
       "    .dataframe tbody tr th:only-of-type {\n",
       "        vertical-align: middle;\n",
       "    }\n",
       "\n",
       "    .dataframe tbody tr th {\n",
       "        vertical-align: top;\n",
       "    }\n",
       "\n",
       "    .dataframe thead th {\n",
       "        text-align: right;\n",
       "    }\n",
       "</style>\n",
       "<table border=\"1\" class=\"dataframe\">\n",
       "  <thead>\n",
       "    <tr style=\"text-align: right;\">\n",
       "      <th></th>\n",
       "      <th>성별</th>\n",
       "      <th>태어난연도</th>\n",
       "      <th>혼인상태</th>\n",
       "      <th>종교</th>\n",
       "      <th>월급</th>\n",
       "      <th>직업코드</th>\n",
       "      <th>지역코드</th>\n",
       "      <th>직무내용</th>\n",
       "    </tr>\n",
       "  </thead>\n",
       "  <tbody>\n",
       "    <tr>\n",
       "      <th>0</th>\n",
       "      <td>1.0</td>\n",
       "      <td>1942.0</td>\n",
       "      <td>3.0</td>\n",
       "      <td>1.0</td>\n",
       "      <td>107.0</td>\n",
       "      <td>762.0</td>\n",
       "      <td>1.0</td>\n",
       "      <td>전기공</td>\n",
       "    </tr>\n",
       "    <tr>\n",
       "      <th>1</th>\n",
       "      <td>1.0</td>\n",
       "      <td>1962.0</td>\n",
       "      <td>1.0</td>\n",
       "      <td>1.0</td>\n",
       "      <td>192.0</td>\n",
       "      <td>855.0</td>\n",
       "      <td>1.0</td>\n",
       "      <td>금속기계 부품 조립원</td>\n",
       "    </tr>\n",
       "    <tr>\n",
       "      <th>2</th>\n",
       "      <td>2.0</td>\n",
       "      <td>1934.0</td>\n",
       "      <td>1.0</td>\n",
       "      <td>1.0</td>\n",
       "      <td>27.0</td>\n",
       "      <td>941.0</td>\n",
       "      <td>1.0</td>\n",
       "      <td>청소원 및 환경미화원</td>\n",
       "    </tr>\n",
       "    <tr>\n",
       "      <th>3</th>\n",
       "      <td>2.0</td>\n",
       "      <td>1940.0</td>\n",
       "      <td>2.0</td>\n",
       "      <td>1.0</td>\n",
       "      <td>27.0</td>\n",
       "      <td>999.0</td>\n",
       "      <td>2.0</td>\n",
       "      <td>기타 서비스 관련 단순 종사자</td>\n",
       "    </tr>\n",
       "    <tr>\n",
       "      <th>4</th>\n",
       "      <td>1.0</td>\n",
       "      <td>1978.0</td>\n",
       "      <td>1.0</td>\n",
       "      <td>2.0</td>\n",
       "      <td>338.0</td>\n",
       "      <td>312.0</td>\n",
       "      <td>1.0</td>\n",
       "      <td>경영 관련 사무원</td>\n",
       "    </tr>\n",
       "  </tbody>\n",
       "</table>\n",
       "</div>"
      ],
      "text/plain": [
       "    성별   태어난연도  혼인상태   종교     월급   직업코드  지역코드              직무내용\n",
       "0  1.0  1942.0   3.0  1.0  107.0  762.0   1.0               전기공\n",
       "1  1.0  1962.0   1.0  1.0  192.0  855.0   1.0       금속기계 부품 조립원\n",
       "2  2.0  1934.0   1.0  1.0   27.0  941.0   1.0       청소원 및 환경미화원\n",
       "3  2.0  1940.0   2.0  1.0   27.0  999.0   2.0  기타 서비스 관련 단순 종사자\n",
       "4  1.0  1978.0   1.0  2.0  338.0  312.0   1.0         경영 관련 사무원"
      ]
     },
     "execution_count": 519,
     "metadata": {},
     "output_type": "execute_result"
    }
   ],
   "source": [
    "# left join : 왼쪽 정보를 기준으로 결합한다. (왼쪽 정보가 조건에 부합하지 않아도 모두 결합)\n",
    "ex_five_merage=ex_five.merge(job_list, on='직업코드', how='inner')   # how='inner' 차이는 없다. \n",
    "ex_five_merage.head()"
   ]
  },
  {
   "cell_type": "markdown",
   "id": "90fb2c2c-6f92-4081-80b3-e91bf760c233",
   "metadata": {},
   "source": [
    "### 월급 변수 검토 및 전처리"
   ]
  },
  {
   "cell_type": "code",
   "execution_count": 531,
   "id": "cf93c3a7-369e-4d65-ba2a-b4817340f994",
   "metadata": {},
   "outputs": [
    {
     "name": "stdout",
     "output_type": "stream",
     "text": [
      "<class 'pandas.core.frame.DataFrame'>\n",
      "Index: 4534 entries, 0 to 6877\n",
      "Data columns (total 8 columns):\n",
      " #   Column  Non-Null Count  Dtype  \n",
      "---  ------  --------------  -----  \n",
      " 0   성별      4534 non-null   float64\n",
      " 1   태어난연도   4534 non-null   float64\n",
      " 2   혼인상태    4534 non-null   float64\n",
      " 3   종교      4534 non-null   float64\n",
      " 4   월급      4534 non-null   float64\n",
      " 5   직업코드    4534 non-null   float64\n",
      " 6   지역코드    4534 non-null   float64\n",
      " 7   직무내용    4534 non-null   object \n",
      "dtypes: float64(7), object(1)\n",
      "memory usage: 318.8+ KB\n"
     ]
    }
   ],
   "source": [
    "ex_five_merage.dropna(inplace=True)\n",
    "ex_five_merage.info()"
   ]
  },
  {
   "cell_type": "markdown",
   "id": "e1687bfa-a556-4a31-9637-ff206c2ffa92",
   "metadata": {},
   "source": [
    "### 분석 \n",
    "* 직업별 월급 차이 - 어떤 직업이 월급을 가장 많이 받을까?\n",
    "    * 시각화\n",
    "    * 데이터 요약 - 직업별 월급 평균표"
   ]
  },
  {
   "cell_type": "code",
   "execution_count": 534,
   "id": "c5f4047b-9996-44b4-8a4a-d5eab7be67ae",
   "metadata": {},
   "outputs": [
    {
     "data": {
      "text/plain": [
       "<Axes: xlabel='직무내용', ylabel='월급'>"
      ]
     },
     "execution_count": 534,
     "metadata": {},
     "output_type": "execute_result"
    },
    {
     "data": {
      "image/png": "[encoded data removed]",
      "text/plain": [
       "<Figure size 640x480 with 1 Axes>"
      ]
     },
     "metadata": {},
     "output_type": "display_data"
    }
   ],
   "source": [
    "# 시각화 - X(문자형), Y(숫자형) / barplot\n",
    "sns.barplot(data=ex_five_merage, x='직무내용', y='월급')"
   ]
  },
  {
   "cell_type": "code",
   "execution_count": 536,
   "id": "17e062d7-2e26-4250-ac59-8574876e17ac",
   "metadata": {},
   "outputs": [
    {
     "data": {
      "text/html": [
       "<div>\n",
       "<style scoped>\n",
       "    .dataframe tbody tr th:only-of-type {\n",
       "        vertical-align: middle;\n",
       "    }\n",
       "\n",
       "    .dataframe tbody tr th {\n",
       "        vertical-align: top;\n",
       "    }\n",
       "\n",
       "    .dataframe thead th {\n",
       "        text-align: right;\n",
       "    }\n",
       "</style>\n",
       "<table border=\"1\" class=\"dataframe\">\n",
       "  <thead>\n",
       "    <tr style=\"text-align: right;\">\n",
       "      <th></th>\n",
       "      <th>직무내용</th>\n",
       "      <th>직업별평균월급</th>\n",
       "    </tr>\n",
       "  </thead>\n",
       "  <tbody>\n",
       "    <tr>\n",
       "      <th>0</th>\n",
       "      <td>가사 및 육아 도우미</td>\n",
       "      <td>92.455882</td>\n",
       "    </tr>\n",
       "    <tr>\n",
       "      <th>1</th>\n",
       "      <td>간호사</td>\n",
       "      <td>265.219178</td>\n",
       "    </tr>\n",
       "    <tr>\n",
       "      <th>2</th>\n",
       "      <td>감정∙기술영업및중개관련종사자</td>\n",
       "      <td>391.000000</td>\n",
       "    </tr>\n",
       "    <tr>\n",
       "      <th>3</th>\n",
       "      <td>건물 관리원 및 검표원</td>\n",
       "      <td>168.375000</td>\n",
       "    </tr>\n",
       "    <tr>\n",
       "      <th>4</th>\n",
       "      <td>건설 및 광업 단순 종사자</td>\n",
       "      <td>261.975000</td>\n",
       "    </tr>\n",
       "    <tr>\n",
       "      <th>...</th>\n",
       "      <td>...</td>\n",
       "      <td>...</td>\n",
       "    </tr>\n",
       "    <tr>\n",
       "      <th>142</th>\n",
       "      <td>화학∙고무 및 플라스틱 제품 생산기 조작원</td>\n",
       "      <td>452.714286</td>\n",
       "    </tr>\n",
       "    <tr>\n",
       "      <th>143</th>\n",
       "      <td>화학공학 기술자 및 시험원</td>\n",
       "      <td>489.500000</td>\n",
       "    </tr>\n",
       "    <tr>\n",
       "      <th>144</th>\n",
       "      <td>환경∙청소 및 경비 관련 관리자</td>\n",
       "      <td>201.000000</td>\n",
       "    </tr>\n",
       "    <tr>\n",
       "      <th>145</th>\n",
       "      <td>환경공학∙가스·에너지 기술자 및 시험원</td>\n",
       "      <td>511.000000</td>\n",
       "    </tr>\n",
       "    <tr>\n",
       "      <th>146</th>\n",
       "      <td>회계 및 경리 사무원</td>\n",
       "      <td>274.840796</td>\n",
       "    </tr>\n",
       "  </tbody>\n",
       "</table>\n",
       "<p>147 rows × 2 columns</p>\n",
       "</div>"
      ],
      "text/plain": [
       "                        직무내용     직업별평균월급\n",
       "0                가사 및 육아 도우미   92.455882\n",
       "1                        간호사  265.219178\n",
       "2           감정∙기술영업및중개관련종사자   391.000000\n",
       "3               건물 관리원 및 검표원  168.375000\n",
       "4             건설 및 광업 단순 종사자  261.975000\n",
       "..                       ...         ...\n",
       "142  화학∙고무 및 플라스틱 제품 생산기 조작원  452.714286\n",
       "143           화학공학 기술자 및 시험원  489.500000\n",
       "144        환경∙청소 및 경비 관련 관리자  201.000000\n",
       "145    환경공학∙가스·에너지 기술자 및 시험원  511.000000\n",
       "146              회계 및 경리 사무원  274.840796\n",
       "\n",
       "[147 rows x 2 columns]"
      ]
     },
     "execution_count": 536,
     "metadata": {},
     "output_type": "execute_result"
    }
   ],
   "source": [
    "# 직업별 월급 평균표\n",
    "result=ex_five_merage.groupby('직무내용')['월급'].mean().reset_index(name='직업별평균월급')\n",
    "result"
   ]
  },
  {
   "cell_type": "code",
   "execution_count": 538,
   "id": "dfdadde1-bbdd-486a-81cd-a1b51be8be04",
   "metadata": {},
   "outputs": [
    {
     "data": {
      "text/html": [
       "<div>\n",
       "<style scoped>\n",
       "    .dataframe tbody tr th:only-of-type {\n",
       "        vertical-align: middle;\n",
       "    }\n",
       "\n",
       "    .dataframe tbody tr th {\n",
       "        vertical-align: top;\n",
       "    }\n",
       "\n",
       "    .dataframe thead th {\n",
       "        text-align: right;\n",
       "    }\n",
       "</style>\n",
       "<table border=\"1\" class=\"dataframe\">\n",
       "  <thead>\n",
       "    <tr style=\"text-align: right;\">\n",
       "      <th></th>\n",
       "      <th>직무내용</th>\n",
       "      <th>직업별평균월급</th>\n",
       "    </tr>\n",
       "  </thead>\n",
       "  <tbody>\n",
       "    <tr>\n",
       "      <th>98</th>\n",
       "      <td>의료 진료 전문가</td>\n",
       "      <td>781.000000</td>\n",
       "    </tr>\n",
       "    <tr>\n",
       "      <th>60</th>\n",
       "      <td>법률 전문가</td>\n",
       "      <td>776.333333</td>\n",
       "    </tr>\n",
       "    <tr>\n",
       "      <th>140</th>\n",
       "      <td>행정 및 경영 지원 관리자</td>\n",
       "      <td>771.833333</td>\n",
       "    </tr>\n",
       "    <tr>\n",
       "      <th>63</th>\n",
       "      <td>보험 및 금융 관리자</td>\n",
       "      <td>734.750000</td>\n",
       "    </tr>\n",
       "    <tr>\n",
       "      <th>110</th>\n",
       "      <td>재활용 처리 및 소각로 조작원</td>\n",
       "      <td>688.000000</td>\n",
       "    </tr>\n",
       "    <tr>\n",
       "      <th>131</th>\n",
       "      <td>컴퓨터 하드웨어 및 통신공학 전문가</td>\n",
       "      <td>679.444444</td>\n",
       "    </tr>\n",
       "    <tr>\n",
       "      <th>24</th>\n",
       "      <td>기계∙로봇공학 기술자 및 시험원</td>\n",
       "      <td>669.166667</td>\n",
       "    </tr>\n",
       "    <tr>\n",
       "      <th>6</th>\n",
       "      <td>건설∙전기 및 생산 관련 관리자</td>\n",
       "      <td>603.083333</td>\n",
       "    </tr>\n",
       "    <tr>\n",
       "      <th>120</th>\n",
       "      <td>제관원 및 판금원</td>\n",
       "      <td>597.000000</td>\n",
       "    </tr>\n",
       "    <tr>\n",
       "      <th>100</th>\n",
       "      <td>의회 의원∙고위 공무원 및 공공단체 임원</td>\n",
       "      <td>580.500000</td>\n",
       "    </tr>\n",
       "  </tbody>\n",
       "</table>\n",
       "</div>"
      ],
      "text/plain": [
       "                       직무내용     직업별평균월급\n",
       "98                의료 진료 전문가  781.000000\n",
       "60                   법률 전문가  776.333333\n",
       "140          행정 및 경영 지원 관리자  771.833333\n",
       "63              보험 및 금융 관리자  734.750000\n",
       "110        재활용 처리 및 소각로 조작원  688.000000\n",
       "131     컴퓨터 하드웨어 및 통신공학 전문가  679.444444\n",
       "24        기계∙로봇공학 기술자 및 시험원  669.166667\n",
       "6         건설∙전기 및 생산 관련 관리자  603.083333\n",
       "120               제관원 및 판금원  597.000000\n",
       "100  의회 의원∙고위 공무원 및 공공단체 임원  580.500000"
      ]
     },
     "execution_count": 538,
     "metadata": {},
     "output_type": "execute_result"
    }
   ],
   "source": [
    "# 상위 10 추출\n",
    "top10=result.sort_values('직업별평균월급', ascending=False).head(10)\n",
    "top10"
   ]
  },
  {
   "cell_type": "code",
   "execution_count": 462,
   "id": "d52d08d1-20da-4da9-9d14-c6f1da98c13f",
   "metadata": {},
   "outputs": [
    {
     "data": {
      "text/plain": [
       "<Axes: xlabel='직업별평균월급', ylabel='직무내용'>"
      ]
     },
     "execution_count": 462,
     "metadata": {},
     "output_type": "execute_result"
    },
    {
     "data": {
      "image/png": "[encoded data removed]",
      "text/plain": [
       "<Figure size 640x480 with 1 Axes>"
      ]
     },
     "metadata": {},
     "output_type": "display_data"
    }
   ],
   "source": [
    "sns.barplot(data=top10, y='직무내용', x='직업별평균월급')"
   ]
  },
  {
   "cell_type": "code",
   "execution_count": 540,
   "id": "7bc8ff6e-8064-44a3-abd4-efa92bc97139",
   "metadata": {},
   "outputs": [
    {
     "data": {
      "text/html": [
       "<div>\n",
       "<style scoped>\n",
       "    .dataframe tbody tr th:only-of-type {\n",
       "        vertical-align: middle;\n",
       "    }\n",
       "\n",
       "    .dataframe tbody tr th {\n",
       "        vertical-align: top;\n",
       "    }\n",
       "\n",
       "    .dataframe thead th {\n",
       "        text-align: right;\n",
       "    }\n",
       "</style>\n",
       "<table border=\"1\" class=\"dataframe\">\n",
       "  <thead>\n",
       "    <tr style=\"text-align: right;\">\n",
       "      <th></th>\n",
       "      <th>직무내용</th>\n",
       "      <th>직업별평균월급</th>\n",
       "    </tr>\n",
       "  </thead>\n",
       "  <tbody>\n",
       "    <tr>\n",
       "      <th>33</th>\n",
       "      <td>기타 돌봄∙보건 및 개인 생활 서비스 종사자</td>\n",
       "      <td>73.964286</td>\n",
       "    </tr>\n",
       "    <tr>\n",
       "      <th>34</th>\n",
       "      <td>기타 서비스 관련 단순 종사자</td>\n",
       "      <td>77.789474</td>\n",
       "    </tr>\n",
       "    <tr>\n",
       "      <th>128</th>\n",
       "      <td>청소원 및 환경미화원</td>\n",
       "      <td>88.461756</td>\n",
       "    </tr>\n",
       "    <tr>\n",
       "      <th>0</th>\n",
       "      <td>가사 및 육아 도우미</td>\n",
       "      <td>92.455882</td>\n",
       "    </tr>\n",
       "    <tr>\n",
       "      <th>43</th>\n",
       "      <td>돌봄 및 보건 서비스 종사자</td>\n",
       "      <td>117.162338</td>\n",
       "    </tr>\n",
       "    <tr>\n",
       "      <th>97</th>\n",
       "      <td>음식 관련 단순 종사자</td>\n",
       "      <td>118.187500</td>\n",
       "    </tr>\n",
       "    <tr>\n",
       "      <th>39</th>\n",
       "      <td>농림∙어업 관련 단순 종사자</td>\n",
       "      <td>122.625000</td>\n",
       "    </tr>\n",
       "    <tr>\n",
       "      <th>139</th>\n",
       "      <td>학예사∙사서 및 기록물 관리사</td>\n",
       "      <td>140.000000</td>\n",
       "    </tr>\n",
       "    <tr>\n",
       "      <th>126</th>\n",
       "      <td>채굴 및 토목 관련 기능 종사자</td>\n",
       "      <td>140.000000</td>\n",
       "    </tr>\n",
       "    <tr>\n",
       "      <th>135</th>\n",
       "      <td>판매 관련 단순 종사자</td>\n",
       "      <td>140.909091</td>\n",
       "    </tr>\n",
       "  </tbody>\n",
       "</table>\n",
       "</div>"
      ],
      "text/plain": [
       "                         직무내용     직업별평균월급\n",
       "33   기타 돌봄∙보건 및 개인 생활 서비스 종사자   73.964286\n",
       "34           기타 서비스 관련 단순 종사자   77.789474\n",
       "128               청소원 및 환경미화원   88.461756\n",
       "0                 가사 및 육아 도우미   92.455882\n",
       "43            돌봄 및 보건 서비스 종사자  117.162338\n",
       "97               음식 관련 단순 종사자  118.187500\n",
       "39            농림∙어업 관련 단순 종사자  122.625000\n",
       "139          학예사∙사서 및 기록물 관리사  140.000000\n",
       "126         채굴 및 토목 관련 기능 종사자  140.000000\n",
       "135              판매 관련 단순 종사자  140.909091"
      ]
     },
     "execution_count": 540,
     "metadata": {},
     "output_type": "execute_result"
    }
   ],
   "source": [
    "# 하위 10 추출\n",
    "bottom10=result.sort_values('직업별평균월급').head(10)\n",
    "bottom10"
   ]
  },
  {
   "cell_type": "code",
   "execution_count": 464,
   "id": "ad8ebba3-46b6-46d1-b2be-f34ad58c2c93",
   "metadata": {},
   "outputs": [
    {
     "data": {
      "text/plain": [
       "<Axes: xlabel='직업별평균월급', ylabel='직무내용'>"
      ]
     },
     "execution_count": 464,
     "metadata": {},
     "output_type": "execute_result"
    },
    {
     "data": {
      "image/png": "[encoded data removed]",
      "text/plain": [
       "<Figure size 640x480 with 1 Axes>"
      ]
     },
     "metadata": {},
     "output_type": "display_data"
    }
   ],
   "source": [
    "sns.barplot(data=bottom10, y='직무내용', x='직업별평균월급')"
   ]
  },
  {
   "cell_type": "markdown",
   "id": "1ead8422-eebb-4f92-8dec-7097a34f3d9f",
   "metadata": {},
   "source": [
    "### 통계적 가설 검증\n",
    "* 직업별 월급 차이가 없다 / 있다.\n",
    "* 다변수: X 문자형 / Y 숫자형\n",
    "* 정규성 검정: 월급 >> 비정규성 >> 3집단 이상 Kruskal Wills Test (kruskal())"
   ]
  },
  {
   "cell_type": "code",
   "execution_count": 542,
   "id": "5a02e279-3ca6-4ac9-b4f2-aea49f6624e1",
   "metadata": {},
   "outputs": [
    {
     "data": {
      "text/plain": [
       "KruskalResult(statistic=2504.604573255475, pvalue=0.0)"
      ]
     },
     "execution_count": 542,
     "metadata": {},
     "output_type": "execute_result"
    }
   ],
   "source": [
    "job_groups = []\n",
    "\n",
    "# ex_five_merage 데이터에서 고유한 직무내용을 반복\n",
    "for job in ex_five_merage['직무내용'].unique():\n",
    "    \n",
    "    # 각 직무에 해당하는 월급 데이터를 필터링하여 리스트에 추가\n",
    "    job_salary=ex_five_merage[ex_five_merage['직무내용']==job]['월급']\n",
    "\n",
    "    # print(job, job_salary)\n",
    "    job_groups.append(job_salary)\n",
    "\n",
    "len(job_groups)     # 147개\n",
    "\n",
    "# Kruskal-Wallis H 검정\n",
    "stats.kruskal(*job_groups)    # * 대립가설 참, 귀무가설 기각, 직업별 월급 차이가 있다. \n",
    "\n",
    "# '*' 연산자는 리스트나 튜플과 같은 반복 가능한(iterable) 객체를 개별 인자로 \"풀어\" 전달하는 데 사용 (PPT 참조)"
   ]
  },
  {
   "cell_type": "markdown",
   "id": "4c5be1e9-6291-48f7-a48a-9261ab380cf6",
   "metadata": {},
   "source": [
    "## 성별 직업 빈도 - 성별로 어떤 직업이 가장 많을까?\n",
    "### 전처리 \n",
    "* 성별, 직업코드, 직무내용"
   ]
  },
  {
   "cell_type": "code",
   "execution_count": 550,
   "id": "8d5331b6-dc32-46b7-b2b0-b833fcd74232",
   "metadata": {},
   "outputs": [
    {
     "data": {
      "text/html": [
       "<div>\n",
       "<style scoped>\n",
       "    .dataframe tbody tr th:only-of-type {\n",
       "        vertical-align: middle;\n",
       "    }\n",
       "\n",
       "    .dataframe tbody tr th {\n",
       "        vertical-align: top;\n",
       "    }\n",
       "\n",
       "    .dataframe thead th {\n",
       "        text-align: right;\n",
       "    }\n",
       "</style>\n",
       "<table border=\"1\" class=\"dataframe\">\n",
       "  <thead>\n",
       "    <tr style=\"text-align: right;\">\n",
       "      <th></th>\n",
       "      <th>성별</th>\n",
       "      <th>직업코드</th>\n",
       "      <th>직무내용</th>\n",
       "    </tr>\n",
       "  </thead>\n",
       "  <tbody>\n",
       "    <tr>\n",
       "      <th>0</th>\n",
       "      <td>1.0</td>\n",
       "      <td>762.0</td>\n",
       "      <td>전기공</td>\n",
       "    </tr>\n",
       "    <tr>\n",
       "      <th>1</th>\n",
       "      <td>1.0</td>\n",
       "      <td>855.0</td>\n",
       "      <td>금속기계 부품 조립원</td>\n",
       "    </tr>\n",
       "  </tbody>\n",
       "</table>\n",
       "</div>"
      ],
      "text/plain": [
       "    성별   직업코드         직무내용\n",
       "0  1.0  762.0          전기공\n",
       "1  1.0  855.0  금속기계 부품 조립원"
      ]
     },
     "execution_count": 550,
     "metadata": {},
     "output_type": "execute_result"
    }
   ],
   "source": [
    "ex_six_imsi=ex_five_merage[['성별', '직업코드', '직무내용']]\n",
    "ex_six_imsi.head(2)"
   ]
  },
  {
   "cell_type": "code",
   "execution_count": 552,
   "id": "6409ef19-23f5-4f67-8ba1-bb323fb8b3a8",
   "metadata": {},
   "outputs": [
    {
     "data": {
      "text/plain": [
       "성별\n",
       "남    2289\n",
       "여    2245\n",
       "Name: count, dtype: int64"
      ]
     },
     "execution_count": 552,
     "metadata": {},
     "output_type": "execute_result"
    }
   ],
   "source": [
    "ex_six=ex_six_imsi.copy()\n",
    "ex_six['성별']=np.where(ex_six['성별']==1.0, '남', '여')\n",
    "ex_six['성별'].value_counts()"
   ]
  },
  {
   "cell_type": "code",
   "execution_count": 554,
   "id": "c6175624-ffad-4eab-ae5f-134c64f275a5",
   "metadata": {},
   "outputs": [
    {
     "data": {
      "text/plain": [
       "직무내용\n",
       "경영 관련 사무원           212\n",
       "자동차 운전원             114\n",
       "청소원 및 환경미화원          92\n",
       "영업 종사자               91\n",
       "건물 관리원 및 검표원         78\n",
       "행정 사무원               74\n",
       "제조 관련 단순 종사자         69\n",
       "매장 판매 종사자            60\n",
       "전기∙전자기기 설치 및 수리원     52\n",
       "배달원                  52\n",
       "Name: count, dtype: int64"
      ]
     },
     "execution_count": 554,
     "metadata": {},
     "output_type": "execute_result"
    }
   ],
   "source": [
    "# 남성\n",
    "male=ex_six[ex_six['성별']=='남']\n",
    "male_count=male['직무내용'].value_counts().head(10)\n",
    "male_count"
   ]
  },
  {
   "cell_type": "code",
   "execution_count": 556,
   "id": "081c9291-62fa-4e54-91cc-8b1172f7f4d4",
   "metadata": {},
   "outputs": [
    {
     "data": {
      "text/plain": [
       "Text(0.5, 0, '인원수')"
      ]
     },
     "execution_count": 556,
     "metadata": {},
     "output_type": "execute_result"
    },
    {
     "data": {
      "image/png": "[encoded data removed]",
      "text/plain": [
       "<Figure size 640x480 with 1 Axes>"
      ]
     },
     "metadata": {},
     "output_type": "display_data"
    }
   ],
   "source": [
    "sns.countplot(data=male, y='직무내용', order=male_count.index)\n",
    "plt.title(\"남자 직업 빈도수\")\n",
    "plt.xlabel(\"인원수\")"
   ]
  },
  {
   "cell_type": "code",
   "execution_count": 558,
   "id": "67724e0d-cdf0-41b0-bce0-015a1cfbb004",
   "metadata": {},
   "outputs": [
    {
     "data": {
      "text/plain": [
       "직무내용\n",
       "청소원 및 환경미화원         261\n",
       "회계 및 경리 사무원         151\n",
       "돌봄 및 보건 서비스 종사자     151\n",
       "제조 관련 단순 종사자        128\n",
       "매장 판매 종사자           106\n",
       "음식 관련 단순 종사자        101\n",
       "기타 서비스 관련 단순 종사자     83\n",
       "고객 상담 및 기타 사무원       74\n",
       "조리사                  72\n",
       "간호사                  70\n",
       "Name: count, dtype: int64"
      ]
     },
     "execution_count": 558,
     "metadata": {},
     "output_type": "execute_result"
    }
   ],
   "source": [
    "# 여성\n",
    "female=ex_six[ex_six['성별']=='여']\n",
    "female_count=female['직무내용'].value_counts().head(10)\n",
    "female_count"
   ]
  },
  {
   "cell_type": "code",
   "execution_count": 562,
   "id": "8e9d8b01-ec00-46ee-800b-bdeae6611d60",
   "metadata": {},
   "outputs": [
    {
     "data": {
      "text/plain": [
       "Text(0.5, 0, '인원수')"
      ]
     },
     "execution_count": 562,
     "metadata": {},
     "output_type": "execute_result"
    },
    {
     "data": {
      "image/png": "[encoded data removed]",
      "text/plain": [
       "<Figure size 640x480 with 1 Axes>"
      ]
     },
     "metadata": {},
     "output_type": "display_data"
    }
   ],
   "source": [
    "sns.countplot(data=female, y='직무내용', order=female_count.index)\n",
    "plt.title(\"여자 직업 빈도수\")\n",
    "plt.xlabel(\"인원수\")"
   ]
  },
  {
   "cell_type": "markdown",
   "id": "92572cc8-be74-4f4b-aee0-777ee5c6237a",
   "metadata": {},
   "source": [
    "### 분석 \n",
    "* 성별 직업 빈도 - 성별로 어떤 직업이 가장 많을까?\n",
    "    - 시각화\n",
    "    - 데이터 요약표 - 남/녀 직업별 빈도수"
   ]
  },
  {
   "cell_type": "code",
   "execution_count": 564,
   "id": "bc2603df-01b3-4826-abc7-18f7d1de201b",
   "metadata": {},
   "outputs": [
    {
     "data": {
      "text/plain": [
       "<Axes: title={'center': '남녀 직업 빈도수'}, xlabel='인원수', ylabel='직무내용'>"
      ]
     },
     "execution_count": 564,
     "metadata": {},
     "output_type": "execute_result"
    },
    {
     "data": {
      "image/png": "[encoded data removed]",
      "text/plain": [
       "<Figure size 640x480 with 1 Axes>"
      ]
     },
     "metadata": {},
     "output_type": "display_data"
    }
   ],
   "source": [
    "# 시각화\n",
    "top=ex_six['직무내용'].value_counts().head(10)    # 시리즈로 반환\n",
    "\n",
    "plt.title(\"남녀 직업 빈도수\")\n",
    "plt.xlabel(\"인원수\")\n",
    "sns.countplot(data=ex_six, y='직무내용', hue='성별', order=top.index)"
   ]
  },
  {
   "cell_type": "code",
   "execution_count": 566,
   "id": "6206b823-392e-4ffe-b033-3e34f4e94861",
   "metadata": {},
   "outputs": [],
   "source": [
    "# 여성\n",
    "# m_result=male.groupby(\"직무내용\")['성별'].count().reset_index(name='남성인원수')\n",
    "# m_result.sort_values(\"남성인원수\", ascending=False).head(10)\n",
    "\n",
    "# # 남성 \n",
    "# f_result=female.groupby(\"직무내용\")[\"성별\"].count().reset_index(name=\"여성인원수\")\n",
    "# f_result.sort_values('여성인원수', ascending=False).head(10)"
   ]
  },
  {
   "cell_type": "code",
   "execution_count": 568,
   "id": "7368e942-2876-4277-aefd-4a1683d46561",
   "metadata": {},
   "outputs": [
    {
     "data": {
      "text/html": [
       "<div>\n",
       "<style scoped>\n",
       "    .dataframe tbody tr th:only-of-type {\n",
       "        vertical-align: middle;\n",
       "    }\n",
       "\n",
       "    .dataframe tbody tr th {\n",
       "        vertical-align: top;\n",
       "    }\n",
       "\n",
       "    .dataframe thead th {\n",
       "        text-align: right;\n",
       "    }\n",
       "</style>\n",
       "<table border=\"1\" class=\"dataframe\">\n",
       "  <thead>\n",
       "    <tr style=\"text-align: right;\">\n",
       "      <th></th>\n",
       "      <th>직무내용</th>\n",
       "      <th>성별</th>\n",
       "      <th>인원수</th>\n",
       "    </tr>\n",
       "  </thead>\n",
       "  <tbody>\n",
       "    <tr>\n",
       "      <th>204</th>\n",
       "      <td>청소원 및 환경미화원</td>\n",
       "      <td>여</td>\n",
       "      <td>261</td>\n",
       "    </tr>\n",
       "    <tr>\n",
       "      <th>17</th>\n",
       "      <td>경영 관련 사무원</td>\n",
       "      <td>남</td>\n",
       "      <td>212</td>\n",
       "    </tr>\n",
       "    <tr>\n",
       "      <th>235</th>\n",
       "      <td>회계 및 경리 사무원</td>\n",
       "      <td>여</td>\n",
       "      <td>151</td>\n",
       "    </tr>\n",
       "    <tr>\n",
       "      <th>70</th>\n",
       "      <td>돌봄 및 보건 서비스 종사자</td>\n",
       "      <td>여</td>\n",
       "      <td>151</td>\n",
       "    </tr>\n",
       "    <tr>\n",
       "      <th>194</th>\n",
       "      <td>제조 관련 단순 종사자</td>\n",
       "      <td>여</td>\n",
       "      <td>128</td>\n",
       "    </tr>\n",
       "    <tr>\n",
       "      <th>171</th>\n",
       "      <td>자동차 운전원</td>\n",
       "      <td>남</td>\n",
       "      <td>114</td>\n",
       "    </tr>\n",
       "    <tr>\n",
       "      <th>75</th>\n",
       "      <td>매장 판매 종사자</td>\n",
       "      <td>여</td>\n",
       "      <td>106</td>\n",
       "    </tr>\n",
       "    <tr>\n",
       "      <th>160</th>\n",
       "      <td>음식 관련 단순 종사자</td>\n",
       "      <td>여</td>\n",
       "      <td>101</td>\n",
       "    </tr>\n",
       "    <tr>\n",
       "      <th>203</th>\n",
       "      <td>청소원 및 환경미화원</td>\n",
       "      <td>남</td>\n",
       "      <td>92</td>\n",
       "    </tr>\n",
       "    <tr>\n",
       "      <th>146</th>\n",
       "      <td>영업 종사자</td>\n",
       "      <td>남</td>\n",
       "      <td>91</td>\n",
       "    </tr>\n",
       "  </tbody>\n",
       "</table>\n",
       "</div>"
      ],
      "text/plain": [
       "                직무내용 성별  인원수\n",
       "204      청소원 및 환경미화원  여  261\n",
       "17         경영 관련 사무원  남  212\n",
       "235      회계 및 경리 사무원  여  151\n",
       "70   돌봄 및 보건 서비스 종사자  여  151\n",
       "194     제조 관련 단순 종사자  여  128\n",
       "171          자동차 운전원  남  114\n",
       "75         매장 판매 종사자  여  106\n",
       "160     음식 관련 단순 종사자  여  101\n",
       "203      청소원 및 환경미화원  남   92\n",
       "146           영업 종사자  남   91"
      ]
     },
     "execution_count": 568,
     "metadata": {},
     "output_type": "execute_result"
    }
   ],
   "source": [
    "# 성별 요약표 - 직무내용 그룹화 후 인원수\n",
    "result=ex_six.groupby(['직무내용', '성별'])['성별'].count().reset_index(name='인원수')\n",
    "result.sort_values('인원수', ascending=False).head(10)"
   ]
  },
  {
   "cell_type": "markdown",
   "id": "814438ce-df9c-4db7-bf48-b314d6078a52",
   "metadata": {},
   "source": [
    "### 통계적 가설 검증\n",
    "* 성별에 따라 직무의 차이가 없다 / 있다 (연관성 검정)\n",
    "* 또는 성별에 상관없이 직업의 분포가 동일하다 / 동일하지 않다.\n",
    "* 다변수: X 문자형 / Y 문자형\n",
    "* Chi Square Test"
   ]
  },
  {
   "cell_type": "code",
   "execution_count": 570,
   "id": "b45e28a0-3f15-4698-8ee8-2a58155a4fff",
   "metadata": {},
   "outputs": [
    {
     "data": {
      "text/html": [
       "<div>\n",
       "<style scoped>\n",
       "    .dataframe tbody tr th:only-of-type {\n",
       "        vertical-align: middle;\n",
       "    }\n",
       "\n",
       "    .dataframe tbody tr th {\n",
       "        vertical-align: top;\n",
       "    }\n",
       "\n",
       "    .dataframe thead th {\n",
       "        text-align: right;\n",
       "    }\n",
       "</style>\n",
       "<table border=\"1\" class=\"dataframe\">\n",
       "  <thead>\n",
       "    <tr style=\"text-align: right;\">\n",
       "      <th>성별</th>\n",
       "      <th>남</th>\n",
       "      <th>여</th>\n",
       "    </tr>\n",
       "    <tr>\n",
       "      <th>직무내용</th>\n",
       "      <th></th>\n",
       "      <th></th>\n",
       "    </tr>\n",
       "  </thead>\n",
       "  <tbody>\n",
       "    <tr>\n",
       "      <th>가사 및 육아 도우미</th>\n",
       "      <td>1</td>\n",
       "      <td>67</td>\n",
       "    </tr>\n",
       "    <tr>\n",
       "      <th>간호사</th>\n",
       "      <td>3</td>\n",
       "      <td>70</td>\n",
       "    </tr>\n",
       "    <tr>\n",
       "      <th>감정∙기술영업및중개관련종사자</th>\n",
       "      <td>14</td>\n",
       "      <td>4</td>\n",
       "    </tr>\n",
       "    <tr>\n",
       "      <th>건물 관리원 및 검표원</th>\n",
       "      <td>78</td>\n",
       "      <td>2</td>\n",
       "    </tr>\n",
       "    <tr>\n",
       "      <th>건설 및 광업 단순 종사자</th>\n",
       "      <td>35</td>\n",
       "      <td>5</td>\n",
       "    </tr>\n",
       "    <tr>\n",
       "      <th>...</th>\n",
       "      <td>...</td>\n",
       "      <td>...</td>\n",
       "    </tr>\n",
       "    <tr>\n",
       "      <th>화학∙고무 및 플라스틱 제품 생산기 조작원</th>\n",
       "      <td>7</td>\n",
       "      <td>0</td>\n",
       "    </tr>\n",
       "    <tr>\n",
       "      <th>화학공학 기술자 및 시험원</th>\n",
       "      <td>6</td>\n",
       "      <td>0</td>\n",
       "    </tr>\n",
       "    <tr>\n",
       "      <th>환경∙청소 및 경비 관련 관리자</th>\n",
       "      <td>8</td>\n",
       "      <td>2</td>\n",
       "    </tr>\n",
       "    <tr>\n",
       "      <th>환경공학∙가스·에너지 기술자 및 시험원</th>\n",
       "      <td>4</td>\n",
       "      <td>1</td>\n",
       "    </tr>\n",
       "    <tr>\n",
       "      <th>회계 및 경리 사무원</th>\n",
       "      <td>50</td>\n",
       "      <td>151</td>\n",
       "    </tr>\n",
       "  </tbody>\n",
       "</table>\n",
       "<p>147 rows × 2 columns</p>\n",
       "</div>"
      ],
      "text/plain": [
       "성별                        남    여\n",
       "직무내용                            \n",
       "가사 및 육아 도우미               1   67\n",
       "간호사                       3   70\n",
       "감정∙기술영업및중개관련종사자          14    4\n",
       "건물 관리원 및 검표원             78    2\n",
       "건설 및 광업 단순 종사자           35    5\n",
       "...                      ..  ...\n",
       "화학∙고무 및 플라스틱 제품 생산기 조작원   7    0\n",
       "화학공학 기술자 및 시험원            6    0\n",
       "환경∙청소 및 경비 관련 관리자         8    2\n",
       "환경공학∙가스·에너지 기술자 및 시험원     4    1\n",
       "회계 및 경리 사무원              50  151\n",
       "\n",
       "[147 rows x 2 columns]"
      ]
     },
     "execution_count": 570,
     "metadata": {},
     "output_type": "execute_result"
    }
   ],
   "source": [
    "# Contingency Table : 범주형 데이터의 항목 빈도수 테이블\n",
    "ex_six_crosstab=pd.crosstab(ex_six['직무내용'], ex_six['성별'])\n",
    "ex_six_crosstab"
   ]
  },
  {
   "cell_type": "code",
   "execution_count": 572,
   "id": "c2c47bfc-0896-4037-968d-c4c46baecbe0",
   "metadata": {},
   "outputs": [
    {
     "data": {
      "text/plain": [
       "(0.0, 1979.0205094555938)"
      ]
     },
     "execution_count": 572,
     "metadata": {},
     "output_type": "execute_result"
    }
   ],
   "source": [
    "c_result=stats.chi2_contingency(ex_six_crosstab)\n",
    "c_result.pvalue, c_result.statistic     # 내용이 너무 많아서 원하는 값만 출력\n",
    "\n",
    "# 대립 가설 참, 귀무가설 기각, 성별에 따른 직무의 차이가 있다 / 즉, 연관성이 있다. 서로 의존적이다."
   ]
  },
  {
   "cell_type": "markdown",
   "id": "669cb854-e9c3-40cc-bff8-5893740e77f0",
   "metadata": {},
   "source": [
    "## 종교 유무에 따른 이혼율 - 종교가 있으면 이혼을 덜 할까?\n",
    "### 데이타 파일 가져오기"
   ]
  },
  {
   "cell_type": "code",
   "execution_count": 574,
   "id": "ac33b750-808f-4302-9d62-17df73fe6d40",
   "metadata": {},
   "outputs": [
    {
     "data": {
      "text/plain": [
       "(14418, 7)"
      ]
     },
     "execution_count": 574,
     "metadata": {},
     "output_type": "execute_result"
    }
   ],
   "source": [
    "# person 데이터 파일 가져오기 \n",
    "person=pd.read_csv('./Data/pandas/project/person.csv')\n",
    "person.shape"
   ]
  },
  {
   "cell_type": "code",
   "execution_count": 576,
   "id": "7d9d37a2-8dff-4caf-b74a-4893589f091d",
   "metadata": {},
   "outputs": [
    {
     "data": {
      "text/plain": [
       "(156, 2)"
      ]
     },
     "execution_count": 576,
     "metadata": {},
     "output_type": "execute_result"
    }
   ],
   "source": [
    "# joblist 데이터 파일 가져오기 \n",
    "job_list=pd.read_excel('./Data/pandas/project/joblist.xlsx')\n",
    "job_list.shape"
   ]
  },
  {
   "cell_type": "code",
   "execution_count": 586,
   "id": "ccf5e3c6-d576-4315-8ef7-e449d93b9f9d",
   "metadata": {},
   "outputs": [
    {
     "data": {
      "text/plain": [
       "(14418, 8)"
      ]
     },
     "execution_count": 586,
     "metadata": {},
     "output_type": "execute_result"
    }
   ],
   "source": [
    "# 병합 \n",
    "pj_merage=person.merge(job_list, on='직업코드', how='left')   \n",
    "pj_merage.shape"
   ]
  },
  {
   "cell_type": "code",
   "execution_count": 588,
   "id": "ec2adc90-76d4-4c6e-8449-194af1a37c0d",
   "metadata": {},
   "outputs": [
    {
     "data": {
      "text/html": [
       "<div>\n",
       "<style scoped>\n",
       "    .dataframe tbody tr th:only-of-type {\n",
       "        vertical-align: middle;\n",
       "    }\n",
       "\n",
       "    .dataframe tbody tr th {\n",
       "        vertical-align: top;\n",
       "    }\n",
       "\n",
       "    .dataframe thead th {\n",
       "        text-align: right;\n",
       "    }\n",
       "</style>\n",
       "<table border=\"1\" class=\"dataframe\">\n",
       "  <thead>\n",
       "    <tr style=\"text-align: right;\">\n",
       "      <th></th>\n",
       "      <th>성별</th>\n",
       "      <th>태어난연도</th>\n",
       "      <th>혼인상태</th>\n",
       "      <th>종교</th>\n",
       "      <th>월급</th>\n",
       "      <th>직업코드</th>\n",
       "      <th>지역코드</th>\n",
       "      <th>직무내용</th>\n",
       "    </tr>\n",
       "  </thead>\n",
       "  <tbody>\n",
       "    <tr>\n",
       "      <th>0</th>\n",
       "      <td>2.0</td>\n",
       "      <td>1945.0</td>\n",
       "      <td>2.0</td>\n",
       "      <td>1.0</td>\n",
       "      <td>NaN</td>\n",
       "      <td>NaN</td>\n",
       "      <td>1.0</td>\n",
       "      <td>NaN</td>\n",
       "    </tr>\n",
       "    <tr>\n",
       "      <th>1</th>\n",
       "      <td>1.0</td>\n",
       "      <td>1948.0</td>\n",
       "      <td>2.0</td>\n",
       "      <td>2.0</td>\n",
       "      <td>NaN</td>\n",
       "      <td>NaN</td>\n",
       "      <td>1.0</td>\n",
       "      <td>NaN</td>\n",
       "    </tr>\n",
       "    <tr>\n",
       "      <th>2</th>\n",
       "      <td>1.0</td>\n",
       "      <td>1942.0</td>\n",
       "      <td>3.0</td>\n",
       "      <td>1.0</td>\n",
       "      <td>107.0</td>\n",
       "      <td>762.0</td>\n",
       "      <td>1.0</td>\n",
       "      <td>전기공</td>\n",
       "    </tr>\n",
       "    <tr>\n",
       "      <th>3</th>\n",
       "      <td>1.0</td>\n",
       "      <td>1962.0</td>\n",
       "      <td>1.0</td>\n",
       "      <td>1.0</td>\n",
       "      <td>192.0</td>\n",
       "      <td>855.0</td>\n",
       "      <td>1.0</td>\n",
       "      <td>금속기계 부품 조립원</td>\n",
       "    </tr>\n",
       "    <tr>\n",
       "      <th>4</th>\n",
       "      <td>2.0</td>\n",
       "      <td>1963.0</td>\n",
       "      <td>1.0</td>\n",
       "      <td>1.0</td>\n",
       "      <td>NaN</td>\n",
       "      <td>NaN</td>\n",
       "      <td>1.0</td>\n",
       "      <td>NaN</td>\n",
       "    </tr>\n",
       "  </tbody>\n",
       "</table>\n",
       "</div>"
      ],
      "text/plain": [
       "    성별   태어난연도  혼인상태   종교     월급   직업코드  지역코드         직무내용\n",
       "0  2.0  1945.0   2.0  1.0    NaN    NaN   1.0          NaN\n",
       "1  1.0  1948.0   2.0  2.0    NaN    NaN   1.0          NaN\n",
       "2  1.0  1942.0   3.0  1.0  107.0  762.0   1.0          전기공\n",
       "3  1.0  1962.0   1.0  1.0  192.0  855.0   1.0  금속기계 부품 조립원\n",
       "4  2.0  1963.0   1.0  1.0    NaN    NaN   1.0          NaN"
      ]
     },
     "execution_count": 588,
     "metadata": {},
     "output_type": "execute_result"
    }
   ],
   "source": [
    "pj_merage.head()"
   ]
  },
  {
   "cell_type": "code",
   "execution_count": 590,
   "id": "abfdd049-f3f1-4258-90c4-9a617032f820",
   "metadata": {},
   "outputs": [
    {
     "data": {
      "text/html": [
       "<div>\n",
       "<style scoped>\n",
       "    .dataframe tbody tr th:only-of-type {\n",
       "        vertical-align: middle;\n",
       "    }\n",
       "\n",
       "    .dataframe tbody tr th {\n",
       "        vertical-align: top;\n",
       "    }\n",
       "\n",
       "    .dataframe thead th {\n",
       "        text-align: right;\n",
       "    }\n",
       "</style>\n",
       "<table border=\"1\" class=\"dataframe\">\n",
       "  <thead>\n",
       "    <tr style=\"text-align: right;\">\n",
       "      <th></th>\n",
       "      <th>성별</th>\n",
       "      <th>태어난연도</th>\n",
       "      <th>혼인상태</th>\n",
       "      <th>종교</th>\n",
       "      <th>월급</th>\n",
       "      <th>직업코드</th>\n",
       "      <th>지역코드</th>\n",
       "      <th>직무내용</th>\n",
       "    </tr>\n",
       "  </thead>\n",
       "  <tbody>\n",
       "    <tr>\n",
       "      <th>0</th>\n",
       "      <td>2.0</td>\n",
       "      <td>1945.0</td>\n",
       "      <td>2.0</td>\n",
       "      <td>1.0</td>\n",
       "      <td>NaN</td>\n",
       "      <td>NaN</td>\n",
       "      <td>1.0</td>\n",
       "      <td>NaN</td>\n",
       "    </tr>\n",
       "    <tr>\n",
       "      <th>1</th>\n",
       "      <td>1.0</td>\n",
       "      <td>1948.0</td>\n",
       "      <td>2.0</td>\n",
       "      <td>2.0</td>\n",
       "      <td>NaN</td>\n",
       "      <td>NaN</td>\n",
       "      <td>1.0</td>\n",
       "      <td>NaN</td>\n",
       "    </tr>\n",
       "    <tr>\n",
       "      <th>2</th>\n",
       "      <td>1.0</td>\n",
       "      <td>1942.0</td>\n",
       "      <td>3.0</td>\n",
       "      <td>1.0</td>\n",
       "      <td>107.0</td>\n",
       "      <td>762.0</td>\n",
       "      <td>1.0</td>\n",
       "      <td>전기공</td>\n",
       "    </tr>\n",
       "    <tr>\n",
       "      <th>3</th>\n",
       "      <td>1.0</td>\n",
       "      <td>1962.0</td>\n",
       "      <td>1.0</td>\n",
       "      <td>1.0</td>\n",
       "      <td>192.0</td>\n",
       "      <td>855.0</td>\n",
       "      <td>1.0</td>\n",
       "      <td>금속기계 부품 조립원</td>\n",
       "    </tr>\n",
       "    <tr>\n",
       "      <th>4</th>\n",
       "      <td>2.0</td>\n",
       "      <td>1963.0</td>\n",
       "      <td>1.0</td>\n",
       "      <td>1.0</td>\n",
       "      <td>NaN</td>\n",
       "      <td>NaN</td>\n",
       "      <td>1.0</td>\n",
       "      <td>NaN</td>\n",
       "    </tr>\n",
       "  </tbody>\n",
       "</table>\n",
       "</div>"
      ],
      "text/plain": [
       "    성별   태어난연도  혼인상태   종교     월급   직업코드  지역코드         직무내용\n",
       "0  2.0  1945.0   2.0  1.0    NaN    NaN   1.0          NaN\n",
       "1  1.0  1948.0   2.0  2.0    NaN    NaN   1.0          NaN\n",
       "2  1.0  1942.0   3.0  1.0  107.0  762.0   1.0          전기공\n",
       "3  1.0  1962.0   1.0  1.0  192.0  855.0   1.0  금속기계 부품 조립원\n",
       "4  2.0  1963.0   1.0  1.0    NaN    NaN   1.0          NaN"
      ]
     },
     "execution_count": 590,
     "metadata": {},
     "output_type": "execute_result"
    }
   ],
   "source": [
    "ex_seven=pj_merage.copy()\n",
    "ex_seven.head()   "
   ]
  },
  {
   "cell_type": "code",
   "execution_count": 592,
   "id": "ae96cd38-f490-499b-9014-f05a343c36fc",
   "metadata": {},
   "outputs": [
    {
     "name": "stdout",
     "output_type": "stream",
     "text": [
      "<class 'pandas.core.frame.DataFrame'>\n",
      "RangeIndex: 14418 entries, 0 to 14417\n",
      "Data columns (total 8 columns):\n",
      " #   Column  Non-Null Count  Dtype  \n",
      "---  ------  --------------  -----  \n",
      " 0   성별      14418 non-null  float64\n",
      " 1   태어난연도   14418 non-null  float64\n",
      " 2   혼인상태    14418 non-null  float64\n",
      " 3   종교      14418 non-null  float64\n",
      " 4   월급      4534 non-null   float64\n",
      " 5   직업코드    6878 non-null   float64\n",
      " 6   지역코드    14418 non-null  float64\n",
      " 7   직무내용    6878 non-null   object \n",
      "dtypes: float64(7), object(1)\n",
      "memory usage: 901.3+ KB\n"
     ]
    }
   ],
   "source": [
    "ex_seven.info()"
   ]
  },
  {
   "cell_type": "markdown",
   "id": "d7c056db-b0c7-42aa-9e4a-df76e4c3c884",
   "metadata": {},
   "source": [
    "### 종교 변수 검토 및 전처리\n",
    "* 종교변수 전처리 - 종교 있음(1), 없음(2), 모름/무응답(9)"
   ]
  },
  {
   "cell_type": "code",
   "execution_count": 594,
   "id": "94283742-3ed5-4d17-a6da-b1388a99a7a0",
   "metadata": {},
   "outputs": [
    {
     "data": {
      "text/plain": [
       "종교\n",
       "2.0    7815\n",
       "1.0    6603\n",
       "Name: count, dtype: int64"
      ]
     },
     "execution_count": 594,
     "metadata": {},
     "output_type": "execute_result"
    }
   ],
   "source": [
    "ex_seven['종교'].value_counts()    # 종교 있음(1), 없음(2), 모름/무응답(9)"
   ]
  },
  {
   "cell_type": "code",
   "execution_count": 596,
   "id": "e5f09fa9-44cd-47a6-8154-cd58ce317921",
   "metadata": {},
   "outputs": [
    {
     "data": {
      "text/plain": [
       "종교유무\n",
       "무    7815\n",
       "유    6603\n",
       "Name: count, dtype: int64"
      ]
     },
     "execution_count": 596,
     "metadata": {},
     "output_type": "execute_result"
    }
   ],
   "source": [
    "ex_seven['종교유무']=np.where(ex_seven['종교']==1, '유', '무')\n",
    "# ex_seven['종교유무']=np.where(ex_seven['종교']==1, '유', \n",
    "#                             np.where(ex_seven['종교']==2, '무', '없음'))\n",
    "ex_seven['종교유무'].value_counts()"
   ]
  },
  {
   "cell_type": "code",
   "execution_count": 22,
   "id": "b7d4d21c-1c8e-40f9-afc1-6418feb2410f",
   "metadata": {},
   "outputs": [
    {
     "data": {
      "text/plain": [
       "<Axes: xlabel='종교유무', ylabel='count'>"
      ]
     },
     "execution_count": 22,
     "metadata": {},
     "output_type": "execute_result"
    },
    {
     "data": {
      "image/png": "[encoded data removed]",
      "text/plain": [
       "<Figure size 640x480 with 1 Axes>"
      ]
     },
     "metadata": {},
     "output_type": "display_data"
    }
   ],
   "source": [
    "sns.countplot(data=ex_seven, x='종교유무')"
   ]
  },
  {
   "cell_type": "markdown",
   "id": "b6a9c566-043c-44a6-b966-38f47c90f790",
   "metadata": {},
   "source": [
    "### 혼인 상태 변수 검토 및 전처리\n",
    "* 코드북 확인 : 0 ~ 6 존재\n",
    "* 파생변수 만들기 - 유배우(1), 이혼(3), 그외 기타(사별, 별거, 미혼, 18세 미만, 기타)"
   ]
  },
  {
   "cell_type": "code",
   "execution_count": 598,
   "id": "bd627c41-ef0d-4ca7-bdaa-ef9debafdf82",
   "metadata": {},
   "outputs": [
    {
     "data": {
      "text/plain": [
       "혼인상태\n",
       "1.0    7190\n",
       "5.0    2357\n",
       "0.0    2121\n",
       "2.0    1954\n",
       "3.0     689\n",
       "4.0      78\n",
       "6.0      29\n",
       "Name: count, dtype: int64"
      ]
     },
     "execution_count": 598,
     "metadata": {},
     "output_type": "execute_result"
    }
   ],
   "source": [
    "ex_seven['혼인상태'].value_counts()"
   ]
  },
  {
   "cell_type": "code",
   "execution_count": 600,
   "id": "25764811-d29e-4265-85b8-bf9b997f5945",
   "metadata": {},
   "outputs": [
    {
     "data": {
      "text/plain": [
       "혼인타입\n",
       "유배우    7190\n",
       "기타     6539\n",
       "이혼      689\n",
       "Name: count, dtype: int64"
      ]
     },
     "execution_count": 600,
     "metadata": {},
     "output_type": "execute_result"
    }
   ],
   "source": [
    "# 코드북 확인 : 0 ~ 6 존재\n",
    "# 파생변수 만들기 - 유배우(1), 이혼(3), 그외 기타(사별, 별거, 미혼, 18세 미만, 기타)\n",
    "\n",
    "ex_seven['혼인타입']=np.where(ex_seven['혼인상태']==1, '유배우',\n",
    "                              np.where(ex_seven['혼인상태']==3, '이혼', '기타'))\n",
    "ex_seven['혼인타입'].value_counts()"
   ]
  },
  {
   "cell_type": "code",
   "execution_count": 602,
   "id": "4896ad24-4da2-487d-ab95-6415d87cc6c6",
   "metadata": {},
   "outputs": [
    {
     "data": {
      "text/plain": [
       "혼인타입\n",
       "유배우    7190\n",
       "이혼      689\n",
       "Name: count, dtype: int64"
      ]
     },
     "execution_count": 602,
     "metadata": {},
     "output_type": "execute_result"
    }
   ],
   "source": [
    "rel_df=ex_seven[ex_seven['혼인타입'] !='기타']\n",
    "rel_df.shape     # (3098, 11)\n",
    "\n",
    "rel_df['혼인타입'].value_counts()"
   ]
  },
  {
   "cell_type": "code",
   "execution_count": 604,
   "id": "e4820ccf-998e-4a9f-8339-0bcd04af76e4",
   "metadata": {},
   "outputs": [
    {
     "data": {
      "text/plain": [
       "<Axes: xlabel='혼인타입', ylabel='count'>"
      ]
     },
     "execution_count": 604,
     "metadata": {},
     "output_type": "execute_result"
    },
    {
     "data": {
      "image/png": "[encoded data removed]",
      "text/plain": [
       "<Figure size 640x480 with 1 Axes>"
      ]
     },
     "metadata": {},
     "output_type": "display_data"
    }
   ],
   "source": [
    "sns.countplot(data=rel_df, x='혼인타입')"
   ]
  },
  {
   "cell_type": "markdown",
   "id": "03d338b9-16df-4f53-b838-d67071499ef1",
   "metadata": {},
   "source": [
    "### 분석 결과\n",
    "* 종교 유무에 따른 이혼율 - 종교가 있으면 이혼을 덜 할까?\n",
    "  - 시각화\n",
    "  - 데이터 요약표 - 남/녀 직업별 빈도수"
   ]
  },
  {
   "cell_type": "code",
   "execution_count": 607,
   "id": "bc30d186-76e3-41d9-a9e9-d57850777f8e",
   "metadata": {},
   "outputs": [
    {
     "data": {
      "text/plain": [
       "<Axes: xlabel='혼인타입', ylabel='count'>"
      ]
     },
     "execution_count": 607,
     "metadata": {},
     "output_type": "execute_result"
    },
    {
     "data": {
      "image/png": "[encoded data removed]",
      "text/plain": [
       "<Figure size 640x480 with 1 Axes>"
      ]
     },
     "metadata": {},
     "output_type": "display_data"
    }
   ],
   "source": [
    "sns.countplot(data=rel_df, x='혼인타입', hue='종교유무')"
   ]
  },
  {
   "cell_type": "code",
   "execution_count": 609,
   "id": "b61f8813-ee77-470a-a967-db451ff97b67",
   "metadata": {},
   "outputs": [
    {
     "data": {
      "text/html": [
       "<div>\n",
       "<style scoped>\n",
       "    .dataframe tbody tr th:only-of-type {\n",
       "        vertical-align: middle;\n",
       "    }\n",
       "\n",
       "    .dataframe tbody tr th {\n",
       "        vertical-align: top;\n",
       "    }\n",
       "\n",
       "    .dataframe thead th {\n",
       "        text-align: right;\n",
       "    }\n",
       "</style>\n",
       "<table border=\"1\" class=\"dataframe\">\n",
       "  <thead>\n",
       "    <tr style=\"text-align: right;\">\n",
       "      <th></th>\n",
       "      <th>종교유무</th>\n",
       "      <th>혼인타입</th>\n",
       "      <th>인원수</th>\n",
       "      <th>인원수 백분율</th>\n",
       "    </tr>\n",
       "  </thead>\n",
       "  <tbody>\n",
       "    <tr>\n",
       "      <th>0</th>\n",
       "      <td>무</td>\n",
       "      <td>유배우</td>\n",
       "      <td>3660</td>\n",
       "      <td>46.5</td>\n",
       "    </tr>\n",
       "    <tr>\n",
       "      <th>1</th>\n",
       "      <td>무</td>\n",
       "      <td>이혼</td>\n",
       "      <td>384</td>\n",
       "      <td>4.9</td>\n",
       "    </tr>\n",
       "    <tr>\n",
       "      <th>2</th>\n",
       "      <td>유</td>\n",
       "      <td>유배우</td>\n",
       "      <td>3530</td>\n",
       "      <td>44.8</td>\n",
       "    </tr>\n",
       "    <tr>\n",
       "      <th>3</th>\n",
       "      <td>유</td>\n",
       "      <td>이혼</td>\n",
       "      <td>305</td>\n",
       "      <td>3.9</td>\n",
       "    </tr>\n",
       "  </tbody>\n",
       "</table>\n",
       "</div>"
      ],
      "text/plain": [
       "  종교유무 혼인타입   인원수  인원수 백분율\n",
       "0    무  유배우  3660     46.5\n",
       "1    무   이혼   384      4.9\n",
       "2    유  유배우  3530     44.8\n",
       "3    유   이혼   305      3.9"
      ]
     },
     "execution_count": 609,
     "metadata": {},
     "output_type": "execute_result"
    }
   ],
   "source": [
    "# 데이터 요약표 - 종교별 그룹화 후 혼인타입으로 비율 구하기\n",
    "result=rel_df.groupby(['종교유무', '혼인타입'])['혼인타입'].count().reset_index(name=\"인원수\")\n",
    "result['인원수 백분율']=round(result['인원수'] /  result['인원수'].sum() * 100, 1)\n",
    "result"
   ]
  },
  {
   "cell_type": "code",
   "execution_count": 611,
   "id": "3f98724e-0fc3-484c-9ec9-9ff72f47c952",
   "metadata": {},
   "outputs": [
    {
     "data": {
      "text/html": [
       "<div>\n",
       "<style scoped>\n",
       "    .dataframe tbody tr th:only-of-type {\n",
       "        vertical-align: middle;\n",
       "    }\n",
       "\n",
       "    .dataframe tbody tr th {\n",
       "        vertical-align: top;\n",
       "    }\n",
       "\n",
       "    .dataframe thead th {\n",
       "        text-align: right;\n",
       "    }\n",
       "</style>\n",
       "<table border=\"1\" class=\"dataframe\">\n",
       "  <thead>\n",
       "    <tr style=\"text-align: right;\">\n",
       "      <th></th>\n",
       "      <th>종교유무</th>\n",
       "      <th>혼인타입</th>\n",
       "      <th>인원수</th>\n",
       "      <th>인원수 백분율</th>\n",
       "    </tr>\n",
       "  </thead>\n",
       "  <tbody>\n",
       "    <tr>\n",
       "      <th>1</th>\n",
       "      <td>무</td>\n",
       "      <td>이혼</td>\n",
       "      <td>384</td>\n",
       "      <td>4.9</td>\n",
       "    </tr>\n",
       "    <tr>\n",
       "      <th>3</th>\n",
       "      <td>유</td>\n",
       "      <td>이혼</td>\n",
       "      <td>305</td>\n",
       "      <td>3.9</td>\n",
       "    </tr>\n",
       "  </tbody>\n",
       "</table>\n",
       "</div>"
      ],
      "text/plain": [
       "  종교유무 혼인타입  인원수  인원수 백분율\n",
       "1    무   이혼  384      4.9\n",
       "3    유   이혼  305      3.9"
      ]
     },
     "execution_count": 611,
     "metadata": {},
     "output_type": "execute_result"
    }
   ],
   "source": [
    "result[result['혼인타입'] =='이혼']"
   ]
  },
  {
   "cell_type": "markdown",
   "id": "5d4a1515-d93a-4645-955d-3609e5e3ecba",
   "metadata": {},
   "source": [
    "### 통계적 가설 검정\n",
    "* 종교 유무에 따른 이혼율 - 종교가 있으면 이혼을 덜 할까? (종교와 이혼율의 연관성이 있을까?)\n",
    "* 종교와 이혼율의 관계 있을까?\n",
    "    * 다변수: X문자형 / Y문자형\n",
    "    * Chi^2 Test\n",
    "* 가설: 연관성이 없다(독립) / 연관성이 있다."
   ]
  },
  {
   "cell_type": "code",
   "execution_count": 614,
   "id": "8aa38cb6-a95b-4f7c-a649-e67d1d625db9",
   "metadata": {},
   "outputs": [
    {
     "data": {
      "text/html": [
       "<div>\n",
       "<style scoped>\n",
       "    .dataframe tbody tr th:only-of-type {\n",
       "        vertical-align: middle;\n",
       "    }\n",
       "\n",
       "    .dataframe tbody tr th {\n",
       "        vertical-align: top;\n",
       "    }\n",
       "\n",
       "    .dataframe thead th {\n",
       "        text-align: right;\n",
       "    }\n",
       "</style>\n",
       "<table border=\"1\" class=\"dataframe\">\n",
       "  <thead>\n",
       "    <tr style=\"text-align: right;\">\n",
       "      <th>종교유무</th>\n",
       "      <th>무</th>\n",
       "      <th>유</th>\n",
       "    </tr>\n",
       "    <tr>\n",
       "      <th>혼인타입</th>\n",
       "      <th></th>\n",
       "      <th></th>\n",
       "    </tr>\n",
       "  </thead>\n",
       "  <tbody>\n",
       "    <tr>\n",
       "      <th>유배우</th>\n",
       "      <td>3660</td>\n",
       "      <td>3530</td>\n",
       "    </tr>\n",
       "    <tr>\n",
       "      <th>이혼</th>\n",
       "      <td>384</td>\n",
       "      <td>305</td>\n",
       "    </tr>\n",
       "  </tbody>\n",
       "</table>\n",
       "</div>"
      ],
      "text/plain": [
       "종교유무     무     유\n",
       "혼인타입            \n",
       "유배우   3660  3530\n",
       "이혼     384   305"
      ]
     },
     "execution_count": 614,
     "metadata": {},
     "output_type": "execute_result"
    }
   ],
   "source": [
    "# Contingency Table : 범주형 데이터의 항목 빈도수 테이블\n",
    "ex_seven_crosstab=pd.crosstab(rel_df['혼인타입'], rel_df['종교유무'])\n",
    "ex_seven_crosstab"
   ]
  },
  {
   "cell_type": "code",
   "execution_count": 616,
   "id": "831fcd3d-c80a-4e7d-9e97-bfae40005cd2",
   "metadata": {},
   "outputs": [
    {
     "data": {
      "text/plain": [
       "Chi2ContingencyResult(statistic=5.6769927793878825, pvalue=0.01718880447200066, dof=1, expected_freq=array([[3690.36172103, 3499.63827897],\n",
       "       [ 353.63827897,  335.36172103]]))"
      ]
     },
     "execution_count": 616,
     "metadata": {},
     "output_type": "execute_result"
    }
   ],
   "source": [
    "stats.chi2_contingency(ex_seven_crosstab)\n",
    "\n",
    "# 대림가설 참, 귀무가설 기각, 종교와 이혼율은 연관성이 있다"
   ]
  },
  {
   "cell_type": "markdown",
   "id": "c898f1d3-5bf1-4b8c-9ab5-96e57c17ba13",
   "metadata": {},
   "source": [
    "## 지역별 연령대 비율 - 어느 지역에 노년층이 많을까?\n",
    "### 연령대 변수 검토 및 전처리"
   ]
  },
  {
   "cell_type": "code",
   "execution_count": 618,
   "id": "fbe0c86f-07c1-4642-8ae0-e6f813a872e5",
   "metadata": {},
   "outputs": [
    {
     "data": {
      "text/html": [
       "<div>\n",
       "<style scoped>\n",
       "    .dataframe tbody tr th:only-of-type {\n",
       "        vertical-align: middle;\n",
       "    }\n",
       "\n",
       "    .dataframe tbody tr th {\n",
       "        vertical-align: top;\n",
       "    }\n",
       "\n",
       "    .dataframe thead th {\n",
       "        text-align: right;\n",
       "    }\n",
       "</style>\n",
       "<table border=\"1\" class=\"dataframe\">\n",
       "  <thead>\n",
       "    <tr style=\"text-align: right;\">\n",
       "      <th></th>\n",
       "      <th>성별</th>\n",
       "      <th>태어난연도</th>\n",
       "      <th>혼인상태</th>\n",
       "      <th>종교</th>\n",
       "      <th>월급</th>\n",
       "      <th>직업코드</th>\n",
       "      <th>지역코드</th>\n",
       "      <th>직무내용</th>\n",
       "      <th>종교유무</th>\n",
       "      <th>혼인타입</th>\n",
       "    </tr>\n",
       "  </thead>\n",
       "  <tbody>\n",
       "    <tr>\n",
       "      <th>0</th>\n",
       "      <td>2.0</td>\n",
       "      <td>1945.0</td>\n",
       "      <td>2.0</td>\n",
       "      <td>1.0</td>\n",
       "      <td>NaN</td>\n",
       "      <td>NaN</td>\n",
       "      <td>1.0</td>\n",
       "      <td>NaN</td>\n",
       "      <td>유</td>\n",
       "      <td>기타</td>\n",
       "    </tr>\n",
       "    <tr>\n",
       "      <th>1</th>\n",
       "      <td>1.0</td>\n",
       "      <td>1948.0</td>\n",
       "      <td>2.0</td>\n",
       "      <td>2.0</td>\n",
       "      <td>NaN</td>\n",
       "      <td>NaN</td>\n",
       "      <td>1.0</td>\n",
       "      <td>NaN</td>\n",
       "      <td>무</td>\n",
       "      <td>기타</td>\n",
       "    </tr>\n",
       "    <tr>\n",
       "      <th>2</th>\n",
       "      <td>1.0</td>\n",
       "      <td>1942.0</td>\n",
       "      <td>3.0</td>\n",
       "      <td>1.0</td>\n",
       "      <td>107.0</td>\n",
       "      <td>762.0</td>\n",
       "      <td>1.0</td>\n",
       "      <td>전기공</td>\n",
       "      <td>유</td>\n",
       "      <td>이혼</td>\n",
       "    </tr>\n",
       "    <tr>\n",
       "      <th>3</th>\n",
       "      <td>1.0</td>\n",
       "      <td>1962.0</td>\n",
       "      <td>1.0</td>\n",
       "      <td>1.0</td>\n",
       "      <td>192.0</td>\n",
       "      <td>855.0</td>\n",
       "      <td>1.0</td>\n",
       "      <td>금속기계 부품 조립원</td>\n",
       "      <td>유</td>\n",
       "      <td>유배우</td>\n",
       "    </tr>\n",
       "    <tr>\n",
       "      <th>4</th>\n",
       "      <td>2.0</td>\n",
       "      <td>1963.0</td>\n",
       "      <td>1.0</td>\n",
       "      <td>1.0</td>\n",
       "      <td>NaN</td>\n",
       "      <td>NaN</td>\n",
       "      <td>1.0</td>\n",
       "      <td>NaN</td>\n",
       "      <td>유</td>\n",
       "      <td>유배우</td>\n",
       "    </tr>\n",
       "  </tbody>\n",
       "</table>\n",
       "</div>"
      ],
      "text/plain": [
       "    성별   태어난연도  혼인상태   종교     월급   직업코드  지역코드         직무내용 종교유무 혼인타입\n",
       "0  2.0  1945.0   2.0  1.0    NaN    NaN   1.0          NaN    유   기타\n",
       "1  1.0  1948.0   2.0  2.0    NaN    NaN   1.0          NaN    무   기타\n",
       "2  1.0  1942.0   3.0  1.0  107.0  762.0   1.0          전기공    유   이혼\n",
       "3  1.0  1962.0   1.0  1.0  192.0  855.0   1.0  금속기계 부품 조립원    유  유배우\n",
       "4  2.0  1963.0   1.0  1.0    NaN    NaN   1.0          NaN    유  유배우"
      ]
     },
     "execution_count": 618,
     "metadata": {},
     "output_type": "execute_result"
    }
   ],
   "source": [
    "ex_eight=ex_seven.copy()\n",
    "ex_eight.head()"
   ]
  },
  {
   "cell_type": "code",
   "execution_count": 620,
   "id": "5203c155-f682-4820-af13-db592e554a66",
   "metadata": {},
   "outputs": [
    {
     "data": {
      "text/plain": [
       "연령대\n",
       "노년층    5955\n",
       "중년층    4963\n",
       "초년층    3500\n",
       "Name: count, dtype: int64"
      ]
     },
     "execution_count": 620,
     "metadata": {},
     "output_type": "execute_result"
    }
   ],
   "source": [
    "# 파생변수 만들기 - 나이\n",
    "ex_eight['나이']=2019-ex_eight['태어난연도']+1\n",
    "\n",
    "# 연령대 변수 만들기\n",
    "ex_eight['연령대']=np.where(ex_eight['나이'] < 30, '초년층', \n",
    "                         np.where(ex_eight['나이'] <=59, '중년층', '노년층'))\n",
    "ex_eight['연령대'].value_counts().sort_index()"
   ]
  },
  {
   "cell_type": "code",
   "execution_count": 622,
   "id": "92072159-d6c3-4eef-80a8-0d1e9f03630a",
   "metadata": {},
   "outputs": [
    {
     "data": {
      "text/html": [
       "<div>\n",
       "<style scoped>\n",
       "    .dataframe tbody tr th:only-of-type {\n",
       "        vertical-align: middle;\n",
       "    }\n",
       "\n",
       "    .dataframe tbody tr th {\n",
       "        vertical-align: top;\n",
       "    }\n",
       "\n",
       "    .dataframe thead th {\n",
       "        text-align: right;\n",
       "    }\n",
       "</style>\n",
       "<table border=\"1\" class=\"dataframe\">\n",
       "  <thead>\n",
       "    <tr style=\"text-align: right;\">\n",
       "      <th></th>\n",
       "      <th>성별</th>\n",
       "      <th>태어난연도</th>\n",
       "      <th>혼인상태</th>\n",
       "      <th>종교</th>\n",
       "      <th>월급</th>\n",
       "      <th>직업코드</th>\n",
       "      <th>지역코드</th>\n",
       "      <th>직무내용</th>\n",
       "      <th>종교유무</th>\n",
       "      <th>혼인타입</th>\n",
       "      <th>나이</th>\n",
       "      <th>연령대</th>\n",
       "    </tr>\n",
       "  </thead>\n",
       "  <tbody>\n",
       "    <tr>\n",
       "      <th>0</th>\n",
       "      <td>2.0</td>\n",
       "      <td>1945.0</td>\n",
       "      <td>2.0</td>\n",
       "      <td>1.0</td>\n",
       "      <td>NaN</td>\n",
       "      <td>NaN</td>\n",
       "      <td>1.0</td>\n",
       "      <td>NaN</td>\n",
       "      <td>유</td>\n",
       "      <td>기타</td>\n",
       "      <td>75.0</td>\n",
       "      <td>노년층</td>\n",
       "    </tr>\n",
       "    <tr>\n",
       "      <th>1</th>\n",
       "      <td>1.0</td>\n",
       "      <td>1948.0</td>\n",
       "      <td>2.0</td>\n",
       "      <td>2.0</td>\n",
       "      <td>NaN</td>\n",
       "      <td>NaN</td>\n",
       "      <td>1.0</td>\n",
       "      <td>NaN</td>\n",
       "      <td>무</td>\n",
       "      <td>기타</td>\n",
       "      <td>72.0</td>\n",
       "      <td>노년층</td>\n",
       "    </tr>\n",
       "    <tr>\n",
       "      <th>2</th>\n",
       "      <td>1.0</td>\n",
       "      <td>1942.0</td>\n",
       "      <td>3.0</td>\n",
       "      <td>1.0</td>\n",
       "      <td>107.0</td>\n",
       "      <td>762.0</td>\n",
       "      <td>1.0</td>\n",
       "      <td>전기공</td>\n",
       "      <td>유</td>\n",
       "      <td>이혼</td>\n",
       "      <td>78.0</td>\n",
       "      <td>노년층</td>\n",
       "    </tr>\n",
       "  </tbody>\n",
       "</table>\n",
       "</div>"
      ],
      "text/plain": [
       "    성별   태어난연도  혼인상태   종교     월급   직업코드  지역코드 직무내용 종교유무 혼인타입    나이  연령대\n",
       "0  2.0  1945.0   2.0  1.0    NaN    NaN   1.0  NaN    유   기타  75.0  노년층\n",
       "1  1.0  1948.0   2.0  2.0    NaN    NaN   1.0  NaN    무   기타  72.0  노년층\n",
       "2  1.0  1942.0   3.0  1.0  107.0  762.0   1.0  전기공    유   이혼  78.0  노년층"
      ]
     },
     "execution_count": 622,
     "metadata": {},
     "output_type": "execute_result"
    }
   ],
   "source": [
    "ex_eight.head(3)"
   ]
  },
  {
   "cell_type": "markdown",
   "id": "eb223c9c-c0f0-4fb4-b22a-c8ce316a7e5d",
   "metadata": {},
   "source": [
    "### 지역 변수 검토 및 전처리"
   ]
  },
  {
   "cell_type": "code",
   "execution_count": 624,
   "id": "b71e09a2-6cf6-4b6b-8e9a-623e4ffadebf",
   "metadata": {},
   "outputs": [
    {
     "data": {
      "text/plain": [
       "지역코드\n",
       "2.0    3246\n",
       "7.0    2466\n",
       "3.0    2448\n",
       "1.0    2002\n",
       "4.0    1728\n",
       "5.0    1391\n",
       "6.0    1137\n",
       "Name: count, dtype: int64"
      ]
     },
     "execution_count": 624,
     "metadata": {},
     "output_type": "execute_result"
    }
   ],
   "source": [
    "ex_eight['지역코드'].value_counts()"
   ]
  },
  {
   "cell_type": "markdown",
   "id": "6e5d2383-a265-409c-b6e6-4bf2b7b7307a",
   "metadata": {},
   "source": [
    "#### 지역 코드 목록 만들기"
   ]
  },
  {
   "cell_type": "code",
   "execution_count": 627,
   "id": "92878c1d-f0a9-4913-b3b1-635ebb3985be",
   "metadata": {},
   "outputs": [
    {
     "data": {
      "text/html": [
       "<div>\n",
       "<style scoped>\n",
       "    .dataframe tbody tr th:only-of-type {\n",
       "        vertical-align: middle;\n",
       "    }\n",
       "\n",
       "    .dataframe tbody tr th {\n",
       "        vertical-align: top;\n",
       "    }\n",
       "\n",
       "    .dataframe thead th {\n",
       "        text-align: right;\n",
       "    }\n",
       "</style>\n",
       "<table border=\"1\" class=\"dataframe\">\n",
       "  <thead>\n",
       "    <tr style=\"text-align: right;\">\n",
       "      <th></th>\n",
       "      <th>지역코드</th>\n",
       "      <th>지역</th>\n",
       "    </tr>\n",
       "  </thead>\n",
       "  <tbody>\n",
       "    <tr>\n",
       "      <th>0</th>\n",
       "      <td>1</td>\n",
       "      <td>서울</td>\n",
       "    </tr>\n",
       "    <tr>\n",
       "      <th>1</th>\n",
       "      <td>2</td>\n",
       "      <td>수도권(인천/경기)</td>\n",
       "    </tr>\n",
       "    <tr>\n",
       "      <th>2</th>\n",
       "      <td>3</td>\n",
       "      <td>부산/경남/울산</td>\n",
       "    </tr>\n",
       "    <tr>\n",
       "      <th>3</th>\n",
       "      <td>4</td>\n",
       "      <td>대구/경북</td>\n",
       "    </tr>\n",
       "    <tr>\n",
       "      <th>4</th>\n",
       "      <td>5</td>\n",
       "      <td>대전/충남</td>\n",
       "    </tr>\n",
       "    <tr>\n",
       "      <th>5</th>\n",
       "      <td>6</td>\n",
       "      <td>강원/충북</td>\n",
       "    </tr>\n",
       "    <tr>\n",
       "      <th>6</th>\n",
       "      <td>7</td>\n",
       "      <td>광주/전남/전북/제주</td>\n",
       "    </tr>\n",
       "  </tbody>\n",
       "</table>\n",
       "</div>"
      ],
      "text/plain": [
       "   지역코드           지역\n",
       "0     1           서울\n",
       "1     2   수도권(인천/경기)\n",
       "2     3     부산/경남/울산\n",
       "3     4        대구/경북\n",
       "4     5        대전/충남\n",
       "5     6        강원/충북\n",
       "6     7  광주/전남/전북/제주"
      ]
     },
     "execution_count": 627,
     "metadata": {},
     "output_type": "execute_result"
    }
   ],
   "source": [
    "# 지역 코드 목록 만들기  리전\n",
    "list_region=pd.DataFrame({'지역코드':[1, 2, 3, 4, 5, 6, 7],\n",
    "                           '지역':['서울',\n",
    "                                   '수도권(인천/경기)',\n",
    "                                   '부산/경남/울산',\n",
    "                                   '대구/경북',\n",
    "                                   '대전/충남',\n",
    "                                   '강원/충북',\n",
    "                                   '광주/전남/전북/제주']})\n",
    "list_region"
   ]
  },
  {
   "cell_type": "markdown",
   "id": "ae923861-9c55-447a-858c-ca7b4cb25bcf",
   "metadata": {},
   "source": [
    "#### 병합 - 지역코드, 지역명 "
   ]
  },
  {
   "cell_type": "code",
   "execution_count": 629,
   "id": "eb996914-e097-4703-ab1f-1fda84f3be31",
   "metadata": {},
   "outputs": [
    {
     "data": {
      "text/html": [
       "<div>\n",
       "<style scoped>\n",
       "    .dataframe tbody tr th:only-of-type {\n",
       "        vertical-align: middle;\n",
       "    }\n",
       "\n",
       "    .dataframe tbody tr th {\n",
       "        vertical-align: top;\n",
       "    }\n",
       "\n",
       "    .dataframe thead th {\n",
       "        text-align: right;\n",
       "    }\n",
       "</style>\n",
       "<table border=\"1\" class=\"dataframe\">\n",
       "  <thead>\n",
       "    <tr style=\"text-align: right;\">\n",
       "      <th></th>\n",
       "      <th>성별</th>\n",
       "      <th>태어난연도</th>\n",
       "      <th>혼인상태</th>\n",
       "      <th>종교</th>\n",
       "      <th>월급</th>\n",
       "      <th>직업코드</th>\n",
       "      <th>지역코드</th>\n",
       "      <th>직무내용</th>\n",
       "      <th>종교유무</th>\n",
       "      <th>혼인타입</th>\n",
       "      <th>나이</th>\n",
       "      <th>연령대</th>\n",
       "      <th>지역</th>\n",
       "    </tr>\n",
       "  </thead>\n",
       "  <tbody>\n",
       "    <tr>\n",
       "      <th>0</th>\n",
       "      <td>2.0</td>\n",
       "      <td>1945.0</td>\n",
       "      <td>2.0</td>\n",
       "      <td>1.0</td>\n",
       "      <td>NaN</td>\n",
       "      <td>NaN</td>\n",
       "      <td>1.0</td>\n",
       "      <td>NaN</td>\n",
       "      <td>유</td>\n",
       "      <td>기타</td>\n",
       "      <td>75.0</td>\n",
       "      <td>노년층</td>\n",
       "      <td>서울</td>\n",
       "    </tr>\n",
       "    <tr>\n",
       "      <th>1</th>\n",
       "      <td>1.0</td>\n",
       "      <td>1948.0</td>\n",
       "      <td>2.0</td>\n",
       "      <td>2.0</td>\n",
       "      <td>NaN</td>\n",
       "      <td>NaN</td>\n",
       "      <td>1.0</td>\n",
       "      <td>NaN</td>\n",
       "      <td>무</td>\n",
       "      <td>기타</td>\n",
       "      <td>72.0</td>\n",
       "      <td>노년층</td>\n",
       "      <td>서울</td>\n",
       "    </tr>\n",
       "    <tr>\n",
       "      <th>2</th>\n",
       "      <td>1.0</td>\n",
       "      <td>1942.0</td>\n",
       "      <td>3.0</td>\n",
       "      <td>1.0</td>\n",
       "      <td>107.0</td>\n",
       "      <td>762.0</td>\n",
       "      <td>1.0</td>\n",
       "      <td>전기공</td>\n",
       "      <td>유</td>\n",
       "      <td>이혼</td>\n",
       "      <td>78.0</td>\n",
       "      <td>노년층</td>\n",
       "      <td>서울</td>\n",
       "    </tr>\n",
       "  </tbody>\n",
       "</table>\n",
       "</div>"
      ],
      "text/plain": [
       "    성별   태어난연도  혼인상태   종교     월급   직업코드  지역코드 직무내용 종교유무 혼인타입    나이  연령대  지역\n",
       "0  2.0  1945.0   2.0  1.0    NaN    NaN   1.0  NaN    유   기타  75.0  노년층  서울\n",
       "1  1.0  1948.0   2.0  2.0    NaN    NaN   1.0  NaN    무   기타  72.0  노년층  서울\n",
       "2  1.0  1942.0   3.0  1.0  107.0  762.0   1.0  전기공    유   이혼  78.0  노년층  서울"
      ]
     },
     "execution_count": 629,
     "metadata": {},
     "output_type": "execute_result"
    }
   ],
   "source": [
    "#  병합 : 지역명 변수 추가\n",
    "ex_eight_merge=ex_eight.merge(list_region, on='지역코드', how='left')\n",
    "ex_eight_merge.head(3)"
   ]
  },
  {
   "cell_type": "markdown",
   "id": "071f3cd7-5472-4061-9230-95c54cb16a5f",
   "metadata": {},
   "source": [
    "### 분석 \n",
    "* 지역별 연령대 비율 - 어느 지역에 노년층이 많을까?\n",
    "  - 시각화\n",
    "  - 데이터 요약표 - 지역별 연령대 비율"
   ]
  },
  {
   "cell_type": "code",
   "execution_count": 632,
   "id": "b3494dd6-e8d1-49cf-9662-361290f4f1fb",
   "metadata": {},
   "outputs": [
    {
     "data": {
      "text/plain": [
       "<Axes: xlabel='count', ylabel='지역'>"
      ]
     },
     "execution_count": 632,
     "metadata": {},
     "output_type": "execute_result"
    },
    {
     "data": {
      "image/png": "[encoded data removed]",
      "text/plain": [
       "<Figure size 1000x800 with 1 Axes>"
      ]
     },
     "metadata": {},
     "output_type": "display_data"
    }
   ],
   "source": [
    "plt.figure(figsize=(10, 8))\n",
    "sns.countplot(data=ex_eight_merge, y='지역', hue='연령대')"
   ]
  },
  {
   "cell_type": "code",
   "execution_count": 634,
   "id": "5f969714-5651-4702-8f98-7383c53addd5",
   "metadata": {},
   "outputs": [],
   "source": [
    "result=ex_eight_merge.groupby('지역')['연령대'].value_counts(normalize=True).reset_index(name=\"인원수\")\n",
    "result['인원수_백분율']=round(result['인원수'] * 100, 1)\n",
    "# result\n",
    "\n",
    "# groupby('지역'): 지역별로 데이터를 그룹화.\n",
    "# value_counts(normalize=True): 각 그룹 내에서 연령대 값의 비율을 계산.\n",
    "# reset_index(name=\"인원수\"): 그룹화된 결과를 원래의 데이터프레임 형태로 되돌리고, 새로운 컬럼 이름을 \"인원수\"로 지정."
   ]
  },
  {
   "cell_type": "code",
   "execution_count": 638,
   "id": "16386ab0-aa5e-4595-b000-ee360c187a45",
   "metadata": {},
   "outputs": [
    {
     "data": {
      "text/html": [
       "<div>\n",
       "<style scoped>\n",
       "    .dataframe tbody tr th:only-of-type {\n",
       "        vertical-align: middle;\n",
       "    }\n",
       "\n",
       "    .dataframe tbody tr th {\n",
       "        vertical-align: top;\n",
       "    }\n",
       "\n",
       "    .dataframe thead th {\n",
       "        text-align: right;\n",
       "    }\n",
       "</style>\n",
       "<table border=\"1\" class=\"dataframe\">\n",
       "  <thead>\n",
       "    <tr style=\"text-align: right;\">\n",
       "      <th>연령대</th>\n",
       "      <th>노년층</th>\n",
       "      <th>중년층</th>\n",
       "      <th>초년층</th>\n",
       "    </tr>\n",
       "    <tr>\n",
       "      <th>지역</th>\n",
       "      <th></th>\n",
       "      <th></th>\n",
       "      <th></th>\n",
       "    </tr>\n",
       "  </thead>\n",
       "  <tbody>\n",
       "    <tr>\n",
       "      <th>강원/충북</th>\n",
       "      <td>45.9</td>\n",
       "      <td>30.9</td>\n",
       "      <td>23.2</td>\n",
       "    </tr>\n",
       "    <tr>\n",
       "      <th>광주/전남/전북/제주</th>\n",
       "      <td>44.9</td>\n",
       "      <td>31.8</td>\n",
       "      <td>23.3</td>\n",
       "    </tr>\n",
       "    <tr>\n",
       "      <th>대구/경북</th>\n",
       "      <td>50.4</td>\n",
       "      <td>29.6</td>\n",
       "      <td>20.0</td>\n",
       "    </tr>\n",
       "    <tr>\n",
       "      <th>대전/충남</th>\n",
       "      <td>41.3</td>\n",
       "      <td>33.6</td>\n",
       "      <td>25.0</td>\n",
       "    </tr>\n",
       "    <tr>\n",
       "      <th>부산/경남/울산</th>\n",
       "      <td>43.8</td>\n",
       "      <td>33.4</td>\n",
       "      <td>22.9</td>\n",
       "    </tr>\n",
       "    <tr>\n",
       "      <th>서울</th>\n",
       "      <td>37.6</td>\n",
       "      <td>38.5</td>\n",
       "      <td>23.9</td>\n",
       "    </tr>\n",
       "    <tr>\n",
       "      <th>수도권(인천/경기)</th>\n",
       "      <td>32.5</td>\n",
       "      <td>38.8</td>\n",
       "      <td>28.7</td>\n",
       "    </tr>\n",
       "  </tbody>\n",
       "</table>\n",
       "</div>"
      ],
      "text/plain": [
       "연령대           노년층   중년층   초년층\n",
       "지역                           \n",
       "강원/충북        45.9  30.9  23.2\n",
       "광주/전남/전북/제주  44.9  31.8  23.3\n",
       "대구/경북        50.4  29.6  20.0\n",
       "대전/충남        41.3  33.6  25.0\n",
       "부산/경남/울산     43.8  33.4  22.9\n",
       "서울           37.6  38.5  23.9\n",
       "수도권(인천/경기)   32.5  38.8  28.7"
      ]
     },
     "execution_count": 638,
     "metadata": {},
     "output_type": "execute_result"
    }
   ],
   "source": [
    "# 피벗\n",
    "# result_df=result[['지역', '연령대', '인원수_백분율']]\n",
    "pivot_df=result.pivot(index='지역', columns='연령대', values='인원수_백분율')\n",
    "pivot_df"
   ]
  },
  {
   "cell_type": "code",
   "execution_count": 640,
   "id": "0e57511a-07e5-4073-b8e3-97d698fbe795",
   "metadata": {},
   "outputs": [
    {
     "data": {
      "text/plain": [
       "<Axes: ylabel='지역'>"
      ]
     },
     "execution_count": 640,
     "metadata": {},
     "output_type": "execute_result"
    },
    {
     "data": {
      "image/png": "[encoded data removed]",
      "text/plain": [
       "<Figure size 640x480 with 1 Axes>"
      ]
     },
     "metadata": {},
     "output_type": "display_data"
    }
   ],
   "source": [
    "# 가로 막대 그래프\n",
    "# pivot_df.plot.barh\n",
    "pivot_df.plot.barh(stacked=True)   # True : 여러 데이터가 막대 위에 누적"
   ]
  },
  {
   "cell_type": "code",
   "execution_count": 642,
   "id": "f5658afb-998a-4470-9119-cba3b12f8fae",
   "metadata": {},
   "outputs": [
    {
     "data": {
      "text/html": [
       "<div>\n",
       "<style scoped>\n",
       "    .dataframe tbody tr th:only-of-type {\n",
       "        vertical-align: middle;\n",
       "    }\n",
       "\n",
       "    .dataframe tbody tr th {\n",
       "        vertical-align: top;\n",
       "    }\n",
       "\n",
       "    .dataframe thead th {\n",
       "        text-align: right;\n",
       "    }\n",
       "</style>\n",
       "<table border=\"1\" class=\"dataframe\">\n",
       "  <thead>\n",
       "    <tr style=\"text-align: right;\">\n",
       "      <th>연령대</th>\n",
       "      <th>초년층</th>\n",
       "      <th>중년층</th>\n",
       "      <th>노년층</th>\n",
       "    </tr>\n",
       "    <tr>\n",
       "      <th>지역</th>\n",
       "      <th></th>\n",
       "      <th></th>\n",
       "      <th></th>\n",
       "    </tr>\n",
       "  </thead>\n",
       "  <tbody>\n",
       "    <tr>\n",
       "      <th>수도권(인천/경기)</th>\n",
       "      <td>28.7</td>\n",
       "      <td>38.8</td>\n",
       "      <td>32.5</td>\n",
       "    </tr>\n",
       "    <tr>\n",
       "      <th>서울</th>\n",
       "      <td>23.9</td>\n",
       "      <td>38.5</td>\n",
       "      <td>37.6</td>\n",
       "    </tr>\n",
       "    <tr>\n",
       "      <th>대전/충남</th>\n",
       "      <td>25.0</td>\n",
       "      <td>33.6</td>\n",
       "      <td>41.3</td>\n",
       "    </tr>\n",
       "    <tr>\n",
       "      <th>부산/경남/울산</th>\n",
       "      <td>22.9</td>\n",
       "      <td>33.4</td>\n",
       "      <td>43.8</td>\n",
       "    </tr>\n",
       "    <tr>\n",
       "      <th>광주/전남/전북/제주</th>\n",
       "      <td>23.3</td>\n",
       "      <td>31.8</td>\n",
       "      <td>44.9</td>\n",
       "    </tr>\n",
       "    <tr>\n",
       "      <th>강원/충북</th>\n",
       "      <td>23.2</td>\n",
       "      <td>30.9</td>\n",
       "      <td>45.9</td>\n",
       "    </tr>\n",
       "    <tr>\n",
       "      <th>대구/경북</th>\n",
       "      <td>20.0</td>\n",
       "      <td>29.6</td>\n",
       "      <td>50.4</td>\n",
       "    </tr>\n",
       "  </tbody>\n",
       "</table>\n",
       "</div>"
      ],
      "text/plain": [
       "연령대           초년층   중년층   노년층\n",
       "지역                           \n",
       "수도권(인천/경기)   28.7  38.8  32.5\n",
       "서울           23.9  38.5  37.6\n",
       "대전/충남        25.0  33.6  41.3\n",
       "부산/경남/울산     22.9  33.4  43.8\n",
       "광주/전남/전북/제주  23.3  31.8  44.9\n",
       "강원/충북        23.2  30.9  45.9\n",
       "대구/경북        20.0  29.6  50.4"
      ]
     },
     "execution_count": 642,
     "metadata": {},
     "output_type": "execute_result"
    }
   ],
   "source": [
    "# 연령대 순서 바꾸기\n",
    "reorder_df=pivot_df.sort_values('노년층')[['초년층', '중년층', '노년층']]\n",
    "reorder_df"
   ]
  },
  {
   "cell_type": "code",
   "execution_count": 644,
   "id": "e7d664e8-6216-49db-92ca-dd1d0f49876a",
   "metadata": {},
   "outputs": [
    {
     "data": {
      "text/plain": [
       "<Axes: ylabel='지역'>"
      ]
     },
     "execution_count": 644,
     "metadata": {},
     "output_type": "execute_result"
    },
    {
     "data": {
      "image/png": "[encoded data removed]",
      "text/plain": [
       "<Figure size 640x480 with 1 Axes>"
      ]
     },
     "metadata": {},
     "output_type": "display_data"
    }
   ],
   "source": [
    "# 가로 막대 그래프\n",
    "reorder_df.plot.barh(stacked=True)"
   ]
  },
  {
   "cell_type": "markdown",
   "id": "e789d963-7a52-45c3-9aa9-56b19d9f058e",
   "metadata": {},
   "source": [
    "### 통계적 가설 검정"
   ]
  },
  {
   "cell_type": "code",
   "execution_count": 646,
   "id": "497cc1fd-82c9-40c1-b1b6-46a4eae203ea",
   "metadata": {
    "scrolled": true
   },
   "outputs": [
    {
     "data": {
      "text/html": [
       "<div>\n",
       "<style scoped>\n",
       "    .dataframe tbody tr th:only-of-type {\n",
       "        vertical-align: middle;\n",
       "    }\n",
       "\n",
       "    .dataframe tbody tr th {\n",
       "        vertical-align: top;\n",
       "    }\n",
       "\n",
       "    .dataframe thead th {\n",
       "        text-align: right;\n",
       "    }\n",
       "</style>\n",
       "<table border=\"1\" class=\"dataframe\">\n",
       "  <thead>\n",
       "    <tr style=\"text-align: right;\">\n",
       "      <th>연령대</th>\n",
       "      <th>노년층</th>\n",
       "      <th>중년층</th>\n",
       "      <th>초년층</th>\n",
       "    </tr>\n",
       "    <tr>\n",
       "      <th>지역</th>\n",
       "      <th></th>\n",
       "      <th></th>\n",
       "      <th></th>\n",
       "    </tr>\n",
       "  </thead>\n",
       "  <tbody>\n",
       "    <tr>\n",
       "      <th>강원/충북</th>\n",
       "      <td>3.620474</td>\n",
       "      <td>2.434457</td>\n",
       "      <td>1.831045</td>\n",
       "    </tr>\n",
       "    <tr>\n",
       "      <th>광주/전남/전북/제주</th>\n",
       "      <td>7.684838</td>\n",
       "      <td>5.437647</td>\n",
       "      <td>3.981135</td>\n",
       "    </tr>\n",
       "    <tr>\n",
       "      <th>대구/경북</th>\n",
       "      <td>6.041060</td>\n",
       "      <td>3.551117</td>\n",
       "      <td>2.392842</td>\n",
       "    </tr>\n",
       "    <tr>\n",
       "      <th>대전/충남</th>\n",
       "      <td>3.988070</td>\n",
       "      <td>3.245943</td>\n",
       "      <td>2.413650</td>\n",
       "    </tr>\n",
       "    <tr>\n",
       "      <th>부산/경남/울산</th>\n",
       "      <td>7.428215</td>\n",
       "      <td>5.666528</td>\n",
       "      <td>3.884034</td>\n",
       "    </tr>\n",
       "    <tr>\n",
       "      <th>서울</th>\n",
       "      <td>5.222638</td>\n",
       "      <td>5.347482</td>\n",
       "      <td>3.315300</td>\n",
       "    </tr>\n",
       "    <tr>\n",
       "      <th>수도권(인천/경기)</th>\n",
       "      <td>7.317242</td>\n",
       "      <td>8.739076</td>\n",
       "      <td>6.457206</td>\n",
       "    </tr>\n",
       "  </tbody>\n",
       "</table>\n",
       "</div>"
      ],
      "text/plain": [
       "연령대               노년층       중년층       초년층\n",
       "지역                                       \n",
       "강원/충북        3.620474  2.434457  1.831045\n",
       "광주/전남/전북/제주  7.684838  5.437647  3.981135\n",
       "대구/경북        6.041060  3.551117  2.392842\n",
       "대전/충남        3.988070  3.245943  2.413650\n",
       "부산/경남/울산     7.428215  5.666528  3.884034\n",
       "서울           5.222638  5.347482  3.315300\n",
       "수도권(인천/경기)   7.317242  8.739076  6.457206"
      ]
     },
     "execution_count": 646,
     "metadata": {},
     "output_type": "execute_result"
    }
   ],
   "source": [
    "# 귀무가설(H₀): 지역별 연령대 분포는 서로 독립적이다.\n",
    "# 대립가설(H₁): 지역별 연령대 분포는 서로 독립적이지 않다.\n",
    "\n",
    "ex_eight_crosstab=pd.crosstab(ex_eight_merge['지역'], ex_eight_merge['연령대'], normalize='all') * 100\n",
    "ex_eight_crosstab                                                       # 전체 데이터의 총합을 기준으로 비율 (백분율_"
   ]
  },
  {
   "cell_type": "code",
   "execution_count": 648,
   "id": "032558d6-bcda-4699-8081-e8c1eaec0c49",
   "metadata": {},
   "outputs": [
    {
     "data": {
      "text/plain": [
       "Chi2ContingencyResult(statistic=1.471450362300088, pvalue=0.999882251090635, dof=12, expected_freq=array([[3.25710822, 2.71453032, 1.91433732],\n",
       "       [7.06422943, 5.88745099, 4.15194005],\n",
       "       [4.95011697, 4.1255131 , 2.90938865],\n",
       "       [3.98472958, 3.32094255, 2.34199052],\n",
       "       [7.01266571, 5.8444769 , 4.12163392],\n",
       "       [5.73503135, 4.77967433, 3.37071532],\n",
       "       [9.29865723, 7.74966177, 5.46520576]]))"
      ]
     },
     "execution_count": 648,
     "metadata": {},
     "output_type": "execute_result"
    }
   ],
   "source": [
    "stats.chi2_contingency(ex_eight_crosstab)\n",
    "\n",
    "# 귀무가설 참, 귀무가설 기각 실패, 연령대별 지역 거주는 연관성이 없다."
   ]
  },
  {
   "cell_type": "code",
   "execution_count": null,
   "id": "be92eae5-25bc-4243-91cf-7b665a0b5de2",
   "metadata": {},
   "outputs": [],
   "source": []
  }
 ],
 "metadata": {
  "kernelspec": {
   "display_name": "Python [conda env:base] *",
   "language": "python",
   "name": "conda-base-py"
  },
  "language_info": {
   "codemirror_mode": {
    "name": "ipython",
    "version": 3
   },
   "file_extension": ".py",
   "mimetype": "text/x-python",
   "name": "python",
   "nbconvert_exporter": "python",
   "pygments_lexer": "ipython3",
   "version": "3.12.7"
  }
 },
 "nbformat": 4,
 "nbformat_minor": 5
}
