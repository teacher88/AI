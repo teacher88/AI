{
 "cells": [
  {
   "cell_type": "markdown",
   "id": "880c139d-126e-4bd5-b5a8-5d6714aa28c0",
   "metadata": {},
   "source": [
    "# 기본 명령어"
   ]
  },
  {
   "cell_type": "markdown",
   "id": "e49d5d5f-005b-4c6f-b18a-22834e5ad2a7",
   "metadata": {},
   "source": [
    "## 출력 \n",
    "- print() 함수\n",
    "- 주석 "
   ]
  },
  {
   "cell_type": "code",
   "execution_count": 4,
   "id": "63043c20-b2ee-4c5d-8664-37420bd0f675",
   "metadata": {
    "scrolled": true
   },
   "outputs": [
    {
     "name": "stdout",
     "output_type": "stream",
     "text": [
      "Hello Python!!!\n",
      "안녕하세요\n",
      "010-1234-5678\n",
      "다음은 줄 안바꿈입니다\n"
     ]
    }
   ],
   "source": [
    "# print() 함수\n",
    "print(\"Hello Python!!!\")\n",
    "print(\"안녕하세요\")\n",
    "print(\"010\", \"1234\", \"5678\", sep=\"-\")        # 구분자 (Separator)\n",
    "print(\"다음은 줄 안바꿈\", end='')            # 다음은 줄 안 바꿈, 출력할 문자 지정 가능 end='**'\n",
    "print(\"입니다\") "
   ]
  },
  {
   "cell_type": "markdown",
   "id": "fb18cd88-5db6-4064-b141-bc8b214aa867",
   "metadata": {},
   "source": [
    "## 변수\n",
    "* 변수 선언\n",
    "  - int a=1 : 자료형 선언 후 저장\n",
    "  - a=1 : 저장 후 자료형 자동 선언\n",
    "* 변수 타입 확인\n",
    "* 변수 재 할당\n",
    "* 변수 선언 시 대소문자\n",
    "* 여러 변수 동시 선언"
   ]
  },
  {
   "cell_type": "code",
   "execution_count": 14,
   "id": "0cce7920-3afc-4f36-b851-4ecbbe03af73",
   "metadata": {},
   "outputs": [],
   "source": [
    "# 변수 선언\n",
    "a=1       \n",
    "b=55.5\n",
    "c=True\n",
    "d='A'\n",
    "e=\"Pyton\""
   ]
  },
  {
   "cell_type": "code",
   "execution_count": 16,
   "id": "1ae16a97-2cd9-46ed-9336-332094549fa0",
   "metadata": {},
   "outputs": [
    {
     "data": {
      "text/plain": [
       "int"
      ]
     },
     "execution_count": 16,
     "metadata": {},
     "output_type": "execute_result"
    }
   ],
   "source": [
    "# 변수 타입 확인\n",
    "a          # 1\n",
    "type(a)    # int"
   ]
  },
  {
   "cell_type": "markdown",
   "id": "e504d4e2-d403-4caa-a816-44f9c8ca5d4f",
   "metadata": {},
   "source": [
    "참고) jpyter note book에선 셀 마지막 부분을 display 해준다."
   ]
  },
  {
   "cell_type": "code",
   "execution_count": 13,
   "id": "c116e5f9-4ebc-437b-b1b1-23c59a026e4c",
   "metadata": {},
   "outputs": [
    {
     "data": {
      "text/plain": [
       "float"
      ]
     },
     "execution_count": 13,
     "metadata": {},
     "output_type": "execute_result"
    }
   ],
   "source": [
    "b          # 55.5\n",
    "type(b)    # float"
   ]
  },
  {
   "cell_type": "code",
   "execution_count": 15,
   "id": "da3810e5-ba20-4060-8264-22d7803c3589",
   "metadata": {},
   "outputs": [
    {
     "name": "stdout",
     "output_type": "stream",
     "text": [
      "True <class 'bool'>\n",
      "A <class 'str'>\n",
      "Pyton <class 'str'>\n"
     ]
    }
   ],
   "source": [
    "print(c, type(c))\n",
    "print(d, type(d))\n",
    "print(e, type(e))"
   ]
  },
  {
   "cell_type": "code",
   "execution_count": 17,
   "id": "029219e3-7555-4a48-bc12-fb8cbd6573d1",
   "metadata": {},
   "outputs": [
    {
     "name": "stdout",
     "output_type": "stream",
     "text": [
      "Java\n",
      "Python\n"
     ]
    }
   ],
   "source": [
    "# 변수 값 재설정\n",
    "lang=\"Java\"\n",
    "print(lang)\n",
    "\n",
    "lang=\"Python\"\n",
    "print(lang)"
   ]
  },
  {
   "cell_type": "code",
   "execution_count": 19,
   "id": "d8b81b84-e518-4d12-860a-764dda2da34a",
   "metadata": {},
   "outputs": [
    {
     "name": "stdout",
     "output_type": "stream",
     "text": [
      "HTML CSS\n"
     ]
    }
   ],
   "source": [
    "# 변수 선언시 대소문 구분\n",
    "a=\"HTML\"\n",
    "A=\"CSS\"\n",
    "print(a, A)"
   ]
  },
  {
   "cell_type": "code",
   "execution_count": 21,
   "id": "e16375e4-e18a-4177-a711-9f317841b54f",
   "metadata": {},
   "outputs": [
    {
     "name": "stdout",
     "output_type": "stream",
     "text": [
      "홍길동 30 hongdildong@hamail.net\n"
     ]
    }
   ],
   "source": [
    "# 여러 변수 선언 가능 - Python의 Tuple\n",
    "name, age, email=\"홍길동\", \"30\", 'hongdildong@hamail.net'\n",
    "print(name, age, email)"
   ]
  },
  {
   "cell_type": "code",
   "execution_count": null,
   "id": "d446736a-062e-4f51-b78e-b278811a3c70",
   "metadata": {},
   "outputs": [],
   "source": [
    "# ERROR인 경우\n",
    "# 2apples=2          # 첫글자 숫자\n",
    "# my$var=10          # 특수문자 포함\n",
    "# print='Hello'      # 예약어 사용 불가\n",
    "# my var=10          # 공백 포함\n",
    "# int age=45         # 동적 타이핑 언어 타입을 명시 하지 않음"
   ]
  },
  {
   "cell_type": "markdown",
   "id": "d9b3f560-af72-4d15-bde7-ad46af4a4775",
   "metadata": {},
   "source": [
    "## 숫자 자료형\n",
    "* 정수형 (10진수, 2진수, 8진수, 16진수)\n",
    "* 실수형\n",
    "* 진위형"
   ]
  },
  {
   "cell_type": "code",
   "execution_count": 26,
   "id": "215d004f-f0a1-407d-a5fd-5bb7a2d1aa08",
   "metadata": {},
   "outputs": [
    {
     "name": "stdout",
     "output_type": "stream",
     "text": [
      "10 <class 'int'>\n",
      "22 <class 'int'> \n",
      "\n"
     ]
    }
   ],
   "source": [
    "# 정수형\n",
    "a=10\n",
    "b=22\n",
    "print(a, type(a))\n",
    "print(b, type(b), \"\\n\")"
   ]
  },
  {
   "cell_type": "code",
   "execution_count": 28,
   "id": "b3b63afc-95fc-4254-a8bb-f529ab094d60",
   "metadata": {},
   "outputs": [
    {
     "name": "stdout",
     "output_type": "stream",
     "text": [
      "10 <class 'int'>\n",
      "10 <class 'int'>\n",
      "10 <class 'int'>\n"
     ]
    }
   ],
   "source": [
    "# 2진수(0b), 8진수(0o), 16진수(0x)\n",
    "bin=0b1010      # (1*2^3)+(0*2^2)+(1*2^1)+(0*2^0)=8+0+2+0=10\n",
    "oct=0o12        # (1×8^1)+(2×8^0)=8+2=10\n",
    "hex=0xA\n",
    "\n",
    "print(bin, type(bin))\n",
    "print(oct, type(oct))\n",
    "print(hex, type(hex))"
   ]
  },
  {
   "cell_type": "code",
   "execution_count": 35,
   "id": "e14b75a4-3e48-435c-a098-08810bfd101d",
   "metadata": {},
   "outputs": [
    {
     "name": "stdout",
     "output_type": "stream",
     "text": [
      "3.13 <class 'float'>\n",
      "314.15 <class 'float'>\n"
     ]
    }
   ],
   "source": [
    "# 실수형\n",
    "num=3.13\n",
    "print(num, type(num))\n",
    "\n",
    "val=3.1415e2      # 3.1415*10^2 == 3.1415*10*10\n",
    "print(val, type(val))"
   ]
  },
  {
   "cell_type": "code",
   "execution_count": 72,
   "id": "922b1ca0-7dc8-4e93-a2b5-18eab2e5df38",
   "metadata": {},
   "outputs": [
    {
     "name": "stdout",
     "output_type": "stream",
     "text": [
      "True False\n"
     ]
    }
   ],
   "source": [
    "# 진위형 boolean\n",
    "x=True\n",
    "y=False\n",
    "\n",
    "print(x, y)      # 참 0, 거짓 1"
   ]
  },
  {
   "cell_type": "markdown",
   "id": "44d06e1d-ac71-4b68-832c-2bae2e8575a3",
   "metadata": {},
   "source": [
    "## 연산자\n",
    "* 산술 연산자\n",
    "* 비교(관계) 연산자\n",
    "* 논리 연산자\n",
    "* 멤버 연산자\n",
    "* 할당(대입) 연산자\n",
    "* 기타 연산자 (주소비교, 비트연산자, 복소수)"
   ]
  },
  {
   "cell_type": "code",
   "execution_count": 30,
   "id": "193b2e15-1689-4e01-bd18-389966ca0b62",
   "metadata": {},
   "outputs": [
    {
     "name": "stdout",
     "output_type": "stream",
     "text": [
      "13\n",
      "7\n",
      "30\n",
      "3.3333333333333335\n",
      "몫: 3\n",
      "나머지: 1\n",
      "거듭제곱: 1000\n"
     ]
    }
   ],
   "source": [
    "# 산술 연산자\n",
    "a=10\n",
    "b=3\n",
    "print(a+b)\n",
    "print(a-b)\n",
    "print(a*b)\n",
    "print(a/b)\n",
    "print(\"몫:\", a // b)\n",
    "print(\"나머지:\", a % b)\n",
    "print(\"거듭제곱:\", a ** b)        # 10 ** 3 = 10 * 10 * 10 = 1000"
   ]
  },
  {
   "cell_type": "code",
   "execution_count": 33,
   "id": "08651a66-0757-4ca1-bdb5-c6807b4d8bd6",
   "metadata": {},
   "outputs": [
    {
     "name": "stdout",
     "output_type": "stream",
     "text": [
      "False\n",
      "True\n",
      "True\n",
      "False\n",
      "True\n",
      "False\n"
     ]
    }
   ],
   "source": [
    "# 관계(비교) 연산자\n",
    "x=10\n",
    "y=3\n",
    "print(x==y)\n",
    "print(x!=y)\n",
    "print(x>y)\n",
    "print(x<y)\n",
    "print(x>=y)\n",
    "print(x<=y)"
   ]
  },
  {
   "cell_type": "code",
   "execution_count": 37,
   "id": "e02163ca-a2f5-4457-afc6-8aa6d225edf0",
   "metadata": {},
   "outputs": [
    {
     "name": "stdout",
     "output_type": "stream",
     "text": [
      "True\n",
      "False\n",
      "True\n",
      "False\n"
     ]
    }
   ],
   "source": [
    "# 논리 연산자\n",
    "su=10\n",
    "value=20\n",
    "result1=su > 0 and su < 20\n",
    "result2=su == 0 or su == 20\n",
    "result3=su%2==0\n",
    "result4=not(su%2==0)\n",
    "\n",
    "print(result1)\n",
    "print(result2)\n",
    "print(result3)\n",
    "print(result4)"
   ]
  },
  {
   "cell_type": "code",
   "execution_count": 39,
   "id": "0a0a4c2e-fcbd-44a5-bd92-086745681ccd",
   "metadata": {},
   "outputs": [
    {
     "name": "stdout",
     "output_type": "stream",
     "text": [
      "True\n",
      "True\n"
     ]
    }
   ],
   "source": [
    "# 멤버 연산자\n",
    "my_list=[1, 2, 3]\n",
    "print(2 in my_list)       # 연속 항목에 있는지 여부\n",
    "print(4 not in my_list)   # 연속 항목에 없는지 여부"
   ]
  },
  {
   "cell_type": "code",
   "execution_count": 43,
   "id": "a1964d26-ad0a-45f8-a7dd-4b996316b4ca",
   "metadata": {},
   "outputs": [
    {
     "name": "stdout",
     "output_type": "stream",
     "text": [
      "100\n"
     ]
    }
   ],
   "source": [
    "# 할당(대입) 연산자\n",
    "num=100\n",
    "num +=2             # 102\n",
    "num -=2             # 100\n",
    "num *=2             # 200 \n",
    "num //=2            # 100\n",
    "print(num)"
   ]
  },
  {
   "cell_type": "markdown",
   "id": "98df251b-6c37-4878-ae05-959fc701d448",
   "metadata": {},
   "source": [
    "## 문자열 자료형\n",
    "* 문자열 선언\n",
    "* 문자열 연산\n",
    "* 형 변환\n",
    "* 문자열 인덱싱(Indexing)\n",
    "* 문자열 슬라이싱(Slicing)\n",
    "* 문자열 포맷\n",
    "* 문자열 함수\n",
    "* 문자열 자료형을 리스트 자료형으로 변환"
   ]
  },
  {
   "cell_type": "code",
   "execution_count": 76,
   "id": "fca4885f-9f9d-431f-8f18-c7f03f0272df",
   "metadata": {},
   "outputs": [
    {
     "name": "stdout",
     "output_type": "stream",
     "text": [
      "<class 'str'> <class 'str'> <class 'str'> <class 'str'>\n",
      "Hello, World \t 안녕하세요 \t Life is too short, You need Python \t 인생은 너무 짧으니, 파이썬이 필요해\n"
     ]
    }
   ],
   "source": [
    "# 문자열 선언 : ', \", \"\"\", '''\n",
    "a='Hello, World'\n",
    "b=\"안녕하세요\"\n",
    "c=\"\"\"Life is too short, You need Python\"\"\"\n",
    "d='''인생은 너무 짧으니, 파이썬이 필요해'''\n",
    "print(type(a), type(b), type(c), type(d))\n",
    "print(a, \"\\t\", b, \"\\t\", c, \"\\t\", d)"
   ]
  },
  {
   "cell_type": "code",
   "execution_count": 5,
   "id": "3e507177-3eb1-4ef2-bce6-7257ef25a84e",
   "metadata": {},
   "outputs": [
    {
     "name": "stdout",
     "output_type": "stream",
     "text": [
      "Hello \n",
      " World\n",
      "어서와\n",
      "파이썬은\n",
      "처음이지?\n"
     ]
    }
   ],
   "source": [
    "# 여러 줄인 문자열을 변수에 대입하고 싶을 때\n",
    "x='Hello \\n World'\n",
    "y='''어서와\n",
    "파이썬은\n",
    "처음이지?'''\n",
    "print(x)\n",
    "print(y)"
   ]
  },
  {
   "cell_type": "code",
   "execution_count": 9,
   "id": "36cd9d67-d2ff-45d3-8949-75f6cb220b82",
   "metadata": {},
   "outputs": [
    {
     "name": "stdout",
     "output_type": "stream",
     "text": [
      "Python's favorite food is perl\n",
      "\"Python is very easy.\" hs says.\n",
      "\"Python is ver easy.\"he says\n"
     ]
    }
   ],
   "source": [
    "# 문자열 안에 따옴표 포함\n",
    "food=\"Python's favorite food is perl\"\n",
    "say='\"Python is very easy.\" hs says.'\n",
    "backsay=\"\\\"Python is ver easy.\\\"he says\"\n",
    "print(food)\n",
    "print(say)\n",
    "print(backsay)"
   ]
  },
  {
   "cell_type": "code",
   "execution_count": 15,
   "id": "7d3e3e1f-10fc-423b-83a3-e5cd8f005568",
   "metadata": {},
   "outputs": [
    {
     "name": "stdout",
     "output_type": "stream",
     "text": [
      "Python is fun!\n",
      "Python Python Python \n",
      "True\n",
      "False\n"
     ]
    }
   ],
   "source": [
    "# 문자열 연산\n",
    "head=\"Python \"\n",
    "tail=\"is fun!\"\n",
    "print(head + tail)\n",
    "print(head * 3)\n",
    "print('P' in head)              # 멤버연산자 2 in my_list\n",
    "print('P' not in head)"
   ]
  },
  {
   "cell_type": "code",
   "execution_count": 20,
   "id": "6c9a9ec1-4a4d-41cc-ac9e-bc8a0c87a645",
   "metadata": {},
   "outputs": [
    {
     "name": "stdout",
     "output_type": "stream",
     "text": [
      "55.5 <class 'float'>\n",
      "55 <class 'int'>\n"
     ]
    },
    {
     "name": "stdin",
     "output_type": "stream",
     "text": [
      "수 입력: 10\n"
     ]
    },
    {
     "name": "stdout",
     "output_type": "stream",
     "text": [
      "10 <class 'int'>\n"
     ]
    }
   ],
   "source": [
    "# 형 변환\n",
    "su=55.5\n",
    "print(su, type(su))\n",
    "\n",
    "value=int(su)\n",
    "print(value, type(value))\n",
    "\n",
    "num=int(input(\"수 입력:\"))       # str - int 형 변환\n",
    "print(num, type(num))"
   ]
  },
  {
   "cell_type": "code",
   "execution_count": 22,
   "id": "e0b612ed-d48b-42bc-ba81-3984e2438d65",
   "metadata": {},
   "outputs": [
    {
     "name": "stdout",
     "output_type": "stream",
     "text": [
      "L s n\n"
     ]
    }
   ],
   "source": [
    "# 문자열 인덱싱 (Indexing)\n",
    "a=\"Life is too short, You need Python\"\n",
    "print(a[0], a[12], a[-1])"
   ]
  },
  {
   "cell_type": "code",
   "execution_count": 27,
   "id": "e918951b-c347-4cad-a9f6-71af0451f545",
   "metadata": {},
   "outputs": [
    {
     "name": "stdout",
     "output_type": "stream",
     "text": [
      "Good\n",
      "Good\n",
      "Good\n"
     ]
    }
   ],
   "source": [
    "# 문자열 슬라이싱 (Slicing)\n",
    "b='GoodMorning'\n",
    "print(b[0:4:1])      # [start:end:step(전)] 즉, 0~3\n",
    "print(b[0:4])\n",
    "print(b[:4])"
   ]
  },
  {
   "cell_type": "code",
   "execution_count": 30,
   "id": "957701e2-0af0-4b90-b9dd-254be5b532ab",
   "metadata": {},
   "outputs": [
    {
     "name": "stdout",
     "output_type": "stream",
     "text": [
      "Morning\n",
      "Morning\n",
      "Morning\n"
     ]
    }
   ],
   "source": [
    "print(b[4:11:1])\n",
    "print(b[4:11])\n",
    "print(b[4:])\n",
    "\n",
    "# b[::2]    GoMrig\n",
    "# b[2::]    odMorning\n",
    "# b[:4:2]   Go\n",
    "# b[::]     GoodMorning"
   ]
  },
  {
   "cell_type": "code",
   "execution_count": 35,
   "id": "e1622dde-c659-4670-a9fa-ae4edae339df",
   "metadata": {},
   "outputs": [
    {
     "name": "stdout",
     "output_type": "stream",
     "text": [
      "이름: 홍길동 \t 나이: 23\n",
      "이름:홍길동 나이:23\n",
      "이름:홍길동 나이:23\n",
      "나이:23 이름:홍길동\n",
      "나의 이름은 홍길동 입니다. 나이는 23 입니다.\n"
     ]
    }
   ],
   "source": [
    "# 문자열 포맷\n",
    "name=\"홍길동\"\n",
    "age=23\n",
    "print(\"이름:\", name, \"\\t 나이:\", age)\n",
    "\n",
    "print(\"이름:%s 나이:%d\" %(name, age))                        # % 연산자를 이용한 포맷\n",
    "print(\"이름:{} 나이:{}\".format(name, age))                   # str.format 함수 사용한 포맷\n",
    "print(\"나이:{1} 이름:{0}\".format(name, age))                 # format 함수의 순서 지정\n",
    "print(f\"나의 이름은 {name} 입니다. 나이는 {age} 입니다.\")      # f문자열 포맷 - 3.6ver~~"
   ]
  },
  {
   "cell_type": "code",
   "execution_count": 20,
   "id": "aac32fe9-0334-4c9e-98eb-b605244fe28c",
   "metadata": {},
   "outputs": [
    {
     "name": "stdout",
     "output_type": "stream",
     "text": [
      "        hi\n",
      "hi        \n",
      "    3.1235\n",
      "3.1235\n",
      "003.1235\n",
      "345.1235\n"
     ]
    }
   ],
   "source": [
    "# 출력 서식 지정\n",
    "print(\"%10s\" %\"hi\")                 # 오른쪽으로 정렬\n",
    "print(\"%-10s\" %\"hi\")                # 왼쪽으로 정렬\n",
    "print(\"%10.4f\" %3.12345678)\n",
    "\n",
    "print(\"%0.4f\" %3.12345678)    \n",
    "print(\"%08.4f\" %3.12345678)  \n",
    "print(\"%0.4f\" %345.12345678)  "
   ]
  },
  {
   "cell_type": "code",
   "execution_count": 37,
   "id": "3821192c-6add-4a65-8d34-0ee0566f6395",
   "metadata": {},
   "outputs": [
    {
     "name": "stdout",
     "output_type": "stream",
     "text": [
      "문자열 개수 세는 함수: 2\n",
      "문자열 앞부터 위치 찾기: 0\n",
      "문자열 뒤부터 위치 찾기: 8\n",
      "문자열 앞부터 위치 찾기: 0\n",
      "문자열 대문자 변환: HELLO WORLD\n",
      "문자열 소문자 변환: hello world\n",
      "문자열 소문자 변환: Hello World\n",
      "문자열 치환: Hello Apple\n"
     ]
    }
   ],
   "source": [
    "# 문자열 함수 : API https://docs.python.org/3/library/stdtypes.html#string-methods\n",
    "\n",
    "s=\"Hello World\"\n",
    "print(\"문자열 개수 세는 함수:\", s.count('o'))\n",
    "print(\"문자열 앞부터 위치 찾기:\", s.find('H'))        # 없으면 -1 \n",
    "print(\"문자열 뒤부터 위치 찾기:\", s.rfind('r'))       # 없으면 -1 \n",
    "print(\"문자열 앞부터 위치 찾기:\", s.index('H'))       # 없으면 ERROR\n",
    "print(\"문자열 대문자 변환:\", s.upper())\n",
    "print(\"문자열 소문자 변환:\", s.lower())\n",
    "print(\"문자열 첫글자만 대문자 변환:\", s.title())\n",
    "print(\"문자열 치환:\", s.replace('World', 'Apple'))"
   ]
  },
  {
   "cell_type": "code",
   "execution_count": 50,
   "id": "0a516c43-e344-4174-a443-4d4abc1f8bd3",
   "metadata": {},
   "outputs": [
    {
     "name": "stdout",
     "output_type": "stream",
     "text": [
      "     안녕하세요\n",
      "안녕하세요     \n",
      "     안녕하세요    \n",
      "안녕하세요\n",
      "안녕하세요\n",
      "안녕하세요\n"
     ]
    }
   ],
   "source": [
    "i=\"     안녕하세요\"\n",
    "j=\"안녕하세요     \"\n",
    "k=\"     안녕하세요    \"\n",
    "\n",
    "print(i)\n",
    "print(j)\n",
    "print(k)\n",
    "\n",
    "print(i.lstrip())      # 왼쪽 공백 제거\n",
    "print(j.rstrip())      # 오른쪽 공백 제거\n",
    "print(k.strip())       # 양쪽 공백 제거"
   ]
  },
  {
   "cell_type": "code",
   "execution_count": 53,
   "id": "024929cd-3b9e-4d38-8322-99c6b22c8220",
   "metadata": {},
   "outputs": [
    {
     "name": "stdout",
     "output_type": "stream",
     "text": [
      "문자열로 이루어져 있는가? True\n",
      "숫자로만 이루어져 있는가? True\n",
      "숫자와 문자로 이루어져 있는가? True\n"
     ]
    }
   ],
   "source": [
    "x=\"ABCDefg\"\n",
    "y='123'\n",
    "z=\"1234ABC\"\n",
    "print(\"문자열로 이루어져 있는가?\", x.isalpha())\n",
    "print(\"숫자로만 이루어져 있는가?\", y.isnumeric())\n",
    "print(\"숫자와 문자로 이루어져 있는가?\", z.isalnum())"
   ]
  },
  {
   "cell_type": "code",
   "execution_count": 55,
   "id": "188b577c-83e7-4900-a0f0-fb81c30d9196",
   "metadata": {},
   "outputs": [
    {
     "data": {
      "text/plain": [
       "'Apple Orage Kiwi'"
      ]
     },
     "execution_count": 55,
     "metadata": {},
     "output_type": "execute_result"
    }
   ],
   "source": [
    "# 문자열 - 리스트 변환\n",
    "ch=\"Apple Orage Kiwi\"\n",
    "ch"
   ]
  },
  {
   "cell_type": "code",
   "execution_count": 58,
   "id": "a3340452-04c2-40f5-a876-d0eb0a56dac5",
   "metadata": {},
   "outputs": [
    {
     "data": {
      "text/plain": [
       "(['Apple', 'Orage', 'Kiwi'], list, 'Apple')"
      ]
     },
     "execution_count": 58,
     "metadata": {},
     "output_type": "execute_result"
    }
   ],
   "source": [
    "ch_list=ch.split(\" \")\n",
    "ch_list, type(ch_list), ch_list[0]"
   ]
  },
  {
   "cell_type": "code",
   "execution_count": 61,
   "id": "5db4d471-8a25-4e28-9bde-21d274fe02f0",
   "metadata": {},
   "outputs": [
    {
     "data": {
      "text/plain": [
       "'Apple Orage Kiwi'"
      ]
     },
     "execution_count": 61,
     "metadata": {},
     "output_type": "execute_result"
    }
   ],
   "source": [
    "# 리스트 - 문자열 변환\n",
    "str_ch=\" \".join(ch_list)      # str_ch=\",\".join(ch_list)\n",
    "str_ch"
   ]
  },
  {
   "cell_type": "markdown",
   "id": "c24df3bf-048a-4e8b-8611-29cd338a1bda",
   "metadata": {},
   "source": [
    "# Collection"
   ]
  },
  {
   "cell_type": "markdown",
   "id": "0189552d-82c0-4b56-8fc2-b621270c3aae",
   "metadata": {},
   "source": [
    "## List \n",
    "* 데이터 목록을 다루는 자료형\n",
    "* 인덱싱(Indexing)\n",
    "* 리스트 안에 리스트\n",
    "* 슬라이싱(Slicing)\n",
    "* 인덱싱과 슬라이싱을 이용한 값 치환\n",
    "* 리스트 연산\n",
    "* 리스트 함수"
   ]
  },
  {
   "cell_type": "code",
   "execution_count": 69,
   "id": "b9b7f6ea-fb75-4871-af5a-282b7fe5d336",
   "metadata": {},
   "outputs": [
    {
     "name": "stdout",
     "output_type": "stream",
     "text": [
      "[] <class 'list'>\n",
      "[1, 2, 3, 4, 5] <class 'list'>\n",
      "['apple', 'banana', 'melon', 'orange', 'strawberry'] <class 'list'>\n",
      "[1, 'apple', 'F', 55.5] <class 'list'>\n"
     ]
    }
   ],
   "source": [
    "# 데이터 목록을 다루는 자료형\n",
    "a=[]\n",
    "b=[1, 2, 3, 4, 5]\n",
    "c=[\"apple\", \"banana\", \"melon\", \"orange\", \"strawberry\"]\n",
    "d=[1, \"apple\", \"F\", 55.5]\n",
    "\n",
    "print(a, type(a))\n",
    "print(b, type(b))\n",
    "print(c, type(c))\n",
    "print(d, type(d))"
   ]
  },
  {
   "cell_type": "code",
   "execution_count": 70,
   "id": "be0ee56b-24b2-4a09-9ec5-82726153db75",
   "metadata": {},
   "outputs": [
    {
     "name": "stdout",
     "output_type": "stream",
     "text": [
      "1\n",
      "24.5\n"
     ]
    }
   ],
   "source": [
    "# 인덱싱(Indexing)\n",
    "data=[1, \"AB\", 'apple', 24.5]\n",
    "print(data[0])\n",
    "print(data[-1])"
   ]
  },
  {
   "cell_type": "code",
   "execution_count": 72,
   "id": "a633792d-c32e-4787-94a0-0a426d972e5a",
   "metadata": {},
   "outputs": [
    {
     "name": "stdout",
     "output_type": "stream",
     "text": [
      "1\n",
      "['a', 'b', 'c']\n",
      "['a', 'b', 'c']\n",
      "a\n",
      "a\n",
      "a\n",
      "a\n"
     ]
    }
   ],
   "source": [
    "# 리스트 안에 리스트\n",
    "val=[1, 2, 3, ['a', 'b', 'c']]\n",
    "print(val[0])\n",
    "print(val[-1])\n",
    "print(val[3])\n",
    "\n",
    "print(val[-1][0])\n",
    "print(val[-1][-3])\n",
    "print(val[3][0])\n",
    "print(val[3][-3])"
   ]
  },
  {
   "cell_type": "code",
   "execution_count": 73,
   "id": "550cc24f-ff9a-4fdd-84e1-1d04b00dab19",
   "metadata": {},
   "outputs": [
    {
     "name": "stdout",
     "output_type": "stream",
     "text": [
      "[10, 20, 30, 40, 50]\n",
      "[10, 20, 30]\n",
      "[60, 70, 80, 90, 100]\n",
      "[10, 30, 50, 70]\n"
     ]
    }
   ],
   "source": [
    "# 슬라이싱(Slicing)\n",
    "num=[10, 20, 30, 40, 50, 60, 70, 80, 90, 100]\n",
    "print(num[0:5])\n",
    "print(num[:3])\n",
    "print(num[5:])\n",
    "print(num[0:8:2])"
   ]
  },
  {
   "cell_type": "code",
   "execution_count": 78,
   "id": "89ead73f-36ce-4054-b070-c62b10d67988",
   "metadata": {},
   "outputs": [
    {
     "name": "stdout",
     "output_type": "stream",
     "text": [
      "[77, 20, 30, 40, 50, 60, 70, 80, 90, 100]\n",
      "[77, 20, 'apple', 'banana', 'melon', 60, 70, 80, 90, 100]\n"
     ]
    }
   ],
   "source": [
    "# 인덱싱과 슬라이싱을 이용한 값 치환\n",
    "num[0]=77\n",
    "print(num)\n",
    "\n",
    "num[2:5]=[\"apple\", \"banana\", \"melon\"]\n",
    "print(num)"
   ]
  },
  {
   "cell_type": "code",
   "execution_count": 79,
   "id": "1dbc4817-3f9d-4704-9c2b-e83bac7767f0",
   "metadata": {},
   "outputs": [
    {
     "name": "stdout",
     "output_type": "stream",
     "text": [
      "[1, 2, 3, 4, 5, 6]\n",
      "[4, 5, 6, 1, 2, 3]\n",
      "[1, 2, 3, 1, 2, 3, 1, 2, 3]\n"
     ]
    }
   ],
   "source": [
    "# 리스트 연산\n",
    "a=[1, 2, 3]\n",
    "b=[4, 5, 6]\n",
    "print(a+b)\n",
    "print(b+a)\n",
    "print(a*3)"
   ]
  },
  {
   "cell_type": "markdown",
   "id": "a7f6d64c-8425-4844-9dfd-9f7faa86946e",
   "metadata": {},
   "source": [
    "## List 함수\n",
    "* 추가\n",
    "* 정렬\n",
    "* 검색\n",
    "* 삭제\n",
    "* 리스트에서 리스트 더하기"
   ]
  },
  {
   "cell_type": "code",
   "execution_count": 2,
   "id": "10fe13a7-8b78-4739-964a-10411ade143e",
   "metadata": {},
   "outputs": [
    {
     "data": {
      "text/plain": [
       "[77, 1, 2, 3, 4]"
      ]
     },
     "execution_count": 2,
     "metadata": {},
     "output_type": "execute_result"
    }
   ],
   "source": [
    "# 추가\n",
    "arr=[1, 2, 3]\n",
    "arr.append(4)              # 리스트 끝에 새 요소를 추가\n",
    "arr.insert(0, 77)          # 특정 번지 내에 요소 추가 , arr[0]=77\n",
    "arr"
   ]
  },
  {
   "cell_type": "code",
   "execution_count": 85,
   "id": "874f5d3e-3384-4085-bf52-a256b1ffc38d",
   "metadata": {},
   "outputs": [
    {
     "data": {
      "text/plain": [
       "[1, 2, 3, 4, 77]"
      ]
     },
     "execution_count": 85,
     "metadata": {},
     "output_type": "execute_result"
    }
   ],
   "source": [
    "# 정렬\n",
    "arr.sort()                  # 오름차순\n",
    "arr"
   ]
  },
  {
   "cell_type": "code",
   "execution_count": 86,
   "id": "4b0781ea-c80f-4552-8ab8-27ffa7109f83",
   "metadata": {},
   "outputs": [
    {
     "data": {
      "text/plain": [
       "[77, 4, 3, 2, 1]"
      ]
     },
     "execution_count": 86,
     "metadata": {},
     "output_type": "execute_result"
    }
   ],
   "source": [
    "arr.reverse()               # 내림차순\n",
    "arr"
   ]
  },
  {
   "cell_type": "code",
   "execution_count": 88,
   "id": "dc6376df-06a3-40f4-8550-316aa23f61b6",
   "metadata": {},
   "outputs": [
    {
     "name": "stdout",
     "output_type": "stream",
     "text": [
      "0\n",
      "BMW\n"
     ]
    }
   ],
   "source": [
    "# 검색\n",
    "car=[\"BMW\", \"BENZ\", \"VOLVO\", \"AUDI\"]\n",
    "print(car.index(\"BMW\"))      # BMW 위치\n",
    "print(car[0])                # 0번지 값"
   ]
  },
  {
   "cell_type": "code",
   "execution_count": 89,
   "id": "b92b1e06-44c0-4d31-8d32-4ee4b06cca19",
   "metadata": {},
   "outputs": [
    {
     "data": {
      "text/plain": [
       "['BENZ', 'AUDI']"
      ]
     },
     "execution_count": 89,
     "metadata": {},
     "output_type": "execute_result"
    }
   ],
   "source": [
    "# 삭제\n",
    "car.remove(\"BMW\")\n",
    "del car[1]\n",
    "car"
   ]
  },
  {
   "cell_type": "code",
   "execution_count": 92,
   "id": "c2d9fa61-985c-4575-a324-c6ee5c4443cb",
   "metadata": {},
   "outputs": [
    {
     "data": {
      "text/plain": [
       "['BENZ']"
      ]
     },
     "execution_count": 92,
     "metadata": {},
     "output_type": "execute_result"
    }
   ],
   "source": [
    "del car[1:]\n",
    "car"
   ]
  },
  {
   "cell_type": "code",
   "execution_count": 3,
   "id": "587ef4f5-d91b-4c68-bb90-ba8cdcb680f3",
   "metadata": {},
   "outputs": [
    {
     "data": {
      "text/plain": [
       "[10, 20, 30, 40, 50, 60, 'apple', 'banana', 'melon']"
      ]
     },
     "execution_count": 3,
     "metadata": {},
     "output_type": "execute_result"
    }
   ],
   "source": [
    "# 리스트에서 리스트를 더하는 함수\n",
    "num=[10, 20, 30]\n",
    "value=[40, 50, 60]\n",
    "num.extend(value)\n",
    "num.extend([\"apple\", \"banana\", \"melon\"])\n",
    "num"
   ]
  },
  {
   "cell_type": "markdown",
   "id": "da696af8-6760-4f6e-bce1-fdea80b034db",
   "metadata": {},
   "source": [
    "## Python 내장 함수"
   ]
  },
  {
   "cell_type": "code",
   "execution_count": 19,
   "id": "fd10368c-c259-409f-9201-22f6f9fa7374",
   "metadata": {},
   "outputs": [
    {
     "name": "stdout",
     "output_type": "stream",
     "text": [
      "3\n",
      "1\n",
      "4\n",
      "[1, 2, 3, 4, 5, 1, 2, 3]\n"
     ]
    }
   ],
   "source": [
    "su=[1, 2, 3, 4, 5, 1, 2, 3, 4, 1]\n",
    "print(su.count(1))\n",
    "print(su.pop())\n",
    "print(su.pop())       # 맨 마지막 요소 출력 후 삭제 stack, queue\n",
    "print(su)"
   ]
  },
  {
   "cell_type": "code",
   "execution_count": 23,
   "id": "2ecfc517-5096-48d4-a812-5cc6b69f52c6",
   "metadata": {},
   "outputs": [
    {
     "name": "stdout",
     "output_type": "stream",
     "text": [
      "8\n",
      "5\n",
      "[1, 1, 2, 2, 3, 3, 4, 5]\n",
      "[5, 4, 3, 3, 2, 2, 1, 1]\n"
     ]
    }
   ],
   "source": [
    "# 문자열, 리스트, 튜플, 딕서너리에서도 사용 가능\n",
    "print(len(su))\n",
    "print(max(su))\n",
    "print(sorted(su))\n",
    "print(sorted(su, reverse=True))"
   ]
  },
  {
   "cell_type": "code",
   "execution_count": 34,
   "id": "30ede412-bb06-4157-a69f-85ded19e1760",
   "metadata": {},
   "outputs": [],
   "source": [
    "# 차이점\n",
    "# su.sort() : 원본 데이터 영향을 준다\n",
    "# sorted(su) : 원본 데이터 영향을 안 준다\n",
    "\n",
    "# su=[1, 2, 3, 4, 5, 1, 2, 3, 4, 1]\n",
    "# su.sort()\n",
    "# su\n",
    "\n",
    "# val=[1, 2, 3, 4, 5, 1, 2, 3, 4, 1]\n",
    "# result=sorted(val)\n",
    "# result\n",
    "# val"
   ]
  },
  {
   "cell_type": "code",
   "execution_count": 24,
   "id": "3bf049b6-c54a-4b21-9db8-85d4a9d5515d",
   "metadata": {},
   "outputs": [
    {
     "name": "stdout",
     "output_type": "stream",
     "text": [
      "True\n",
      "False\n"
     ]
    }
   ],
   "source": [
    "# in / not in 연산자\n",
    "print(4 in su)\n",
    "print(4 not in su)"
   ]
  },
  {
   "cell_type": "markdown",
   "id": "2a6fc402-78e4-45f6-a4a9-ec6fbe5d35c9",
   "metadata": {},
   "source": [
    "## Tuple \n",
    "* 읽기 전용 List\n",
    "* 선언\n",
    "* 함수\n",
    "* 활용"
   ]
  },
  {
   "cell_type": "code",
   "execution_count": 28,
   "id": "d541e993-f5e1-4805-b2fd-3fd824ac9ea1",
   "metadata": {},
   "outputs": [
    {
     "name": "stdout",
     "output_type": "stream",
     "text": [
      "(1, 2, 'a', 'b') <class 'tuple'>\n"
     ]
    }
   ],
   "source": [
    "a=(1, 2, 'a', 'b')\n",
    "print(a, type(a))"
   ]
  },
  {
   "cell_type": "code",
   "execution_count": 29,
   "id": "82c8b11b-1bf5-4d61-8c46-70d221399279",
   "metadata": {},
   "outputs": [
    {
     "name": "stdout",
     "output_type": "stream",
     "text": [
      "1 <class 'int'>\n"
     ]
    }
   ],
   "source": [
    "b=(1)\n",
    "print(b, type(b))"
   ]
  },
  {
   "cell_type": "markdown",
   "id": "a01254de-9676-49ea-89c5-85c95c334c6d",
   "metadata": {},
   "source": [
    "1+2 == (1+2)<br>\n",
    "1  == (1) <br>\n",
    "그래서 전통적인 수학의 괄호와 구분하기 위해 컴마를 작성"
   ]
  },
  {
   "cell_type": "code",
   "execution_count": 30,
   "id": "031d95af-98f6-4a6b-89cd-7fc796ebb7a6",
   "metadata": {},
   "outputs": [
    {
     "name": "stdout",
     "output_type": "stream",
     "text": [
      "(1,) <class 'tuple'>\n"
     ]
    }
   ],
   "source": [
    "c=(1,)         \n",
    "print(c, type(c))"
   ]
  },
  {
   "cell_type": "code",
   "execution_count": 33,
   "id": "c72410d3-5a50-4ea3-ad99-02265a63cf95",
   "metadata": {},
   "outputs": [
    {
     "name": "stdout",
     "output_type": "stream",
     "text": [
      "(1, 2, 3, 4) <class 'tuple'>\n"
     ]
    }
   ],
   "source": [
    "d=1,2,3,4\n",
    "print(d, type(d))"
   ]
  },
  {
   "cell_type": "code",
   "execution_count": 35,
   "id": "1a9b8046-ee82-4172-aa8f-785a552fed93",
   "metadata": {},
   "outputs": [
    {
     "name": "stdout",
     "output_type": "stream",
     "text": [
      "1\n",
      "(2, 3)\n"
     ]
    }
   ],
   "source": [
    "# indexing & slicing\n",
    "print(d[0])\n",
    "print(d[1:3])"
   ]
  },
  {
   "cell_type": "code",
   "execution_count": 9,
   "id": "c6ed90f0-8ace-41d6-8f3a-2e967df75f02",
   "metadata": {},
   "outputs": [
    {
     "name": "stdout",
     "output_type": "stream",
     "text": [
      "('ab', 'cd')\n",
      "ab\n",
      "cd\n"
     ]
    }
   ],
   "source": [
    "e=('a', 'b', ('ab', 'cd'))\n",
    "print(e[2])\n",
    "print(e[2][0])\n",
    "print(e[2][1])"
   ]
  },
  {
   "cell_type": "code",
   "execution_count": 36,
   "id": "ce9101d6-eb68-430b-950d-9c73a59fcc81",
   "metadata": {},
   "outputs": [
    {
     "name": "stdout",
     "output_type": "stream",
     "text": [
      "(3, 4, 5, 6)\n",
      "(5, 6, 5, 6, 5, 6)\n"
     ]
    }
   ],
   "source": [
    "# 연산\n",
    "x=(3, 4)\n",
    "y=(5, 6)\n",
    "print(x + y)\n",
    "print(y * 3)"
   ]
  },
  {
   "cell_type": "code",
   "execution_count": 40,
   "id": "77090184-a24e-4ceb-beb8-bc54a6b655a8",
   "metadata": {},
   "outputs": [
    {
     "name": "stdout",
     "output_type": "stream",
     "text": [
      "5\n",
      "2\n",
      "7\n",
      "60 10\n",
      "[10, 10, 20, 30, 40, 50, 60]\n",
      "[60, 50, 40, 30, 20, 10, 10]\n",
      "True\n"
     ]
    }
   ],
   "source": [
    "# 튜플 함수\n",
    "z=(10, 20, 30, 40, 10, 50, 60)\n",
    "print(z.index(50))\n",
    "print(z.count(10))\n",
    "\n",
    "# 내장함수\n",
    "print(len(z))\n",
    "print(max(z), min(z))\n",
    "print(sorted(z))\n",
    "print(sorted(z, reverse=True))\n",
    "print(10 in z)\n",
    "print(10 not in z)"
   ]
  },
  {
   "cell_type": "code",
   "execution_count": 42,
   "id": "c983d9e7-e5eb-4e32-a7c5-3b96f73a5590",
   "metadata": {},
   "outputs": [
    {
     "name": "stdout",
     "output_type": "stream",
     "text": [
      "(1, 2, 3) <class 'tuple'>\n",
      "1 <class 'int'>\n",
      "2 3\n"
     ]
    }
   ],
   "source": [
    "# 튜플 활용 - packing, unpacking\n",
    "su=(1, 2, 3)           # packing : 하나의 변수에 여러개의 값을 넣는것\n",
    "one, two, three=su     # unpacking : 패킹된 변수에서 여러개의 값을 꺼내 오는것\n",
    "print(su, type(su))\n",
    "print(one, type(one))\n",
    "print(two, three)"
   ]
  },
  {
   "cell_type": "code",
   "execution_count": 44,
   "id": "91763a80-6cc8-416c-b845-3423228d5550",
   "metadata": {},
   "outputs": [
    {
     "name": "stdout",
     "output_type": "stream",
     "text": [
      "Seoul 37.541 126.986\n"
     ]
    }
   ],
   "source": [
    "# 예 1) 여러개의 변수 선언시 \n",
    "city, lat, long=('Seoul', 37.541, 126.986)   # 괄호 생략 가능\n",
    "print(city, lat, long)"
   ]
  },
  {
   "cell_type": "code",
   "execution_count": 45,
   "id": "603c1894-851a-4feb-8db7-05b528bc5ef0",
   "metadata": {},
   "outputs": [
    {
     "name": "stdout",
     "output_type": "stream",
     "text": [
      "5 10\n",
      "10 5\n"
     ]
    }
   ],
   "source": [
    "# 예2) 값 치환\n",
    "x=5\n",
    "y=10\n",
    "print(x, y)\n",
    "\n",
    "imsi=x\n",
    "x=y\n",
    "y=imsi\n",
    "print(x, y)"
   ]
  },
  {
   "cell_type": "code",
   "execution_count": 46,
   "id": "1a43707a-d51b-4b7a-96ce-5adef7b289bf",
   "metadata": {},
   "outputs": [
    {
     "name": "stdout",
     "output_type": "stream",
     "text": [
      "5 10\n"
     ]
    }
   ],
   "source": [
    "x, y=y, x\n",
    "print(x, y)"
   ]
  },
  {
   "cell_type": "markdown",
   "id": "e0aabb99-3239-46fc-ae2e-0d3b1a85f688",
   "metadata": {},
   "source": [
    "## Dictionary \n",
    "* key, value 구성되어 탐색 속도 빠르다.\n",
    "* 선언, 추가, 삭제, 수정\n",
    "* 서로 다른 자료형의 Key-Value\n",
    "* 함수\n",
    "* 병합"
   ]
  },
  {
   "cell_type": "code",
   "execution_count": 40,
   "id": "285c266c-d358-46f3-ade2-9d6ce206d17d",
   "metadata": {},
   "outputs": [
    {
     "name": "stdout",
     "output_type": "stream",
     "text": [
      "{'name': '홍길동', 'phone': '010-123-1234', 'birth': '2004-12-25'}\n",
      "<class 'dict'>\n",
      "홍길동\n"
     ]
    }
   ],
   "source": [
    "# 선언\n",
    "dic={\"name\":\"홍길동\", \"phone\":\"010-123-1234\", \"birth\":\"2004-12-25\"}\n",
    "print(dic)\n",
    "print(type(dic))\n",
    "print(dic[\"name\"])"
   ]
  },
  {
   "cell_type": "code",
   "execution_count": 42,
   "id": "dbea2f42-bbe3-43fc-aaf8-22fdb1d48d09",
   "metadata": {},
   "outputs": [
    {
     "data": {
      "text/plain": [
       "{'name': '홍길동',\n",
       " 'phone': '010-5555-6666',\n",
       " 'birth': '2004-12-25',\n",
       " 'addr': '서울시 강남구'}"
      ]
     },
     "execution_count": 42,
     "metadata": {},
     "output_type": "execute_result"
    }
   ],
   "source": [
    "# 추가, 수정, 삭제\n",
    "dic[\"addr\"]=\"서울시 강남구\"\n",
    "dic[\"phone\"]=\"010-5555-6666\"\n",
    "dic"
   ]
  },
  {
   "cell_type": "code",
   "execution_count": 44,
   "id": "a1644df7-7373-4be3-abee-36b0aeff28db",
   "metadata": {},
   "outputs": [
    {
     "data": {
      "text/plain": [
       "{'name': '홍길동', 'phone': '010-5555-6666', 'birth': '2004-12-25'}"
      ]
     },
     "execution_count": 44,
     "metadata": {},
     "output_type": "execute_result"
    }
   ],
   "source": [
    "del dic[\"addr\"]\n",
    "dic"
   ]
  },
  {
   "cell_type": "code",
   "execution_count": 58,
   "id": "01d74513-c33d-42ab-9694-0a95994cfe93",
   "metadata": {},
   "outputs": [
    {
     "data": {
      "text/plain": [
       "{'name': 'pengsoo', 'su': [1, 2, 3], 'value': (1, 2, 3, 4, 5)}"
      ]
     },
     "execution_count": 58,
     "metadata": {},
     "output_type": "execute_result"
    }
   ],
   "source": [
    "# 서로 다른 컬력션 자료형\n",
    "narr={\"name\":\"pengsoo\", \"su\":[1, 2, 3], \"value\":(1, 2, 3, 4, 5)}\n",
    "narr"
   ]
  },
  {
   "cell_type": "code",
   "execution_count": 60,
   "id": "045c9697-31f7-4b78-a438-fd64c54e46b1",
   "metadata": {},
   "outputs": [
    {
     "data": {
      "text/plain": [
       "[1, 2, 3]"
      ]
     },
     "execution_count": 60,
     "metadata": {},
     "output_type": "execute_result"
    }
   ],
   "source": [
    "my_list=narr[\"su\"]        # narry.get(\"su\")\n",
    "my_list"
   ]
  },
  {
   "cell_type": "code",
   "execution_count": 62,
   "id": "9145e3af-915e-416b-9a06-e2ecc45f07df",
   "metadata": {},
   "outputs": [
    {
     "data": {
      "text/plain": [
       "(1, 2, 3, 4, 5)"
      ]
     },
     "execution_count": 62,
     "metadata": {},
     "output_type": "execute_result"
    }
   ],
   "source": [
    "my_tuple=narr[\"value\"]    # narry.get(\"value\")\n",
    "my_tuple"
   ]
  },
  {
   "cell_type": "code",
   "execution_count": 64,
   "id": "7b8fa2f7-3830-4254-ae5e-eb08f20d9a25",
   "metadata": {},
   "outputs": [
    {
     "name": "stdout",
     "output_type": "stream",
     "text": [
      "key 검색: 홍길동\n",
      "key 전체 출력: dict_keys(['name', 'phone', 'birth'])\n",
      "value 전체 출력: dict_values(['홍길동', '010-5555-6666', '2004-12-25'])\n",
      "key & value 전체 출력: dict_items([('name', '홍길동'), ('phone', '010-5555-6666'), ('birth', '2004-12-25')])\n"
     ]
    }
   ],
   "source": [
    "# dic 함수\n",
    "print(\"key 검색:\",  dic.get(\"name\"))      # dic.get(\"name\", \"defalut\")\n",
    "print(\"key 전체 출력:\",  dic.keys())\n",
    "print(\"value 전체 출력:\",  dic.values())\n",
    "print(\"key & value 전체 출력:\",  dic.items())"
   ]
  },
  {
   "cell_type": "code",
   "execution_count": 66,
   "id": "2bc99b97-f0b1-451f-9cb1-736c485e7220",
   "metadata": {},
   "outputs": [
    {
     "name": "stdout",
     "output_type": "stream",
     "text": [
      "<class 'dict_keys'>\n",
      "<class 'dict_values'>\n",
      "<class 'dict_items'>\n"
     ]
    }
   ],
   "source": [
    "print(type(dic.keys()))\n",
    "print(type(dic.values()))\n",
    "print(type(dic.items()))"
   ]
  },
  {
   "cell_type": "code",
   "execution_count": 68,
   "id": "d0e7c6c9-1a19-459d-954e-07cd36e4bc58",
   "metadata": {},
   "outputs": [
    {
     "data": {
      "text/plain": [
       "['name', 'phone', 'birth']"
      ]
     },
     "execution_count": 68,
     "metadata": {},
     "output_type": "execute_result"
    }
   ],
   "source": [
    "key=list(dic.keys())          # tuple(dic.keys())\n",
    "key"
   ]
  },
  {
   "cell_type": "code",
   "execution_count": 70,
   "id": "5f635dd8-4858-4503-8164-e1c80401a619",
   "metadata": {},
   "outputs": [
    {
     "data": {
      "text/plain": [
       "['홍길동', '010-5555-6666', '2004-12-25']"
      ]
     },
     "execution_count": 70,
     "metadata": {},
     "output_type": "execute_result"
    }
   ],
   "source": [
    "value=list(dic.values())      # tuple(dic.values())\n",
    "value "
   ]
  },
  {
   "cell_type": "code",
   "execution_count": 72,
   "id": "882accb0-24ab-41d7-a477-c97647dedc10",
   "metadata": {},
   "outputs": [
    {
     "data": {
      "text/plain": [
       "[('name', '홍길동'), ('phone', '010-5555-6666'), ('birth', '2004-12-25')]"
      ]
     },
     "execution_count": 72,
     "metadata": {},
     "output_type": "execute_result"
    }
   ],
   "source": [
    "items=list(dic.items())       \n",
    "items"
   ]
  },
  {
   "cell_type": "code",
   "execution_count": 74,
   "id": "646d766d-6494-41ed-a169-d9f762ca79d8",
   "metadata": {},
   "outputs": [
    {
     "data": {
      "text/plain": [
       "('name', '홍길동')"
      ]
     },
     "execution_count": 74,
     "metadata": {},
     "output_type": "execute_result"
    }
   ],
   "source": [
    "item=tuple(items[0])\n",
    "item"
   ]
  },
  {
   "cell_type": "code",
   "execution_count": 76,
   "id": "13ffad59-70fa-47c0-aaa9-88ae5669fcba",
   "metadata": {},
   "outputs": [
    {
     "data": {
      "text/plain": [
       "{}"
      ]
     },
     "execution_count": 76,
     "metadata": {},
     "output_type": "execute_result"
    }
   ],
   "source": [
    "dic.clear()    #  전체 삭제\n",
    "dic"
   ]
  },
  {
   "cell_type": "code",
   "execution_count": 78,
   "id": "2b156bd8-965c-4e08-bf8d-dafbbe02b889",
   "metadata": {},
   "outputs": [
    {
     "data": {
      "text/plain": [
       "{'name': '펭수', 'key': 210, 'job': 'EBS 연습생'}"
      ]
     },
     "execution_count": 78,
     "metadata": {},
     "output_type": "execute_result"
    }
   ],
   "source": [
    "# 병합 \n",
    "a={\"name\":\"펭수\", \"key\":210}\n",
    "b={\"job\":\"EBS 연습생\"}\n",
    "a.update(b)\n",
    "a"
   ]
  },
  {
   "cell_type": "code",
   "execution_count": 79,
   "id": "23794833-15a6-4631-9ead-ea8ac56f3cc5",
   "metadata": {},
   "outputs": [
    {
     "name": "stdout",
     "output_type": "stream",
     "text": [
      "True\n",
      "False\n"
     ]
    }
   ],
   "source": [
    "# in /not in 연산자\n",
    "print(\"name\" in a)\n",
    "print(\"key\" not in a)"
   ]
  },
  {
   "cell_type": "markdown",
   "id": "6ce2dba4-f6c8-4a38-8e0a-e7f789b2c2c2",
   "metadata": {},
   "source": [
    "## Set \n",
    "* 중복 요소를 포함하지 않는다.\n",
    "  - 게시판에 댓글을 작성할때, 같은 사람이 여러번 중복해서 댓글을 작성한 경우 set을 사용하여 댓글을 제거\n",
    "  - 각 상품의 고유한 ID를 저장하고 중복된 ID가 있는지 검색 가능\n",
    "* 선언\n",
    "* 함수"
   ]
  },
  {
   "cell_type": "code",
   "execution_count": 84,
   "id": "d75e7c20-6ea8-4f57-b7d2-29bb0ae6a01c",
   "metadata": {},
   "outputs": [
    {
     "name": "stdout",
     "output_type": "stream",
     "text": [
      "{'C', 'E', 'D', 'A', 'B'}\n",
      "<class 'set'>\n"
     ]
    }
   ],
   "source": [
    "a={\"A\", \"B\", \"C\", \"D\", \"E\"}    # value 없는 dic 닮았다. \n",
    "print(a)\n",
    "print(type(a))"
   ]
  },
  {
   "cell_type": "code",
   "execution_count": 86,
   "id": "54af2587-30b8-477e-ac92-1172b468125c",
   "metadata": {},
   "outputs": [
    {
     "name": "stdout",
     "output_type": "stream",
     "text": [
      "{'A', 'C', 'B'} <class 'set'>\n",
      "{'A', 'C', 'B'} <class 'set'>\n",
      "{'l', 'o', 'e', 'H'} <class 'set'>\n"
     ]
    }
   ],
   "source": [
    "# 리스트를 입력하여 선언\n",
    "b=set([\"A\", \"B\", \"C\"])\n",
    "print(b, type(b))\n",
    "\n",
    "# 튜플을 입력하여 선언\n",
    "c=set((\"A\", \"B\", \"C\"))\n",
    "print(c, type(c))\n",
    "\n",
    "# 문자열을 입력하여 선언\n",
    "d=set(\"Hello\")\n",
    "print(d, type(d))"
   ]
  },
  {
   "cell_type": "code",
   "execution_count": 88,
   "id": "a11c4c05-e3f2-4c9d-84e5-2f0c424a8bc4",
   "metadata": {},
   "outputs": [
    {
     "data": {
      "text/plain": [
       "{'B', 'C', 'D', 'E', 'F'}"
      ]
     },
     "execution_count": 88,
     "metadata": {},
     "output_type": "execute_result"
    }
   ],
   "source": [
    "# 함수 : 추가, 삭제\n",
    "a.add(\"F\")\n",
    "a\n",
    "\n",
    "a.remove(\"A\")\n",
    "a"
   ]
  },
  {
   "cell_type": "code",
   "execution_count": 90,
   "id": "016470db-2409-41fd-8986-63eba3606dee",
   "metadata": {},
   "outputs": [
    {
     "data": {
      "text/plain": [
       "{'A', 'B', 'C', 'D', 'E', 'F'}"
      ]
     },
     "execution_count": 90,
     "metadata": {},
     "output_type": "execute_result"
    }
   ],
   "source": [
    "# 병합\n",
    "a.update(b)      # 중복허용 안함\n",
    "a"
   ]
  },
  {
   "cell_type": "code",
   "execution_count": 92,
   "id": "cadad41d-1f83-4a3f-9ef0-f1df92e3cdea",
   "metadata": {},
   "outputs": [
    {
     "data": {
      "text/plain": [
       "['D', 'A']"
      ]
     },
     "execution_count": 92,
     "metadata": {},
     "output_type": "execute_result"
    }
   ],
   "source": [
    "# 데이터 추출\n",
    "my_list=list(a)\n",
    "my_list\n",
    "my_list[0]\n",
    "my_list[1:3]"
   ]
  },
  {
   "cell_type": "markdown",
   "id": "2415a883-a65b-4ced-86a2-91b92f0dfe9b",
   "metadata": {},
   "source": [
    "# 제어문\n",
    "* 특징\n",
    "  - 첫 명령어는 들여쓰기 없이 시작해야 한다.\n",
    "  - 조건문, 반복문 등의 문법을 사용할 때는 콜론(:)으로 명령어 끝을 알린다.\n",
    "  - 콜론(:)의 다음 줄 부터는 들여쓰기의 간격이 모두 일정해야 한다.\n",
    "* 종류\n",
    "  - 조건문 : if, if ~ else, if ~ elif\n",
    "  - 반복문 : while, for\n",
    "  - 흐름 제어 : break, continue"
   ]
  },
  {
   "cell_type": "markdown",
   "id": "5dd6db1e-77bf-4a9d-aa3c-27ce1556a04d",
   "metadata": {},
   "source": [
    "## 조건문"
   ]
  },
  {
   "cell_type": "markdown",
   "id": "6b157cbc-b53a-40ca-8e3f-e876731201a8",
   "metadata": {},
   "source": [
    "### if"
   ]
  },
  {
   "cell_type": "code",
   "execution_count": 108,
   "id": "16d72449-e7dc-4ab4-9d0c-b4a930bf9de8",
   "metadata": {},
   "outputs": [
    {
     "name": "stdout",
     "output_type": "stream",
     "text": [
      "10보다 큰 수 입니다.\n",
      "end\n"
     ]
    }
   ],
   "source": [
    "# if\n",
    "x=15\n",
    "if x > 10 :\n",
    "    print(\"10보다 큰 수 입니다.\")\n",
    "print(\"end\")"
   ]
  },
  {
   "cell_type": "code",
   "execution_count": 109,
   "id": "1b7cb4fe-529b-488e-8355-15d172bfdcec",
   "metadata": {},
   "outputs": [
    {
     "name": "stdout",
     "output_type": "stream",
     "text": [
      "220\n"
     ]
    }
   ],
   "source": [
    "y=20\n",
    "if y > 10 and y < 30:\n",
    "    y += 200\n",
    "    print(y)"
   ]
  },
  {
   "cell_type": "code",
   "execution_count": 110,
   "id": "9cb6c5dd-53a5-464c-a937-4163f859daf3",
   "metadata": {},
   "outputs": [
    {
     "name": "stdout",
     "output_type": "stream",
     "text": [
      "짝수입니다\n"
     ]
    }
   ],
   "source": [
    "su=60\n",
    "if su%2==0:\n",
    "    print(\"짝수입니다\")\n",
    "\n",
    "if su%2!=0:\n",
    "    print(\"홀수입니다\")"
   ]
  },
  {
   "cell_type": "markdown",
   "id": "86e94edf-f57f-4532-86b0-80f8a21533dc",
   "metadata": {},
   "source": [
    "### if ~ else"
   ]
  },
  {
   "cell_type": "code",
   "execution_count": 99,
   "id": "2e7482c9-04f9-431a-bace-00e6ca094c2f",
   "metadata": {},
   "outputs": [
    {
     "name": "stdout",
     "output_type": "stream",
     "text": [
      "짝수입니다\n"
     ]
    }
   ],
   "source": [
    "# if ~ else\n",
    "num=100\n",
    "if num%2==0:\n",
    "    print(\"짝수입니다\")\n",
    "else:\n",
    "    print(\"홀수입니다\")"
   ]
  },
  {
   "cell_type": "code",
   "execution_count": 101,
   "id": "b8d94dbc-8d7f-41f0-9e62-a943918a4c34",
   "metadata": {},
   "outputs": [
    {
     "name": "stdout",
     "output_type": "stream",
     "text": [
      "양수 200\n"
     ]
    }
   ],
   "source": [
    "if num > 0:\n",
    "    num += 100\n",
    "    print(\"양수 %d\" %(num))\n",
    "else:\n",
    "    num *=200\n",
    "    print(\"음수 %d\" %(num))"
   ]
  },
  {
   "cell_type": "markdown",
   "id": "3ca00409-2039-44ca-a8c3-fce430547712",
   "metadata": {},
   "source": [
    "### if ~ elif"
   ]
  },
  {
   "cell_type": "code",
   "execution_count": 115,
   "id": "6dce3d45-39a7-4a44-9bd3-f66d8146eb10",
   "metadata": {},
   "outputs": [
    {
     "name": "stdout",
     "output_type": "stream",
     "text": [
      "버스를 이용하세요\n"
     ]
    }
   ],
   "source": [
    "# moeny가 3천원 이상 있으면 택시, 2천원 이상 있으면 버스, 2천원 미만이면 도보\n",
    "money=2000\n",
    "if money >= 3000:\n",
    "    print(\"택시를 이용하세요\")\n",
    "elif money >= 2000:\n",
    "    print(\"버스를 이용하세요\")\n",
    "elif money < 2000:\n",
    "    print(\"도보를 이용하세요\")"
   ]
  },
  {
   "cell_type": "code",
   "execution_count": 117,
   "id": "5b2706dc-682d-4964-9751-1d9d17f3271d",
   "metadata": {},
   "outputs": [
    {
     "name": "stdout",
     "output_type": "stream",
     "text": [
      "A등급\n"
     ]
    }
   ],
   "source": [
    "# jumsu 90점이상 A등급, 80점이상 B등급, 70점이상 C등급\n",
    "jumsu=90\n",
    "if jumsu >= 90:\n",
    "    print(\"A등급\")\n",
    "elif jumsu >= 80:\n",
    "    print(\"B등급\")\n",
    "elif jumsu >= 70:\n",
    "    print(\"C등급\")\n",
    "else:\n",
    "    print(\"D등급\")"
   ]
  },
  {
   "cell_type": "markdown",
   "id": "6c9f5b50-960b-4c22-a185-e65971f45b3d",
   "metadata": {},
   "source": [
    "### 중첩 if"
   ]
  },
  {
   "cell_type": "code",
   "execution_count": 121,
   "id": "9c3de79d-cc22-46ee-a87b-46cca54edf5b",
   "metadata": {},
   "outputs": [
    {
     "name": "stdout",
     "output_type": "stream",
     "text": [
      "84 B0\n"
     ]
    }
   ],
   "source": [
    "score=84\n",
    "grade=None\n",
    "\n",
    "if score >= 90:\n",
    "    if score >=97:\n",
    "        grade=\"A+\"\n",
    "    elif score >=94 and score <=96:\n",
    "        grade=\"A0\"\n",
    "    elif score <= 93:\n",
    "        grade=\"A-\"\n",
    "elif score >=80:\n",
    "    if score >=87:\n",
    "        gradd=\"B+\"\n",
    "    elif score >=84 and score <=86:\n",
    "        grade=\"B0\"\n",
    "    elif score <= 83:\n",
    "        grade=\"B-\"\n",
    "elif score >=70:\n",
    "    if score >=77:\n",
    "        gradd=\"C+\"\n",
    "    elif score >=74 and score <=76:\n",
    "        grade=\"C0\"\n",
    "    elif score <= 73:\n",
    "        grade=\"C-\"\n",
    "elif score < 70:\n",
    "    grade=\"재수강\"\n",
    "\n",
    "print(score, grade)"
   ]
  },
  {
   "cell_type": "markdown",
   "id": "69fd20b0-f688-4ca8-9b46-37a780349f8d",
   "metadata": {},
   "source": [
    "## 반복문"
   ]
  },
  {
   "cell_type": "markdown",
   "id": "88932c84-e0f4-4558-bdc7-b8afd048d335",
   "metadata": {},
   "source": [
    "### for\n",
    "* range(start, end, step)"
   ]
  },
  {
   "cell_type": "code",
   "execution_count": 108,
   "id": "5a9b81fb-7001-4bae-a8b7-935dcbf85571",
   "metadata": {},
   "outputs": [
    {
     "name": "stdout",
     "output_type": "stream",
     "text": [
      "range(0, 10)\n",
      "[0, 1, 2, 3, 4, 5, 6, 7, 8, 9]\n"
     ]
    }
   ],
   "source": [
    "a=range(0, 10, 1)\n",
    "print(a)\n",
    "print(list(a))"
   ]
  },
  {
   "cell_type": "code",
   "execution_count": 128,
   "id": "780b1b03-34d1-4077-bb07-b7e35303d48f",
   "metadata": {},
   "outputs": [
    {
     "data": {
      "text/plain": [
       "[0, 1, 2, 3, 4, 5, 6, 7, 8, 9]"
      ]
     },
     "execution_count": 128,
     "metadata": {},
     "output_type": "execute_result"
    }
   ],
   "source": [
    "list(range(10))"
   ]
  },
  {
   "cell_type": "code",
   "execution_count": 110,
   "id": "9376b46e-eae1-4966-9c67-8d70b881613c",
   "metadata": {},
   "outputs": [
    {
     "data": {
      "text/plain": [
       "[1, 2, 3, 4, 5, 6, 7, 8, 9]"
      ]
     },
     "execution_count": 110,
     "metadata": {},
     "output_type": "execute_result"
    }
   ],
   "source": [
    "list(range(1, 10))"
   ]
  },
  {
   "cell_type": "code",
   "execution_count": 112,
   "id": "fb3cc464-7ebe-45ad-aaec-b711fec41b06",
   "metadata": {},
   "outputs": [
    {
     "data": {
      "text/plain": [
       "[5, 7, 9, 11, 13, 15, 17, 19]"
      ]
     },
     "execution_count": 112,
     "metadata": {},
     "output_type": "execute_result"
    }
   ],
   "source": [
    "list(range(5, 20, 2))"
   ]
  },
  {
   "cell_type": "code",
   "execution_count": 114,
   "id": "af56ee00-1647-4009-ab72-9b37c36d7402",
   "metadata": {},
   "outputs": [
    {
     "data": {
      "text/plain": [
       "[10, 9, 8, 7, 6, 5, 4, 3, 2, 1]"
      ]
     },
     "execution_count": 114,
     "metadata": {},
     "output_type": "execute_result"
    }
   ],
   "source": [
    "list(range(10, 0, -1))"
   ]
  },
  {
   "cell_type": "code",
   "execution_count": 134,
   "id": "6d286b25-3cf9-4a4d-bbb2-f0c8619fdfeb",
   "metadata": {},
   "outputs": [
    {
     "name": "stdout",
     "output_type": "stream",
     "text": [
      "1 2 3 4 5 6 7 8 9 10 "
     ]
    }
   ],
   "source": [
    "# 1~10 출력\n",
    "for i in range(1, 11, 1):\n",
    "    print(i, end=' ')"
   ]
  },
  {
   "cell_type": "code",
   "execution_count": 138,
   "id": "2ff51333-d0cc-4a23-b264-b10c53ac9d2e",
   "metadata": {},
   "outputs": [
    {
     "data": {
      "text/plain": [
       "30"
      ]
     },
     "execution_count": 138,
     "metadata": {},
     "output_type": "execute_result"
    }
   ],
   "source": [
    "# 1~10 짝수의합\n",
    "sum=0\n",
    "for i in range(1, 11):\n",
    "    if i%2==0:\n",
    "        sum += i\n",
    "sum"
   ]
  },
  {
   "cell_type": "code",
   "execution_count": 142,
   "id": "4b4627b9-a0b6-424b-a708-154b0b84ffb7",
   "metadata": {},
   "outputs": [
    {
     "name": "stdout",
     "output_type": "stream",
     "text": [
      "2 * 1 = 2\n",
      "2 * 2 = 4\n",
      "2 * 3 = 6\n",
      "2 * 4 = 8\n",
      "2 * 5 = 10\n",
      "2 * 6 = 12\n",
      "2 * 7 = 14\n",
      "2 * 8 = 16\n",
      "2 * 9 = 18\n"
     ]
    }
   ],
   "source": [
    "# 구구단 2단 출력\n",
    "dan=2\n",
    "for i in range(1, 10):\n",
    "    print(\"%d * %d = %d\" %(dan, i, dan*i))"
   ]
  },
  {
   "cell_type": "markdown",
   "id": "d61406cc-0eee-45ee-8db8-748f66ed7942",
   "metadata": {},
   "source": [
    "### 다중 for"
   ]
  },
  {
   "cell_type": "code",
   "execution_count": 2,
   "id": "0f5b3951-6921-4569-85ef-88cd9a27210a",
   "metadata": {},
   "outputs": [
    {
     "name": "stdout",
     "output_type": "stream",
     "text": [
      "1 1\n",
      "1 2\n",
      "1 3\n",
      "1 4\n",
      "1 5\n",
      "\n",
      "2 1\n",
      "2 2\n",
      "2 3\n",
      "2 4\n",
      "2 5\n",
      "\n",
      "3 1\n",
      "3 2\n",
      "3 3\n",
      "3 4\n",
      "3 5\n",
      "\n"
     ]
    }
   ],
   "source": [
    "for i in range(1, 4):            # 1, 2, 3\n",
    "    for j in range(1, 6):        # 12345\n",
    "        print(\"%d %d\" %(i, j))\n",
    "    print()"
   ]
  },
  {
   "cell_type": "code",
   "execution_count": 5,
   "id": "d3834bec-9e9a-4d1d-a9e3-ef539448a651",
   "metadata": {},
   "outputs": [
    {
     "name": "stdout",
     "output_type": "stream",
     "text": [
      "2 * 1 = 2\n",
      "2 * 2 = 4\n",
      "2 * 3 = 6\n",
      "2 * 4 = 8\n",
      "2 * 5 = 10\n",
      "2 * 6 = 12\n",
      "2 * 7 = 14\n",
      "2 * 8 = 16\n",
      "2 * 9 = 18\n",
      "\n",
      "3 * 1 = 3\n",
      "3 * 2 = 6\n",
      "3 * 3 = 9\n",
      "3 * 4 = 12\n",
      "3 * 5 = 15\n",
      "3 * 6 = 18\n",
      "3 * 7 = 21\n",
      "3 * 8 = 24\n",
      "3 * 9 = 27\n",
      "\n",
      "4 * 1 = 4\n",
      "4 * 2 = 8\n",
      "4 * 3 = 12\n",
      "4 * 4 = 16\n",
      "4 * 5 = 20\n",
      "4 * 6 = 24\n",
      "4 * 7 = 28\n",
      "4 * 8 = 32\n",
      "4 * 9 = 36\n",
      "\n",
      "5 * 1 = 5\n",
      "5 * 2 = 10\n",
      "5 * 3 = 15\n",
      "5 * 4 = 20\n",
      "5 * 5 = 25\n",
      "5 * 6 = 30\n",
      "5 * 7 = 35\n",
      "5 * 8 = 40\n",
      "5 * 9 = 45\n",
      "\n",
      "6 * 1 = 6\n",
      "6 * 2 = 12\n",
      "6 * 3 = 18\n",
      "6 * 4 = 24\n",
      "6 * 5 = 30\n",
      "6 * 6 = 36\n",
      "6 * 7 = 42\n",
      "6 * 8 = 48\n",
      "6 * 9 = 54\n",
      "\n",
      "7 * 1 = 7\n",
      "7 * 2 = 14\n",
      "7 * 3 = 21\n",
      "7 * 4 = 28\n",
      "7 * 5 = 35\n",
      "7 * 6 = 42\n",
      "7 * 7 = 49\n",
      "7 * 8 = 56\n",
      "7 * 9 = 63\n",
      "\n",
      "8 * 1 = 8\n",
      "8 * 2 = 16\n",
      "8 * 3 = 24\n",
      "8 * 4 = 32\n",
      "8 * 5 = 40\n",
      "8 * 6 = 48\n",
      "8 * 7 = 56\n",
      "8 * 8 = 64\n",
      "8 * 9 = 72\n",
      "\n",
      "9 * 1 = 9\n",
      "9 * 2 = 18\n",
      "9 * 3 = 27\n",
      "9 * 4 = 36\n",
      "9 * 5 = 45\n",
      "9 * 6 = 54\n",
      "9 * 7 = 63\n",
      "9 * 8 = 72\n",
      "9 * 9 = 81\n",
      "\n"
     ]
    }
   ],
   "source": [
    "# 구구단\n",
    "for i in range(2, 10):\n",
    "    for j in range(1, 10):\n",
    "        print(\"%d * %d = %d\" %(i,j, i*j))\n",
    "    print()"
   ]
  },
  {
   "cell_type": "markdown",
   "id": "e04dc8ac-f11d-4d94-8420-8e36a4545755",
   "metadata": {},
   "source": [
    "### for - collection\n",
    "* list\n",
    "* set\n",
    "* tupe\n",
    "* dic"
   ]
  },
  {
   "cell_type": "code",
   "execution_count": 130,
   "id": "6ff786a3-052f-43f0-8c53-602590c773e1",
   "metadata": {},
   "outputs": [
    {
     "name": "stdout",
     "output_type": "stream",
     "text": [
      "[11, 12, 13, 'apple', 'banana', 25.7] 11 \n",
      "\n",
      "11\n",
      "12\n",
      "13\n",
      "apple\n",
      "banana\n",
      "25.7\n"
     ]
    }
   ],
   "source": [
    "# list\n",
    "arr=[11, 12, 13, \"apple\", \"banana\", 25.7]\n",
    "print(arr, arr[0], \"\\n\")\n",
    "\n",
    "for value in arr:\n",
    "    print(value)"
   ]
  },
  {
   "cell_type": "code",
   "execution_count": 132,
   "id": "a83b85dc-0e71-4c4d-a067-89904cfac8c6",
   "metadata": {},
   "outputs": [
    {
     "name": "stdout",
     "output_type": "stream",
     "text": [
      "{1, 2, 3, 4} \n",
      "\n",
      "1\n",
      "2\n",
      "3\n",
      "4\n"
     ]
    }
   ],
   "source": [
    "# set\n",
    "su={1, 2, 3, 4}\n",
    "print(su, \"\\n\")\n",
    "\n",
    "for i in su:\n",
    "    print(i)"
   ]
  },
  {
   "cell_type": "code",
   "execution_count": 134,
   "id": "298df8ba-9ba9-48c8-9a5d-189bb9812a4d",
   "metadata": {},
   "outputs": [
    {
     "name": "stdout",
     "output_type": "stream",
     "text": [
      "(1, 2, 3) \n",
      "\n",
      "1\n",
      "2\n",
      "3\n"
     ]
    }
   ],
   "source": [
    "# tuple\n",
    "t=(1, 2, 3)\n",
    "print(t, \"\\n\")\n",
    "\n",
    "for i in t:\n",
    "    print(i)"
   ]
  },
  {
   "cell_type": "code",
   "execution_count": 142,
   "id": "164ccb62-e586-4d58-8a68-dda890608dcc",
   "metadata": {},
   "outputs": [
    {
     "name": "stdout",
     "output_type": "stream",
     "text": [
      "3 6 9 \n",
      " 10\n",
      "11 12 13 25.7 "
     ]
    }
   ],
   "source": [
    "# for 필요한 이유\n",
    "for i in t:\n",
    "    print(i * 3, end=' ')\n",
    "    \n",
    "sum=0\n",
    "for i in su:\n",
    "    sum += i\n",
    "print(\"\\n\", sum)\n",
    "\n",
    "for value in arr:\n",
    "    if isinstance(value, (int, float)):   # 현재 요소가 int 또는 float인지 검사\n",
    "        print(value, end=' ')"
   ]
  },
  {
   "cell_type": "code",
   "execution_count": 23,
   "id": "26a49112-7015-407b-9145-b080170433d5",
   "metadata": {},
   "outputs": [
    {
     "name": "stdout",
     "output_type": "stream",
     "text": [
      "{'펭수': 10, '범이': 10, '임문식': 35}\n",
      "10 \n",
      "\n",
      "펭수\n",
      "범이\n",
      "임문식\n",
      "10\n",
      "10\n",
      "35\n",
      "펭수의 나이는:10\n",
      "범이의 나이는:10\n",
      "임문식의 나이는:35\n"
     ]
    }
   ],
   "source": [
    "# dic\n",
    "ages={\"펭수\":10, \"범이\":10, \"임문식\":35}\n",
    "print(ages)\n",
    "print(ages[\"펭수\"], \"\\n\")      # ages.keys(), ages.values(), ages.items()\n",
    "\n",
    "# key\n",
    "for key in ages.keys():\n",
    "    print(key)\n",
    "    \n",
    "# value\n",
    "for value in ages.values():\n",
    "    print(value)\n",
    "    \n",
    "# key, value\n",
    "for key, value in ages.items():\n",
    "    print(\"{}의 나이는:{}\".format(key, value))"
   ]
  },
  {
   "cell_type": "markdown",
   "id": "ca58e5d9-1d84-4e1f-8a30-bcbb8ca6e7d9",
   "metadata": {},
   "source": [
    "## 반복문"
   ]
  },
  {
   "cell_type": "markdown",
   "id": "631f581f-dc74-42bb-9a5a-852403170420",
   "metadata": {},
   "source": [
    "### while"
   ]
  },
  {
   "cell_type": "code",
   "execution_count": 27,
   "id": "ebfa50b2-5ba5-457a-a6ac-6dc87ed26af3",
   "metadata": {},
   "outputs": [
    {
     "name": "stdout",
     "output_type": "stream",
     "text": [
      "1 2 3 4 5 \n",
      "1 3 5 7 9 "
     ]
    },
    {
     "data": {
      "text/plain": [
       "5050"
      ]
     },
     "execution_count": 27,
     "metadata": {},
     "output_type": "execute_result"
    }
   ],
   "source": [
    "# 1~5까지 출력\n",
    "su=1                      # start\n",
    "while su <= 5:            # end\n",
    "    print(su, end=' ')\n",
    "    su += 1               # step\n",
    "print()\n",
    "\n",
    "# 1~10 까지의 숫자 중에서 홀수만 출력\n",
    "num=1\n",
    "while num <= 10:\n",
    "    if num%2 != 0:\n",
    "        print(num, end=' ')\n",
    "    num += 1\n",
    "\n",
    "# 1 ~ 100 까지의 합\n",
    "i=1\n",
    "sum=0\n",
    "while i <= 100:\n",
    "    sum += i\n",
    "    i += 1\n",
    "sum"
   ]
  },
  {
   "cell_type": "markdown",
   "id": "68e5b37f-dcf0-4b2c-81e7-eb4a3e819642",
   "metadata": {},
   "source": [
    "### 흐름 제어\n",
    "* break, continue"
   ]
  },
  {
   "cell_type": "code",
   "execution_count": 1,
   "id": "f8d60a50-302d-4157-a19a-23ad5f75982d",
   "metadata": {},
   "outputs": [
    {
     "name": "stdout",
     "output_type": "stream",
     "text": [
      "1 2 3 4 \n",
      "1 2 3 4 "
     ]
    }
   ],
   "source": [
    "# break : 반복문에서 break 문장을 만나면 반복문을 빠져 나간다.\n",
    "\n",
    "for i in range(1, 11):\n",
    "    if i == 5:\n",
    "        break\n",
    "    print(i, end=' ')\n",
    "print()\n",
    "\n",
    "cnt=1\n",
    "while cnt <= 10:\n",
    "    if cnt == 5:\n",
    "        break\n",
    "    print(cnt, end=' ')\n",
    "    cnt += 1"
   ]
  },
  {
   "cell_type": "code",
   "execution_count": 15,
   "id": "07cd71d2-8919-400c-b45e-2c07ca67c9b3",
   "metadata": {},
   "outputs": [
    {
     "name": "stdout",
     "output_type": "stream",
     "text": [
      "1 2 3 4 6 7 8 9 10 \n",
      "1 2 3 4 6 7 8 9 10 "
     ]
    }
   ],
   "source": [
    "# continue : 반복문에서 continue 문장을 만나면 반복문을 빠져나가지 않고 맨 처음 조건으로 돌아감\n",
    "\n",
    "for i in range(1, 11):\n",
    "    if i==5:\n",
    "        continue\n",
    "    print(i, end=' ')\n",
    "print()\n",
    "\n",
    "cnt=0\n",
    "while cnt < 10:\n",
    "    cnt += 1\n",
    "    if cnt==5:\n",
    "        continue\n",
    "    print(cnt, end=' ')"
   ]
  },
  {
   "cell_type": "code",
   "execution_count": 24,
   "id": "4560d0ee-5443-4441-b0c4-918a07e3cfdf",
   "metadata": {},
   "outputs": [
    {
     "name": "stdout",
     "output_type": "stream",
     "text": [
      "커피를 제공합니다. 남은돈 29000, 남은커피 9 입니다.\n",
      "커피를 제공합니다. 남은돈 28000, 남은커피 8 입니다.\n",
      "커피를 제공합니다. 남은돈 27000, 남은커피 7 입니다.\n",
      "커피를 제공합니다. 남은돈 26000, 남은커피 6 입니다.\n",
      "커피를 제공합니다. 남은돈 25000, 남은커피 5 입니다.\n",
      "커피를 제공합니다. 남은돈 24000, 남은커피 4 입니다.\n",
      "커피를 제공합니다. 남은돈 23000, 남은커피 3 입니다.\n",
      "커피를 제공합니다. 남은돈 22000, 남은커피 2 입니다.\n",
      "커피를 제공합니다. 남은돈 21000, 남은커피 1 입니다.\n",
      "커피가 다 떨어졌습니다. 판매를 중지합니다.\n"
     ]
    }
   ],
   "source": [
    "# 커피가 10잔(1000원), 돈은 30000원 있음\n",
    "\n",
    "coffee=10\n",
    "money=30000\n",
    "\n",
    "while True:\n",
    "    coffee=coffee - 1        # coffee -= 1 \n",
    "    money=money - 1000       # money -= 1000\n",
    "\n",
    "    if coffee == 0:\n",
    "        print(\"커피가 다 떨어졌습니다. 판매를 중지합니다.\")\n",
    "        break\n",
    "    if money < 1000:\n",
    "        print(\"돈이 다 떨어졌습니다. 판매를 중지합니다.\")\n",
    "        break   \n",
    "        \n",
    "    print(\"커피를 제공합니다. 남은돈 %d, 남은커피 %d 입니다.\" %(money, coffee))"
   ]
  },
  {
   "cell_type": "markdown",
   "id": "9b44bb7b-e310-40a8-9988-092bb366a3e7",
   "metadata": {},
   "source": [
    "### Comprehension (컴프리헨션)\n",
    "* 리스트, 셋, 딕셔너리등 컬력션 타입을 생성하기 위한 간결하고 효율적인 방법\n",
    "* [식 for 변수 in 리스트 if 조건식]\n",
    "* {키:값 for 변수 in 딕셔너리 if 조건식}\n",
    "* {식 for 변수 in 셋 if 조건식}"
   ]
  },
  {
   "cell_type": "markdown",
   "id": "0bb23104-ba35-4140-90c2-89e45bf8b86f",
   "metadata": {},
   "source": [
    "#### List"
   ]
  },
  {
   "cell_type": "code",
   "execution_count": 148,
   "id": "a681c1b8-21c1-4a42-a209-fc4fc80c2242",
   "metadata": {},
   "outputs": [
    {
     "name": "stdout",
     "output_type": "stream",
     "text": [
      "0 1 2 3 4 5 6 7 8 9 \n",
      "[0, 1, 2, 3, 4, 5, 6, 7, 8, 9]\n"
     ]
    },
    {
     "data": {
      "text/plain": [
       "[0, 1, 2, 3, 4, 5, 6, 7, 8, 9]"
      ]
     },
     "execution_count": 148,
     "metadata": {},
     "output_type": "execute_result"
    }
   ],
   "source": [
    "for val in range(10):\n",
    "    print(val, end=' ')\n",
    "print()\n",
    "\n",
    "# 새로운 리스트 생성\n",
    "result=[]\n",
    "for val in range(10):\n",
    "    result.append(val)\n",
    "print(result)\n",
    "\n",
    "my_list=[val for val in range(10)]\n",
    "my_list"
   ]
  },
  {
   "cell_type": "code",
   "execution_count": 37,
   "id": "deac7208-1e4b-42b1-8b45-7ad36b6a66b4",
   "metadata": {},
   "outputs": [
    {
     "name": "stdout",
     "output_type": "stream",
     "text": [
      "[33, 66, 99, 132, 165]\n"
     ]
    },
    {
     "data": {
      "text/plain": [
       "[33, 66, 99, 132, 165]"
      ]
     },
     "execution_count": 37,
     "metadata": {},
     "output_type": "execute_result"
    }
   ],
   "source": [
    "# for문으로 리스트에 3을 곱해서 새로운 리스트 생성\n",
    "\n",
    "arr=[11, 22, 33, 44, 55]\n",
    "result=[]\n",
    "for num in arr:\n",
    "    num *= 3\n",
    "    result.append(num)\n",
    "print(result)\n",
    "\n",
    "# [식 for 변수 in 리스트 if 조건식]\n",
    "my_arr=[num*3 for num in arr]\n",
    "my_arr"
   ]
  },
  {
   "cell_type": "code",
   "execution_count": 39,
   "id": "948c4a12-d3ea-4f6e-89e0-7634eed3d057",
   "metadata": {},
   "outputs": [
    {
     "name": "stdout",
     "output_type": "stream",
     "text": [
      "[66, 132]\n"
     ]
    },
    {
     "data": {
      "text/plain": [
       "[66, 132]"
      ]
     },
     "execution_count": 39,
     "metadata": {},
     "output_type": "execute_result"
    }
   ],
   "source": [
    "# if - 짝수인 경우만 3곱해서 새로운 리스트 생성\n",
    "\n",
    "result=[]\n",
    "for num in arr:\n",
    "    if num%2 == 0:\n",
    "        num *= 3\n",
    "        result.append(num)\n",
    "print(result)\n",
    "        \n",
    "# [식 for 변수 in 리스트 if 조건식]\n",
    "my_arr=[num * 3 for num in arr if num%2 == 0]\n",
    "my_arr"
   ]
  },
  {
   "cell_type": "code",
   "execution_count": 43,
   "id": "ef5cbaed-6855-4b6d-8a77-e7f96ee749ab",
   "metadata": {},
   "outputs": [
    {
     "name": "stdout",
     "output_type": "stream",
     "text": [
      "[33, 66, 99, 132, 165]\n"
     ]
    },
    {
     "data": {
      "text/plain": [
       "[33, 66, 99, 132, 165]"
      ]
     },
     "execution_count": 43,
     "metadata": {},
     "output_type": "execute_result"
    }
   ],
   "source": [
    "# if ~ else 리스트 요소 값이 2보다 크면 3을 곱하고, 아니면 0을 대입하여 새로운 리스트 생성\n",
    "result=[]\n",
    "for num in arr:\n",
    "    if num > 2:\n",
    "        num *=3\n",
    "    else:\n",
    "        num=0\n",
    "    result.append(num)\n",
    "print(result)\n",
    "\n",
    "my_list=[num * 3 if num > 2 else 0 for num in arr]   # if ~ else 문이 for문 앞에 위치\n",
    "my_list"
   ]
  },
  {
   "cell_type": "markdown",
   "id": "17a9399b-4898-4f90-85dd-de74415753ba",
   "metadata": {},
   "source": [
    "####  Dictionary"
   ]
  },
  {
   "cell_type": "code",
   "execution_count": 151,
   "id": "f119af54-6900-4b11-8eb2-6b92b71a07a8",
   "metadata": {},
   "outputs": [
    {
     "data": {
      "text/plain": [
       "{0: 0, 1: 1, 2: 4, 3: 9, 4: 16}"
      ]
     },
     "execution_count": 151,
     "metadata": {},
     "output_type": "execute_result"
    }
   ],
   "source": [
    "# {키:값 for 변수 in 딕셔너리 if 조건식}\n",
    "dic={}\n",
    "for num in range(5):\n",
    "    dic[num]=num**2\n",
    "dic"
   ]
  },
  {
   "cell_type": "code",
   "execution_count": 153,
   "id": "53e610cb-9803-4a4e-aecc-5ee6df890bb0",
   "metadata": {},
   "outputs": [
    {
     "data": {
      "text/plain": [
       "{0: 0, 1: 1, 2: 4, 3: 9, 4: 16}"
      ]
     },
     "execution_count": 153,
     "metadata": {},
     "output_type": "execute_result"
    }
   ],
   "source": [
    "my_dic={num:num**2 for num in range(5)}\n",
    "my_dic"
   ]
  },
  {
   "cell_type": "markdown",
   "id": "142ec60c-2014-476f-b022-77e98f4e674f",
   "metadata": {},
   "source": [
    "####  Set"
   ]
  },
  {
   "cell_type": "code",
   "execution_count": 55,
   "id": "411dc42f-1d93-4d0b-b4ef-4923da9fae62",
   "metadata": {},
   "outputs": [
    {
     "data": {
      "text/plain": [
       "{2, 4, 6, 8, 10}"
      ]
     },
     "execution_count": 55,
     "metadata": {},
     "output_type": "execute_result"
    }
   ],
   "source": [
    "# {식 for 변수 in 셋 if 조건식}\n",
    "s=set()\n",
    "for num in range(1, 11):\n",
    "    if num%2 == 0:\n",
    "        s.add(num)\n",
    "s"
   ]
  },
  {
   "cell_type": "code",
   "execution_count": 158,
   "id": "4b206fcf-fa6f-4e1b-997a-c95d6f45faa7",
   "metadata": {},
   "outputs": [
    {
     "data": {
      "text/plain": [
       "{0, 2, 4, 6, 8, 10}"
      ]
     },
     "execution_count": 158,
     "metadata": {},
     "output_type": "execute_result"
    }
   ],
   "source": [
    "my_set={num for num in range(11) if num %2 == 0}\n",
    "my_set"
   ]
  },
  {
   "cell_type": "markdown",
   "id": "b84a5258-3141-4227-bc48-47810a1d93de",
   "metadata": {},
   "source": [
    "## 입력 함수\n",
    "* input() :  사용자로부터 입력을 받기 위한 함수\n",
    "  - 사용자 입력\n",
    "  - 자료 처리\n",
    "  - 출력"
   ]
  },
  {
   "cell_type": "code",
   "execution_count": 162,
   "id": "ee675774-8427-402a-815e-d1fa3642cc5b",
   "metadata": {},
   "outputs": [
    {
     "name": "stdin",
     "output_type": "stream",
     "text": [
      " 홍길동\n"
     ]
    },
    {
     "data": {
      "text/plain": [
       "'홍길동'"
      ]
     },
     "execution_count": 162,
     "metadata": {},
     "output_type": "execute_result"
    }
   ],
   "source": [
    "name=input()\n",
    "name"
   ]
  },
  {
   "cell_type": "code",
   "execution_count": 164,
   "id": "f653b404-1d53-4ad1-9547-69b23fe53718",
   "metadata": {},
   "outputs": [
    {
     "name": "stdin",
     "output_type": "stream",
     "text": [
      "이름 입력: 홍길동\n"
     ]
    },
    {
     "data": {
      "text/plain": [
       "'홍길동'"
      ]
     },
     "execution_count": 164,
     "metadata": {},
     "output_type": "execute_result"
    }
   ],
   "source": [
    "name=input(\"이름 입력:\")\n",
    "name"
   ]
  },
  {
   "cell_type": "code",
   "execution_count": 65,
   "id": "4bf13eda-abac-45c3-a248-434e9ac7c659",
   "metadata": {},
   "outputs": [
    {
     "name": "stdin",
     "output_type": "stream",
     "text": [
      "수 입력: 10\n"
     ]
    },
    {
     "data": {
      "text/plain": [
       "13"
      ]
     },
     "execution_count": 65,
     "metadata": {},
     "output_type": "execute_result"
    }
   ],
   "source": [
    "# 수 처리\n",
    "su=int(input(\"수 입력:\"))   # float(input(\"수 입력:\")\n",
    "su += 3\n",
    "su"
   ]
  },
  {
   "cell_type": "code",
   "execution_count": 167,
   "id": "3065fde1-2608-4454-b02d-3c097f576c4e",
   "metadata": {},
   "outputs": [
    {
     "name": "stdin",
     "output_type": "stream",
     "text": [
      "문자열 입력: 사과\n",
      "문자열 입력: 바나나\n"
     ]
    },
    {
     "name": "stdout",
     "output_type": "stream",
     "text": [
      "사과 바나나\n"
     ]
    }
   ],
   "source": [
    "# 여러 개 입력 값 받기\n",
    "i=input(\"문자열 입력:\")\n",
    "j=input(\"문자열 입력:\")\n",
    "print(i, j)"
   ]
  },
  {
   "cell_type": "code",
   "execution_count": 169,
   "id": "07abf292-bb2e-4672-80d7-27a5239f7162",
   "metadata": {},
   "outputs": [
    {
     "name": "stdin",
     "output_type": "stream",
     "text": [
      "문자열 2개 입력 사과 바나나\n"
     ]
    },
    {
     "name": "stdout",
     "output_type": "stream",
     "text": [
      "사과 바나나\n"
     ]
    }
   ],
   "source": [
    "a, b=input(\"문자열 2개 입력\").split()\n",
    "print(a, b)"
   ]
  },
  {
   "cell_type": "code",
   "execution_count": 2,
   "id": "ee3d87a0-76f0-428d-8461-b722da663040",
   "metadata": {},
   "outputs": [
    {
     "name": "stdin",
     "output_type": "stream",
     "text": [
      "정수 3개 입력 10 20 30\n"
     ]
    },
    {
     "name": "stdout",
     "output_type": "stream",
     "text": [
      "10 20 30\n"
     ]
    }
   ],
   "source": [
    "x, y, z=input(\"정수 3개 입력\").split()\n",
    "x, y, z=int(x), int(y), int(z)\n",
    "print(x, y, z)"
   ]
  },
  {
   "cell_type": "markdown",
   "id": "9a447500-b229-41f5-8eae-b9846eee3a2b",
   "metadata": {},
   "source": [
    "# 함수\n",
    "* 기본 함수 형태\n",
    "  - 인수, 매개, 리턴 - X \n",
    "  - 인수, 매개 - O / 리턴 - X \n",
    "  - 인수, 매개 - X / 리턴 - O \n",
    "  - 인수, 매개 - O / 리턴 - O <br><br>\n",
    "* 다양한 인수 형식\n",
    "  - 키워드 인수\n",
    "  - 기본 인수\n",
    "  - 가변 인수"
   ]
  },
  {
   "cell_type": "markdown",
   "id": "d9f62871-d95f-45b7-9c95-2f793e97e6b1",
   "metadata": {},
   "source": [
    "## 기본 함수 형태\n",
    "- 입력 값 : 인수/매개\n",
    "- 출력 값 : 리턴"
   ]
  },
  {
   "cell_type": "markdown",
   "id": "07db85b5-3163-4157-8a40-93d406eb1439",
   "metadata": {},
   "source": [
    "### 인수/매개, 리턴 - X"
   ]
  },
  {
   "cell_type": "code",
   "execution_count": 10,
   "id": "cdd9295f-f894-4010-bac8-c941c2ca7853",
   "metadata": {},
   "outputs": [
    {
     "name": "stdout",
     "output_type": "stream",
     "text": [
      "Hello\n"
     ]
    }
   ],
   "source": [
    "# 함수 정의 \n",
    "def disp():                  #\n",
    "    print(\"Hello\")\n",
    "\n",
    "# 함수 실행 또는 호출\n",
    "disp()"
   ]
  },
  {
   "cell_type": "code",
   "execution_count": 11,
   "id": "210bc20a-06d1-4e29-b5a2-cc0629a14f06",
   "metadata": {},
   "outputs": [
    {
     "name": "stdout",
     "output_type": "stream",
     "text": [
      "Hello\n",
      "Hello\n",
      "Hello\n",
      "Hello\n",
      "Hello\n",
      "Hello\n",
      "Hello\n",
      "Hello\n",
      "Hello\n",
      "Hello\n"
     ]
    }
   ],
   "source": [
    "for i in range(10):\n",
    "    disp()"
   ]
  },
  {
   "cell_type": "code",
   "execution_count": 17,
   "id": "5284b591-4cf6-474b-94f7-92c08c84b4bb",
   "metadata": {},
   "outputs": [
    {
     "name": "stdin",
     "output_type": "stream",
     "text": [
      "su: 1\n"
     ]
    },
    {
     "name": "stdout",
     "output_type": "stream",
     "text": [
      "aa Function\n"
     ]
    }
   ],
   "source": [
    "def aa():\n",
    "    print(\"aa Function\")\n",
    "\n",
    "def bb():\n",
    "    print(\"bb Function\")\n",
    "\n",
    "def cc():\n",
    "    print(\"cc Function\")\n",
    "\n",
    "su=int(input(\"su:\"))\n",
    "if su==1:\n",
    "    aa()\n",
    "elif su==2:\n",
    "    bb()\n",
    "elif su==3:\n",
    "    cc()\n",
    "else:\n",
    "    print(\"잘못입력\")"
   ]
  },
  {
   "cell_type": "markdown",
   "id": "b2743c57-cf91-458a-877f-ab974c7f424e",
   "metadata": {},
   "source": [
    "### 인수, 매개 - O / 리턴 - X"
   ]
  },
  {
   "cell_type": "code",
   "execution_count": 21,
   "id": "ac9df75c-7c49-44ca-8bae-84d8adf31140",
   "metadata": {},
   "outputs": [
    {
     "name": "stdout",
     "output_type": "stream",
     "text": [
      "30\n",
      "122.1\n"
     ]
    }
   ],
   "source": [
    "# 인수, 매개 - O / 리턴 - X\n",
    "def sum(a, b):\n",
    "    print(a+b)\n",
    "    \n",
    "sum(10, 20)\n",
    "sum(55.5, 66.6)"
   ]
  },
  {
   "cell_type": "code",
   "execution_count": 23,
   "id": "cfa1b174-63fa-4d1c-b880-3b1f518fe1be",
   "metadata": {},
   "outputs": [
    {
     "name": "stdout",
     "output_type": "stream",
     "text": [
      "* * * * * * * * * \n",
      "* * * * \n",
      "* * \n"
     ]
    }
   ],
   "source": [
    "def sub(a):\n",
    "    for i in range(1, a):\n",
    "        print(\"*\", end=' ')\n",
    "    print()\n",
    "\n",
    "sub(10)\n",
    "sub(5)\n",
    "sub(3)"
   ]
  },
  {
   "cell_type": "code",
   "execution_count": 24,
   "id": "f5c776a3-ca09-41c8-89aa-afb3897a868b",
   "metadata": {},
   "outputs": [
    {
     "name": "stdin",
     "output_type": "stream",
     "text": [
      "su: 10\n",
      "su: 20\n"
     ]
    },
    {
     "name": "stdout",
     "output_type": "stream",
     "text": [
      "30\n",
      "-10\n",
      "200\n",
      "0.5\n"
     ]
    }
   ],
   "source": [
    "def hap(su, value):\n",
    "    print(su + value)\n",
    "\n",
    "def cha(su, value):\n",
    "    print(su - value)\n",
    "\n",
    "def mul(su, value):\n",
    "    print(su * value)\n",
    "\n",
    "def div(su, value):\n",
    "    print(su/value)\n",
    "\n",
    "first=int(input(\"su:\"))\n",
    "second=int(input(\"su:\"))\n",
    "\n",
    "hap(first, second)\n",
    "cha(first, second)\n",
    "mul(first, second)\n",
    "div(first, second)"
   ]
  },
  {
   "cell_type": "code",
   "execution_count": 25,
   "id": "e4ac170c-4d10-4172-95fe-2d6db927db3e",
   "metadata": {},
   "outputs": [
    {
     "name": "stdout",
     "output_type": "stream",
     "text": [
      "10 <class 'int'>\n",
      "55.5 <class 'float'>\n",
      "A <class 'str'>\n",
      "Python <class 'str'>\n",
      "[1, 2, 3] <class 'list'>\n",
      "(77, 88, 99) <class 'tuple'>\n",
      "{'appple': '사과', 'banana': '바나'} <class 'dict'>\n",
      "{'B', 'A', 'C'} <class 'set'>\n"
     ]
    }
   ],
   "source": [
    "# 모든 자료구조 다 된다.\n",
    "def disp(a):\n",
    "    print(a, type(a))\n",
    "\n",
    "disp(10)\n",
    "disp(55.5)\n",
    "disp(\"A\")\n",
    "disp(\"Python\")\n",
    "disp([1, 2, 3])\n",
    "disp((77, 88, 99))\n",
    "disp({\"appple\":\"사과\", \"banana\":\"바나나\"})\n",
    "disp({'A', 'B', 'C'})"
   ]
  },
  {
   "cell_type": "markdown",
   "id": "0a5a496a-a990-469e-9747-d9c33f755ef3",
   "metadata": {},
   "source": [
    "### 인수, 매개 - X / 리턴 - O"
   ]
  },
  {
   "cell_type": "code",
   "execution_count": 26,
   "id": "db0cbfb6-8c8f-4ea9-9ab5-59eeeae820a2",
   "metadata": {},
   "outputs": [
    {
     "data": {
      "text/plain": [
       "'My name is Pengsoo'"
      ]
     },
     "execution_count": 26,
     "metadata": {},
     "output_type": "execute_result"
    }
   ],
   "source": [
    "# 인수, 매개 - X / 리턴 - O\n",
    "def name():\n",
    "    return \"My name is Pengsoo\"\n",
    "\n",
    "name()"
   ]
  },
  {
   "cell_type": "code",
   "execution_count": 29,
   "id": "e238f57c-77a5-431a-ac33-f4627e75bcfa",
   "metadata": {},
   "outputs": [
    {
     "name": "stdout",
     "output_type": "stream",
     "text": [
      "10\n",
      "24.4\n",
      "[1, 2, 3, 4]\n",
      "apple\n",
      "{'a': 'apple', 'b': 'banana'}\n",
      "{'C++', 'Java', 'Python'}\n"
     ]
    }
   ],
   "source": [
    "def a():\n",
    "    return 10\n",
    "\n",
    "def b():\n",
    "    return 24.4\n",
    "\n",
    "def c():\n",
    "    return [1, 2, 3, 4]\n",
    "\n",
    "def d():\n",
    "    return \"apple\"\n",
    "\n",
    "def e():\n",
    "    return {\"a\":\"apple\", \"b\":\"banana\"}\n",
    "\n",
    "def f():\n",
    "    return {\"Java\", \"Python\", \"C++\"}\n",
    "\n",
    "print(a())\n",
    "print(b())\n",
    "print(c())\n",
    "print(d())\n",
    "print(e())\n",
    "print(f())"
   ]
  },
  {
   "cell_type": "markdown",
   "id": "5dde15de-7a4c-4291-a91b-ec99a0887b69",
   "metadata": {},
   "source": [
    "### 인수, 매개 - O / 리턴 - O"
   ]
  },
  {
   "cell_type": "code",
   "execution_count": 97,
   "id": "6ef3f337-fa9d-4fa4-9e01-ebd4e17df49e",
   "metadata": {},
   "outputs": [
    {
     "data": {
      "text/plain": [
       "3"
      ]
     },
     "execution_count": 97,
     "metadata": {},
     "output_type": "execute_result"
    }
   ],
   "source": [
    "# 인수, 매개 - O / 리턴 - O\n",
    "def add(a, b):\n",
    "    return a+b\n",
    "\n",
    "add(1, 2)"
   ]
  },
  {
   "cell_type": "code",
   "execution_count": 98,
   "id": "07e534cd-f45f-4c27-9b33-5a176277ba08",
   "metadata": {},
   "outputs": [
    {
     "name": "stdout",
     "output_type": "stream",
     "text": [
      "Hong jumsu 90\n"
     ]
    }
   ],
   "source": [
    "def total(kor, eng, mat):\n",
    "    return kor + eng + mat\n",
    "\n",
    "def average(tot):\n",
    "    return tot // 3\n",
    "\n",
    "def disp(avg):\n",
    "    print(\"Hong jumsu %d\" %(avg))\n",
    "\n",
    "tot=total(80, 90, 100)\n",
    "avg=average(tot)\n",
    "disp(avg)"
   ]
  },
  {
   "cell_type": "code",
   "execution_count": 99,
   "id": "2e6300b2-92f6-4b4f-8100-99853d63cd9e",
   "metadata": {},
   "outputs": [
    {
     "name": "stdout",
     "output_type": "stream",
     "text": [
      "20 10\n"
     ]
    }
   ],
   "source": [
    "# 리턴값 여러개 존재\n",
    "def swap(a, b):\n",
    "    return b, a          # 내부적으로 튜플 \n",
    "\n",
    "c, d=swap(10, 20)\n",
    "print(c, d)"
   ]
  },
  {
   "cell_type": "code",
   "execution_count": 40,
   "id": "3a0c03f2-a78f-479f-8fef-aca9789153fd",
   "metadata": {},
   "outputs": [
    {
     "data": {
      "text/plain": [
       "[1, 2, 3, 4]"
      ]
     },
     "execution_count": 40,
     "metadata": {},
     "output_type": "execute_result"
    }
   ],
   "source": [
    "def my_list():\n",
    "    return [1, 2, 3, 4]    # (),.{} 컬렉션 자료형 다 됨\n",
    "\n",
    "my_list()"
   ]
  },
  {
   "cell_type": "markdown",
   "id": "927985c3-f308-4f38-bbb4-cdf935db62b4",
   "metadata": {},
   "source": [
    "## 다양한 인수 형식\n",
    "  - 키워드 인수\n",
    "  - 기본값 인수\n",
    "  - 가변 인수"
   ]
  },
  {
   "cell_type": "markdown",
   "id": "339422f1-3723-4f44-99bf-d781f0376c00",
   "metadata": {},
   "source": [
    "### 키워드 인수\n",
    "* 함수 실행(호출) 시 설정\n",
    "* 가독성 향상\n",
    "  - 매개변수의 이름을 명시하므로, 함수 호출 시 코드의 의도를 더 명확하게 전달\n",
    "  - 일반 인수만 사용하면 매개변수의 순서와 역할을 알기 어려움\n",
    "  - 키워드 인수를 사용하면 어떤 값이 어떤 매개변수에 전달되는지 쉽게 이해할 수 있음."
   ]
  },
  {
   "cell_type": "code",
   "execution_count": 234,
   "id": "a3773ef4-849a-485b-a956-894e3466d6b6",
   "metadata": {},
   "outputs": [],
   "source": [
    "# 키워드 인수\n",
    "def hap(a, b):\n",
    "    return a+b"
   ]
  },
  {
   "cell_type": "code",
   "execution_count": 236,
   "id": "c5a610b4-9e98-4f29-8d1a-22bc0118447b",
   "metadata": {},
   "outputs": [
    {
     "name": "stdout",
     "output_type": "stream",
     "text": [
      "30\n",
      "\n",
      "121\n",
      "\n",
      "165\n",
      "\n",
      "3\n",
      "\n"
     ]
    }
   ],
   "source": [
    "print(hap(10, 20))            # 일반(위치) 인수 10,20 전달\n",
    "print()\n",
    "\n",
    "print(hap(a=55, b=66))        # 키워드 인수\n",
    "print()\n",
    "\n",
    "print(hap(b=77, a=88))\n",
    "print()\n",
    "\n",
    "print(hap(1, b=2))             # 1, b=2 전달\n",
    "print()\n",
    "\n",
    "# print(hap(a=10, 20))         # ERROR 혼합시 일반 인수 뒤에 키워드 인수 작성"
   ]
  },
  {
   "cell_type": "markdown",
   "id": "dcab8090-3a04-4f19-a49c-20dec375d30f",
   "metadata": {},
   "source": [
    "### 기본(default) 인수\n",
    "* 함수 정의 시 설정\n",
    "* 자주 바뀌지 않는 데이터는 기본값을 통해 처리한다."
   ]
  },
  {
   "cell_type": "code",
   "execution_count": 242,
   "id": "c6a225bf-8cdf-4c24-af18-9f54228f04c9",
   "metadata": {},
   "outputs": [],
   "source": [
    "def sum(a, b=1, c=2):          # 매개변수는 인수의 기본값만 없는 값만 전달\n",
    "    print(\"a=%d, b=%d, c=%d\" %(a, b, c))\n",
    "    return a+b+c"
   ]
  },
  {
   "cell_type": "code",
   "execution_count": 244,
   "id": "945d3d2f-a10e-4a34-acec-4a1f996cdc29",
   "metadata": {},
   "outputs": [
    {
     "name": "stdout",
     "output_type": "stream",
     "text": [
      "a=10, b=1, c=2\n"
     ]
    },
    {
     "data": {
      "text/plain": [
       "13"
      ]
     },
     "execution_count": 244,
     "metadata": {},
     "output_type": "execute_result"
    }
   ],
   "source": [
    "sum(10)                        # a=10, b=1, c=1          "
   ]
  },
  {
   "cell_type": "code",
   "execution_count": 251,
   "id": "f113b2cc-f99b-4d15-b663-c3b862105726",
   "metadata": {},
   "outputs": [
    {
     "name": "stdout",
     "output_type": "stream",
     "text": [
      "a=10, b=20, c=2\n"
     ]
    },
    {
     "data": {
      "text/plain": [
       "32"
      ]
     },
     "execution_count": 251,
     "metadata": {},
     "output_type": "execute_result"
    }
   ],
   "source": [
    "sum(10, 20)                    # a=10, b=20"
   ]
  },
  {
   "cell_type": "code",
   "execution_count": 253,
   "id": "300fae3d-75bf-4a56-bf03-107ce0bf6b71",
   "metadata": {},
   "outputs": [
    {
     "name": "stdout",
     "output_type": "stream",
     "text": [
      "a=10, b=20, c=30\n"
     ]
    },
    {
     "data": {
      "text/plain": [
       "60"
      ]
     },
     "execution_count": 253,
     "metadata": {},
     "output_type": "execute_result"
    }
   ],
   "source": [
    "sum(10, 20, 30)                # a=10, b=20, c=30  매개변수는 인수의 기본값과 상관없이 인수의 모든 값 전달"
   ]
  },
  {
   "cell_type": "code",
   "execution_count": 225,
   "id": "d279f3e6-40da-4830-9e08-f7820f5e26a3",
   "metadata": {},
   "outputs": [],
   "source": [
    "def calc(begin, end, step=2):\n",
    "    sum=0\n",
    "    for num in range(begin, end+1, step):\n",
    "        sum += num\n",
    "    return sum"
   ]
  },
  {
   "cell_type": "code",
   "execution_count": 227,
   "id": "3856232b-c7c3-469a-a430-e6c9b9e036e5",
   "metadata": {},
   "outputs": [
    {
     "data": {
      "text/plain": [
       "2500"
      ]
     },
     "execution_count": 227,
     "metadata": {},
     "output_type": "execute_result"
    }
   ],
   "source": [
    "calc(1, 100)"
   ]
  },
  {
   "cell_type": "code",
   "execution_count": 256,
   "id": "ae91945c-e10a-48c6-94cd-84018e9ee80d",
   "metadata": {},
   "outputs": [
    {
     "data": {
      "text/plain": [
       "10000"
      ]
     },
     "execution_count": 256,
     "metadata": {},
     "output_type": "execute_result"
    }
   ],
   "source": [
    "calc(1, 200)"
   ]
  },
  {
   "cell_type": "code",
   "execution_count": 229,
   "id": "6289151d-03f4-4833-90d1-039e6b7e944b",
   "metadata": {},
   "outputs": [
    {
     "data": {
      "text/plain": [
       "970"
      ]
     },
     "execution_count": 229,
     "metadata": {},
     "output_type": "execute_result"
    }
   ],
   "source": [
    "calc(1, 100, 5)"
   ]
  },
  {
   "cell_type": "code",
   "execution_count": 262,
   "id": "ebf3b854-0b57-462f-8cb0-7ca60b2f4dc3",
   "metadata": {},
   "outputs": [],
   "source": [
    "# 함수 선언시 에러인 경우는 인수의 기본값이 앞에 온 경우\n",
    "# def melon(a=1, b, c=3):\n",
    "#     pass"
   ]
  },
  {
   "cell_type": "markdown",
   "id": "157c78b4-26a2-4d0d-898e-0fec49bcc1bb",
   "metadata": {},
   "source": [
    "### 가변 인수\n",
    "* 함수 정의 시\n",
    "* 여러(n개) 전달해 처리하 싶을 때, tuple 형태로 전달"
   ]
  },
  {
   "cell_type": "code",
   "execution_count": 286,
   "id": "dbf44347-13c5-4799-aecc-254ebdefcc95",
   "metadata": {},
   "outputs": [],
   "source": [
    "def calc(num, *values):\n",
    "    print(\"num=%d, value=%s\" %(num, values))\n",
    "    print(type(num), type(values))\n",
    "\n",
    "    sum=0\n",
    "    for val in values:\n",
    "        sum += val\n",
    "    return sum+num"
   ]
  },
  {
   "cell_type": "code",
   "execution_count": 288,
   "id": "3bdd7fdf-81fe-4ba1-bcff-2c2e62422543",
   "metadata": {},
   "outputs": [
    {
     "name": "stdout",
     "output_type": "stream",
     "text": [
      "num=100, value=()\n",
      "<class 'int'> <class 'tuple'>\n"
     ]
    },
    {
     "data": {
      "text/plain": [
       "100"
      ]
     },
     "execution_count": 288,
     "metadata": {},
     "output_type": "execute_result"
    }
   ],
   "source": [
    "calc(100)"
   ]
  },
  {
   "cell_type": "code",
   "execution_count": 290,
   "id": "cb98b9a0-1b43-4e92-9378-018916fe3290",
   "metadata": {},
   "outputs": [
    {
     "name": "stdout",
     "output_type": "stream",
     "text": [
      "num=100, value=(200,)\n",
      "<class 'int'> <class 'tuple'>\n"
     ]
    },
    {
     "data": {
      "text/plain": [
       "300"
      ]
     },
     "execution_count": 290,
     "metadata": {},
     "output_type": "execute_result"
    }
   ],
   "source": [
    "calc(100, 200)"
   ]
  },
  {
   "cell_type": "code",
   "execution_count": 292,
   "id": "c57846bc-5746-4896-8caf-270ac4d006f2",
   "metadata": {},
   "outputs": [
    {
     "name": "stdout",
     "output_type": "stream",
     "text": [
      "num=100, value=(200, 300, 400, 500)\n",
      "<class 'int'> <class 'tuple'>\n"
     ]
    },
    {
     "data": {
      "text/plain": [
       "1500"
      ]
     },
     "execution_count": 292,
     "metadata": {},
     "output_type": "execute_result"
    }
   ],
   "source": [
    "calc(100, 200, 300, 400, 500)"
   ]
  },
  {
   "cell_type": "markdown",
   "id": "1243561c-e526-4636-9ed2-cc43c260a0ad",
   "metadata": {},
   "source": [
    "### 키워드 가변 인수\n",
    "- dic"
   ]
  },
  {
   "cell_type": "code",
   "execution_count": 306,
   "id": "58552294-6b27-48af-a782-ba796c04f979",
   "metadata": {},
   "outputs": [],
   "source": [
    "def sub(**su):\n",
    "    print(type(su))\n",
    "\n",
    "    for val in su.values():\n",
    "          print(val)"
   ]
  },
  {
   "cell_type": "code",
   "execution_count": 308,
   "id": "0c93c69e-34eb-4d10-adb8-8c729da402e7",
   "metadata": {},
   "outputs": [
    {
     "name": "stdout",
     "output_type": "stream",
     "text": [
      "<class 'dict'>\n",
      "1\n",
      "2\n",
      "3\n"
     ]
    }
   ],
   "source": [
    "sub(a=1, b=2, c=3)"
   ]
  },
  {
   "cell_type": "code",
   "execution_count": 301,
   "id": "6754bed8-1d60-4334-bd1e-ab531ecec285",
   "metadata": {},
   "outputs": [
    {
     "name": "stdout",
     "output_type": "stream",
     "text": [
      "<class 'dict'>\n",
      "과일\n",
      "당근\n"
     ]
    }
   ],
   "source": [
    "sub(fru=\"과일\", veg=\"당근\")"
   ]
  },
  {
   "cell_type": "code",
   "execution_count": 314,
   "id": "4036fad8-0872-46eb-b93e-08c514620068",
   "metadata": {},
   "outputs": [],
   "source": [
    "# 웹 호출 server, port, pargram은 위치 인수, params는 키워드 가변 인수로 전달\n",
    "def url_path(server, port, program, **params):\n",
    "    url=\"http://\" + server + \":\" + port + program + \"?\"\n",
    "\n",
    "    for key, values in params.items():\n",
    "        url += key + \"=\" + values + \"&\"\n",
    "    return url"
   ]
  },
  {
   "cell_type": "code",
   "execution_count": 316,
   "id": "30779484-4f69-44f7-b7f0-208f1b71591f",
   "metadata": {},
   "outputs": [
    {
     "data": {
      "text/plain": [
       "'http://www.goole.co.kr:80/search?id=abc123&pwd=xyz123&'"
      ]
     },
     "execution_count": 316,
     "metadata": {},
     "output_type": "execute_result"
    }
   ],
   "source": [
    "url_path(\"www.goole.co.kr\", \"80\", \"/search\", id=\"abc123\", pwd=\"xyz123\")"
   ]
  },
  {
   "cell_type": "markdown",
   "id": "4ac040b6-267c-4783-8772-cd1e9bb588e4",
   "metadata": {},
   "source": [
    "### 혼합 인수\n",
    "* 혼합일 경우 순서는 위치, 키워드, 기본값, 가변(tuple), 키워드 가변(dic)"
   ]
  },
  {
   "cell_type": "code",
   "execution_count": 131,
   "id": "7537535c-efae-4593-8887-22c5ba02a83d",
   "metadata": {},
   "outputs": [],
   "source": [
    "def fun(su, cnt=2, *value, **number):\n",
    "     print(su, cnt, value, number)"
   ]
  },
  {
   "cell_type": "code",
   "execution_count": 132,
   "id": "046cee13-10eb-4c93-a7e8-a12d0a6ea9ec",
   "metadata": {},
   "outputs": [
    {
     "name": "stdout",
     "output_type": "stream",
     "text": [
      "1 2 () {}\n"
     ]
    }
   ],
   "source": [
    "fun(1)"
   ]
  },
  {
   "cell_type": "code",
   "execution_count": 133,
   "id": "3c9b0dc2-3a7d-455a-b95e-51c2be4463cb",
   "metadata": {},
   "outputs": [
    {
     "name": "stdout",
     "output_type": "stream",
     "text": [
      "11 12 (13,) {}\n"
     ]
    }
   ],
   "source": [
    "fun(11, 12, 13)"
   ]
  },
  {
   "cell_type": "code",
   "execution_count": 134,
   "id": "988b9f3e-711d-4aa7-b88c-ac596322203a",
   "metadata": {},
   "outputs": [
    {
     "name": "stdout",
     "output_type": "stream",
     "text": [
      "2 3 (11, 23, 13) {}\n"
     ]
    }
   ],
   "source": [
    "fun(2, 3, 11, 23, 13)"
   ]
  },
  {
   "cell_type": "code",
   "execution_count": 135,
   "id": "6fc474d5-b9a5-439f-94ba-8605d54991c7",
   "metadata": {},
   "outputs": [
    {
     "name": "stdout",
     "output_type": "stream",
     "text": [
      "88 99 () {'id': 'abc', 'pwd': '1234'}\n"
     ]
    }
   ],
   "source": [
    "fun(88, 99, id=\"abc\", pwd=\"1234\")"
   ]
  },
  {
   "cell_type": "markdown",
   "id": "01af639b-0b9c-4480-ba8a-7b6f7b46893e",
   "metadata": {},
   "source": [
    "## 변수의 유효 범위"
   ]
  },
  {
   "cell_type": "code",
   "execution_count": 4,
   "id": "d7c4b1fa-e5f5-4475-9062-43d422660261",
   "metadata": {},
   "outputs": [
    {
     "name": "stdout",
     "output_type": "stream",
     "text": [
      "전역변수\n",
      "지역변수\n",
      "전역변수\n"
     ]
    }
   ],
   "source": [
    "a=\"전역변수\"\n",
    "def sub():\n",
    "    b=\"지역변수\"\n",
    "    print(a)\n",
    "    print(b)\n",
    "\n",
    "sub()\n",
    "print(a)\n",
    "# print(b)        # ERROR 함수 내부에서만 사용 가능"
   ]
  },
  {
   "cell_type": "code",
   "execution_count": 361,
   "id": "682dd767-8710-4273-a5ba-e815d19ca197",
   "metadata": {},
   "outputs": [
    {
     "name": "stdout",
     "output_type": "stream",
     "text": [
      "매개변수 전역변수\n",
      "전역변수\n"
     ]
    }
   ],
   "source": [
    "def func(x):     # x, local 의미\n",
    "    global y     # 선언후 해방변수에 값 대입 시 에러 global y=10 ERROR\n",
    "    y=\"전역변수\"\n",
    "    print(x, y)\n",
    "\n",
    "func(\"매개변수\")\n",
    "print(y)"
   ]
  },
  {
   "cell_type": "markdown",
   "id": "698ee907-8c84-41f6-8834-3b96483bd281",
   "metadata": {},
   "source": [
    "## 내장 함수\n",
    "* 파이썬 설치 시, 내장함수를 자동 설치하고 실행\n",
    " - print(), input()\n",
    " - https://docs.python.org/ko/3.12/library/functions.html "
   ]
  },
  {
   "cell_type": "code",
   "execution_count": 369,
   "id": "87863932-2203-4116-8527-252a34da3932",
   "metadata": {},
   "outputs": [
    {
     "data": {
      "text/plain": [
       "'3.12.7 | packaged by Anaconda, Inc. | (main, Oct  4 2024, 13:17:27) [MSC v.1929 64 bit (AMD64)]'"
      ]
     },
     "execution_count": 369,
     "metadata": {},
     "output_type": "execute_result"
    }
   ],
   "source": [
    "sys.version      # 파이썬 버전 확인"
   ]
  },
  {
   "cell_type": "code",
   "execution_count": 11,
   "id": "70bd0d15-244e-4ddc-8212-6958a5982fe2",
   "metadata": {},
   "outputs": [
    {
     "name": "stdout",
     "output_type": "stream",
     "text": [
      "1\n",
      "3.5\n"
     ]
    }
   ],
   "source": [
    "# abx(x) : 입력받은 수의 절대값을 반환하는 함수\n",
    "print(abs(1))\n",
    "print(abs(-3.5))"
   ]
  },
  {
   "cell_type": "code",
   "execution_count": 13,
   "id": "bf57ea32-4e5a-4b93-a12f-1952da338b27",
   "metadata": {},
   "outputs": [
    {
     "name": "stdout",
     "output_type": "stream",
     "text": [
      "a\n",
      "A\n"
     ]
    }
   ],
   "source": [
    "# chr(i) : 아스키 코드(숫자)를 입력받아 해당하는 문자를 출력하는 함수\n",
    "print(chr(97))\n",
    "print(chr(65))"
   ]
  },
  {
   "cell_type": "code",
   "execution_count": 20,
   "id": "4b297f3f-5681-419e-90d1-bc5baecc7e69",
   "metadata": {},
   "outputs": [
    {
     "name": "stdout",
     "output_type": "stream",
     "text": [
      "['__add__', '__class__', '__class_getitem__', '__contains__', '__delattr__', '__delitem__', '__dir__', '__doc__', '__eq__', '__format__', '__ge__', '__getattribute__', '__getitem__', '__gt__', '__hash__', '__iadd__', '__imul__', '__init__', '__init_subclass__', '__iter__', '__le__', '__len__', '__lt__', '__mul__', '__ne__', '__new__', '__reduce__', '__reduce_ex__', '__repr__', '__reversed__', '__rmul__', '__setattr__', '__setitem__', '__sizeof__', '__str__', '__subclasshook__', 'append', 'clear', 'copy', 'count', 'extend', 'index', 'insert', 'pop', 'remove', 'reverse', 'sort'] \n",
      "\n",
      "['__class__', '__class_getitem__', '__contains__', '__delattr__', '__delitem__', '__dir__', '__doc__', '__eq__', '__format__', '__ge__', '__getattribute__', '__getitem__', '__gt__', '__hash__', '__init__', '__init_subclass__', '__ior__', '__iter__', '__le__', '__len__', '__lt__', '__ne__', '__new__', '__or__', '__reduce__', '__reduce_ex__', '__repr__', '__reversed__', '__ror__', '__setattr__', '__setitem__', '__sizeof__', '__str__', '__subclasshook__', 'clear', 'copy', 'fromkeys', 'get', 'items', 'keys', 'pop', 'popitem', 'setdefault', 'update', 'values'] \n",
      "\n",
      "['__add__', '__class__', '__class_getitem__', '__contains__', '__delattr__', '__delitem__', '__dir__', '__doc__', '__eq__', '__format__', '__ge__', '__getattribute__', '__getitem__', '__gt__', '__hash__', '__iadd__', '__imul__', '__init__', '__init_subclass__', '__iter__', '__le__', '__len__', '__lt__', '__mul__', '__ne__', '__new__', '__reduce__', '__reduce_ex__', '__repr__', '__reversed__', '__rmul__', '__setattr__', '__setitem__', '__sizeof__', '__str__', '__subclasshook__', 'append', 'clear', 'copy', 'count', 'extend', 'index', 'insert', 'pop', 'remove', 'reverse', 'sort']\n"
     ]
    }
   ],
   "source": [
    "# dir() : 객체가 가지고 있는 변수, 메소드를 리스트로 제공\n",
    "print(dir([1, 2, 3]), \"\\n\")\n",
    "print(dir({'1':'a'}), \"\\n\")\n",
    "print(dir(list))             # dict"
   ]
  },
  {
   "cell_type": "code",
   "execution_count": 22,
   "id": "ea4dbd7d-90f4-4651-963c-db80dd8bea34",
   "metadata": {},
   "outputs": [
    {
     "name": "stdout",
     "output_type": "stream",
     "text": [
      "몫: 2\n",
      "나머지: 1\n",
      "몫과 나머지 (2, 1)\n"
     ]
    }
   ],
   "source": [
    "# divmod(a, b) : 2개의 숫자를 입력받아 a를 b로 나눈 몫과 나머지를 튜플 형태로 반환\n",
    "print(\"몫:\", 5//2)\n",
    "print(\"나머지:\", 5%2)\n",
    "print(\"몫과 나머지\", divmod(5, 2))"
   ]
  },
  {
   "cell_type": "code",
   "execution_count": 23,
   "id": "b038200b-058b-4f1e-885e-f38540013e23",
   "metadata": {},
   "outputs": [
    {
     "name": "stdout",
     "output_type": "stream",
     "text": [
      "10 20 30 40 50 0 10\n",
      "1 20\n",
      "2 30\n",
      "3 40\n",
      "4 50\n"
     ]
    }
   ],
   "source": [
    "# enumerate(iterable) : 인덱스 값을 포함한 객체를 반환, 일반적으로 for문과 함께 자주 사용\n",
    "\n",
    "arr=[10, 20, 30, 40, 50]\n",
    "\n",
    "for val in arr:\n",
    "    print(val, end=' ')\n",
    "\n",
    "for idx, val in enumerate(arr):\n",
    "    print(idx, val)"
   ]
  },
  {
   "cell_type": "code",
   "execution_count": 27,
   "id": "a44b71ff-549c-4dfc-b2e9-c68c93b9922d",
   "metadata": {},
   "outputs": [
    {
     "name": "stdout",
     "output_type": "stream",
     "text": [
      "3\n",
      "3\n",
      "10\n"
     ]
    }
   ],
   "source": [
    "# int(x) : 문자열 형태의 숫자나 소수점에 있는 숫자 등을 정수로 반환하는 함수\n",
    "print(int('3'))\n",
    "print(int(3.14))\n",
    "print(int(10))"
   ]
  },
  {
   "cell_type": "code",
   "execution_count": 29,
   "id": "fffde81b-c059-4591-a321-0e86f4761459",
   "metadata": {},
   "outputs": [
    {
     "name": "stdout",
     "output_type": "stream",
     "text": [
      "5\n",
      "5\n"
     ]
    }
   ],
   "source": [
    "# len(s) : 입력값 s의 길이(요소의 전체 갯수) 반환하는 함수\n",
    "print(len(\"hello\"))\n",
    "print(len([1, 2, 3, 4, 5]))"
   ]
  },
  {
   "cell_type": "code",
   "execution_count": 31,
   "id": "e1dec543-472e-4f80-b0f6-df5523f8337e",
   "metadata": {},
   "outputs": [
    {
     "name": "stdout",
     "output_type": "stream",
     "text": [
      "7\n",
      "e\n"
     ]
    }
   ],
   "source": [
    "# max(iterable) 최대값, min(iterable) 최소값\n",
    "print(max([1, 2, -3, 4, -5, 6, 7, -8]))\n",
    "print(min(\"hello\"))"
   ]
  },
  {
   "cell_type": "code",
   "execution_count": 34,
   "id": "91616a8d-41f2-4dcf-a0ef-e767771d03f5",
   "metadata": {},
   "outputs": [
    {
     "name": "stdout",
     "output_type": "stream",
     "text": [
      "6\n",
      "5.6\n"
     ]
    }
   ],
   "source": [
    "# round(num, [ndigits]) : 반올림 해주는 함수 / (필수,  [선택적] )\n",
    "print(round(5.56))\n",
    "print(round(5.56, 1))"
   ]
  },
  {
   "cell_type": "code",
   "execution_count": 378,
   "id": "c2c99f79-4097-4784-b6aa-8cbf2fbc8a86",
   "metadata": {},
   "outputs": [
    {
     "data": {
      "text/plain": [
       "True"
      ]
     },
     "execution_count": 378,
     "metadata": {},
     "output_type": "execute_result"
    }
   ],
   "source": [
    "# isinstance(object, class) : 인스턴스, 클래스명\n",
    "class Person:\n",
    "    pass\n",
    "\n",
    "p=Person()\n",
    "isinstance(p, Person)\n",
    "\n",
    "# 3.2.3)  for - collection / list 참조"
   ]
  },
  {
   "cell_type": "markdown",
   "id": "149021e2-72d9-4eee-9994-a19543d528ec",
   "metadata": {},
   "source": [
    "## 람다 함수\n",
    "* 일회성으로 필요한 경우에 사용하여, 함수를 정의하고 호출하는 과정을 줄여준다.\n",
    "* 형식)\n",
    "  - 함수이름 = lambda input : output"
   ]
  },
  {
   "cell_type": "code",
   "execution_count": 383,
   "id": "0348b864-4f87-4b60-a05b-45e50389f754",
   "metadata": {},
   "outputs": [],
   "source": [
    "def add(x, y):\n",
    "    return x + y"
   ]
  },
  {
   "cell_type": "code",
   "execution_count": 385,
   "id": "d5fba1fb-5c98-438f-b4ff-306e3a44aa6d",
   "metadata": {},
   "outputs": [
    {
     "data": {
      "text/plain": [
       "3"
      ]
     },
     "execution_count": 385,
     "metadata": {},
     "output_type": "execute_result"
    }
   ],
   "source": [
    "add=lambda x, y : x + y   # 함수이름=lambda input:output\n",
    "add(1, 2)"
   ]
  },
  {
   "cell_type": "code",
   "execution_count": 387,
   "id": "50267ff7-bb9f-4833-a043-3d8749cdbd45",
   "metadata": {},
   "outputs": [],
   "source": [
    "def mul(x):\n",
    "    return x ** 2"
   ]
  },
  {
   "cell_type": "code",
   "execution_count": 389,
   "id": "1f478eb3-8861-4114-826c-787fb8a561de",
   "metadata": {},
   "outputs": [
    {
     "data": {
      "text/plain": [
       "1089"
      ]
     },
     "execution_count": 389,
     "metadata": {},
     "output_type": "execute_result"
    }
   ],
   "source": [
    "mul=lambda x : x ** 2\n",
    "mul(33)"
   ]
  },
  {
   "cell_type": "markdown",
   "id": "6c011ce4-f547-4562-a268-eb5d1c3559a4",
   "metadata": {},
   "source": [
    "# 클래스"
   ]
  },
  {
   "cell_type": "markdown",
   "id": "5c9adb58-9153-4da9-9088-e009793e354d",
   "metadata": {},
   "source": [
    "## 클래스\n",
    "    - 클래스\n",
    "    - 인스턴스(instance) \n",
    "    - 객체(Object)\n",
    "    - 속성(Attribute)\n",
    "    - 메서드(Methods)\n",
    "    \n",
    "    - 생성자(Constructor)\n",
    "    - self\n",
    "    - 소멸자(Destructor)"
   ]
  },
  {
   "cell_type": "code",
   "execution_count": 404,
   "id": "911452d8-223d-475a-8ebe-11d340b9fbb0",
   "metadata": {},
   "outputs": [],
   "source": [
    "class Yeonsan:               # 클래스 생성\n",
    "    def __init__(self):      # 생성자(Constructor) \n",
    "        self.result=100      # 속성(Attribute) \n",
    "\n",
    "    def add(self, num):      # 메소드(Method) \n",
    "         self.result += num\n",
    "\n",
    "    def disp(self):\n",
    "        print(self.result)\n",
    "\n",
    "# _, __ : 특별한 역할을 한다.\n",
    "# __ : 자동으로 실행\n",
    "# __init__ : 객체가 생성될때 자동으로 실행 "
   ]
  },
  {
   "cell_type": "markdown",
   "id": "2931d800-205e-4d45-b273-7eb7bb51c49e",
   "metadata": {},
   "source": [
    "* __init__ \n",
    "* __, _ 특별한 역활을 한다.\n",
    "* __ 자동으로 실행\n",
    "* _"
   ]
  },
  {
   "cell_type": "code",
   "execution_count": 407,
   "id": "e787ff9c-f75e-4a68-8b0b-ca125ac7b6a1",
   "metadata": {},
   "outputs": [
    {
     "name": "stdout",
     "output_type": "stream",
     "text": [
      "115\n"
     ]
    }
   ],
   "source": [
    "y=Yeonsan()    # 객체(object), 인스턴스(instance)\n",
    "y.add(15)\n",
    "y.disp()"
   ]
  },
  {
   "cell_type": "code",
   "execution_count": null,
   "id": "657f90e8-9cc0-4a49-87eb-677cb622e144",
   "metadata": {},
   "outputs": [],
   "source": [
    "e=Yeonsan()\n",
    "e.add(10)\n",
    "e.disp()"
   ]
  },
  {
   "cell_type": "code",
   "execution_count": 411,
   "id": "05dea550-19ce-4661-86b8-7c22acf9d5d3",
   "metadata": {},
   "outputs": [
    {
     "name": "stdout",
     "output_type": "stream",
     "text": [
      "155\n"
     ]
    }
   ],
   "source": [
    "o=Yeonsan()\n",
    "o.add(55)\n",
    "o.disp()"
   ]
  },
  {
   "cell_type": "markdown",
   "id": "bb4ac6d8-7b15-43d2-a081-9cd909c7a990",
   "metadata": {},
   "source": [
    "## 속성 접근 방법"
   ]
  },
  {
   "cell_type": "code",
   "execution_count": 417,
   "id": "dcea4b63-f73f-4f94-8524-0c4fcd45aa5a",
   "metadata": {},
   "outputs": [],
   "source": [
    "class Car:\n",
    "    def __init__(self):\n",
    "        self.price=0\n",
    "        self._speed=0\n",
    "        self.__color=None"
   ]
  },
  {
   "cell_type": "code",
   "execution_count": 420,
   "id": "92b11885-732b-4c19-b1c8-3f0673a3ce2a",
   "metadata": {},
   "outputs": [
    {
     "name": "stdout",
     "output_type": "stream",
     "text": [
      "0\n",
      "0\n"
     ]
    }
   ],
   "source": [
    "car=Car()\n",
    "print(car.price)        # class 밖에서 사용 가능\n",
    "print(car._speed)       # class 밖에선 사용 가능하지만 가급적 사용하지 말자\n",
    "# print(car.__color)    # class 밖에서 사용시 ERROR "
   ]
  },
  {
   "cell_type": "markdown",
   "id": "438035f6-4bdc-4445-b4ae-63da0a652ce8",
   "metadata": {},
   "source": [
    "## property "
   ]
  },
  {
   "cell_type": "code",
   "execution_count": 4,
   "id": "c76c3b62-1a80-4fe3-9410-cc8540e15ad4",
   "metadata": {},
   "outputs": [],
   "source": [
    "# property - 1\n",
    "class HyundaiCar01:\n",
    "    def __init__(self):\n",
    "        self.__price=0\n",
    "        self.__speed=0\n",
    "        self.__color=None\n",
    "\n",
    "    def set_price(self, value):\n",
    "        self.__price=value\n",
    "\n",
    "    def get_price(self):\n",
    "        return self.__price"
   ]
  },
  {
   "cell_type": "code",
   "execution_count": 6,
   "id": "283f54a8-efa2-4556-b24e-cf603ac83879",
   "metadata": {},
   "outputs": [
    {
     "name": "stdout",
     "output_type": "stream",
     "text": [
      "2000\n"
     ]
    }
   ],
   "source": [
    "hcar=HyundaiCar01()\n",
    "hcar.set_price(2000)\n",
    "print(hcar.get_price())"
   ]
  },
  {
   "cell_type": "code",
   "execution_count": 8,
   "id": "d3d58137-5fbc-43d7-8f82-dcfc73d1879d",
   "metadata": {},
   "outputs": [],
   "source": [
    "# property - 2\n",
    "class HyundaiCar02:\n",
    "    def __init__(self):\n",
    "        self.__price=0\n",
    "        self.__speed=0\n",
    "        self.__color=None\n",
    "\n",
    "    @property    # @(Decorator)\n",
    "    def price(self, value):\n",
    "        self.__price=value\n",
    "         \n",
    "    def price(self):\n",
    "        return self.__price"
   ]
  },
  {
   "cell_type": "code",
   "execution_count": 10,
   "id": "336bf795-23c1-4433-859a-a89b829ca062",
   "metadata": {},
   "outputs": [
    {
     "name": "stdout",
     "output_type": "stream",
     "text": [
      "가격: 2000\n"
     ]
    }
   ],
   "source": [
    "hcar=HyundaiCar02()\n",
    "hcar.price=2000     # set_method()  \n",
    "print(\"가격:\", hcar.price)   # get_method()"
   ]
  },
  {
   "cell_type": "code",
   "execution_count": 16,
   "id": "559e3380-a72e-45ab-8b91-df5197164ea4",
   "metadata": {},
   "outputs": [],
   "source": [
    "# property - 3\n",
    "class HyundaiCar03:\n",
    "    def __init__(self):\n",
    "        self.__price=0\n",
    "        self.__speed=0\n",
    "        self.__color=None\n",
    "\n",
    "    def set_price(self, value):\n",
    "        self.__price=value\n",
    "\n",
    "    def get_price(self):\n",
    "        return self.__price\n",
    "        \n",
    "    price=property(get_price, set_price)"
   ]
  },
  {
   "cell_type": "code",
   "execution_count": 18,
   "id": "70375be8-abaa-4ded-bb71-1a737d1f21d0",
   "metadata": {},
   "outputs": [
    {
     "name": "stdout",
     "output_type": "stream",
     "text": [
      "가격: 3000\n"
     ]
    }
   ],
   "source": [
    "hcar=HyundaiCar03()\n",
    "hcar.price=3000\n",
    "print(\"가격:\", hcar.price)"
   ]
  },
  {
   "cell_type": "markdown",
   "id": "6add29d4-5beb-4ffe-9d12-5c305e383f23",
   "metadata": {},
   "source": [
    "# Module"
   ]
  },
  {
   "cell_type": "markdown",
   "id": "3cbd7e85-cd1e-481a-a744-b75918388036",
   "metadata": {},
   "source": [
    "## 사용자 모듈\n",
    "* 메모장 또는 (Jupyter notebook - Text File - 이름 변경 *.py)\n",
    "  - 함수, 변수, 클래스 작성\n",
    "  - 메모장 - calc.py 파일로 저장\n",
    "  - 경로 이동 C:\\Users\\JMH\\Desktop\\KimPro\\workspace>python calc.py <br><br>\n",
    "  \n",
    "* module : 반복 작업하는 내용 하나의 모듈로 만듬 (변수, 함수, 클래스 모아 놓은 파일) <br>\n",
    "  -  import moduleName\n",
    "  -  import moduleName as 별칭\n",
    "  -  from moduleName import 변수 또는 함수명들\n",
    "  -  from moduleName import *      <br><br>"
   ]
  },
  {
   "cell_type": "code",
   "execution_count": 61,
   "id": "7ff8db41-8f46-4d21-9184-13a047d7e5ef",
   "metadata": {},
   "outputs": [
    {
     "name": "stdout",
     "output_type": "stream",
     "text": [
      "15\n",
      "5\n",
      "50\n",
      "2.0\n",
      "10, 20\n",
      "바나나\n"
     ]
    }
   ],
   "source": [
    "# CASE-1)\n",
    "import calc    # 모듈명은 파일명이다.  \n",
    "\n",
    "print(calc.plus(10, 5))\n",
    "print(calc.minus(10, 5))\n",
    "print(calc.multiply(10, 5))\n",
    "print(calc.divide(10, 5))\n",
    "\n",
    "su=calc.Su(10, 20)\n",
    "su.disp()\n",
    "\n",
    "print(calc.fruit)"
   ]
  },
  {
   "cell_type": "code",
   "execution_count": 67,
   "id": "15727807-3eea-49e2-bd41-b707f3f192b4",
   "metadata": {},
   "outputs": [
    {
     "name": "stdout",
     "output_type": "stream",
     "text": [
      "25\n",
      "-5\n",
      "150\n",
      "0.6666666666666666\n",
      "10, 20\n",
      "바나나\n"
     ]
    }
   ],
   "source": [
    "# CASE-2)\n",
    "import calc as c     # 별칭 사용\n",
    "\n",
    "print(c.plus(10, 15))\n",
    "print(c.minus(10, 15))\n",
    "print(c.multiply(10, 15))\n",
    "print(c.divide(10, 15))\n",
    "\n",
    "su=c .Su(10, 20)\n",
    "su.disp()\n",
    "\n",
    "print(c.fruit)"
   ]
  },
  {
   "cell_type": "code",
   "execution_count": 43,
   "id": "ccf0f2e9-6ccf-4e22-9f3a-e17c6732b78a",
   "metadata": {},
   "outputs": [
    {
     "name": "stdout",
     "output_type": "stream",
     "text": [
      "15\n",
      "5\n"
     ]
    }
   ],
   "source": [
    "# CASE-3)\n",
    "from calc import plus, minus   # 원하는 변수 또는 함수명\n",
    "\n",
    "print(plus(10, 5))\n",
    "print(minus(10, 5))"
   ]
  },
  {
   "cell_type": "code",
   "execution_count": 4,
   "id": "dec53123-ad18-4f6a-9edd-d9919ef9750b",
   "metadata": {},
   "outputs": [
    {
     "name": "stdout",
     "output_type": "stream",
     "text": [
      "15\n",
      "5\n",
      "50\n",
      "2.0\n",
      "10, 20\n",
      "바나나\n"
     ]
    }
   ],
   "source": [
    "# CASE-4)\n",
    "from calc import *\n",
    "\n",
    "print(plus(10, 5))\n",
    "print(minus(10, 5))\n",
    "print(multiply(10, 5))\n",
    "print(divide(10, 5))\n",
    "\n",
    "su=Su(10, 20)\n",
    "su.disp()\n",
    "\n",
    "print(fruit)"
   ]
  },
  {
   "cell_type": "code",
   "execution_count": 49,
   "id": "cd56c691-253c-4355-9f13-17e16dc4061f",
   "metadata": {},
   "outputs": [
    {
     "data": {
      "text/plain": [
       "'바나나'"
      ]
     },
     "execution_count": 49,
     "metadata": {},
     "output_type": "execute_result"
    }
   ],
   "source": [
    "calc.fruit"
   ]
  },
  {
   "cell_type": "code",
   "execution_count": 78,
   "id": "bd73ccc8-b3f1-4be2-acfd-ddbcf98d63dc",
   "metadata": {},
   "outputs": [],
   "source": [
    "# Package(library) \n",
    "# import 패키지명.모듈명\n",
    "# import 패키지명.모듈명 as 별칭\n",
    "# from 패키지명.모듈명 import *\n",
    "# from 패키지명.모듈명 import 함수명, 함수명"
   ]
  },
  {
   "cell_type": "markdown",
   "id": "51d91a59-4ac5-48d4-8ab9-d3ce990a01f0",
   "metadata": {},
   "source": [
    "## 표준 모듈\n",
    "* math - 수학 \n",
    "* statistice (스터티스티스) - 통계\n",
    "* random - 난수\n",
    "* datetime - 날짜"
   ]
  },
  {
   "cell_type": "code",
   "execution_count": 30,
   "id": "7c98702d-88f7-4d22-b907-264f19cda59d",
   "metadata": {},
   "outputs": [
    {
     "data": {
      "text/plain": [
       "('_abc',\n",
       " '_ast',\n",
       " '_bisect',\n",
       " '_blake2',\n",
       " '_codecs',\n",
       " '_codecs_cn',\n",
       " '_codecs_hk',\n",
       " '_codecs_iso2022',\n",
       " '_codecs_jp',\n",
       " '_codecs_kr',\n",
       " '_codecs_tw',\n",
       " '_collections',\n",
       " '_contextvars',\n",
       " '_csv',\n",
       " '_datetime',\n",
       " '_functools',\n",
       " '_heapq',\n",
       " '_imp',\n",
       " '_io',\n",
       " '_json',\n",
       " '_locale',\n",
       " '_lsprof',\n",
       " '_md5',\n",
       " '_multibytecodec',\n",
       " '_opcode',\n",
       " '_operator',\n",
       " '_peg_parser',\n",
       " '_pickle',\n",
       " '_random',\n",
       " '_sha1',\n",
       " '_sha256',\n",
       " '_sha3',\n",
       " '_sha512',\n",
       " '_signal',\n",
       " '_sre',\n",
       " '_stat',\n",
       " '_statistics',\n",
       " '_string',\n",
       " '_struct',\n",
       " '_symtable',\n",
       " '_thread',\n",
       " '_tracemalloc',\n",
       " '_warnings',\n",
       " '_weakref',\n",
       " '_winapi',\n",
       " '_xxsubinterpreters',\n",
       " 'array',\n",
       " 'atexit',\n",
       " 'audioop',\n",
       " 'binascii',\n",
       " 'builtins',\n",
       " 'cmath',\n",
       " 'errno',\n",
       " 'faulthandler',\n",
       " 'gc',\n",
       " 'itertools',\n",
       " 'marshal',\n",
       " 'math',\n",
       " 'mmap',\n",
       " 'msvcrt',\n",
       " 'nt',\n",
       " 'parser',\n",
       " 'sys',\n",
       " 'time',\n",
       " 'winreg',\n",
       " 'xxsubtype',\n",
       " 'zlib')"
      ]
     },
     "execution_count": 30,
     "metadata": {},
     "output_type": "execute_result"
    }
   ],
   "source": [
    "import sys\n",
    "import math\n",
    "\n",
    "# 표준 모듈 목록\n",
    "sys.builtin_module_names"
   ]
  },
  {
   "cell_type": "code",
   "execution_count": 31,
   "id": "a103fac4-7a98-46d8-bb2d-82d756316b20",
   "metadata": {},
   "outputs": [
    {
     "data": {
      "text/plain": [
       "['__doc__',\n",
       " '__loader__',\n",
       " '__name__',\n",
       " '__package__',\n",
       " '__spec__',\n",
       " 'acos',\n",
       " 'acosh',\n",
       " 'asin',\n",
       " 'asinh',\n",
       " 'atan',\n",
       " 'atan2',\n",
       " 'atanh',\n",
       " 'ceil',\n",
       " 'comb',\n",
       " 'copysign',\n",
       " 'cos',\n",
       " 'cosh',\n",
       " 'degrees',\n",
       " 'dist',\n",
       " 'e',\n",
       " 'erf',\n",
       " 'erfc',\n",
       " 'exp',\n",
       " 'expm1',\n",
       " 'fabs',\n",
       " 'factorial',\n",
       " 'floor',\n",
       " 'fmod',\n",
       " 'frexp',\n",
       " 'fsum',\n",
       " 'gamma',\n",
       " 'gcd',\n",
       " 'hypot',\n",
       " 'inf',\n",
       " 'isclose',\n",
       " 'isfinite',\n",
       " 'isinf',\n",
       " 'isnan',\n",
       " 'isqrt',\n",
       " 'lcm',\n",
       " 'ldexp',\n",
       " 'lgamma',\n",
       " 'log',\n",
       " 'log10',\n",
       " 'log1p',\n",
       " 'log2',\n",
       " 'modf',\n",
       " 'nan',\n",
       " 'nextafter',\n",
       " 'perm',\n",
       " 'pi',\n",
       " 'pow',\n",
       " 'prod',\n",
       " 'radians',\n",
       " 'remainder',\n",
       " 'sin',\n",
       " 'sinh',\n",
       " 'sqrt',\n",
       " 'tan',\n",
       " 'tanh',\n",
       " 'tau',\n",
       " 'trunc',\n",
       " 'ulp']"
      ]
     },
     "execution_count": 31,
     "metadata": {},
     "output_type": "execute_result"
    }
   ],
   "source": [
    "# Math 모듈의 정보 (함수, 변수, 클래스)\n",
    "dir(math)"
   ]
  },
  {
   "cell_type": "code",
   "execution_count": 33,
   "id": "066daab6-e728-45cf-bc49-8477b97e0dd7",
   "metadata": {},
   "outputs": [
    {
     "name": "stdout",
     "output_type": "stream",
     "text": [
      "Help on built-in function pow in module math:\n",
      "\n",
      "pow(x, y, /)\n",
      "    Return x**y (x to the power of y).\n",
      "\n"
     ]
    }
   ],
   "source": [
    "# 함수의 상세 설명\n",
    "help(math.pow)    # pow(x, y, /) : / 일반(위치) 인수만 사용 가능"
   ]
  },
  {
   "cell_type": "code",
   "execution_count": 38,
   "id": "d2352500-052b-43c2-91ec-72c641e79538",
   "metadata": {},
   "outputs": [
    {
     "data": {
      "text/plain": [
       "125.0"
      ]
     },
     "execution_count": 38,
     "metadata": {},
     "output_type": "execute_result"
    }
   ],
   "source": [
    "# math 모듈 다양한 형태로 불러오기\n",
    "import math\n",
    "math.pow(5, 3)"
   ]
  },
  {
   "cell_type": "code",
   "execution_count": 15,
   "id": "b4aab76e-d293-4aaf-9967-a0cf44b7492d",
   "metadata": {},
   "outputs": [
    {
     "data": {
      "text/plain": [
       "125.0"
      ]
     },
     "execution_count": 15,
     "metadata": {},
     "output_type": "execute_result"
    }
   ],
   "source": [
    "import math as m\n",
    "m.pow(5, 3)"
   ]
  },
  {
   "cell_type": "code",
   "execution_count": 17,
   "id": "e9bf99a7-a56f-4b89-9c80-aad8049c9313",
   "metadata": {},
   "outputs": [
    {
     "data": {
      "text/plain": [
       "125.0"
      ]
     },
     "execution_count": 17,
     "metadata": {},
     "output_type": "execute_result"
    }
   ],
   "source": [
    "from math import pow\n",
    "pow(5, 3)"
   ]
  },
  {
   "cell_type": "code",
   "execution_count": 19,
   "id": "13e1a2e6-87f9-4fe6-b356-1ebaf9c57ead",
   "metadata": {},
   "outputs": [
    {
     "data": {
      "text/plain": [
       "125.0"
      ]
     },
     "execution_count": 19,
     "metadata": {},
     "output_type": "execute_result"
    }
   ],
   "source": [
    "from math import *\n",
    "pow(5, 3)"
   ]
  },
  {
   "cell_type": "code",
   "execution_count": 21,
   "id": "4735d9c2-e352-43fa-8753-13bdd3efe8f5",
   "metadata": {},
   "outputs": [
    {
     "data": {
      "text/plain": [
       "125.0"
      ]
     },
     "execution_count": 21,
     "metadata": {},
     "output_type": "execute_result"
    }
   ],
   "source": [
    "from math import pow as p\n",
    "p(5, 3)"
   ]
  },
  {
   "cell_type": "markdown",
   "id": "f02d77d4-b8ba-413c-88b6-2246ecf57a72",
   "metadata": {},
   "source": [
    "### math 모듈\n",
    "* 수학 연산에 필요한 다양한 연산 상수와 함수 제공"
   ]
  },
  {
   "cell_type": "code",
   "execution_count": 41,
   "id": "80fc9a70-b478-4d07-ab48-546d3672ab22",
   "metadata": {},
   "outputs": [
    {
     "name": "stdout",
     "output_type": "stream",
     "text": [
      "제곱근: 3.1622776601683795\n",
      "x의 y승: 9.0\n",
      "x의 계승: 120\n",
      "무조건 올림: 21\n",
      "무조건 내림: 20\n",
      "소수이하 무조건 버림: 20 20\n",
      "절대값: 20.0\n",
      "원주율 상수: 3.141592653589793\n"
     ]
    }
   ],
   "source": [
    "import math\n",
    "\n",
    "print(\"제곱근:\", math.sqrt(10))\n",
    "print(\"x의 y승:\", math.pow(3, 2))\n",
    "print(\"x의 계승:\", math.factorial(5))   # 5 * 4 * 3 * 2 * 1 = 120\n",
    "print(\"무조건 올림:\", math.ceil(20.33))\n",
    "print(\"무조건 내림:\", math.floor(20.55))\n",
    "print(\"소수이하 무조건 버림:\", math.trunc(20.33), math.trunc(20.53))\n",
    "print(\"절대값:\", math.fabs(-20))\n",
    "print(\"원주율 상수:\", math.pi)\n",
    "\n",
    "# print(math.__file__)   # 모듈 저장 위치"
   ]
  },
  {
   "cell_type": "markdown",
   "id": "f74e3a5d-642c-4c78-bc9b-dc41f9a095e4",
   "metadata": {},
   "source": [
    "### statistice 모듈\n",
    "* 스터티스티스 \n",
    "* 통계관련된 모듈"
   ]
  },
  {
   "cell_type": "code",
   "execution_count": 30,
   "id": "31a29c4c-57e1-47f4-a323-41a3ce24dd9a",
   "metadata": {},
   "outputs": [
    {
     "name": "stdout",
     "output_type": "stream",
     "text": [
      "평균값: 46\n",
      "중앙값: 45.0\n",
      "최빈값: 10\n",
      "분산: 826.6666666666666\n",
      "표준편차: 28.751811537130433\n",
      "모표준편차: 27.27636339397171\n"
     ]
    }
   ],
   "source": [
    "import statistics as stat\n",
    "\n",
    "arr=[10, 20, 30, 40, 50, 60, 70, 80, 90, 10]\n",
    "print(\"평균값:\", stat.mean(arr))\n",
    "print(\"중앙값:\", stat.median(arr))   # 미디언\n",
    "print(\"최빈값:\", stat.mode(arr))\n",
    "\n",
    "print(\"분산:\", stat.variance(arr))   # 베어리언스\n",
    "print(\"표준편차:\", stat.stdev(arr))\n",
    "print(\"모표준편차:\", stat.pstdev(arr))"
   ]
  },
  {
   "cell_type": "markdown",
   "id": "039ef7ce-c4a4-4015-ac4e-5d06a227b0d3",
   "metadata": {},
   "source": [
    "### 날짜 관련 모듈"
   ]
  },
  {
   "cell_type": "code",
   "execution_count": 111,
   "id": "2173f880-f723-46ca-b997-e56d22d629f5",
   "metadata": {},
   "outputs": [
    {
     "name": "stdout",
     "output_type": "stream",
     "text": [
      "2024-06-13 11:49:57.571771\n",
      "2024-06-13\n"
     ]
    }
   ],
   "source": [
    "import datetime\n",
    "print(datetime.datetime.now())              # 2023-07-05 10:25:10.253034\n",
    "print(datetime.date.today())                # 2023-07-05\n",
    "\n",
    "# datetime 모듈 / datetime 클래스명 / now() method"
   ]
  },
  {
   "cell_type": "code",
   "execution_count": 89,
   "id": "8cf32957-8265-4d65-835c-2c8c97f92d69",
   "metadata": {
    "scrolled": true
   },
   "outputs": [
    {
     "name": "stdout",
     "output_type": "stream",
     "text": [
      "                                  2024\n",
      "\n",
      "      January                   February                   March\n",
      "Mo Tu We Th Fr Sa Su      Mo Tu We Th Fr Sa Su      Mo Tu We Th Fr Sa Su\n",
      " 1  2  3  4  5  6  7                1  2  3  4                   1  2  3\n",
      " 8  9 10 11 12 13 14       5  6  7  8  9 10 11       4  5  6  7  8  9 10\n",
      "15 16 17 18 19 20 21      12 13 14 15 16 17 18      11 12 13 14 15 16 17\n",
      "22 23 24 25 26 27 28      19 20 21 22 23 24 25      18 19 20 21 22 23 24\n",
      "29 30 31                  26 27 28 29               25 26 27 28 29 30 31\n",
      "\n",
      "       April                      May                       June\n",
      "Mo Tu We Th Fr Sa Su      Mo Tu We Th Fr Sa Su      Mo Tu We Th Fr Sa Su\n",
      " 1  2  3  4  5  6  7             1  2  3  4  5                      1  2\n",
      " 8  9 10 11 12 13 14       6  7  8  9 10 11 12       3  4  5  6  7  8  9\n",
      "15 16 17 18 19 20 21      13 14 15 16 17 18 19      10 11 12 13 14 15 16\n",
      "22 23 24 25 26 27 28      20 21 22 23 24 25 26      17 18 19 20 21 22 23\n",
      "29 30                     27 28 29 30 31            24 25 26 27 28 29 30\n",
      "\n",
      "        July                     August                  September\n",
      "Mo Tu We Th Fr Sa Su      Mo Tu We Th Fr Sa Su      Mo Tu We Th Fr Sa Su\n",
      " 1  2  3  4  5  6  7                1  2  3  4                         1\n",
      " 8  9 10 11 12 13 14       5  6  7  8  9 10 11       2  3  4  5  6  7  8\n",
      "15 16 17 18 19 20 21      12 13 14 15 16 17 18       9 10 11 12 13 14 15\n",
      "22 23 24 25 26 27 28      19 20 21 22 23 24 25      16 17 18 19 20 21 22\n",
      "29 30 31                  26 27 28 29 30 31         23 24 25 26 27 28 29\n",
      "                                                    30\n",
      "\n",
      "      October                   November                  December\n",
      "Mo Tu We Th Fr Sa Su      Mo Tu We Th Fr Sa Su      Mo Tu We Th Fr Sa Su\n",
      "    1  2  3  4  5  6                   1  2  3                         1\n",
      " 7  8  9 10 11 12 13       4  5  6  7  8  9 10       2  3  4  5  6  7  8\n",
      "14 15 16 17 18 19 20      11 12 13 14 15 16 17       9 10 11 12 13 14 15\n",
      "21 22 23 24 25 26 27      18 19 20 21 22 23 24      16 17 18 19 20 21 22\n",
      "28 29 30 31               25 26 27 28 29 30         23 24 25 26 27 28 29\n",
      "                                                    30 31\n",
      "\n",
      "      May 2024\n",
      "Mo Tu We Th Fr Sa Su\n",
      "       1  2  3  4  5\n",
      " 6  7  8  9 10 11 12\n",
      "13 14 15 16 17 18 19\n",
      "20 21 22 23 24 25 26\n",
      "27 28 29 30 31\n",
      "\n",
      "6\n"
     ]
    }
   ],
   "source": [
    "import calendar\n",
    "print(calendar.calendar(2024))               # 해당년도 달력출력\n",
    "print(calendar.month(2024, 5))               # 해당년도의  월 달력 출력\n",
    "print(calendar.weekday(2023, 4, 30))         # 해당년월일의 요일 출력 (0:월 ~  6:일)"
   ]
  },
  {
   "cell_type": "markdown",
   "id": "3b73fe3c-f881-400f-967a-4628113c7c72",
   "metadata": {},
   "source": [
    "### random 모듈"
   ]
  },
  {
   "cell_type": "code",
   "execution_count": 72,
   "id": "4ac28a13-63b7-4f33-a3e4-a0afee5dccda",
   "metadata": {},
   "outputs": [
    {
     "name": "stdout",
     "output_type": "stream",
     "text": [
      "0.16864285415910563\n",
      "2\n",
      "4.220667432244673\n"
     ]
    }
   ],
   "source": [
    "import random\n",
    "print(random.random())                 # 0~1 사이의 수\n",
    "print(random.randint(1, 10))           # 1~10 사이의 무작위 정수형 난수 출력\n",
    "print(random.uniform(1, 10))           # 1~10 사이의 무작위  실수형 난수 출력"
   ]
  },
  {
   "cell_type": "markdown",
   "id": "b89f5cbd-042e-4870-8b33-c03724a308d2",
   "metadata": {},
   "source": [
    "#### list "
   ]
  },
  {
   "cell_type": "code",
   "execution_count": 82,
   "id": "50b093e5-6287-4a8b-a51d-e3ae96c1cdd5",
   "metadata": {},
   "outputs": [
    {
     "name": "stdout",
     "output_type": "stream",
     "text": [
      "4\n",
      "[5, 3, 6, 9, 4, 10, 1, 8, 2, 7]\n"
     ]
    },
    {
     "data": {
      "text/plain": [
       "[5, 3, 1]"
      ]
     },
     "execution_count": 82,
     "metadata": {},
     "output_type": "execute_result"
    }
   ],
   "source": [
    "# 리스트에서 임의의 요소 하나를 선택하여 리턴하는 함수\n",
    "nums=[1, 2, 3, 4, 5, 6, 7, 8, 9, 10]\n",
    "print(random.choice(nums))\n",
    "# print(random.choices(nums, k=3))\n",
    "\n",
    "# 리스트의 요소를 무작위로 섞는 함수\n",
    "random.shuffle(nums)         # 셔펄\n",
    "print(nums)\n",
    "\n",
    "# 리스트의 항목 중 n개를 무작위로 뽑아서 새로운 리스트를 생성하는 함수\n",
    "newnums=random.sample(nums, 3)     # 중복 허용 안함       \n",
    "newnums"
   ]
  },
  {
   "cell_type": "markdown",
   "id": "b420dc76-f67b-4900-accc-6b075b122e7b",
   "metadata": {},
   "source": [
    "#### 로또 프로그램"
   ]
  },
  {
   "cell_type": "code",
   "execution_count": 84,
   "id": "beda4135-1cfe-46f1-ba71-3101da4813dd",
   "metadata": {},
   "outputs": [
    {
     "name": "stdout",
     "output_type": "stream",
     "text": [
      "[4, 6, 11, 14, 24, 42]\n",
      "[11, 36, 37, 38, 41, 45]\n",
      "[1, 12, 14, 20, 36, 43]\n",
      "[3, 8, 9, 11, 16, 45]\n",
      "[4, 5, 11, 21, 25, 40]\n"
     ]
    }
   ],
   "source": [
    "for i in range(5):\n",
    "    lotto=random.sample(range(1, 46), 6)  # 1~46중 중복값 6개 없이 출력\n",
    "    print(sorted(lotto))"
   ]
  },
  {
   "cell_type": "code",
   "execution_count": 50,
   "id": "c634da3e-9ab8-4e7f-9e21-98f2995170b6",
   "metadata": {},
   "outputs": [],
   "source": [
    "# import 패키지명\n",
    "# import 패키지명.모듈명\n",
    "# import 패키지명.모듈명 as 별칭\n",
    "# from 패키지명.모듈명 import *\n",
    "# from 패키지명.모듈명 import 함수명, 함수명"
   ]
  },
  {
   "cell_type": "markdown",
   "id": "c46c329a-84ce-4477-b3ba-d91354824bba",
   "metadata": {},
   "source": [
    "# 파일 입출력\n",
    "* 입력\n",
    "  - open() : 파일을 특정한 모드로 여는 함수, 일기 R / 쓰기 W\n",
    "  - read() : 파일을 객체로부터 모든 내용을 읽는 함수\n",
    "  - readline() : 한줄씩 파일에 내용을 읽음\n",
    "  - readlines() : 전체 내용 한번에 리스트에 담음 <br><br>\n",
    "\n",
    "* 출력\n",
    "  - write() : 문자열을 파일에 출력\n",
    "  - writelines() : 여러 줄의 문자열을 한번에 파일에 출력 <br><br>\n",
    "\n",
    "* 공통점\n",
    "  - with 구문 : 파일을 열고 닫는 과정을 자동으로 해줌\n",
    "  - close() : 파일 객체를 닫는 함수"
   ]
  },
  {
   "cell_type": "markdown",
   "id": "f47b5477-ca2a-471f-98cf-c2284326a5ac",
   "metadata": {},
   "source": [
    "## 입력\n",
    "* input.text 메모장으로 작성"
   ]
  },
  {
   "cell_type": "markdown",
   "id": "bed49a83-4c23-402a-be62-0e3dfc9f7938",
   "metadata": {},
   "source": [
    "### CASE-1\n",
    "* read() : 파일로 객체로 부터 모든 내용을 읽는 함수"
   ]
  },
  {
   "cell_type": "code",
   "execution_count": 84,
   "id": "cb13dde6-1b35-43c4-9ee7-07d2b29ea1f9",
   "metadata": {},
   "outputs": [
    {
     "name": "stdout",
     "output_type": "stream",
     "text": [
      "How are you?\n",
      "펭수입니다.\n"
     ]
    }
   ],
   "source": [
    "# path=\"C:\\\\Users\\\\JMH\\\\Desktop\\\\KimPro\\\\workspace\\\\SKT정리\\\\file\\\\input.txt\"\n",
    "# path=\"C:/Users/JMH/Desktop/KimPro/workspace/SKT정리/file/input.txt\"\n",
    "path=r\"D:\\AI\\Machine Learning\\after\\workspace\\PythonBasic\\File\\input.txt\"\n",
    "\n",
    "# 열기\n",
    "f=open(path, \"r\", encoding=\"UTF-8\")   # cp949\n",
    "\n",
    "# 객체로 부터 모든 내용을 읽는 함수\n",
    "data=f.read()\n",
    "\n",
    "# 출력\n",
    "print(data)\n",
    "\n",
    "# 닫기\n",
    "f.close()"
   ]
  },
  {
   "cell_type": "markdown",
   "id": "a70a7258-65c3-4845-a822-e1bc3313515a",
   "metadata": {},
   "source": [
    "### CASE-2\n",
    "* readline() : 한줄씩 파일에 내용을 읽는 함수"
   ]
  },
  {
   "cell_type": "code",
   "execution_count": 86,
   "id": "79c19e27-cc99-451e-8ced-f16305e4d260",
   "metadata": {},
   "outputs": [
    {
     "name": "stdout",
     "output_type": "stream",
     "text": [
      "How are you?\n",
      "\n"
     ]
    }
   ],
   "source": [
    "# 열기 \n",
    "f=open(path, \"r\", encoding=\"UTF-8\")\n",
    "\n",
    "#  한줄씩 파일에 내용을 읽는 함수\n",
    "line=f.readline()\n",
    "\n",
    "# 출력\n",
    "print(line)\n",
    "\n",
    "# 닫기\n",
    "f.close()"
   ]
  },
  {
   "cell_type": "code",
   "execution_count": 88,
   "id": "14c03154-6069-482b-a979-af84883a08ff",
   "metadata": {},
   "outputs": [
    {
     "name": "stdout",
     "output_type": "stream",
     "text": [
      "How are you?\n",
      "펭수입니다."
     ]
    }
   ],
   "source": [
    "f=open(path, \"r\", encoding=\"UTF-8\")\n",
    "\n",
    "while True:\n",
    "    line=f.readline()\n",
    "    if line:\n",
    "        print(line, end=\"\")\n",
    "    else:\n",
    "        break\n",
    "\n",
    "f.close()"
   ]
  },
  {
   "cell_type": "markdown",
   "id": "707a4cbe-1135-422d-a636-4191105adcfa",
   "metadata": {},
   "source": [
    "### CASE -3 \n",
    "* readlines() : 전체 내용 한번에 리스트에 담는 함수"
   ]
  },
  {
   "cell_type": "code",
   "execution_count": 90,
   "id": "8c5f1248-4d48-4fa9-a9d4-41c642d56caa",
   "metadata": {},
   "outputs": [
    {
     "name": "stdout",
     "output_type": "stream",
     "text": [
      "['How are you?\\n', '펭수입니다.']\n",
      "How are you?\n",
      "펭수입니다."
     ]
    }
   ],
   "source": [
    "f=open(path, \"r\", encoding=\"UTF-8\")\n",
    "lines=f.readlines()\n",
    "print(lines)\n",
    "\n",
    "for line in lines:\n",
    "    print(line, end=\"\")\n",
    "f.close()"
   ]
  },
  {
   "cell_type": "markdown",
   "id": "88d04c49-83fe-46b9-a7e4-5c3815e8568c",
   "metadata": {},
   "source": [
    "### CASE-4\n",
    "* with 구문 : 파일을 열고 닫는 과정을 자동으로 설정, 즉 닫기 리소스 반환"
   ]
  },
  {
   "cell_type": "code",
   "execution_count": 93,
   "id": "f58810c2-e92d-414f-a82d-678cdd80734b",
   "metadata": {},
   "outputs": [
    {
     "name": "stdout",
     "output_type": "stream",
     "text": [
      "How are you?\n",
      "펭수입니다.\n"
     ]
    }
   ],
   "source": [
    "with open(path, \"r\", encoding=\"UTF-8\") as file:\n",
    "    data=file.read()\n",
    "    # data=file.readline()\n",
    "    # data=file.readlines()\n",
    "    print(data)"
   ]
  },
  {
   "cell_type": "markdown",
   "id": "1fcfa6c2-dfbc-4bd7-be7f-de867d150068",
   "metadata": {},
   "source": [
    "## 출력"
   ]
  },
  {
   "cell_type": "markdown",
   "id": "5789e037-b98d-4e63-bc74-7a2f54430ef3",
   "metadata": {},
   "source": [
    "### CASE-1\n",
    "* 문자열을 파일에 출력"
   ]
  },
  {
   "cell_type": "code",
   "execution_count": 97,
   "id": "c838de9c-3658-4f9c-a6c9-6e9845f7f434",
   "metadata": {},
   "outputs": [],
   "source": [
    "path=r\"D:\\AI\\Machine Learning\\after\\workspace\\PythonBasic\\File\\output1.txt\"   # 파일 자동으로 생김\n",
    "f=open(path, \"w\", encoding=\"UTF-8\")\n",
    "f.write(\"작성합니다.\\n\")\n",
    "f.write(\"작성합니다.\\n\")\n",
    "f.close()"
   ]
  },
  {
   "cell_type": "markdown",
   "id": "dc91d7a2-2fa2-43f1-94c3-aed0e1f4843f",
   "metadata": {},
   "source": [
    "### CASE-2\n",
    "* 여러 줄의 문자열을 한번에 파일로 출력 (list)"
   ]
  },
  {
   "cell_type": "code",
   "execution_count": 100,
   "id": "7fac6e61-c21d-4872-bdf7-0c0b5db0ec37",
   "metadata": {},
   "outputs": [],
   "source": [
    "path=r\"D:\\AI\\Machine Learning\\after\\workspace\\PythonBasic\\File\\output2.txt\"\n",
    "f=open(path, \"w\", encoding=\"UTF-8\")\n",
    "lines=[\"we'll find a way always have - Interstellar\\n\", \"I'll find you and I'll kill you - Taken\\n\", \"I'll be back - Terminator 2\\n\"]\n",
    "f.writelines(lines)\n",
    "f.close()"
   ]
  },
  {
   "cell_type": "markdown",
   "id": "503be7cc-05c8-4292-805f-34d95aa3f739",
   "metadata": {},
   "source": [
    "### CASE-3\n",
    "* with 구문 : 파일을 열고 닫는 과정을 자동으로 설정, 즉 닫기 리소스 반환"
   ]
  },
  {
   "cell_type": "code",
   "execution_count": 103,
   "id": "50c4b70a-4a3f-4ea9-bad1-4a47732d05a2",
   "metadata": {},
   "outputs": [],
   "source": [
    "path=r\"D:\\AI\\Machine Learning\\after\\workspace\\PythonBasic\\File\\output3.txt\"\n",
    "with open(path, \"w\", encoding=\"UTF-8\") as file:\n",
    "    file.writelines(lines)\n",
    "    file.write(\"작성합니다\")"
   ]
  },
  {
   "cell_type": "markdown",
   "id": "e849169e-a82c-4cc2-8f16-551b65401c6d",
   "metadata": {},
   "source": [
    "### CASE-4\n",
    "* 지정경로 없을시 default는 workspace 폴더로 저장"
   ]
  },
  {
   "cell_type": "code",
   "execution_count": 106,
   "id": "d9685367-8581-4199-851e-692c09fa22b3",
   "metadata": {},
   "outputs": [],
   "source": [
    "with open(\"output4.txt\", \"w\", encoding=\"UTF-8\") as file:\n",
    "    file.writelines(lines)"
   ]
  },
  {
   "cell_type": "code",
   "execution_count": 108,
   "id": "1ac17f27-f481-48e7-b3da-404c8ad17089",
   "metadata": {},
   "outputs": [],
   "source": [
    "# 내용추가 : 오픈한 파일의 기존 내용을 유지하고 뒤에 추가, 파일 없는 경우 신규 생성\n",
    "with open(\"output4.txt\", \"a\", encoding=\"UTF-8\") as file:\n",
    "    file.write(\"추가합니다\")"
   ]
  },
  {
   "cell_type": "markdown",
   "id": "c91a6223-4cc5-4e09-a29f-b8f2c0789986",
   "metadata": {},
   "source": [
    "## 입력 & 출력"
   ]
  },
  {
   "cell_type": "markdown",
   "id": "e7833b67-cdb6-4b7e-9c12-c80d72d3e62c",
   "metadata": {},
   "source": [
    "### Text 파일"
   ]
  },
  {
   "cell_type": "code",
   "execution_count": 112,
   "id": "877f46be-73f6-4ddb-ae0d-5f939911626a",
   "metadata": {},
   "outputs": [],
   "source": [
    "# 파일 읽기\n",
    "rpath=r\"D:\\AI\\Machine Learning\\after\\workspace\\PythonBasic\\File\\input.txt\"\n",
    "with open(rpath, 'r', encoding=\"UTF-8\") as f:\n",
    "    data = f.read()\n",
    "\n",
    "# 파일 쓰기\n",
    "wpath=r\"D:\\AI\\Machine Learning\\after\\workspace\\PythonBasic\\File\\in_output.txt\"\n",
    "with open(wpath, 'w', encoding=\"UTF-8\") as f:\n",
    "    f.write(data)"
   ]
  },
  {
   "cell_type": "markdown",
   "id": "235b2aea-c30d-4b7b-a6cf-2e9482695fe4",
   "metadata": {},
   "source": [
    "### 이미지 파일"
   ]
  },
  {
   "cell_type": "code",
   "execution_count": 116,
   "id": "806eeb15-f9e0-4d1a-8859-975e86110d77",
   "metadata": {},
   "outputs": [],
   "source": [
    "# 파일 읽기\n",
    "rpath=r\"D:\\AI\\Machine Learning\\after\\workspace\\PythonBasic\\File\\pengsoo.png\"\n",
    "with open(rpath, 'rb') as f:     # 바이너리 읽기 모드로 변경\n",
    "    data = f.read()\n",
    "\n",
    "# 파일 쓰기\n",
    "wpath=r\"D:\\AI\\Machine Learning\\after\\workspace\\PythonBasic\\File\\pengsoo_out.png\"\n",
    "with open(wpath, 'wb') as f:    # 바이너리 쓰기 모드로 변경\n",
    "    f.write(data)"
   ]
  },
  {
   "cell_type": "markdown",
   "id": "88af6c8e-e9f1-4925-a250-5e340fcdf1e4",
   "metadata": {},
   "source": [
    "# Web Crawling\n",
    "* https://requests.readthedocs.io/en/latest/\n",
    "* html 가져오기\n",
    "* BeautifulSoup\n",
    "* 뉴스 제목\n",
    "* 주식 현재가"
   ]
  },
  {
   "cell_type": "markdown",
   "id": "8de437ef-598d-4c02-a11e-3eaed981e2b3",
   "metadata": {},
   "source": [
    "## html 가져오기 "
   ]
  },
  {
   "cell_type": "code",
   "execution_count": 68,
   "id": "9a4347ee-5a80-45c4-bd2b-86f20b7091b1",
   "metadata": {},
   "outputs": [],
   "source": [
    "import requests\n",
    "from bs4 import BeautifulSoup"
   ]
  },
  {
   "cell_type": "code",
   "execution_count": 70,
   "id": "8f2d6671-b4cb-4f96-aa91-8e83115ce492",
   "metadata": {},
   "outputs": [],
   "source": [
    "# 1. 해당 페이지 URL  \n",
    "# 2. 페이지 요청      \n",
    "# 3. 응답 코드 확인 \n",
    "# 4. 원하는 페이지에서 가져오기  \n",
    "# 5. BeautifulSoup을 사용하여 HTML 파싱 \n",
    "# 6. select 함수를 사용하여 태그를 찾아서 리스트로 반환  "
   ]
  },
  {
   "cell_type": "code",
   "execution_count": 72,
   "id": "fc2899d0-9b72-43de-8882-805ff21a8527",
   "metadata": {},
   "outputs": [
    {
     "data": {
      "text/plain": [
       "200"
      ]
     },
     "execution_count": 72,
     "metadata": {},
     "output_type": "execute_result"
    }
   ],
   "source": [
    "# 1. 해당 페이지 URL\n",
    "url=\"https://www.naver.com\"\n",
    "\n",
    "# 2. 페이지 요청\n",
    "response=requests.get(url)\n",
    "\n",
    "# 3. 응답코드 200\n",
    "response.status_code"
   ]
  },
  {
   "cell_type": "code",
   "execution_count": 74,
   "id": "bad3ff4e-871f-483b-9ccb-99c49eaf4cce",
   "metadata": {},
   "outputs": [],
   "source": [
    "# 4. 페이지 가져오기 \n",
    "html=response.text\n",
    "# html"
   ]
  },
  {
   "cell_type": "markdown",
   "id": "b385ddf2-1f0c-4eaf-a917-a6a0b3a7b6a7",
   "metadata": {},
   "source": [
    "## 원하는 태그 추출 - BeautifulSoup"
   ]
  },
  {
   "cell_type": "code",
   "execution_count": 76,
   "id": "f080dd0b-7085-48fd-9f8f-89b5a2c8cfba",
   "metadata": {},
   "outputs": [
    {
     "data": {
      "text/plain": [
       "8"
      ]
     },
     "execution_count": 76,
     "metadata": {},
     "output_type": "execute_result"
    }
   ],
   "source": [
    "# 5. BeautifulSoup을 사용하여 HTML파싱 - 원하는 HTML로부터 데이터를 가져옴\n",
    "soup=BeautifulSoup(html, \"html.parser\")\n",
    "\n",
    "# 6. select를 사용하여 P태그를 찾아 리스트로 반환\n",
    "a_tags=soup.select(\"a\")\n",
    "len(a_tags)            # print(a_tags)"
   ]
  },
  {
   "cell_type": "code",
   "execution_count": 78,
   "id": "7db69c82-a2b9-4f6c-b311-c330fa1af222",
   "metadata": {},
   "outputs": [
    {
     "name": "stdout",
     "output_type": "stream",
     "text": [
      "상단영역 바로가기\n",
      "서비스 메뉴 바로가기\n",
      "새소식 블록 바로가기\n",
      "쇼핑 블록 바로가기\n",
      "관심사 블록 바로가기\n",
      "MY 영역 바로가기\n",
      "위젯 보드 바로가기\n",
      "보기 설정 바로가기\n"
     ]
    }
   ],
   "source": [
    "for tag in a_tags:\n",
    "    print(tag.text)"
   ]
  },
  {
   "cell_type": "markdown",
   "id": "7c9dc936-54b3-467a-984c-adbda053795f",
   "metadata": {},
   "source": [
    "## 뉴스 제목"
   ]
  },
  {
   "cell_type": "code",
   "execution_count": 80,
   "id": "3f9631b3-819d-46ed-bd2e-3a38ec6b6f27",
   "metadata": {},
   "outputs": [
    {
     "data": {
      "text/plain": [
       "10"
      ]
     },
     "execution_count": 80,
     "metadata": {},
     "output_type": "execute_result"
    }
   ],
   "source": [
    "# 1. 해당 페이지 URL  \n",
    "url=\"https://search.naver.com/search.naver?ssc=tab.news.all&where=news&sm=tab_jum&query=%EC%82%BC%EC%84%B1%EC%A0%84%EC%9E%90\"\n",
    "\n",
    "# 2. 페이지 요청   \n",
    "response=requests.get(url)\n",
    "\n",
    "# 3. 응답 코드 확인 \n",
    "response.status_code\n",
    "\n",
    "# 4. 페이지 HTML 가져오기 \n",
    "html=response.text\n",
    "\n",
    "# 5. BeautifulSoup을 사용하여 HTML파싱 \n",
    "soup=BeautifulSoup(html, 'html.parser')\n",
    "\n",
    "# 6. select 함수 사용하여 원하는 태그 리스트로 반환\n",
    "links=soup.select('.news_tit')\n",
    "len(links)"
   ]
  },
  {
   "cell_type": "code",
   "execution_count": 82,
   "id": "61dcd705-835f-4c38-8ef8-aa7a0e3cb3e6",
   "metadata": {},
   "outputs": [
    {
     "name": "stdout",
     "output_type": "stream",
     "text": [
      "삼성전자 \"HBM3E 개선 제품 1분기말 공급 예정…2분기 본격화\" https://www.yna.co.kr/view/AKR20250131062100003?input=1195m\n",
      "삼성전자 4분기 반도체 영업익 2조9000억원 https://www.chosun.com/economy/tech_it/2025/01/31/PPOBGEKSKFGXZCRLD2FZGHKIN4/?utm_source=naver&utm_medium=referral&utm_campaign=naver-news\n",
      "‘삼성전자, 엔비디아에 HBM 납품’ 외신 또 오보 https://www.hani.co.kr/arti/economy/marketing/1180188.html\n",
      "삼성전자 CFO \"경영상황 어렵지만 반드시 짧은 시간 내에 해결\" https://magazine.hankyung.com/business/article/202501315747b\n",
      "'메모리 양극화' 삼성전자…HBM에 반등 달렸다(종합) http://www.edaily.co.kr/news/newspath.asp?newsid=02728966642043296\n",
      "삼성전자 \"지난해 4분기 HBM 매출 1.9배 증가\" https://www.newsis.com/view/NISX20250131_0003048665\n",
      "삼성전자 4분기 반도체 영업이익 2.9조…‘주력 범용 메모리 부진’ https://news.kbs.co.kr/news/pc/view/view.do?ncd=8163777&ref=A\n",
      "삼성전자 지난해 4분기 반도체 영업익 2.9조 https://www.nocutnews.co.kr/news/6285244?utm_source=naver&utm_medium=article&utm_campaign=20250131092727\n",
      "블룸버그 \"삼성전자, 엔비디아에 8단 HBM3E 공급 승인받아\" https://www.news1.kr/world/international-economy/5675164\n",
      "삼성전자, HBM3E '개선제품' 내놓는다…\"경영 어려움 단시간 해결\" [biz-플... https://www.sedaily.com/NewsView/2GOSTJNTH5\n"
     ]
    }
   ],
   "source": [
    "for i, link in enumerate(links):\n",
    "    title=link.text\n",
    "    url=link.attrs[\"href\"]\n",
    "    print(title, url)"
   ]
  },
  {
   "cell_type": "code",
   "execution_count": 88,
   "id": "3c40db42-823d-4644-8d96-1bb274423dad",
   "metadata": {},
   "outputs": [
    {
     "name": "stdin",
     "output_type": "stream",
     "text": [
      "검색어 >>>>>> 현대자동차\n"
     ]
    },
    {
     "data": {
      "text/plain": [
       "'현대자동차'"
      ]
     },
     "execution_count": 88,
     "metadata": {},
     "output_type": "execute_result"
    }
   ],
   "source": [
    "# 검색어 입력 : 현대차, 카카오, SK 등\n",
    "keyword=input(\"검색어 >>>>>>\")\n",
    "keyword"
   ]
  },
  {
   "cell_type": "code",
   "execution_count": 106,
   "id": "d89feb14-8ed7-4e40-9abf-e753b681b4df",
   "metadata": {},
   "outputs": [
    {
     "data": {
      "text/plain": [
       "10"
      ]
     },
     "execution_count": 106,
     "metadata": {},
     "output_type": "execute_result"
    }
   ],
   "source": [
    "# 1 >> 2 >> 3 URL 페이지 요청\n",
    "url=\"https://search.naver.com/search.naver?where=news&ie=utf8&sm=nws_hty&query=\" + keyword\n",
    "response=requests.get(url)\n",
    "\n",
    "# 4. 원하는 페이지 가져오기\n",
    "html=response.text\n",
    "\n",
    "# 5. BeautifulSoup을 사용하여 HTML 파싱 \n",
    "soup=BeautifulSoup(html, 'html.parser')\n",
    "\n",
    "# 6. select 함수를 사용하여 태그를 찾아서 리스트로 반환  \n",
    "links=soup.select('.news_tit')\n",
    "len(links)  "
   ]
  },
  {
   "cell_type": "code",
   "execution_count": 92,
   "id": "2b86a383-b930-4ca6-bec9-33b902ef0d4e",
   "metadata": {},
   "outputs": [
    {
     "name": "stdout",
     "output_type": "stream",
     "text": [
      "현대차·기아, 글로벌 자동차 시장 '톱3' 유지…도요타와 격차 줄여 https://www.polinews.co.kr/news/articleView.html?idxno=679603\n",
      "현대차·기아 '낙수효과'…1차 협력사 매출 20년 새 4배 증가 https://www.hankyung.com/article/202501210051i\n",
      "삼성·현대차·LG, 로봇사업서 '미래 먹거리' 찾는다 https://www.fetv.co.kr/news/article.html?no=185800\n",
      "넥슨, ‘카트라이더 러쉬플러스’ x 현대자동차…특별 이벤트 진행 https://www.mk.co.kr/article/11226752\n",
      "[종합] 현대차, 지난해 매출 ‘사상 최대’…영업이익은 5.9% ↓ https://www.etoday.co.kr/news/view/2440415\n",
      "현대자동차, 통근차량 수소전기버스 전환 나선다 https://www.dailysportshankook.co.kr/news/articleView.html?idxno=342651\n",
      "현대차, 작년 매출 175兆 신기록 … 强달러에 영업익 5.9% 감소 https://www.ilovepc.co.kr/news/articleView.html?idxno=52756\n",
      "\"제네시스5종 추가\" 현대자동차, 구독플랫폼 통합 새단장 https://www.nbnews.kr/news/articleView.html?idxno=103712\n",
      "현대차, 2030년까지 ‘수소전기 통근버스’ 2000대 공급 https://www.etoday.co.kr/news/view/2439920\n",
      "“트럼프, 우리 공장은 처음이지?”…현대차, 조지아 신공장서 ‘자동차... https://www.mk.co.kr/article/11226057\n"
     ]
    }
   ],
   "source": [
    "for link in links:\n",
    "    title=link.text\n",
    "    url=link.attrs['href']\n",
    "    print(title, url)"
   ]
  },
  {
   "cell_type": "markdown",
   "id": "01f663f6-1be7-43b0-8d31-291e386ea094",
   "metadata": {},
   "source": [
    "## 주식 현재가"
   ]
  },
  {
   "cell_type": "code",
   "execution_count": 15,
   "id": "ffb84b5f-f2c7-4e0d-af0a-7f962be4384c",
   "metadata": {},
   "outputs": [
    {
     "data": {
      "text/plain": [
       "'83,500'"
      ]
     },
     "execution_count": 15,
     "metadata": {},
     "output_type": "execute_result"
    }
   ],
   "source": [
    "# 삼성전자 현재가 \n",
    "\n",
    "url=\"https://finance.naver.com/item/sise.naver?code=005930\"\n",
    "response=requests.get(url)\n",
    "html=response.text\n",
    "soup=BeautifulSoup(html, \"html.parser\")\n",
    "price=soup.select_one(\"#_nowVal\").text\n",
    "price"
   ]
  },
  {
   "cell_type": "code",
   "execution_count": 16,
   "id": "d3178d17-c2a5-4fc4-b41c-55b40f7b9ed6",
   "metadata": {},
   "outputs": [
    {
     "name": "stdout",
     "output_type": "stream",
     "text": [
      "83500 <class 'int'>\n"
     ]
    }
   ],
   "source": [
    "price=int(price.replace(',', ''))\n",
    "print(price, type(price))"
   ]
  },
  {
   "cell_type": "code",
   "execution_count": 104,
   "id": "cc663c9c-d6df-427f-8ceb-7cd26a42514a",
   "metadata": {},
   "outputs": [
    {
     "name": "stdout",
     "output_type": "stream",
     "text": [
      "52400\n",
      "199200\n",
      "38350\n"
     ]
    }
   ],
   "source": [
    "# 종목 코드 리스트 \n",
    "\n",
    "codes=['005930', '000660', '035720']      # 삼성전자, SK하이닉스, 카카오\n",
    "\n",
    "for code in codes:\n",
    "    \n",
    "    # \"f\"는 Python의 f-string입니다. f-string을 사용하면 문자열 안에 변수나 표현식을 포함할 수 있습니다\n",
    "    url=\"https://finance.naver.com/item/sise.naver?code=\" + code\n",
    "    \n",
    "    response=requests.get(url)\n",
    "    html=response.text\n",
    "    soup=BeautifulSoup(html, \"html.parser\")\n",
    "    \n",
    "    price=soup.select_one(\"#_nowVal\").text\n",
    "    price=price.replace(',','')\n",
    "    print(price)"
   ]
  },
  {
   "cell_type": "markdown",
   "id": "4f700587-daba-4fb5-a602-50254486e1d2",
   "metadata": {},
   "source": [
    "## 주식 현재가 여러 페이지"
   ]
  },
  {
   "cell_type": "code",
   "execution_count": 20,
   "id": "70697e39-49e4-491f-bd37-155d9ba435d7",
   "metadata": {},
   "outputs": [
    {
     "name": "stdout",
     "output_type": "stream",
     "text": [
      "2024.08.01 83,100 20,569,962\n",
      "2024.07.31 83,900 20,744,323\n",
      "2024.07.30 81,000 13,169,636\n",
      "2024.07.29 81,200 12,797,136\n",
      "2024.07.26 80,900 14,508,334\n",
      "2024.07.25 80,400 20,323,811\n",
      "2024.07.24 82,000 16,939,083\n",
      "2024.07.23 83,900 15,766,389\n",
      "2024.07.22 83,000 18,987,560\n",
      "2024.07.19 84,400 18,569,122\n"
     ]
    }
   ],
   "source": [
    "# 1 Page 가져오기\n",
    "url=\"https://finance.naver.com/item/sise_day.naver?code=005930&page=1\"\n",
    "headers = {\n",
    "    'User-Agent': 'Mozilla/5.0 (Windows NT 10.0; Win64; x64) AppleWebKit/537.36 (KHTML, like Gecko) Chrome/94.0.4606.71 Safari/537.36'\n",
    "}    # 접속이 안될때 (차단... iFrame 등) 웹 브라우저를 통해 보는 것 처럼\n",
    "\n",
    "response=requests.get(url, headers=headers)\n",
    "html=response.text\n",
    "\n",
    "soup=BeautifulSoup(html, \"html.parser\")\n",
    "tables=soup.select('table')\n",
    "\n",
    "for table in tables:\n",
    "    rows=table.select('tr')\n",
    "\n",
    "    for row in rows:\n",
    "        columns=row.select('td > span')\n",
    "       # print(columns)\n",
    "\n",
    "        if columns:  \n",
    "            day=columns[0].text\n",
    "            price=columns[1].text\n",
    "            trading=columns[6].text\n",
    "            print(day, price, trading)"
   ]
  },
  {
   "cell_type": "code",
   "execution_count": 142,
   "id": "2de3b092-5200-4b15-9fe0-a721ee919278",
   "metadata": {},
   "outputs": [
    {
     "name": "stdout",
     "output_type": "stream",
     "text": [
      "====== 1 ========\n",
      "2025.01.31 52,400 41,833,920\n",
      "2025.01.24 53,700 11,867,631\n",
      "2025.01.23 53,700 15,588,067\n",
      "2025.01.22 54,300 18,341,991\n",
      "2025.01.21 53,500 13,535,702\n",
      "2025.01.20 53,400 11,822,531\n",
      "2025.01.17 53,700 18,805,344\n",
      "2025.01.16 54,300 18,627,298\n",
      "2025.01.15 53,700 18,625,025\n",
      "2025.01.14 53,900 17,465,926\n",
      "\n",
      "====== 2 ========\n",
      "2025.01.13 54,100 16,868,600\n",
      "2025.01.10 55,300 16,059,223\n",
      "2025.01.09 56,100 24,490,592\n",
      "2025.01.08 57,300 26,593,553\n",
      "2025.01.07 55,400 17,030,235\n",
      "2025.01.06 55,900 19,034,284\n",
      "2025.01.03 54,400 19,318,046\n",
      "2025.01.02 53,400 16,630,538\n",
      "2024.12.30 53,200 12,624,702\n",
      "2024.12.27 53,700 10,747,196\n",
      "\n",
      "====== 3 ========\n",
      "2024.12.26 53,600 10,517,075\n",
      "2024.12.24 54,400 11,634,677\n",
      "2024.12.23 53,500 13,672,650\n",
      "2024.12.20 53,000 24,674,774\n",
      "2024.12.19 53,100 22,481,925\n",
      "2024.12.18 54,900 13,698,937\n",
      "2024.12.17 54,200 20,215,230\n",
      "2024.12.16 55,600 15,277,277\n",
      "2024.12.13 56,100 15,908,823\n",
      "2024.12.12 55,900 33,476,698\n",
      "\n",
      "====== 4 ========\n",
      "2024.12.11 54,000 14,565,947\n",
      "2024.12.10 54,000 20,783,970\n",
      "2024.12.09 53,400 26,227,680\n",
      "2024.12.06 54,100 22,861,874\n",
      "2024.12.05 53,700 23,588,277\n",
      "2024.12.04 53,100 29,004,766\n",
      "2024.12.03 53,600 23,374,603\n",
      "2024.12.02 53,600 22,044,867\n",
      "2024.11.29 54,200 24,513,531\n",
      "2024.11.28 55,500 20,001,134\n",
      "\n",
      "====== 5 ========\n",
      "2024.11.27 56,300 21,808,387\n",
      "2024.11.26 58,300 23,209,405\n",
      "2024.11.25 57,900 36,237,325\n",
      "2024.11.22 56,000 15,281,543\n",
      "2024.11.21 56,400 19,096,850\n",
      "2024.11.20 55,300 20,864,667\n",
      "2024.11.19 56,300 31,539,632\n",
      "2024.11.18 56,700 48,095,234\n",
      "2024.11.15 53,500 46,774,485\n",
      "2024.11.14 49,900 48,510,715\n",
      "\n",
      "====== 6 ========\n",
      "2024.11.13 50,600 52,527,995\n",
      "2024.11.12 53,000 37,962,881\n",
      "2024.11.11 55,000 29,811,326\n",
      "2024.11.08 57,000 13,877,396\n",
      "2024.11.07 57,500 17,043,102\n",
      "2024.11.06 57,300 22,092,218\n",
      "2024.11.05 57,600 17,484,474\n",
      "2024.11.04 58,700 15,586,947\n",
      "2024.11.01 58,300 19,083,180\n",
      "2024.10.31 59,200 35,809,196\n",
      "\n",
      "====== 7 ========\n",
      "2024.10.30 59,100 19,838,511\n",
      "2024.10.29 59,600 28,369,314\n",
      "2024.10.28 58,100 27,775,009\n",
      "2024.10.25 55,900 25,829,315\n",
      "2024.10.24 56,600 31,499,922\n",
      "2024.10.23 59,100 27,300,780\n",
      "2024.10.22 57,700 27,582,527\n",
      "2024.10.21 59,000 18,514,905\n",
      "2024.10.18 59,200 14,420,260\n",
      "2024.10.17 59,700 23,372,873\n",
      "\n",
      "====== 8 ========\n",
      "2024.10.16 59,500 23,303,268\n",
      "2024.10.15 61,000 22,715,239\n",
      "2024.10.14 60,800 20,886,249\n",
      "2024.10.11 59,300 29,623,969\n",
      "2024.10.10 58,900 45,262,214\n",
      "2024.10.08 60,300 27,411,786\n",
      "2024.10.07 61,000 35,066,533\n",
      "2024.10.04 60,600 24,247,578\n",
      "2024.10.02 61,300 28,473,536\n",
      "2024.09.30 61,500 32,694,163\n",
      "\n",
      "====== 9 ========\n",
      "2024.09.27 64,200 28,433,030\n",
      "2024.09.26 64,700 37,566,015\n",
      "2024.09.25 62,200 28,652,438\n",
      "2024.09.24 63,200 26,957,500\n",
      "2024.09.23 62,600 28,542,376\n",
      "2024.09.20 63,000 32,746,056\n",
      "2024.09.19 63,100 49,402,713\n",
      "2024.09.13 64,400 25,045,135\n",
      "2024.09.12 66,300 35,884,106\n",
      "2024.09.11 64,900 35,809,707\n",
      "\n",
      "====== 10 ========\n",
      "2024.09.10 66,200 30,651,376\n",
      "2024.09.09 67,500 23,263,298\n",
      "2024.09.06 68,900 19,022,299\n",
      "2024.09.05 69,000 25,686,769\n",
      "2024.09.04 70,000 27,366,563\n",
      "2024.09.03 72,500 16,314,599\n",
      "2024.09.02 74,400 12,641,376\n",
      "2024.08.30 74,300 16,358,520\n",
      "2024.08.29 74,000 16,884,479\n",
      "2024.08.28 76,400 9,794,514\n",
      "\n",
      "====== 11 ========\n",
      "2024.08.27 75,800 11,130,145\n",
      "2024.08.26 76,100 15,655,938\n",
      "2024.08.23 77,700 9,420,306\n",
      "2024.08.22 78,300 8,149,101\n",
      "2024.08.21 78,300 7,805,598\n",
      "2024.08.20 78,900 10,683,836\n",
      "2024.08.19 78,300 14,146,565\n",
      "2024.08.16 80,200 22,061,478\n",
      "2024.08.14 77,200 13,246,168\n",
      "2024.08.13 76,100 10,716,261\n",
      "\n",
      "====== 12 ========\n",
      "2024.08.12 75,500 9,839,259\n",
      "2024.08.09 74,700 16,388,222\n",
      "2024.08.08 73,400 28,414,729\n",
      "2024.08.07 74,700 32,710,428\n",
      "2024.08.06 72,500 47,295,226\n",
      "2024.08.05 71,400 54,608,790\n",
      "2024.08.02 79,600 25,800,275\n",
      "2024.08.01 83,100 20,900,338\n",
      "2024.07.31 83,900 20,744,323\n",
      "2024.07.30 81,000 13,169,636\n",
      "\n",
      "====== 13 ========\n",
      "2024.07.29 81,200 12,797,136\n",
      "2024.07.26 80,900 14,508,334\n",
      "2024.07.25 80,400 20,323,811\n",
      "2024.07.24 82,000 16,939,083\n",
      "2024.07.23 83,900 15,766,389\n",
      "2024.07.22 83,000 18,987,560\n",
      "2024.07.19 84,400 18,569,122\n",
      "2024.07.18 86,900 24,721,790\n",
      "2024.07.17 86,700 18,186,490\n",
      "2024.07.16 87,700 16,166,688\n",
      "\n",
      "====== 14 ========\n",
      "2024.07.15 86,700 25,193,080\n",
      "2024.07.12 84,400 26,344,386\n",
      "2024.07.11 87,600 24,677,608\n",
      "2024.07.10 87,800 17,813,847\n",
      "2024.07.09 87,800 21,336,201\n",
      "2024.07.08 87,400 24,035,809\n",
      "2024.07.05 87,100 45,791,193\n",
      "2024.07.04 84,600 43,857,229\n",
      "2024.07.03 81,800 11,440,328\n",
      "2024.07.02 81,800 14,471,904\n",
      "\n",
      "====== 15 ========\n",
      "2024.07.01 81,800 11,317,202\n",
      "2024.06.28 81,500 9,455,929\n",
      "2024.06.27 81,600 11,739,720\n",
      "2024.06.26 81,300 17,783,242\n",
      "2024.06.25 80,800 19,088,458\n",
      "2024.06.24 80,600 15,454,227\n",
      "2024.06.21 80,000 17,907,523\n",
      "2024.06.20 81,600 20,288,913\n",
      "2024.06.19 81,200 24,168,863\n",
      "2024.06.18 79,800 18,207,598\n",
      "\n",
      "====== 16 ========\n",
      "2024.06.17 78,100 16,123,051\n",
      "2024.06.14 79,600 22,926,612\n",
      "2024.06.13 78,600 33,763,804\n",
      "2024.06.12 76,500 19,246,725\n",
      "2024.06.11 75,200 16,971,175\n",
      "2024.06.10 75,700 14,598,755\n",
      "2024.06.07 77,300 21,189,349\n",
      "2024.06.05 77,400 23,177,968\n",
      "2024.06.04 75,300 14,098,053\n",
      "2024.06.03 75,700 15,706,268\n",
      "\n",
      "====== 17 ========\n",
      "2024.05.31 73,500 26,198,776\n",
      "2024.05.30 73,500 28,551,273\n",
      "2024.05.29 75,200 30,244,875\n",
      "2024.05.28 77,600 18,539,072\n",
      "2024.05.27 77,200 43,825,202\n",
      "2024.05.24 75,900 27,891,278\n",
      "2024.05.23 78,300 18,728,087\n",
      "2024.05.22 77,700 19,521,506\n",
      "2024.05.21 78,400 13,690,583\n",
      "2024.05.20 78,900 19,456,783\n",
      "\n",
      "====== 18 ========\n",
      "2024.05.17 77,400 15,918,201\n",
      "2024.05.16 78,200 20,989,778\n",
      "2024.05.14 78,300 11,763,992\n",
      "2024.05.13 78,400 18,652,344\n",
      "2024.05.10 79,200 16,976,124\n",
      "2024.05.09 79,700 18,759,935\n",
      "2024.05.08 81,300 13,089,576\n",
      "2024.05.07 81,300 26,238,868\n",
      "2024.05.03 77,600 13,151,889\n",
      "2024.05.02 78,000 18,900,640\n",
      "\n",
      "====== 19 ========\n",
      "2024.04.30 77,500 19,007,007\n",
      "2024.04.29 76,700 14,664,474\n",
      "2024.04.26 76,700 12,755,629\n",
      "2024.04.25 76,300 15,549,134\n",
      "2024.04.24 78,600 22,166,150\n",
      "2024.04.23 75,500 18,717,699\n",
      "2024.04.22 76,100 30,469,477\n",
      "2024.04.19 77,600 31,317,563\n",
      "2024.04.18 79,600 21,370,190\n",
      "2024.04.17 78,900 22,611,631\n",
      "\n",
      "====== 20 ========\n",
      "2024.04.16 80,000 31,949,845\n",
      "2024.04.15 82,200 26,663,772\n",
      "2024.04.12 83,700 17,061,770\n",
      "2024.04.11 84,100 25,538,009\n",
      "2024.04.09 83,600 23,725,956\n",
      "2024.04.08 84,500 18,953,232\n",
      "2024.04.05 84,500 18,883,752\n",
      "2024.04.04 85,300 25,248,934\n",
      "2024.04.03 84,100 30,493,347\n",
      "2024.04.02 85,000 37,077,944\n",
      "\n"
     ]
    }
   ],
   "source": [
    "# 1 ~ 20 Page, 총 200개 데이터\n",
    "\n",
    "headers = {\n",
    "    'User-Agent': 'Mozilla/5.0 (Windows NT 10.0; Win64; x64) AppleWebKit/537.36 (KHTML, like Gecko) Chrome/94.0.4606.71 Safari/537.36'\n",
    "} \n",
    "\n",
    "pageNum=1\n",
    "lastPage=21\n",
    "\n",
    "for i in range(pageNum, lastPage):    \n",
    "    print(\"======\", i, \"========\")\n",
    "\n",
    "    url=\"https://finance.naver.com/item/sise_day.naver?code=005930&page=\" + str(i)\n",
    "    response=requests.get(url, headers=headers)\n",
    "    html=response.text\n",
    "    soup=BeautifulSoup(html, \"html.parser\")\n",
    "    tables=soup.select(\"table\")\n",
    "\n",
    "    for table in tables:\n",
    "        rows=table.select(\"tr\")\n",
    "\n",
    "        for row in rows:\n",
    "            columns=row.select(\"td > span\")\n",
    "\n",
    "            if columns:\n",
    "                day=columns[0].text\n",
    "                price=columns[1].text\n",
    "                trading=columns[6].text\n",
    "                print(day, price, trading)\n",
    "    print()"
   ]
  },
  {
   "cell_type": "markdown",
   "id": "a21da112-d6a1-4471-ba39-a4c654fd2b26",
   "metadata": {},
   "source": [
    "## 엑셀\n",
    "* 엑셀 만들기\n",
    "* 엑셀 불러우기\n",
    "* 주식 현재가 엑셀 저장"
   ]
  },
  {
   "cell_type": "markdown",
   "id": "1a2a33c2-df1c-4ee9-97b4-534faef8f9c9",
   "metadata": {},
   "source": [
    "### 엑셀 만들기"
   ]
  },
  {
   "cell_type": "code",
   "execution_count": 35,
   "id": "d5953b5c-0294-4c12-8f8b-4f4fa370e1e9",
   "metadata": {},
   "outputs": [
    {
     "name": "stdout",
     "output_type": "stream",
     "text": [
      "Collecting openpyxl\n",
      "  Downloading openpyxl-3.1.3-py2.py3-none-any.whl.metadata (2.5 kB)\n",
      "Collecting et-xmlfile (from openpyxl)\n",
      "  Downloading et_xmlfile-1.1.0-py3-none-any.whl.metadata (1.8 kB)\n",
      "Downloading openpyxl-3.1.3-py2.py3-none-any.whl (251 kB)\n",
      "   ---------------------------------------- 0.0/251.3 kB ? eta -:--:--\n",
      "   ---------------------------------------- 0.0/251.3 kB ? eta -:--:--\n",
      "   ---------------------------------------- 0.0/251.3 kB ? eta -:--:--\n",
      "   - -------------------------------------- 10.2/251.3 kB ? eta -:--:--\n",
      "   - -------------------------------------- 10.2/251.3 kB ? eta -:--:--\n",
      "   ------ -------------------------------- 41.0/251.3 kB 393.8 kB/s eta 0:00:01\n",
      "   ---------------------------------------  245.8/251.3 kB 1.9 MB/s eta 0:00:01\n",
      "   ---------------------------------------- 251.3/251.3 kB 1.4 MB/s eta 0:00:00\n",
      "Downloading et_xmlfile-1.1.0-py3-none-any.whl (4.7 kB)\n",
      "Installing collected packages: et-xmlfile, openpyxl\n",
      "Successfully installed et-xmlfile-1.1.0 openpyxl-3.1.3\n"
     ]
    }
   ],
   "source": [
    "!pip install openpyxl"
   ]
  },
  {
   "cell_type": "code",
   "execution_count": 148,
   "id": "786755e9-2352-4baa-bfe8-143f9e403800",
   "metadata": {},
   "outputs": [],
   "source": [
    "import openpyxl    # 파이썬에서 엑셀을 쉽게 다를 수 있도록 도와주는 라이브러리"
   ]
  },
  {
   "cell_type": "code",
   "execution_count": 150,
   "id": "c140111d-333d-497f-b232-4e9d0ac0b0b6",
   "metadata": {},
   "outputs": [],
   "source": [
    "# 엑셀 만들기\n",
    "wb=openpyxl.Workbook()"
   ]
  },
  {
   "cell_type": "code",
   "execution_count": 152,
   "id": "2d6e5fcf-7dff-483a-b016-d4d62f220444",
   "metadata": {},
   "outputs": [],
   "source": [
    "# 엑셀 시트 만들기\n",
    "ws=wb.create_sheet('성적표')"
   ]
  },
  {
   "cell_type": "code",
   "execution_count": 154,
   "id": "6acb49a5-c740-430d-b176-1117ecb5a3ca",
   "metadata": {},
   "outputs": [],
   "source": [
    "# 데이터 추가\n",
    "ws['A1']='번호'\n",
    "ws['B1']='이름'\n",
    "ws['C1']='점수'\n",
    "\n",
    "ws['A2']=1\n",
    "ws['B2']='홍길동'\n",
    "ws['C2']=90"
   ]
  },
  {
   "cell_type": "code",
   "execution_count": 158,
   "id": "8da9da20-ad65-4e1f-a410-e95d4ae5d0a0",
   "metadata": {},
   "outputs": [],
   "source": [
    "# 엑셀 저장\n",
    "fpath=r'D:\\Edu\\Machine Learning\\workspace\\PythonBasic\\File\\data.xlsx'\n",
    "wb.save(fpath)"
   ]
  },
  {
   "cell_type": "markdown",
   "id": "106b7285-024b-4548-9b4d-dbe018290522",
   "metadata": {},
   "source": [
    "### 엑셀 불러오기"
   ]
  },
  {
   "cell_type": "code",
   "execution_count": 161,
   "id": "dd34e143-66f9-4d6a-bbad-68d50db79c57",
   "metadata": {},
   "outputs": [],
   "source": [
    "fpath=r'D:\\Edu\\Machine Learning\\workspace\\PythonBasic\\File\\data.xlsx'\n",
    "\n",
    "# 엑셀 불러오기\n",
    "wb=openpyxl.load_workbook(fpath)\n",
    "ws=wb['성적표']\n",
    "\n",
    "# 데이터 수정 및 추가\n",
    "ws['B2']='펭수'\n",
    "\n",
    "ws['A3']=2\n",
    "ws['B3']='범이'\n",
    "ws['C3']=70\n",
    "\n",
    "# 엑셀 저장\n",
    "wb.save(fpath)"
   ]
  },
  {
   "cell_type": "markdown",
   "id": "f46e4ef5-89c3-40d3-96e7-c2fd8a5abeb4",
   "metadata": {},
   "source": [
    "### 주식 현재가 엑셀 저장"
   ]
  },
  {
   "cell_type": "code",
   "execution_count": 172,
   "id": "a720cbfe-1d1c-4470-b0e8-b33a444c1f3c",
   "metadata": {},
   "outputs": [
    {
     "name": "stdout",
     "output_type": "stream",
     "text": [
      "====== 1 ========\n",
      "====== 2 ========\n",
      "====== 3 ========\n",
      "====== 4 ========\n",
      "====== 5 ========\n",
      "====== 6 ========\n",
      "====== 7 ========\n",
      "====== 8 ========\n",
      "====== 9 ========\n",
      "====== 10 ========\n",
      "====== 11 ========\n",
      "====== 12 ========\n",
      "====== 13 ========\n",
      "====== 14 ========\n",
      "====== 15 ========\n",
      "====== 16 ========\n",
      "====== 17 ========\n",
      "====== 18 ========\n",
      "====== 19 ========\n",
      "====== 20 ========\n"
     ]
    }
   ],
   "source": [
    "from datetime import datetime\n",
    "\n",
    "# 엑셀 추가 1) 엑셀 파일 만들기\n",
    "fpath=r'D:\\Edu\\Machine Learning\\workspace\\PythonBasic\\File\\buy.xlsx'\n",
    "wb=openpyxl.Workbook()\n",
    "ws=wb.active       # 현재 활성화된 시트 선택\n",
    "ws['A1']=\"날짜\"\n",
    "ws['B1']=\"종가(현재가)\"\n",
    "ws['C1']=\"거래량\"\n",
    "\n",
    "pageNum=1\n",
    "lastPage=21\n",
    "\n",
    "# 엑셀 추가 2)\n",
    "excel_row=2\n",
    "\n",
    "for i in range(pageNum, lastPage):    \n",
    "    print(\"======\", i, \"========\")\n",
    "\n",
    "    url=\"https://finance.naver.com/item/sise_day.naver?code=005930&page\" + str(i)\n",
    "    response=requests.get(url, headers=headers)\n",
    "    html=response.text\n",
    "    soup=BeautifulSoup(html, \"html.parser\")\n",
    "    tables=soup.select(\"table\")\n",
    "\n",
    "    for table in tables:\n",
    "        rows=table.select(\"tr\")\n",
    "\n",
    "        for row in rows:\n",
    "            columns=row.select(\"td > span\")\n",
    "\n",
    "            if columns:  \n",
    "                day=columns[0].text\n",
    "                price=columns[1].text\n",
    "                trading=columns[6].text\n",
    "                # print(day, price, trading)\n",
    "\n",
    "                # 엑셀 추가 3-1)\n",
    "                # ws[f'A{excel_row}']=day\n",
    "                # ws[f'B{excel_row}']=price\n",
    "                # ws[f'C{excel_row}']=trading\n",
    "                # excel_row += 1\n",
    "\n",
    "                # 엑셀 추가 3-2) 데이터 포맷 바꾸기 \n",
    "                ws[f'A{excel_row}']=datetime.strptime(day, \"%Y.%m.%d\").date()\n",
    "                ws[f'B{excel_row}']=int(price.replace(',', ''))\n",
    "                ws[f'C{excel_row}']=int(trading.replace(',', ''))\n",
    "                excel_row += 1\n",
    "wb.save(fpath)"
   ]
  },
  {
   "cell_type": "code",
   "execution_count": 176,
   "id": "9981718e-0036-47b7-9991-fcfa51816492",
   "metadata": {},
   "outputs": [
    {
     "data": {
      "text/html": [
       "<div>\n",
       "<style scoped>\n",
       "    .dataframe tbody tr th:only-of-type {\n",
       "        vertical-align: middle;\n",
       "    }\n",
       "\n",
       "    .dataframe tbody tr th {\n",
       "        vertical-align: top;\n",
       "    }\n",
       "\n",
       "    .dataframe thead th {\n",
       "        text-align: right;\n",
       "    }\n",
       "</style>\n",
       "<table border=\"1\" class=\"dataframe\">\n",
       "  <thead>\n",
       "    <tr style=\"text-align: right;\">\n",
       "      <th></th>\n",
       "      <th>날짜</th>\n",
       "      <th>종가(현재가)</th>\n",
       "      <th>거래량</th>\n",
       "    </tr>\n",
       "  </thead>\n",
       "  <tbody>\n",
       "    <tr>\n",
       "      <th>0</th>\n",
       "      <td>2025-01-31</td>\n",
       "      <td>52400</td>\n",
       "      <td>41833920</td>\n",
       "    </tr>\n",
       "    <tr>\n",
       "      <th>1</th>\n",
       "      <td>2025-01-24</td>\n",
       "      <td>53700</td>\n",
       "      <td>11867631</td>\n",
       "    </tr>\n",
       "    <tr>\n",
       "      <th>2</th>\n",
       "      <td>2025-01-23</td>\n",
       "      <td>53700</td>\n",
       "      <td>15588067</td>\n",
       "    </tr>\n",
       "    <tr>\n",
       "      <th>3</th>\n",
       "      <td>2025-01-22</td>\n",
       "      <td>54300</td>\n",
       "      <td>18341991</td>\n",
       "    </tr>\n",
       "    <tr>\n",
       "      <th>4</th>\n",
       "      <td>2025-01-21</td>\n",
       "      <td>53500</td>\n",
       "      <td>13535702</td>\n",
       "    </tr>\n",
       "  </tbody>\n",
       "</table>\n",
       "</div>"
      ],
      "text/plain": [
       "          날짜  종가(현재가)       거래량\n",
       "0 2025-01-31    52400  41833920\n",
       "1 2025-01-24    53700  11867631\n",
       "2 2025-01-23    53700  15588067\n",
       "3 2025-01-22    54300  18341991\n",
       "4 2025-01-21    53500  13535702"
      ]
     },
     "execution_count": 176,
     "metadata": {},
     "output_type": "execute_result"
    }
   ],
   "source": [
    "import pandas as pd\n",
    "df=pd.read_excel(r'D:\\Edu\\Machine Learning\\workspace\\PythonBasic\\File\\buy.xlsx')\n",
    "df.head(5)"
   ]
  },
  {
   "cell_type": "markdown",
   "id": "e7432bbb-4ab9-4b88-909f-84ed46d7c69f",
   "metadata": {},
   "source": [
    "# Selenium"
   ]
  },
  {
   "cell_type": "markdown",
   "id": "0111122a-34a8-45b7-ae23-90eb18bd3970",
   "metadata": {},
   "source": [
    "## 설치"
   ]
  },
  {
   "cell_type": "code",
   "execution_count": 4,
   "id": "3818dbe9-3392-468c-b56d-1bbd77fbdada",
   "metadata": {
    "scrolled": true
   },
   "outputs": [
    {
     "name": "stdout",
     "output_type": "stream",
     "text": [
      "Collecting selenium\n",
      "  Downloading selenium-4.28.1-py3-none-any.whl.metadata (7.1 kB)\n",
      "Requirement already satisfied: urllib3<3,>=1.26 in c:\\users\\jmh\\anaconda3\\lib\\site-packages (from urllib3[socks]<3,>=1.26->selenium) (2.2.3)\n",
      "Collecting trio~=0.17 (from selenium)\n",
      "  Downloading trio-0.28.0-py3-none-any.whl.metadata (8.5 kB)\n",
      "Collecting trio-websocket~=0.9 (from selenium)\n",
      "  Downloading trio_websocket-0.11.1-py3-none-any.whl.metadata (4.7 kB)\n",
      "Requirement already satisfied: certifi>=2021.10.8 in c:\\users\\jmh\\anaconda3\\lib\\site-packages (from selenium) (2024.12.14)\n",
      "Requirement already satisfied: typing_extensions~=4.9 in c:\\users\\jmh\\anaconda3\\lib\\site-packages (from selenium) (4.11.0)\n",
      "Requirement already satisfied: websocket-client~=1.8 in c:\\users\\jmh\\anaconda3\\lib\\site-packages (from selenium) (1.8.0)\n",
      "Collecting attrs>=23.2.0 (from trio~=0.17->selenium)\n",
      "  Downloading attrs-25.1.0-py3-none-any.whl.metadata (10 kB)\n",
      "Requirement already satisfied: sortedcontainers in c:\\users\\jmh\\anaconda3\\lib\\site-packages (from trio~=0.17->selenium) (2.4.0)\n",
      "Requirement already satisfied: idna in c:\\users\\jmh\\anaconda3\\lib\\site-packages (from trio~=0.17->selenium) (3.7)\n",
      "Collecting outcome (from trio~=0.17->selenium)\n",
      "  Downloading outcome-1.3.0.post0-py2.py3-none-any.whl.metadata (2.6 kB)\n",
      "Requirement already satisfied: sniffio>=1.3.0 in c:\\users\\jmh\\anaconda3\\lib\\site-packages (from trio~=0.17->selenium) (1.3.0)\n",
      "Requirement already satisfied: cffi>=1.14 in c:\\users\\jmh\\anaconda3\\lib\\site-packages (from trio~=0.17->selenium) (1.17.1)\n",
      "Collecting wsproto>=0.14 (from trio-websocket~=0.9->selenium)\n",
      "  Downloading wsproto-1.2.0-py3-none-any.whl.metadata (5.6 kB)\n",
      "Requirement already satisfied: pysocks!=1.5.7,<2.0,>=1.5.6 in c:\\users\\jmh\\anaconda3\\lib\\site-packages (from urllib3[socks]<3,>=1.26->selenium) (1.7.1)\n",
      "Requirement already satisfied: pycparser in c:\\users\\jmh\\anaconda3\\lib\\site-packages (from cffi>=1.14->trio~=0.17->selenium) (2.21)\n",
      "Requirement already satisfied: h11<1,>=0.9.0 in c:\\users\\jmh\\anaconda3\\lib\\site-packages (from wsproto>=0.14->trio-websocket~=0.9->selenium) (0.14.0)\n",
      "Downloading selenium-4.28.1-py3-none-any.whl (9.5 MB)\n",
      "   ---------------------------------------- 0.0/9.5 MB ? eta -:--:--\n",
      "   --- ------------------------------------ 0.8/9.5 MB 4.8 MB/s eta 0:00:02\n",
      "   -------- ------------------------------- 2.1/9.5 MB 5.6 MB/s eta 0:00:02\n",
      "   -------------- ------------------------- 3.4/9.5 MB 5.9 MB/s eta 0:00:02\n",
      "   ------------------ --------------------- 4.5/9.5 MB 6.0 MB/s eta 0:00:01\n",
      "   ------------------------ --------------- 5.8/9.5 MB 6.0 MB/s eta 0:00:01\n",
      "   ----------------------------- ---------- 7.1/9.5 MB 6.0 MB/s eta 0:00:01\n",
      "   ---------------------------------- ----- 8.1/9.5 MB 6.1 MB/s eta 0:00:01\n",
      "   ---------------------------------------- 9.5/9.5 MB 6.0 MB/s eta 0:00:00\n",
      "Downloading trio-0.28.0-py3-none-any.whl (486 kB)\n",
      "Downloading trio_websocket-0.11.1-py3-none-any.whl (17 kB)\n",
      "Downloading attrs-25.1.0-py3-none-any.whl (63 kB)\n",
      "Downloading wsproto-1.2.0-py3-none-any.whl (24 kB)\n",
      "Downloading outcome-1.3.0.post0-py2.py3-none-any.whl (10 kB)\n",
      "Installing collected packages: wsproto, attrs, outcome, trio, trio-websocket, selenium\n",
      "  Attempting uninstall: attrs\n",
      "    Found existing installation: attrs 23.1.0\n",
      "    Uninstalling attrs-23.1.0:\n",
      "      Successfully uninstalled attrs-23.1.0\n",
      "Successfully installed attrs-25.1.0 outcome-1.3.0.post0 selenium-4.28.1 trio-0.28.0 trio-websocket-0.11.1 wsproto-1.2.0\n",
      "Collecting webdriver_manager\n",
      "  Downloading webdriver_manager-4.0.2-py2.py3-none-any.whl.metadata (12 kB)\n",
      "Requirement already satisfied: requests in c:\\users\\jmh\\anaconda3\\lib\\site-packages (from webdriver_manager) (2.32.3)\n",
      "Requirement already satisfied: python-dotenv in c:\\users\\jmh\\anaconda3\\lib\\site-packages (from webdriver_manager) (0.21.0)\n",
      "Requirement already satisfied: packaging in c:\\users\\jmh\\anaconda3\\lib\\site-packages (from webdriver_manager) (24.1)\n",
      "Requirement already satisfied: charset-normalizer<4,>=2 in c:\\users\\jmh\\anaconda3\\lib\\site-packages (from requests->webdriver_manager) (3.3.2)\n",
      "Requirement already satisfied: idna<4,>=2.5 in c:\\users\\jmh\\anaconda3\\lib\\site-packages (from requests->webdriver_manager) (3.7)\n",
      "Requirement already satisfied: urllib3<3,>=1.21.1 in c:\\users\\jmh\\anaconda3\\lib\\site-packages (from requests->webdriver_manager) (2.2.3)\n",
      "Requirement already satisfied: certifi>=2017.4.17 in c:\\users\\jmh\\anaconda3\\lib\\site-packages (from requests->webdriver_manager) (2024.12.14)\n",
      "Downloading webdriver_manager-4.0.2-py2.py3-none-any.whl (27 kB)\n",
      "Installing collected packages: webdriver_manager\n",
      "Successfully installed webdriver_manager-4.0.2\n"
     ]
    }
   ],
   "source": [
    "!pip install selenium"
   ]
  },
  {
   "cell_type": "code",
   "execution_count": 6,
   "id": "1114160b-3a7a-46fb-a4dd-d1b5b83d5634",
   "metadata": {},
   "outputs": [
    {
     "name": "stdout",
     "output_type": "stream",
     "text": [
      "Requirement already satisfied: webdriver_manager in c:\\users\\jmh\\anaconda3\\lib\\site-packages (4.0.2)\n",
      "Requirement already satisfied: requests in c:\\users\\jmh\\anaconda3\\lib\\site-packages (from webdriver_manager) (2.32.3)\n",
      "Requirement already satisfied: python-dotenv in c:\\users\\jmh\\anaconda3\\lib\\site-packages (from webdriver_manager) (0.21.0)\n",
      "Requirement already satisfied: packaging in c:\\users\\jmh\\anaconda3\\lib\\site-packages (from webdriver_manager) (24.1)\n",
      "Requirement already satisfied: charset-normalizer<4,>=2 in c:\\users\\jmh\\anaconda3\\lib\\site-packages (from requests->webdriver_manager) (3.3.2)\n",
      "Requirement already satisfied: idna<4,>=2.5 in c:\\users\\jmh\\anaconda3\\lib\\site-packages (from requests->webdriver_manager) (3.7)\n",
      "Requirement already satisfied: urllib3<3,>=1.21.1 in c:\\users\\jmh\\anaconda3\\lib\\site-packages (from requests->webdriver_manager) (2.2.3)\n",
      "Requirement already satisfied: certifi>=2017.4.17 in c:\\users\\jmh\\anaconda3\\lib\\site-packages (from requests->webdriver_manager) (2024.12.14)\n"
     ]
    }
   ],
   "source": [
    "!pip install webdriver_manager"
   ]
  },
  {
   "cell_type": "code",
   "execution_count": 23,
   "id": "fb6439dd-8d05-4b6c-bc3c-61ca030abbb1",
   "metadata": {},
   "outputs": [],
   "source": [
    "import requests\n",
    "from bs4 import BeautifulSoup\n",
    "import urllib.request\n",
    "import time\n",
    "\n",
    "from selenium import webdriver\n",
    "from selenium.webdriver.chrome.service import Service\n",
    "from selenium.webdriver.chrome.options import Options\n",
    "from webdriver_manager.chrome import ChromeDriverManager\n",
    "from selenium.webdriver.common.by import By"
   ]
  },
  {
   "cell_type": "markdown",
   "id": "0ff7c2f5-cd9b-442e-ac87-a56d50e8795b",
   "metadata": {},
   "source": [
    "## 크롬 드라이브 설정"
   ]
  },
  {
   "cell_type": "markdown",
   "id": "832101ac-7a96-4e5c-8185-254100604851",
   "metadata": {},
   "source": [
    "### 자동 실행\n",
    "* 크롬 드라이브 자동 업데이트"
   ]
  },
  {
   "cell_type": "code",
   "execution_count": 75,
   "id": "b99bcb83-37ba-4e93-b8fa-9c32862ccae8",
   "metadata": {},
   "outputs": [],
   "source": [
    "driver_path=ChromeDriverManager().install()\n",
    "service=Service(exeutable_path=driver_path)\n",
    "driver=webdriver.Chrome(service=service)\n",
    "\n",
    "driver.get(\"https://www.naver.com\")"
   ]
  },
  {
   "cell_type": "code",
   "execution_count": 48,
   "id": "7a5c4aed-b70d-40aa-b3e2-5c9bb6fd9591",
   "metadata": {},
   "outputs": [],
   "source": [
    "# 브라우저 관련된 여러 옵션 설정 \n",
    "    # --start-maximized: 브라우저를 최대화된 상태로 시작합니다.\n",
    "    # --disable-notifications: 브라우저 알림을 비활성화합니다.\n",
    "    # --headless: 헤드리스 모드로 브라우저를 실행합니다. \n",
    "\n",
    "# 3) 기타 - 브라우저 꺼짐 방지\n",
    "# options.add_experimental_option(\"detach\", True)\n",
    "\n",
    "# 1)준비 작업\n",
    "# 크롬 드라이브 자동 업데이트 (C:\\Users\\JMH\\.wdm\\drivers\\chromedriver\\win64\\132.0.6834.159\\chromedriver-win32)\n",
    "driver_path=ChromeDriverManager().install() \n",
    "\n",
    "# 크롬 드라이브 경로에 있는 웹 드라이버를 실행하여 직접 지정\n",
    "service=Service(executable_path=driver_path)\n",
    "\n",
    "# 옵션 객체\n",
    "options=Options()\n",
    "\n",
    "# 객체 생성\n",
    "driver=webdriver.Chrome(service=service, options=options)\n",
    "\n",
    "\n",
    "# 2) 웹페이지 해당 주소 이동\n",
    "driver.get(\"https://www.naver.com\")"
   ]
  },
  {
   "cell_type": "markdown",
   "id": "50fd33c8-ffe9-490d-bc13-2188ec1c66f0",
   "metadata": {},
   "source": [
    "### 수동 실행\n",
    "* 크롬 브라우저 버전 확인\n",
    "  - 크롬 브라우저 >> 설정 >> Chrome 정보 (버전확인 : 132.0.6834.160)\n",
    "* 해당 버전 다운로드\n",
    "  - https://sites.google.com/chromium.org/driver/downloads\n",
    "* 맥 기준 : 보안 허용 필요\n",
    "  - 시스템 설정 (톱니 바퀴) >> 보안 및 개인 정보 보호 >> 중간쯤 보안 >> app store 및 확인된 개발자 체크 >> 비밀번호 입력"
   ]
  },
  {
   "cell_type": "code",
   "execution_count": 25,
   "id": "2f0098b5-b1b1-4120-8c5e-641971d5374f",
   "metadata": {},
   "outputs": [],
   "source": [
    "# driver=webdriver.Chrome()     \n",
    "# driver.get(\"https://www.naver.com\")"
   ]
  },
  {
   "cell_type": "markdown",
   "id": "736474ae-1acf-4e84-b561-0b05b9b5600b",
   "metadata": {},
   "source": [
    "## 네이버 로그인"
   ]
  },
  {
   "cell_type": "code",
   "execution_count": 50,
   "id": "23d624aa-e6da-4ca4-b3eb-0740d0afc15a",
   "metadata": {},
   "outputs": [],
   "source": [
    "# 기본 설정\n",
    "driver_path=ChromeDriverManager().install()\n",
    "service=Service(executable_path=driver_path)\n",
    "\n",
    "options=Options()\n",
    "driver=webdriver.Chrome(service=service, options=options)\n",
    "\n",
    "# 화면 꺼지면 그대로 냅두기 url data:,"
   ]
  },
  {
   "cell_type": "code",
   "execution_count": 51,
   "id": "a2f77a49-151e-4173-97be-5edbeece951e",
   "metadata": {},
   "outputs": [],
   "source": [
    "# 해당 페이지 접속\n",
    "driver.implicitly_wait(0.5)   # (임플리시틀리) 웹페이지 로딩 될때까지 0.5초 기다림\n",
    "# driver.maximize_window()      # (맥시마이즈 윈도우) 화면 최대화\n",
    "driver.get(\"https://nid.naver.com/nidlogin.login?mode=form&url=https://www.naver.com/\")"
   ]
  },
  {
   "cell_type": "code",
   "execution_count": 52,
   "id": "129ef773-99ed-435a-92b4-550f83dbea92",
   "metadata": {},
   "outputs": [],
   "source": [
    "# 아이디 입력창\n",
    "id=driver.find_element(By.CSS_SELECTOR, \"#id\")\n",
    "id.click()\n",
    "id.send_keys(\"abc123\")"
   ]
  },
  {
   "cell_type": "code",
   "execution_count": 53,
   "id": "2e73f733-1a6a-4b26-bfa4-97fe913071dc",
   "metadata": {},
   "outputs": [],
   "source": [
    "# 비밀번호 입력창\n",
    "pw=driver.find_element(By.CSS_SELECTOR, \"#pw\")\n",
    "pw.click()\n",
    "pw.send_keys(\"abc123\")"
   ]
  },
  {
   "cell_type": "code",
   "execution_count": 54,
   "id": "59ed3b54-f9db-46ee-be7a-7bb048c83eb7",
   "metadata": {},
   "outputs": [],
   "source": [
    "# 로그인 버튼\n",
    "\n",
    "# CSS 셀렉터에서 점(.) 문자를 이스케이프하기 위해 백슬래시(\\)를 사용\n",
    "login_btn=driver.find_element(By.CSS_SELECTOR, \"#log\\\\.login\")  \n",
    "login_btn.click()"
   ]
  },
  {
   "cell_type": "markdown",
   "id": "1a3b4444-8018-4b4b-94dc-a73b0785df4a",
   "metadata": {},
   "source": [
    "### 네이버 로그인 자동 입력 방지\n",
    "* 속도가 빨라서 로봇으로 인지"
   ]
  },
  {
   "cell_type": "code",
   "execution_count": null,
   "id": "0912cebc-e7da-43bc-b4ec-78a2f147eb38",
   "metadata": {},
   "outputs": [],
   "source": [
    "!pip3 install pyperclip     # 파이퍼클립\n",
    "!pip3 install pyautogui     # 파이오토구이"
   ]
  },
  {
   "cell_type": "code",
   "execution_count": 97,
   "id": "8ac1ecf3-6c66-494d-b1e2-932bdd41e50a",
   "metadata": {},
   "outputs": [],
   "source": [
    "# 기본 설정\n",
    "driver_path=ChromeDriverManager().install()\n",
    "service=Service(executable_path=driver_path)\n",
    "\n",
    "options=Options()\n",
    "driver=webdriver.Chrome(service=service, options=options)"
   ]
  },
  {
   "cell_type": "code",
   "execution_count": 98,
   "id": "942f8825-2c30-4f28-b2c6-f2ad07be9b83",
   "metadata": {},
   "outputs": [],
   "source": [
    "# 해당 페이지 접속\n",
    "driver.implicitly_wait(0.5)   # 웹페이지 로딩 될때까지 0.5초 기다림\n",
    "driver.maximize_window()      # 화면 최대화\n",
    "driver.get(\"https://nid.naver.com/nidlogin.login?mode=form&url=https://www.naver.com/\")"
   ]
  },
  {
   "cell_type": "code",
   "execution_count": 99,
   "id": "d9c0ea42-ee34-40f3-b32c-8c264975d8e9",
   "metadata": {},
   "outputs": [],
   "source": [
    "import pyperclip        # (파이퍼클립) 클립보드에 텍스트를 복사하거나 붙여넣는데 사용\n",
    "import pyautogui        # (파이오토구이) 마우스 및 키보드 제어하는데 사용\n",
    "import time"
   ]
  },
  {
   "cell_type": "code",
   "execution_count": 100,
   "id": "8afacc32-da23-4824-a8dc-824f64295112",
   "metadata": {},
   "outputs": [],
   "source": [
    "# 보안 이슈로 안 될 수 있음\n",
    "# 아이디, 비밀번호, 로그인  - 각자 본인 걸로 로그인\n",
    "\n",
    "id=driver.find_element(By.CSS_SELECTOR, \"#id\")\n",
    "id.click()\n",
    "pyperclip.copy(\"rusia0104\")        # 클립보드에 문자열 복사\n",
    "pyautogui.hotkey(\"ctrl\", \"v\")   # ctrl + v\n",
    "time.sleep(10)\n",
    "\n",
    "pw=driver.find_element(By.CSS_SELECTOR, \"#pw\")\n",
    "pw.click()\n",
    "pyperclip.copy(\"#jjwa819900\")\n",
    "pyautogui.hotkey(\"ctrl\", \"v\")\n",
    "time.sleep(10)\n",
    "\n",
    "login_btn=driver.find_element(By.CSS_SELECTOR, \"#log\\\\.login\")\n",
    "login_btn.click()"
   ]
  },
  {
   "cell_type": "markdown",
   "id": "9c9580a5-237b-461c-a151-338e49ce6e51",
   "metadata": {},
   "source": [
    "## 구글 검색 후 이미지 다운\n",
    "* #APjFqb / //*[@id=\"hdtb-sc\"]/div/div/div[1]/div/div[2]/a/div"
   ]
  },
  {
   "cell_type": "code",
   "execution_count": 87,
   "id": "db33812d-72ae-4006-823e-d4f48cd10473",
   "metadata": {},
   "outputs": [],
   "source": [
    "# 기본 설정\n",
    "driver_path=ChromeDriverManager().install()\n",
    "service=Service(executable_path=driver_path)\n",
    "\n",
    "options=Options()\n",
    "driver=webdriver.Chrome(service=service, options=options)"
   ]
  },
  {
   "cell_type": "code",
   "execution_count": 89,
   "id": "7650822f-4a2d-4483-a0d4-063635bd5ed0",
   "metadata": {},
   "outputs": [],
   "source": [
    "# 해당 페이지 접속\n",
    "driver.implicitly_wait(0.5)   # 웹페이지 로딩 될때까지 0.5초 기다림\n",
    "# driver.maximize_window()      # 화면 최대화\n",
    "\n",
    "driver.get(\"https://www.google.co.kr\")"
   ]
  },
  {
   "cell_type": "code",
   "execution_count": 91,
   "id": "c4244c7e-c051-4444-991c-6d28304fc65d",
   "metadata": {},
   "outputs": [],
   "source": [
    "# 펭수 검색\n",
    "search=driver.find_element(By.CSS_SELECTOR, \"#APjFqb\")\n",
    "search.click()\n",
    "search.send_keys(\"펭수\")\n",
    "search.submit()\n",
    "time.sleep(20)"
   ]
  },
  {
   "cell_type": "code",
   "execution_count": 93,
   "id": "646c0b19-849a-466f-80bc-667a1036cc12",
   "metadata": {},
   "outputs": [],
   "source": [
    "# 이미지 클릭 \n",
    "pengsoo=driver.find_element(By.XPATH, '//*[@id=\"hdtb-sc\"]/div/div/div[1]/div/div[2]/a/div')\n",
    "pengsoo.click()\n",
    "time.sleep(2)"
   ]
  },
  {
   "cell_type": "code",
   "execution_count": 94,
   "id": "2a8a3d45-b599-4f11-b74a-5718145fa6a8",
   "metadata": {},
   "outputs": [
    {
     "name": "stdout",
     "output_type": "stream",
     "text": [
      "91\n"
     ]
    }
   ],
   "source": [
    "# 펭수 이미지\n",
    "images=driver.find_elements(By.CSS_SELECTOR, \".mNsIhb img\")    # 자손 \n",
    "print(len(images))"
   ]
  },
  {
   "cell_type": "code",
   "execution_count": 98,
   "id": "dc190d18-ad23-4e40-8a8d-1934c3a81a6e",
   "metadata": {},
   "outputs": [],
   "source": [
    "# 다운로드\n",
    "count=1       # 파일 이름 지정\n",
    "fpath=\"./File/crawling/img01/\"\n",
    "\n",
    "for img in images:\n",
    "    src=img.get_attribute(\"src\")      # 경로 속성\n",
    "    # print(src)\n",
    "\n",
    "    try:\n",
    "        # 주어진 URL에서 파일을 다운로드하여 로컬에 저장하는 함수입니다. (URL 주소, 저장경로)\n",
    "        urllib.request.urlretrieve(src, fpath + str(count) + \".jpg\")\n",
    "        count=count + 1\n",
    "    except Exception as e:\n",
    "        print(\"DownLoad Fail\")\n",
    "        print(\"Error Msg:\", e)\n",
    "        \n",
    "driver.quit()"
   ]
  },
  {
   "cell_type": "markdown",
   "id": "775955bb-83d6-4800-ba6d-f9c4893bd1fc",
   "metadata": {},
   "source": [
    "### 구글 검색 후 이미지 스크롤"
   ]
  },
  {
   "cell_type": "code",
   "execution_count": 106,
   "id": "de1e5e9a-4486-468b-b0b4-84ec5db22a3e",
   "metadata": {},
   "outputs": [],
   "source": [
    "# 기본 설정\n",
    "driver_path=ChromeDriverManager().install()\n",
    "service=Service(executable_path=driver_path)\n",
    "\n",
    "options=Options()\n",
    "driver=webdriver.Chrome(service=service, options=options)"
   ]
  },
  {
   "cell_type": "code",
   "execution_count": 108,
   "id": "b66406fc-b49f-4541-9770-e8a78369039f",
   "metadata": {},
   "outputs": [],
   "source": [
    "# 해당 페이지 접속\n",
    "driver.implicitly_wait(0.5)   # 웹페이지 로딩 될때까지 0.5초 기다림\n",
    "# driver.maximize_window()      # 화면 최대화\n",
    "\n",
    "driver.get(\"https://www.google.co.kr\")"
   ]
  },
  {
   "cell_type": "code",
   "execution_count": 110,
   "id": "53ad29ea-9839-454a-ae73-32530bc2dddb",
   "metadata": {},
   "outputs": [],
   "source": [
    "# 펭수 검색\n",
    "search=driver.find_element(By.CSS_SELECTOR, \"#APjFqb\")\n",
    "search.click()\n",
    "search.send_keys(\"펭수\")\n",
    "search.submit()\n",
    "time.sleep(20)"
   ]
  },
  {
   "cell_type": "code",
   "execution_count": 112,
   "id": "859fa8d3-9947-43a1-be7d-6384484ab543",
   "metadata": {},
   "outputs": [],
   "source": [
    "# 이미지 클릭 \n",
    "pengsoo=driver.find_element(By.XPATH, '//*[@id=\"hdtb-sc\"]/div/div/div[1]/div/div[2]/a/div')\n",
    "pengsoo.click()\n",
    "time.sleep(2)"
   ]
  },
  {
   "cell_type": "code",
   "execution_count": 113,
   "id": "dfab6f2e-91ba-4e6a-a1bc-1706d2539b76",
   "metadata": {},
   "outputs": [],
   "source": [
    "# 예를 들어 5번 스크롤 다운\n",
    "for i in range(5):\n",
    "    driver.execute_script(\"window.scrollTo(0, document.body.scrollHeight);\")  # execute_script 자바스크립트 코드 작성시(0, 페이지 맨 아래로 스크롤)\n",
    "    time.sleep(2)            # 이미지 로딩을 기다리기 위한 시간"
   ]
  },
  {
   "cell_type": "code",
   "execution_count": 115,
   "id": "f21f3b1a-9976-4071-943f-e391e951dbce",
   "metadata": {},
   "outputs": [
    {
     "name": "stdout",
     "output_type": "stream",
     "text": [
      "544\n"
     ]
    }
   ],
   "source": [
    "# 펭수 이미지\n",
    "images=driver.find_elements(By.CSS_SELECTOR, \".mNsIhb img\")\n",
    "print(len(images))"
   ]
  },
  {
   "cell_type": "code",
   "execution_count": 118,
   "id": "1286c36e-81de-44b6-847b-421f0757f97c",
   "metadata": {},
   "outputs": [],
   "source": [
    "# 다운로드\n",
    "count=1    # 파일 이름 지정 \n",
    "fpath=\"./File/crawling/img02/\"\n",
    "\n",
    "for image in images:\n",
    "    src=image.get_attribute(\"src\")\n",
    "    # print(src)\n",
    "\n",
    "    try:\n",
    "        # 주어진 URL에서 파일을 다운로드하여 로컬에 저장하는 함수입니다. (URL 주소, 저장경로)\n",
    "        urllib.request.urlretrieve(src, fpath + str(count) + \".jpg\")\n",
    "        count=count+1\n",
    "    except Exception as e:\n",
    "        print(\"DownLoad Fail\")\n",
    "        print(\"Error Msg:\", e)\n",
    "\n",
    "driver.quit()"
   ]
  },
  {
   "cell_type": "markdown",
   "id": "b827f3ed-eb5f-46d3-9378-884bb0e6573b",
   "metadata": {},
   "source": [
    "## 웹툰"
   ]
  },
  {
   "cell_type": "markdown",
   "id": "5e0a1cd6-473a-4b17-9aad-ea85b30eadba",
   "metadata": {},
   "source": [
    "### 웹툰 상위 5개만 가져오기"
   ]
  },
  {
   "cell_type": "code",
   "execution_count": 159,
   "id": "93892a90-41cb-4cca-8f9d-3358ec7e599f",
   "metadata": {},
   "outputs": [],
   "source": [
    "# 현재 요일 업데이트 순 5개 출력\n",
    "driver_path=ChromeDriverManager().install()\n",
    "service=Service(executable_path=driver_path)\n",
    "\n",
    "driver=webdriver.Chrome(service=service)\n",
    "driver.get(\"https://comic.naver.com/index\")"
   ]
  },
  {
   "cell_type": "code",
   "execution_count": 161,
   "id": "db306627-c211-47f9-bba0-a2342f2f26f4",
   "metadata": {},
   "outputs": [
    {
     "name": "stdout",
     "output_type": "stream",
     "text": [
      "5\n",
      "캠퍼스의 로망\n",
      "조선왕조실톡\n",
      "마법스크롤 상인 지오\n",
      "육아일기\n",
      "입학용병\n"
     ]
    }
   ],
   "source": [
    "titles=driver.find_elements(By.CSS_SELECTOR, \".DailyList__item--zbWNd .DailyList__title--epGnT\")\n",
    "driver.implicitly_wait(10)\n",
    "print(len(titles))\n",
    "\n",
    "for title in titles:\n",
    "    print(title.text)\n",
    "\n",
    "driver.quit()"
   ]
  },
  {
   "cell_type": "markdown",
   "id": "ee9d8b98-c144-45f4-9362-311b90229989",
   "metadata": {},
   "source": [
    "###  웹툰 제목 출력 - 조회순"
   ]
  },
  {
   "cell_type": "code",
   "execution_count": 25,
   "id": "d9f8da31-929a-4806-973c-f32b04ac8f1e",
   "metadata": {},
   "outputs": [],
   "source": [
    "# 현재(금요일) 웹툰 제목 출력 - 조회순\n",
    "\n",
    "driver_path=ChromeDriverManager().install()\n",
    "service=Service(executable_path=driver_path)\n",
    "\n",
    "driver=webdriver.Chrome(service=service)\n",
    "driver.get(\"https://comic.naver.com/webtoon?tab=fri\")\n",
    "\n",
    "driver.implicitly_wait(10)   # 데이터가 많은 경우 로딩할때까지 기다림\n",
    "\n",
    "btn=driver.find_element(By.CSS_SELECTOR, \".ComponentHead__tab_control--R1TyL button:nth-child(3)\")  # 조회순\n",
    "btn.click()"
   ]
  },
  {
   "cell_type": "code",
   "execution_count": 27,
   "id": "c613a634-f5f9-4889-94de-e0293f9c551f",
   "metadata": {},
   "outputs": [
    {
     "name": "stdout",
     "output_type": "stream",
     "text": [
      "109\n",
      "외모지상주의\n",
      "광마회귀\n",
      "나 혼자 만렙 뉴비\n",
      "역대급 영지 설계사\n",
      "재혼 황후\n",
      "체크포인트\n",
      "몽홀\n",
      "1초\n",
      "어쩌다보니 천생연분\n",
      "데드퀸\n",
      "사신\n",
      "나 혼자 탑에서 농사\n",
      "천하제일 대사형\n",
      "천중용문\n",
      "언니, 이번 생엔 내가 왕비야\n",
      "좋아? 죽어!\n",
      "A.I. 닥터\n",
      "전남편의 미친개를 길들였다\n",
      "서울역 드루이드\n",
      "문제적 왕자님\n",
      "유부 감자\n",
      "열렙전사 3부\n",
      "아카데미에서 살아남기\n",
      "가장 썩은 것을 줄게\n",
      "히어로 킬러\n",
      "연애의 기록\n",
      "그 기사가 레이디로 사는 법\n",
      "폭군님은 착하게 살고 싶어\n",
      "돈구멍\n",
      "로맨스 저주\n",
      "말년용사\n",
      "아르마딜로\n",
      "흑요석의 신부\n",
      "사자의 서\n",
      "그거 사랑 아니야\n",
      "대위님! 이번 전쟁터는 이곳인가요?\n",
      "하는 사이\n",
      "킬 더 드래곤\n",
      "후덜덜덜 남극전자\n",
      "도깨비의 밤\n",
      "남궁세가 비인격\n",
      "성북구 비둘기 이헌서\n",
      "개집사\n",
      "예쁘세요\n",
      "만두 생활기록부\n",
      "남편은 한 명으로 족하다\n",
      "파티에서 추방된 영웅이 너무 뛰어남\n",
      "여동생은 오늘 밤 나를 간택한다\n",
      "악마라고 불러다오\n",
      "구야는 신입\n",
      "초등생활 그림일기\n",
      "암살청과\n",
      "천재 배우의 아우라Aura\n",
      "복수 법률사무소\n",
      "하남자\n",
      "조선왕비 간택사건\n",
      "솔트앤페퍼\n",
      "뜨거운 홍차\n",
      "악당을 업어 키웠더니\n",
      "봄그늘\n",
      "못난이 콤플렉스\n",
      "야수라는 공작에게 시집왔는데\n",
      "센스제로\n",
      "그냥 선생님\n",
      "그렇게 물거품이 되어도\n",
      "뼈왕\n",
      "세자와 세자빈의 계약혼인전\n",
      "사냥개의 회귀본능\n",
      "북설애담\n",
      "백년게임\n",
      "달이 없는 나라\n",
      "보이스피싱인데 인생역전\n",
      "벌집\n",
      "소곤소곤2\n",
      "명품시대\n",
      "천재의 신들린 게임방송\n",
      "소년경찰\n",
      "드래곤의 심장을 가지고 있습니다\n",
      "그 남자의 정원\n",
      "소희 훔치기\n",
      "미드우트\n",
      "화염의 피스메이커\n",
      "절세미남 망나니 해골 되다\n",
      "아라드의 빛: 먼저 걷는 자\n",
      "회귀자는 나만 지킨다\n",
      "3분의 1이 없어도\n",
      "신이 내린 탑스타\n",
      "우리 안 사귀어!!\n",
      "우리는 후라이족\n",
      "들개\n",
      "사랑하는 태양의 말로\n",
      "기억해줘\n",
      "콜미로맨틱\n",
      "천재 곰먐미 김순자\n",
      "무제인간\n",
      "메탈릭 루쥬\n",
      "별이삼샵\n",
      "스터디그룹\n",
      "외모지상주의\n",
      "입학용병\n",
      "육아일기\n",
      "여자사람친구\n",
      "최애캐의 고민상담소\n",
      "구사일생 끝에 결혼\n",
      "살인예정자\n",
      "우리 그냥 만나\n"
     ]
    }
   ],
   "source": [
    "# 웹 페이지의 전체 높이를 나타내는 값 리턴\n",
    "last_height=driver.execute_script(\"return document.body.scrollHeight\")\n",
    "\n",
    "while True:\n",
    "    driver.execute_script(\"window.scrollTo(0, document.body.scrollHeight);\")   # 현재 페이지를 맨 아래로 스크롤\n",
    "    time.sleep(2)    # 페이지 로딩 대기 (2초)\n",
    "    \n",
    "    # 새로운 스크롤 위치 계산\n",
    "    new_height=driver.execute_script(\"return document.body.scrollHeight\")\n",
    "    \n",
    "    # 새로운 스크롤 위치와 이전 스크롤 위치 비교\n",
    "    if new_height == last_height:\n",
    "        break  # 더 이상 스크롤할 내용이 없으면 반복 종료\n",
    "\n",
    "titles=driver.find_elements(By.CSS_SELECTOR, \".item .ContentTitle__title--e3qXt span\")  \n",
    "print(len(titles))\n",
    "\n",
    "for title in titles:    \n",
    "    print(title.text)\n",
    "\n",
    "driver.quit()"
   ]
  },
  {
   "cell_type": "markdown",
   "id": "f0f79d74-59fa-4ffe-9ce7-22a9ccbad106",
   "metadata": {},
   "source": [
    "### 엑셀 저장\n",
    "* 요일별 인기순 웹툰 제목 저장"
   ]
  },
  {
   "cell_type": "code",
   "execution_count": 44,
   "id": "0c26b6c5-a6f4-44cc-8dab-4ea653e909ad",
   "metadata": {},
   "outputs": [
    {
     "name": "stdout",
     "output_type": "stream",
     "text": [
      "mon : 103\n",
      "tue : 104\n",
      "wed : 105\n",
      "thu : 105\n",
      "fri : 96\n",
      "sat : 104\n",
      "sun : 97\n"
     ]
    }
   ],
   "source": [
    "import openpyxl\n",
    "\n",
    "driver_path=ChromeDriverManager().install()\n",
    "service=Service(executable_path=driver_path)\n",
    "driver=webdriver.Chrome(service=service)\n",
    "\n",
    "days=['mon', 'tue', 'wed', 'thu', 'fri', 'sat', 'sun']\n",
    "\n",
    "wb=openpyxl.Workbook()\n",
    "\n",
    "for day in days:\n",
    "    driver.get(f\"https://comic.naver.com/webtoon?tab={day}\")  # 또는  url=\"https://comic.naver.com/webtoon?tab=\" + day\n",
    "    driver.implicitly_wait(10)\n",
    "\n",
    "                                             # 인기순\n",
    "    btn=driver.find_element(By.CSS_SELECTOR, \".ComponentHead__tab_control--R1TyL button:nth-child(1)\")\n",
    "    btn.click()\n",
    "\n",
    "    last_height=driver.execute_script(\"return document.body.scrollHeight\")\n",
    "    \n",
    "    while True:\n",
    "        driver.execute_script(\"window.scrollTo(0, document.body.scrollHeight);\")    \n",
    "        time.sleep(2)    \n",
    "           \n",
    "        new_height = driver.execute_script(\"return document.body.scrollHeight\")\n",
    "        \n",
    "        if new_height == last_height:\n",
    "            break  \n",
    "                           \n",
    "    titles=driver.find_elements(By.CSS_SELECTOR, \".item .ContentTitle__title--e3qXt span\")\n",
    "    print(day, \":\", len(titles))\n",
    "\n",
    "    ws=wb.create_sheet(day)\n",
    "    \n",
    "    for i, title in enumerate(titles, start=1):      # list index, title\n",
    "        ws.cell(row=i, column=1, value=title.text)   # row=1 (start=1) 엑셀구조 a1\n",
    "\n",
    "fpath=\"./File/crawling/xlsx/webtoon.xlsx\"\n",
    "wb.save(fpath)\n",
    "driver.quit()"
   ]
  },
  {
   "cell_type": "markdown",
   "id": "09640015-6a5f-4662-9c43-82a41ffad6a9",
   "metadata": {},
   "source": [
    "# World Colud"
   ]
  },
  {
   "cell_type": "markdown",
   "id": "1df7f10e-ebf0-4207-a441-ce4923c6b539",
   "metadata": {},
   "source": [
    "## Text File"
   ]
  },
  {
   "cell_type": "code",
   "execution_count": 7,
   "id": "7cc9e24e-f708-45b8-b434-550969af8e0b",
   "metadata": {
    "collapsed": true,
    "jupyter": {
     "outputs_hidden": true
    }
   },
   "outputs": [
    {
     "name": "stdout",
     "output_type": "stream",
     "text": [
      "Collecting wordcloud\n",
      "  Downloading wordcloud-1.9.4-cp312-cp312-win_amd64.whl.metadata (3.5 kB)\n",
      "Requirement already satisfied: numpy>=1.6.1 in c:\\users\\jmh\\anaconda3\\lib\\site-packages (from wordcloud) (1.26.4)\n",
      "Requirement already satisfied: pillow in c:\\users\\jmh\\anaconda3\\lib\\site-packages (from wordcloud) (10.4.0)\n",
      "Requirement already satisfied: matplotlib in c:\\users\\jmh\\anaconda3\\lib\\site-packages (from wordcloud) (3.9.2)\n",
      "Requirement already satisfied: contourpy>=1.0.1 in c:\\users\\jmh\\anaconda3\\lib\\site-packages (from matplotlib->wordcloud) (1.2.0)\n",
      "Requirement already satisfied: cycler>=0.10 in c:\\users\\jmh\\anaconda3\\lib\\site-packages (from matplotlib->wordcloud) (0.11.0)\n",
      "Requirement already satisfied: fonttools>=4.22.0 in c:\\users\\jmh\\anaconda3\\lib\\site-packages (from matplotlib->wordcloud) (4.51.0)\n",
      "Requirement already satisfied: kiwisolver>=1.3.1 in c:\\users\\jmh\\anaconda3\\lib\\site-packages (from matplotlib->wordcloud) (1.4.4)\n",
      "Requirement already satisfied: packaging>=20.0 in c:\\users\\jmh\\anaconda3\\lib\\site-packages (from matplotlib->wordcloud) (24.1)\n",
      "Requirement already satisfied: pyparsing>=2.3.1 in c:\\users\\jmh\\anaconda3\\lib\\site-packages (from matplotlib->wordcloud) (3.1.2)\n",
      "Requirement already satisfied: python-dateutil>=2.7 in c:\\users\\jmh\\anaconda3\\lib\\site-packages (from matplotlib->wordcloud) (2.9.0.post0)\n",
      "Requirement already satisfied: six>=1.5 in c:\\users\\jmh\\anaconda3\\lib\\site-packages (from python-dateutil>=2.7->matplotlib->wordcloud) (1.16.0)\n",
      "Downloading wordcloud-1.9.4-cp312-cp312-win_amd64.whl (301 kB)\n",
      "Installing collected packages: wordcloud\n",
      "Successfully installed wordcloud-1.9.4\n"
     ]
    }
   ],
   "source": [
    "# 설치 \n",
    "!pip install wordcloud"
   ]
  },
  {
   "cell_type": "code",
   "execution_count": 19,
   "id": "de5c2412-a8b9-4d98-8d91-7d98792d2659",
   "metadata": {},
   "outputs": [],
   "source": [
    "from wordcloud import WordCloud\n",
    "from collections import Counter\n",
    "import matplotlib.pyplot as plt"
   ]
  },
  {
   "cell_type": "code",
   "execution_count": 154,
   "id": "9a64fd9e-0c74-4217-a41e-434b8bef6e5e",
   "metadata": {},
   "outputs": [
    {
     "data": {
      "image/png": "[encoded data removed]",
      "text/plain": [
       "<Figure size 500x1000 with 1 Axes>"
      ]
     },
     "metadata": {},
     "output_type": "display_data"
    }
   ],
   "source": [
    "rpath=r\"D:\\Edu\\Machine Learning\\workspace\\PythonBasic\\Data\\python\\관광지_개요.txt\"\n",
    "with open(rpath, 'r') as f:\n",
    "    data=f.read()\n",
    "# print(data)\n",
    "\n",
    "counts=Counter(data.split())       #  각 단어별 출현 횟수를 딕셔너리 형태로 저장 (공백을 기준으로 단어 분리)\n",
    "# print(counts)\n",
    "\n",
    "tags=counts.most_common(200)       #  counts에서 가장 많이 등장한 단어 200개를 추출\n",
    "# print(tags)\n",
    "\n",
    "wc=WordCloud(max_font_size=200,           # 가장 많이 등장한 단어가 가질 최대 글꼴 크기\n",
    "             background_color='white',    # 배경색 (기본값: 검정)\n",
    "             width=1000,                  # 이미지 너비\n",
    "             height=800,                  # 이미지 높이\n",
    "             font_path='C:/Windows/Fonts/NGULIM.TTF')  # 한글 폰트 설정 (필수)\n",
    "\n",
    "colud=wc.generate_from_frequencies(dict(tags))   # 워드클라우드 생성(빈도수) generate_from_frequencies(text) \n",
    "\n",
    "plt.figure(figsize=(5, 10))\n",
    "plt.imshow(colud)\n",
    "plt.tight_layout(pad=0)\n",
    "plt.axis('off')\n",
    "plt.show()"
   ]
  },
  {
   "cell_type": "markdown",
   "id": "55723849-98c0-48c2-be64-3810cdc29acf",
   "metadata": {},
   "source": [
    "## Web Text"
   ]
  },
  {
   "cell_type": "code",
   "execution_count": 128,
   "id": "b988e122-46ab-4e3e-b5f8-c6c90b352d0d",
   "metadata": {},
   "outputs": [],
   "source": [
    "import requests\n",
    "from bs4 import BeautifulSoup\n",
    "import re"
   ]
  },
  {
   "cell_type": "code",
   "execution_count": 132,
   "id": "ff6ee7ad-1535-46e9-89cf-a89e8e156000",
   "metadata": {},
   "outputs": [
    {
     "name": "stdout",
     "output_type": "stream",
     "text": [
      "['삼성전자', '2025', '목표', '발표', '주가는', '상승세'] <class 'list'> \n",
      "\n",
      "삼성전자\n",
      "2025\n",
      "목표\n",
      "발표\n",
      "주가는\n",
      "상승세\n"
     ]
    }
   ],
   "source": [
    "title=\"삼성전자, '2025 목표' 발표! 주가는 상승세\"\n",
    "words=re.findall(r'\\b\\w+\\b', title)     # \\b: 단어 경계, \\w+: 하나 이상의 \"단어 문자\"를 의미\n",
    "print(words, type(words), \"\\n\")\n",
    "\n",
    "for i in words:\n",
    "    print(i)"
   ]
  },
  {
   "cell_type": "code",
   "execution_count": 143,
   "id": "c0e4096c-f378-44a0-9066-c85799cca392",
   "metadata": {},
   "outputs": [
    {
     "name": "stdin",
     "output_type": "stream",
     "text": [
      "검색어 >>>>>> 현대자동차\n"
     ]
    },
    {
     "name": "stdout",
     "output_type": "stream",
     "text": [
      "\"철보다 가벼운 신소재가 자동차에?\"…현대차·기아, 코오롱그룹과 협력현대자동차, 1월 31만 399대 판매 기록현대자동차, ‘아이오닉 9’ 사전 계약 개시현대자동차, 전동화 대형 SUV ‘아이오닉 9’ 사전 계약 개시현대자동차, '아이오닉 9' 사전 계약 개시현대자동차, ‘아이오닉 9’ 사전 계약 개시자동차 끝없는 내수부진 현대차 2017년이후 최저\"철보다 가벼운 신소재를 자동차에\" 현대차·기아, 코오롱스페이스웍스...현대자동차, 제네시스 'GV60' 험로주행 콘셉트카 공개현대자동차, '아이오닉 9' 사전계약\n"
     ]
    },
    {
     "data": {
      "image/png": "[encoded data removed]",
      "text/plain": [
       "<Figure size 500x1000 with 1 Axes>"
      ]
     },
     "metadata": {},
     "output_type": "display_data"
    }
   ],
   "source": [
    "keyword=input(\"검색어 >>>>>>\")\n",
    "\n",
    "url=\"https://search.naver.com/search.naver?where=news&ie=utf8&sm=nws_hty&query=\" + keyword\n",
    "response=requests.get(url)\n",
    "html=response.text\n",
    "\n",
    "soup=BeautifulSoup(html, 'html.parser')\n",
    "links=soup.select('.news_tit')\n",
    "\n",
    "# for link in links:\n",
    "#     title=link.text\n",
    "#     url=link.attrs['href']\n",
    "#     print(title, url)\n",
    "\n",
    "# 수정\n",
    "title=\"\"\n",
    "for link in links:\n",
    "    title += link.text.strip()\n",
    "# print(title)\n",
    "\n",
    "words=re.findall(r'\\b\\w+\\b', title)       # \\b: 단어 경계, \\w+: 하나 이상의 \"단어 문자\"를 의미\n",
    "counts=Counter(words)                     #  각 단어별 출현 횟수를 딕셔너리 형태로 저장 (공백을 기준으로 단어 분리)\n",
    "tags=counts.most_common(200)              #  counts에서 가장 많이 등장한 단어 200개를 추출    \n",
    "\n",
    "wc=WordCloud(max_font_size=200,           # 가장 많이 등장한 단어가 가질 최대 글꼴 크기\n",
    "             background_color='white',    # 배경색 (기본값: 검정)\n",
    "             width=1000,                  # 이미지 너비\n",
    "             height=800,                  # 이미지 높이\n",
    "             font_path='C:/Windows/Fonts/NGULIM.TTF')  # 한글 폰트 설정 (필수)\n",
    "\n",
    "colud=wc.generate_from_frequencies(dict(tags))   # 워드클라우드 생성(빈도수)\n",
    "plt.figure(figsize=(5, 10))\n",
    "plt.imshow(colud)\n",
    "plt.tight_layout(pad=0)\n",
    "plt.axis('off')\n",
    "plt.show()"
   ]
  },
  {
   "cell_type": "code",
   "execution_count": null,
   "id": "3c39cac4-89a4-4fed-8138-9c08d06e6128",
   "metadata": {},
   "outputs": [],
   "source": []
  }
 ],
 "metadata": {
  "kernelspec": {
   "display_name": "Python [conda env:base] *",
   "language": "python",
   "name": "conda-base-py"
  },
  "language_info": {
   "codemirror_mode": {
    "name": "ipython",
    "version": 3
   },
   "file_extension": ".py",
   "mimetype": "text/x-python",
   "name": "python",
   "nbconvert_exporter": "python",
   "pygments_lexer": "ipython3",
   "version": "3.12.7"
  }
 },
 "nbformat": 4,
 "nbformat_minor": 5
}
