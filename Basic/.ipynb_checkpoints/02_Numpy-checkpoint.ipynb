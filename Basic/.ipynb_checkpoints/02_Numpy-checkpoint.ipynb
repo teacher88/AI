{
 "cells": [
  {
   "cell_type": "markdown",
   "id": "c86db8f5-6294-4c00-8c98-c65aa212cd99",
   "metadata": {},
   "source": [
    "# Numpy"
   ]
  },
  {
   "cell_type": "markdown",
   "id": "15755871-5feb-43ea-b570-1dcd9df44124",
   "metadata": {},
   "source": [
    "##  Numpy 설치\n",
    "* 설치 : !pip install numpy (anaconda 기본 설치 되어 있음)\n",
    "* api : https://numpy.org/doc/stable/reference/index.html#reference\n",
    "* 넘파이 300제 : https://wikidocs.net/125545"
   ]
  },
  {
   "cell_type": "code",
   "execution_count": 2,
   "id": "4d28d284-b803-491b-8e9b-7bbba34afbea",
   "metadata": {},
   "outputs": [],
   "source": [
    "import numpy as np"
   ]
  },
  {
   "cell_type": "markdown",
   "id": "82e763b2-bb6a-4a02-b1a2-10f600365459",
   "metadata": {},
   "source": [
    "## 배열 초기화"
   ]
  },
  {
   "cell_type": "markdown",
   "id": "a01975af-5f88-4a20-acd7-00a67d62e59c",
   "metadata": {},
   "source": [
    "### List 초기화\n",
    "* 1차원 배열\n",
    "* 2차원 배열"
   ]
  },
  {
   "cell_type": "code",
   "execution_count": 6,
   "id": "7aa30af6-7693-4d71-9416-b9acc0f58094",
   "metadata": {},
   "outputs": [
    {
     "name": "stdout",
     "output_type": "stream",
     "text": [
      "배열 출력: [1 2 3]\n",
      "배열의 크기: 3\n",
      "배열의 차원의 크기: (3,)\n",
      "배열의 원소타입: int32\n",
      "배열의 인덱스: 3\n"
     ]
    }
   ],
   "source": [
    "my_list=[1, 2, 3]\n",
    "my_arr=np.array(my_list)\n",
    "print(\"배열 출력:\", my_arr)\n",
    "print(\"배열의 크기:\", my_arr.size)\n",
    "print(\"배열의 차원의 크기:\", my_arr.shape)     # my_array.ndim 배열의 차원 수 \n",
    "print(\"배열의 원소타입:\", my_arr.dtype)\n",
    "print(\"배열의 인덱스:\", my_arr[2])"
   ]
  },
  {
   "cell_type": "code",
   "execution_count": 10,
   "id": "a686304b-46d3-4314-beb5-bf2ded439763",
   "metadata": {},
   "outputs": [
    {
     "name": "stdout",
     "output_type": "stream",
     "text": [
      "배열 출력:\n",
      " [[ 5  9 10  3  1]\n",
      " [ 8  3  4  2  5]]\n",
      "배열의 크기: 10\n",
      "배열의 차원의 크기: (2, 5)\n",
      "배열의 원소 타입: int32\n",
      "배열의 인덱스: 4\n"
     ]
    }
   ],
   "source": [
    "arr=np.array([[5, 9, 10, 3, 1],\n",
    "              [8, 3, 4, 2, 5]])\n",
    "print(\"배열 출력:\\n\", arr)\n",
    "print(\"배열의 크기:\", arr.size)\n",
    "print(\"배열의 차원의 크기:\", arr.shape)  \n",
    "print(\"배열의 원소 타입:\", arr.dtype)\n",
    "print(\"배열의 인덱스:\", arr[1][2])"
   ]
  },
  {
   "cell_type": "markdown",
   "id": "a4c9d44d-e00f-4a23-9987-5f4507beccb9",
   "metadata": {},
   "source": [
    "### 자주 사용하는 함수"
   ]
  },
  {
   "cell_type": "code",
   "execution_count": 15,
   "id": "df2e6268-ca20-4ece-9ad3-61c723f6b364",
   "metadata": {},
   "outputs": [
    {
     "name": "stdout",
     "output_type": "stream",
     "text": [
      "중복값 제거 [1 2 3]\n",
      "배열 복사: [1 1 2 3 3 3 1]\n",
      "오름 차순: [1 1 1 2 3 3 3]\n",
      "내림 차순: [3 3 3 2 1 1 1]\n"
     ]
    }
   ],
   "source": [
    "num=np.array([1, 1, 2, 3, 3, 3, 1])\n",
    "print(\"중복값 제거\", np.unique(num))     # 원본 데이터 영향 안줌\n",
    "\n",
    "copy_num=num.copy()\n",
    "print(\"배열 복사:\", copy_num)\n",
    "\n",
    "num.sort()                              # 원본 데이터 영향  줌\n",
    "print(\"오름 차순:\", num)\n",
    "print(\"내림 차순:\", num[::-1])           # np.sort(num)[::-1]"
   ]
  },
  {
   "cell_type": "code",
   "execution_count": 20,
   "id": "95646863-d2f8-4dca-a91f-8c2c30724ede",
   "metadata": {},
   "outputs": [
    {
     "name": "stdout",
     "output_type": "stream",
     "text": [
      "행기준 정렬:\n",
      " [[ 1  2  3  4  5]\n",
      " [ 3  5  8  9 10]]\n",
      "열기준 정렬:\n",
      " [[ 1  2  3  4  5]\n",
      " [ 3  5  8  9 10]]\n"
     ]
    }
   ],
   "source": [
    "arr.sort(axis=1)                         # 행을 기준으로 동일한 인덱스 요소, 즉 열\n",
    "print(\"행기준 정렬:\\n\", arr)\n",
    "\n",
    "arr.sort(axis=0)\n",
    "print(\"열기준 정렬:\\n\", arr)"
   ]
  },
  {
   "cell_type": "markdown",
   "id": "20b761e7-2423-43ae-abc6-ddb76e1c2bb0",
   "metadata": {},
   "source": [
    "### numpy 함수를 활용한 초기화"
   ]
  },
  {
   "cell_type": "code",
   "execution_count": 5,
   "id": "e8d1f947-0278-4467-885a-de97e9aad114",
   "metadata": {},
   "outputs": [
    {
     "name": "stdout",
     "output_type": "stream",
     "text": [
      "0~3 출력: [0 1 2 3]\n",
      "0~10 step2: [1 3 5 7 9]\n"
     ]
    }
   ],
   "source": [
    "print(\"0~3 출력:\", np.arange(4))             \n",
    "print(\"0~10 step2:\", np.arange(1, 10, 2))  "
   ]
  },
  {
   "cell_type": "code",
   "execution_count": 6,
   "id": "3b1dbd8a-1cf9-438a-9f4a-29d413912347",
   "metadata": {},
   "outputs": [
    {
     "name": "stdout",
     "output_type": "stream",
     "text": [
      "0으로 초기화 \n",
      " [[0 0 0 0]\n",
      " [0 0 0 0]\n",
      " [0 0 0 0]\n",
      " [0 0 0 0]]\n",
      "1로 초기화 \n",
      " [['1' '1' '1']\n",
      " ['1' '1' '1']\n",
      " ['1' '1' '1']]\n",
      "특정 숫자(5)로 초기화 \n",
      " [[5 5 5]\n",
      " [5 5 5]]\n",
      "대각선 1, 그외 0인 2차원 배열 \n",
      " [[1. 0. 0.]\n",
      " [0. 1. 0.]\n",
      " [0. 0. 1.]]\n"
     ]
    }
   ],
   "source": [
    "# 다양한 형태의 초기화\n",
    "print(\"0으로 초기화 \\n\", np.zeros((4, 4), dtype=int))   # defulat float\n",
    "print(\"1로 초기화 \\n\", np.ones((3, 3), dtype=str))\n",
    "print(\"특정 숫자(5)로 초기화 \\n\", np.full((2, 3), 5))\n",
    "print(\"대각선 1, 그외 0인 2차원 배열 \\n\", np.eye(3))"
   ]
  },
  {
   "cell_type": "code",
   "execution_count": 24,
   "id": "7f24db62-da60-43cb-94b1-433fcda9c698",
   "metadata": {},
   "outputs": [
    {
     "name": "stdout",
     "output_type": "stream",
     "text": [
      "5개의 랜덤: [0.11669371 0.69717763 0.64127835 0.38720657 0.83710261]\n",
      "3*2 랜덤: \n",
      " [[0.97567604 0.5025073 ]\n",
      " [0.61895091 0.08041064]\n",
      " [0.41829819 0.79115214]]\n",
      "0~9 랜덤: [8 9 8 3 8 8 1 1 0 0]\n",
      "0~1 균일한 값으로 랜덤 5개: [ 0.   2.5  5.   7.5 10. ]\n",
      "0~1 균등 분포: [0.68354651 0.00648355 0.5229894  0.45638174 0.53554276]\n"
     ]
    }
   ],
   "source": [
    "# 랜덤 초기화\n",
    "print(\"5개의 랜덤:\", np.random.random(5))\n",
    "print(\"3*2 랜덤: \\n\", np.random.random((3, 2)))\n",
    "\n",
    "print(\"0~9 랜덤:\", np.random.randint(0, 10, size=(10,)))        # size=(2, 5)\n",
    "print(\"0~1 균일한 값으로 랜덤 5개:\", np.random.rand(5))         # linspace 동일하지만, 랜덤값으로\n",
    "print(\"0~1 균등 분포 5개:\", np.linspace(0, 10, 5))              "
   ]
  },
  {
   "cell_type": "markdown",
   "id": "61cfd2b4-6eff-4dbc-b03e-182a489db759",
   "metadata": {},
   "source": [
    "## Indexing & Slicing"
   ]
  },
  {
   "cell_type": "markdown",
   "id": "ec00c439-5683-44d8-9581-5f5f430d659b",
   "metadata": {},
   "source": [
    "### indexing"
   ]
  },
  {
   "cell_type": "code",
   "execution_count": 14,
   "id": "c740c35d-578c-4f86-aeed-eb396cfb4f44",
   "metadata": {},
   "outputs": [
    {
     "data": {
      "text/plain": [
       "(1, 4, 4)"
      ]
     },
     "execution_count": 14,
     "metadata": {},
     "output_type": "execute_result"
    }
   ],
   "source": [
    "a=np.array([1, 2, 3, 4])\n",
    "a[0], a[3], a[-1]"
   ]
  },
  {
   "cell_type": "code",
   "execution_count": 9,
   "id": "d9515b1b-6cf0-476e-b799-5dde588f82d5",
   "metadata": {},
   "outputs": [
    {
     "data": {
      "text/plain": [
       "9"
      ]
     },
     "execution_count": 9,
     "metadata": {},
     "output_type": "execute_result"
    }
   ],
   "source": [
    "b=np.array([[1, 2, 3, 4, 5], \n",
    "            [6, 7, 8, 9, 10]])\n",
    "b[1, 3]"
   ]
  },
  {
   "cell_type": "markdown",
   "id": "f2017a82-1d1d-46e5-8d78-1502169d8200",
   "metadata": {},
   "source": [
    "### Slicing"
   ]
  },
  {
   "cell_type": "code",
   "execution_count": 73,
   "id": "c49e1c6d-08cd-49ce-af0f-282590717c8a",
   "metadata": {},
   "outputs": [
    {
     "name": "stdout",
     "output_type": "stream",
     "text": [
      "[1 2 3 4 5]\n",
      "[4 5]\n",
      "[2 3 4]\n",
      "[1 3]\n"
     ]
    }
   ],
   "source": [
    "array=np.array([1, 2, 3, 4, 5])\n",
    "print(array)\n",
    "print(array[3:])\n",
    "print(array[1:-1])\n",
    "print(array[0:3:2])"
   ]
  },
  {
   "cell_type": "code",
   "execution_count": 10,
   "id": "eaa1cd10-978b-4586-b1a1-8b63d94aae36",
   "metadata": {},
   "outputs": [
    {
     "name": "stdout",
     "output_type": "stream",
     "text": [
      "[[1 2 3]\n",
      " [4 5 6]\n",
      " [7 8 9]] \n",
      "\n",
      "[[2 3]\n",
      " [5 6]\n",
      " [8 9]] \n",
      "\n",
      "[[1 2]]\n"
     ]
    }
   ],
   "source": [
    "num=np.array([[1, 2, 3],\n",
    "              [4, 5, 6],\n",
    "              [7, 8, 9]])\n",
    "print(num, \"\\n\")\n",
    "print(num[:, 1:], \"\\n\")      # 전체행, 1열~~\n",
    "print(num[0:1, 0:2])         # 0행~1행전, 0열~2열전  [[1 2]]"
   ]
  },
  {
   "cell_type": "code",
   "execution_count": 77,
   "id": "603b8ece-7dbc-4c69-a0e3-a46d47f9e286",
   "metadata": {},
   "outputs": [
    {
     "name": "stdout",
     "output_type": "stream",
     "text": [
      "[[ 1  2  3  4  5]\n",
      " [ 6  7  8  9 10]\n",
      " [11 12 13 14 15]] \n",
      "\n",
      "[[ 1  3  5]\n",
      " [11 13 15]]\n"
     ]
    }
   ],
   "source": [
    "value=np.array([[1, 2, 3, 4, 5],\n",
    "                [6, 7, 8, 9, 10],\n",
    "                [11, 12, 13, 14, 15]])\n",
    "print(value, \"\\n\")\n",
    "print(value[::2, ::2])      # 행과 열 모두에서 2칸 간격"
   ]
  },
  {
   "cell_type": "markdown",
   "id": "c4a4d1fb-a442-45c9-8212-5ca209781477",
   "metadata": {},
   "source": [
    "## 배열 결합 & 분할"
   ]
  },
  {
   "cell_type": "markdown",
   "id": "6d867fe6-6399-4ceb-bea8-878003f843d3",
   "metadata": {},
   "source": [
    "### 배열 결합"
   ]
  },
  {
   "cell_type": "code",
   "execution_count": 12,
   "id": "30a824aa-df30-4f9d-a937-cba776f17ec5",
   "metadata": {},
   "outputs": [
    {
     "data": {
      "text/plain": [
       "((8,), array([1, 2, 3, 4, 5, 6, 7, 8]))"
      ]
     },
     "execution_count": 12,
     "metadata": {},
     "output_type": "execute_result"
    }
   ],
   "source": [
    "# 배열 결합\n",
    "n=np.array([1, 2, 3, 4])\n",
    "m=np.array([5, 6, 7, 8])\n",
    "k=np.concatenate([n, m])\n",
    "k.shape, k"
   ]
  },
  {
   "cell_type": "code",
   "execution_count": 5,
   "id": "6b497aea-090f-4350-b474-e1734e9f7c12",
   "metadata": {},
   "outputs": [
    {
     "name": "stdout",
     "output_type": "stream",
     "text": [
      "행 기준: \n",
      " [[  1   2   3   4]\n",
      " [  5   6   7   8]\n",
      " [ 33  44  55  66]\n",
      " [ 77  88  99 110]]\n",
      "열 기준: \n",
      " [[  1   2   3   4  33  44  55  66]\n",
      " [  5   6   7   8  77  88  99 110]]\n"
     ]
    }
   ],
   "source": [
    "# 2차원 배열을 결합시, 행열이 같아야 함\n",
    "a=np.array([[1, 2, 3, 4],\n",
    "            [5, 6, 7, 8]])\n",
    "\n",
    "b=np.array([[33, 44, 55, 66],\n",
    "            [77, 88, 99, 110]])\n",
    "\n",
    "c=np.concatenate([a, b], axis=0)    # 4행 4열\n",
    "print(\"행 기준: \\n\", c)\n",
    "\n",
    "d=np.concatenate([a, b], axis=1)    # 2행 8열\n",
    "print(\"열 기준: \\n\", d)"
   ]
  },
  {
   "cell_type": "markdown",
   "id": "bae2015b-e6e6-4b22-b0dc-2884ce5a11dc",
   "metadata": {},
   "source": [
    "### 배열 분할"
   ]
  },
  {
   "cell_type": "code",
   "execution_count": 9,
   "id": "cb98e754-be43-42da-a2d9-232d876b69af",
   "metadata": {},
   "outputs": [
    {
     "name": "stdout",
     "output_type": "stream",
     "text": [
      "[array([1, 2]), array([3, 4]), array([5, 6])]\n",
      "[array([1, 2, 3]), array([4, 5]), array([6])]\n",
      "[1 2]\n",
      "[3 4]\n",
      "[5 6]\n"
     ]
    }
   ],
   "source": [
    "# 배열 분할\n",
    "arr1=np.array([1, 2, 3, 4, 5, 6])\n",
    "new_arr1=np.split(arr1, [2, 4])          # 각 분할 지점은 index2와 index4\n",
    "print(new_arr1)\n",
    "\n",
    "new_arr2=np.split(arr1, [3, 5])           # 각 분할 지점은 index3와 index5\n",
    "print(new_arr2)\n",
    "\n",
    "a, b, c=new_arr1\n",
    "print(a)\n",
    "print(b)\n",
    "print(c)"
   ]
  },
  {
   "cell_type": "code",
   "execution_count": 14,
   "id": "34d7f052-e905-47e8-9307-0ff14436ef23",
   "metadata": {},
   "outputs": [
    {
     "name": "stdout",
     "output_type": "stream",
     "text": [
      "[array([[1, 2, 3, 4],\n",
      "       [5, 6, 7, 8]]), array([[ 9, 10, 11, 12]])]\n",
      "[array([[ 1,  2],\n",
      "       [ 5,  6],\n",
      "       [ 9, 10]]), array([[ 3,  4],\n",
      "       [ 7,  8],\n",
      "       [11, 12]])]\n"
     ]
    }
   ],
   "source": [
    "# 2차원 행, 열, 축\n",
    "arr3=np.array([[1, 2, 3, 4],\n",
    "               [5, 6, 7, 8],\n",
    "               [9, 10, 11, 12]])\n",
    "new_arr3=np.split(arr3, [2], axis=0)      # 2행을 기준으로 배열이 두개 만들어짐\n",
    "print(new_arr3)\n",
    "\n",
    "new_arr4=np.split(arr3, [2], axis=1)      # 2열을 기준으로 배열이 두개 만들어짐\n",
    "print(new_arr4)"
   ]
  },
  {
   "cell_type": "markdown",
   "id": "7d7b9946-2be7-459c-b775-0d0bd5750e9a",
   "metadata": {},
   "source": [
    "## 배열 형태 바꾸기"
   ]
  },
  {
   "cell_type": "markdown",
   "id": "77ceb2dc-78cf-4398-ba09-c52b33773e22",
   "metadata": {},
   "source": [
    "### 차원 변환"
   ]
  },
  {
   "cell_type": "code",
   "execution_count": 23,
   "id": "c58876c8-e8ea-427f-90ef-e71486e2f4f8",
   "metadata": {},
   "outputs": [
    {
     "name": "stdout",
     "output_type": "stream",
     "text": [
      "[1 2 3 4 5 6 7 8]\n",
      "[[1 2 3 4]\n",
      " [5 6 7 8]]\n",
      "[[1 2]\n",
      " [3 4]\n",
      " [5 6]\n",
      " [7 8]]\n"
     ]
    }
   ],
   "source": [
    "a=np.arange(1, 9)      \n",
    "print(a)\n",
    "\n",
    "b=a.reshape(2, 4)     # 또는 np.reshape(a,(2,4)), 원본 데이터 영향 안 받음\n",
    "print(b)\n",
    "\n",
    "c=a.reshape(4, 2)\n",
    "print(c)"
   ]
  },
  {
   "cell_type": "code",
   "execution_count": 24,
   "id": "d919d887-f517-478d-9c0b-a1a06087d567",
   "metadata": {},
   "outputs": [
    {
     "name": "stdout",
     "output_type": "stream",
     "text": [
      "[[[1 2]\n",
      "  [3 4]]\n",
      "\n",
      " [[5 6]\n",
      "  [7 8]]]\n"
     ]
    }
   ],
   "source": [
    "# 3차원 변환\n",
    "d=a.reshape(2, 2, 2)\n",
    "print(d)"
   ]
  },
  {
   "cell_type": "markdown",
   "id": "7f526414-de3a-4280-99be-aaf565527e57",
   "metadata": {},
   "source": [
    "### 자동 재배열\n",
    "* reshape (-1) 의미"
   ]
  },
  {
   "cell_type": "code",
   "execution_count": 6,
   "id": "4614d495-8580-4569-b577-12b2a21cec66",
   "metadata": {},
   "outputs": [
    {
     "name": "stdout",
     "output_type": "stream",
     "text": [
      "[ 0  1  2  3  4  5  6  7  8  9 10 11]\n"
     ]
    },
    {
     "data": {
      "text/plain": [
       "array([[ 0,  1,  2,  3],\n",
       "       [ 4,  5,  6,  7],\n",
       "       [ 8,  9, 10, 11]])"
      ]
     },
     "execution_count": 6,
     "metadata": {},
     "output_type": "execute_result"
    }
   ],
   "source": [
    "x=np.arange(12)\n",
    "print(x)\n",
    "\n",
    "x=x.reshape(3, 4)\n",
    "x"
   ]
  },
  {
   "cell_type": "code",
   "execution_count": 8,
   "id": "de517cc7-2891-41d7-9803-7e25f533b211",
   "metadata": {},
   "outputs": [
    {
     "name": "stdout",
     "output_type": "stream",
     "text": [
      "[[ 0]\n",
      " [ 1]\n",
      " [ 2]\n",
      " [ 3]\n",
      " [ 4]\n",
      " [ 5]\n",
      " [ 6]\n",
      " [ 7]\n",
      " [ 8]\n",
      " [ 9]\n",
      " [10]\n",
      " [11]] \n",
      "\n",
      "[[ 0  1]\n",
      " [ 2  3]\n",
      " [ 4  5]\n",
      " [ 6  7]\n",
      " [ 8  9]\n",
      " [10 11]] \n",
      "\n",
      "[[ 0  1  2]\n",
      " [ 3  4  5]\n",
      " [ 6  7  8]\n",
      " [ 9 10 11]] \n",
      "\n"
     ]
    }
   ],
   "source": [
    "# 행의 위치에서 -1을 넣고 열의 수를 지정해주면 변환될 행은 알아서 자동으로 재배열\n",
    "x=x.reshape(-1, 1)\n",
    "print(x, \"\\n\")\n",
    "\n",
    "x=x.reshape(-1, 2)\n",
    "print(x, \"\\n\")\n",
    "\n",
    "x=x.reshape(-1, 3)\n",
    "print(x, \"\\n\")"
   ]
  },
  {
   "cell_type": "code",
   "execution_count": 41,
   "id": "0363dfc2-a92e-4f53-9364-f66ebdc84e89",
   "metadata": {},
   "outputs": [
    {
     "name": "stdout",
     "output_type": "stream",
     "text": [
      "[[ 0  1  2  3  4  5  6  7  8  9 10 11]] \n",
      "\n",
      "[[ 0  1  2  3  4  5]\n",
      " [ 6  7  8  9 10 11]] \n",
      "\n",
      "[[ 0  1  2  3]\n",
      " [ 4  5  6  7]\n",
      " [ 8  9 10 11]] \n",
      "\n"
     ]
    }
   ],
   "source": [
    "# 열의 위치에 -1을 넣고 행의 수를 지정해주면 열은 알아서 자동으로 재배열\n",
    "x=x.reshape(1, -1)\n",
    "print(x, \"\\n\")\n",
    "\n",
    "x=x.reshape(2, -1)\n",
    "print(x, \"\\n\")\n",
    "\n",
    "x=x.reshape(3, -1)\n",
    "print(x, \"\\n\")"
   ]
  },
  {
   "cell_type": "code",
   "execution_count": 43,
   "id": "29d48a32-3a51-4708-b209-e2f9117b0226",
   "metadata": {},
   "outputs": [
    {
     "data": {
      "text/plain": [
       "array([ 1,  2,  3,  4,  5,  6,  7,  8,  9, 10])"
      ]
     },
     "execution_count": 43,
     "metadata": {},
     "output_type": "execute_result"
    }
   ],
   "source": [
    "# reshape(-1) 경우는 1차원 배열 \n",
    "arr=np.array([[1, 2, 3, 4, 5], \n",
    "              [6, 7, 8, 9, 10]])\n",
    "arr=arr.reshape(-1)      # 1차원으로 변환, x.reshape(1 ,-1) 2차원 차이점 알아두기 \n",
    "arr"
   ]
  },
  {
   "cell_type": "code",
   "execution_count": 46,
   "id": "eefd082d-94e3-4949-86ce-712066c23a79",
   "metadata": {},
   "outputs": [
    {
     "name": "stdout",
     "output_type": "stream",
     "text": [
      "[[ 1  2]\n",
      " [33 44]]\n",
      "[[ 1 33]\n",
      " [ 2 44]]\n"
     ]
    }
   ],
   "source": [
    "# 전치 (행과 열을 바꿈)\n",
    "a=np.array([[1, 2],\n",
    "            [33, 44]])\n",
    "print(a)\n",
    "print(a.T)"
   ]
  },
  {
   "cell_type": "markdown",
   "id": "796d0197-69d2-4144-b240-fec016af14d4",
   "metadata": {},
   "source": [
    "## 연산"
   ]
  },
  {
   "cell_type": "markdown",
   "id": "079bf90c-959a-4681-9188-cc3672b8a9a2",
   "metadata": {},
   "source": [
    "### 사칙 연산"
   ]
  },
  {
   "cell_type": "code",
   "execution_count": 51,
   "id": "e7d63d86-8860-4ea5-9010-81c78af1594f",
   "metadata": {},
   "outputs": [
    {
     "name": "stdout",
     "output_type": "stream",
     "text": [
      "[1 2 3 4]\n",
      "[[1 2]\n",
      " [3 4]]\n",
      "[[10 20]\n",
      " [30 40]]\n"
     ]
    }
   ],
   "source": [
    "a=np.arange(1, 5)\n",
    "print(a)\n",
    "\n",
    "a=a.reshape(2, 2)\n",
    "print(a)\n",
    "\n",
    "mul=a*10\n",
    "print(mul)"
   ]
  },
  {
   "cell_type": "code",
   "execution_count": 54,
   "id": "53313469-362a-4f41-8d45-fd4496131d50",
   "metadata": {},
   "outputs": [
    {
     "name": "stdout",
     "output_type": "stream",
     "text": [
      "[[1 2]\n",
      " [3 4]]\n",
      "[[11 12]\n",
      " [13 14]]\n",
      "[[12 14]\n",
      " [16 18]]\n"
     ]
    }
   ],
   "source": [
    "b=np.arange(1, 5).reshape(2, 2)\n",
    "print(b)\n",
    "\n",
    "c=np.arange(11, 15).reshape(2, 2)\n",
    "print(c)\n",
    "\n",
    "hap=b+c\n",
    "print(hap)"
   ]
  },
  {
   "cell_type": "markdown",
   "id": "bbac02f5-b0ab-4aa2-8ef2-a4eb5bebefc6",
   "metadata": {},
   "source": [
    "### Braodcasting 연산\n",
    "* 서로 다른 형태의 배열 연산"
   ]
  },
  {
   "cell_type": "code",
   "execution_count": 58,
   "id": "bf0f31b9-c98e-4238-b566-78ba8526ec1b",
   "metadata": {},
   "outputs": [
    {
     "data": {
      "text/plain": [
       "array([[0, 2],\n",
       "       [2, 4]])"
      ]
     },
     "execution_count": 58,
     "metadata": {},
     "output_type": "execute_result"
    }
   ],
   "source": [
    "# 행 연산\n",
    "x=np.arange(4).reshape(2, 2)\n",
    "y=np.arange(2)\n",
    "x+y"
   ]
  },
  {
   "cell_type": "code",
   "execution_count": 57,
   "id": "9afc07d0-9164-43b6-81dc-c58a128d5a36",
   "metadata": {},
   "outputs": [
    {
     "data": {
      "text/plain": [
       "array([[10, 11, 12, 13],\n",
       "       [15, 16, 17, 18],\n",
       "       [20, 21, 22, 23],\n",
       "       [25, 26, 27, 28]])"
      ]
     },
     "execution_count": 57,
     "metadata": {},
     "output_type": "execute_result"
    }
   ],
   "source": [
    "# 열 연산\n",
    "i=np.arange(0, 16).reshape(4, 4)\n",
    "j=np.arange(10, 14).reshape(4, 1)\n",
    "i+j"
   ]
  },
  {
   "cell_type": "markdown",
   "id": "f5ec3bd3-fc7d-41e4-9117-3f31489898d5",
   "metadata": {},
   "source": [
    "### masking 연산\n",
    "* 특정 조건에 맞는 값을 추출, 이미지 처리에서 주로 활용, 반복문보다 속다 빠르고 간편"
   ]
  },
  {
   "cell_type": "code",
   "execution_count": 53,
   "id": "de397e1d-b032-4fe6-bf4f-b384e8df4d41",
   "metadata": {},
   "outputs": [
    {
     "name": "stdout",
     "output_type": "stream",
     "text": [
      "[[ 0  1  2  3]\n",
      " [ 4  5  6  7]\n",
      " [ 8  9 10 11]\n",
      " [12 13 14 15]]\n"
     ]
    }
   ],
   "source": [
    "arr=np.arange(16).reshape(4, 4)\n",
    "print(arr)"
   ]
  },
  {
   "cell_type": "code",
   "execution_count": 55,
   "id": "1beda952-c5ce-4979-80b9-ccf491841313",
   "metadata": {},
   "outputs": [
    {
     "name": "stdout",
     "output_type": "stream",
     "text": [
      "11 12 13 14 15 "
     ]
    }
   ],
   "source": [
    "# 10본다 큰 수 출력 (반복)\n",
    "for row in arr:\n",
    "    # print(row)\n",
    "    for num in row:\n",
    "        # print(num)\n",
    "        if num > 10:\n",
    "            print(num, end=' ')         "
   ]
  },
  {
   "cell_type": "code",
   "execution_count": 57,
   "id": "38355416-8a27-48ac-b07f-c690cbc919a3",
   "metadata": {},
   "outputs": [
    {
     "name": "stdout",
     "output_type": "stream",
     "text": [
      "[[False False False False]\n",
      " [False False False False]\n",
      " [False False False  True]\n",
      " [ True  True  True  True]] \n",
      "\n"
     ]
    },
    {
     "data": {
      "text/plain": [
       "array([11, 12, 13, 14, 15])"
      ]
     },
     "execution_count": 57,
     "metadata": {},
     "output_type": "execute_result"
    }
   ],
   "source": [
    "# Ex1) 조건에 따라 배열의 특정 값만 변경하고 싶을때  \n",
    "# 조건에 해당하는 마스킹를 생성 - TRUE, FALSE\n",
    "masking=arr > 10\n",
    "print(masking, \"\\n\")\n",
    "\n",
    "# 필터링된 배열 정보 출력\n",
    "f=arr[masking]           # arr[arr > 10] 또는 arr[arr % 2==0]\n",
    "f"
   ]
  },
  {
   "cell_type": "code",
   "execution_count": 59,
   "id": "26740744-7a8d-4995-9c9f-733c48310a74",
   "metadata": {},
   "outputs": [
    {
     "data": {
      "text/plain": [
       "array([[  0,   1,   2,   3],\n",
       "       [  4,   5, 100, 100],\n",
       "       [100, 100, 100, 100],\n",
       "       [100, 100, 100, 100]])"
      ]
     },
     "execution_count": 59,
     "metadata": {},
     "output_type": "execute_result"
    }
   ],
   "source": [
    "# Ex2) TRUE을 100으로 바꾼다. \n",
    "masking=arr > 5\n",
    "arr[masking]=100\n",
    "arr"
   ]
  },
  {
   "cell_type": "code",
   "execution_count": 61,
   "id": "6fad380e-df22-483d-9f0d-b3c10da4c470",
   "metadata": {},
   "outputs": [
    {
     "name": "stdout",
     "output_type": "stream",
     "text": [
      "[1. 2. 4. 5.]\n"
     ]
    }
   ],
   "source": [
    "# Ex3) 결측치 처리\n",
    "arr=np.array([1, 2, np.nan, 4, 5])\n",
    "mask=~np.isnan(arr)\n",
    "print(arr[mask])"
   ]
  },
  {
   "cell_type": "markdown",
   "id": "df4f5c6e-99f3-4542-a6f9-54630c169680",
   "metadata": {},
   "source": [
    "### 집계 함수"
   ]
  },
  {
   "cell_type": "code",
   "execution_count": 20,
   "id": "9ac491ab-f8ae-4c12-81b0-f3e7193da22e",
   "metadata": {},
   "outputs": [
    {
     "name": "stdout",
     "output_type": "stream",
     "text": [
      "[[ 0  1  2  3]\n",
      " [ 4  5  6  7]\n",
      " [ 8  9 10 11]\n",
      " [12 13 14 15]] \n",
      "\n",
      "최대값: 15\n",
      "최소값: 0\n",
      "합계: 120\n",
      "평균: 7.5\n"
     ]
    }
   ],
   "source": [
    "num=np.arange(16).reshape(4, 4)\n",
    "print(num, \"\\n\")\n",
    "print(\"최대값:\", np.max(num))\n",
    "print(\"최소값:\", np.min(num))\n",
    "print(\"합계:\", np.sum(num))\n",
    "print(\"평균:\", np.mean(num))"
   ]
  },
  {
   "cell_type": "code",
   "execution_count": 75,
   "id": "f0c88fd2-634b-47a0-b780-8fcdffac39aa",
   "metadata": {},
   "outputs": [
    {
     "name": "stdout",
     "output_type": "stream",
     "text": [
      "행 합: [ 6 22 38 54]\n",
      "열 합: [24 28 32 36]\n",
      "행 최소값: [ 0  4  8 12]\n"
     ]
    }
   ],
   "source": [
    "# ** 집계 함수 사용시 행열 주의 !!!!\n",
    "# axis=None : 전체행열\n",
    "# axis=0    : 행을 기준으로 동일한 인텍스 요소, 즉 열\n",
    "# axis=1    : 열을 기준으로 각열의 요소를 그룹, 즉 행\n",
    "\n",
    "print(\"행 합:\", np.sum(num, axis=1))\n",
    "print(\"열 합:\", np.sum(num, axis=0))\n",
    "print(\"행 최소값:\", np.min(num, axis=1))"
   ]
  },
  {
   "cell_type": "markdown",
   "id": "57e50c6c-5177-4cbf-9a0e-f60ea805815f",
   "metadata": {},
   "source": [
    "## 파일 읽고 & 저장\n",
    "* 실습문제 - 영화 평점\n",
    "* 파일 다운로드 : https://grouplens.org/datasets/movielens/  \n",
    "* 사용자 id, 영화 id, 평점, 날짜 가져오기\n",
    "* 전체 평점 평균 계산\n",
    "* 사용자별 평점 평균\n",
    "* 최고의 평점\n",
    "* 엑셀 저장"
   ]
  },
  {
   "cell_type": "code",
   "execution_count": 68,
   "id": "2aa04d93-c389-4859-b7e6-dec0fdd16c21",
   "metadata": {},
   "outputs": [
    {
     "data": {
      "text/plain": [
       "(1000209, 4)"
      ]
     },
     "execution_count": 68,
     "metadata": {},
     "output_type": "execute_result"
    }
   ],
   "source": [
    "# 파일 불러오기 (1000209, 4)\n",
    "path='./Data/numpy/ratings.dat'\n",
    "movie_data=np.genfromtxt(path, delimiter='::', dtype=np.int64)\n",
    "movie_data.shape"
   ]
  },
  {
   "cell_type": "code",
   "execution_count": 88,
   "id": "afca4267-698b-450b-b4c2-3593dd779b72",
   "metadata": {},
   "outputs": [
    {
     "data": {
      "text/plain": [
       "array([[        1,      1193,         5, 978300760],\n",
       "       [        1,       661,         3, 978302109],\n",
       "       [        1,       914,         3, 978301968],\n",
       "       [        1,      3408,         4, 978300275],\n",
       "       [        1,      2355,         5, 978824291]], dtype=int64)"
      ]
     },
     "execution_count": 88,
     "metadata": {},
     "output_type": "execute_result"
    }
   ],
   "source": [
    "# 1) 사용자 id, 영화 id, 평점, 날짜\n",
    "movie_data[:5, :]          # 데이터의 첫 5행만 확인 [행 start: end, 열 start:end] "
   ]
  },
  {
   "cell_type": "code",
   "execution_count": 91,
   "id": "78885f81-e8d0-41dc-bcb3-ab8aae150d2c",
   "metadata": {},
   "outputs": [
    {
     "data": {
      "text/plain": [
       "3.58"
      ]
     },
     "execution_count": 91,
     "metadata": {},
     "output_type": "execute_result"
    }
   ],
   "source": [
    "# 2) 전체 평점 평균 계산\n",
    "np.mean(movie_data[:, 2]).round(2)"
   ]
  },
  {
   "cell_type": "code",
   "execution_count": 96,
   "id": "df19c873-2809-47d3-8e94-ec1ec7a07ff1",
   "metadata": {},
   "outputs": [
    {
     "name": "stdout",
     "output_type": "stream",
     "text": [
      "(6040,)\n"
     ]
    },
    {
     "data": {
      "text/plain": [
       "[[1, 4.188679245283019],\n",
       " [2, 3.7131782945736433],\n",
       " [3, 3.9019607843137254],\n",
       " [4, 4.190476190476191],\n",
       " [5, 3.1464646464646466],\n",
       " [6, 3.9014084507042255],\n",
       " [7, 4.32258064516129],\n",
       " [8, 3.884892086330935],\n",
       " [9, 3.7358490566037736],\n",
       " [10, 4.114713216957606]]"
      ]
     },
     "execution_count": 96,
     "metadata": {},
     "output_type": "execute_result"
    }
   ],
   "source": [
    "# 3) 사용자별 평점 평균\n",
    "user_id=np.unique(movie_data[:, 0])        # 중복 아이디를 제거 후 새로운 아이디 배열 생성  (6040,)\n",
    "print(user_id.shape)\n",
    "\n",
    "mean_value=[]\n",
    "for idx in user_id:\n",
    "    data_user=movie_data[movie_data[:, 0] == idx]     #  masking \n",
    "    value=data_user[:, 2].mean()                       # 해당 아이디 \n",
    "    mean_value.append([idx, value])\n",
    "    \n",
    "mean_value[:10]"
   ]
  },
  {
   "cell_type": "code",
   "execution_count": 97,
   "id": "84c135a9-fc22-4bba-92ed-1b7d082e9df6",
   "metadata": {},
   "outputs": [
    {
     "data": {
      "text/plain": [
       "4.962962962962963"
      ]
     },
     "execution_count": 97,
     "metadata": {},
     "output_type": "execute_result"
    }
   ],
   "source": [
    "# 4) 최고의 평점\n",
    "arr_mean_values=np.array(mean_value)    # list를 numpy 배열로 \n",
    "np.max(arr_mean_values[:, 1])"
   ]
  },
  {
   "cell_type": "code",
   "execution_count": 99,
   "id": "dd277006-91d2-4da5-baa2-581df77ced6e",
   "metadata": {},
   "outputs": [],
   "source": [
    "# 사용자별로 다시 저장\n",
    "fpath='./Data/numpy/id_ratings.csv'\n",
    "np.savetxt(fpath, arr_mean_values, delimiter=',', fmt=\"%.1f\")"
   ]
  }
 ],
 "metadata": {
  "kernelspec": {
   "display_name": "Python [conda env:base] *",
   "language": "python",
   "name": "conda-base-py"
  },
  "language_info": {
   "codemirror_mode": {
    "name": "ipython",
    "version": 3
   },
   "file_extension": ".py",
   "mimetype": "text/x-python",
   "name": "python",
   "nbconvert_exporter": "python",
   "pygments_lexer": "ipython3",
   "version": "3.12.7"
  }
 },
 "nbformat": 4,
 "nbformat_minor": 5
}
