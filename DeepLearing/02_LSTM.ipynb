{
 "cells": [
  {
   "cell_type": "code",
   "execution_count": 128,
   "id": "19bb684d-6c0c-4695-8613-c7960895d5cc",
   "metadata": {},
   "outputs": [],
   "source": [
    "import numpy as np\n",
    "import pandas as pd\n",
    "import seaborn as sns\n",
    "\n",
    "import matplotlib.pyplot as plt\n",
    "import matplotlib.pyplot as plt             \n",
    "import matplotlib as mpl                    \n",
    "mpl.rc('font', family='Malgun Gothic')      \n",
    "plt.rcParams['axes.unicode_minus']=False  \n",
    "\n",
    "from sklearn.preprocessing import MinMaxScaler\n",
    "from sklearn.model_selection import train_test_split\n",
    "from sklearn.metrics import r2_score\n",
    "\n",
    "import tensorflow as tf\n",
    "from tensorflow import keras     \n",
    "from tensorflow.keras.models import Sequential\n",
    "from tensorflow.keras.optimizers import SGD, Adam\n",
    "\n",
    "from keras.callbacks import ModelCheckpoint, EarlyStopping\n",
    "from tensorflow.keras.callbacks import LambdaCallback\n",
    "\n",
    "\n",
    "import FinanceDataReader as fdr\n",
    "from tensorflow.keras.layers import LSTM"
   ]
  },
  {
   "cell_type": "markdown",
   "id": "5d3636a7-3637-45f6-84fd-fbdca0450d92",
   "metadata": {},
   "source": [
    "# 삼성전자 주식 예측"
   ]
  },
  {
   "cell_type": "markdown",
   "id": "b9842f40-2644-4ab8-bd60-e72dc57adb52",
   "metadata": {},
   "source": [
    "## 데이터 로드"
   ]
  },
  {
   "cell_type": "code",
   "execution_count": 132,
   "id": "40c790be-1599-4005-9e85-4c7dd10e2469",
   "metadata": {},
   "outputs": [
    {
     "data": {
      "text/html": [
       "<div>\n",
       "<style scoped>\n",
       "    .dataframe tbody tr th:only-of-type {\n",
       "        vertical-align: middle;\n",
       "    }\n",
       "\n",
       "    .dataframe tbody tr th {\n",
       "        vertical-align: top;\n",
       "    }\n",
       "\n",
       "    .dataframe thead th {\n",
       "        text-align: right;\n",
       "    }\n",
       "</style>\n",
       "<table border=\"1\" class=\"dataframe\">\n",
       "  <thead>\n",
       "    <tr style=\"text-align: right;\">\n",
       "      <th></th>\n",
       "      <th>Open</th>\n",
       "      <th>High</th>\n",
       "      <th>Low</th>\n",
       "      <th>Close</th>\n",
       "      <th>Volume</th>\n",
       "      <th>Change</th>\n",
       "    </tr>\n",
       "    <tr>\n",
       "      <th>Date</th>\n",
       "      <th></th>\n",
       "      <th></th>\n",
       "      <th></th>\n",
       "      <th></th>\n",
       "      <th></th>\n",
       "      <th></th>\n",
       "    </tr>\n",
       "  </thead>\n",
       "  <tbody>\n",
       "    <tr>\n",
       "      <th>2020-01-02</th>\n",
       "      <td>55500</td>\n",
       "      <td>56000</td>\n",
       "      <td>55000</td>\n",
       "      <td>55200</td>\n",
       "      <td>12993228</td>\n",
       "      <td>-0.010753</td>\n",
       "    </tr>\n",
       "    <tr>\n",
       "      <th>2020-01-03</th>\n",
       "      <td>56000</td>\n",
       "      <td>56600</td>\n",
       "      <td>54900</td>\n",
       "      <td>55500</td>\n",
       "      <td>15422255</td>\n",
       "      <td>0.005435</td>\n",
       "    </tr>\n",
       "    <tr>\n",
       "      <th>2020-01-06</th>\n",
       "      <td>54900</td>\n",
       "      <td>55600</td>\n",
       "      <td>54600</td>\n",
       "      <td>55500</td>\n",
       "      <td>10278951</td>\n",
       "      <td>0.000000</td>\n",
       "    </tr>\n",
       "    <tr>\n",
       "      <th>2020-01-07</th>\n",
       "      <td>55700</td>\n",
       "      <td>56400</td>\n",
       "      <td>55600</td>\n",
       "      <td>55800</td>\n",
       "      <td>10009778</td>\n",
       "      <td>0.005405</td>\n",
       "    </tr>\n",
       "    <tr>\n",
       "      <th>2020-01-08</th>\n",
       "      <td>56200</td>\n",
       "      <td>57400</td>\n",
       "      <td>55900</td>\n",
       "      <td>56800</td>\n",
       "      <td>23501171</td>\n",
       "      <td>0.017921</td>\n",
       "    </tr>\n",
       "  </tbody>\n",
       "</table>\n",
       "</div>"
      ],
      "text/plain": [
       "             Open   High    Low  Close    Volume    Change\n",
       "Date                                                      \n",
       "2020-01-02  55500  56000  55000  55200  12993228 -0.010753\n",
       "2020-01-03  56000  56600  54900  55500  15422255  0.005435\n",
       "2020-01-06  54900  55600  54600  55500  10278951  0.000000\n",
       "2020-01-07  55700  56400  55600  55800  10009778  0.005405\n",
       "2020-01-08  56200  57400  55900  56800  23501171  0.017921"
      ]
     },
     "execution_count": 132,
     "metadata": {},
     "output_type": "execute_result"
    }
   ],
   "source": [
    "samsung=fdr.DataReader('005930', '2020')    # 삼성전자 \n",
    "samsung.shape\n",
    "samsung.head()"
   ]
  },
  {
   "cell_type": "code",
   "execution_count": 134,
   "id": "de8091a4-1f0f-4f1b-9e6c-30ae42b0a403",
   "metadata": {},
   "outputs": [
    {
     "data": {
      "text/html": [
       "<div>\n",
       "<style scoped>\n",
       "    .dataframe tbody tr th:only-of-type {\n",
       "        vertical-align: middle;\n",
       "    }\n",
       "\n",
       "    .dataframe tbody tr th {\n",
       "        vertical-align: top;\n",
       "    }\n",
       "\n",
       "    .dataframe thead th {\n",
       "        text-align: right;\n",
       "    }\n",
       "</style>\n",
       "<table border=\"1\" class=\"dataframe\">\n",
       "  <thead>\n",
       "    <tr style=\"text-align: right;\">\n",
       "      <th></th>\n",
       "      <th>Close</th>\n",
       "    </tr>\n",
       "    <tr>\n",
       "      <th>Date</th>\n",
       "      <th></th>\n",
       "    </tr>\n",
       "  </thead>\n",
       "  <tbody>\n",
       "    <tr>\n",
       "      <th>2020-01-02</th>\n",
       "      <td>55200</td>\n",
       "    </tr>\n",
       "    <tr>\n",
       "      <th>2020-01-03</th>\n",
       "      <td>55500</td>\n",
       "    </tr>\n",
       "    <tr>\n",
       "      <th>2020-01-06</th>\n",
       "      <td>55500</td>\n",
       "    </tr>\n",
       "    <tr>\n",
       "      <th>2020-01-07</th>\n",
       "      <td>55800</td>\n",
       "    </tr>\n",
       "    <tr>\n",
       "      <th>2020-01-08</th>\n",
       "      <td>56800</td>\n",
       "    </tr>\n",
       "  </tbody>\n",
       "</table>\n",
       "</div>"
      ],
      "text/plain": [
       "            Close\n",
       "Date             \n",
       "2020-01-02  55200\n",
       "2020-01-03  55500\n",
       "2020-01-06  55500\n",
       "2020-01-07  55800\n",
       "2020-01-08  56800"
      ]
     },
     "execution_count": 134,
     "metadata": {},
     "output_type": "execute_result"
    }
   ],
   "source": [
    "seq_data=samsung[['Close']]\n",
    "seq_data.head()"
   ]
  },
  {
   "cell_type": "code",
   "execution_count": 136,
   "id": "541447a9-596a-4dce-9b13-f400e5174287",
   "metadata": {},
   "outputs": [
    {
     "data": {
      "image/png": "[encoded data removed]",
      "text/plain": [
       "<Figure size 2000x600 with 1 Axes>"
      ]
     },
     "metadata": {},
     "output_type": "display_data"
    }
   ],
   "source": [
    "ax=seq_data.plot()\n",
    "fig=ax.get_figure()\n",
    "fig.set_size_inches(20, 6) "
   ]
  },
  {
   "cell_type": "markdown",
   "id": "e438861d-b8e5-4450-9516-466419e4dc96",
   "metadata": {},
   "source": [
    "## Sliding Window \n",
    "- 시간 순서대로 데이터를 일정한 크기로 자르면서 이동하는 기법 "
   ]
  },
  {
   "cell_type": "code",
   "execution_count": 139,
   "id": "c1fbdf31-e969-489d-ac4c-326883756454",
   "metadata": {},
   "outputs": [
    {
     "name": "stdout",
     "output_type": "stream",
     "text": [
      "10 <class 'numpy.ndarray'>\n",
      "[[1 2 3]\n",
      " [2 3 4]\n",
      " [3 4 5]\n",
      " [4 5 6]\n",
      " [5 6 7]\n",
      " [6 7 8]\n",
      " [7 8 9]]\n",
      "[ 4  5  6  7  8  9 10]\n"
     ]
    },
    {
     "data": {
      "text/plain": [
       "((7, 3), (7,))"
      ]
     },
     "execution_count": 139,
     "metadata": {},
     "output_type": "execute_result"
    }
   ],
   "source": [
    "data=np.array([1, 2, 3, 4, 5, 6, 7, 8, 9, 10])\n",
    "print(len(data), type(data))\n",
    "\n",
    "def imsi(data, window):\n",
    "    train=[]\n",
    "    target=[]\n",
    "\n",
    "    for i in range(len(data) - window):   # 10 - 3 = 7 / range(0, 7)\n",
    "        # print(\"idx:\", i) \n",
    "        \n",
    "        train.append(data[i: i+window])   # 0:3 [1, 2, 3], 1:4 [2, 3, 4]\n",
    "  # print(\"train:\", train)\n",
    "\n",
    "        target.append(data[i + window])    # 3, 4\n",
    "  # print(\"target:\", target)             \n",
    "        \n",
    "    return np.array(train), np.array(target)    \n",
    "\n",
    "\n",
    "X, Y=imsi(data, 3)\n",
    "print(X)\n",
    "print(Y)\n",
    "X.shape, Y.shape"
   ]
  },
  {
   "cell_type": "markdown",
   "id": "df23a585-4d9b-447d-8ae0-021aca49deab",
   "metadata": {},
   "source": [
    "## 데이터 전처리\n",
    "### MinMaxScaler"
   ]
  },
  {
   "cell_type": "code",
   "execution_count": 142,
   "id": "ca368440-21b3-44ab-8e2a-27e2d6309418",
   "metadata": {},
   "outputs": [],
   "source": [
    "min_max_scaler=MinMaxScaler()\n",
    "min_max_scaled=min_max_scaler.fit_transform(seq_data)"
   ]
  },
  {
   "cell_type": "code",
   "execution_count": 144,
   "id": "6fcba599-7a1b-4432-b4e0-89da36cf069f",
   "metadata": {},
   "outputs": [
    {
     "name": "stdout",
     "output_type": "stream",
     "text": [
      "(1029, 1) (258, 1)\n"
     ]
    }
   ],
   "source": [
    "train_data, test_data=train_test_split(min_max_scaled, test_size=0.2, shuffle=False)\n",
    "print(train_data.shape, test_data.shape)"
   ]
  },
  {
   "cell_type": "markdown",
   "id": "d7d3c88b-191d-4468-8824-6c7fd55bdef5",
   "metadata": {},
   "source": [
    "###  Sliding Window "
   ]
  },
  {
   "cell_type": "code",
   "execution_count": 147,
   "id": "2de89060-45e9-49d8-b80f-a88305e8b048",
   "metadata": {},
   "outputs": [
    {
     "data": {
      "text/plain": [
       "((999, 30, 1), (999, 1))"
      ]
     },
     "execution_count": 147,
     "metadata": {},
     "output_type": "execute_result"
    }
   ],
   "source": [
    "def make_sample(data, window):\n",
    "    train=[]\n",
    "    target=[]\n",
    "\n",
    "    for i in range(len(data) - window):\n",
    "        train.append(data[i: i+window])\n",
    "        target.append(data[i + window])\n",
    "    return np.array(train), np.array(target)\n",
    "\n",
    "X_train, Y_train=make_sample(train_data, 30)\n",
    "X_train.shape, Y_train.shape"
   ]
  },
  {
   "cell_type": "markdown",
   "id": "0b1f1063-ae5f-4071-a465-ed5241f8f9fc",
   "metadata": {},
   "source": [
    "### 학습"
   ]
  },
  {
   "cell_type": "code",
   "execution_count": 150,
   "id": "870e75c2-4e08-4dfe-8023-1e59e1a268e2",
   "metadata": {},
   "outputs": [
    {
     "data": {
      "text/html": [
       "<pre style=\"white-space:pre;overflow-x:auto;line-height:normal;font-family:Menlo,'DejaVu Sans Mono',consolas,'Courier New',monospace\"><span style=\"font-weight: bold\">Model: \"sequential_3\"</span>\n",
       "</pre>\n"
      ],
      "text/plain": [
       "\u001b[1mModel: \"sequential_3\"\u001b[0m\n"
      ]
     },
     "metadata": {},
     "output_type": "display_data"
    },
    {
     "data": {
      "text/html": [
       "<pre style=\"white-space:pre;overflow-x:auto;line-height:normal;font-family:Menlo,'DejaVu Sans Mono',consolas,'Courier New',monospace\">┏━━━━━━━━━━━━━━━━━━━━━━━━━━━━━━━━━━━━━━┳━━━━━━━━━━━━━━━━━━━━━━━━━━━━━┳━━━━━━━━━━━━━━━━━┓\n",
       "┃<span style=\"font-weight: bold\"> Layer (type)                         </span>┃<span style=\"font-weight: bold\"> Output Shape                </span>┃<span style=\"font-weight: bold\">         Param # </span>┃\n",
       "┡━━━━━━━━━━━━━━━━━━━━━━━━━━━━━━━━━━━━━━╇━━━━━━━━━━━━━━━━━━━━━━━━━━━━━╇━━━━━━━━━━━━━━━━━┩\n",
       "│ lstm_3 (<span style=\"color: #0087ff; text-decoration-color: #0087ff\">LSTM</span>)                        │ (<span style=\"color: #00d7ff; text-decoration-color: #00d7ff\">None</span>, <span style=\"color: #00af00; text-decoration-color: #00af00\">16</span>)                  │           <span style=\"color: #00af00; text-decoration-color: #00af00\">1,152</span> │\n",
       "├──────────────────────────────────────┼─────────────────────────────┼─────────────────┤\n",
       "│ dense_3 (<span style=\"color: #0087ff; text-decoration-color: #0087ff\">Dense</span>)                      │ (<span style=\"color: #00d7ff; text-decoration-color: #00d7ff\">None</span>, <span style=\"color: #00af00; text-decoration-color: #00af00\">1</span>)                   │              <span style=\"color: #00af00; text-decoration-color: #00af00\">17</span> │\n",
       "└──────────────────────────────────────┴─────────────────────────────┴─────────────────┘\n",
       "</pre>\n"
      ],
      "text/plain": [
       "┏━━━━━━━━━━━━━━━━━━━━━━━━━━━━━━━━━━━━━━┳━━━━━━━━━━━━━━━━━━━━━━━━━━━━━┳━━━━━━━━━━━━━━━━━┓\n",
       "┃\u001b[1m \u001b[0m\u001b[1mLayer (type)                        \u001b[0m\u001b[1m \u001b[0m┃\u001b[1m \u001b[0m\u001b[1mOutput Shape               \u001b[0m\u001b[1m \u001b[0m┃\u001b[1m \u001b[0m\u001b[1m        Param #\u001b[0m\u001b[1m \u001b[0m┃\n",
       "┡━━━━━━━━━━━━━━━━━━━━━━━━━━━━━━━━━━━━━━╇━━━━━━━━━━━━━━━━━━━━━━━━━━━━━╇━━━━━━━━━━━━━━━━━┩\n",
       "│ lstm_3 (\u001b[38;5;33mLSTM\u001b[0m)                        │ (\u001b[38;5;45mNone\u001b[0m, \u001b[38;5;34m16\u001b[0m)                  │           \u001b[38;5;34m1,152\u001b[0m │\n",
       "├──────────────────────────────────────┼─────────────────────────────┼─────────────────┤\n",
       "│ dense_3 (\u001b[38;5;33mDense\u001b[0m)                      │ (\u001b[38;5;45mNone\u001b[0m, \u001b[38;5;34m1\u001b[0m)                   │              \u001b[38;5;34m17\u001b[0m │\n",
       "└──────────────────────────────────────┴─────────────────────────────┴─────────────────┘\n"
      ]
     },
     "metadata": {},
     "output_type": "display_data"
    },
    {
     "data": {
      "text/html": [
       "<pre style=\"white-space:pre;overflow-x:auto;line-height:normal;font-family:Menlo,'DejaVu Sans Mono',consolas,'Courier New',monospace\"><span style=\"font-weight: bold\"> Total params: </span><span style=\"color: #00af00; text-decoration-color: #00af00\">1,169</span> (4.57 KB)\n",
       "</pre>\n"
      ],
      "text/plain": [
       "\u001b[1m Total params: \u001b[0m\u001b[38;5;34m1,169\u001b[0m (4.57 KB)\n"
      ]
     },
     "metadata": {},
     "output_type": "display_data"
    },
    {
     "data": {
      "text/html": [
       "<pre style=\"white-space:pre;overflow-x:auto;line-height:normal;font-family:Menlo,'DejaVu Sans Mono',consolas,'Courier New',monospace\"><span style=\"font-weight: bold\"> Trainable params: </span><span style=\"color: #00af00; text-decoration-color: #00af00\">1,169</span> (4.57 KB)\n",
       "</pre>\n"
      ],
      "text/plain": [
       "\u001b[1m Trainable params: \u001b[0m\u001b[38;5;34m1,169\u001b[0m (4.57 KB)\n"
      ]
     },
     "metadata": {},
     "output_type": "display_data"
    },
    {
     "data": {
      "text/html": [
       "<pre style=\"white-space:pre;overflow-x:auto;line-height:normal;font-family:Menlo,'DejaVu Sans Mono',consolas,'Courier New',monospace\"><span style=\"font-weight: bold\"> Non-trainable params: </span><span style=\"color: #00af00; text-decoration-color: #00af00\">0</span> (0.00 B)\n",
       "</pre>\n"
      ],
      "text/plain": [
       "\u001b[1m Non-trainable params: \u001b[0m\u001b[38;5;34m0\u001b[0m (0.00 B)\n"
      ]
     },
     "metadata": {},
     "output_type": "display_data"
    }
   ],
   "source": [
    "model=keras.Sequential()\n",
    "model.add(keras.layers.Input(shape=(30, 1)))                                  # LSTM 입력 크기\n",
    "model.add(keras.layers.LSTM(16, activation='tanh', return_sequences=False))   # 시퀀스 중 마지막 상태만 출력 (회귀)\n",
    "model.add(keras.layers.Dense(1))                                              # 출력층\n",
    "model.summary()"
   ]
  },
  {
   "cell_type": "code",
   "execution_count": 170,
   "id": "caf6eded-e85e-42ae-802f-aeb321aeaed3",
   "metadata": {},
   "outputs": [],
   "source": [
    "def on_epoch_end_fun(epoch, logs):  \n",
    "    if(epoch + 1) % 10 == 0:\n",
    "       print(f\"Epoch {epoch+1}: loss={logs['loss']:.4f}, mse={logs['mse']:.4f}\")\n",
    "\n",
    "# 각 에포크가 끝날 때 on_epoch_end 함수\n",
    "print_callback=LambdaCallback(on_epoch_end=on_epoch_end_fun)\n",
    "\n",
    "# 학습 중단\n",
    "early_stopping_callback=EarlyStopping(monitor='loss',       \n",
    "                                      patience=20,                # 20 epoch 동안 개선이 없으면 학습 중단\n",
    "                                      verbose=1,                   # early stopping 메시지 출력  \n",
    "                                      restore_best_weights=True)   # 가장 좋은 가중치 복원              "
   ]
  },
  {
   "cell_type": "code",
   "execution_count": 172,
   "id": "286be4bd-884e-4859-8e4b-658b11aec65b",
   "metadata": {},
   "outputs": [
    {
     "name": "stdout",
     "output_type": "stream",
     "text": [
      "Epoch 10: loss=0.0008, mse=0.0008\n",
      "Epoch 20: loss=0.0007, mse=0.0007\n",
      "Restoring model weights from the end of the best epoch: 20.\n"
     ]
    },
    {
     "data": {
      "text/plain": [
       "<keras.src.callbacks.history.History at 0x2acef543e90>"
      ]
     },
     "execution_count": 172,
     "metadata": {},
     "output_type": "execute_result"
    }
   ],
   "source": [
    "model.compile(optimizer='adam', loss='mean_squared_error', metrics=['mse'])\n",
    "model.fit(X_train, Y_train,  epochs=20, batch_size=16,  verbose=0, callbacks=[print_callback, early_stopping_callback])\n",
    "# model.fit(X, Y,  epochs=100, batch_size=16)"
   ]
  },
  {
   "cell_type": "markdown",
   "id": "4d16e119-29ad-4ee3-a6c7-f2c5285a21e2",
   "metadata": {},
   "source": [
    "### 평가"
   ]
  },
  {
   "cell_type": "code",
   "execution_count": 156,
   "id": "0c6b7e1e-1897-48c2-a21a-88564a970229",
   "metadata": {},
   "outputs": [
    {
     "name": "stdout",
     "output_type": "stream",
     "text": [
      "\u001b[1m8/8\u001b[0m \u001b[32m━━━━━━━━━━━━━━━━━━━━\u001b[0m\u001b[37m\u001b[0m \u001b[1m1s\u001b[0m 45ms/step\n"
     ]
    }
   ],
   "source": [
    "X_test, Y_test=make_sample(test_data, 30)\n",
    "pred=model.predict(X_test)"
   ]
  },
  {
   "cell_type": "code",
   "execution_count": 157,
   "id": "2fb1c647-22c5-486a-ad76-de567b0f4be9",
   "metadata": {},
   "outputs": [
    {
     "data": {
      "image/png": "[encoded data removed]",
      "text/plain": [
       "<Figure size 1000x500 with 1 Axes>"
      ]
     },
     "metadata": {},
     "output_type": "display_data"
    }
   ],
   "source": [
    "plt.figure(figsize=(10, 5))\n",
    "plt.plot(Y_test, label='stock price')\n",
    "plt.plot(pred, label='predicted')\n",
    "plt.legend()\n",
    "plt.show()"
   ]
  },
  {
   "cell_type": "code",
   "execution_count": 163,
   "id": "3bbc5176-92d6-45e4-9350-95a60973e2d1",
   "metadata": {},
   "outputs": [
    {
     "name": "stdout",
     "output_type": "stream",
     "text": [
      "R² Score: 0.9494115355854408\n"
     ]
    }
   ],
   "source": [
    "r2=r2_score(Y_test, pred)\n",
    "print(\"R² Score:\", r2)"
   ]
  },
  {
   "cell_type": "code",
   "execution_count": 165,
   "id": "17667be5-3c15-4b61-b09c-38a06b6be9a2",
   "metadata": {},
   "outputs": [
    {
     "name": "stdout",
     "output_type": "stream",
     "text": [
      "\u001b[1m1/1\u001b[0m \u001b[32m━━━━━━━━━━━━━━━━━━━━\u001b[0m\u001b[37m\u001b[0m \u001b[1m0s\u001b[0m 74ms/step\n",
      "[[0.3396578]]\n",
      "[[58973.402]]\n",
      "예측된 다음날 가격: 58973.40\n"
     ]
    }
   ],
   "source": [
    "# 최근 30일 데이터를 사용해 다음날 가격 예측\n",
    "last_sequence=X_test[-1:]     # 마지막 1개의 샘플, 이미 (1, 30, 1) 형태\n",
    "last_sequence\n",
    "\n",
    "# 예측 수행\n",
    "predicted_price=model.predict(last_sequence)\n",
    "print(predicted_price)\n",
    "\n",
    "# 원래 가격대로 변환 (역정규화)\n",
    "predicted_price=min_max_scaler.inverse_transform(predicted_price)\n",
    "print(predicted_price)\n",
    "\n",
    "print(f\"예측된 다음날 가격: {predicted_price[0][0]:.2f}\")"
   ]
  },
  {
   "cell_type": "code",
   "execution_count": 167,
   "id": "fa35d373-83ab-42f5-8dd2-659f25716bc7",
   "metadata": {},
   "outputs": [
    {
     "data": {
      "text/html": [
       "<div>\n",
       "<style scoped>\n",
       "    .dataframe tbody tr th:only-of-type {\n",
       "        vertical-align: middle;\n",
       "    }\n",
       "\n",
       "    .dataframe tbody tr th {\n",
       "        vertical-align: top;\n",
       "    }\n",
       "\n",
       "    .dataframe thead th {\n",
       "        text-align: right;\n",
       "    }\n",
       "</style>\n",
       "<table border=\"1\" class=\"dataframe\">\n",
       "  <thead>\n",
       "    <tr style=\"text-align: right;\">\n",
       "      <th></th>\n",
       "      <th>Close</th>\n",
       "    </tr>\n",
       "    <tr>\n",
       "      <th>Date</th>\n",
       "      <th></th>\n",
       "    </tr>\n",
       "  </thead>\n",
       "  <tbody>\n",
       "    <tr>\n",
       "      <th>2025-03-27</th>\n",
       "      <td>61800</td>\n",
       "    </tr>\n",
       "  </tbody>\n",
       "</table>\n",
       "</div>"
      ],
      "text/plain": [
       "            Close\n",
       "Date             \n",
       "2025-03-27  61800"
      ]
     },
     "execution_count": 167,
     "metadata": {},
     "output_type": "execute_result"
    }
   ],
   "source": [
    "seq_data.tail(1)"
   ]
  },
  {
   "cell_type": "markdown",
   "id": "46ee137c-09db-4e9a-b38b-8bd9a583ee45",
   "metadata": {},
   "source": [
    "# 마트 상품\n",
    "- 기저귀 금액 예측"
   ]
  },
  {
   "cell_type": "markdown",
   "id": "59128414-a871-4a64-8136-7b2549fa1526",
   "metadata": {},
   "source": [
    "## 데이터 불러오기"
   ]
  },
  {
   "cell_type": "code",
   "execution_count": 465,
   "id": "b22b5b34-9091-4349-9034-bc5405c78c1b",
   "metadata": {},
   "outputs": [
    {
     "data": {
      "text/plain": [
       "(585, 2)"
      ]
     },
     "execution_count": 465,
     "metadata": {},
     "output_type": "execute_result"
    }
   ],
   "source": [
    "mart=pd.read_csv('./../../workspace/MachineLearning/Data/supervised/mart_diaper.csv')\n",
    "mart.shape"
   ]
  },
  {
   "cell_type": "code",
   "execution_count": 467,
   "id": "ec79ee91-cee2-4c8f-81e8-27b3467b3852",
   "metadata": {},
   "outputs": [
    {
     "data": {
      "text/html": [
       "<div>\n",
       "<style scoped>\n",
       "    .dataframe tbody tr th:only-of-type {\n",
       "        vertical-align: middle;\n",
       "    }\n",
       "\n",
       "    .dataframe tbody tr th {\n",
       "        vertical-align: top;\n",
       "    }\n",
       "\n",
       "    .dataframe thead th {\n",
       "        text-align: right;\n",
       "    }\n",
       "</style>\n",
       "<table border=\"1\" class=\"dataframe\">\n",
       "  <thead>\n",
       "    <tr style=\"text-align: right;\">\n",
       "      <th></th>\n",
       "      <th>구매일</th>\n",
       "      <th>구매금액</th>\n",
       "    </tr>\n",
       "  </thead>\n",
       "  <tbody>\n",
       "    <tr>\n",
       "      <th>0</th>\n",
       "      <td>2019-01-01</td>\n",
       "      <td>3051240</td>\n",
       "    </tr>\n",
       "    <tr>\n",
       "      <th>1</th>\n",
       "      <td>2019-01-02</td>\n",
       "      <td>2556280</td>\n",
       "    </tr>\n",
       "    <tr>\n",
       "      <th>2</th>\n",
       "      <td>2019-01-03</td>\n",
       "      <td>2729480</td>\n",
       "    </tr>\n",
       "    <tr>\n",
       "      <th>3</th>\n",
       "      <td>2019-01-04</td>\n",
       "      <td>2238440</td>\n",
       "    </tr>\n",
       "    <tr>\n",
       "      <th>4</th>\n",
       "      <td>2019-01-05</td>\n",
       "      <td>2478680</td>\n",
       "    </tr>\n",
       "  </tbody>\n",
       "</table>\n",
       "</div>"
      ],
      "text/plain": [
       "          구매일     구매금액\n",
       "0  2019-01-01  3051240\n",
       "1  2019-01-02  2556280\n",
       "2  2019-01-03  2729480\n",
       "3  2019-01-04  2238440\n",
       "4  2019-01-05  2478680"
      ]
     },
     "execution_count": 467,
     "metadata": {},
     "output_type": "execute_result"
    }
   ],
   "source": [
    "mart.head()"
   ]
  },
  {
   "cell_type": "code",
   "execution_count": 469,
   "id": "6b4ff93a-7774-4bdd-a832-0e763c9a983f",
   "metadata": {},
   "outputs": [],
   "source": [
    "mart.set_index('구매일', inplace=True)"
   ]
  },
  {
   "cell_type": "code",
   "execution_count": 471,
   "id": "ce98faa2-0699-4f74-b420-7a0d1bfe98e6",
   "metadata": {},
   "outputs": [
    {
     "data": {
      "text/html": [
       "<div>\n",
       "<style scoped>\n",
       "    .dataframe tbody tr th:only-of-type {\n",
       "        vertical-align: middle;\n",
       "    }\n",
       "\n",
       "    .dataframe tbody tr th {\n",
       "        vertical-align: top;\n",
       "    }\n",
       "\n",
       "    .dataframe thead th {\n",
       "        text-align: right;\n",
       "    }\n",
       "</style>\n",
       "<table border=\"1\" class=\"dataframe\">\n",
       "  <thead>\n",
       "    <tr style=\"text-align: right;\">\n",
       "      <th></th>\n",
       "      <th>구매금액</th>\n",
       "    </tr>\n",
       "    <tr>\n",
       "      <th>구매일</th>\n",
       "      <th></th>\n",
       "    </tr>\n",
       "  </thead>\n",
       "  <tbody>\n",
       "    <tr>\n",
       "      <th>2019-01-01</th>\n",
       "      <td>3051240</td>\n",
       "    </tr>\n",
       "    <tr>\n",
       "      <th>2019-01-02</th>\n",
       "      <td>2556280</td>\n",
       "    </tr>\n",
       "    <tr>\n",
       "      <th>2019-01-03</th>\n",
       "      <td>2729480</td>\n",
       "    </tr>\n",
       "    <tr>\n",
       "      <th>2019-01-04</th>\n",
       "      <td>2238440</td>\n",
       "    </tr>\n",
       "    <tr>\n",
       "      <th>2019-01-05</th>\n",
       "      <td>2478680</td>\n",
       "    </tr>\n",
       "  </tbody>\n",
       "</table>\n",
       "</div>"
      ],
      "text/plain": [
       "               구매금액\n",
       "구매일                \n",
       "2019-01-01  3051240\n",
       "2019-01-02  2556280\n",
       "2019-01-03  2729480\n",
       "2019-01-04  2238440\n",
       "2019-01-05  2478680"
      ]
     },
     "execution_count": 471,
     "metadata": {},
     "output_type": "execute_result"
    }
   ],
   "source": [
    "mart.head()"
   ]
  },
  {
   "cell_type": "markdown",
   "id": "d4966db4-2ec9-4018-9d34-3364ee291299",
   "metadata": {},
   "source": [
    "## 데이터 전처리"
   ]
  },
  {
   "cell_type": "code",
   "execution_count": 474,
   "id": "39230009-633a-4d84-9e43-67c7953c71ad",
   "metadata": {},
   "outputs": [],
   "source": [
    "min_max_scaler=MinMaxScaler()\n",
    "min_max_scaled=min_max_scaler.fit_transform(mart)"
   ]
  },
  {
   "cell_type": "code",
   "execution_count": 476,
   "id": "0b16f16a-3091-4fb0-a219-a7acf7814b17",
   "metadata": {},
   "outputs": [
    {
     "data": {
      "text/plain": [
       "((468, 1), (117, 1))"
      ]
     },
     "execution_count": 476,
     "metadata": {},
     "output_type": "execute_result"
    }
   ],
   "source": [
    "train_data, test_data=train_test_split(min_max_scaled, test_size=0.2, shuffle=False)\n",
    "train_data.shape, test_data.shape"
   ]
  },
  {
   "cell_type": "code",
   "execution_count": 478,
   "id": "f35b4c6e-4ac3-4a18-9540-e1dc06fbaa57",
   "metadata": {},
   "outputs": [],
   "source": [
    "def make_sample(data, window):\n",
    "    train=[]\n",
    "    target=[]\n",
    "\n",
    "    for i in range(len(data) - window):\n",
    "        train.append(data[i:i + window])\n",
    "        target.append(data[i + window])\n",
    "    return np.array(train), np.array(target)"
   ]
  },
  {
   "cell_type": "code",
   "execution_count": 480,
   "id": "33d8ab0c-5f7f-4274-bed1-121867b513a5",
   "metadata": {},
   "outputs": [
    {
     "data": {
      "text/plain": [
       "((461, 7, 1), (461, 1))"
      ]
     },
     "execution_count": 480,
     "metadata": {},
     "output_type": "execute_result"
    }
   ],
   "source": [
    "X_train, Y_train=make_sample(train_data, 7)\n",
    "X_train.shape, Y_train.shape"
   ]
  },
  {
   "cell_type": "markdown",
   "id": "4a9196fe-0851-4969-90e8-a3d18c64cdcd",
   "metadata": {},
   "source": [
    "## 학습"
   ]
  },
  {
   "cell_type": "code",
   "execution_count": 483,
   "id": "fb908c96-6f6f-4ae3-8f6d-fcbeae9eac4b",
   "metadata": {},
   "outputs": [
    {
     "data": {
      "text/html": [
       "<pre style=\"white-space:pre;overflow-x:auto;line-height:normal;font-family:Menlo,'DejaVu Sans Mono',consolas,'Courier New',monospace\"><span style=\"font-weight: bold\">Model: \"sequential_13\"</span>\n",
       "</pre>\n"
      ],
      "text/plain": [
       "\u001b[1mModel: \"sequential_13\"\u001b[0m\n"
      ]
     },
     "metadata": {},
     "output_type": "display_data"
    },
    {
     "data": {
      "text/html": [
       "<pre style=\"white-space:pre;overflow-x:auto;line-height:normal;font-family:Menlo,'DejaVu Sans Mono',consolas,'Courier New',monospace\">┏━━━━━━━━━━━━━━━━━━━━━━━━━━━━━━━━━━━━━━┳━━━━━━━━━━━━━━━━━━━━━━━━━━━━━┳━━━━━━━━━━━━━━━━━┓\n",
       "┃<span style=\"font-weight: bold\"> Layer (type)                         </span>┃<span style=\"font-weight: bold\"> Output Shape                </span>┃<span style=\"font-weight: bold\">         Param # </span>┃\n",
       "┡━━━━━━━━━━━━━━━━━━━━━━━━━━━━━━━━━━━━━━╇━━━━━━━━━━━━━━━━━━━━━━━━━━━━━╇━━━━━━━━━━━━━━━━━┩\n",
       "│ lstm_13 (<span style=\"color: #0087ff; text-decoration-color: #0087ff\">LSTM</span>)                       │ (<span style=\"color: #00d7ff; text-decoration-color: #00d7ff\">None</span>, <span style=\"color: #00af00; text-decoration-color: #00af00\">16</span>)                  │           <span style=\"color: #00af00; text-decoration-color: #00af00\">1,152</span> │\n",
       "├──────────────────────────────────────┼─────────────────────────────┼─────────────────┤\n",
       "│ dense_13 (<span style=\"color: #0087ff; text-decoration-color: #0087ff\">Dense</span>)                     │ (<span style=\"color: #00d7ff; text-decoration-color: #00d7ff\">None</span>, <span style=\"color: #00af00; text-decoration-color: #00af00\">1</span>)                   │              <span style=\"color: #00af00; text-decoration-color: #00af00\">17</span> │\n",
       "└──────────────────────────────────────┴─────────────────────────────┴─────────────────┘\n",
       "</pre>\n"
      ],
      "text/plain": [
       "┏━━━━━━━━━━━━━━━━━━━━━━━━━━━━━━━━━━━━━━┳━━━━━━━━━━━━━━━━━━━━━━━━━━━━━┳━━━━━━━━━━━━━━━━━┓\n",
       "┃\u001b[1m \u001b[0m\u001b[1mLayer (type)                        \u001b[0m\u001b[1m \u001b[0m┃\u001b[1m \u001b[0m\u001b[1mOutput Shape               \u001b[0m\u001b[1m \u001b[0m┃\u001b[1m \u001b[0m\u001b[1m        Param #\u001b[0m\u001b[1m \u001b[0m┃\n",
       "┡━━━━━━━━━━━━━━━━━━━━━━━━━━━━━━━━━━━━━━╇━━━━━━━━━━━━━━━━━━━━━━━━━━━━━╇━━━━━━━━━━━━━━━━━┩\n",
       "│ lstm_13 (\u001b[38;5;33mLSTM\u001b[0m)                       │ (\u001b[38;5;45mNone\u001b[0m, \u001b[38;5;34m16\u001b[0m)                  │           \u001b[38;5;34m1,152\u001b[0m │\n",
       "├──────────────────────────────────────┼─────────────────────────────┼─────────────────┤\n",
       "│ dense_13 (\u001b[38;5;33mDense\u001b[0m)                     │ (\u001b[38;5;45mNone\u001b[0m, \u001b[38;5;34m1\u001b[0m)                   │              \u001b[38;5;34m17\u001b[0m │\n",
       "└──────────────────────────────────────┴─────────────────────────────┴─────────────────┘\n"
      ]
     },
     "metadata": {},
     "output_type": "display_data"
    },
    {
     "data": {
      "text/html": [
       "<pre style=\"white-space:pre;overflow-x:auto;line-height:normal;font-family:Menlo,'DejaVu Sans Mono',consolas,'Courier New',monospace\"><span style=\"font-weight: bold\"> Total params: </span><span style=\"color: #00af00; text-decoration-color: #00af00\">1,169</span> (4.57 KB)\n",
       "</pre>\n"
      ],
      "text/plain": [
       "\u001b[1m Total params: \u001b[0m\u001b[38;5;34m1,169\u001b[0m (4.57 KB)\n"
      ]
     },
     "metadata": {},
     "output_type": "display_data"
    },
    {
     "data": {
      "text/html": [
       "<pre style=\"white-space:pre;overflow-x:auto;line-height:normal;font-family:Menlo,'DejaVu Sans Mono',consolas,'Courier New',monospace\"><span style=\"font-weight: bold\"> Trainable params: </span><span style=\"color: #00af00; text-decoration-color: #00af00\">1,169</span> (4.57 KB)\n",
       "</pre>\n"
      ],
      "text/plain": [
       "\u001b[1m Trainable params: \u001b[0m\u001b[38;5;34m1,169\u001b[0m (4.57 KB)\n"
      ]
     },
     "metadata": {},
     "output_type": "display_data"
    },
    {
     "data": {
      "text/html": [
       "<pre style=\"white-space:pre;overflow-x:auto;line-height:normal;font-family:Menlo,'DejaVu Sans Mono',consolas,'Courier New',monospace\"><span style=\"font-weight: bold\"> Non-trainable params: </span><span style=\"color: #00af00; text-decoration-color: #00af00\">0</span> (0.00 B)\n",
       "</pre>\n"
      ],
      "text/plain": [
       "\u001b[1m Non-trainable params: \u001b[0m\u001b[38;5;34m0\u001b[0m (0.00 B)\n"
      ]
     },
     "metadata": {},
     "output_type": "display_data"
    }
   ],
   "source": [
    "model=keras.Sequential()\n",
    "model.add(keras.layers.Input(shape=(X_train.shape[1], 1)))                     # LSTM 입력 크기\n",
    "model.add(keras.layers.LSTM(16, activation='tanh', return_sequences=False))    # 시퀀스 중 마지막 상태만 출력 (회귀)\n",
    "model.add(keras.layers.Dense(1))                                               # 출력층\n",
    "model.summary()"
   ]
  },
  {
   "cell_type": "code",
   "execution_count": 485,
   "id": "8edcb835-17a0-4a63-898d-ce78aab7e6fd",
   "metadata": {},
   "outputs": [],
   "source": [
    "def on_epoch_end_fun(epoch, logs):  \n",
    "    if(epoch + 1) % 10 == 0:\n",
    "       print(f\"Epoch {epoch+1}: loss={logs['loss']:.4f}, mse={logs['mse']:.4f}\")\n",
    "        \n",
    "# 각 에포크가 끝날 때 on_epoch_end 함수\n",
    "print_callback=LambdaCallback(on_epoch_end=on_epoch_end_fun)\n",
    "\n",
    "# 학습 중단\n",
    "early_stopping_callback=EarlyStopping(monitor='loss',       \n",
    "                                      patience=50,                # 20 epoch 동안 개선이 없으면 학습 중단\n",
    "                                      verbose=1,                   # early stopping 메시지 출력  \n",
    "                                      restore_best_weights=True)   # 가장 좋은 가중치 복원    "
   ]
  },
  {
   "cell_type": "code",
   "execution_count": 487,
   "id": "450193e4-f1ae-498e-98c7-056fdf15c73a",
   "metadata": {},
   "outputs": [
    {
     "name": "stdout",
     "output_type": "stream",
     "text": [
      "Epoch 10: loss=0.0128, mse=0.0128\n",
      "Epoch 20: loss=0.0120, mse=0.0120\n",
      "Epoch 30: loss=0.0109, mse=0.0109\n",
      "Epoch 40: loss=0.0093, mse=0.0093\n",
      "Epoch 50: loss=0.0083, mse=0.0083\n",
      "Epoch 60: loss=0.0081, mse=0.0081\n",
      "Epoch 70: loss=0.0080, mse=0.0080\n",
      "Epoch 80: loss=0.0080, mse=0.0080\n",
      "Epoch 90: loss=0.0080, mse=0.0080\n",
      "Epoch 100: loss=0.0079, mse=0.0079\n",
      "Epoch 110: loss=0.0079, mse=0.0079\n",
      "Epoch 120: loss=0.0079, mse=0.0079\n",
      "Epoch 124: early stopping\n",
      "Restoring model weights from the end of the best epoch: 74.\n"
     ]
    },
    {
     "data": {
      "text/plain": [
       "<keras.src.callbacks.history.History at 0x2ac88a72180>"
      ]
     },
     "execution_count": 487,
     "metadata": {},
     "output_type": "execute_result"
    }
   ],
   "source": [
    "model.compile(optimizer='adam', loss='mean_squared_error', metrics=['mse'])\n",
    "model.fit(X_train, Y_train, epochs=200, batch_size=16, verbose=0, callbacks=[print_callback, early_stopping_callback])\n",
    "# model.fit(X, Y,  epochs=100, batch_size=16)"
   ]
  },
  {
   "cell_type": "markdown",
   "id": "27364767-1ba2-4cfa-8cf5-30befc20331b",
   "metadata": {},
   "source": [
    "## 평가"
   ]
  },
  {
   "cell_type": "code",
   "execution_count": 489,
   "id": "7b3aa27a-192a-406a-86d5-743ca4ac7dcc",
   "metadata": {},
   "outputs": [
    {
     "name": "stdout",
     "output_type": "stream",
     "text": [
      "\u001b[1m4/4\u001b[0m \u001b[32m━━━━━━━━━━━━━━━━━━━━\u001b[0m\u001b[37m\u001b[0m \u001b[1m1s\u001b[0m 96ms/step\n"
     ]
    }
   ],
   "source": [
    "X_test, Y_test=make_sample(test_data, 7)\n",
    "pred=model.predict(X_test)"
   ]
  },
  {
   "cell_type": "code",
   "execution_count": 490,
   "id": "2b85fa0e-14d0-41fe-96ce-2172caa52ca9",
   "metadata": {},
   "outputs": [
    {
     "data": {
      "image/png": "[encoded data removed]",
      "text/plain": [
       "<Figure size 1000x500 with 1 Axes>"
      ]
     },
     "metadata": {},
     "output_type": "display_data"
    }
   ],
   "source": [
    "plt.figure(figsize=(10, 5))\n",
    "plt.plot(Y_test, label='stock price')\n",
    "plt.plot(pred, label='predicted')\n",
    "plt.legend()\n",
    "plt.show()"
   ]
  },
  {
   "cell_type": "code",
   "execution_count": 496,
   "id": "9497976a-fc96-4ef5-88e2-7d0d68a70c20",
   "metadata": {},
   "outputs": [
    {
     "data": {
      "text/plain": [
       "0.08031654540437916"
      ]
     },
     "execution_count": 496,
     "metadata": {},
     "output_type": "execute_result"
    }
   ],
   "source": [
    "r2=r2_score(Y_test, pred)\n",
    "r2"
   ]
  },
  {
   "cell_type": "code",
   "execution_count": 498,
   "id": "95b053c6-696b-43ce-9bfd-842a413bc889",
   "metadata": {},
   "outputs": [
    {
     "name": "stdout",
     "output_type": "stream",
     "text": [
      "\u001b[1m1/1\u001b[0m \u001b[32m━━━━━━━━━━━━━━━━━━━━\u001b[0m\u001b[37m\u001b[0m \u001b[1m0s\u001b[0m 64ms/step\n",
      "[[0.06061624]]\n",
      "[[3635716.8]]\n",
      "예측된 다음날 가격: 3635716.75\n"
     ]
    }
   ],
   "source": [
    "# 최근 30일 데이터를 사용해 다음날 가격 예측\n",
    "last_sequence=X_test[-1:]     # 마지막 1개의 샘플, 이미 (1, 30, 1) 형태\n",
    "last_sequence\n",
    "\n",
    "# 예측 수행\n",
    "predicted_price=model.predict(last_sequence)\n",
    "print(predicted_price)\n",
    "\n",
    "# 원래 가격대로 변환 (역정규화)\n",
    "predicted_price=min_max_scaler.inverse_transform(predicted_price)\n",
    "print(predicted_price)\n",
    "\n",
    "print(f\"예측된 다음날 가격: {predicted_price[0][0]:.2f}\")"
   ]
  },
  {
   "cell_type": "code",
   "execution_count": 500,
   "id": "38aee78d-ec1e-45fe-972d-bb99e4714230",
   "metadata": {},
   "outputs": [
    {
     "data": {
      "text/html": [
       "<div>\n",
       "<style scoped>\n",
       "    .dataframe tbody tr th:only-of-type {\n",
       "        vertical-align: middle;\n",
       "    }\n",
       "\n",
       "    .dataframe tbody tr th {\n",
       "        vertical-align: top;\n",
       "    }\n",
       "\n",
       "    .dataframe thead th {\n",
       "        text-align: right;\n",
       "    }\n",
       "</style>\n",
       "<table border=\"1\" class=\"dataframe\">\n",
       "  <thead>\n",
       "    <tr style=\"text-align: right;\">\n",
       "      <th></th>\n",
       "      <th>구매금액</th>\n",
       "    </tr>\n",
       "    <tr>\n",
       "      <th>구매일</th>\n",
       "      <th></th>\n",
       "    </tr>\n",
       "  </thead>\n",
       "  <tbody>\n",
       "    <tr>\n",
       "      <th>2020-08-07</th>\n",
       "      <td>1022300</td>\n",
       "    </tr>\n",
       "  </tbody>\n",
       "</table>\n",
       "</div>"
      ],
      "text/plain": [
       "               구매금액\n",
       "구매일                \n",
       "2020-08-07  1022300"
      ]
     },
     "execution_count": 500,
     "metadata": {},
     "output_type": "execute_result"
    }
   ],
   "source": [
    "mart.tail(1)"
   ]
  },
  {
   "cell_type": "markdown",
   "id": "87692f4f-1914-40e7-a0ea-a3d5066260d9",
   "metadata": {},
   "source": [
    "# 채소값 예측\n",
    "- 농수산물, 기상청 데이터 수집"
   ]
  },
  {
   "cell_type": "markdown",
   "id": "9aa7ad79-458d-4715-8875-b77e4ccaa2ac",
   "metadata": {},
   "source": [
    "## 데이터 전처리\n",
    "### 기상청 데이터"
   ]
  },
  {
   "cell_type": "code",
   "execution_count": 504,
   "id": "0d2099d8-72a7-4483-b104-66934ab4b4c4",
   "metadata": {},
   "outputs": [
    {
     "data": {
      "text/plain": [
       "(1338, 5)"
      ]
     },
     "execution_count": 504,
     "metadata": {},
     "output_type": "execute_result"
    }
   ],
   "source": [
    "weather=pd.read_csv('./Data/weather.csv', encoding='cp949')\n",
    "weather.shape"
   ]
  },
  {
   "cell_type": "code",
   "execution_count": 506,
   "id": "ffcfc9df-43ba-4d5c-966f-358b27324ea2",
   "metadata": {},
   "outputs": [
    {
     "data": {
      "text/html": [
       "<div>\n",
       "<style scoped>\n",
       "    .dataframe tbody tr th:only-of-type {\n",
       "        vertical-align: middle;\n",
       "    }\n",
       "\n",
       "    .dataframe tbody tr th {\n",
       "        vertical-align: top;\n",
       "    }\n",
       "\n",
       "    .dataframe thead th {\n",
       "        text-align: right;\n",
       "    }\n",
       "</style>\n",
       "<table border=\"1\" class=\"dataframe\">\n",
       "  <thead>\n",
       "    <tr style=\"text-align: right;\">\n",
       "      <th></th>\n",
       "      <th>날짜</th>\n",
       "      <th>지점</th>\n",
       "      <th>평균기온(℃)</th>\n",
       "      <th>최저기온(℃)</th>\n",
       "      <th>최고기온(℃)</th>\n",
       "    </tr>\n",
       "  </thead>\n",
       "  <tbody>\n",
       "    <tr>\n",
       "      <th>0</th>\n",
       "      <td>2019-10-11</td>\n",
       "      <td>전국</td>\n",
       "      <td>17.7</td>\n",
       "      <td>11.4</td>\n",
       "      <td>24.7</td>\n",
       "    </tr>\n",
       "    <tr>\n",
       "      <th>1</th>\n",
       "      <td>2019-10-12</td>\n",
       "      <td>전국</td>\n",
       "      <td>17.8</td>\n",
       "      <td>13.3</td>\n",
       "      <td>23.1</td>\n",
       "    </tr>\n",
       "    <tr>\n",
       "      <th>2</th>\n",
       "      <td>2019-10-13</td>\n",
       "      <td>전국</td>\n",
       "      <td>15.6</td>\n",
       "      <td>10.3</td>\n",
       "      <td>22.0</td>\n",
       "    </tr>\n",
       "    <tr>\n",
       "      <th>3</th>\n",
       "      <td>2019-10-14</td>\n",
       "      <td>전국</td>\n",
       "      <td>14.4</td>\n",
       "      <td>9.0</td>\n",
       "      <td>21.2</td>\n",
       "    </tr>\n",
       "    <tr>\n",
       "      <th>4</th>\n",
       "      <td>2019-10-15</td>\n",
       "      <td>전국</td>\n",
       "      <td>13.1</td>\n",
       "      <td>8.3</td>\n",
       "      <td>18.6</td>\n",
       "    </tr>\n",
       "  </tbody>\n",
       "</table>\n",
       "</div>"
      ],
      "text/plain": [
       "           날짜  지점  평균기온(℃)  최저기온(℃)  최고기온(℃)\n",
       "0  2019-10-11  전국     17.7     11.4     24.7\n",
       "1  2019-10-12  전국     17.8     13.3     23.1\n",
       "2  2019-10-13  전국     15.6     10.3     22.0\n",
       "3  2019-10-14  전국     14.4      9.0     21.2\n",
       "4  2019-10-15  전국     13.1      8.3     18.6"
      ]
     },
     "execution_count": 506,
     "metadata": {},
     "output_type": "execute_result"
    }
   ],
   "source": [
    "weather.head()"
   ]
  },
  {
   "cell_type": "code",
   "execution_count": 508,
   "id": "20d7eb06-24dc-4470-922e-86ddeb80b198",
   "metadata": {},
   "outputs": [
    {
     "name": "stdout",
     "output_type": "stream",
     "text": [
      "<class 'pandas.core.frame.DataFrame'>\n",
      "RangeIndex: 1338 entries, 0 to 1337\n",
      "Data columns (total 5 columns):\n",
      " #   Column   Non-Null Count  Dtype  \n",
      "---  ------   --------------  -----  \n",
      " 0   날짜       1338 non-null   object \n",
      " 1   지점       1337 non-null   object \n",
      " 2   평균기온(℃)  1337 non-null   float64\n",
      " 3   최저기온(℃)  1337 non-null   float64\n",
      " 4   최고기온(℃)  1337 non-null   float64\n",
      "dtypes: float64(3), object(2)\n",
      "memory usage: 52.4+ KB\n"
     ]
    }
   ],
   "source": [
    "weather.info()"
   ]
  },
  {
   "cell_type": "code",
   "execution_count": 510,
   "id": "913c3630-db3b-4da2-9187-b30cff0d9177",
   "metadata": {},
   "outputs": [],
   "source": [
    "weather.rename(columns={\n",
    "    '날짜': '조회일자',\n",
    "    '평균기온(℃)': '평균기온',\n",
    "    '최저기온(℃)': '최저기온',\n",
    "    '최고기온(℃)': '최고기온'\n",
    "}, inplace=True)"
   ]
  },
  {
   "cell_type": "markdown",
   "id": "389fa6e5-097a-49fe-b573-6340db349696",
   "metadata": {},
   "source": [
    "### 농수산물 데이터"
   ]
  },
  {
   "cell_type": "code",
   "execution_count": 513,
   "id": "30c4ddc8-def3-41ec-93ab-0b004d814f3e",
   "metadata": {},
   "outputs": [
    {
     "data": {
      "text/plain": [
       "(9291, 4)"
      ]
     },
     "execution_count": 513,
     "metadata": {},
     "output_type": "execute_result"
    }
   ],
   "source": [
    "price=pd.read_csv('./Data/price.csv', encoding='cp949')\n",
    "price.shape"
   ]
  },
  {
   "cell_type": "code",
   "execution_count": 515,
   "id": "1dfe6dba-185a-4bc9-b9fe-12f38549459c",
   "metadata": {},
   "outputs": [
    {
     "data": {
      "text/html": [
       "<div>\n",
       "<style scoped>\n",
       "    .dataframe tbody tr th:only-of-type {\n",
       "        vertical-align: middle;\n",
       "    }\n",
       "\n",
       "    .dataframe tbody tr th {\n",
       "        vertical-align: top;\n",
       "    }\n",
       "\n",
       "    .dataframe thead th {\n",
       "        text-align: right;\n",
       "    }\n",
       "</style>\n",
       "<table border=\"1\" class=\"dataframe\">\n",
       "  <thead>\n",
       "    <tr style=\"text-align: right;\">\n",
       "      <th></th>\n",
       "      <th>조회일자</th>\n",
       "      <th>품목코드</th>\n",
       "      <th>품목명</th>\n",
       "      <th>소매일일가격</th>\n",
       "    </tr>\n",
       "  </thead>\n",
       "  <tbody>\n",
       "    <tr>\n",
       "      <th>0</th>\n",
       "      <td>2019-10-10</td>\n",
       "      <td>1201</td>\n",
       "      <td>양파</td>\n",
       "      <td>1308</td>\n",
       "    </tr>\n",
       "    <tr>\n",
       "      <th>1</th>\n",
       "      <td>2019-10-10</td>\n",
       "      <td>1202</td>\n",
       "      <td>대파</td>\n",
       "      <td>4164</td>\n",
       "    </tr>\n",
       "    <tr>\n",
       "      <th>2</th>\n",
       "      <td>2019-10-11</td>\n",
       "      <td>1001</td>\n",
       "      <td>배추</td>\n",
       "      <td>6968</td>\n",
       "    </tr>\n",
       "    <tr>\n",
       "      <th>3</th>\n",
       "      <td>2019-10-11</td>\n",
       "      <td>1101</td>\n",
       "      <td>무</td>\n",
       "      <td>2776</td>\n",
       "    </tr>\n",
       "    <tr>\n",
       "      <th>4</th>\n",
       "      <td>2019-10-11</td>\n",
       "      <td>1207</td>\n",
       "      <td>건고추</td>\n",
       "      <td>12756</td>\n",
       "    </tr>\n",
       "  </tbody>\n",
       "</table>\n",
       "</div>"
      ],
      "text/plain": [
       "         조회일자  품목코드  품목명 소매일일가격\n",
       "0  2019-10-10  1201   양파   1308\n",
       "1  2019-10-10  1202   대파   4164\n",
       "2  2019-10-11  1001   배추   6968\n",
       "3  2019-10-11  1101    무   2776\n",
       "4  2019-10-11  1207  건고추  12756"
      ]
     },
     "execution_count": 515,
     "metadata": {},
     "output_type": "execute_result"
    }
   ],
   "source": [
    "price.head()"
   ]
  },
  {
   "cell_type": "code",
   "execution_count": 517,
   "id": "e45a673a-4863-46c3-b871-235318f835c2",
   "metadata": {},
   "outputs": [
    {
     "name": "stdout",
     "output_type": "stream",
     "text": [
      "<class 'pandas.core.frame.DataFrame'>\n",
      "RangeIndex: 9291 entries, 0 to 9290\n",
      "Data columns (total 4 columns):\n",
      " #   Column  Non-Null Count  Dtype \n",
      "---  ------  --------------  ----- \n",
      " 0   조회일자    9291 non-null   object\n",
      " 1   품목코드    9291 non-null   int64 \n",
      " 2   품목명     9291 non-null   object\n",
      " 3   소매일일가격  9291 non-null   object\n",
      "dtypes: int64(1), object(3)\n",
      "memory usage: 290.5+ KB\n"
     ]
    }
   ],
   "source": [
    "price.info()"
   ]
  },
  {
   "cell_type": "markdown",
   "id": "4c6fb7e4-4b4c-40de-bc46-0d05c04bcc22",
   "metadata": {},
   "source": [
    "### 기상청 + 농수산물 병합"
   ]
  },
  {
   "cell_type": "code",
   "execution_count": 520,
   "id": "8e34ec2d-2b1e-4691-965d-4d4bf6589216",
   "metadata": {},
   "outputs": [],
   "source": [
    "join=pd.merge(weather, price, on='조회일자', how='left')"
   ]
  },
  {
   "cell_type": "code",
   "execution_count": 522,
   "id": "bd440bb6-a1f7-46cb-a9d7-1b6439c7bfaa",
   "metadata": {},
   "outputs": [
    {
     "data": {
      "text/plain": [
       "(9300, 8)"
      ]
     },
     "execution_count": 522,
     "metadata": {},
     "output_type": "execute_result"
    }
   ],
   "source": [
    "vegetable=join.copy()\n",
    "vegetable.shape"
   ]
  },
  {
   "cell_type": "code",
   "execution_count": 524,
   "id": "fe42125d-b4f4-4e62-97c4-842ed69a0656",
   "metadata": {},
   "outputs": [
    {
     "name": "stdout",
     "output_type": "stream",
     "text": [
      "<class 'pandas.core.frame.DataFrame'>\n",
      "RangeIndex: 9300 entries, 0 to 9299\n",
      "Data columns (total 8 columns):\n",
      " #   Column  Non-Null Count  Dtype  \n",
      "---  ------  --------------  -----  \n",
      " 0   조회일자    9300 non-null   object \n",
      " 1   지점      9299 non-null   object \n",
      " 2   평균기온    9299 non-null   float64\n",
      " 3   최저기온    9299 non-null   float64\n",
      " 4   최고기온    9299 non-null   float64\n",
      " 5   품목코드    9289 non-null   float64\n",
      " 6   품목명     9289 non-null   object \n",
      " 7   소매일일가격  9289 non-null   object \n",
      "dtypes: float64(4), object(4)\n",
      "memory usage: 581.4+ KB\n"
     ]
    }
   ],
   "source": [
    "vegetable.info()"
   ]
  },
  {
   "cell_type": "code",
   "execution_count": 526,
   "id": "cf4b78fc-f15e-48fc-88c1-ffe93fda2ff4",
   "metadata": {},
   "outputs": [],
   "source": [
    "vegetable['조회일자']=pd.to_datetime(vegetable['조회일자'])\n",
    "vegetable['소매일일가격']=pd.to_numeric(vegetable['소매일일가격'], errors='coerce')"
   ]
  },
  {
   "cell_type": "markdown",
   "id": "b68d978b-415d-4728-8504-fe9da20e0f3a",
   "metadata": {},
   "source": [
    "- coerce 변환할 수 없는 값이 있을 경우, 그 값을 **NaN**으로 처리"
   ]
  },
  {
   "cell_type": "code",
   "execution_count": 529,
   "id": "ab5f1133-43ff-4c97-bf48-cb830db95dab",
   "metadata": {},
   "outputs": [],
   "source": [
    "vegetable.dropna(inplace=True)"
   ]
  },
  {
   "cell_type": "code",
   "execution_count": 531,
   "id": "c8cafc42-3af9-4d8a-ab1e-df37cca584b9",
   "metadata": {},
   "outputs": [
    {
     "name": "stdout",
     "output_type": "stream",
     "text": [
      "<class 'pandas.core.frame.DataFrame'>\n",
      "Index: 9288 entries, 0 to 9298\n",
      "Data columns (total 8 columns):\n",
      " #   Column  Non-Null Count  Dtype         \n",
      "---  ------  --------------  -----         \n",
      " 0   조회일자    9288 non-null   datetime64[ns]\n",
      " 1   지점      9288 non-null   object        \n",
      " 2   평균기온    9288 non-null   float64       \n",
      " 3   최저기온    9288 non-null   float64       \n",
      " 4   최고기온    9288 non-null   float64       \n",
      " 5   품목코드    9288 non-null   float64       \n",
      " 6   품목명     9288 non-null   object        \n",
      " 7   소매일일가격  9288 non-null   float64       \n",
      "dtypes: datetime64[ns](1), float64(5), object(2)\n",
      "memory usage: 653.1+ KB\n"
     ]
    }
   ],
   "source": [
    "vegetable.info()"
   ]
  },
  {
   "cell_type": "code",
   "execution_count": 533,
   "id": "e1f4ad70-199d-481b-aab6-8d49eea0785b",
   "metadata": {},
   "outputs": [
    {
     "data": {
      "text/html": [
       "<div>\n",
       "<style scoped>\n",
       "    .dataframe tbody tr th:only-of-type {\n",
       "        vertical-align: middle;\n",
       "    }\n",
       "\n",
       "    .dataframe tbody tr th {\n",
       "        vertical-align: top;\n",
       "    }\n",
       "\n",
       "    .dataframe thead th {\n",
       "        text-align: right;\n",
       "    }\n",
       "</style>\n",
       "<table border=\"1\" class=\"dataframe\">\n",
       "  <thead>\n",
       "    <tr style=\"text-align: right;\">\n",
       "      <th></th>\n",
       "      <th>지점</th>\n",
       "      <th>평균기온</th>\n",
       "      <th>최저기온</th>\n",
       "      <th>최고기온</th>\n",
       "      <th>품목코드</th>\n",
       "      <th>품목명</th>\n",
       "      <th>소매일일가격</th>\n",
       "    </tr>\n",
       "    <tr>\n",
       "      <th>조회일자</th>\n",
       "      <th></th>\n",
       "      <th></th>\n",
       "      <th></th>\n",
       "      <th></th>\n",
       "      <th></th>\n",
       "      <th></th>\n",
       "      <th></th>\n",
       "    </tr>\n",
       "  </thead>\n",
       "  <tbody>\n",
       "    <tr>\n",
       "      <th>2019-10-11</th>\n",
       "      <td>전국</td>\n",
       "      <td>17.7</td>\n",
       "      <td>11.4</td>\n",
       "      <td>24.7</td>\n",
       "      <td>1001.0</td>\n",
       "      <td>배추</td>\n",
       "      <td>6968.0</td>\n",
       "    </tr>\n",
       "    <tr>\n",
       "      <th>2019-10-11</th>\n",
       "      <td>전국</td>\n",
       "      <td>17.7</td>\n",
       "      <td>11.4</td>\n",
       "      <td>24.7</td>\n",
       "      <td>1101.0</td>\n",
       "      <td>무</td>\n",
       "      <td>2776.0</td>\n",
       "    </tr>\n",
       "    <tr>\n",
       "      <th>2019-10-11</th>\n",
       "      <td>전국</td>\n",
       "      <td>17.7</td>\n",
       "      <td>11.4</td>\n",
       "      <td>24.7</td>\n",
       "      <td>1207.0</td>\n",
       "      <td>건고추</td>\n",
       "      <td>12756.0</td>\n",
       "    </tr>\n",
       "    <tr>\n",
       "      <th>2019-10-11</th>\n",
       "      <td>전국</td>\n",
       "      <td>17.7</td>\n",
       "      <td>11.4</td>\n",
       "      <td>24.7</td>\n",
       "      <td>1209.0</td>\n",
       "      <td>마늘</td>\n",
       "      <td>7044.0</td>\n",
       "    </tr>\n",
       "    <tr>\n",
       "      <th>2019-10-11</th>\n",
       "      <td>전국</td>\n",
       "      <td>17.7</td>\n",
       "      <td>11.4</td>\n",
       "      <td>24.7</td>\n",
       "      <td>1209.0</td>\n",
       "      <td>마늘</td>\n",
       "      <td>0.0</td>\n",
       "    </tr>\n",
       "  </tbody>\n",
       "</table>\n",
       "</div>"
      ],
      "text/plain": [
       "            지점  평균기온  최저기온  최고기온    품목코드  품목명   소매일일가격\n",
       "조회일자                                                  \n",
       "2019-10-11  전국  17.7  11.4  24.7  1001.0   배추   6968.0\n",
       "2019-10-11  전국  17.7  11.4  24.7  1101.0    무   2776.0\n",
       "2019-10-11  전국  17.7  11.4  24.7  1207.0  건고추  12756.0\n",
       "2019-10-11  전국  17.7  11.4  24.7  1209.0   마늘   7044.0\n",
       "2019-10-11  전국  17.7  11.4  24.7  1209.0   마늘      0.0"
      ]
     },
     "execution_count": 533,
     "metadata": {},
     "output_type": "execute_result"
    }
   ],
   "source": [
    "vegetable.set_index('조회일자', inplace=True)\n",
    "vegetable.head()"
   ]
  },
  {
   "cell_type": "code",
   "execution_count": 535,
   "id": "484a1199-346a-462d-bb3e-4064a7d6a0d8",
   "metadata": {},
   "outputs": [
    {
     "data": {
      "text/plain": [
       "품목명\n",
       "마늘     2653\n",
       "배추     1327\n",
       "무      1327\n",
       "건고추    1327\n",
       "양파     1327\n",
       "대파     1327\n",
       "Name: count, dtype: int64"
      ]
     },
     "execution_count": 535,
     "metadata": {},
     "output_type": "execute_result"
    }
   ],
   "source": [
    "vegetable.describe(include='object')\n",
    "vegetable['품목명'].value_counts()"
   ]
  },
  {
   "cell_type": "code",
   "execution_count": 537,
   "id": "b491bada-9e02-4103-81be-9c9c0451e2d6",
   "metadata": {},
   "outputs": [
    {
     "data": {
      "text/plain": [
       "<Axes: xlabel='조회일자', ylabel='소매일일가격'>"
      ]
     },
     "execution_count": 537,
     "metadata": {},
     "output_type": "execute_result"
    },
    {
     "data": {
      "image/png": "[encoded data removed]",
      "text/plain": [
       "<Figure size 1000x500 with 1 Axes>"
      ]
     },
     "metadata": {},
     "output_type": "display_data"
    }
   ],
   "source": [
    "plt.figure(figsize=(10, 5))\n",
    "sns.lineplot(data=vegetable, x='조회일자', y='소매일일가격', errorbar=None)"
   ]
  },
  {
   "cell_type": "markdown",
   "id": "788c8c2e-34cc-41e8-9d7a-4948351dd301",
   "metadata": {},
   "source": [
    "### 품목 선택 - 배추"
   ]
  },
  {
   "cell_type": "code",
   "execution_count": 539,
   "id": "75bcea5a-400c-483c-bb9d-11704471b864",
   "metadata": {},
   "outputs": [],
   "source": [
    "def get_product_data(product_name):\n",
    "    cond=vegetable['품목명'] == product_name\n",
    "    product_data=vegetable.loc[cond]\n",
    "    return product_data"
   ]
  },
  {
   "cell_type": "code",
   "execution_count": 541,
   "id": "e2351299-d72c-4745-95db-d41f2a71f770",
   "metadata": {},
   "outputs": [],
   "source": [
    "# kind=input(\"채소입력:\")"
   ]
  },
  {
   "cell_type": "code",
   "execution_count": 543,
   "id": "f235a572-fd8d-412f-b7b4-a7cc6c813c94",
   "metadata": {},
   "outputs": [
    {
     "data": {
      "text/plain": [
       "(1327, 7)"
      ]
     },
     "execution_count": 543,
     "metadata": {},
     "output_type": "execute_result"
    }
   ],
   "source": [
    "cabbage=get_product_data('배추')\n",
    "cabbage.shape"
   ]
  },
  {
   "cell_type": "code",
   "execution_count": 545,
   "id": "6e9e7d44-cdb3-409d-a7a6-106ce53dd4f9",
   "metadata": {},
   "outputs": [
    {
     "data": {
      "text/html": [
       "<div>\n",
       "<style scoped>\n",
       "    .dataframe tbody tr th:only-of-type {\n",
       "        vertical-align: middle;\n",
       "    }\n",
       "\n",
       "    .dataframe tbody tr th {\n",
       "        vertical-align: top;\n",
       "    }\n",
       "\n",
       "    .dataframe thead th {\n",
       "        text-align: right;\n",
       "    }\n",
       "</style>\n",
       "<table border=\"1\" class=\"dataframe\">\n",
       "  <thead>\n",
       "    <tr style=\"text-align: right;\">\n",
       "      <th></th>\n",
       "      <th>지점</th>\n",
       "      <th>평균기온</th>\n",
       "      <th>최저기온</th>\n",
       "      <th>최고기온</th>\n",
       "      <th>품목코드</th>\n",
       "      <th>품목명</th>\n",
       "      <th>소매일일가격</th>\n",
       "    </tr>\n",
       "    <tr>\n",
       "      <th>조회일자</th>\n",
       "      <th></th>\n",
       "      <th></th>\n",
       "      <th></th>\n",
       "      <th></th>\n",
       "      <th></th>\n",
       "      <th></th>\n",
       "      <th></th>\n",
       "    </tr>\n",
       "  </thead>\n",
       "  <tbody>\n",
       "    <tr>\n",
       "      <th>2019-10-11</th>\n",
       "      <td>전국</td>\n",
       "      <td>17.7</td>\n",
       "      <td>11.4</td>\n",
       "      <td>24.7</td>\n",
       "      <td>1001.0</td>\n",
       "      <td>배추</td>\n",
       "      <td>6968.0</td>\n",
       "    </tr>\n",
       "    <tr>\n",
       "      <th>2019-10-12</th>\n",
       "      <td>전국</td>\n",
       "      <td>17.8</td>\n",
       "      <td>13.3</td>\n",
       "      <td>23.1</td>\n",
       "      <td>1001.0</td>\n",
       "      <td>배추</td>\n",
       "      <td>6968.0</td>\n",
       "    </tr>\n",
       "    <tr>\n",
       "      <th>2019-10-13</th>\n",
       "      <td>전국</td>\n",
       "      <td>15.6</td>\n",
       "      <td>10.3</td>\n",
       "      <td>22.0</td>\n",
       "      <td>1001.0</td>\n",
       "      <td>배추</td>\n",
       "      <td>6968.0</td>\n",
       "    </tr>\n",
       "    <tr>\n",
       "      <th>2019-10-14</th>\n",
       "      <td>전국</td>\n",
       "      <td>14.4</td>\n",
       "      <td>9.0</td>\n",
       "      <td>21.2</td>\n",
       "      <td>1001.0</td>\n",
       "      <td>배추</td>\n",
       "      <td>6826.0</td>\n",
       "    </tr>\n",
       "    <tr>\n",
       "      <th>2019-10-15</th>\n",
       "      <td>전국</td>\n",
       "      <td>13.1</td>\n",
       "      <td>8.3</td>\n",
       "      <td>18.6</td>\n",
       "      <td>1001.0</td>\n",
       "      <td>배추</td>\n",
       "      <td>6786.0</td>\n",
       "    </tr>\n",
       "  </tbody>\n",
       "</table>\n",
       "</div>"
      ],
      "text/plain": [
       "            지점  평균기온  최저기온  최고기온    품목코드 품목명  소매일일가격\n",
       "조회일자                                                \n",
       "2019-10-11  전국  17.7  11.4  24.7  1001.0  배추  6968.0\n",
       "2019-10-12  전국  17.8  13.3  23.1  1001.0  배추  6968.0\n",
       "2019-10-13  전국  15.6  10.3  22.0  1001.0  배추  6968.0\n",
       "2019-10-14  전국  14.4   9.0  21.2  1001.0  배추  6826.0\n",
       "2019-10-15  전국  13.1   8.3  18.6  1001.0  배추  6786.0"
      ]
     },
     "execution_count": 545,
     "metadata": {},
     "output_type": "execute_result"
    }
   ],
   "source": [
    "cabbage.head()"
   ]
  },
  {
   "cell_type": "code",
   "execution_count": 547,
   "id": "a5279a35-44df-4d18-83e5-305d3460ced7",
   "metadata": {},
   "outputs": [
    {
     "data": {
      "text/plain": [
       "<Axes: xlabel='조회일자', ylabel='소매일일가격'>"
      ]
     },
     "execution_count": 547,
     "metadata": {},
     "output_type": "execute_result"
    },
    {
     "data": {
      "image/png": "[encoded data removed]",
      "text/plain": [
       "<Figure size 640x480 with 1 Axes>"
      ]
     },
     "metadata": {},
     "output_type": "display_data"
    }
   ],
   "source": [
    "sns.lineplot(data=cabbage, x='조회일자', y='소매일일가격', errorbar=None)"
   ]
  },
  {
   "cell_type": "code",
   "execution_count": 549,
   "id": "7713f432-55cc-4277-9a3e-69ed6ae72e88",
   "metadata": {},
   "outputs": [
    {
     "data": {
      "text/html": [
       "<div>\n",
       "<style scoped>\n",
       "    .dataframe tbody tr th:only-of-type {\n",
       "        vertical-align: middle;\n",
       "    }\n",
       "\n",
       "    .dataframe tbody tr th {\n",
       "        vertical-align: top;\n",
       "    }\n",
       "\n",
       "    .dataframe thead th {\n",
       "        text-align: right;\n",
       "    }\n",
       "</style>\n",
       "<table border=\"1\" class=\"dataframe\">\n",
       "  <thead>\n",
       "    <tr style=\"text-align: right;\">\n",
       "      <th></th>\n",
       "      <th>평균기온</th>\n",
       "      <th>최저기온</th>\n",
       "      <th>최고기온</th>\n",
       "      <th>소매일일가격</th>\n",
       "    </tr>\n",
       "    <tr>\n",
       "      <th>조회일자</th>\n",
       "      <th></th>\n",
       "      <th></th>\n",
       "      <th></th>\n",
       "      <th></th>\n",
       "    </tr>\n",
       "  </thead>\n",
       "  <tbody>\n",
       "    <tr>\n",
       "      <th>2019-10-11</th>\n",
       "      <td>17.7</td>\n",
       "      <td>11.4</td>\n",
       "      <td>24.7</td>\n",
       "      <td>6968.0</td>\n",
       "    </tr>\n",
       "    <tr>\n",
       "      <th>2019-10-12</th>\n",
       "      <td>17.8</td>\n",
       "      <td>13.3</td>\n",
       "      <td>23.1</td>\n",
       "      <td>6968.0</td>\n",
       "    </tr>\n",
       "    <tr>\n",
       "      <th>2019-10-13</th>\n",
       "      <td>15.6</td>\n",
       "      <td>10.3</td>\n",
       "      <td>22.0</td>\n",
       "      <td>6968.0</td>\n",
       "    </tr>\n",
       "    <tr>\n",
       "      <th>2019-10-14</th>\n",
       "      <td>14.4</td>\n",
       "      <td>9.0</td>\n",
       "      <td>21.2</td>\n",
       "      <td>6826.0</td>\n",
       "    </tr>\n",
       "    <tr>\n",
       "      <th>2019-10-15</th>\n",
       "      <td>13.1</td>\n",
       "      <td>8.3</td>\n",
       "      <td>18.6</td>\n",
       "      <td>6786.0</td>\n",
       "    </tr>\n",
       "  </tbody>\n",
       "</table>\n",
       "</div>"
      ],
      "text/plain": [
       "            평균기온  최저기온  최고기온  소매일일가격\n",
       "조회일자                                \n",
       "2019-10-11  17.7  11.4  24.7  6968.0\n",
       "2019-10-12  17.8  13.3  23.1  6968.0\n",
       "2019-10-13  15.6  10.3  22.0  6968.0\n",
       "2019-10-14  14.4   9.0  21.2  6826.0\n",
       "2019-10-15  13.1   8.3  18.6  6786.0"
      ]
     },
     "execution_count": 549,
     "metadata": {},
     "output_type": "execute_result"
    }
   ],
   "source": [
    "vege_data=cabbage[['평균기온', '최저기온', '최고기온', '소매일일가격']]\n",
    "vege_data.head()"
   ]
  },
  {
   "cell_type": "markdown",
   "id": "b30caf18-4f82-47e6-9a4e-589ecc76f7fe",
   "metadata": {},
   "source": [
    "### 정규화"
   ]
  },
  {
   "cell_type": "code",
   "execution_count": 552,
   "id": "c3647304-0afc-4ce0-b0db-4654d27d3eec",
   "metadata": {},
   "outputs": [],
   "source": [
    "# 정규화\n",
    "min_max_scaler=MinMaxScaler()\n",
    "min_max_scaled=min_max_scaler.fit_transform(vege_data)"
   ]
  },
  {
   "cell_type": "code",
   "execution_count": 554,
   "id": "13a1e507-e528-469e-9f92-469039abce08",
   "metadata": {},
   "outputs": [
    {
     "name": "stdout",
     "output_type": "stream",
     "text": [
      "(1061, 4) (266, 4)\n"
     ]
    }
   ],
   "source": [
    "train_data, test_data=train_test_split(min_max_scaled, test_size=0.2, shuffle=False)\n",
    "print(train_data.shape, test_data.shape)"
   ]
  },
  {
   "cell_type": "code",
   "execution_count": 556,
   "id": "026617d7-2807-41c8-ba4e-ec4e2b59768c",
   "metadata": {},
   "outputs": [],
   "source": [
    "def make_sample(data, seq_length):\n",
    "    train=[]\n",
    "    target=[]\n",
    "\n",
    "    for i in range(len(data)-seq_length):\n",
    "        train.append(data[i:i+seq_length, :-1])\n",
    "        target.append(data[i+seq_length, -1])\n",
    "    return np.array(train), np.array(target)"
   ]
  },
  {
   "cell_type": "code",
   "execution_count": 634,
   "id": "c782222e-e944-47ef-a8ca-e9ab9c53eecc",
   "metadata": {},
   "outputs": [
    {
     "data": {
      "text/plain": [
       "((1054, 7, 3), (1054,))"
      ]
     },
     "execution_count": 634,
     "metadata": {},
     "output_type": "execute_result"
    }
   ],
   "source": [
    "seq_length=7\n",
    "\n",
    "X_train, Y_train=make_sample(train_data, seq_length)\n",
    "X_train.shape, Y_train.shape"
   ]
  },
  {
   "cell_type": "markdown",
   "id": "64c43005-1db6-4582-ba0c-53e971615748",
   "metadata": {},
   "source": [
    "### 학습"
   ]
  },
  {
   "cell_type": "code",
   "execution_count": 564,
   "id": "859ceb20-c025-42c3-abcc-2d1fc6dd1034",
   "metadata": {},
   "outputs": [
    {
     "data": {
      "text/html": [
       "<pre style=\"white-space:pre;overflow-x:auto;line-height:normal;font-family:Menlo,'DejaVu Sans Mono',consolas,'Courier New',monospace\"><span style=\"font-weight: bold\">Model: \"sequential_14\"</span>\n",
       "</pre>\n"
      ],
      "text/plain": [
       "\u001b[1mModel: \"sequential_14\"\u001b[0m\n"
      ]
     },
     "metadata": {},
     "output_type": "display_data"
    },
    {
     "data": {
      "text/html": [
       "<pre style=\"white-space:pre;overflow-x:auto;line-height:normal;font-family:Menlo,'DejaVu Sans Mono',consolas,'Courier New',monospace\">┏━━━━━━━━━━━━━━━━━━━━━━━━━━━━━━━━━━━━━━┳━━━━━━━━━━━━━━━━━━━━━━━━━━━━━┳━━━━━━━━━━━━━━━━━┓\n",
       "┃<span style=\"font-weight: bold\"> Layer (type)                         </span>┃<span style=\"font-weight: bold\"> Output Shape                </span>┃<span style=\"font-weight: bold\">         Param # </span>┃\n",
       "┡━━━━━━━━━━━━━━━━━━━━━━━━━━━━━━━━━━━━━━╇━━━━━━━━━━━━━━━━━━━━━━━━━━━━━╇━━━━━━━━━━━━━━━━━┩\n",
       "│ lstm_14 (<span style=\"color: #0087ff; text-decoration-color: #0087ff\">LSTM</span>)                       │ (<span style=\"color: #00d7ff; text-decoration-color: #00d7ff\">None</span>, <span style=\"color: #00af00; text-decoration-color: #00af00\">7</span>, <span style=\"color: #00af00; text-decoration-color: #00af00\">64</span>)               │          <span style=\"color: #00af00; text-decoration-color: #00af00\">17,408</span> │\n",
       "├──────────────────────────────────────┼─────────────────────────────┼─────────────────┤\n",
       "│ dropout_1 (<span style=\"color: #0087ff; text-decoration-color: #0087ff\">Dropout</span>)                  │ (<span style=\"color: #00d7ff; text-decoration-color: #00d7ff\">None</span>, <span style=\"color: #00af00; text-decoration-color: #00af00\">7</span>, <span style=\"color: #00af00; text-decoration-color: #00af00\">64</span>)               │               <span style=\"color: #00af00; text-decoration-color: #00af00\">0</span> │\n",
       "├──────────────────────────────────────┼─────────────────────────────┼─────────────────┤\n",
       "│ lstm_15 (<span style=\"color: #0087ff; text-decoration-color: #0087ff\">LSTM</span>)                       │ (<span style=\"color: #00d7ff; text-decoration-color: #00d7ff\">None</span>, <span style=\"color: #00af00; text-decoration-color: #00af00\">32</span>)                  │          <span style=\"color: #00af00; text-decoration-color: #00af00\">12,416</span> │\n",
       "├──────────────────────────────────────┼─────────────────────────────┼─────────────────┤\n",
       "│ dropout_2 (<span style=\"color: #0087ff; text-decoration-color: #0087ff\">Dropout</span>)                  │ (<span style=\"color: #00d7ff; text-decoration-color: #00d7ff\">None</span>, <span style=\"color: #00af00; text-decoration-color: #00af00\">32</span>)                  │               <span style=\"color: #00af00; text-decoration-color: #00af00\">0</span> │\n",
       "├──────────────────────────────────────┼─────────────────────────────┼─────────────────┤\n",
       "│ dense_14 (<span style=\"color: #0087ff; text-decoration-color: #0087ff\">Dense</span>)                     │ (<span style=\"color: #00d7ff; text-decoration-color: #00d7ff\">None</span>, <span style=\"color: #00af00; text-decoration-color: #00af00\">1</span>)                   │              <span style=\"color: #00af00; text-decoration-color: #00af00\">33</span> │\n",
       "└──────────────────────────────────────┴─────────────────────────────┴─────────────────┘\n",
       "</pre>\n"
      ],
      "text/plain": [
       "┏━━━━━━━━━━━━━━━━━━━━━━━━━━━━━━━━━━━━━━┳━━━━━━━━━━━━━━━━━━━━━━━━━━━━━┳━━━━━━━━━━━━━━━━━┓\n",
       "┃\u001b[1m \u001b[0m\u001b[1mLayer (type)                        \u001b[0m\u001b[1m \u001b[0m┃\u001b[1m \u001b[0m\u001b[1mOutput Shape               \u001b[0m\u001b[1m \u001b[0m┃\u001b[1m \u001b[0m\u001b[1m        Param #\u001b[0m\u001b[1m \u001b[0m┃\n",
       "┡━━━━━━━━━━━━━━━━━━━━━━━━━━━━━━━━━━━━━━╇━━━━━━━━━━━━━━━━━━━━━━━━━━━━━╇━━━━━━━━━━━━━━━━━┩\n",
       "│ lstm_14 (\u001b[38;5;33mLSTM\u001b[0m)                       │ (\u001b[38;5;45mNone\u001b[0m, \u001b[38;5;34m7\u001b[0m, \u001b[38;5;34m64\u001b[0m)               │          \u001b[38;5;34m17,408\u001b[0m │\n",
       "├──────────────────────────────────────┼─────────────────────────────┼─────────────────┤\n",
       "│ dropout_1 (\u001b[38;5;33mDropout\u001b[0m)                  │ (\u001b[38;5;45mNone\u001b[0m, \u001b[38;5;34m7\u001b[0m, \u001b[38;5;34m64\u001b[0m)               │               \u001b[38;5;34m0\u001b[0m │\n",
       "├──────────────────────────────────────┼─────────────────────────────┼─────────────────┤\n",
       "│ lstm_15 (\u001b[38;5;33mLSTM\u001b[0m)                       │ (\u001b[38;5;45mNone\u001b[0m, \u001b[38;5;34m32\u001b[0m)                  │          \u001b[38;5;34m12,416\u001b[0m │\n",
       "├──────────────────────────────────────┼─────────────────────────────┼─────────────────┤\n",
       "│ dropout_2 (\u001b[38;5;33mDropout\u001b[0m)                  │ (\u001b[38;5;45mNone\u001b[0m, \u001b[38;5;34m32\u001b[0m)                  │               \u001b[38;5;34m0\u001b[0m │\n",
       "├──────────────────────────────────────┼─────────────────────────────┼─────────────────┤\n",
       "│ dense_14 (\u001b[38;5;33mDense\u001b[0m)                     │ (\u001b[38;5;45mNone\u001b[0m, \u001b[38;5;34m1\u001b[0m)                   │              \u001b[38;5;34m33\u001b[0m │\n",
       "└──────────────────────────────────────┴─────────────────────────────┴─────────────────┘\n"
      ]
     },
     "metadata": {},
     "output_type": "display_data"
    },
    {
     "data": {
      "text/html": [
       "<pre style=\"white-space:pre;overflow-x:auto;line-height:normal;font-family:Menlo,'DejaVu Sans Mono',consolas,'Courier New',monospace\"><span style=\"font-weight: bold\"> Total params: </span><span style=\"color: #00af00; text-decoration-color: #00af00\">29,857</span> (116.63 KB)\n",
       "</pre>\n"
      ],
      "text/plain": [
       "\u001b[1m Total params: \u001b[0m\u001b[38;5;34m29,857\u001b[0m (116.63 KB)\n"
      ]
     },
     "metadata": {},
     "output_type": "display_data"
    },
    {
     "data": {
      "text/html": [
       "<pre style=\"white-space:pre;overflow-x:auto;line-height:normal;font-family:Menlo,'DejaVu Sans Mono',consolas,'Courier New',monospace\"><span style=\"font-weight: bold\"> Trainable params: </span><span style=\"color: #00af00; text-decoration-color: #00af00\">29,857</span> (116.63 KB)\n",
       "</pre>\n"
      ],
      "text/plain": [
       "\u001b[1m Trainable params: \u001b[0m\u001b[38;5;34m29,857\u001b[0m (116.63 KB)\n"
      ]
     },
     "metadata": {},
     "output_type": "display_data"
    },
    {
     "data": {
      "text/html": [
       "<pre style=\"white-space:pre;overflow-x:auto;line-height:normal;font-family:Menlo,'DejaVu Sans Mono',consolas,'Courier New',monospace\"><span style=\"font-weight: bold\"> Non-trainable params: </span><span style=\"color: #00af00; text-decoration-color: #00af00\">0</span> (0.00 B)\n",
       "</pre>\n"
      ],
      "text/plain": [
       "\u001b[1m Non-trainable params: \u001b[0m\u001b[38;5;34m0\u001b[0m (0.00 B)\n"
      ]
     },
     "metadata": {},
     "output_type": "display_data"
    }
   ],
   "source": [
    "model=keras.Sequential()\n",
    "model.add(keras.layers.Input(shape=(seq_length, 3)))                                    # LSTM 입력 크기\n",
    "model.add(keras.layers.LSTM(64, activation='tanh', return_sequences=True))              # 시퀀스 중 마지막 상태만 출력 (회귀)\n",
    "model.add(keras.layers.Dropout(0.2))  \n",
    "model.add(keras.layers.LSTM(32, return_sequences=False))\n",
    "model.add(keras.layers.Dropout(0.2))  \n",
    "model.add(keras.layers.Dense(1))                                                         # 출력층\n",
    "model.summary()"
   ]
  },
  {
   "cell_type": "code",
   "execution_count": 570,
   "id": "12f3f6b1-28b9-47af-9291-e7a514d6a171",
   "metadata": {},
   "outputs": [],
   "source": [
    "def on_epoch_end_fun(epoch, logs):  \n",
    "    if(epoch + 1) % 10 == 0:\n",
    "       print(f\"Epoch {epoch+1}: loss={logs['loss']:.4f}, mse={logs['mse']:.4f}\")\n",
    "        \n",
    "# 각 에포크가 끝날 때 on_epoch_end 함수\n",
    "print_callback=LambdaCallback(on_epoch_end=on_epoch_end_fun)\n",
    "\n",
    "# 학습 중단\n",
    "early_stopping_callback=EarlyStopping(monitor='loss',       \n",
    "                                      patience=50,                # 20 epoch 동안 개선이 없으면 학습 중단\n",
    "                                      verbose=1,                   # early stopping 메시지 출력\n",
    "                                      restore_best_weights=True)   # 가장 좋은 가중치 복원    "
   ]
  },
  {
   "cell_type": "code",
   "execution_count": 574,
   "id": "68141f5a-648f-4af0-a229-a1ca24c73b7e",
   "metadata": {},
   "outputs": [
    {
     "name": "stdout",
     "output_type": "stream",
     "text": [
      "Epoch 10: loss=0.0280, mse=0.0280\n",
      "Epoch 20: loss=0.0274, mse=0.0274\n",
      "Epoch 30: loss=0.0272, mse=0.0272\n",
      "Epoch 40: loss=0.0269, mse=0.0269\n",
      "Epoch 50: loss=0.0267, mse=0.0267\n",
      "Restoring model weights from the end of the best epoch: 49.\n"
     ]
    },
    {
     "data": {
      "text/plain": [
       "<keras.src.callbacks.history.History at 0x2ac89bd4740>"
      ]
     },
     "execution_count": 574,
     "metadata": {},
     "output_type": "execute_result"
    }
   ],
   "source": [
    "model.compile(optimizer='adam', loss='mean_squared_error', metrics=['mse'])\n",
    "model.fit(X_train, Y_train, epochs=50, batch_size=16, verbose=0, callbacks=[print_callback, early_stopping_callback])"
   ]
  },
  {
   "cell_type": "code",
   "execution_count": 580,
   "id": "2465d55d-7137-4bd8-a158-a9414096723c",
   "metadata": {},
   "outputs": [
    {
     "name": "stdout",
     "output_type": "stream",
     "text": [
      "\u001b[1m9/9\u001b[0m \u001b[32m━━━━━━━━━━━━━━━━━━━━\u001b[0m\u001b[37m\u001b[0m \u001b[1m1s\u001b[0m 76ms/step\n"
     ]
    }
   ],
   "source": [
    "X_test, Y_test=make_sample(test_data, seq_length)\n",
    "pred=model.predict(X_test)"
   ]
  },
  {
   "cell_type": "code",
   "execution_count": 582,
   "id": "e090c98c-f338-4b7f-92ac-27263be5f2f5",
   "metadata": {},
   "outputs": [
    {
     "data": {
      "image/png": "[encoded data removed]",
      "text/plain": [
       "<Figure size 1000x500 with 1 Axes>"
      ]
     },
     "metadata": {},
     "output_type": "display_data"
    }
   ],
   "source": [
    "plt.figure(figsize=(10, 5))\n",
    "plt.plot(Y_test, label='실제 price')\n",
    "plt.plot(pred, label='predicted')\n",
    "plt.legend()\n",
    "plt.show()"
   ]
  },
  {
   "cell_type": "code",
   "execution_count": 585,
   "id": "ebdf6515-4175-4bc5-9769-1c8ea558a8fa",
   "metadata": {},
   "outputs": [
    {
     "data": {
      "text/plain": [
       "0.2901188285111397"
      ]
     },
     "execution_count": 585,
     "metadata": {},
     "output_type": "execute_result"
    }
   ],
   "source": [
    "r2=r2_score(Y_test, pred)\n",
    "r2"
   ]
  },
  {
   "cell_type": "code",
   "execution_count": 657,
   "id": "3864eb59-be43-42ba-a63f-d77f1d4fbf69",
   "metadata": {},
   "outputs": [
    {
     "name": "stdout",
     "output_type": "stream",
     "text": [
      "[[[0.77372263 0.76179245 0.74514563]\n",
      "  [0.81995134 0.80188679 0.83495146]\n",
      "  [0.81265207 0.75235849 0.83980583]\n",
      "  [0.81995134 0.74528302 0.85194175]\n",
      "  [0.81265207 0.77358491 0.81553398]\n",
      "  [0.80048662 0.77122642 0.81796117]\n",
      "  [0.81508516 0.78066038 0.81796117]]]\n",
      "\u001b[1m1/1\u001b[0m \u001b[32m━━━━━━━━━━━━━━━━━━━━\u001b[0m\u001b[37m\u001b[0m \u001b[1m0s\u001b[0m 365ms/step\n",
      "[[0.27352452]]\n"
     ]
    },
    {
     "data": {
      "text/plain": [
       "427.35242"
      ]
     },
     "execution_count": 657,
     "metadata": {},
     "output_type": "execute_result"
    }
   ],
   "source": [
    "# 최근 7일 데이터를 사용해 다음날 가격 예측\n",
    "last_sequence=X_test[-1:]     # 마지막 1개의 샘플, 이미 (1, 30, 1) 형태\n",
    "print(last_sequence)\n",
    "\n",
    "# 예측 수행\n",
    "predicted_price=model.predict(last_sequence)\n",
    "print(predicted_price)\n",
    "\n",
    "# 원래 가격대로 변환 (역정규화)\n",
    "price=np.repeat(predicted_price, 4, axis=1)  # (1, 4) 형태로 만들기\n",
    "\n",
    "# 역정규화\n",
    "price_original=min_max_scaler.inverse_transform(price)\n",
    "price_original[0][3]"
   ]
  },
  {
   "cell_type": "code",
   "execution_count": 659,
   "id": "b5606a6f-13f9-4719-ab12-70f3e783019a",
   "metadata": {},
   "outputs": [
    {
     "data": {
      "text/html": [
       "<div>\n",
       "<style scoped>\n",
       "    .dataframe tbody tr th:only-of-type {\n",
       "        vertical-align: middle;\n",
       "    }\n",
       "\n",
       "    .dataframe tbody tr th {\n",
       "        vertical-align: top;\n",
       "    }\n",
       "\n",
       "    .dataframe thead th {\n",
       "        text-align: right;\n",
       "    }\n",
       "</style>\n",
       "<table border=\"1\" class=\"dataframe\">\n",
       "  <thead>\n",
       "    <tr style=\"text-align: right;\">\n",
       "      <th></th>\n",
       "      <th>평균기온</th>\n",
       "      <th>최저기온</th>\n",
       "      <th>최고기온</th>\n",
       "      <th>소매일일가격</th>\n",
       "    </tr>\n",
       "    <tr>\n",
       "      <th>조회일자</th>\n",
       "      <th></th>\n",
       "      <th></th>\n",
       "      <th></th>\n",
       "      <th></th>\n",
       "    </tr>\n",
       "  </thead>\n",
       "  <tbody>\n",
       "    <tr>\n",
       "      <th>2023-06-08</th>\n",
       "      <td>21.5</td>\n",
       "      <td>17.6</td>\n",
       "      <td>26.9</td>\n",
       "      <td>3742.0</td>\n",
       "    </tr>\n",
       "  </tbody>\n",
       "</table>\n",
       "</div>"
      ],
      "text/plain": [
       "            평균기온  최저기온  최고기온  소매일일가격\n",
       "조회일자                                \n",
       "2023-06-08  21.5  17.6  26.9  3742.0"
      ]
     },
     "execution_count": 659,
     "metadata": {},
     "output_type": "execute_result"
    }
   ],
   "source": [
    "vege_data.tail(1)"
   ]
  }
 ],
 "metadata": {
  "kernelspec": {
   "display_name": "Python [conda env:base] *",
   "language": "python",
   "name": "conda-base-py"
  },
  "language_info": {
   "codemirror_mode": {
    "name": "ipython",
    "version": 3
   },
   "file_extension": ".py",
   "mimetype": "text/x-python",
   "name": "python",
   "nbconvert_exporter": "python",
   "pygments_lexer": "ipython3",
   "version": "3.12.7"
  }
 },
 "nbformat": 4,
 "nbformat_minor": 5
}
