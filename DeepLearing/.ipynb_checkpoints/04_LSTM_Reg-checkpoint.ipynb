{
 "cells": [
  {
   "cell_type": "code",
   "execution_count": 2,
   "id": "19bb684d-6c0c-4695-8613-c7960895d5cc",
   "metadata": {},
   "outputs": [],
   "source": [
    "import numpy as np\n",
    "import pandas as pd\n",
    "import seaborn as sns\n",
    "\n",
    "import matplotlib.pyplot as plt\n",
    "import matplotlib.pyplot as plt             \n",
    "import matplotlib as mpl                    \n",
    "mpl.rc('font', family='Malgun Gothic')      \n",
    "plt.rcParams['axes.unicode_minus']=False  \n",
    "\n",
    "from sklearn.preprocessing import MinMaxScaler, StandardScaler\n",
    "from sklearn.model_selection import train_test_split\n",
    "from sklearn.metrics import r2_score\n",
    "\n",
    "import tensorflow as tf\n",
    "from tensorflow import keras     \n",
    "from tensorflow.keras.models import Sequential\n",
    "from tensorflow.keras.optimizers import SGD, Adam\n",
    "\n",
    "from keras.callbacks import ModelCheckpoint, EarlyStopping\n",
    "from tensorflow.keras.callbacks import LambdaCallback\n",
    "\n",
    "import FinanceDataReader as fdr\n",
    "from tensorflow.keras.layers import LSTM\n",
    "\n",
    "from sklearn.linear_model import LinearRegression\n",
    "from sklearn.ensemble import RandomForestRegressor\n",
    "from sklearn.model_selection import TimeSeriesSplit, cross_validate\n",
    "from sklearn.model_selection import GridSearchCV, RandomizedSearchCV\n",
    "\n",
    "from statsmodels.tsa.stattools import adfuller\n",
    "from statsmodels.graphics.tsaplots import plot_acf, plot_pacf\n",
    "from statsmodels.tsa.stattools import acf\n",
    "from statsmodels.tsa.statespace.sarimax import SARIMAX\n",
    "import statsmodels.tsa.api as tsa\n",
    "import itertools   \n",
    "\n",
    "from sklearn.model_selection import TimeSeriesSplit, cross_validate\n",
    "import random"
   ]
  },
  {
   "cell_type": "code",
   "execution_count": 3,
   "id": "fa8160d7-2bde-44f2-8408-1f4fa803d267",
   "metadata": {},
   "outputs": [],
   "source": [
    "np.random.seed(42)\n",
    "tf.random.set_seed(42)\n",
    "random.seed(42)"
   ]
  },
  {
   "cell_type": "markdown",
   "id": "0ea4d152-7ded-4666-a85a-007906250ef2",
   "metadata": {},
   "source": [
    "# 채소 가격 예측"
   ]
  },
  {
   "cell_type": "markdown",
   "id": "44e0a472-a019-447e-9f4c-33e5198de9f7",
   "metadata": {},
   "source": [
    "## 기상청 데이터"
   ]
  },
  {
   "cell_type": "code",
   "execution_count": 6,
   "id": "3737fde1-a1a5-43ac-a33d-7facf0fbfc78",
   "metadata": {},
   "outputs": [
    {
     "data": {
      "text/plain": [
       "(1338, 5)"
      ]
     },
     "execution_count": 6,
     "metadata": {},
     "output_type": "execute_result"
    }
   ],
   "source": [
    "weather=pd.read_csv('./Data/weather.csv', encoding='cp949')\n",
    "weather.shape"
   ]
  },
  {
   "cell_type": "code",
   "execution_count": 7,
   "id": "d2995e40-2c39-426d-8e00-29e6c614e502",
   "metadata": {},
   "outputs": [
    {
     "data": {
      "text/html": [
       "<div>\n",
       "<style scoped>\n",
       "    .dataframe tbody tr th:only-of-type {\n",
       "        vertical-align: middle;\n",
       "    }\n",
       "\n",
       "    .dataframe tbody tr th {\n",
       "        vertical-align: top;\n",
       "    }\n",
       "\n",
       "    .dataframe thead th {\n",
       "        text-align: right;\n",
       "    }\n",
       "</style>\n",
       "<table border=\"1\" class=\"dataframe\">\n",
       "  <thead>\n",
       "    <tr style=\"text-align: right;\">\n",
       "      <th></th>\n",
       "      <th>날짜</th>\n",
       "      <th>지점</th>\n",
       "      <th>평균기온(℃)</th>\n",
       "      <th>최저기온(℃)</th>\n",
       "      <th>최고기온(℃)</th>\n",
       "    </tr>\n",
       "  </thead>\n",
       "  <tbody>\n",
       "    <tr>\n",
       "      <th>0</th>\n",
       "      <td>2019-10-11</td>\n",
       "      <td>전국</td>\n",
       "      <td>17.7</td>\n",
       "      <td>11.4</td>\n",
       "      <td>24.7</td>\n",
       "    </tr>\n",
       "    <tr>\n",
       "      <th>1</th>\n",
       "      <td>2019-10-12</td>\n",
       "      <td>전국</td>\n",
       "      <td>17.8</td>\n",
       "      <td>13.3</td>\n",
       "      <td>23.1</td>\n",
       "    </tr>\n",
       "    <tr>\n",
       "      <th>2</th>\n",
       "      <td>2019-10-13</td>\n",
       "      <td>전국</td>\n",
       "      <td>15.6</td>\n",
       "      <td>10.3</td>\n",
       "      <td>22.0</td>\n",
       "    </tr>\n",
       "    <tr>\n",
       "      <th>3</th>\n",
       "      <td>2019-10-14</td>\n",
       "      <td>전국</td>\n",
       "      <td>14.4</td>\n",
       "      <td>9.0</td>\n",
       "      <td>21.2</td>\n",
       "    </tr>\n",
       "    <tr>\n",
       "      <th>4</th>\n",
       "      <td>2019-10-15</td>\n",
       "      <td>전국</td>\n",
       "      <td>13.1</td>\n",
       "      <td>8.3</td>\n",
       "      <td>18.6</td>\n",
       "    </tr>\n",
       "  </tbody>\n",
       "</table>\n",
       "</div>"
      ],
      "text/plain": [
       "           날짜  지점  평균기온(℃)  최저기온(℃)  최고기온(℃)\n",
       "0  2019-10-11  전국     17.7     11.4     24.7\n",
       "1  2019-10-12  전국     17.8     13.3     23.1\n",
       "2  2019-10-13  전국     15.6     10.3     22.0\n",
       "3  2019-10-14  전국     14.4      9.0     21.2\n",
       "4  2019-10-15  전국     13.1      8.3     18.6"
      ]
     },
     "execution_count": 7,
     "metadata": {},
     "output_type": "execute_result"
    }
   ],
   "source": [
    "weather.head()"
   ]
  },
  {
   "cell_type": "code",
   "execution_count": 8,
   "id": "261ecf1b-c7d9-4bb8-84d3-1b81961ae700",
   "metadata": {},
   "outputs": [
    {
     "name": "stdout",
     "output_type": "stream",
     "text": [
      "<class 'pandas.core.frame.DataFrame'>\n",
      "RangeIndex: 1338 entries, 0 to 1337\n",
      "Data columns (total 5 columns):\n",
      " #   Column   Non-Null Count  Dtype  \n",
      "---  ------   --------------  -----  \n",
      " 0   날짜       1338 non-null   object \n",
      " 1   지점       1337 non-null   object \n",
      " 2   평균기온(℃)  1337 non-null   float64\n",
      " 3   최저기온(℃)  1337 non-null   float64\n",
      " 4   최고기온(℃)  1337 non-null   float64\n",
      "dtypes: float64(3), object(2)\n",
      "memory usage: 52.4+ KB\n"
     ]
    }
   ],
   "source": [
    "weather.info()"
   ]
  },
  {
   "cell_type": "code",
   "execution_count": 9,
   "id": "6798d850-4a05-42db-812b-f4840ca44e57",
   "metadata": {},
   "outputs": [],
   "source": [
    "weather.rename(columns={\n",
    "    '날짜': '조회일자',\n",
    "    '평균기온(℃)': '평균기온',\n",
    "    '최저기온(℃)': '최저기온',\n",
    "    '최고기온(℃)': '최고기온'\n",
    "}, inplace=True)"
   ]
  },
  {
   "cell_type": "code",
   "execution_count": 16,
   "id": "13839d39-f2e1-4736-9045-ef354c3d1556",
   "metadata": {},
   "outputs": [
    {
     "data": {
      "text/html": [
       "<div>\n",
       "<style scoped>\n",
       "    .dataframe tbody tr th:only-of-type {\n",
       "        vertical-align: middle;\n",
       "    }\n",
       "\n",
       "    .dataframe tbody tr th {\n",
       "        vertical-align: top;\n",
       "    }\n",
       "\n",
       "    .dataframe thead th {\n",
       "        text-align: right;\n",
       "    }\n",
       "</style>\n",
       "<table border=\"1\" class=\"dataframe\">\n",
       "  <thead>\n",
       "    <tr style=\"text-align: right;\">\n",
       "      <th></th>\n",
       "      <th>조회일자</th>\n",
       "      <th>지점</th>\n",
       "      <th>평균기온</th>\n",
       "      <th>최저기온</th>\n",
       "      <th>최고기온</th>\n",
       "    </tr>\n",
       "  </thead>\n",
       "  <tbody>\n",
       "    <tr>\n",
       "      <th>0</th>\n",
       "      <td>2019-10-11</td>\n",
       "      <td>전국</td>\n",
       "      <td>17.7</td>\n",
       "      <td>11.4</td>\n",
       "      <td>24.7</td>\n",
       "    </tr>\n",
       "    <tr>\n",
       "      <th>1</th>\n",
       "      <td>2019-10-12</td>\n",
       "      <td>전국</td>\n",
       "      <td>17.8</td>\n",
       "      <td>13.3</td>\n",
       "      <td>23.1</td>\n",
       "    </tr>\n",
       "    <tr>\n",
       "      <th>2</th>\n",
       "      <td>2019-10-13</td>\n",
       "      <td>전국</td>\n",
       "      <td>15.6</td>\n",
       "      <td>10.3</td>\n",
       "      <td>22.0</td>\n",
       "    </tr>\n",
       "    <tr>\n",
       "      <th>3</th>\n",
       "      <td>2019-10-14</td>\n",
       "      <td>전국</td>\n",
       "      <td>14.4</td>\n",
       "      <td>9.0</td>\n",
       "      <td>21.2</td>\n",
       "    </tr>\n",
       "    <tr>\n",
       "      <th>4</th>\n",
       "      <td>2019-10-15</td>\n",
       "      <td>전국</td>\n",
       "      <td>13.1</td>\n",
       "      <td>8.3</td>\n",
       "      <td>18.6</td>\n",
       "    </tr>\n",
       "  </tbody>\n",
       "</table>\n",
       "</div>"
      ],
      "text/plain": [
       "         조회일자  지점  평균기온  최저기온  최고기온\n",
       "0  2019-10-11  전국  17.7  11.4  24.7\n",
       "1  2019-10-12  전국  17.8  13.3  23.1\n",
       "2  2019-10-13  전국  15.6  10.3  22.0\n",
       "3  2019-10-14  전국  14.4   9.0  21.2\n",
       "4  2019-10-15  전국  13.1   8.3  18.6"
      ]
     },
     "execution_count": 16,
     "metadata": {},
     "output_type": "execute_result"
    }
   ],
   "source": [
    "weather.head()"
   ]
  },
  {
   "cell_type": "markdown",
   "id": "d6b5d4fb-b82a-4b64-a7c9-7c8842d62462",
   "metadata": {},
   "source": [
    "## 농수산물 데이터"
   ]
  },
  {
   "cell_type": "code",
   "execution_count": 19,
   "id": "e8261241-b2c9-4762-839a-aedf828fb43c",
   "metadata": {},
   "outputs": [
    {
     "data": {
      "text/plain": [
       "(9291, 4)"
      ]
     },
     "execution_count": 19,
     "metadata": {},
     "output_type": "execute_result"
    }
   ],
   "source": [
    "price=pd.read_csv('./Data/price.csv', encoding='cp949')\n",
    "price.shape"
   ]
  },
  {
   "cell_type": "code",
   "execution_count": 21,
   "id": "6b611cbc-6aa3-47bc-9fc0-fda3f00ed937",
   "metadata": {},
   "outputs": [
    {
     "data": {
      "text/html": [
       "<div>\n",
       "<style scoped>\n",
       "    .dataframe tbody tr th:only-of-type {\n",
       "        vertical-align: middle;\n",
       "    }\n",
       "\n",
       "    .dataframe tbody tr th {\n",
       "        vertical-align: top;\n",
       "    }\n",
       "\n",
       "    .dataframe thead th {\n",
       "        text-align: right;\n",
       "    }\n",
       "</style>\n",
       "<table border=\"1\" class=\"dataframe\">\n",
       "  <thead>\n",
       "    <tr style=\"text-align: right;\">\n",
       "      <th></th>\n",
       "      <th>조회일자</th>\n",
       "      <th>품목코드</th>\n",
       "      <th>품목명</th>\n",
       "      <th>소매일일가격</th>\n",
       "    </tr>\n",
       "  </thead>\n",
       "  <tbody>\n",
       "    <tr>\n",
       "      <th>0</th>\n",
       "      <td>2019-10-10</td>\n",
       "      <td>1201</td>\n",
       "      <td>양파</td>\n",
       "      <td>1308</td>\n",
       "    </tr>\n",
       "    <tr>\n",
       "      <th>1</th>\n",
       "      <td>2019-10-10</td>\n",
       "      <td>1202</td>\n",
       "      <td>대파</td>\n",
       "      <td>4164</td>\n",
       "    </tr>\n",
       "    <tr>\n",
       "      <th>2</th>\n",
       "      <td>2019-10-11</td>\n",
       "      <td>1001</td>\n",
       "      <td>배추</td>\n",
       "      <td>6968</td>\n",
       "    </tr>\n",
       "    <tr>\n",
       "      <th>3</th>\n",
       "      <td>2019-10-11</td>\n",
       "      <td>1101</td>\n",
       "      <td>무</td>\n",
       "      <td>2776</td>\n",
       "    </tr>\n",
       "    <tr>\n",
       "      <th>4</th>\n",
       "      <td>2019-10-11</td>\n",
       "      <td>1207</td>\n",
       "      <td>건고추</td>\n",
       "      <td>12756</td>\n",
       "    </tr>\n",
       "  </tbody>\n",
       "</table>\n",
       "</div>"
      ],
      "text/plain": [
       "         조회일자  품목코드  품목명 소매일일가격\n",
       "0  2019-10-10  1201   양파   1308\n",
       "1  2019-10-10  1202   대파   4164\n",
       "2  2019-10-11  1001   배추   6968\n",
       "3  2019-10-11  1101    무   2776\n",
       "4  2019-10-11  1207  건고추  12756"
      ]
     },
     "execution_count": 21,
     "metadata": {},
     "output_type": "execute_result"
    }
   ],
   "source": [
    "price.head()"
   ]
  },
  {
   "cell_type": "code",
   "execution_count": 23,
   "id": "52bac1cf-3641-4d78-b7d2-e4cc256eed90",
   "metadata": {},
   "outputs": [
    {
     "data": {
      "text/html": [
       "<div>\n",
       "<style scoped>\n",
       "    .dataframe tbody tr th:only-of-type {\n",
       "        vertical-align: middle;\n",
       "    }\n",
       "\n",
       "    .dataframe tbody tr th {\n",
       "        vertical-align: top;\n",
       "    }\n",
       "\n",
       "    .dataframe thead th {\n",
       "        text-align: right;\n",
       "    }\n",
       "</style>\n",
       "<table border=\"1\" class=\"dataframe\">\n",
       "  <thead>\n",
       "    <tr style=\"text-align: right;\">\n",
       "      <th></th>\n",
       "      <th>조회일자</th>\n",
       "      <th>품목코드</th>\n",
       "      <th>품목명</th>\n",
       "      <th>소매일일가격</th>\n",
       "    </tr>\n",
       "  </thead>\n",
       "  <tbody>\n",
       "    <tr>\n",
       "      <th>9286</th>\n",
       "      <td>2023-06-08</td>\n",
       "      <td>1207</td>\n",
       "      <td>건고추</td>\n",
       "      <td>16085</td>\n",
       "    </tr>\n",
       "    <tr>\n",
       "      <th>9287</th>\n",
       "      <td>2023-06-08</td>\n",
       "      <td>1209</td>\n",
       "      <td>마늘</td>\n",
       "      <td>10256</td>\n",
       "    </tr>\n",
       "    <tr>\n",
       "      <th>9288</th>\n",
       "      <td>2023-06-08</td>\n",
       "      <td>1209</td>\n",
       "      <td>마늘</td>\n",
       "      <td>0</td>\n",
       "    </tr>\n",
       "    <tr>\n",
       "      <th>9289</th>\n",
       "      <td>2023-06-08</td>\n",
       "      <td>1201</td>\n",
       "      <td>양파</td>\n",
       "      <td>2290</td>\n",
       "    </tr>\n",
       "    <tr>\n",
       "      <th>9290</th>\n",
       "      <td>2023-06-08</td>\n",
       "      <td>1202</td>\n",
       "      <td>대파</td>\n",
       "      <td>5021</td>\n",
       "    </tr>\n",
       "  </tbody>\n",
       "</table>\n",
       "</div>"
      ],
      "text/plain": [
       "            조회일자  품목코드  품목명 소매일일가격\n",
       "9286  2023-06-08  1207  건고추  16085\n",
       "9287  2023-06-08  1209   마늘  10256\n",
       "9288  2023-06-08  1209   마늘      0\n",
       "9289  2023-06-08  1201   양파   2290\n",
       "9290  2023-06-08  1202   대파   5021"
      ]
     },
     "execution_count": 23,
     "metadata": {},
     "output_type": "execute_result"
    }
   ],
   "source": [
    "price.tail()"
   ]
  },
  {
   "cell_type": "code",
   "execution_count": 25,
   "id": "e45a673a-4863-46c3-b871-235318f835c2",
   "metadata": {},
   "outputs": [
    {
     "name": "stdout",
     "output_type": "stream",
     "text": [
      "<class 'pandas.core.frame.DataFrame'>\n",
      "RangeIndex: 9291 entries, 0 to 9290\n",
      "Data columns (total 4 columns):\n",
      " #   Column  Non-Null Count  Dtype \n",
      "---  ------  --------------  ----- \n",
      " 0   조회일자    9291 non-null   object\n",
      " 1   품목코드    9291 non-null   int64 \n",
      " 2   품목명     9291 non-null   object\n",
      " 3   소매일일가격  9291 non-null   object\n",
      "dtypes: int64(1), object(3)\n",
      "memory usage: 290.5+ KB\n"
     ]
    }
   ],
   "source": [
    "price.info()"
   ]
  },
  {
   "cell_type": "markdown",
   "id": "4c6fb7e4-4b4c-40de-bc46-0d05c04bcc22",
   "metadata": {},
   "source": [
    "## 기상청 + 농수산물 병합"
   ]
  },
  {
   "cell_type": "code",
   "execution_count": 28,
   "id": "8e34ec2d-2b1e-4691-965d-4d4bf6589216",
   "metadata": {},
   "outputs": [],
   "source": [
    "join=pd.merge(weather, price, on='조회일자', how='left')"
   ]
  },
  {
   "cell_type": "code",
   "execution_count": 30,
   "id": "bd440bb6-a1f7-46cb-a9d7-1b6439c7bfaa",
   "metadata": {},
   "outputs": [
    {
     "data": {
      "text/plain": [
       "(9300, 8)"
      ]
     },
     "execution_count": 30,
     "metadata": {},
     "output_type": "execute_result"
    }
   ],
   "source": [
    "vegetable=join.copy()\n",
    "vegetable.shape"
   ]
  },
  {
   "cell_type": "code",
   "execution_count": 32,
   "id": "fe42125d-b4f4-4e62-97c4-842ed69a0656",
   "metadata": {},
   "outputs": [
    {
     "name": "stdout",
     "output_type": "stream",
     "text": [
      "<class 'pandas.core.frame.DataFrame'>\n",
      "RangeIndex: 9300 entries, 0 to 9299\n",
      "Data columns (total 8 columns):\n",
      " #   Column  Non-Null Count  Dtype  \n",
      "---  ------  --------------  -----  \n",
      " 0   조회일자    9300 non-null   object \n",
      " 1   지점      9299 non-null   object \n",
      " 2   평균기온    9299 non-null   float64\n",
      " 3   최저기온    9299 non-null   float64\n",
      " 4   최고기온    9299 non-null   float64\n",
      " 5   품목코드    9289 non-null   float64\n",
      " 6   품목명     9289 non-null   object \n",
      " 7   소매일일가격  9289 non-null   object \n",
      "dtypes: float64(4), object(4)\n",
      "memory usage: 581.4+ KB\n"
     ]
    }
   ],
   "source": [
    "vegetable.info()"
   ]
  },
  {
   "cell_type": "code",
   "execution_count": 34,
   "id": "cf4b78fc-f15e-48fc-88c1-ffe93fda2ff4",
   "metadata": {},
   "outputs": [],
   "source": [
    "vegetable['조회일자']=pd.to_datetime(vegetable['조회일자'])\n",
    "vegetable['소매일일가격']=pd.to_numeric(vegetable['소매일일가격'], errors='coerce')"
   ]
  },
  {
   "cell_type": "markdown",
   "id": "b68d978b-415d-4728-8504-fe9da20e0f3a",
   "metadata": {},
   "source": [
    "- coerce 변환할 수 없는 값이 있을 경우, 그 값을 **NaN**으로 처리"
   ]
  },
  {
   "cell_type": "code",
   "execution_count": 37,
   "id": "ab5f1133-43ff-4c97-bf48-cb830db95dab",
   "metadata": {},
   "outputs": [],
   "source": [
    "vegetable.dropna(inplace=True)"
   ]
  },
  {
   "cell_type": "code",
   "execution_count": 39,
   "id": "c8cafc42-3af9-4d8a-ab1e-df37cca584b9",
   "metadata": {},
   "outputs": [
    {
     "name": "stdout",
     "output_type": "stream",
     "text": [
      "<class 'pandas.core.frame.DataFrame'>\n",
      "Index: 9288 entries, 0 to 9298\n",
      "Data columns (total 8 columns):\n",
      " #   Column  Non-Null Count  Dtype         \n",
      "---  ------  --------------  -----         \n",
      " 0   조회일자    9288 non-null   datetime64[ns]\n",
      " 1   지점      9288 non-null   object        \n",
      " 2   평균기온    9288 non-null   float64       \n",
      " 3   최저기온    9288 non-null   float64       \n",
      " 4   최고기온    9288 non-null   float64       \n",
      " 5   품목코드    9288 non-null   float64       \n",
      " 6   품목명     9288 non-null   object        \n",
      " 7   소매일일가격  9288 non-null   float64       \n",
      "dtypes: datetime64[ns](1), float64(5), object(2)\n",
      "memory usage: 653.1+ KB\n"
     ]
    }
   ],
   "source": [
    "vegetable.info()"
   ]
  },
  {
   "cell_type": "code",
   "execution_count": 41,
   "id": "aa2261bc-bf1f-4987-9558-a721ee99ad0c",
   "metadata": {},
   "outputs": [
    {
     "data": {
      "text/plain": [
       "품목명\n",
       "마늘     2653\n",
       "배추     1327\n",
       "무      1327\n",
       "건고추    1327\n",
       "양파     1327\n",
       "대파     1327\n",
       "Name: count, dtype: int64"
      ]
     },
     "execution_count": 41,
     "metadata": {},
     "output_type": "execute_result"
    }
   ],
   "source": [
    "vegetable.set_index('조회일자', inplace=True)\n",
    "vegetable.head()\n",
    "\n",
    "vegetable.describe(include='object')\n",
    "vegetable['품목명'].value_counts()"
   ]
  },
  {
   "cell_type": "code",
   "execution_count": 43,
   "id": "b491bada-9e02-4103-81be-9c9c0451e2d6",
   "metadata": {},
   "outputs": [
    {
     "data": {
      "text/plain": [
       "<Axes: xlabel='조회일자', ylabel='소매일일가격'>"
      ]
     },
     "execution_count": 43,
     "metadata": {},
     "output_type": "execute_result"
    },
    {
     "data": {
      "image/png": "[encoded data removed]",
      "text/plain": [
       "<Figure size 1000x500 with 1 Axes>"
      ]
     },
     "metadata": {},
     "output_type": "display_data"
    }
   ],
   "source": [
    "plt.figure(figsize=(10, 5))\n",
    "sns.lineplot(data=vegetable, x='조회일자', y='소매일일가격', errorbar=None)"
   ]
  },
  {
   "cell_type": "markdown",
   "id": "788c8c2e-34cc-41e8-9d7a-4948351dd301",
   "metadata": {},
   "source": [
    "### 품목 선택 - 배추"
   ]
  },
  {
   "cell_type": "code",
   "execution_count": 46,
   "id": "75bcea5a-400c-483c-bb9d-11704471b864",
   "metadata": {},
   "outputs": [],
   "source": [
    "def get_product_data(product_name):\n",
    "    cond=vegetable['품목명'] == product_name\n",
    "    product_data=vegetable.loc[cond]\n",
    "    return product_data"
   ]
  },
  {
   "cell_type": "code",
   "execution_count": 48,
   "id": "e2351299-d72c-4745-95db-d41f2a71f770",
   "metadata": {},
   "outputs": [],
   "source": [
    "# kind=input(\"채소입력:\")"
   ]
  },
  {
   "cell_type": "code",
   "execution_count": 50,
   "id": "f235a572-fd8d-412f-b7b4-a7cc6c813c94",
   "metadata": {},
   "outputs": [
    {
     "data": {
      "text/plain": [
       "(1327, 7)"
      ]
     },
     "execution_count": 50,
     "metadata": {},
     "output_type": "execute_result"
    }
   ],
   "source": [
    "cabbage=get_product_data('배추')\n",
    "cabbage.shape"
   ]
  },
  {
   "cell_type": "code",
   "execution_count": 52,
   "id": "b41c25a7-58fa-49fb-95a1-04c09ff7f430",
   "metadata": {},
   "outputs": [
    {
     "data": {
      "text/plain": [
       "(1337, 7)"
      ]
     },
     "execution_count": 52,
     "metadata": {},
     "output_type": "execute_result"
    }
   ],
   "source": [
    "cabbage=cabbage.asfreq('D', method='pad')    \n",
    "cabbage.shape"
   ]
  },
  {
   "cell_type": "code",
   "execution_count": 54,
   "id": "6e9e7d44-cdb3-409d-a7a6-106ce53dd4f9",
   "metadata": {},
   "outputs": [
    {
     "data": {
      "text/html": [
       "<div>\n",
       "<style scoped>\n",
       "    .dataframe tbody tr th:only-of-type {\n",
       "        vertical-align: middle;\n",
       "    }\n",
       "\n",
       "    .dataframe tbody tr th {\n",
       "        vertical-align: top;\n",
       "    }\n",
       "\n",
       "    .dataframe thead th {\n",
       "        text-align: right;\n",
       "    }\n",
       "</style>\n",
       "<table border=\"1\" class=\"dataframe\">\n",
       "  <thead>\n",
       "    <tr style=\"text-align: right;\">\n",
       "      <th></th>\n",
       "      <th>지점</th>\n",
       "      <th>평균기온</th>\n",
       "      <th>최저기온</th>\n",
       "      <th>최고기온</th>\n",
       "      <th>품목코드</th>\n",
       "      <th>품목명</th>\n",
       "      <th>소매일일가격</th>\n",
       "    </tr>\n",
       "    <tr>\n",
       "      <th>조회일자</th>\n",
       "      <th></th>\n",
       "      <th></th>\n",
       "      <th></th>\n",
       "      <th></th>\n",
       "      <th></th>\n",
       "      <th></th>\n",
       "      <th></th>\n",
       "    </tr>\n",
       "  </thead>\n",
       "  <tbody>\n",
       "    <tr>\n",
       "      <th>2019-10-11</th>\n",
       "      <td>전국</td>\n",
       "      <td>17.7</td>\n",
       "      <td>11.4</td>\n",
       "      <td>24.7</td>\n",
       "      <td>1001.0</td>\n",
       "      <td>배추</td>\n",
       "      <td>6968.0</td>\n",
       "    </tr>\n",
       "    <tr>\n",
       "      <th>2019-10-12</th>\n",
       "      <td>전국</td>\n",
       "      <td>17.8</td>\n",
       "      <td>13.3</td>\n",
       "      <td>23.1</td>\n",
       "      <td>1001.0</td>\n",
       "      <td>배추</td>\n",
       "      <td>6968.0</td>\n",
       "    </tr>\n",
       "    <tr>\n",
       "      <th>2019-10-13</th>\n",
       "      <td>전국</td>\n",
       "      <td>15.6</td>\n",
       "      <td>10.3</td>\n",
       "      <td>22.0</td>\n",
       "      <td>1001.0</td>\n",
       "      <td>배추</td>\n",
       "      <td>6968.0</td>\n",
       "    </tr>\n",
       "    <tr>\n",
       "      <th>2019-10-14</th>\n",
       "      <td>전국</td>\n",
       "      <td>14.4</td>\n",
       "      <td>9.0</td>\n",
       "      <td>21.2</td>\n",
       "      <td>1001.0</td>\n",
       "      <td>배추</td>\n",
       "      <td>6826.0</td>\n",
       "    </tr>\n",
       "    <tr>\n",
       "      <th>2019-10-15</th>\n",
       "      <td>전국</td>\n",
       "      <td>13.1</td>\n",
       "      <td>8.3</td>\n",
       "      <td>18.6</td>\n",
       "      <td>1001.0</td>\n",
       "      <td>배추</td>\n",
       "      <td>6786.0</td>\n",
       "    </tr>\n",
       "  </tbody>\n",
       "</table>\n",
       "</div>"
      ],
      "text/plain": [
       "            지점  평균기온  최저기온  최고기온    품목코드 품목명  소매일일가격\n",
       "조회일자                                                \n",
       "2019-10-11  전국  17.7  11.4  24.7  1001.0  배추  6968.0\n",
       "2019-10-12  전국  17.8  13.3  23.1  1001.0  배추  6968.0\n",
       "2019-10-13  전국  15.6  10.3  22.0  1001.0  배추  6968.0\n",
       "2019-10-14  전국  14.4   9.0  21.2  1001.0  배추  6826.0\n",
       "2019-10-15  전국  13.1   8.3  18.6  1001.0  배추  6786.0"
      ]
     },
     "execution_count": 54,
     "metadata": {},
     "output_type": "execute_result"
    }
   ],
   "source": [
    "cabbage.head()"
   ]
  },
  {
   "cell_type": "code",
   "execution_count": 56,
   "id": "a5279a35-44df-4d18-83e5-305d3460ced7",
   "metadata": {},
   "outputs": [
    {
     "data": {
      "text/plain": [
       "<Axes: xlabel='조회일자', ylabel='소매일일가격'>"
      ]
     },
     "execution_count": 56,
     "metadata": {},
     "output_type": "execute_result"
    },
    {
     "data": {
      "image/png": "[encoded data removed]",
      "text/plain": [
       "<Figure size 1000x500 with 1 Axes>"
      ]
     },
     "metadata": {},
     "output_type": "display_data"
    }
   ],
   "source": [
    "plt.figure(figsize=(10, 5))\n",
    "sns.lineplot(data=cabbage, x='조회일자', y='소매일일가격', errorbar=None)"
   ]
  },
  {
   "cell_type": "code",
   "execution_count": 58,
   "id": "7713f432-55cc-4277-9a3e-69ed6ae72e88",
   "metadata": {},
   "outputs": [
    {
     "data": {
      "text/html": [
       "<div>\n",
       "<style scoped>\n",
       "    .dataframe tbody tr th:only-of-type {\n",
       "        vertical-align: middle;\n",
       "    }\n",
       "\n",
       "    .dataframe tbody tr th {\n",
       "        vertical-align: top;\n",
       "    }\n",
       "\n",
       "    .dataframe thead th {\n",
       "        text-align: right;\n",
       "    }\n",
       "</style>\n",
       "<table border=\"1\" class=\"dataframe\">\n",
       "  <thead>\n",
       "    <tr style=\"text-align: right;\">\n",
       "      <th></th>\n",
       "      <th>평균기온</th>\n",
       "      <th>최저기온</th>\n",
       "      <th>최고기온</th>\n",
       "      <th>소매일일가격</th>\n",
       "    </tr>\n",
       "    <tr>\n",
       "      <th>조회일자</th>\n",
       "      <th></th>\n",
       "      <th></th>\n",
       "      <th></th>\n",
       "      <th></th>\n",
       "    </tr>\n",
       "  </thead>\n",
       "  <tbody>\n",
       "    <tr>\n",
       "      <th>2019-10-11</th>\n",
       "      <td>17.7</td>\n",
       "      <td>11.4</td>\n",
       "      <td>24.7</td>\n",
       "      <td>6968.0</td>\n",
       "    </tr>\n",
       "    <tr>\n",
       "      <th>2019-10-12</th>\n",
       "      <td>17.8</td>\n",
       "      <td>13.3</td>\n",
       "      <td>23.1</td>\n",
       "      <td>6968.0</td>\n",
       "    </tr>\n",
       "    <tr>\n",
       "      <th>2019-10-13</th>\n",
       "      <td>15.6</td>\n",
       "      <td>10.3</td>\n",
       "      <td>22.0</td>\n",
       "      <td>6968.0</td>\n",
       "    </tr>\n",
       "    <tr>\n",
       "      <th>2019-10-14</th>\n",
       "      <td>14.4</td>\n",
       "      <td>9.0</td>\n",
       "      <td>21.2</td>\n",
       "      <td>6826.0</td>\n",
       "    </tr>\n",
       "    <tr>\n",
       "      <th>2019-10-15</th>\n",
       "      <td>13.1</td>\n",
       "      <td>8.3</td>\n",
       "      <td>18.6</td>\n",
       "      <td>6786.0</td>\n",
       "    </tr>\n",
       "  </tbody>\n",
       "</table>\n",
       "</div>"
      ],
      "text/plain": [
       "            평균기온  최저기온  최고기온  소매일일가격\n",
       "조회일자                                \n",
       "2019-10-11  17.7  11.4  24.7  6968.0\n",
       "2019-10-12  17.8  13.3  23.1  6968.0\n",
       "2019-10-13  15.6  10.3  22.0  6968.0\n",
       "2019-10-14  14.4   9.0  21.2  6826.0\n",
       "2019-10-15  13.1   8.3  18.6  6786.0"
      ]
     },
     "execution_count": 58,
     "metadata": {},
     "output_type": "execute_result"
    }
   ],
   "source": [
    "vege_data=cabbage[['평균기온', '최저기온', '최고기온', '소매일일가격']]\n",
    "vege_data.head()"
   ]
  },
  {
   "cell_type": "markdown",
   "id": "5ed83315-e0dc-4196-a69a-b896cfa91e85",
   "metadata": {},
   "source": [
    "## LSTM 모델"
   ]
  },
  {
   "cell_type": "markdown",
   "id": "b30caf18-4f82-47e6-9a4e-589ecc76f7fe",
   "metadata": {},
   "source": [
    "### 전처리"
   ]
  },
  {
   "cell_type": "code",
   "execution_count": 359,
   "id": "c3647304-0afc-4ce0-b0db-4654d27d3eec",
   "metadata": {},
   "outputs": [],
   "source": [
    "# 정규화\n",
    "min_max_scaler=MinMaxScaler()\n",
    "min_max_scaled=min_max_scaler.fit_transform(vege_data)"
   ]
  },
  {
   "cell_type": "code",
   "execution_count": 525,
   "id": "13a1e507-e528-469e-9f92-469039abce08",
   "metadata": {},
   "outputs": [
    {
     "name": "stdout",
     "output_type": "stream",
     "text": [
      "(935, 4) (402, 4)\n"
     ]
    }
   ],
   "source": [
    "train_data, test_data=train_test_split(min_max_scaled, test_size=0.3, shuffle=False)\n",
    "print(train_data.shape, test_data.shape)"
   ]
  },
  {
   "cell_type": "code",
   "execution_count": 527,
   "id": "026617d7-2807-41c8-ba4e-ec4e2b59768c",
   "metadata": {},
   "outputs": [],
   "source": [
    "def make_sample(data, seq_length):\n",
    "    train=[]\n",
    "    target=[]\n",
    "\n",
    "    for i in range(len(data)-seq_length):\n",
    "        train.append(data[i:i+seq_length, :-1])  # 입력 시퀀스 (목표 변수 제외)\n",
    "        target.append(data[i+seq_length, -1])    # 목표 변수 (다음 시점의 마지막 값)\n",
    "    return np.array(train), np.array(target)"
   ]
  },
  {
   "cell_type": "code",
   "execution_count": 529,
   "id": "c782222e-e944-47ef-a8ca-e9ab9c53eecc",
   "metadata": {},
   "outputs": [
    {
     "data": {
      "text/plain": [
       "((920, 15, 3), (920,))"
      ]
     },
     "execution_count": 529,
     "metadata": {},
     "output_type": "execute_result"
    }
   ],
   "source": [
    "seq_length=15   # 과거 15일의 날씨 데이터를 보고, 다음 날 가격을 예측\n",
    "\n",
    "X_train, Y_train=make_sample(train_data, seq_length)\n",
    "X_train.shape, Y_train.shape"
   ]
  },
  {
   "cell_type": "code",
   "execution_count": 531,
   "id": "082c091c-1f72-47a7-afb1-c4e70ed5531a",
   "metadata": {},
   "outputs": [
    {
     "data": {
      "text/plain": [
       "((736, 15, 3), (736,), (184, 15, 3), (184,))"
      ]
     },
     "execution_count": 531,
     "metadata": {},
     "output_type": "execute_result"
    }
   ],
   "source": [
    "# 검증 데이터 나누기\n",
    "split=int(len(X_train) * 0.8)\n",
    "X, X_val=X_train[:split], X_train[split:]\n",
    "Y, Y_val=Y_train[:split], Y_train[split:]\n",
    "X.shape, Y.shape, X_val.shape, Y_val.shape"
   ]
  },
  {
   "cell_type": "markdown",
   "id": "64c43005-1db6-4582-ba0c-53e971615748",
   "metadata": {},
   "source": [
    "### 학습"
   ]
  },
  {
   "cell_type": "code",
   "execution_count": 534,
   "id": "859ceb20-c025-42c3-abcc-2d1fc6dd1034",
   "metadata": {},
   "outputs": [
    {
     "data": {
      "text/html": [
       "<pre style=\"white-space:pre;overflow-x:auto;line-height:normal;font-family:Menlo,'DejaVu Sans Mono',consolas,'Courier New',monospace\"><span style=\"font-weight: bold\">Model: \"sequential_18\"</span>\n",
       "</pre>\n"
      ],
      "text/plain": [
       "\u001b[1mModel: \"sequential_18\"\u001b[0m\n"
      ]
     },
     "metadata": {},
     "output_type": "display_data"
    },
    {
     "data": {
      "text/html": [
       "<pre style=\"white-space:pre;overflow-x:auto;line-height:normal;font-family:Menlo,'DejaVu Sans Mono',consolas,'Courier New',monospace\">┏━━━━━━━━━━━━━━━━━━━━━━━━━━━━━━━━━━━━━━┳━━━━━━━━━━━━━━━━━━━━━━━━━━━━━┳━━━━━━━━━━━━━━━━━┓\n",
       "┃<span style=\"font-weight: bold\"> Layer (type)                         </span>┃<span style=\"font-weight: bold\"> Output Shape                </span>┃<span style=\"font-weight: bold\">         Param # </span>┃\n",
       "┡━━━━━━━━━━━━━━━━━━━━━━━━━━━━━━━━━━━━━━╇━━━━━━━━━━━━━━━━━━━━━━━━━━━━━╇━━━━━━━━━━━━━━━━━┩\n",
       "│ lstm_41 (<span style=\"color: #0087ff; text-decoration-color: #0087ff\">LSTM</span>)                       │ (<span style=\"color: #00d7ff; text-decoration-color: #00d7ff\">None</span>, <span style=\"color: #00af00; text-decoration-color: #00af00\">15</span>, <span style=\"color: #00af00; text-decoration-color: #00af00\">64</span>)              │          <span style=\"color: #00af00; text-decoration-color: #00af00\">17,408</span> │\n",
       "├──────────────────────────────────────┼─────────────────────────────┼─────────────────┤\n",
       "│ lstm_42 (<span style=\"color: #0087ff; text-decoration-color: #0087ff\">LSTM</span>)                       │ (<span style=\"color: #00d7ff; text-decoration-color: #00d7ff\">None</span>, <span style=\"color: #00af00; text-decoration-color: #00af00\">32</span>)                  │          <span style=\"color: #00af00; text-decoration-color: #00af00\">12,416</span> │\n",
       "├──────────────────────────────────────┼─────────────────────────────┼─────────────────┤\n",
       "│ dense_25 (<span style=\"color: #0087ff; text-decoration-color: #0087ff\">Dense</span>)                     │ (<span style=\"color: #00d7ff; text-decoration-color: #00d7ff\">None</span>, <span style=\"color: #00af00; text-decoration-color: #00af00\">1</span>)                   │              <span style=\"color: #00af00; text-decoration-color: #00af00\">33</span> │\n",
       "└──────────────────────────────────────┴─────────────────────────────┴─────────────────┘\n",
       "</pre>\n"
      ],
      "text/plain": [
       "┏━━━━━━━━━━━━━━━━━━━━━━━━━━━━━━━━━━━━━━┳━━━━━━━━━━━━━━━━━━━━━━━━━━━━━┳━━━━━━━━━━━━━━━━━┓\n",
       "┃\u001b[1m \u001b[0m\u001b[1mLayer (type)                        \u001b[0m\u001b[1m \u001b[0m┃\u001b[1m \u001b[0m\u001b[1mOutput Shape               \u001b[0m\u001b[1m \u001b[0m┃\u001b[1m \u001b[0m\u001b[1m        Param #\u001b[0m\u001b[1m \u001b[0m┃\n",
       "┡━━━━━━━━━━━━━━━━━━━━━━━━━━━━━━━━━━━━━━╇━━━━━━━━━━━━━━━━━━━━━━━━━━━━━╇━━━━━━━━━━━━━━━━━┩\n",
       "│ lstm_41 (\u001b[38;5;33mLSTM\u001b[0m)                       │ (\u001b[38;5;45mNone\u001b[0m, \u001b[38;5;34m15\u001b[0m, \u001b[38;5;34m64\u001b[0m)              │          \u001b[38;5;34m17,408\u001b[0m │\n",
       "├──────────────────────────────────────┼─────────────────────────────┼─────────────────┤\n",
       "│ lstm_42 (\u001b[38;5;33mLSTM\u001b[0m)                       │ (\u001b[38;5;45mNone\u001b[0m, \u001b[38;5;34m32\u001b[0m)                  │          \u001b[38;5;34m12,416\u001b[0m │\n",
       "├──────────────────────────────────────┼─────────────────────────────┼─────────────────┤\n",
       "│ dense_25 (\u001b[38;5;33mDense\u001b[0m)                     │ (\u001b[38;5;45mNone\u001b[0m, \u001b[38;5;34m1\u001b[0m)                   │              \u001b[38;5;34m33\u001b[0m │\n",
       "└──────────────────────────────────────┴─────────────────────────────┴─────────────────┘\n"
      ]
     },
     "metadata": {},
     "output_type": "display_data"
    },
    {
     "data": {
      "text/html": [
       "<pre style=\"white-space:pre;overflow-x:auto;line-height:normal;font-family:Menlo,'DejaVu Sans Mono',consolas,'Courier New',monospace\"><span style=\"font-weight: bold\"> Total params: </span><span style=\"color: #00af00; text-decoration-color: #00af00\">29,857</span> (116.63 KB)\n",
       "</pre>\n"
      ],
      "text/plain": [
       "\u001b[1m Total params: \u001b[0m\u001b[38;5;34m29,857\u001b[0m (116.63 KB)\n"
      ]
     },
     "metadata": {},
     "output_type": "display_data"
    },
    {
     "data": {
      "text/html": [
       "<pre style=\"white-space:pre;overflow-x:auto;line-height:normal;font-family:Menlo,'DejaVu Sans Mono',consolas,'Courier New',monospace\"><span style=\"font-weight: bold\"> Trainable params: </span><span style=\"color: #00af00; text-decoration-color: #00af00\">29,857</span> (116.63 KB)\n",
       "</pre>\n"
      ],
      "text/plain": [
       "\u001b[1m Trainable params: \u001b[0m\u001b[38;5;34m29,857\u001b[0m (116.63 KB)\n"
      ]
     },
     "metadata": {},
     "output_type": "display_data"
    },
    {
     "data": {
      "text/html": [
       "<pre style=\"white-space:pre;overflow-x:auto;line-height:normal;font-family:Menlo,'DejaVu Sans Mono',consolas,'Courier New',monospace\"><span style=\"font-weight: bold\"> Non-trainable params: </span><span style=\"color: #00af00; text-decoration-color: #00af00\">0</span> (0.00 B)\n",
       "</pre>\n"
      ],
      "text/plain": [
       "\u001b[1m Non-trainable params: \u001b[0m\u001b[38;5;34m0\u001b[0m (0.00 B)\n"
      ]
     },
     "metadata": {},
     "output_type": "display_data"
    }
   ],
   "source": [
    "model=keras.Sequential()\n",
    "model.add(keras.layers.Input(shape=(seq_length, 3)))                                     # LSTM 입력 크기\n",
    "model.add(keras.layers.LSTM(64, activation='tanh', return_sequences=True))  \n",
    "model.add(keras.layers.LSTM(32, activation='tanh', return_sequences=False))  \n",
    "model.add(keras.layers.Dense(1))                                                         # 출력층\n",
    "model.summary()"
   ]
  },
  {
   "cell_type": "code",
   "execution_count": 538,
   "id": "12f3f6b1-28b9-47af-9291-e7a514d6a171",
   "metadata": {},
   "outputs": [],
   "source": [
    "def on_epoch_end_fun(epoch, logs):  \n",
    "    if(epoch + 1) % 10 == 0:\n",
    "        print(f\"Epoch {epoch+1}: loss={logs['loss']:.4f}, mse={logs['mse']:.4f}\", \n",
    "              f\"val_loss={logs['val_loss']:.4f}, val_mse={logs['val_loss']:.4f}\")\n",
    "\n",
    "        \n",
    "# 각 에포크가 끝날 때 on_epoch_end 함수\n",
    "print_callback=LambdaCallback(on_epoch_end=on_epoch_end_fun)\n",
    "\n",
    "# 학습 중단\n",
    "early_stopping_callback=EarlyStopping(monitor='val_loss',       \n",
    "                                      patience=20,                # epoch 동안 개선이 없으면 학습 중단\n",
    "                                      verbose=1,                  # early stopping 메시지 출력\n",
    "                                      # min_delta=0.0001, \n",
    "                                      restore_best_weights=True)   # 가장 좋은 가중치 복원    "
   ]
  },
  {
   "cell_type": "code",
   "execution_count": 540,
   "id": "68141f5a-648f-4af0-a229-a1ca24c73b7e",
   "metadata": {},
   "outputs": [
    {
     "name": "stdout",
     "output_type": "stream",
     "text": [
      "Epoch 10: loss=0.0427, mse=0.0427 val_loss=0.0009, val_mse=0.0009\n",
      "Epoch 20: loss=0.0407, mse=0.0407 val_loss=0.0009, val_mse=0.0009\n",
      "Epoch 30: loss=0.0397, mse=0.0397 val_loss=0.0013, val_mse=0.0013\n",
      "Epoch 37: early stopping\n",
      "Restoring model weights from the end of the best epoch: 17.\n"
     ]
    }
   ],
   "source": [
    "model.compile(optimizer='adam', loss='mean_squared_error', metrics=['mse'])\n",
    "history=model.fit(X, Y, \n",
    "                  epochs=200, batch_size=16, verbose=0, \n",
    "                  validation_data=(X_val, Y_val),\n",
    "                  shuffle=False,\n",
    "                  callbacks=[print_callback, early_stopping_callback])"
   ]
  },
  {
   "cell_type": "markdown",
   "id": "17e34f47-4e9d-407b-bf0a-ca817ac284a9",
   "metadata": {},
   "source": [
    "### 평가"
   ]
  },
  {
   "cell_type": "code",
   "execution_count": 542,
   "id": "2465d55d-7137-4bd8-a158-a9414096723c",
   "metadata": {},
   "outputs": [
    {
     "data": {
      "text/plain": [
       "((387, 15, 3), (387,))"
      ]
     },
     "execution_count": 542,
     "metadata": {},
     "output_type": "execute_result"
    }
   ],
   "source": [
    "X_test, Y_test=make_sample(test_data, seq_length)\n",
    "X_test.shape, Y_test.shape"
   ]
  },
  {
   "cell_type": "code",
   "execution_count": 544,
   "id": "6c9550a6-dbc9-4740-9b39-1480ef1f7190",
   "metadata": {},
   "outputs": [
    {
     "name": "stdout",
     "output_type": "stream",
     "text": [
      "\u001b[1m13/13\u001b[0m \u001b[32m━━━━━━━━━━━━━━━━━━━━\u001b[0m\u001b[37m\u001b[0m \u001b[1m0s\u001b[0m 12ms/step - loss: 0.0320 - mse: 0.0320\n",
      "Test Loss: 0.0290, Test MSE: 0.0290\n"
     ]
    }
   ],
   "source": [
    "test_loss, test_mse = model.evaluate(X_test, Y_test)\n",
    "print(f\"Test Loss: {test_loss:.4f}, Test MSE: {test_mse:.4f}\")"
   ]
  },
  {
   "cell_type": "code",
   "execution_count": 548,
   "id": "6a37b9e9-ab06-48d9-b582-d896c3cb7610",
   "metadata": {},
   "outputs": [
    {
     "name": "stdout",
     "output_type": "stream",
     "text": [
      "\u001b[1m13/13\u001b[0m \u001b[32m━━━━━━━━━━━━━━━━━━━━\u001b[0m\u001b[37m\u001b[0m \u001b[1m1s\u001b[0m 55ms/step\n"
     ]
    }
   ],
   "source": [
    "pred=model.predict(X_test)"
   ]
  },
  {
   "cell_type": "code",
   "execution_count": 550,
   "id": "ebdf6515-4175-4bc5-9769-1c8ea558a8fa",
   "metadata": {},
   "outputs": [
    {
     "data": {
      "text/plain": [
       "0.26656467587949095"
      ]
     },
     "execution_count": 550,
     "metadata": {},
     "output_type": "execute_result"
    }
   ],
   "source": [
    "r2_score(Y_test, pred)"
   ]
  },
  {
   "cell_type": "code",
   "execution_count": 496,
   "id": "e090c98c-f338-4b7f-92ac-27263be5f2f5",
   "metadata": {},
   "outputs": [
    {
     "data": {
      "image/png": "[encoded data removed]",
      "text/plain": [
       "<Figure size 1000x500 with 1 Axes>"
      ]
     },
     "metadata": {},
     "output_type": "display_data"
    }
   ],
   "source": [
    "plt.figure(figsize=(10, 5))\n",
    "plt.plot(Y_test, label='실제 price')\n",
    "plt.plot(pred, label='predicted')\n",
    "plt.legend()\n",
    "plt.show()"
   ]
  },
  {
   "cell_type": "code",
   "execution_count": 364,
   "id": "3864eb59-be43-42ba-a63f-d77f1d4fbf69",
   "metadata": {},
   "outputs": [
    {
     "name": "stdout",
     "output_type": "stream",
     "text": [
      "\u001b[1m1/1\u001b[0m \u001b[32m━━━━━━━━━━━━━━━━━━━━\u001b[0m\u001b[37m\u001b[0m \u001b[1m0s\u001b[0m 92ms/step\n"
     ]
    },
    {
     "data": {
      "text/plain": [
       "4885.257"
      ]
     },
     "execution_count": 364,
     "metadata": {},
     "output_type": "execute_result"
    }
   ],
   "source": [
    "# 최근 15일 데이터를 사용해 다음날 가격 예측\n",
    "last_sequence=X_test[-1:]     # 마지막 1개의 샘플, 이미 (1, 30, 1) 형태\n",
    "last_sequence\n",
    "\n",
    "# 예측 수행\n",
    "predicted_price=model.predict(last_sequence)\n",
    "predicted_price\n",
    "\n",
    "# 원래 가격대로 변환 (역정규화)\n",
    "price=np.repeat(predicted_price, 4, axis=1)  # (1, 4) 형태로 만들기\n",
    "\n",
    "# 역정규화\n",
    "price_original=min_max_scaler.inverse_transform(price)\n",
    "price_original[0][3]"
   ]
  },
  {
   "cell_type": "code",
   "execution_count": 366,
   "id": "b5606a6f-13f9-4719-ab12-70f3e783019a",
   "metadata": {},
   "outputs": [
    {
     "data": {
      "text/html": [
       "<div>\n",
       "<style scoped>\n",
       "    .dataframe tbody tr th:only-of-type {\n",
       "        vertical-align: middle;\n",
       "    }\n",
       "\n",
       "    .dataframe tbody tr th {\n",
       "        vertical-align: top;\n",
       "    }\n",
       "\n",
       "    .dataframe thead th {\n",
       "        text-align: right;\n",
       "    }\n",
       "</style>\n",
       "<table border=\"1\" class=\"dataframe\">\n",
       "  <thead>\n",
       "    <tr style=\"text-align: right;\">\n",
       "      <th></th>\n",
       "      <th>평균기온</th>\n",
       "      <th>최저기온</th>\n",
       "      <th>최고기온</th>\n",
       "      <th>소매일일가격</th>\n",
       "    </tr>\n",
       "    <tr>\n",
       "      <th>조회일자</th>\n",
       "      <th></th>\n",
       "      <th></th>\n",
       "      <th></th>\n",
       "      <th></th>\n",
       "    </tr>\n",
       "  </thead>\n",
       "  <tbody>\n",
       "    <tr>\n",
       "      <th>2023-06-08</th>\n",
       "      <td>21.5</td>\n",
       "      <td>17.6</td>\n",
       "      <td>26.9</td>\n",
       "      <td>3742.0</td>\n",
       "    </tr>\n",
       "  </tbody>\n",
       "</table>\n",
       "</div>"
      ],
      "text/plain": [
       "            평균기온  최저기온  최고기온  소매일일가격\n",
       "조회일자                                \n",
       "2023-06-08  21.5  17.6  26.9  3742.0"
      ]
     },
     "execution_count": 366,
     "metadata": {},
     "output_type": "execute_result"
    }
   ],
   "source": [
    "vege_data.tail(1)"
   ]
  },
  {
   "cell_type": "code",
   "execution_count": 369,
   "id": "30cb5a06-61ec-474c-b636-158184533cc7",
   "metadata": {},
   "outputs": [],
   "source": [
    "# 가중치 저장 \n",
    "model.save_weights('./Deep_result/vegetable_weights.weights.h5')"
   ]
  },
  {
   "cell_type": "markdown",
   "id": "bbed3272-1ef2-4d50-98cb-d0eeafde246c",
   "metadata": {},
   "source": [
    "##  RandomForestRegressor\n",
    "### 학습 및 평가"
   ]
  },
  {
   "cell_type": "code",
   "execution_count": 374,
   "id": "244c3816-a1f9-41a0-ae3a-2ff516824b2e",
   "metadata": {},
   "outputs": [
    {
     "data": {
      "text/plain": [
       "((920, 15, 3), (920,))"
      ]
     },
     "execution_count": 374,
     "metadata": {},
     "output_type": "execute_result"
    }
   ],
   "source": [
    "# 1.4.1. 전처리 참조\n",
    "# 과거 15일의 날씨 데이터를 보고, 다음 날 가격을 예측\n",
    "seq_length=15   \n",
    "\n",
    "X_train, Y_train=make_sample(train_data, seq_length)\n",
    "X_train.shape, Y_train.shape"
   ]
  },
  {
   "cell_type": "code",
   "execution_count": 376,
   "id": "41581c1a-1410-4780-ba9b-af407745db58",
   "metadata": {},
   "outputs": [
    {
     "data": {
      "text/plain": [
       "((920, 45), (920,))"
      ]
     },
     "execution_count": 376,
     "metadata": {},
     "output_type": "execute_result"
    }
   ],
   "source": [
    "# 차원 변환\n",
    "X_train_flat=X_train.reshape(X_train.shape[0], -1)\n",
    "X_train_flat.shape,  Y_train.shape"
   ]
  },
  {
   "cell_type": "code",
   "execution_count": 378,
   "id": "676acf62-a04d-4e94-8eab-f5aa79d35930",
   "metadata": {},
   "outputs": [
    {
     "data": {
      "text/html": [
       "<style>#sk-container-id-1 {\n",
       "  /* Definition of color scheme common for light and dark mode */\n",
       "  --sklearn-color-text: black;\n",
       "  --sklearn-color-line: gray;\n",
       "  /* Definition of color scheme for unfitted estimators */\n",
       "  --sklearn-color-unfitted-level-0: #fff5e6;\n",
       "  --sklearn-color-unfitted-level-1: #f6e4d2;\n",
       "  --sklearn-color-unfitted-level-2: #ffe0b3;\n",
       "  --sklearn-color-unfitted-level-3: chocolate;\n",
       "  /* Definition of color scheme for fitted estimators */\n",
       "  --sklearn-color-fitted-level-0: #f0f8ff;\n",
       "  --sklearn-color-fitted-level-1: #d4ebff;\n",
       "  --sklearn-color-fitted-level-2: #b3dbfd;\n",
       "  --sklearn-color-fitted-level-3: cornflowerblue;\n",
       "\n",
       "  /* Specific color for light theme */\n",
       "  --sklearn-color-text-on-default-background: var(--sg-text-color, var(--theme-code-foreground, var(--jp-content-font-color1, black)));\n",
       "  --sklearn-color-background: var(--sg-background-color, var(--theme-background, var(--jp-layout-color0, white)));\n",
       "  --sklearn-color-border-box: var(--sg-text-color, var(--theme-code-foreground, var(--jp-content-font-color1, black)));\n",
       "  --sklearn-color-icon: #696969;\n",
       "\n",
       "  @media (prefers-color-scheme: dark) {\n",
       "    /* Redefinition of color scheme for dark theme */\n",
       "    --sklearn-color-text-on-default-background: var(--sg-text-color, var(--theme-code-foreground, var(--jp-content-font-color1, white)));\n",
       "    --sklearn-color-background: var(--sg-background-color, var(--theme-background, var(--jp-layout-color0, #111)));\n",
       "    --sklearn-color-border-box: var(--sg-text-color, var(--theme-code-foreground, var(--jp-content-font-color1, white)));\n",
       "    --sklearn-color-icon: #878787;\n",
       "  }\n",
       "}\n",
       "\n",
       "#sk-container-id-1 {\n",
       "  color: var(--sklearn-color-text);\n",
       "}\n",
       "\n",
       "#sk-container-id-1 pre {\n",
       "  padding: 0;\n",
       "}\n",
       "\n",
       "#sk-container-id-1 input.sk-hidden--visually {\n",
       "  border: 0;\n",
       "  clip: rect(1px 1px 1px 1px);\n",
       "  clip: rect(1px, 1px, 1px, 1px);\n",
       "  height: 1px;\n",
       "  margin: -1px;\n",
       "  overflow: hidden;\n",
       "  padding: 0;\n",
       "  position: absolute;\n",
       "  width: 1px;\n",
       "}\n",
       "\n",
       "#sk-container-id-1 div.sk-dashed-wrapped {\n",
       "  border: 1px dashed var(--sklearn-color-line);\n",
       "  margin: 0 0.4em 0.5em 0.4em;\n",
       "  box-sizing: border-box;\n",
       "  padding-bottom: 0.4em;\n",
       "  background-color: var(--sklearn-color-background);\n",
       "}\n",
       "\n",
       "#sk-container-id-1 div.sk-container {\n",
       "  /* jupyter's `normalize.less` sets `[hidden] { display: none; }`\n",
       "     but bootstrap.min.css set `[hidden] { display: none !important; }`\n",
       "     so we also need the `!important` here to be able to override the\n",
       "     default hidden behavior on the sphinx rendered scikit-learn.org.\n",
       "     See: https://github.com/scikit-learn/scikit-learn/issues/21755 */\n",
       "  display: inline-block !important;\n",
       "  position: relative;\n",
       "}\n",
       "\n",
       "#sk-container-id-1 div.sk-text-repr-fallback {\n",
       "  display: none;\n",
       "}\n",
       "\n",
       "div.sk-parallel-item,\n",
       "div.sk-serial,\n",
       "div.sk-item {\n",
       "  /* draw centered vertical line to link estimators */\n",
       "  background-image: linear-gradient(var(--sklearn-color-text-on-default-background), var(--sklearn-color-text-on-default-background));\n",
       "  background-size: 2px 100%;\n",
       "  background-repeat: no-repeat;\n",
       "  background-position: center center;\n",
       "}\n",
       "\n",
       "/* Parallel-specific style estimator block */\n",
       "\n",
       "#sk-container-id-1 div.sk-parallel-item::after {\n",
       "  content: \"\";\n",
       "  width: 100%;\n",
       "  border-bottom: 2px solid var(--sklearn-color-text-on-default-background);\n",
       "  flex-grow: 1;\n",
       "}\n",
       "\n",
       "#sk-container-id-1 div.sk-parallel {\n",
       "  display: flex;\n",
       "  align-items: stretch;\n",
       "  justify-content: center;\n",
       "  background-color: var(--sklearn-color-background);\n",
       "  position: relative;\n",
       "}\n",
       "\n",
       "#sk-container-id-1 div.sk-parallel-item {\n",
       "  display: flex;\n",
       "  flex-direction: column;\n",
       "}\n",
       "\n",
       "#sk-container-id-1 div.sk-parallel-item:first-child::after {\n",
       "  align-self: flex-end;\n",
       "  width: 50%;\n",
       "}\n",
       "\n",
       "#sk-container-id-1 div.sk-parallel-item:last-child::after {\n",
       "  align-self: flex-start;\n",
       "  width: 50%;\n",
       "}\n",
       "\n",
       "#sk-container-id-1 div.sk-parallel-item:only-child::after {\n",
       "  width: 0;\n",
       "}\n",
       "\n",
       "/* Serial-specific style estimator block */\n",
       "\n",
       "#sk-container-id-1 div.sk-serial {\n",
       "  display: flex;\n",
       "  flex-direction: column;\n",
       "  align-items: center;\n",
       "  background-color: var(--sklearn-color-background);\n",
       "  padding-right: 1em;\n",
       "  padding-left: 1em;\n",
       "}\n",
       "\n",
       "\n",
       "/* Toggleable style: style used for estimator/Pipeline/ColumnTransformer box that is\n",
       "clickable and can be expanded/collapsed.\n",
       "- Pipeline and ColumnTransformer use this feature and define the default style\n",
       "- Estimators will overwrite some part of the style using the `sk-estimator` class\n",
       "*/\n",
       "\n",
       "/* Pipeline and ColumnTransformer style (default) */\n",
       "\n",
       "#sk-container-id-1 div.sk-toggleable {\n",
       "  /* Default theme specific background. It is overwritten whether we have a\n",
       "  specific estimator or a Pipeline/ColumnTransformer */\n",
       "  background-color: var(--sklearn-color-background);\n",
       "}\n",
       "\n",
       "/* Toggleable label */\n",
       "#sk-container-id-1 label.sk-toggleable__label {\n",
       "  cursor: pointer;\n",
       "  display: block;\n",
       "  width: 100%;\n",
       "  margin-bottom: 0;\n",
       "  padding: 0.5em;\n",
       "  box-sizing: border-box;\n",
       "  text-align: center;\n",
       "}\n",
       "\n",
       "#sk-container-id-1 label.sk-toggleable__label-arrow:before {\n",
       "  /* Arrow on the left of the label */\n",
       "  content: \"▸\";\n",
       "  float: left;\n",
       "  margin-right: 0.25em;\n",
       "  color: var(--sklearn-color-icon);\n",
       "}\n",
       "\n",
       "#sk-container-id-1 label.sk-toggleable__label-arrow:hover:before {\n",
       "  color: var(--sklearn-color-text);\n",
       "}\n",
       "\n",
       "/* Toggleable content - dropdown */\n",
       "\n",
       "#sk-container-id-1 div.sk-toggleable__content {\n",
       "  max-height: 0;\n",
       "  max-width: 0;\n",
       "  overflow: hidden;\n",
       "  text-align: left;\n",
       "  /* unfitted */\n",
       "  background-color: var(--sklearn-color-unfitted-level-0);\n",
       "}\n",
       "\n",
       "#sk-container-id-1 div.sk-toggleable__content.fitted {\n",
       "  /* fitted */\n",
       "  background-color: var(--sklearn-color-fitted-level-0);\n",
       "}\n",
       "\n",
       "#sk-container-id-1 div.sk-toggleable__content pre {\n",
       "  margin: 0.2em;\n",
       "  border-radius: 0.25em;\n",
       "  color: var(--sklearn-color-text);\n",
       "  /* unfitted */\n",
       "  background-color: var(--sklearn-color-unfitted-level-0);\n",
       "}\n",
       "\n",
       "#sk-container-id-1 div.sk-toggleable__content.fitted pre {\n",
       "  /* unfitted */\n",
       "  background-color: var(--sklearn-color-fitted-level-0);\n",
       "}\n",
       "\n",
       "#sk-container-id-1 input.sk-toggleable__control:checked~div.sk-toggleable__content {\n",
       "  /* Expand drop-down */\n",
       "  max-height: 200px;\n",
       "  max-width: 100%;\n",
       "  overflow: auto;\n",
       "}\n",
       "\n",
       "#sk-container-id-1 input.sk-toggleable__control:checked~label.sk-toggleable__label-arrow:before {\n",
       "  content: \"▾\";\n",
       "}\n",
       "\n",
       "/* Pipeline/ColumnTransformer-specific style */\n",
       "\n",
       "#sk-container-id-1 div.sk-label input.sk-toggleable__control:checked~label.sk-toggleable__label {\n",
       "  color: var(--sklearn-color-text);\n",
       "  background-color: var(--sklearn-color-unfitted-level-2);\n",
       "}\n",
       "\n",
       "#sk-container-id-1 div.sk-label.fitted input.sk-toggleable__control:checked~label.sk-toggleable__label {\n",
       "  background-color: var(--sklearn-color-fitted-level-2);\n",
       "}\n",
       "\n",
       "/* Estimator-specific style */\n",
       "\n",
       "/* Colorize estimator box */\n",
       "#sk-container-id-1 div.sk-estimator input.sk-toggleable__control:checked~label.sk-toggleable__label {\n",
       "  /* unfitted */\n",
       "  background-color: var(--sklearn-color-unfitted-level-2);\n",
       "}\n",
       "\n",
       "#sk-container-id-1 div.sk-estimator.fitted input.sk-toggleable__control:checked~label.sk-toggleable__label {\n",
       "  /* fitted */\n",
       "  background-color: var(--sklearn-color-fitted-level-2);\n",
       "}\n",
       "\n",
       "#sk-container-id-1 div.sk-label label.sk-toggleable__label,\n",
       "#sk-container-id-1 div.sk-label label {\n",
       "  /* The background is the default theme color */\n",
       "  color: var(--sklearn-color-text-on-default-background);\n",
       "}\n",
       "\n",
       "/* On hover, darken the color of the background */\n",
       "#sk-container-id-1 div.sk-label:hover label.sk-toggleable__label {\n",
       "  color: var(--sklearn-color-text);\n",
       "  background-color: var(--sklearn-color-unfitted-level-2);\n",
       "}\n",
       "\n",
       "/* Label box, darken color on hover, fitted */\n",
       "#sk-container-id-1 div.sk-label.fitted:hover label.sk-toggleable__label.fitted {\n",
       "  color: var(--sklearn-color-text);\n",
       "  background-color: var(--sklearn-color-fitted-level-2);\n",
       "}\n",
       "\n",
       "/* Estimator label */\n",
       "\n",
       "#sk-container-id-1 div.sk-label label {\n",
       "  font-family: monospace;\n",
       "  font-weight: bold;\n",
       "  display: inline-block;\n",
       "  line-height: 1.2em;\n",
       "}\n",
       "\n",
       "#sk-container-id-1 div.sk-label-container {\n",
       "  text-align: center;\n",
       "}\n",
       "\n",
       "/* Estimator-specific */\n",
       "#sk-container-id-1 div.sk-estimator {\n",
       "  font-family: monospace;\n",
       "  border: 1px dotted var(--sklearn-color-border-box);\n",
       "  border-radius: 0.25em;\n",
       "  box-sizing: border-box;\n",
       "  margin-bottom: 0.5em;\n",
       "  /* unfitted */\n",
       "  background-color: var(--sklearn-color-unfitted-level-0);\n",
       "}\n",
       "\n",
       "#sk-container-id-1 div.sk-estimator.fitted {\n",
       "  /* fitted */\n",
       "  background-color: var(--sklearn-color-fitted-level-0);\n",
       "}\n",
       "\n",
       "/* on hover */\n",
       "#sk-container-id-1 div.sk-estimator:hover {\n",
       "  /* unfitted */\n",
       "  background-color: var(--sklearn-color-unfitted-level-2);\n",
       "}\n",
       "\n",
       "#sk-container-id-1 div.sk-estimator.fitted:hover {\n",
       "  /* fitted */\n",
       "  background-color: var(--sklearn-color-fitted-level-2);\n",
       "}\n",
       "\n",
       "/* Specification for estimator info (e.g. \"i\" and \"?\") */\n",
       "\n",
       "/* Common style for \"i\" and \"?\" */\n",
       "\n",
       ".sk-estimator-doc-link,\n",
       "a:link.sk-estimator-doc-link,\n",
       "a:visited.sk-estimator-doc-link {\n",
       "  float: right;\n",
       "  font-size: smaller;\n",
       "  line-height: 1em;\n",
       "  font-family: monospace;\n",
       "  background-color: var(--sklearn-color-background);\n",
       "  border-radius: 1em;\n",
       "  height: 1em;\n",
       "  width: 1em;\n",
       "  text-decoration: none !important;\n",
       "  margin-left: 1ex;\n",
       "  /* unfitted */\n",
       "  border: var(--sklearn-color-unfitted-level-1) 1pt solid;\n",
       "  color: var(--sklearn-color-unfitted-level-1);\n",
       "}\n",
       "\n",
       ".sk-estimator-doc-link.fitted,\n",
       "a:link.sk-estimator-doc-link.fitted,\n",
       "a:visited.sk-estimator-doc-link.fitted {\n",
       "  /* fitted */\n",
       "  border: var(--sklearn-color-fitted-level-1) 1pt solid;\n",
       "  color: var(--sklearn-color-fitted-level-1);\n",
       "}\n",
       "\n",
       "/* On hover */\n",
       "div.sk-estimator:hover .sk-estimator-doc-link:hover,\n",
       ".sk-estimator-doc-link:hover,\n",
       "div.sk-label-container:hover .sk-estimator-doc-link:hover,\n",
       ".sk-estimator-doc-link:hover {\n",
       "  /* unfitted */\n",
       "  background-color: var(--sklearn-color-unfitted-level-3);\n",
       "  color: var(--sklearn-color-background);\n",
       "  text-decoration: none;\n",
       "}\n",
       "\n",
       "div.sk-estimator.fitted:hover .sk-estimator-doc-link.fitted:hover,\n",
       ".sk-estimator-doc-link.fitted:hover,\n",
       "div.sk-label-container:hover .sk-estimator-doc-link.fitted:hover,\n",
       ".sk-estimator-doc-link.fitted:hover {\n",
       "  /* fitted */\n",
       "  background-color: var(--sklearn-color-fitted-level-3);\n",
       "  color: var(--sklearn-color-background);\n",
       "  text-decoration: none;\n",
       "}\n",
       "\n",
       "/* Span, style for the box shown on hovering the info icon */\n",
       ".sk-estimator-doc-link span {\n",
       "  display: none;\n",
       "  z-index: 9999;\n",
       "  position: relative;\n",
       "  font-weight: normal;\n",
       "  right: .2ex;\n",
       "  padding: .5ex;\n",
       "  margin: .5ex;\n",
       "  width: min-content;\n",
       "  min-width: 20ex;\n",
       "  max-width: 50ex;\n",
       "  color: var(--sklearn-color-text);\n",
       "  box-shadow: 2pt 2pt 4pt #999;\n",
       "  /* unfitted */\n",
       "  background: var(--sklearn-color-unfitted-level-0);\n",
       "  border: .5pt solid var(--sklearn-color-unfitted-level-3);\n",
       "}\n",
       "\n",
       ".sk-estimator-doc-link.fitted span {\n",
       "  /* fitted */\n",
       "  background: var(--sklearn-color-fitted-level-0);\n",
       "  border: var(--sklearn-color-fitted-level-3);\n",
       "}\n",
       "\n",
       ".sk-estimator-doc-link:hover span {\n",
       "  display: block;\n",
       "}\n",
       "\n",
       "/* \"?\"-specific style due to the `<a>` HTML tag */\n",
       "\n",
       "#sk-container-id-1 a.estimator_doc_link {\n",
       "  float: right;\n",
       "  font-size: 1rem;\n",
       "  line-height: 1em;\n",
       "  font-family: monospace;\n",
       "  background-color: var(--sklearn-color-background);\n",
       "  border-radius: 1rem;\n",
       "  height: 1rem;\n",
       "  width: 1rem;\n",
       "  text-decoration: none;\n",
       "  /* unfitted */\n",
       "  color: var(--sklearn-color-unfitted-level-1);\n",
       "  border: var(--sklearn-color-unfitted-level-1) 1pt solid;\n",
       "}\n",
       "\n",
       "#sk-container-id-1 a.estimator_doc_link.fitted {\n",
       "  /* fitted */\n",
       "  border: var(--sklearn-color-fitted-level-1) 1pt solid;\n",
       "  color: var(--sklearn-color-fitted-level-1);\n",
       "}\n",
       "\n",
       "/* On hover */\n",
       "#sk-container-id-1 a.estimator_doc_link:hover {\n",
       "  /* unfitted */\n",
       "  background-color: var(--sklearn-color-unfitted-level-3);\n",
       "  color: var(--sklearn-color-background);\n",
       "  text-decoration: none;\n",
       "}\n",
       "\n",
       "#sk-container-id-1 a.estimator_doc_link.fitted:hover {\n",
       "  /* fitted */\n",
       "  background-color: var(--sklearn-color-fitted-level-3);\n",
       "}\n",
       "</style><div id=\"sk-container-id-1\" class=\"sk-top-container\"><div class=\"sk-text-repr-fallback\"><pre>RandomForestRegressor(max_depth=5, n_estimators=50, random_state=42)</pre><b>In a Jupyter environment, please rerun this cell to show the HTML representation or trust the notebook. <br />On GitHub, the HTML representation is unable to render, please try loading this page with nbviewer.org.</b></div><div class=\"sk-container\" hidden><div class=\"sk-item\"><div class=\"sk-estimator fitted sk-toggleable\"><input class=\"sk-toggleable__control sk-hidden--visually\" id=\"sk-estimator-id-1\" type=\"checkbox\" checked><label for=\"sk-estimator-id-1\" class=\"sk-toggleable__label fitted sk-toggleable__label-arrow fitted\">&nbsp;&nbsp;RandomForestRegressor<a class=\"sk-estimator-doc-link fitted\" rel=\"noreferrer\" target=\"_blank\" href=\"https://scikit-learn.org/1.5/modules/generated/sklearn.ensemble.RandomForestRegressor.html\">?<span>Documentation for RandomForestRegressor</span></a><span class=\"sk-estimator-doc-link fitted\">i<span>Fitted</span></span></label><div class=\"sk-toggleable__content fitted\"><pre>RandomForestRegressor(max_depth=5, n_estimators=50, random_state=42)</pre></div> </div></div></div></div>"
      ],
      "text/plain": [
       "RandomForestRegressor(max_depth=5, n_estimators=50, random_state=42)"
      ]
     },
     "execution_count": 378,
     "metadata": {},
     "output_type": "execute_result"
    }
   ],
   "source": [
    "# 학습\n",
    "forest=RandomForestRegressor(n_estimators=50, max_depth=5, random_state=42)\n",
    "forest.fit(X_train_flat, Y_train)"
   ]
  },
  {
   "cell_type": "code",
   "execution_count": 380,
   "id": "2e2b676d-581d-40a9-8b99-a4f372359406",
   "metadata": {},
   "outputs": [
    {
     "data": {
      "text/plain": [
       "0.7469991178826358"
      ]
     },
     "execution_count": 380,
     "metadata": {},
     "output_type": "execute_result"
    }
   ],
   "source": [
    "forest.score(X_train_flat, Y_train)"
   ]
  },
  {
   "cell_type": "code",
   "execution_count": 382,
   "id": "0efbe2e8-6e03-4e82-b4e5-2c0e21e0cfa9",
   "metadata": {},
   "outputs": [
    {
     "data": {
      "text/plain": [
       "((387, 45), (387,))"
      ]
     },
     "execution_count": 382,
     "metadata": {},
     "output_type": "execute_result"
    }
   ],
   "source": [
    "# 테스트 평가\n",
    "X_test, Y_test=make_sample(test_data, seq_length)\n",
    "X_test.shape, Y_test.shape\n",
    "\n",
    "X_test_flat=X_test.reshape(X_test.shape[0], -1)\n",
    "X_test_flat.shape, Y_test.shape"
   ]
  },
  {
   "cell_type": "code",
   "execution_count": 384,
   "id": "c111fcf7-741b-4492-83e7-28403163ad8b",
   "metadata": {},
   "outputs": [
    {
     "data": {
      "text/plain": [
       "0.33488325039654576"
      ]
     },
     "execution_count": 384,
     "metadata": {},
     "output_type": "execute_result"
    }
   ],
   "source": [
    "forest.score(X_test_flat, Y_test)"
   ]
  },
  {
   "cell_type": "code",
   "execution_count": 386,
   "id": "e97667da-0727-4e6c-bb73-fc54dee8627e",
   "metadata": {},
   "outputs": [],
   "source": [
    "# 검증\n",
    "tscv=TimeSeriesSplit(n_splits=5)   # 시계열 데이터를 시간 순서를 유지하면서 훈련/검증 세트\n",
    "scores=cross_validate(forest, X_train_flat, Y_train, return_train_score=True, cv=tscv)"
   ]
  },
  {
   "cell_type": "code",
   "execution_count": 387,
   "id": "7e14b8e6-21db-471c-aef6-3de792c5b876",
   "metadata": {},
   "outputs": [
    {
     "data": {
      "text/plain": [
       "(0.8682282555883505, -3.8885423520520623)"
      ]
     },
     "execution_count": 387,
     "metadata": {},
     "output_type": "execute_result"
    }
   ],
   "source": [
    " np.mean(scores['train_score']), np.mean(scores['test_score'])"
   ]
  },
  {
   "cell_type": "markdown",
   "id": "aafdc966-aeb0-4ea8-909f-86379e24f3b5",
   "metadata": {},
   "source": [
    "### 최적화\n"
   ]
  },
  {
   "cell_type": "code",
   "execution_count": 391,
   "id": "e55e17f9-18d8-4aa1-8cb7-dd5c0910d52d",
   "metadata": {},
   "outputs": [],
   "source": [
    "params={\n",
    "    'n_estimators': np.arange(100, 300),      \n",
    "    'max_depth': np.arange(5, 10),                                       # 트리 갯수   np.random.randint(5, 10),  \n",
    "    'min_impurity_decrease': np.arange(0.0001, 0.0006, 0.0001),          # 분할 후 불순도 감소량\n",
    "    'min_samples_split': np.arange(2, 10),                               # 노드 분할에 필요한 최소 샘플수 \n",
    "    'min_samples_leaf':np.arange(1, 5)                                   # 끝에 있는 노드에 적어도 몇 개의 샘플수 \n",
    "}"
   ]
  },
  {
   "cell_type": "code",
   "execution_count": 395,
   "id": "c4f1e4dd-9a4f-467b-82e4-0add0ad008ac",
   "metadata": {},
   "outputs": [
    {
     "data": {
      "text/html": [
       "<style>#sk-container-id-2 {\n",
       "  /* Definition of color scheme common for light and dark mode */\n",
       "  --sklearn-color-text: black;\n",
       "  --sklearn-color-line: gray;\n",
       "  /* Definition of color scheme for unfitted estimators */\n",
       "  --sklearn-color-unfitted-level-0: #fff5e6;\n",
       "  --sklearn-color-unfitted-level-1: #f6e4d2;\n",
       "  --sklearn-color-unfitted-level-2: #ffe0b3;\n",
       "  --sklearn-color-unfitted-level-3: chocolate;\n",
       "  /* Definition of color scheme for fitted estimators */\n",
       "  --sklearn-color-fitted-level-0: #f0f8ff;\n",
       "  --sklearn-color-fitted-level-1: #d4ebff;\n",
       "  --sklearn-color-fitted-level-2: #b3dbfd;\n",
       "  --sklearn-color-fitted-level-3: cornflowerblue;\n",
       "\n",
       "  /* Specific color for light theme */\n",
       "  --sklearn-color-text-on-default-background: var(--sg-text-color, var(--theme-code-foreground, var(--jp-content-font-color1, black)));\n",
       "  --sklearn-color-background: var(--sg-background-color, var(--theme-background, var(--jp-layout-color0, white)));\n",
       "  --sklearn-color-border-box: var(--sg-text-color, var(--theme-code-foreground, var(--jp-content-font-color1, black)));\n",
       "  --sklearn-color-icon: #696969;\n",
       "\n",
       "  @media (prefers-color-scheme: dark) {\n",
       "    /* Redefinition of color scheme for dark theme */\n",
       "    --sklearn-color-text-on-default-background: var(--sg-text-color, var(--theme-code-foreground, var(--jp-content-font-color1, white)));\n",
       "    --sklearn-color-background: var(--sg-background-color, var(--theme-background, var(--jp-layout-color0, #111)));\n",
       "    --sklearn-color-border-box: var(--sg-text-color, var(--theme-code-foreground, var(--jp-content-font-color1, white)));\n",
       "    --sklearn-color-icon: #878787;\n",
       "  }\n",
       "}\n",
       "\n",
       "#sk-container-id-2 {\n",
       "  color: var(--sklearn-color-text);\n",
       "}\n",
       "\n",
       "#sk-container-id-2 pre {\n",
       "  padding: 0;\n",
       "}\n",
       "\n",
       "#sk-container-id-2 input.sk-hidden--visually {\n",
       "  border: 0;\n",
       "  clip: rect(1px 1px 1px 1px);\n",
       "  clip: rect(1px, 1px, 1px, 1px);\n",
       "  height: 1px;\n",
       "  margin: -1px;\n",
       "  overflow: hidden;\n",
       "  padding: 0;\n",
       "  position: absolute;\n",
       "  width: 1px;\n",
       "}\n",
       "\n",
       "#sk-container-id-2 div.sk-dashed-wrapped {\n",
       "  border: 1px dashed var(--sklearn-color-line);\n",
       "  margin: 0 0.4em 0.5em 0.4em;\n",
       "  box-sizing: border-box;\n",
       "  padding-bottom: 0.4em;\n",
       "  background-color: var(--sklearn-color-background);\n",
       "}\n",
       "\n",
       "#sk-container-id-2 div.sk-container {\n",
       "  /* jupyter's `normalize.less` sets `[hidden] { display: none; }`\n",
       "     but bootstrap.min.css set `[hidden] { display: none !important; }`\n",
       "     so we also need the `!important` here to be able to override the\n",
       "     default hidden behavior on the sphinx rendered scikit-learn.org.\n",
       "     See: https://github.com/scikit-learn/scikit-learn/issues/21755 */\n",
       "  display: inline-block !important;\n",
       "  position: relative;\n",
       "}\n",
       "\n",
       "#sk-container-id-2 div.sk-text-repr-fallback {\n",
       "  display: none;\n",
       "}\n",
       "\n",
       "div.sk-parallel-item,\n",
       "div.sk-serial,\n",
       "div.sk-item {\n",
       "  /* draw centered vertical line to link estimators */\n",
       "  background-image: linear-gradient(var(--sklearn-color-text-on-default-background), var(--sklearn-color-text-on-default-background));\n",
       "  background-size: 2px 100%;\n",
       "  background-repeat: no-repeat;\n",
       "  background-position: center center;\n",
       "}\n",
       "\n",
       "/* Parallel-specific style estimator block */\n",
       "\n",
       "#sk-container-id-2 div.sk-parallel-item::after {\n",
       "  content: \"\";\n",
       "  width: 100%;\n",
       "  border-bottom: 2px solid var(--sklearn-color-text-on-default-background);\n",
       "  flex-grow: 1;\n",
       "}\n",
       "\n",
       "#sk-container-id-2 div.sk-parallel {\n",
       "  display: flex;\n",
       "  align-items: stretch;\n",
       "  justify-content: center;\n",
       "  background-color: var(--sklearn-color-background);\n",
       "  position: relative;\n",
       "}\n",
       "\n",
       "#sk-container-id-2 div.sk-parallel-item {\n",
       "  display: flex;\n",
       "  flex-direction: column;\n",
       "}\n",
       "\n",
       "#sk-container-id-2 div.sk-parallel-item:first-child::after {\n",
       "  align-self: flex-end;\n",
       "  width: 50%;\n",
       "}\n",
       "\n",
       "#sk-container-id-2 div.sk-parallel-item:last-child::after {\n",
       "  align-self: flex-start;\n",
       "  width: 50%;\n",
       "}\n",
       "\n",
       "#sk-container-id-2 div.sk-parallel-item:only-child::after {\n",
       "  width: 0;\n",
       "}\n",
       "\n",
       "/* Serial-specific style estimator block */\n",
       "\n",
       "#sk-container-id-2 div.sk-serial {\n",
       "  display: flex;\n",
       "  flex-direction: column;\n",
       "  align-items: center;\n",
       "  background-color: var(--sklearn-color-background);\n",
       "  padding-right: 1em;\n",
       "  padding-left: 1em;\n",
       "}\n",
       "\n",
       "\n",
       "/* Toggleable style: style used for estimator/Pipeline/ColumnTransformer box that is\n",
       "clickable and can be expanded/collapsed.\n",
       "- Pipeline and ColumnTransformer use this feature and define the default style\n",
       "- Estimators will overwrite some part of the style using the `sk-estimator` class\n",
       "*/\n",
       "\n",
       "/* Pipeline and ColumnTransformer style (default) */\n",
       "\n",
       "#sk-container-id-2 div.sk-toggleable {\n",
       "  /* Default theme specific background. It is overwritten whether we have a\n",
       "  specific estimator or a Pipeline/ColumnTransformer */\n",
       "  background-color: var(--sklearn-color-background);\n",
       "}\n",
       "\n",
       "/* Toggleable label */\n",
       "#sk-container-id-2 label.sk-toggleable__label {\n",
       "  cursor: pointer;\n",
       "  display: block;\n",
       "  width: 100%;\n",
       "  margin-bottom: 0;\n",
       "  padding: 0.5em;\n",
       "  box-sizing: border-box;\n",
       "  text-align: center;\n",
       "}\n",
       "\n",
       "#sk-container-id-2 label.sk-toggleable__label-arrow:before {\n",
       "  /* Arrow on the left of the label */\n",
       "  content: \"▸\";\n",
       "  float: left;\n",
       "  margin-right: 0.25em;\n",
       "  color: var(--sklearn-color-icon);\n",
       "}\n",
       "\n",
       "#sk-container-id-2 label.sk-toggleable__label-arrow:hover:before {\n",
       "  color: var(--sklearn-color-text);\n",
       "}\n",
       "\n",
       "/* Toggleable content - dropdown */\n",
       "\n",
       "#sk-container-id-2 div.sk-toggleable__content {\n",
       "  max-height: 0;\n",
       "  max-width: 0;\n",
       "  overflow: hidden;\n",
       "  text-align: left;\n",
       "  /* unfitted */\n",
       "  background-color: var(--sklearn-color-unfitted-level-0);\n",
       "}\n",
       "\n",
       "#sk-container-id-2 div.sk-toggleable__content.fitted {\n",
       "  /* fitted */\n",
       "  background-color: var(--sklearn-color-fitted-level-0);\n",
       "}\n",
       "\n",
       "#sk-container-id-2 div.sk-toggleable__content pre {\n",
       "  margin: 0.2em;\n",
       "  border-radius: 0.25em;\n",
       "  color: var(--sklearn-color-text);\n",
       "  /* unfitted */\n",
       "  background-color: var(--sklearn-color-unfitted-level-0);\n",
       "}\n",
       "\n",
       "#sk-container-id-2 div.sk-toggleable__content.fitted pre {\n",
       "  /* unfitted */\n",
       "  background-color: var(--sklearn-color-fitted-level-0);\n",
       "}\n",
       "\n",
       "#sk-container-id-2 input.sk-toggleable__control:checked~div.sk-toggleable__content {\n",
       "  /* Expand drop-down */\n",
       "  max-height: 200px;\n",
       "  max-width: 100%;\n",
       "  overflow: auto;\n",
       "}\n",
       "\n",
       "#sk-container-id-2 input.sk-toggleable__control:checked~label.sk-toggleable__label-arrow:before {\n",
       "  content: \"▾\";\n",
       "}\n",
       "\n",
       "/* Pipeline/ColumnTransformer-specific style */\n",
       "\n",
       "#sk-container-id-2 div.sk-label input.sk-toggleable__control:checked~label.sk-toggleable__label {\n",
       "  color: var(--sklearn-color-text);\n",
       "  background-color: var(--sklearn-color-unfitted-level-2);\n",
       "}\n",
       "\n",
       "#sk-container-id-2 div.sk-label.fitted input.sk-toggleable__control:checked~label.sk-toggleable__label {\n",
       "  background-color: var(--sklearn-color-fitted-level-2);\n",
       "}\n",
       "\n",
       "/* Estimator-specific style */\n",
       "\n",
       "/* Colorize estimator box */\n",
       "#sk-container-id-2 div.sk-estimator input.sk-toggleable__control:checked~label.sk-toggleable__label {\n",
       "  /* unfitted */\n",
       "  background-color: var(--sklearn-color-unfitted-level-2);\n",
       "}\n",
       "\n",
       "#sk-container-id-2 div.sk-estimator.fitted input.sk-toggleable__control:checked~label.sk-toggleable__label {\n",
       "  /* fitted */\n",
       "  background-color: var(--sklearn-color-fitted-level-2);\n",
       "}\n",
       "\n",
       "#sk-container-id-2 div.sk-label label.sk-toggleable__label,\n",
       "#sk-container-id-2 div.sk-label label {\n",
       "  /* The background is the default theme color */\n",
       "  color: var(--sklearn-color-text-on-default-background);\n",
       "}\n",
       "\n",
       "/* On hover, darken the color of the background */\n",
       "#sk-container-id-2 div.sk-label:hover label.sk-toggleable__label {\n",
       "  color: var(--sklearn-color-text);\n",
       "  background-color: var(--sklearn-color-unfitted-level-2);\n",
       "}\n",
       "\n",
       "/* Label box, darken color on hover, fitted */\n",
       "#sk-container-id-2 div.sk-label.fitted:hover label.sk-toggleable__label.fitted {\n",
       "  color: var(--sklearn-color-text);\n",
       "  background-color: var(--sklearn-color-fitted-level-2);\n",
       "}\n",
       "\n",
       "/* Estimator label */\n",
       "\n",
       "#sk-container-id-2 div.sk-label label {\n",
       "  font-family: monospace;\n",
       "  font-weight: bold;\n",
       "  display: inline-block;\n",
       "  line-height: 1.2em;\n",
       "}\n",
       "\n",
       "#sk-container-id-2 div.sk-label-container {\n",
       "  text-align: center;\n",
       "}\n",
       "\n",
       "/* Estimator-specific */\n",
       "#sk-container-id-2 div.sk-estimator {\n",
       "  font-family: monospace;\n",
       "  border: 1px dotted var(--sklearn-color-border-box);\n",
       "  border-radius: 0.25em;\n",
       "  box-sizing: border-box;\n",
       "  margin-bottom: 0.5em;\n",
       "  /* unfitted */\n",
       "  background-color: var(--sklearn-color-unfitted-level-0);\n",
       "}\n",
       "\n",
       "#sk-container-id-2 div.sk-estimator.fitted {\n",
       "  /* fitted */\n",
       "  background-color: var(--sklearn-color-fitted-level-0);\n",
       "}\n",
       "\n",
       "/* on hover */\n",
       "#sk-container-id-2 div.sk-estimator:hover {\n",
       "  /* unfitted */\n",
       "  background-color: var(--sklearn-color-unfitted-level-2);\n",
       "}\n",
       "\n",
       "#sk-container-id-2 div.sk-estimator.fitted:hover {\n",
       "  /* fitted */\n",
       "  background-color: var(--sklearn-color-fitted-level-2);\n",
       "}\n",
       "\n",
       "/* Specification for estimator info (e.g. \"i\" and \"?\") */\n",
       "\n",
       "/* Common style for \"i\" and \"?\" */\n",
       "\n",
       ".sk-estimator-doc-link,\n",
       "a:link.sk-estimator-doc-link,\n",
       "a:visited.sk-estimator-doc-link {\n",
       "  float: right;\n",
       "  font-size: smaller;\n",
       "  line-height: 1em;\n",
       "  font-family: monospace;\n",
       "  background-color: var(--sklearn-color-background);\n",
       "  border-radius: 1em;\n",
       "  height: 1em;\n",
       "  width: 1em;\n",
       "  text-decoration: none !important;\n",
       "  margin-left: 1ex;\n",
       "  /* unfitted */\n",
       "  border: var(--sklearn-color-unfitted-level-1) 1pt solid;\n",
       "  color: var(--sklearn-color-unfitted-level-1);\n",
       "}\n",
       "\n",
       ".sk-estimator-doc-link.fitted,\n",
       "a:link.sk-estimator-doc-link.fitted,\n",
       "a:visited.sk-estimator-doc-link.fitted {\n",
       "  /* fitted */\n",
       "  border: var(--sklearn-color-fitted-level-1) 1pt solid;\n",
       "  color: var(--sklearn-color-fitted-level-1);\n",
       "}\n",
       "\n",
       "/* On hover */\n",
       "div.sk-estimator:hover .sk-estimator-doc-link:hover,\n",
       ".sk-estimator-doc-link:hover,\n",
       "div.sk-label-container:hover .sk-estimator-doc-link:hover,\n",
       ".sk-estimator-doc-link:hover {\n",
       "  /* unfitted */\n",
       "  background-color: var(--sklearn-color-unfitted-level-3);\n",
       "  color: var(--sklearn-color-background);\n",
       "  text-decoration: none;\n",
       "}\n",
       "\n",
       "div.sk-estimator.fitted:hover .sk-estimator-doc-link.fitted:hover,\n",
       ".sk-estimator-doc-link.fitted:hover,\n",
       "div.sk-label-container:hover .sk-estimator-doc-link.fitted:hover,\n",
       ".sk-estimator-doc-link.fitted:hover {\n",
       "  /* fitted */\n",
       "  background-color: var(--sklearn-color-fitted-level-3);\n",
       "  color: var(--sklearn-color-background);\n",
       "  text-decoration: none;\n",
       "}\n",
       "\n",
       "/* Span, style for the box shown on hovering the info icon */\n",
       ".sk-estimator-doc-link span {\n",
       "  display: none;\n",
       "  z-index: 9999;\n",
       "  position: relative;\n",
       "  font-weight: normal;\n",
       "  right: .2ex;\n",
       "  padding: .5ex;\n",
       "  margin: .5ex;\n",
       "  width: min-content;\n",
       "  min-width: 20ex;\n",
       "  max-width: 50ex;\n",
       "  color: var(--sklearn-color-text);\n",
       "  box-shadow: 2pt 2pt 4pt #999;\n",
       "  /* unfitted */\n",
       "  background: var(--sklearn-color-unfitted-level-0);\n",
       "  border: .5pt solid var(--sklearn-color-unfitted-level-3);\n",
       "}\n",
       "\n",
       ".sk-estimator-doc-link.fitted span {\n",
       "  /* fitted */\n",
       "  background: var(--sklearn-color-fitted-level-0);\n",
       "  border: var(--sklearn-color-fitted-level-3);\n",
       "}\n",
       "\n",
       ".sk-estimator-doc-link:hover span {\n",
       "  display: block;\n",
       "}\n",
       "\n",
       "/* \"?\"-specific style due to the `<a>` HTML tag */\n",
       "\n",
       "#sk-container-id-2 a.estimator_doc_link {\n",
       "  float: right;\n",
       "  font-size: 1rem;\n",
       "  line-height: 1em;\n",
       "  font-family: monospace;\n",
       "  background-color: var(--sklearn-color-background);\n",
       "  border-radius: 1rem;\n",
       "  height: 1rem;\n",
       "  width: 1rem;\n",
       "  text-decoration: none;\n",
       "  /* unfitted */\n",
       "  color: var(--sklearn-color-unfitted-level-1);\n",
       "  border: var(--sklearn-color-unfitted-level-1) 1pt solid;\n",
       "}\n",
       "\n",
       "#sk-container-id-2 a.estimator_doc_link.fitted {\n",
       "  /* fitted */\n",
       "  border: var(--sklearn-color-fitted-level-1) 1pt solid;\n",
       "  color: var(--sklearn-color-fitted-level-1);\n",
       "}\n",
       "\n",
       "/* On hover */\n",
       "#sk-container-id-2 a.estimator_doc_link:hover {\n",
       "  /* unfitted */\n",
       "  background-color: var(--sklearn-color-unfitted-level-3);\n",
       "  color: var(--sklearn-color-background);\n",
       "  text-decoration: none;\n",
       "}\n",
       "\n",
       "#sk-container-id-2 a.estimator_doc_link.fitted:hover {\n",
       "  /* fitted */\n",
       "  background-color: var(--sklearn-color-fitted-level-3);\n",
       "}\n",
       "</style><div id=\"sk-container-id-2\" class=\"sk-top-container\"><div class=\"sk-text-repr-fallback\"><pre>RandomizedSearchCV(cv=TimeSeriesSplit(gap=0, max_train_size=None, n_splits=5, test_size=None),\n",
       "                   estimator=RandomForestRegressor(), n_jobs=-1,\n",
       "                   param_distributions={&#x27;max_depth&#x27;: array([5, 6, 7, 8, 9]),\n",
       "                                        &#x27;min_impurity_decrease&#x27;: array([0.0001, 0.0002, 0.0003, 0.0004, 0.0005]),\n",
       "                                        &#x27;min_samples_leaf&#x27;: array([1, 2, 3, 4]),\n",
       "                                        &#x27;min_samples_split&#x27;: array([2, 3, 4, 5, 6, 7, 8, 9]),\n",
       "                                        &#x27;n_estimators&#x27;...\n",
       "       217, 218, 219, 220, 221, 222, 223, 224, 225, 226, 227, 228, 229,\n",
       "       230, 231, 232, 233, 234, 235, 236, 237, 238, 239, 240, 241, 242,\n",
       "       243, 244, 245, 246, 247, 248, 249, 250, 251, 252, 253, 254, 255,\n",
       "       256, 257, 258, 259, 260, 261, 262, 263, 264, 265, 266, 267, 268,\n",
       "       269, 270, 271, 272, 273, 274, 275, 276, 277, 278, 279, 280, 281,\n",
       "       282, 283, 284, 285, 286, 287, 288, 289, 290, 291, 292, 293, 294,\n",
       "       295, 296, 297, 298, 299])},\n",
       "                   random_state=42)</pre><b>In a Jupyter environment, please rerun this cell to show the HTML representation or trust the notebook. <br />On GitHub, the HTML representation is unable to render, please try loading this page with nbviewer.org.</b></div><div class=\"sk-container\" hidden><div class=\"sk-item sk-dashed-wrapped\"><div class=\"sk-label-container\"><div class=\"sk-label fitted sk-toggleable\"><input class=\"sk-toggleable__control sk-hidden--visually\" id=\"sk-estimator-id-2\" type=\"checkbox\" ><label for=\"sk-estimator-id-2\" class=\"sk-toggleable__label fitted sk-toggleable__label-arrow fitted\">&nbsp;&nbsp;RandomizedSearchCV<a class=\"sk-estimator-doc-link fitted\" rel=\"noreferrer\" target=\"_blank\" href=\"https://scikit-learn.org/1.5/modules/generated/sklearn.model_selection.RandomizedSearchCV.html\">?<span>Documentation for RandomizedSearchCV</span></a><span class=\"sk-estimator-doc-link fitted\">i<span>Fitted</span></span></label><div class=\"sk-toggleable__content fitted\"><pre>RandomizedSearchCV(cv=TimeSeriesSplit(gap=0, max_train_size=None, n_splits=5, test_size=None),\n",
       "                   estimator=RandomForestRegressor(), n_jobs=-1,\n",
       "                   param_distributions={&#x27;max_depth&#x27;: array([5, 6, 7, 8, 9]),\n",
       "                                        &#x27;min_impurity_decrease&#x27;: array([0.0001, 0.0002, 0.0003, 0.0004, 0.0005]),\n",
       "                                        &#x27;min_samples_leaf&#x27;: array([1, 2, 3, 4]),\n",
       "                                        &#x27;min_samples_split&#x27;: array([2, 3, 4, 5, 6, 7, 8, 9]),\n",
       "                                        &#x27;n_estimators&#x27;...\n",
       "       217, 218, 219, 220, 221, 222, 223, 224, 225, 226, 227, 228, 229,\n",
       "       230, 231, 232, 233, 234, 235, 236, 237, 238, 239, 240, 241, 242,\n",
       "       243, 244, 245, 246, 247, 248, 249, 250, 251, 252, 253, 254, 255,\n",
       "       256, 257, 258, 259, 260, 261, 262, 263, 264, 265, 266, 267, 268,\n",
       "       269, 270, 271, 272, 273, 274, 275, 276, 277, 278, 279, 280, 281,\n",
       "       282, 283, 284, 285, 286, 287, 288, 289, 290, 291, 292, 293, 294,\n",
       "       295, 296, 297, 298, 299])},\n",
       "                   random_state=42)</pre></div> </div></div><div class=\"sk-parallel\"><div class=\"sk-parallel-item\"><div class=\"sk-item\"><div class=\"sk-label-container\"><div class=\"sk-label fitted sk-toggleable\"><input class=\"sk-toggleable__control sk-hidden--visually\" id=\"sk-estimator-id-3\" type=\"checkbox\" ><label for=\"sk-estimator-id-3\" class=\"sk-toggleable__label fitted sk-toggleable__label-arrow fitted\">best_estimator_: RandomForestRegressor</label><div class=\"sk-toggleable__content fitted\"><pre>RandomForestRegressor(max_depth=8, min_impurity_decrease=0.0005,\n",
       "                      min_samples_split=3, n_estimators=258)</pre></div> </div></div><div class=\"sk-serial\"><div class=\"sk-item\"><div class=\"sk-estimator fitted sk-toggleable\"><input class=\"sk-toggleable__control sk-hidden--visually\" id=\"sk-estimator-id-4\" type=\"checkbox\" ><label for=\"sk-estimator-id-4\" class=\"sk-toggleable__label fitted sk-toggleable__label-arrow fitted\">&nbsp;RandomForestRegressor<a class=\"sk-estimator-doc-link fitted\" rel=\"noreferrer\" target=\"_blank\" href=\"https://scikit-learn.org/1.5/modules/generated/sklearn.ensemble.RandomForestRegressor.html\">?<span>Documentation for RandomForestRegressor</span></a></label><div class=\"sk-toggleable__content fitted\"><pre>RandomForestRegressor(max_depth=8, min_impurity_decrease=0.0005,\n",
       "                      min_samples_split=3, n_estimators=258)</pre></div> </div></div></div></div></div></div></div></div></div>"
      ],
      "text/plain": [
       "RandomizedSearchCV(cv=TimeSeriesSplit(gap=0, max_train_size=None, n_splits=5, test_size=None),\n",
       "                   estimator=RandomForestRegressor(), n_jobs=-1,\n",
       "                   param_distributions={'max_depth': array([5, 6, 7, 8, 9]),\n",
       "                                        'min_impurity_decrease': array([0.0001, 0.0002, 0.0003, 0.0004, 0.0005]),\n",
       "                                        'min_samples_leaf': array([1, 2, 3, 4]),\n",
       "                                        'min_samples_split': array([2, 3, 4, 5, 6, 7, 8, 9]),\n",
       "                                        'n_estimators'...\n",
       "       217, 218, 219, 220, 221, 222, 223, 224, 225, 226, 227, 228, 229,\n",
       "       230, 231, 232, 233, 234, 235, 236, 237, 238, 239, 240, 241, 242,\n",
       "       243, 244, 245, 246, 247, 248, 249, 250, 251, 252, 253, 254, 255,\n",
       "       256, 257, 258, 259, 260, 261, 262, 263, 264, 265, 266, 267, 268,\n",
       "       269, 270, 271, 272, 273, 274, 275, 276, 277, 278, 279, 280, 281,\n",
       "       282, 283, 284, 285, 286, 287, 288, 289, 290, 291, 292, 293, 294,\n",
       "       295, 296, 297, 298, 299])},\n",
       "                   random_state=42)"
      ]
     },
     "execution_count": 395,
     "metadata": {},
     "output_type": "execute_result"
    }
   ],
   "source": [
    "rs=RandomizedSearchCV(RandomForestRegressor(), \n",
    "                      params,  \n",
    "                      n_jobs=-1, \n",
    "                      cv=tscv, \n",
    "                      random_state=42)\n",
    "rs.fit(X_train_flat, Y_train)"
   ]
  },
  {
   "cell_type": "code",
   "execution_count": 399,
   "id": "ba382495-4846-4eeb-a2ca-266e8b245926",
   "metadata": {},
   "outputs": [
    {
     "name": "stdout",
     "output_type": "stream",
     "text": [
      "{'n_estimators': 258, 'min_samples_split': 3, 'min_samples_leaf': 1, 'min_impurity_decrease': 0.0005, 'max_depth': 8}\n",
      "-3.380448738135673\n"
     ]
    }
   ],
   "source": [
    "print(rs.best_params_)        # 최적의 하이퍼파라미터 조합을 출력\n",
    "print(rs.best_score_)         # 그 최적의 조합에서 교차 검증으로 얻어진 평균 점수  "
   ]
  },
  {
   "cell_type": "code",
   "execution_count": 401,
   "id": "1e052bf2-cc16-4774-a6ea-a602f4f4b7a2",
   "metadata": {},
   "outputs": [
    {
     "data": {
      "text/plain": [
       "(0.7276234259971781, 0.3211348141722329)"
      ]
     },
     "execution_count": 401,
     "metadata": {},
     "output_type": "execute_result"
    }
   ],
   "source": [
    "rs_best=rs.best_estimator_\n",
    "rs_best.score(X_train_flat, Y_train), rs_best.score(X_test_flat, Y_test)"
   ]
  },
  {
   "cell_type": "markdown",
   "id": "9c1e63d8-7f9e-4044-8860-591f24617a05",
   "metadata": {},
   "source": [
    "## LinearRegression\n",
    "### 전처리"
   ]
  },
  {
   "cell_type": "code",
   "execution_count": 404,
   "id": "f58e9831-7a3e-4790-8aa0-53e775bde974",
   "metadata": {},
   "outputs": [],
   "source": [
    "cabbage_copy=cabbage.copy()"
   ]
  },
  {
   "cell_type": "code",
   "execution_count": 406,
   "id": "c54a31d8-c57a-49ac-aaf2-b3310ba90338",
   "metadata": {},
   "outputs": [
    {
     "data": {
      "text/html": [
       "<div>\n",
       "<style scoped>\n",
       "    .dataframe tbody tr th:only-of-type {\n",
       "        vertical-align: middle;\n",
       "    }\n",
       "\n",
       "    .dataframe tbody tr th {\n",
       "        vertical-align: top;\n",
       "    }\n",
       "\n",
       "    .dataframe thead th {\n",
       "        text-align: right;\n",
       "    }\n",
       "</style>\n",
       "<table border=\"1\" class=\"dataframe\">\n",
       "  <thead>\n",
       "    <tr style=\"text-align: right;\">\n",
       "      <th></th>\n",
       "      <th>지점</th>\n",
       "      <th>평균기온</th>\n",
       "      <th>최저기온</th>\n",
       "      <th>최고기온</th>\n",
       "      <th>품목코드</th>\n",
       "      <th>품목명</th>\n",
       "      <th>소매일일가격</th>\n",
       "    </tr>\n",
       "    <tr>\n",
       "      <th>조회일자</th>\n",
       "      <th></th>\n",
       "      <th></th>\n",
       "      <th></th>\n",
       "      <th></th>\n",
       "      <th></th>\n",
       "      <th></th>\n",
       "      <th></th>\n",
       "    </tr>\n",
       "  </thead>\n",
       "  <tbody>\n",
       "    <tr>\n",
       "      <th>2019-10-11</th>\n",
       "      <td>전국</td>\n",
       "      <td>17.7</td>\n",
       "      <td>11.4</td>\n",
       "      <td>24.7</td>\n",
       "      <td>1001.0</td>\n",
       "      <td>배추</td>\n",
       "      <td>6968.0</td>\n",
       "    </tr>\n",
       "    <tr>\n",
       "      <th>2019-10-12</th>\n",
       "      <td>전국</td>\n",
       "      <td>17.8</td>\n",
       "      <td>13.3</td>\n",
       "      <td>23.1</td>\n",
       "      <td>1001.0</td>\n",
       "      <td>배추</td>\n",
       "      <td>6968.0</td>\n",
       "    </tr>\n",
       "    <tr>\n",
       "      <th>2019-10-13</th>\n",
       "      <td>전국</td>\n",
       "      <td>15.6</td>\n",
       "      <td>10.3</td>\n",
       "      <td>22.0</td>\n",
       "      <td>1001.0</td>\n",
       "      <td>배추</td>\n",
       "      <td>6968.0</td>\n",
       "    </tr>\n",
       "    <tr>\n",
       "      <th>2019-10-14</th>\n",
       "      <td>전국</td>\n",
       "      <td>14.4</td>\n",
       "      <td>9.0</td>\n",
       "      <td>21.2</td>\n",
       "      <td>1001.0</td>\n",
       "      <td>배추</td>\n",
       "      <td>6826.0</td>\n",
       "    </tr>\n",
       "    <tr>\n",
       "      <th>2019-10-15</th>\n",
       "      <td>전국</td>\n",
       "      <td>13.1</td>\n",
       "      <td>8.3</td>\n",
       "      <td>18.6</td>\n",
       "      <td>1001.0</td>\n",
       "      <td>배추</td>\n",
       "      <td>6786.0</td>\n",
       "    </tr>\n",
       "  </tbody>\n",
       "</table>\n",
       "</div>"
      ],
      "text/plain": [
       "            지점  평균기온  최저기온  최고기온    품목코드 품목명  소매일일가격\n",
       "조회일자                                                \n",
       "2019-10-11  전국  17.7  11.4  24.7  1001.0  배추  6968.0\n",
       "2019-10-12  전국  17.8  13.3  23.1  1001.0  배추  6968.0\n",
       "2019-10-13  전국  15.6  10.3  22.0  1001.0  배추  6968.0\n",
       "2019-10-14  전국  14.4   9.0  21.2  1001.0  배추  6826.0\n",
       "2019-10-15  전국  13.1   8.3  18.6  1001.0  배추  6786.0"
      ]
     },
     "execution_count": 406,
     "metadata": {},
     "output_type": "execute_result"
    }
   ],
   "source": [
    "cabbage_copy.head()"
   ]
  },
  {
   "cell_type": "code",
   "execution_count": 408,
   "id": "d009f5b1-3e62-41fc-9a9b-605d20a1ffd4",
   "metadata": {},
   "outputs": [
    {
     "data": {
      "image/png": "[encoded data removed]",
      "text/plain": [
       "<Figure size 1000x800 with 4 Axes>"
      ]
     },
     "metadata": {},
     "output_type": "display_data"
    }
   ],
   "source": [
    "decomposetion=tsa.seasonal_decompose(cabbage_copy['소매일일가격'], model='additive', period=12)    # 12, 7, 24\n",
    "fig=decomposetion.plot()\n",
    "fig.set_size_inches(10, 8)\n",
    "plt.show()"
   ]
  },
  {
   "cell_type": "code",
   "execution_count": 409,
   "id": "1214040b-4d39-49d0-96d7-4ab281c6e267",
   "metadata": {},
   "outputs": [
    {
     "data": {
      "image/png": "[encoded data removed]",
      "text/plain": [
       "<Figure size 1000x500 with 2 Axes>"
      ]
     },
     "metadata": {},
     "output_type": "display_data"
    }
   ],
   "source": [
    "fig, ax=plt.subplots(1, 2, figsize=(10, 5))\n",
    "plot_acf(cabbage_copy['소매일일가격'], lags=30, ax=ax[0])         # ACF 플롯\n",
    "plot_pacf(cabbage_copy['소매일일가격'], lags=30, ax=ax[1])        # PACF 플롯\n",
    "plt.show()"
   ]
  },
  {
   "cell_type": "code",
   "execution_count": 412,
   "id": "638ea56e-0567-495d-84ed-b7f1cc061a4a",
   "metadata": {},
   "outputs": [],
   "source": [
    "cabbage_copy['소매일일가격차분']=cabbage_copy['소매일일가격'].diff()\n",
    "cabbage_copy.dropna(inplace=True)"
   ]
  },
  {
   "cell_type": "code",
   "execution_count": 414,
   "id": "224948e2-25ca-4ce8-86dd-a85918389941",
   "metadata": {},
   "outputs": [
    {
     "data": {
      "image/png": "[encoded data removed]",
      "text/plain": [
       "<Figure size 1000x500 with 2 Axes>"
      ]
     },
     "metadata": {},
     "output_type": "display_data"
    }
   ],
   "source": [
    "fig, ax=plt.subplots(1, 2, figsize=(10, 5))\n",
    "plot_acf(cabbage_copy['소매일일가격차분'], lags=30, ax=ax[0])         # ACF 플롯\n",
    "plot_pacf(cabbage_copy['소매일일가격차분'], lags=30, ax=ax[1])        # PACF 플롯\n",
    "plt.show()"
   ]
  },
  {
   "cell_type": "code",
   "execution_count": 416,
   "id": "e0c6fd4d-5cd7-4ab8-b7ce-9cedd0c65e8b",
   "metadata": {},
   "outputs": [
    {
     "data": {
      "text/html": [
       "<div>\n",
       "<style scoped>\n",
       "    .dataframe tbody tr th:only-of-type {\n",
       "        vertical-align: middle;\n",
       "    }\n",
       "\n",
       "    .dataframe tbody tr th {\n",
       "        vertical-align: top;\n",
       "    }\n",
       "\n",
       "    .dataframe thead th {\n",
       "        text-align: right;\n",
       "    }\n",
       "</style>\n",
       "<table border=\"1\" class=\"dataframe\">\n",
       "  <thead>\n",
       "    <tr style=\"text-align: right;\">\n",
       "      <th></th>\n",
       "      <th>지점</th>\n",
       "      <th>평균기온</th>\n",
       "      <th>최저기온</th>\n",
       "      <th>최고기온</th>\n",
       "      <th>품목코드</th>\n",
       "      <th>품목명</th>\n",
       "      <th>소매일일가격</th>\n",
       "      <th>소매일일가격차분</th>\n",
       "    </tr>\n",
       "    <tr>\n",
       "      <th>조회일자</th>\n",
       "      <th></th>\n",
       "      <th></th>\n",
       "      <th></th>\n",
       "      <th></th>\n",
       "      <th></th>\n",
       "      <th></th>\n",
       "      <th></th>\n",
       "      <th></th>\n",
       "    </tr>\n",
       "  </thead>\n",
       "  <tbody>\n",
       "    <tr>\n",
       "      <th>2019-10-12</th>\n",
       "      <td>전국</td>\n",
       "      <td>17.8</td>\n",
       "      <td>13.3</td>\n",
       "      <td>23.1</td>\n",
       "      <td>1001.0</td>\n",
       "      <td>배추</td>\n",
       "      <td>6968.0</td>\n",
       "      <td>0.0</td>\n",
       "    </tr>\n",
       "    <tr>\n",
       "      <th>2019-10-13</th>\n",
       "      <td>전국</td>\n",
       "      <td>15.6</td>\n",
       "      <td>10.3</td>\n",
       "      <td>22.0</td>\n",
       "      <td>1001.0</td>\n",
       "      <td>배추</td>\n",
       "      <td>6968.0</td>\n",
       "      <td>0.0</td>\n",
       "    </tr>\n",
       "    <tr>\n",
       "      <th>2019-10-14</th>\n",
       "      <td>전국</td>\n",
       "      <td>14.4</td>\n",
       "      <td>9.0</td>\n",
       "      <td>21.2</td>\n",
       "      <td>1001.0</td>\n",
       "      <td>배추</td>\n",
       "      <td>6826.0</td>\n",
       "      <td>-142.0</td>\n",
       "    </tr>\n",
       "    <tr>\n",
       "      <th>2019-10-15</th>\n",
       "      <td>전국</td>\n",
       "      <td>13.1</td>\n",
       "      <td>8.3</td>\n",
       "      <td>18.6</td>\n",
       "      <td>1001.0</td>\n",
       "      <td>배추</td>\n",
       "      <td>6786.0</td>\n",
       "      <td>-40.0</td>\n",
       "    </tr>\n",
       "    <tr>\n",
       "      <th>2019-10-16</th>\n",
       "      <td>전국</td>\n",
       "      <td>13.0</td>\n",
       "      <td>7.8</td>\n",
       "      <td>20.2</td>\n",
       "      <td>1001.0</td>\n",
       "      <td>배추</td>\n",
       "      <td>6626.0</td>\n",
       "      <td>-160.0</td>\n",
       "    </tr>\n",
       "  </tbody>\n",
       "</table>\n",
       "</div>"
      ],
      "text/plain": [
       "            지점  평균기온  최저기온  최고기온    품목코드 품목명  소매일일가격  소매일일가격차분\n",
       "조회일자                                                          \n",
       "2019-10-12  전국  17.8  13.3  23.1  1001.0  배추  6968.0       0.0\n",
       "2019-10-13  전국  15.6  10.3  22.0  1001.0  배추  6968.0       0.0\n",
       "2019-10-14  전국  14.4   9.0  21.2  1001.0  배추  6826.0    -142.0\n",
       "2019-10-15  전국  13.1   8.3  18.6  1001.0  배추  6786.0     -40.0\n",
       "2019-10-16  전국  13.0   7.8  20.2  1001.0  배추  6626.0    -160.0"
      ]
     },
     "execution_count": 416,
     "metadata": {},
     "output_type": "execute_result"
    }
   ],
   "source": [
    "cabbage_copy.head()"
   ]
  },
  {
   "cell_type": "code",
   "execution_count": 418,
   "id": "e036317a-816d-484b-8e1f-22b300551852",
   "metadata": {},
   "outputs": [
    {
     "data": {
      "text/html": [
       "<div>\n",
       "<style scoped>\n",
       "    .dataframe tbody tr th:only-of-type {\n",
       "        vertical-align: middle;\n",
       "    }\n",
       "\n",
       "    .dataframe tbody tr th {\n",
       "        vertical-align: top;\n",
       "    }\n",
       "\n",
       "    .dataframe thead th {\n",
       "        text-align: right;\n",
       "    }\n",
       "</style>\n",
       "<table border=\"1\" class=\"dataframe\">\n",
       "  <thead>\n",
       "    <tr style=\"text-align: right;\">\n",
       "      <th></th>\n",
       "      <th>평균기온</th>\n",
       "      <th>최저기온</th>\n",
       "      <th>최고기온</th>\n",
       "      <th>소매일일가격</th>\n",
       "      <th>소매일일가격차분</th>\n",
       "    </tr>\n",
       "    <tr>\n",
       "      <th>조회일자</th>\n",
       "      <th></th>\n",
       "      <th></th>\n",
       "      <th></th>\n",
       "      <th></th>\n",
       "      <th></th>\n",
       "    </tr>\n",
       "  </thead>\n",
       "  <tbody>\n",
       "    <tr>\n",
       "      <th>2019-10-12</th>\n",
       "      <td>17.8</td>\n",
       "      <td>13.3</td>\n",
       "      <td>23.1</td>\n",
       "      <td>6968.0</td>\n",
       "      <td>0.0</td>\n",
       "    </tr>\n",
       "    <tr>\n",
       "      <th>2019-10-13</th>\n",
       "      <td>15.6</td>\n",
       "      <td>10.3</td>\n",
       "      <td>22.0</td>\n",
       "      <td>6968.0</td>\n",
       "      <td>0.0</td>\n",
       "    </tr>\n",
       "    <tr>\n",
       "      <th>2019-10-14</th>\n",
       "      <td>14.4</td>\n",
       "      <td>9.0</td>\n",
       "      <td>21.2</td>\n",
       "      <td>6826.0</td>\n",
       "      <td>-142.0</td>\n",
       "    </tr>\n",
       "    <tr>\n",
       "      <th>2019-10-15</th>\n",
       "      <td>13.1</td>\n",
       "      <td>8.3</td>\n",
       "      <td>18.6</td>\n",
       "      <td>6786.0</td>\n",
       "      <td>-40.0</td>\n",
       "    </tr>\n",
       "    <tr>\n",
       "      <th>2019-10-16</th>\n",
       "      <td>13.0</td>\n",
       "      <td>7.8</td>\n",
       "      <td>20.2</td>\n",
       "      <td>6626.0</td>\n",
       "      <td>-160.0</td>\n",
       "    </tr>\n",
       "  </tbody>\n",
       "</table>\n",
       "</div>"
      ],
      "text/plain": [
       "            평균기온  최저기온  최고기온  소매일일가격  소매일일가격차분\n",
       "조회일자                                          \n",
       "2019-10-12  17.8  13.3  23.1  6968.0       0.0\n",
       "2019-10-13  15.6  10.3  22.0  6968.0       0.0\n",
       "2019-10-14  14.4   9.0  21.2  6826.0    -142.0\n",
       "2019-10-15  13.1   8.3  18.6  6786.0     -40.0\n",
       "2019-10-16  13.0   7.8  20.2  6626.0    -160.0"
      ]
     },
     "execution_count": 418,
     "metadata": {},
     "output_type": "execute_result"
    }
   ],
   "source": [
    "cabbage_copy=cabbage_copy[['평균기온', '최저기온', '최고기온', '소매일일가격', '소매일일가격차분']]\n",
    "cabbage_copy.head()"
   ]
  },
  {
   "cell_type": "code",
   "execution_count": 420,
   "id": "2d2ab34e-ea1a-487f-b359-c6a829b745eb",
   "metadata": {},
   "outputs": [],
   "source": [
    "standard_scaler=StandardScaler()\n",
    "standard_scaled=min_max_scaler.fit_transform(cabbage_copy)"
   ]
  },
  {
   "cell_type": "code",
   "execution_count": 422,
   "id": "3d54bf75-c484-430f-a3a6-c4555da7b1a0",
   "metadata": {},
   "outputs": [
    {
     "name": "stdout",
     "output_type": "stream",
     "text": [
      "(935, 5) (401, 5)\n"
     ]
    }
   ],
   "source": [
    "train_data, test_data=train_test_split(standard_scaled, test_size=0.3, shuffle=False)\n",
    "print(train_data.shape, test_data.shape)"
   ]
  },
  {
   "cell_type": "code",
   "execution_count": 424,
   "id": "d1d3e5f0-d383-4fc7-815c-0740914f0e03",
   "metadata": {},
   "outputs": [
    {
     "data": {
      "text/plain": [
       "((920, 15, 4), (920,))"
      ]
     },
     "execution_count": 424,
     "metadata": {},
     "output_type": "execute_result"
    }
   ],
   "source": [
    "seq_length=15   # 과거 15일의 날씨 데이터를 보고, 다음 날 가격을 예측\n",
    "\n",
    "X_train, Y_train=make_sample(train_data, seq_length)\n",
    "X_train.shape, Y_train.shape"
   ]
  },
  {
   "cell_type": "code",
   "execution_count": 426,
   "id": "008e64e8-96a8-41c6-8eb0-f52404bcf0be",
   "metadata": {},
   "outputs": [
    {
     "data": {
      "text/plain": [
       "((920, 60), (920,))"
      ]
     },
     "execution_count": 426,
     "metadata": {},
     "output_type": "execute_result"
    }
   ],
   "source": [
    "# 차원 변환\n",
    "X_train_flat=X_train.reshape(X_train.shape[0], -1)\n",
    "X_train_flat.shape,  Y_train.shape"
   ]
  },
  {
   "cell_type": "markdown",
   "id": "89a4c048-5ef7-4a72-9e83-f6617c3d84d1",
   "metadata": {},
   "source": [
    "### 학습 및 평가"
   ]
  },
  {
   "cell_type": "code",
   "execution_count": 429,
   "id": "b08e3232-1b5e-4e54-980a-acdbdb840deb",
   "metadata": {},
   "outputs": [
    {
     "data": {
      "text/html": [
       "<style>#sk-container-id-3 {\n",
       "  /* Definition of color scheme common for light and dark mode */\n",
       "  --sklearn-color-text: black;\n",
       "  --sklearn-color-line: gray;\n",
       "  /* Definition of color scheme for unfitted estimators */\n",
       "  --sklearn-color-unfitted-level-0: #fff5e6;\n",
       "  --sklearn-color-unfitted-level-1: #f6e4d2;\n",
       "  --sklearn-color-unfitted-level-2: #ffe0b3;\n",
       "  --sklearn-color-unfitted-level-3: chocolate;\n",
       "  /* Definition of color scheme for fitted estimators */\n",
       "  --sklearn-color-fitted-level-0: #f0f8ff;\n",
       "  --sklearn-color-fitted-level-1: #d4ebff;\n",
       "  --sklearn-color-fitted-level-2: #b3dbfd;\n",
       "  --sklearn-color-fitted-level-3: cornflowerblue;\n",
       "\n",
       "  /* Specific color for light theme */\n",
       "  --sklearn-color-text-on-default-background: var(--sg-text-color, var(--theme-code-foreground, var(--jp-content-font-color1, black)));\n",
       "  --sklearn-color-background: var(--sg-background-color, var(--theme-background, var(--jp-layout-color0, white)));\n",
       "  --sklearn-color-border-box: var(--sg-text-color, var(--theme-code-foreground, var(--jp-content-font-color1, black)));\n",
       "  --sklearn-color-icon: #696969;\n",
       "\n",
       "  @media (prefers-color-scheme: dark) {\n",
       "    /* Redefinition of color scheme for dark theme */\n",
       "    --sklearn-color-text-on-default-background: var(--sg-text-color, var(--theme-code-foreground, var(--jp-content-font-color1, white)));\n",
       "    --sklearn-color-background: var(--sg-background-color, var(--theme-background, var(--jp-layout-color0, #111)));\n",
       "    --sklearn-color-border-box: var(--sg-text-color, var(--theme-code-foreground, var(--jp-content-font-color1, white)));\n",
       "    --sklearn-color-icon: #878787;\n",
       "  }\n",
       "}\n",
       "\n",
       "#sk-container-id-3 {\n",
       "  color: var(--sklearn-color-text);\n",
       "}\n",
       "\n",
       "#sk-container-id-3 pre {\n",
       "  padding: 0;\n",
       "}\n",
       "\n",
       "#sk-container-id-3 input.sk-hidden--visually {\n",
       "  border: 0;\n",
       "  clip: rect(1px 1px 1px 1px);\n",
       "  clip: rect(1px, 1px, 1px, 1px);\n",
       "  height: 1px;\n",
       "  margin: -1px;\n",
       "  overflow: hidden;\n",
       "  padding: 0;\n",
       "  position: absolute;\n",
       "  width: 1px;\n",
       "}\n",
       "\n",
       "#sk-container-id-3 div.sk-dashed-wrapped {\n",
       "  border: 1px dashed var(--sklearn-color-line);\n",
       "  margin: 0 0.4em 0.5em 0.4em;\n",
       "  box-sizing: border-box;\n",
       "  padding-bottom: 0.4em;\n",
       "  background-color: var(--sklearn-color-background);\n",
       "}\n",
       "\n",
       "#sk-container-id-3 div.sk-container {\n",
       "  /* jupyter's `normalize.less` sets `[hidden] { display: none; }`\n",
       "     but bootstrap.min.css set `[hidden] { display: none !important; }`\n",
       "     so we also need the `!important` here to be able to override the\n",
       "     default hidden behavior on the sphinx rendered scikit-learn.org.\n",
       "     See: https://github.com/scikit-learn/scikit-learn/issues/21755 */\n",
       "  display: inline-block !important;\n",
       "  position: relative;\n",
       "}\n",
       "\n",
       "#sk-container-id-3 div.sk-text-repr-fallback {\n",
       "  display: none;\n",
       "}\n",
       "\n",
       "div.sk-parallel-item,\n",
       "div.sk-serial,\n",
       "div.sk-item {\n",
       "  /* draw centered vertical line to link estimators */\n",
       "  background-image: linear-gradient(var(--sklearn-color-text-on-default-background), var(--sklearn-color-text-on-default-background));\n",
       "  background-size: 2px 100%;\n",
       "  background-repeat: no-repeat;\n",
       "  background-position: center center;\n",
       "}\n",
       "\n",
       "/* Parallel-specific style estimator block */\n",
       "\n",
       "#sk-container-id-3 div.sk-parallel-item::after {\n",
       "  content: \"\";\n",
       "  width: 100%;\n",
       "  border-bottom: 2px solid var(--sklearn-color-text-on-default-background);\n",
       "  flex-grow: 1;\n",
       "}\n",
       "\n",
       "#sk-container-id-3 div.sk-parallel {\n",
       "  display: flex;\n",
       "  align-items: stretch;\n",
       "  justify-content: center;\n",
       "  background-color: var(--sklearn-color-background);\n",
       "  position: relative;\n",
       "}\n",
       "\n",
       "#sk-container-id-3 div.sk-parallel-item {\n",
       "  display: flex;\n",
       "  flex-direction: column;\n",
       "}\n",
       "\n",
       "#sk-container-id-3 div.sk-parallel-item:first-child::after {\n",
       "  align-self: flex-end;\n",
       "  width: 50%;\n",
       "}\n",
       "\n",
       "#sk-container-id-3 div.sk-parallel-item:last-child::after {\n",
       "  align-self: flex-start;\n",
       "  width: 50%;\n",
       "}\n",
       "\n",
       "#sk-container-id-3 div.sk-parallel-item:only-child::after {\n",
       "  width: 0;\n",
       "}\n",
       "\n",
       "/* Serial-specific style estimator block */\n",
       "\n",
       "#sk-container-id-3 div.sk-serial {\n",
       "  display: flex;\n",
       "  flex-direction: column;\n",
       "  align-items: center;\n",
       "  background-color: var(--sklearn-color-background);\n",
       "  padding-right: 1em;\n",
       "  padding-left: 1em;\n",
       "}\n",
       "\n",
       "\n",
       "/* Toggleable style: style used for estimator/Pipeline/ColumnTransformer box that is\n",
       "clickable and can be expanded/collapsed.\n",
       "- Pipeline and ColumnTransformer use this feature and define the default style\n",
       "- Estimators will overwrite some part of the style using the `sk-estimator` class\n",
       "*/\n",
       "\n",
       "/* Pipeline and ColumnTransformer style (default) */\n",
       "\n",
       "#sk-container-id-3 div.sk-toggleable {\n",
       "  /* Default theme specific background. It is overwritten whether we have a\n",
       "  specific estimator or a Pipeline/ColumnTransformer */\n",
       "  background-color: var(--sklearn-color-background);\n",
       "}\n",
       "\n",
       "/* Toggleable label */\n",
       "#sk-container-id-3 label.sk-toggleable__label {\n",
       "  cursor: pointer;\n",
       "  display: block;\n",
       "  width: 100%;\n",
       "  margin-bottom: 0;\n",
       "  padding: 0.5em;\n",
       "  box-sizing: border-box;\n",
       "  text-align: center;\n",
       "}\n",
       "\n",
       "#sk-container-id-3 label.sk-toggleable__label-arrow:before {\n",
       "  /* Arrow on the left of the label */\n",
       "  content: \"▸\";\n",
       "  float: left;\n",
       "  margin-right: 0.25em;\n",
       "  color: var(--sklearn-color-icon);\n",
       "}\n",
       "\n",
       "#sk-container-id-3 label.sk-toggleable__label-arrow:hover:before {\n",
       "  color: var(--sklearn-color-text);\n",
       "}\n",
       "\n",
       "/* Toggleable content - dropdown */\n",
       "\n",
       "#sk-container-id-3 div.sk-toggleable__content {\n",
       "  max-height: 0;\n",
       "  max-width: 0;\n",
       "  overflow: hidden;\n",
       "  text-align: left;\n",
       "  /* unfitted */\n",
       "  background-color: var(--sklearn-color-unfitted-level-0);\n",
       "}\n",
       "\n",
       "#sk-container-id-3 div.sk-toggleable__content.fitted {\n",
       "  /* fitted */\n",
       "  background-color: var(--sklearn-color-fitted-level-0);\n",
       "}\n",
       "\n",
       "#sk-container-id-3 div.sk-toggleable__content pre {\n",
       "  margin: 0.2em;\n",
       "  border-radius: 0.25em;\n",
       "  color: var(--sklearn-color-text);\n",
       "  /* unfitted */\n",
       "  background-color: var(--sklearn-color-unfitted-level-0);\n",
       "}\n",
       "\n",
       "#sk-container-id-3 div.sk-toggleable__content.fitted pre {\n",
       "  /* unfitted */\n",
       "  background-color: var(--sklearn-color-fitted-level-0);\n",
       "}\n",
       "\n",
       "#sk-container-id-3 input.sk-toggleable__control:checked~div.sk-toggleable__content {\n",
       "  /* Expand drop-down */\n",
       "  max-height: 200px;\n",
       "  max-width: 100%;\n",
       "  overflow: auto;\n",
       "}\n",
       "\n",
       "#sk-container-id-3 input.sk-toggleable__control:checked~label.sk-toggleable__label-arrow:before {\n",
       "  content: \"▾\";\n",
       "}\n",
       "\n",
       "/* Pipeline/ColumnTransformer-specific style */\n",
       "\n",
       "#sk-container-id-3 div.sk-label input.sk-toggleable__control:checked~label.sk-toggleable__label {\n",
       "  color: var(--sklearn-color-text);\n",
       "  background-color: var(--sklearn-color-unfitted-level-2);\n",
       "}\n",
       "\n",
       "#sk-container-id-3 div.sk-label.fitted input.sk-toggleable__control:checked~label.sk-toggleable__label {\n",
       "  background-color: var(--sklearn-color-fitted-level-2);\n",
       "}\n",
       "\n",
       "/* Estimator-specific style */\n",
       "\n",
       "/* Colorize estimator box */\n",
       "#sk-container-id-3 div.sk-estimator input.sk-toggleable__control:checked~label.sk-toggleable__label {\n",
       "  /* unfitted */\n",
       "  background-color: var(--sklearn-color-unfitted-level-2);\n",
       "}\n",
       "\n",
       "#sk-container-id-3 div.sk-estimator.fitted input.sk-toggleable__control:checked~label.sk-toggleable__label {\n",
       "  /* fitted */\n",
       "  background-color: var(--sklearn-color-fitted-level-2);\n",
       "}\n",
       "\n",
       "#sk-container-id-3 div.sk-label label.sk-toggleable__label,\n",
       "#sk-container-id-3 div.sk-label label {\n",
       "  /* The background is the default theme color */\n",
       "  color: var(--sklearn-color-text-on-default-background);\n",
       "}\n",
       "\n",
       "/* On hover, darken the color of the background */\n",
       "#sk-container-id-3 div.sk-label:hover label.sk-toggleable__label {\n",
       "  color: var(--sklearn-color-text);\n",
       "  background-color: var(--sklearn-color-unfitted-level-2);\n",
       "}\n",
       "\n",
       "/* Label box, darken color on hover, fitted */\n",
       "#sk-container-id-3 div.sk-label.fitted:hover label.sk-toggleable__label.fitted {\n",
       "  color: var(--sklearn-color-text);\n",
       "  background-color: var(--sklearn-color-fitted-level-2);\n",
       "}\n",
       "\n",
       "/* Estimator label */\n",
       "\n",
       "#sk-container-id-3 div.sk-label label {\n",
       "  font-family: monospace;\n",
       "  font-weight: bold;\n",
       "  display: inline-block;\n",
       "  line-height: 1.2em;\n",
       "}\n",
       "\n",
       "#sk-container-id-3 div.sk-label-container {\n",
       "  text-align: center;\n",
       "}\n",
       "\n",
       "/* Estimator-specific */\n",
       "#sk-container-id-3 div.sk-estimator {\n",
       "  font-family: monospace;\n",
       "  border: 1px dotted var(--sklearn-color-border-box);\n",
       "  border-radius: 0.25em;\n",
       "  box-sizing: border-box;\n",
       "  margin-bottom: 0.5em;\n",
       "  /* unfitted */\n",
       "  background-color: var(--sklearn-color-unfitted-level-0);\n",
       "}\n",
       "\n",
       "#sk-container-id-3 div.sk-estimator.fitted {\n",
       "  /* fitted */\n",
       "  background-color: var(--sklearn-color-fitted-level-0);\n",
       "}\n",
       "\n",
       "/* on hover */\n",
       "#sk-container-id-3 div.sk-estimator:hover {\n",
       "  /* unfitted */\n",
       "  background-color: var(--sklearn-color-unfitted-level-2);\n",
       "}\n",
       "\n",
       "#sk-container-id-3 div.sk-estimator.fitted:hover {\n",
       "  /* fitted */\n",
       "  background-color: var(--sklearn-color-fitted-level-2);\n",
       "}\n",
       "\n",
       "/* Specification for estimator info (e.g. \"i\" and \"?\") */\n",
       "\n",
       "/* Common style for \"i\" and \"?\" */\n",
       "\n",
       ".sk-estimator-doc-link,\n",
       "a:link.sk-estimator-doc-link,\n",
       "a:visited.sk-estimator-doc-link {\n",
       "  float: right;\n",
       "  font-size: smaller;\n",
       "  line-height: 1em;\n",
       "  font-family: monospace;\n",
       "  background-color: var(--sklearn-color-background);\n",
       "  border-radius: 1em;\n",
       "  height: 1em;\n",
       "  width: 1em;\n",
       "  text-decoration: none !important;\n",
       "  margin-left: 1ex;\n",
       "  /* unfitted */\n",
       "  border: var(--sklearn-color-unfitted-level-1) 1pt solid;\n",
       "  color: var(--sklearn-color-unfitted-level-1);\n",
       "}\n",
       "\n",
       ".sk-estimator-doc-link.fitted,\n",
       "a:link.sk-estimator-doc-link.fitted,\n",
       "a:visited.sk-estimator-doc-link.fitted {\n",
       "  /* fitted */\n",
       "  border: var(--sklearn-color-fitted-level-1) 1pt solid;\n",
       "  color: var(--sklearn-color-fitted-level-1);\n",
       "}\n",
       "\n",
       "/* On hover */\n",
       "div.sk-estimator:hover .sk-estimator-doc-link:hover,\n",
       ".sk-estimator-doc-link:hover,\n",
       "div.sk-label-container:hover .sk-estimator-doc-link:hover,\n",
       ".sk-estimator-doc-link:hover {\n",
       "  /* unfitted */\n",
       "  background-color: var(--sklearn-color-unfitted-level-3);\n",
       "  color: var(--sklearn-color-background);\n",
       "  text-decoration: none;\n",
       "}\n",
       "\n",
       "div.sk-estimator.fitted:hover .sk-estimator-doc-link.fitted:hover,\n",
       ".sk-estimator-doc-link.fitted:hover,\n",
       "div.sk-label-container:hover .sk-estimator-doc-link.fitted:hover,\n",
       ".sk-estimator-doc-link.fitted:hover {\n",
       "  /* fitted */\n",
       "  background-color: var(--sklearn-color-fitted-level-3);\n",
       "  color: var(--sklearn-color-background);\n",
       "  text-decoration: none;\n",
       "}\n",
       "\n",
       "/* Span, style for the box shown on hovering the info icon */\n",
       ".sk-estimator-doc-link span {\n",
       "  display: none;\n",
       "  z-index: 9999;\n",
       "  position: relative;\n",
       "  font-weight: normal;\n",
       "  right: .2ex;\n",
       "  padding: .5ex;\n",
       "  margin: .5ex;\n",
       "  width: min-content;\n",
       "  min-width: 20ex;\n",
       "  max-width: 50ex;\n",
       "  color: var(--sklearn-color-text);\n",
       "  box-shadow: 2pt 2pt 4pt #999;\n",
       "  /* unfitted */\n",
       "  background: var(--sklearn-color-unfitted-level-0);\n",
       "  border: .5pt solid var(--sklearn-color-unfitted-level-3);\n",
       "}\n",
       "\n",
       ".sk-estimator-doc-link.fitted span {\n",
       "  /* fitted */\n",
       "  background: var(--sklearn-color-fitted-level-0);\n",
       "  border: var(--sklearn-color-fitted-level-3);\n",
       "}\n",
       "\n",
       ".sk-estimator-doc-link:hover span {\n",
       "  display: block;\n",
       "}\n",
       "\n",
       "/* \"?\"-specific style due to the `<a>` HTML tag */\n",
       "\n",
       "#sk-container-id-3 a.estimator_doc_link {\n",
       "  float: right;\n",
       "  font-size: 1rem;\n",
       "  line-height: 1em;\n",
       "  font-family: monospace;\n",
       "  background-color: var(--sklearn-color-background);\n",
       "  border-radius: 1rem;\n",
       "  height: 1rem;\n",
       "  width: 1rem;\n",
       "  text-decoration: none;\n",
       "  /* unfitted */\n",
       "  color: var(--sklearn-color-unfitted-level-1);\n",
       "  border: var(--sklearn-color-unfitted-level-1) 1pt solid;\n",
       "}\n",
       "\n",
       "#sk-container-id-3 a.estimator_doc_link.fitted {\n",
       "  /* fitted */\n",
       "  border: var(--sklearn-color-fitted-level-1) 1pt solid;\n",
       "  color: var(--sklearn-color-fitted-level-1);\n",
       "}\n",
       "\n",
       "/* On hover */\n",
       "#sk-container-id-3 a.estimator_doc_link:hover {\n",
       "  /* unfitted */\n",
       "  background-color: var(--sklearn-color-unfitted-level-3);\n",
       "  color: var(--sklearn-color-background);\n",
       "  text-decoration: none;\n",
       "}\n",
       "\n",
       "#sk-container-id-3 a.estimator_doc_link.fitted:hover {\n",
       "  /* fitted */\n",
       "  background-color: var(--sklearn-color-fitted-level-3);\n",
       "}\n",
       "</style><div id=\"sk-container-id-3\" class=\"sk-top-container\"><div class=\"sk-text-repr-fallback\"><pre>LinearRegression()</pre><b>In a Jupyter environment, please rerun this cell to show the HTML representation or trust the notebook. <br />On GitHub, the HTML representation is unable to render, please try loading this page with nbviewer.org.</b></div><div class=\"sk-container\" hidden><div class=\"sk-item\"><div class=\"sk-estimator fitted sk-toggleable\"><input class=\"sk-toggleable__control sk-hidden--visually\" id=\"sk-estimator-id-5\" type=\"checkbox\" checked><label for=\"sk-estimator-id-5\" class=\"sk-toggleable__label fitted sk-toggleable__label-arrow fitted\">&nbsp;&nbsp;LinearRegression<a class=\"sk-estimator-doc-link fitted\" rel=\"noreferrer\" target=\"_blank\" href=\"https://scikit-learn.org/1.5/modules/generated/sklearn.linear_model.LinearRegression.html\">?<span>Documentation for LinearRegression</span></a><span class=\"sk-estimator-doc-link fitted\">i<span>Fitted</span></span></label><div class=\"sk-toggleable__content fitted\"><pre>LinearRegression()</pre></div> </div></div></div></div>"
      ],
      "text/plain": [
       "LinearRegression()"
      ]
     },
     "execution_count": 429,
     "metadata": {},
     "output_type": "execute_result"
    }
   ],
   "source": [
    "lr=LinearRegression()\n",
    "lr.fit(X_train_flat, Y_train)"
   ]
  },
  {
   "cell_type": "code",
   "execution_count": 431,
   "id": "5537696d-538a-49da-b42d-299d0430182b",
   "metadata": {},
   "outputs": [
    {
     "data": {
      "text/plain": [
       "0.20448025633634082"
      ]
     },
     "execution_count": 431,
     "metadata": {},
     "output_type": "execute_result"
    }
   ],
   "source": [
    "lr.score(X_train_flat, Y_train)"
   ]
  },
  {
   "cell_type": "code",
   "execution_count": 433,
   "id": "c6d5037f-b8bb-4866-8567-895813ab6afd",
   "metadata": {},
   "outputs": [
    {
     "data": {
      "text/plain": [
       "((386, 60), (386,))"
      ]
     },
     "execution_count": 433,
     "metadata": {},
     "output_type": "execute_result"
    }
   ],
   "source": [
    "X_test, Y_test=make_sample(test_data, seq_length)\n",
    "X_test.shape, Y_test.shape\n",
    "\n",
    "X_test_flat=X_test.reshape(X_test.shape[0], -1)\n",
    "X_test_flat.shape, Y_test.shape"
   ]
  },
  {
   "cell_type": "code",
   "execution_count": 435,
   "id": "06dfcf9f-01a7-4a57-a525-c023dfb585cf",
   "metadata": {},
   "outputs": [
    {
     "data": {
      "text/plain": [
       "-0.0939919141688712"
      ]
     },
     "execution_count": 435,
     "metadata": {},
     "output_type": "execute_result"
    }
   ],
   "source": [
    "lr.score(X_test_flat, Y_test)"
   ]
  },
  {
   "cell_type": "markdown",
   "id": "cd57adee-1ee6-42a6-ad21-a8ff0f6ac3b2",
   "metadata": {},
   "source": [
    "## SARIMAX"
   ]
  },
  {
   "cell_type": "markdown",
   "id": "471fc17e-911d-420a-8f84-ed2cdf6c4fcd",
   "metadata": {},
   "source": [
    "### 전처리"
   ]
  },
  {
   "cell_type": "code",
   "execution_count": 211,
   "id": "3d080d73-ce55-4a70-8c7f-7f21dc429a2e",
   "metadata": {},
   "outputs": [
    {
     "data": {
      "text/plain": [
       "(1337, 7)"
      ]
     },
     "execution_count": 211,
     "metadata": {},
     "output_type": "execute_result"
    }
   ],
   "source": [
    "ar_cabbage=cabbage.copy()\n",
    "ar_cabbage.head()\n",
    "ar_cabbage.shape"
   ]
  },
  {
   "cell_type": "code",
   "execution_count": 213,
   "id": "4f170784-eb36-4be9-b4ed-2497b05dfd48",
   "metadata": {},
   "outputs": [
    {
     "data": {
      "text/html": [
       "<div>\n",
       "<style scoped>\n",
       "    .dataframe tbody tr th:only-of-type {\n",
       "        vertical-align: middle;\n",
       "    }\n",
       "\n",
       "    .dataframe tbody tr th {\n",
       "        vertical-align: top;\n",
       "    }\n",
       "\n",
       "    .dataframe thead th {\n",
       "        text-align: right;\n",
       "    }\n",
       "</style>\n",
       "<table border=\"1\" class=\"dataframe\">\n",
       "  <thead>\n",
       "    <tr style=\"text-align: right;\">\n",
       "      <th></th>\n",
       "      <th>평균기온</th>\n",
       "      <th>최저기온</th>\n",
       "      <th>최고기온</th>\n",
       "      <th>소매일일가격</th>\n",
       "    </tr>\n",
       "    <tr>\n",
       "      <th>조회일자</th>\n",
       "      <th></th>\n",
       "      <th></th>\n",
       "      <th></th>\n",
       "      <th></th>\n",
       "    </tr>\n",
       "  </thead>\n",
       "  <tbody>\n",
       "    <tr>\n",
       "      <th>2019-10-11</th>\n",
       "      <td>17.7</td>\n",
       "      <td>11.4</td>\n",
       "      <td>24.7</td>\n",
       "      <td>6968.0</td>\n",
       "    </tr>\n",
       "    <tr>\n",
       "      <th>2019-10-12</th>\n",
       "      <td>17.8</td>\n",
       "      <td>13.3</td>\n",
       "      <td>23.1</td>\n",
       "      <td>6968.0</td>\n",
       "    </tr>\n",
       "    <tr>\n",
       "      <th>2019-10-13</th>\n",
       "      <td>15.6</td>\n",
       "      <td>10.3</td>\n",
       "      <td>22.0</td>\n",
       "      <td>6968.0</td>\n",
       "    </tr>\n",
       "    <tr>\n",
       "      <th>2019-10-14</th>\n",
       "      <td>14.4</td>\n",
       "      <td>9.0</td>\n",
       "      <td>21.2</td>\n",
       "      <td>6826.0</td>\n",
       "    </tr>\n",
       "    <tr>\n",
       "      <th>2019-10-15</th>\n",
       "      <td>13.1</td>\n",
       "      <td>8.3</td>\n",
       "      <td>18.6</td>\n",
       "      <td>6786.0</td>\n",
       "    </tr>\n",
       "  </tbody>\n",
       "</table>\n",
       "</div>"
      ],
      "text/plain": [
       "            평균기온  최저기온  최고기온  소매일일가격\n",
       "조회일자                                \n",
       "2019-10-11  17.7  11.4  24.7  6968.0\n",
       "2019-10-12  17.8  13.3  23.1  6968.0\n",
       "2019-10-13  15.6  10.3  22.0  6968.0\n",
       "2019-10-14  14.4   9.0  21.2  6826.0\n",
       "2019-10-15  13.1   8.3  18.6  6786.0"
      ]
     },
     "execution_count": 213,
     "metadata": {},
     "output_type": "execute_result"
    }
   ],
   "source": [
    "ar_cabbage=ar_cabbage[['평균기온', '최저기온', '최고기온', '소매일일가격']]\n",
    "ar_cabbage.head()"
   ]
  },
  {
   "cell_type": "code",
   "execution_count": 215,
   "id": "42c71929-e851-467e-aa26-edc63816b1d2",
   "metadata": {},
   "outputs": [
    {
     "data": {
      "text/html": [
       "<div>\n",
       "<style scoped>\n",
       "    .dataframe tbody tr th:only-of-type {\n",
       "        vertical-align: middle;\n",
       "    }\n",
       "\n",
       "    .dataframe tbody tr th {\n",
       "        vertical-align: top;\n",
       "    }\n",
       "\n",
       "    .dataframe thead th {\n",
       "        text-align: right;\n",
       "    }\n",
       "</style>\n",
       "<table border=\"1\" class=\"dataframe\">\n",
       "  <thead>\n",
       "    <tr style=\"text-align: right;\">\n",
       "      <th></th>\n",
       "      <th>평균기온</th>\n",
       "      <th>최저기온</th>\n",
       "      <th>최고기온</th>\n",
       "    </tr>\n",
       "    <tr>\n",
       "      <th>조회일자</th>\n",
       "      <th></th>\n",
       "      <th></th>\n",
       "      <th></th>\n",
       "    </tr>\n",
       "  </thead>\n",
       "  <tbody>\n",
       "    <tr>\n",
       "      <th>2019-10-11</th>\n",
       "      <td>17.7</td>\n",
       "      <td>11.4</td>\n",
       "      <td>24.7</td>\n",
       "    </tr>\n",
       "    <tr>\n",
       "      <th>2019-10-12</th>\n",
       "      <td>17.8</td>\n",
       "      <td>13.3</td>\n",
       "      <td>23.1</td>\n",
       "    </tr>\n",
       "    <tr>\n",
       "      <th>2019-10-13</th>\n",
       "      <td>15.6</td>\n",
       "      <td>10.3</td>\n",
       "      <td>22.0</td>\n",
       "    </tr>\n",
       "    <tr>\n",
       "      <th>2019-10-14</th>\n",
       "      <td>14.4</td>\n",
       "      <td>9.0</td>\n",
       "      <td>21.2</td>\n",
       "    </tr>\n",
       "    <tr>\n",
       "      <th>2019-10-15</th>\n",
       "      <td>13.1</td>\n",
       "      <td>8.3</td>\n",
       "      <td>18.6</td>\n",
       "    </tr>\n",
       "  </tbody>\n",
       "</table>\n",
       "</div>"
      ],
      "text/plain": [
       "            평균기온  최저기온  최고기온\n",
       "조회일자                        \n",
       "2019-10-11  17.7  11.4  24.7\n",
       "2019-10-12  17.8  13.3  23.1\n",
       "2019-10-13  15.6  10.3  22.0\n",
       "2019-10-14  14.4   9.0  21.2\n",
       "2019-10-15  13.1   8.3  18.6"
      ]
     },
     "execution_count": 215,
     "metadata": {},
     "output_type": "execute_result"
    }
   ],
   "source": [
    "X=ar_cabbage[['평균기온', '최저기온', '최고기온']]\n",
    "Y=ar_cabbage[ '소매일일가격']\n",
    "X.shape, Y.shape\n",
    "X.head()"
   ]
  },
  {
   "cell_type": "code",
   "execution_count": 217,
   "id": "abbcb88c-5123-4f0f-aa65-00de77f854e3",
   "metadata": {},
   "outputs": [],
   "source": [
    "scaler=StandardScaler()\n",
    "X_train_scaled=scaler.fit_transform(X)"
   ]
  },
  {
   "cell_type": "code",
   "execution_count": 219,
   "id": "1aa9756e-5ae9-431a-bdbb-88e4fdbd9d8e",
   "metadata": {},
   "outputs": [
    {
     "data": {
      "text/plain": [
       "((935, 3), (402, 3), (935,), (402,))"
      ]
     },
     "execution_count": 219,
     "metadata": {},
     "output_type": "execute_result"
    }
   ],
   "source": [
    "X_train, X_test, Y_train, Y_test=train_test_split(X_train_scaled, Y, test_size=0.3, shuffle=False)\n",
    "X_train.shape, X_test.shape, Y_train.shape, Y_test.shape"
   ]
  },
  {
   "cell_type": "code",
   "execution_count": 249,
   "id": "b4e8fa23-59d4-4945-a376-28e8b888c252",
   "metadata": {},
   "outputs": [],
   "source": [
    "model=SARIMAX(Y_train, exog=X_train, order=(1, 1, 0), seasonal_order=(1, 1, 1, 12))  \n",
    "model_fit=model.fit()"
   ]
  },
  {
   "cell_type": "code",
   "execution_count": 250,
   "id": "16224cf3-5d25-4743-907a-3c93962e9774",
   "metadata": {},
   "outputs": [
    {
     "data": {
      "text/html": [
       "<table class=\"simpletable\">\n",
       "<caption>SARIMAX Results</caption>\n",
       "<tr>\n",
       "  <th>Dep. Variable:</th>                <td>소매일일가격</td>              <th>  No. Observations:  </th>    <td>935</td>   \n",
       "</tr>\n",
       "<tr>\n",
       "  <th>Model:</th>           <td>SARIMAX(1, 1, 0)x(1, 1, [1], 12)</td> <th>  Log Likelihood     </th> <td>-5834.008</td>\n",
       "</tr>\n",
       "<tr>\n",
       "  <th>Date:</th>                    <td>Sun, 13 Apr 2025</td>         <th>  AIC                </th> <td>11682.015</td>\n",
       "</tr>\n",
       "<tr>\n",
       "  <th>Time:</th>                        <td>21:05:12</td>             <th>  BIC                </th> <td>11715.801</td>\n",
       "</tr>\n",
       "<tr>\n",
       "  <th>Sample:</th>                     <td>10-11-2019</td>            <th>  HQIC               </th> <td>11694.906</td>\n",
       "</tr>\n",
       "<tr>\n",
       "  <th></th>                           <td>- 05-02-2022</td>           <th>                     </th>     <td> </td>    \n",
       "</tr>\n",
       "<tr>\n",
       "  <th>Covariance Type:</th>                <td>opg</td>               <th>                     </th>     <td> </td>    \n",
       "</tr>\n",
       "</table>\n",
       "<table class=\"simpletable\">\n",
       "<tr>\n",
       "      <td></td>        <th>coef</th>     <th>std err</th>      <th>z</th>      <th>P>|z|</th>  <th>[0.025</th>    <th>0.975]</th>  \n",
       "</tr>\n",
       "<tr>\n",
       "  <th>x1</th>       <td>   23.0536</td> <td>   87.313</td> <td>    0.264</td> <td> 0.792</td> <td> -148.076</td> <td>  194.184</td>\n",
       "</tr>\n",
       "<tr>\n",
       "  <th>x2</th>       <td>  -14.7394</td> <td>   45.373</td> <td>   -0.325</td> <td> 0.745</td> <td> -103.668</td> <td>   74.189</td>\n",
       "</tr>\n",
       "<tr>\n",
       "  <th>x3</th>       <td>  -12.5298</td> <td>   45.609</td> <td>   -0.275</td> <td> 0.784</td> <td> -101.923</td> <td>   76.863</td>\n",
       "</tr>\n",
       "<tr>\n",
       "  <th>ar.L1</th>    <td>    0.3016</td> <td>    0.014</td> <td>   20.934</td> <td> 0.000</td> <td>    0.273</td> <td>    0.330</td>\n",
       "</tr>\n",
       "<tr>\n",
       "  <th>ar.S.L12</th> <td>    0.0063</td> <td>    0.033</td> <td>    0.193</td> <td> 0.847</td> <td>   -0.058</td> <td>    0.070</td>\n",
       "</tr>\n",
       "<tr>\n",
       "  <th>ma.S.L12</th> <td>   -0.9998</td> <td>    3.636</td> <td>   -0.275</td> <td> 0.783</td> <td>   -8.126</td> <td>    6.126</td>\n",
       "</tr>\n",
       "<tr>\n",
       "  <th>sigma2</th>   <td> 1.735e+04</td> <td> 6.29e+04</td> <td>    0.276</td> <td> 0.783</td> <td>-1.06e+05</td> <td> 1.41e+05</td>\n",
       "</tr>\n",
       "</table>\n",
       "<table class=\"simpletable\">\n",
       "<tr>\n",
       "  <th>Ljung-Box (L1) (Q):</th>     <td>3.25</td> <th>  Jarque-Bera (JB):  </th> <td>54709.72</td>\n",
       "</tr>\n",
       "<tr>\n",
       "  <th>Prob(Q):</th>                <td>0.07</td> <th>  Prob(JB):          </th>   <td>0.00</td>  \n",
       "</tr>\n",
       "<tr>\n",
       "  <th>Heteroskedasticity (H):</th> <td>0.44</td> <th>  Skew:              </th>   <td>-3.30</td> \n",
       "</tr>\n",
       "<tr>\n",
       "  <th>Prob(H) (two-sided):</th>    <td>0.00</td> <th>  Kurtosis:          </th>   <td>40.15</td> \n",
       "</tr>\n",
       "</table><br/><br/>Warnings:<br/>[1] Covariance matrix calculated using the outer product of gradients (complex-step)."
      ],
      "text/latex": [
       "\\begin{center}\n",
       "\\begin{tabular}{lclc}\n",
       "\\toprule\n",
       "\\textbf{Dep. Variable:}          &              소매일일가격              & \\textbf{  No. Observations:  } &    935      \\\\\n",
       "\\textbf{Model:}                  & SARIMAX(1, 1, 0)x(1, 1, [1], 12) & \\textbf{  Log Likelihood     } & -5834.008   \\\\\n",
       "\\textbf{Date:}                   &         Sun, 13 Apr 2025         & \\textbf{  AIC                } & 11682.015   \\\\\n",
       "\\textbf{Time:}                   &             21:05:12             & \\textbf{  BIC                } & 11715.801   \\\\\n",
       "\\textbf{Sample:}                 &            10-11-2019            & \\textbf{  HQIC               } & 11694.906   \\\\\n",
       "\\textbf{}                        &           - 05-02-2022           & \\textbf{                     } &             \\\\\n",
       "\\textbf{Covariance Type:}        &               opg                & \\textbf{                     } &             \\\\\n",
       "\\bottomrule\n",
       "\\end{tabular}\n",
       "\\begin{tabular}{lcccccc}\n",
       "                  & \\textbf{coef} & \\textbf{std err} & \\textbf{z} & \\textbf{P$> |$z$|$} & \\textbf{[0.025} & \\textbf{0.975]}  \\\\\n",
       "\\midrule\n",
       "\\textbf{x1}       &      23.0536  &       87.313     &     0.264  &         0.792        &     -148.076    &      194.184     \\\\\n",
       "\\textbf{x2}       &     -14.7394  &       45.373     &    -0.325  &         0.745        &     -103.668    &       74.189     \\\\\n",
       "\\textbf{x3}       &     -12.5298  &       45.609     &    -0.275  &         0.784        &     -101.923    &       76.863     \\\\\n",
       "\\textbf{ar.L1}    &       0.3016  &        0.014     &    20.934  &         0.000        &        0.273    &        0.330     \\\\\n",
       "\\textbf{ar.S.L12} &       0.0063  &        0.033     &     0.193  &         0.847        &       -0.058    &        0.070     \\\\\n",
       "\\textbf{ma.S.L12} &      -0.9998  &        3.636     &    -0.275  &         0.783        &       -8.126    &        6.126     \\\\\n",
       "\\textbf{sigma2}   &    1.735e+04  &     6.29e+04     &     0.276  &         0.783        &    -1.06e+05    &     1.41e+05     \\\\\n",
       "\\bottomrule\n",
       "\\end{tabular}\n",
       "\\begin{tabular}{lclc}\n",
       "\\textbf{Ljung-Box (L1) (Q):}     & 3.25 & \\textbf{  Jarque-Bera (JB):  } & 54709.72  \\\\\n",
       "\\textbf{Prob(Q):}                & 0.07 & \\textbf{  Prob(JB):          } &   0.00    \\\\\n",
       "\\textbf{Heteroskedasticity (H):} & 0.44 & \\textbf{  Skew:              } &  -3.30    \\\\\n",
       "\\textbf{Prob(H) (two-sided):}    & 0.00 & \\textbf{  Kurtosis:          } &  40.15    \\\\\n",
       "\\bottomrule\n",
       "\\end{tabular}\n",
       "%\\caption{SARIMAX Results}\n",
       "\\end{center}\n",
       "\n",
       "Warnings: \\newline\n",
       " [1] Covariance matrix calculated using the outer product of gradients (complex-step)."
      ],
      "text/plain": [
       "<class 'statsmodels.iolib.summary.Summary'>\n",
       "\"\"\"\n",
       "                                      SARIMAX Results                                       \n",
       "============================================================================================\n",
       "Dep. Variable:                               소매일일가격   No. Observations:                  935\n",
       "Model:             SARIMAX(1, 1, 0)x(1, 1, [1], 12)   Log Likelihood               -5834.008\n",
       "Date:                              Sun, 13 Apr 2025   AIC                          11682.015\n",
       "Time:                                      21:05:12   BIC                          11715.801\n",
       "Sample:                                  10-11-2019   HQIC                         11694.906\n",
       "                                       - 05-02-2022                                         \n",
       "Covariance Type:                                opg                                         \n",
       "==============================================================================\n",
       "                 coef    std err          z      P>|z|      [0.025      0.975]\n",
       "------------------------------------------------------------------------------\n",
       "x1            23.0536     87.313      0.264      0.792    -148.076     194.184\n",
       "x2           -14.7394     45.373     -0.325      0.745    -103.668      74.189\n",
       "x3           -12.5298     45.609     -0.275      0.784    -101.923      76.863\n",
       "ar.L1          0.3016      0.014     20.934      0.000       0.273       0.330\n",
       "ar.S.L12       0.0063      0.033      0.193      0.847      -0.058       0.070\n",
       "ma.S.L12      -0.9998      3.636     -0.275      0.783      -8.126       6.126\n",
       "sigma2      1.735e+04   6.29e+04      0.276      0.783   -1.06e+05    1.41e+05\n",
       "===================================================================================\n",
       "Ljung-Box (L1) (Q):                   3.25   Jarque-Bera (JB):             54709.72\n",
       "Prob(Q):                              0.07   Prob(JB):                         0.00\n",
       "Heteroskedasticity (H):               0.44   Skew:                            -3.30\n",
       "Prob(H) (two-sided):                  0.00   Kurtosis:                        40.15\n",
       "===================================================================================\n",
       "\n",
       "Warnings:\n",
       "[1] Covariance matrix calculated using the outer product of gradients (complex-step).\n",
       "\"\"\""
      ]
     },
     "execution_count": 250,
     "metadata": {},
     "output_type": "execute_result"
    }
   ],
   "source": [
    "model_fit.summary()"
   ]
  },
  {
   "cell_type": "code",
   "execution_count": 251,
   "id": "5bad13d8-3d0a-465f-8568-b922b758a551",
   "metadata": {},
   "outputs": [
    {
     "data": {
      "text/plain": [
       "2023-06-04    4722\n",
       "2023-06-05    4697\n",
       "2023-06-06    4676\n",
       "2023-06-07    4671\n",
       "2023-06-08    4682\n",
       "Freq: D, Name: predicted_mean, dtype: int32"
      ]
     },
     "execution_count": 251,
     "metadata": {},
     "output_type": "execute_result"
    }
   ],
   "source": [
    "pred=model_fit.predict(start=Y_test.index[0], end=Y_test.index[-1], exog=X_test)\n",
    "pred[-5:].astype(int)"
   ]
  },
  {
   "cell_type": "code",
   "execution_count": 252,
   "id": "496645c2-850b-417e-ac0c-66fc6a8eacf6",
   "metadata": {},
   "outputs": [
    {
     "data": {
      "text/plain": [
       "0.02087129149326339"
      ]
     },
     "execution_count": 252,
     "metadata": {},
     "output_type": "execute_result"
    }
   ],
   "source": [
    "r2_score(Y_test, pred)  "
   ]
  },
  {
   "cell_type": "markdown",
   "id": "e7356926-e6de-4a84-bb96-093fb55163c6",
   "metadata": {},
   "source": [
    "### 최적화"
   ]
  },
  {
   "cell_type": "code",
   "execution_count": 874,
   "id": "caa84c9e-a553-47c2-a052-f83617220789",
   "metadata": {},
   "outputs": [],
   "source": [
    "import itertools   \n",
    "pdq=[]\n",
    "p=range(0, 3)\n",
    "d=range(1, 2)\n",
    "q=range(0, 3)\n",
    "pdq=list(itertools.product(p, d, q))\n",
    "# pdq"
   ]
  },
  {
   "cell_type": "code",
   "execution_count": 880,
   "id": "3b537d73-fc30-475e-9891-6af0342a5878",
   "metadata": {},
   "outputs": [
    {
     "data": {
      "text/plain": [
       "[(0, 1, 0, 12),\n",
       " (0, 1, 1, 12),\n",
       " (0, 1, 2, 12),\n",
       " (1, 1, 0, 12),\n",
       " (1, 1, 1, 12),\n",
       " (1, 1, 2, 12),\n",
       " (2, 1, 0, 12),\n",
       " (2, 1, 1, 12),\n",
       " (2, 1, 2, 12)]"
      ]
     },
     "execution_count": 880,
     "metadata": {},
     "output_type": "execute_result"
    }
   ],
   "source": [
    "s_pdq=[]\n",
    "for x in itertools.product(p, d, q):\n",
    "    s_pdq.append((x[0], x[1], x[2], 12)) # 튜블이라서 두개\n",
    "# s_pdq"
   ]
  },
  {
   "cell_type": "code",
   "execution_count": 883,
   "id": "1dec6c8d-e026-4dd2-8d41-9d93e8169f17",
   "metadata": {},
   "outputs": [
    {
     "name": "stdout",
     "output_type": "stream",
     "text": [
      "SARIMAX:(0, 1, 0)(0, 1, 0, 12) >> AIC : 12306.65\n",
      "SARIMAX:(0, 1, 0)(0, 1, 1, 12) >> AIC : 11766.66\n",
      "SARIMAX:(0, 1, 0)(0, 1, 2, 12) >> AIC : 11766.06\n",
      "SARIMAX:(0, 1, 0)(1, 1, 0, 12) >> AIC : 12049.27\n",
      "SARIMAX:(0, 1, 0)(1, 1, 1, 12) >> AIC : 11765.78\n",
      "SARIMAX:(0, 1, 0)(1, 1, 2, 12) >> AIC : 11767.78\n",
      "SARIMAX:(0, 1, 0)(2, 1, 0, 12) >> AIC : 11976.61\n",
      "SARIMAX:(0, 1, 0)(2, 1, 1, 12) >> AIC : 11765.65\n",
      "SARIMAX:(0, 1, 0)(2, 1, 2, 12) >> AIC : 11765.56\n",
      "SARIMAX:(0, 1, 1)(0, 1, 0, 12) >> AIC : 12271.92\n",
      "SARIMAX:(0, 1, 1)(0, 1, 1, 12) >> AIC : 11706.48\n",
      "SARIMAX:(0, 1, 1)(0, 1, 2, 12) >> AIC : 11708.52\n",
      "SARIMAX:(0, 1, 1)(1, 1, 0, 12) >> AIC : 12010.63\n",
      "SARIMAX:(0, 1, 1)(1, 1, 1, 12) >> AIC : 11707.82\n",
      "SARIMAX:(0, 1, 1)(1, 1, 2, 12) >> AIC : 11704.98\n",
      "SARIMAX:(0, 1, 1)(2, 1, 0, 12) >> AIC : 11932.6\n",
      "SARIMAX:(0, 1, 1)(2, 1, 1, 12) >> AIC : 11709.7\n",
      "SARIMAX:(0, 1, 1)(2, 1, 2, 12) >> AIC : 11705.22\n",
      "SARIMAX:(0, 1, 2)(0, 1, 0, 12) >> AIC : 12248.65\n",
      "SARIMAX:(0, 1, 2)(0, 1, 1, 12) >> AIC : 11664.34\n",
      "SARIMAX:(0, 1, 2)(0, 1, 2, 12) >> AIC : 11666.31\n",
      "SARIMAX:(0, 1, 2)(1, 1, 0, 12) >> AIC : 11984.17\n",
      "SARIMAX:(0, 1, 2)(1, 1, 1, 12) >> AIC : 11667.26\n",
      "SARIMAX:(0, 1, 2)(1, 1, 2, 12) >> AIC : 11661.32\n",
      "SARIMAX:(0, 1, 2)(2, 1, 0, 12) >> AIC : 11897.05\n",
      "SARIMAX:(0, 1, 2)(2, 1, 1, 12) >> AIC : 11668.16\n",
      "SARIMAX:(0, 1, 2)(2, 1, 2, 12) >> AIC : 11662.76\n",
      "SARIMAX:(1, 1, 0)(0, 1, 0, 12) >> AIC : 12260.97\n",
      "SARIMAX:(1, 1, 0)(0, 1, 1, 12) >> AIC : 11680.05\n",
      "SARIMAX:(1, 1, 0)(0, 1, 2, 12) >> AIC : 11682.02\n",
      "SARIMAX:(1, 1, 0)(1, 1, 0, 12) >> AIC : 11997.08\n",
      "SARIMAX:(1, 1, 0)(1, 1, 1, 12) >> AIC : 11682.02\n",
      "SARIMAX:(1, 1, 0)(1, 1, 2, 12) >> AIC : 11677.15\n",
      "SARIMAX:(1, 1, 0)(2, 1, 0, 12) >> AIC : 11914.69\n",
      "SARIMAX:(1, 1, 0)(2, 1, 1, 12) >> AIC : 11683.8\n",
      "SARIMAX:(1, 1, 0)(2, 1, 2, 12) >> AIC : 11678.51\n",
      "SARIMAX:(1, 1, 1)(0, 1, 0, 12) >> AIC : 12252.95\n",
      "SARIMAX:(1, 1, 1)(0, 1, 1, 12) >> AIC : 11640.13\n"
     ]
    },
    {
     "name": "stderr",
     "output_type": "stream",
     "text": [
      "C:\\Users\\JMH\\anaconda3\\Lib\\site-packages\\statsmodels\\base\\model.py:607: ConvergenceWarning: Maximum Likelihood optimization failed to converge. Check mle_retvals\n",
      "  warnings.warn(\"Maximum Likelihood optimization failed to \"\n"
     ]
    },
    {
     "name": "stdout",
     "output_type": "stream",
     "text": [
      "SARIMAX:(1, 1, 1)(0, 1, 2, 12) >> AIC : 11640.07\n"
     ]
    },
    {
     "name": "stderr",
     "output_type": "stream",
     "text": [
      "C:\\Users\\JMH\\anaconda3\\Lib\\site-packages\\statsmodels\\base\\model.py:607: ConvergenceWarning: Maximum Likelihood optimization failed to converge. Check mle_retvals\n",
      "  warnings.warn(\"Maximum Likelihood optimization failed to \"\n"
     ]
    },
    {
     "name": "stdout",
     "output_type": "stream",
     "text": [
      "SARIMAX:(1, 1, 1)(1, 1, 0, 12) >> AIC : 11976.3\n",
      "SARIMAX:(1, 1, 1)(1, 1, 1, 12) >> AIC : 11639.43\n",
      "SARIMAX:(1, 1, 1)(1, 1, 2, 12) >> AIC : 11638.33\n"
     ]
    },
    {
     "name": "stderr",
     "output_type": "stream",
     "text": [
      "C:\\Users\\JMH\\anaconda3\\Lib\\site-packages\\statsmodels\\base\\model.py:607: ConvergenceWarning: Maximum Likelihood optimization failed to converge. Check mle_retvals\n",
      "  warnings.warn(\"Maximum Likelihood optimization failed to \"\n"
     ]
    },
    {
     "name": "stdout",
     "output_type": "stream",
     "text": [
      "SARIMAX:(1, 1, 1)(2, 1, 0, 12) >> AIC : 11881.68\n"
     ]
    },
    {
     "name": "stderr",
     "output_type": "stream",
     "text": [
      "C:\\Users\\JMH\\anaconda3\\Lib\\site-packages\\statsmodels\\base\\model.py:607: ConvergenceWarning: Maximum Likelihood optimization failed to converge. Check mle_retvals\n",
      "  warnings.warn(\"Maximum Likelihood optimization failed to \"\n"
     ]
    },
    {
     "name": "stdout",
     "output_type": "stream",
     "text": [
      "SARIMAX:(1, 1, 1)(2, 1, 1, 12) >> AIC : 11662.5\n"
     ]
    },
    {
     "name": "stderr",
     "output_type": "stream",
     "text": [
      "C:\\Users\\JMH\\anaconda3\\Lib\\site-packages\\statsmodels\\base\\model.py:607: ConvergenceWarning: Maximum Likelihood optimization failed to converge. Check mle_retvals\n",
      "  warnings.warn(\"Maximum Likelihood optimization failed to \"\n"
     ]
    },
    {
     "name": "stdout",
     "output_type": "stream",
     "text": [
      "SARIMAX:(1, 1, 1)(2, 1, 2, 12) >> AIC : 11640.54\n",
      "SARIMAX:(1, 1, 2)(0, 1, 0, 12) >> AIC : 12248.52\n",
      "SARIMAX:(1, 1, 2)(0, 1, 1, 12) >> AIC : 11656.45\n"
     ]
    },
    {
     "name": "stderr",
     "output_type": "stream",
     "text": [
      "C:\\Users\\JMH\\anaconda3\\Lib\\site-packages\\statsmodels\\base\\model.py:607: ConvergenceWarning: Maximum Likelihood optimization failed to converge. Check mle_retvals\n",
      "  warnings.warn(\"Maximum Likelihood optimization failed to \"\n"
     ]
    },
    {
     "name": "stdout",
     "output_type": "stream",
     "text": [
      "SARIMAX:(1, 1, 2)(0, 1, 2, 12) >> AIC : 11653.32\n",
      "SARIMAX:(1, 1, 2)(1, 1, 0, 12) >> AIC : 11978.57\n"
     ]
    },
    {
     "name": "stderr",
     "output_type": "stream",
     "text": [
      "C:\\Users\\JMH\\anaconda3\\Lib\\site-packages\\statsmodels\\base\\model.py:607: ConvergenceWarning: Maximum Likelihood optimization failed to converge. Check mle_retvals\n",
      "  warnings.warn(\"Maximum Likelihood optimization failed to \"\n"
     ]
    },
    {
     "name": "stdout",
     "output_type": "stream",
     "text": [
      "SARIMAX:(1, 1, 2)(1, 1, 1, 12) >> AIC : 11653.42\n"
     ]
    },
    {
     "name": "stderr",
     "output_type": "stream",
     "text": [
      "C:\\Users\\JMH\\anaconda3\\Lib\\site-packages\\statsmodels\\base\\model.py:607: ConvergenceWarning: Maximum Likelihood optimization failed to converge. Check mle_retvals\n",
      "  warnings.warn(\"Maximum Likelihood optimization failed to \"\n"
     ]
    },
    {
     "name": "stdout",
     "output_type": "stream",
     "text": [
      "SARIMAX:(1, 1, 2)(1, 1, 2, 12) >> AIC : 11654.02\n"
     ]
    },
    {
     "name": "stderr",
     "output_type": "stream",
     "text": [
      "C:\\Users\\JMH\\anaconda3\\Lib\\site-packages\\statsmodels\\base\\model.py:607: ConvergenceWarning: Maximum Likelihood optimization failed to converge. Check mle_retvals\n",
      "  warnings.warn(\"Maximum Likelihood optimization failed to \"\n"
     ]
    },
    {
     "name": "stdout",
     "output_type": "stream",
     "text": [
      "SARIMAX:(1, 1, 2)(2, 1, 0, 12) >> AIC : 11883.05\n"
     ]
    },
    {
     "name": "stderr",
     "output_type": "stream",
     "text": [
      "C:\\Users\\JMH\\anaconda3\\Lib\\site-packages\\statsmodels\\base\\model.py:607: ConvergenceWarning: Maximum Likelihood optimization failed to converge. Check mle_retvals\n",
      "  warnings.warn(\"Maximum Likelihood optimization failed to \"\n"
     ]
    },
    {
     "name": "stdout",
     "output_type": "stream",
     "text": [
      "SARIMAX:(1, 1, 2)(2, 1, 1, 12) >> AIC : 11657.48\n",
      "SARIMAX:(1, 1, 2)(2, 1, 2, 12) >> AIC : 11709.99\n",
      "SARIMAX:(2, 1, 0)(0, 1, 0, 12) >> AIC : 12248.19\n",
      "SARIMAX:(2, 1, 0)(0, 1, 1, 12) >> AIC : 11648.74\n",
      "SARIMAX:(2, 1, 0)(0, 1, 2, 12) >> AIC : 11650.47\n",
      "SARIMAX:(2, 1, 0)(1, 1, 0, 12) >> AIC : 11977.49\n",
      "SARIMAX:(2, 1, 0)(1, 1, 1, 12) >> AIC : 11650.47\n",
      "SARIMAX:(2, 1, 0)(1, 1, 2, 12) >> AIC : 11645.84\n",
      "SARIMAX:(2, 1, 0)(2, 1, 0, 12) >> AIC : 11886.23\n",
      "SARIMAX:(2, 1, 0)(2, 1, 1, 12) >> AIC : 11652.43\n"
     ]
    },
    {
     "name": "stderr",
     "output_type": "stream",
     "text": [
      "C:\\Users\\JMH\\anaconda3\\Lib\\site-packages\\statsmodels\\base\\model.py:607: ConvergenceWarning: Maximum Likelihood optimization failed to converge. Check mle_retvals\n",
      "  warnings.warn(\"Maximum Likelihood optimization failed to \"\n"
     ]
    },
    {
     "name": "stdout",
     "output_type": "stream",
     "text": [
      "SARIMAX:(2, 1, 0)(2, 1, 2, 12) >> AIC : 11647.83\n",
      "SARIMAX:(2, 1, 1)(0, 1, 0, 12) >> AIC : 12249.37\n",
      "SARIMAX:(2, 1, 1)(0, 1, 1, 12) >> AIC : 11684.06\n"
     ]
    },
    {
     "name": "stderr",
     "output_type": "stream",
     "text": [
      "C:\\Users\\JMH\\anaconda3\\Lib\\site-packages\\statsmodels\\base\\model.py:607: ConvergenceWarning: Maximum Likelihood optimization failed to converge. Check mle_retvals\n",
      "  warnings.warn(\"Maximum Likelihood optimization failed to \"\n"
     ]
    },
    {
     "name": "stdout",
     "output_type": "stream",
     "text": [
      "SARIMAX:(2, 1, 1)(0, 1, 2, 12) >> AIC : 11647.13\n",
      "SARIMAX:(2, 1, 1)(1, 1, 0, 12) >> AIC : 11978.91\n",
      "SARIMAX:(2, 1, 1)(1, 1, 1, 12) >> AIC : 11686.77\n"
     ]
    },
    {
     "name": "stderr",
     "output_type": "stream",
     "text": [
      "C:\\Users\\JMH\\anaconda3\\Lib\\site-packages\\statsmodels\\base\\model.py:607: ConvergenceWarning: Maximum Likelihood optimization failed to converge. Check mle_retvals\n",
      "  warnings.warn(\"Maximum Likelihood optimization failed to \"\n"
     ]
    },
    {
     "name": "stdout",
     "output_type": "stream",
     "text": [
      "SARIMAX:(2, 1, 1)(1, 1, 2, 12) >> AIC : 11650.44\n"
     ]
    },
    {
     "name": "stderr",
     "output_type": "stream",
     "text": [
      "C:\\Users\\JMH\\anaconda3\\Lib\\site-packages\\statsmodels\\base\\model.py:607: ConvergenceWarning: Maximum Likelihood optimization failed to converge. Check mle_retvals\n",
      "  warnings.warn(\"Maximum Likelihood optimization failed to \"\n"
     ]
    },
    {
     "name": "stdout",
     "output_type": "stream",
     "text": [
      "SARIMAX:(2, 1, 1)(2, 1, 0, 12) >> AIC : 11882.59\n",
      "SARIMAX:(2, 1, 1)(2, 1, 1, 12) >> AIC : 11687.79\n",
      "SARIMAX:(2, 1, 1)(2, 1, 2, 12) >> AIC : 11683.55\n"
     ]
    },
    {
     "name": "stderr",
     "output_type": "stream",
     "text": [
      "C:\\Users\\JMH\\anaconda3\\Lib\\site-packages\\statsmodels\\base\\model.py:607: ConvergenceWarning: Maximum Likelihood optimization failed to converge. Check mle_retvals\n",
      "  warnings.warn(\"Maximum Likelihood optimization failed to \"\n"
     ]
    },
    {
     "name": "stdout",
     "output_type": "stream",
     "text": [
      "SARIMAX:(2, 1, 2)(0, 1, 0, 12) >> AIC : 12185.78\n",
      "SARIMAX:(2, 1, 2)(0, 1, 1, 12) >> AIC : 11644.13\n"
     ]
    },
    {
     "name": "stderr",
     "output_type": "stream",
     "text": [
      "C:\\Users\\JMH\\anaconda3\\Lib\\site-packages\\statsmodels\\base\\model.py:607: ConvergenceWarning: Maximum Likelihood optimization failed to converge. Check mle_retvals\n",
      "  warnings.warn(\"Maximum Likelihood optimization failed to \"\n"
     ]
    },
    {
     "name": "stdout",
     "output_type": "stream",
     "text": [
      "SARIMAX:(2, 1, 2)(0, 1, 2, 12) >> AIC : 11665.75\n"
     ]
    },
    {
     "name": "stderr",
     "output_type": "stream",
     "text": [
      "C:\\Users\\JMH\\anaconda3\\Lib\\site-packages\\statsmodels\\base\\model.py:607: ConvergenceWarning: Maximum Likelihood optimization failed to converge. Check mle_retvals\n",
      "  warnings.warn(\"Maximum Likelihood optimization failed to \"\n"
     ]
    },
    {
     "name": "stdout",
     "output_type": "stream",
     "text": [
      "SARIMAX:(2, 1, 2)(1, 1, 0, 12) >> AIC : 11978.59\n"
     ]
    },
    {
     "name": "stderr",
     "output_type": "stream",
     "text": [
      "C:\\Users\\JMH\\anaconda3\\Lib\\site-packages\\statsmodels\\base\\model.py:607: ConvergenceWarning: Maximum Likelihood optimization failed to converge. Check mle_retvals\n",
      "  warnings.warn(\"Maximum Likelihood optimization failed to \"\n"
     ]
    },
    {
     "name": "stdout",
     "output_type": "stream",
     "text": [
      "SARIMAX:(2, 1, 2)(1, 1, 1, 12) >> AIC : 11665.22\n"
     ]
    },
    {
     "name": "stderr",
     "output_type": "stream",
     "text": [
      "C:\\Users\\JMH\\anaconda3\\Lib\\site-packages\\statsmodels\\base\\model.py:607: ConvergenceWarning: Maximum Likelihood optimization failed to converge. Check mle_retvals\n",
      "  warnings.warn(\"Maximum Likelihood optimization failed to \"\n"
     ]
    },
    {
     "name": "stdout",
     "output_type": "stream",
     "text": [
      "SARIMAX:(2, 1, 2)(1, 1, 2, 12) >> AIC : 11642.09\n"
     ]
    },
    {
     "name": "stderr",
     "output_type": "stream",
     "text": [
      "C:\\Users\\JMH\\anaconda3\\Lib\\site-packages\\statsmodels\\base\\model.py:607: ConvergenceWarning: Maximum Likelihood optimization failed to converge. Check mle_retvals\n",
      "  warnings.warn(\"Maximum Likelihood optimization failed to \"\n"
     ]
    },
    {
     "name": "stdout",
     "output_type": "stream",
     "text": [
      "SARIMAX:(2, 1, 2)(2, 1, 0, 12) >> AIC : 11885.94\n"
     ]
    },
    {
     "name": "stderr",
     "output_type": "stream",
     "text": [
      "C:\\Users\\JMH\\anaconda3\\Lib\\site-packages\\statsmodels\\base\\model.py:607: ConvergenceWarning: Maximum Likelihood optimization failed to converge. Check mle_retvals\n",
      "  warnings.warn(\"Maximum Likelihood optimization failed to \"\n"
     ]
    },
    {
     "name": "stdout",
     "output_type": "stream",
     "text": [
      "SARIMAX:(2, 1, 2)(2, 1, 1, 12) >> AIC : 11669.72\n"
     ]
    },
    {
     "name": "stderr",
     "output_type": "stream",
     "text": [
      "C:\\Users\\JMH\\anaconda3\\Lib\\site-packages\\statsmodels\\base\\model.py:607: ConvergenceWarning: Maximum Likelihood optimization failed to converge. Check mle_retvals\n",
      "  warnings.warn(\"Maximum Likelihood optimization failed to \"\n"
     ]
    },
    {
     "name": "stdout",
     "output_type": "stream",
     "text": [
      "SARIMAX:(2, 1, 2)(2, 1, 2, 12) >> AIC : 11666.99\n"
     ]
    }
   ],
   "source": [
    "aic=[]\n",
    "params=[]\n",
    "for i in pdq:\n",
    "    for j in s_pdq:\n",
    "        try:\n",
    "            model=SARIMAX(Y_train, exog=X_train, order=i, seasonal_order=j)  \n",
    "            model_fit=model.fit()\n",
    "            print(f'SARIMAX:{i}{j} >> AIC : {round(model_fit.aic, 2)}')\n",
    "            \n",
    "            aic.append(round(model_fit.aic, 2))\n",
    "            params.append((i, j))\n",
    "        except:\n",
    "            continue"
   ]
  },
  {
   "cell_type": "code",
   "execution_count": 893,
   "id": "dedbdc6c-de6b-4df2-8fc2-896c14bacd70",
   "metadata": {},
   "outputs": [
    {
     "data": {
      "text/plain": [
       "((1, 1, 1), (1, 1, 2, 12))"
      ]
     },
     "execution_count": 893,
     "metadata": {},
     "output_type": "execute_result"
    }
   ],
   "source": [
    "params[aic.index(min(aic))]"
   ]
  },
  {
   "cell_type": "code",
   "execution_count": 977,
   "id": "16f5de08-18aa-4e04-b48e-1c1054208bbf",
   "metadata": {},
   "outputs": [
    {
     "name": "stdout",
     "output_type": "stream",
     "text": [
      "AIC: 11638.33, PARAM: ((1, 1, 1), (1, 1, 2, 12))\n",
      "AIC: 11639.43, PARAM: ((1, 1, 1), (1, 1, 1, 12))\n",
      "AIC: 11640.07, PARAM: ((1, 1, 1), (0, 1, 2, 12))\n",
      "AIC: 11640.13, PARAM: ((1, 1, 1), (0, 1, 1, 12))\n",
      "AIC: 11640.54, PARAM: ((1, 1, 1), (2, 1, 2, 12))\n",
      "AIC: 11642.09, PARAM: ((2, 1, 2), (1, 1, 2, 12))\n",
      "AIC: 11644.13, PARAM: ((2, 1, 2), (0, 1, 1, 12))\n",
      "AIC: 11645.84, PARAM: ((2, 1, 0), (1, 1, 2, 12))\n",
      "AIC: 11647.13, PARAM: ((2, 1, 1), (0, 1, 2, 12))\n",
      "AIC: 11647.83, PARAM: ((2, 1, 0), (2, 1, 2, 12))\n",
      "AIC: 11648.74, PARAM: ((2, 1, 0), (0, 1, 1, 12))\n",
      "AIC: 11650.44, PARAM: ((2, 1, 1), (1, 1, 2, 12))\n",
      "AIC: 11650.47, PARAM: ((2, 1, 0), (0, 1, 2, 12))\n",
      "AIC: 11650.47, PARAM: ((2, 1, 0), (1, 1, 1, 12))\n",
      "AIC: 11652.43, PARAM: ((2, 1, 0), (2, 1, 1, 12))\n",
      "AIC: 11653.32, PARAM: ((1, 1, 2), (0, 1, 2, 12))\n",
      "AIC: 11653.42, PARAM: ((1, 1, 2), (1, 1, 1, 12))\n",
      "AIC: 11654.02, PARAM: ((1, 1, 2), (1, 1, 2, 12))\n",
      "AIC: 11656.45, PARAM: ((1, 1, 2), (0, 1, 1, 12))\n",
      "AIC: 11657.48, PARAM: ((1, 1, 2), (2, 1, 1, 12))\n"
     ]
    }
   ],
   "source": [
    "sorted_list=sorted(zip(aic, params))\n",
    "for aic_val, param in sorted_list[:20]:\n",
    "    print(f\"AIC: {aic_val}, PARAM: {param}\")"
   ]
  },
  {
   "cell_type": "code",
   "execution_count": 257,
   "id": "0c0b5151-c887-4408-9066-61cb283f04e7",
   "metadata": {},
   "outputs": [],
   "source": [
    "opt_model=SARIMAX(Y_train, exog=X_train, \n",
    "                  order=(1, 1, 1), \n",
    "                  seasonal_order=(1, 1, 2, 12))\n",
    "                  # enforce_stationarity=False,             # 비정상성일 수도 있는 데이터도 모델링 가능\n",
    "                  # enforce_invertibility=False)  \n",
    "opt_model_fit=model.fit()"
   ]
  },
  {
   "cell_type": "code",
   "execution_count": 258,
   "id": "00f76593-af09-46c4-8136-8d1779fecbe3",
   "metadata": {},
   "outputs": [
    {
     "data": {
      "text/html": [
       "<table class=\"simpletable\">\n",
       "<caption>SARIMAX Results</caption>\n",
       "<tr>\n",
       "  <th>Dep. Variable:</th>                <td>소매일일가격</td>              <th>  No. Observations:  </th>    <td>935</td>   \n",
       "</tr>\n",
       "<tr>\n",
       "  <th>Model:</th>           <td>SARIMAX(1, 1, 0)x(1, 1, [1], 12)</td> <th>  Log Likelihood     </th> <td>-5834.008</td>\n",
       "</tr>\n",
       "<tr>\n",
       "  <th>Date:</th>                    <td>Sun, 13 Apr 2025</td>         <th>  AIC                </th> <td>11682.015</td>\n",
       "</tr>\n",
       "<tr>\n",
       "  <th>Time:</th>                        <td>21:05:40</td>             <th>  BIC                </th> <td>11715.801</td>\n",
       "</tr>\n",
       "<tr>\n",
       "  <th>Sample:</th>                     <td>10-11-2019</td>            <th>  HQIC               </th> <td>11694.906</td>\n",
       "</tr>\n",
       "<tr>\n",
       "  <th></th>                           <td>- 05-02-2022</td>           <th>                     </th>     <td> </td>    \n",
       "</tr>\n",
       "<tr>\n",
       "  <th>Covariance Type:</th>                <td>opg</td>               <th>                     </th>     <td> </td>    \n",
       "</tr>\n",
       "</table>\n",
       "<table class=\"simpletable\">\n",
       "<tr>\n",
       "      <td></td>        <th>coef</th>     <th>std err</th>      <th>z</th>      <th>P>|z|</th>  <th>[0.025</th>    <th>0.975]</th>  \n",
       "</tr>\n",
       "<tr>\n",
       "  <th>x1</th>       <td>   23.0536</td> <td>   87.313</td> <td>    0.264</td> <td> 0.792</td> <td> -148.076</td> <td>  194.184</td>\n",
       "</tr>\n",
       "<tr>\n",
       "  <th>x2</th>       <td>  -14.7394</td> <td>   45.373</td> <td>   -0.325</td> <td> 0.745</td> <td> -103.668</td> <td>   74.189</td>\n",
       "</tr>\n",
       "<tr>\n",
       "  <th>x3</th>       <td>  -12.5298</td> <td>   45.609</td> <td>   -0.275</td> <td> 0.784</td> <td> -101.923</td> <td>   76.863</td>\n",
       "</tr>\n",
       "<tr>\n",
       "  <th>ar.L1</th>    <td>    0.3016</td> <td>    0.014</td> <td>   20.934</td> <td> 0.000</td> <td>    0.273</td> <td>    0.330</td>\n",
       "</tr>\n",
       "<tr>\n",
       "  <th>ar.S.L12</th> <td>    0.0063</td> <td>    0.033</td> <td>    0.193</td> <td> 0.847</td> <td>   -0.058</td> <td>    0.070</td>\n",
       "</tr>\n",
       "<tr>\n",
       "  <th>ma.S.L12</th> <td>   -0.9998</td> <td>    3.636</td> <td>   -0.275</td> <td> 0.783</td> <td>   -8.126</td> <td>    6.126</td>\n",
       "</tr>\n",
       "<tr>\n",
       "  <th>sigma2</th>   <td> 1.735e+04</td> <td> 6.29e+04</td> <td>    0.276</td> <td> 0.783</td> <td>-1.06e+05</td> <td> 1.41e+05</td>\n",
       "</tr>\n",
       "</table>\n",
       "<table class=\"simpletable\">\n",
       "<tr>\n",
       "  <th>Ljung-Box (L1) (Q):</th>     <td>3.25</td> <th>  Jarque-Bera (JB):  </th> <td>54709.72</td>\n",
       "</tr>\n",
       "<tr>\n",
       "  <th>Prob(Q):</th>                <td>0.07</td> <th>  Prob(JB):          </th>   <td>0.00</td>  \n",
       "</tr>\n",
       "<tr>\n",
       "  <th>Heteroskedasticity (H):</th> <td>0.44</td> <th>  Skew:              </th>   <td>-3.30</td> \n",
       "</tr>\n",
       "<tr>\n",
       "  <th>Prob(H) (two-sided):</th>    <td>0.00</td> <th>  Kurtosis:          </th>   <td>40.15</td> \n",
       "</tr>\n",
       "</table><br/><br/>Warnings:<br/>[1] Covariance matrix calculated using the outer product of gradients (complex-step)."
      ],
      "text/latex": [
       "\\begin{center}\n",
       "\\begin{tabular}{lclc}\n",
       "\\toprule\n",
       "\\textbf{Dep. Variable:}          &              소매일일가격              & \\textbf{  No. Observations:  } &    935      \\\\\n",
       "\\textbf{Model:}                  & SARIMAX(1, 1, 0)x(1, 1, [1], 12) & \\textbf{  Log Likelihood     } & -5834.008   \\\\\n",
       "\\textbf{Date:}                   &         Sun, 13 Apr 2025         & \\textbf{  AIC                } & 11682.015   \\\\\n",
       "\\textbf{Time:}                   &             21:05:40             & \\textbf{  BIC                } & 11715.801   \\\\\n",
       "\\textbf{Sample:}                 &            10-11-2019            & \\textbf{  HQIC               } & 11694.906   \\\\\n",
       "\\textbf{}                        &           - 05-02-2022           & \\textbf{                     } &             \\\\\n",
       "\\textbf{Covariance Type:}        &               opg                & \\textbf{                     } &             \\\\\n",
       "\\bottomrule\n",
       "\\end{tabular}\n",
       "\\begin{tabular}{lcccccc}\n",
       "                  & \\textbf{coef} & \\textbf{std err} & \\textbf{z} & \\textbf{P$> |$z$|$} & \\textbf{[0.025} & \\textbf{0.975]}  \\\\\n",
       "\\midrule\n",
       "\\textbf{x1}       &      23.0536  &       87.313     &     0.264  &         0.792        &     -148.076    &      194.184     \\\\\n",
       "\\textbf{x2}       &     -14.7394  &       45.373     &    -0.325  &         0.745        &     -103.668    &       74.189     \\\\\n",
       "\\textbf{x3}       &     -12.5298  &       45.609     &    -0.275  &         0.784        &     -101.923    &       76.863     \\\\\n",
       "\\textbf{ar.L1}    &       0.3016  &        0.014     &    20.934  &         0.000        &        0.273    &        0.330     \\\\\n",
       "\\textbf{ar.S.L12} &       0.0063  &        0.033     &     0.193  &         0.847        &       -0.058    &        0.070     \\\\\n",
       "\\textbf{ma.S.L12} &      -0.9998  &        3.636     &    -0.275  &         0.783        &       -8.126    &        6.126     \\\\\n",
       "\\textbf{sigma2}   &    1.735e+04  &     6.29e+04     &     0.276  &         0.783        &    -1.06e+05    &     1.41e+05     \\\\\n",
       "\\bottomrule\n",
       "\\end{tabular}\n",
       "\\begin{tabular}{lclc}\n",
       "\\textbf{Ljung-Box (L1) (Q):}     & 3.25 & \\textbf{  Jarque-Bera (JB):  } & 54709.72  \\\\\n",
       "\\textbf{Prob(Q):}                & 0.07 & \\textbf{  Prob(JB):          } &   0.00    \\\\\n",
       "\\textbf{Heteroskedasticity (H):} & 0.44 & \\textbf{  Skew:              } &  -3.30    \\\\\n",
       "\\textbf{Prob(H) (two-sided):}    & 0.00 & \\textbf{  Kurtosis:          } &  40.15    \\\\\n",
       "\\bottomrule\n",
       "\\end{tabular}\n",
       "%\\caption{SARIMAX Results}\n",
       "\\end{center}\n",
       "\n",
       "Warnings: \\newline\n",
       " [1] Covariance matrix calculated using the outer product of gradients (complex-step)."
      ],
      "text/plain": [
       "<class 'statsmodels.iolib.summary.Summary'>\n",
       "\"\"\"\n",
       "                                      SARIMAX Results                                       \n",
       "============================================================================================\n",
       "Dep. Variable:                               소매일일가격   No. Observations:                  935\n",
       "Model:             SARIMAX(1, 1, 0)x(1, 1, [1], 12)   Log Likelihood               -5834.008\n",
       "Date:                              Sun, 13 Apr 2025   AIC                          11682.015\n",
       "Time:                                      21:05:40   BIC                          11715.801\n",
       "Sample:                                  10-11-2019   HQIC                         11694.906\n",
       "                                       - 05-02-2022                                         \n",
       "Covariance Type:                                opg                                         \n",
       "==============================================================================\n",
       "                 coef    std err          z      P>|z|      [0.025      0.975]\n",
       "------------------------------------------------------------------------------\n",
       "x1            23.0536     87.313      0.264      0.792    -148.076     194.184\n",
       "x2           -14.7394     45.373     -0.325      0.745    -103.668      74.189\n",
       "x3           -12.5298     45.609     -0.275      0.784    -101.923      76.863\n",
       "ar.L1          0.3016      0.014     20.934      0.000       0.273       0.330\n",
       "ar.S.L12       0.0063      0.033      0.193      0.847      -0.058       0.070\n",
       "ma.S.L12      -0.9998      3.636     -0.275      0.783      -8.126       6.126\n",
       "sigma2      1.735e+04   6.29e+04      0.276      0.783   -1.06e+05    1.41e+05\n",
       "===================================================================================\n",
       "Ljung-Box (L1) (Q):                   3.25   Jarque-Bera (JB):             54709.72\n",
       "Prob(Q):                              0.07   Prob(JB):                         0.00\n",
       "Heteroskedasticity (H):               0.44   Skew:                            -3.30\n",
       "Prob(H) (two-sided):                  0.00   Kurtosis:                        40.15\n",
       "===================================================================================\n",
       "\n",
       "Warnings:\n",
       "[1] Covariance matrix calculated using the outer product of gradients (complex-step).\n",
       "\"\"\""
      ]
     },
     "execution_count": 258,
     "metadata": {},
     "output_type": "execute_result"
    }
   ],
   "source": [
    "opt_model_fit.summary()"
   ]
  },
  {
   "cell_type": "code",
   "execution_count": 259,
   "id": "15d3b876-f529-4a6d-aa0f-0b294bd82838",
   "metadata": {},
   "outputs": [],
   "source": [
    "opt_pred=model_fit.predict(start=Y_test.index[0], end=Y_test.index[-1], exog=X_test)"
   ]
  },
  {
   "cell_type": "code",
   "execution_count": 260,
   "id": "3e01b26f-cd4a-430c-9c72-1a6bbb04d24d",
   "metadata": {},
   "outputs": [
    {
     "data": {
      "text/plain": [
       "0.02087129149326339"
      ]
     },
     "execution_count": 260,
     "metadata": {},
     "output_type": "execute_result"
    }
   ],
   "source": [
    "r2_score(Y_test, pred)  "
   ]
  },
  {
   "cell_type": "code",
   "execution_count": 239,
   "id": "e4f68365-d0b2-434e-af8f-d7cb1fa80ce0",
   "metadata": {},
   "outputs": [
    {
     "data": {
      "image/png": "[encoded data removed]",
      "text/plain": [
       "<Figure size 1000x600 with 1 Axes>"
      ]
     },
     "metadata": {},
     "output_type": "display_data"
    }
   ],
   "source": [
    "plt.figure(figsize=(10, 6))\n",
    "plt.plot(Y_test.index, Y_test, label='Actual')     # 실제값\n",
    "plt.plot(Y_test.index, pred, label='Predicted')    # 예측값\n",
    "plt.title('Stock Price Prediction using SARIMAX')\n",
    "plt.xlabel('Date')\n",
    "plt.ylabel('Price')\n",
    "plt.legend()\n",
    "plt.show()"
   ]
  },
  {
   "cell_type": "code",
   "execution_count": null,
   "id": "07f1d03d-ecfa-4bd0-9144-10f8adfb79ef",
   "metadata": {},
   "outputs": [],
   "source": []
  }
 ],
 "metadata": {
  "kernelspec": {
   "display_name": "Python [conda env:base] *",
   "language": "python",
   "name": "conda-base-py"
  },
  "language_info": {
   "codemirror_mode": {
    "name": "ipython",
    "version": 3
   },
   "file_extension": ".py",
   "mimetype": "text/x-python",
   "name": "python",
   "nbconvert_exporter": "python",
   "pygments_lexer": "ipython3",
   "version": "3.12.7"
  }
 },
 "nbformat": 4,
 "nbformat_minor": 5
}
