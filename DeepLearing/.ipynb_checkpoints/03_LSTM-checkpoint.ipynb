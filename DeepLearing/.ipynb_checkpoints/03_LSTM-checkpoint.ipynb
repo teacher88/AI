{
 "cells": [
  {
   "cell_type": "code",
   "execution_count": 1,
   "id": "19bb684d-6c0c-4695-8613-c7960895d5cc",
   "metadata": {},
   "outputs": [],
   "source": [
    "import numpy as np\n",
    "import pandas as pd\n",
    "import seaborn as sns\n",
    "\n",
    "import matplotlib.pyplot as plt\n",
    "import matplotlib.pyplot as plt             \n",
    "import matplotlib as mpl                    \n",
    "mpl.rc('font', family='Malgun Gothic')      \n",
    "plt.rcParams['axes.unicode_minus']=False  \n",
    "\n",
    "from sklearn.preprocessing import MinMaxScaler\n",
    "from sklearn.model_selection import train_test_split\n",
    "from sklearn.metrics import r2_score\n",
    "\n",
    "import tensorflow as tf\n",
    "from tensorflow import keras     \n",
    "from tensorflow.keras.models import Sequential\n",
    "from tensorflow.keras.optimizers import SGD, Adam\n",
    "\n",
    "from keras.callbacks import ModelCheckpoint, EarlyStopping\n",
    "from tensorflow.keras.callbacks import LambdaCallback\n",
    "\n",
    "\n",
    "import FinanceDataReader as fdr\n",
    "from tensorflow.keras.layers import LSTM\n",
    "import random"
   ]
  },
  {
   "cell_type": "code",
   "execution_count": 2,
   "id": "d76a985b-6fa9-42ab-9546-d344e7281240",
   "metadata": {},
   "outputs": [],
   "source": [
    "np.random.seed(42)\n",
    "tf.random.set_seed(42)\n",
    "random.seed(42)"
   ]
  },
  {
   "cell_type": "markdown",
   "id": "be3a6aa3-936e-40ed-9458-0bb0ab81d642",
   "metadata": {},
   "source": [
    "# Sliding Window \n",
    "- 시간 순서대로 데이터를 일정한 크기로 자르면서 이동하는 기법 "
   ]
  },
  {
   "cell_type": "code",
   "execution_count": 290,
   "id": "c1fbdf31-e969-489d-ac4c-326883756454",
   "metadata": {},
   "outputs": [
    {
     "name": "stdout",
     "output_type": "stream",
     "text": [
      "10 <class 'numpy.ndarray'>\n",
      "[[1 2 3]\n",
      " [2 3 4]\n",
      " [3 4 5]\n",
      " [4 5 6]\n",
      " [5 6 7]\n",
      " [6 7 8]\n",
      " [7 8 9]]\n",
      "[ 4  5  6  7  8  9 10]\n"
     ]
    },
    {
     "data": {
      "text/plain": [
       "((7, 3), (7,))"
      ]
     },
     "execution_count": 290,
     "metadata": {},
     "output_type": "execute_result"
    }
   ],
   "source": [
    "data=np.array([1, 2, 3, 4, 5, 6, 7, 8, 9, 10])\n",
    "print(len(data), type(data))\n",
    "\n",
    "def imsi(data, window):\n",
    "    train=[]\n",
    "    target=[]\n",
    "\n",
    "    for i in range(len(data) - window):   # 10 - 3 = 7 / range(0, 7)\n",
    "        # print(\"idx:\", i) \n",
    "        \n",
    "        train.append(data[i: i+window])   # 0:3 [1, 2, 3], 1:4 [2, 3, 4]\n",
    "  # print(\"train:\", train)\n",
    "\n",
    "        target.append(data[i + window])    # 3, 4\n",
    "  # print(\"target:\", target)             \n",
    "        \n",
    "    return np.array(train), np.array(target)      \n",
    "\n",
    "\n",
    "X, Y=imsi(data, 3)\n",
    "print(X)\n",
    "print(Y)\n",
    "X.shape, Y.shape"
   ]
  },
  {
   "cell_type": "markdown",
   "id": "5d3636a7-3637-45f6-84fd-fbdca0450d92",
   "metadata": {},
   "source": [
    "# 삼성전자 주식 예측"
   ]
  },
  {
   "cell_type": "markdown",
   "id": "b9842f40-2644-4ab8-bd60-e72dc57adb52",
   "metadata": {},
   "source": [
    "## 데이터 로드"
   ]
  },
  {
   "cell_type": "code",
   "execution_count": 246,
   "id": "40c790be-1599-4005-9e85-4c7dd10e2469",
   "metadata": {},
   "outputs": [
    {
     "data": {
      "text/html": [
       "<div>\n",
       "<style scoped>\n",
       "    .dataframe tbody tr th:only-of-type {\n",
       "        vertical-align: middle;\n",
       "    }\n",
       "\n",
       "    .dataframe tbody tr th {\n",
       "        vertical-align: top;\n",
       "    }\n",
       "\n",
       "    .dataframe thead th {\n",
       "        text-align: right;\n",
       "    }\n",
       "</style>\n",
       "<table border=\"1\" class=\"dataframe\">\n",
       "  <thead>\n",
       "    <tr style=\"text-align: right;\">\n",
       "      <th></th>\n",
       "      <th>Open</th>\n",
       "      <th>High</th>\n",
       "      <th>Low</th>\n",
       "      <th>Close</th>\n",
       "      <th>Volume</th>\n",
       "      <th>Change</th>\n",
       "    </tr>\n",
       "    <tr>\n",
       "      <th>Date</th>\n",
       "      <th></th>\n",
       "      <th></th>\n",
       "      <th></th>\n",
       "      <th></th>\n",
       "      <th></th>\n",
       "      <th></th>\n",
       "    </tr>\n",
       "  </thead>\n",
       "  <tbody>\n",
       "    <tr>\n",
       "      <th>2020-01-06</th>\n",
       "      <td>54900</td>\n",
       "      <td>55600</td>\n",
       "      <td>54600</td>\n",
       "      <td>55500</td>\n",
       "      <td>10278951</td>\n",
       "      <td>0.000000</td>\n",
       "    </tr>\n",
       "    <tr>\n",
       "      <th>2020-01-07</th>\n",
       "      <td>55700</td>\n",
       "      <td>56400</td>\n",
       "      <td>55600</td>\n",
       "      <td>55800</td>\n",
       "      <td>10009778</td>\n",
       "      <td>0.005405</td>\n",
       "    </tr>\n",
       "    <tr>\n",
       "      <th>2020-01-08</th>\n",
       "      <td>56200</td>\n",
       "      <td>57400</td>\n",
       "      <td>55900</td>\n",
       "      <td>56800</td>\n",
       "      <td>23501171</td>\n",
       "      <td>0.017921</td>\n",
       "    </tr>\n",
       "    <tr>\n",
       "      <th>2020-01-09</th>\n",
       "      <td>58400</td>\n",
       "      <td>58600</td>\n",
       "      <td>57400</td>\n",
       "      <td>58600</td>\n",
       "      <td>24102579</td>\n",
       "      <td>0.031690</td>\n",
       "    </tr>\n",
       "    <tr>\n",
       "      <th>2020-01-10</th>\n",
       "      <td>58800</td>\n",
       "      <td>59700</td>\n",
       "      <td>58300</td>\n",
       "      <td>59500</td>\n",
       "      <td>16000170</td>\n",
       "      <td>0.015358</td>\n",
       "    </tr>\n",
       "  </tbody>\n",
       "</table>\n",
       "</div>"
      ],
      "text/plain": [
       "             Open   High    Low  Close    Volume    Change\n",
       "Date                                                      \n",
       "2020-01-06  54900  55600  54600  55500  10278951  0.000000\n",
       "2020-01-07  55700  56400  55600  55800  10009778  0.005405\n",
       "2020-01-08  56200  57400  55900  56800  23501171  0.017921\n",
       "2020-01-09  58400  58600  57400  58600  24102579  0.031690\n",
       "2020-01-10  58800  59700  58300  59500  16000170  0.015358"
      ]
     },
     "execution_count": 246,
     "metadata": {},
     "output_type": "execute_result"
    }
   ],
   "source": [
    "samsung=fdr.DataReader('005930', start='2020-01-04')    # 삼성전자 \n",
    "samsung.shape\n",
    "samsung.head()"
   ]
  },
  {
   "cell_type": "code",
   "execution_count": 248,
   "id": "c245b279-e658-4110-905a-0b5db4108a78",
   "metadata": {},
   "outputs": [
    {
     "data": {
      "text/plain": [
       "(1375, 6)"
      ]
     },
     "execution_count": 248,
     "metadata": {},
     "output_type": "execute_result"
    }
   ],
   "source": [
    "samsung=samsung.asfreq('B', method='pad')    \n",
    "samsung.shape"
   ]
  },
  {
   "cell_type": "code",
   "execution_count": 250,
   "id": "59204c36-d54a-41ec-bee0-5258cd80ba9b",
   "metadata": {},
   "outputs": [
    {
     "data": {
      "text/html": [
       "<div>\n",
       "<style scoped>\n",
       "    .dataframe tbody tr th:only-of-type {\n",
       "        vertical-align: middle;\n",
       "    }\n",
       "\n",
       "    .dataframe tbody tr th {\n",
       "        vertical-align: top;\n",
       "    }\n",
       "\n",
       "    .dataframe thead th {\n",
       "        text-align: right;\n",
       "    }\n",
       "</style>\n",
       "<table border=\"1\" class=\"dataframe\">\n",
       "  <thead>\n",
       "    <tr style=\"text-align: right;\">\n",
       "      <th></th>\n",
       "      <th>Close</th>\n",
       "    </tr>\n",
       "    <tr>\n",
       "      <th>Date</th>\n",
       "      <th></th>\n",
       "    </tr>\n",
       "  </thead>\n",
       "  <tbody>\n",
       "    <tr>\n",
       "      <th>2020-01-06</th>\n",
       "      <td>55500</td>\n",
       "    </tr>\n",
       "    <tr>\n",
       "      <th>2020-01-07</th>\n",
       "      <td>55800</td>\n",
       "    </tr>\n",
       "    <tr>\n",
       "      <th>2020-01-08</th>\n",
       "      <td>56800</td>\n",
       "    </tr>\n",
       "    <tr>\n",
       "      <th>2020-01-09</th>\n",
       "      <td>58600</td>\n",
       "    </tr>\n",
       "    <tr>\n",
       "      <th>2020-01-10</th>\n",
       "      <td>59500</td>\n",
       "    </tr>\n",
       "  </tbody>\n",
       "</table>\n",
       "</div>"
      ],
      "text/plain": [
       "            Close\n",
       "Date             \n",
       "2020-01-06  55500\n",
       "2020-01-07  55800\n",
       "2020-01-08  56800\n",
       "2020-01-09  58600\n",
       "2020-01-10  59500"
      ]
     },
     "execution_count": 250,
     "metadata": {},
     "output_type": "execute_result"
    }
   ],
   "source": [
    "seq_data=samsung[['Close']]\n",
    "seq_data.head()"
   ]
  },
  {
   "cell_type": "code",
   "execution_count": 252,
   "id": "541447a9-596a-4dce-9b13-f400e5174287",
   "metadata": {},
   "outputs": [
    {
     "data": {
      "text/plain": [
       "<Axes: xlabel='Date'>"
      ]
     },
     "execution_count": 252,
     "metadata": {},
     "output_type": "execute_result"
    },
    {
     "data": {
      "image/png": "[encoded data removed]",
      "text/plain": [
       "<Figure size 1200x600 with 1 Axes>"
      ]
     },
     "metadata": {},
     "output_type": "display_data"
    }
   ],
   "source": [
    "seq_data.plot(figsize=(12, 6))"
   ]
  },
  {
   "cell_type": "markdown",
   "id": "df23a585-4d9b-447d-8ae0-021aca49deab",
   "metadata": {},
   "source": [
    "## 데이터 전처리\n",
    "### MinMaxScaler"
   ]
  },
  {
   "cell_type": "code",
   "execution_count": 255,
   "id": "ca368440-21b3-44ab-8e2a-27e2d6309418",
   "metadata": {},
   "outputs": [],
   "source": [
    "min_max_scaler=MinMaxScaler()\n",
    "min_max_scaled=min_max_scaler.fit_transform(seq_data)"
   ]
  },
  {
   "cell_type": "code",
   "execution_count": 257,
   "id": "6fcba599-7a1b-4432-b4e0-89da36cf069f",
   "metadata": {},
   "outputs": [
    {
     "name": "stdout",
     "output_type": "stream",
     "text": [
      "(1100, 1) (275, 1)\n"
     ]
    }
   ],
   "source": [
    "train_data, test_data=train_test_split(min_max_scaled, test_size=0.2, shuffle=False)\n",
    "print(train_data.shape, test_data.shape)"
   ]
  },
  {
   "cell_type": "markdown",
   "id": "d7d3c88b-191d-4468-8824-6c7fd55bdef5",
   "metadata": {},
   "source": [
    "###  Sliding Window "
   ]
  },
  {
   "cell_type": "code",
   "execution_count": 260,
   "id": "2de89060-45e9-49d8-b80f-a88305e8b048",
   "metadata": {},
   "outputs": [
    {
     "data": {
      "text/plain": [
       "((1070, 30, 1), (1070, 1))"
      ]
     },
     "execution_count": 260,
     "metadata": {},
     "output_type": "execute_result"
    }
   ],
   "source": [
    "def make_sample(data, window):\n",
    "    train=[]\n",
    "    target=[]\n",
    "\n",
    "    for i in range(len(data) - window):\n",
    "        train.append(data[i: i+window])\n",
    "        target.append(data[i + window])\n",
    "    return np.array(train), np.array(target)\n",
    "\n",
    "X_train, Y_train=make_sample(train_data, 30)\n",
    "X_train.shape, Y_train.shape         # (배치 크기, 타임스텝, 특징 수)  입력은 3차원 형태"
   ]
  },
  {
   "cell_type": "markdown",
   "id": "0b1f1063-ae5f-4071-a465-ed5241f8f9fc",
   "metadata": {},
   "source": [
    "### 학습"
   ]
  },
  {
   "cell_type": "code",
   "execution_count": 263,
   "id": "870e75c2-4e08-4dfe-8023-1e59e1a268e2",
   "metadata": {},
   "outputs": [
    {
     "data": {
      "text/html": [
       "<pre style=\"white-space:pre;overflow-x:auto;line-height:normal;font-family:Menlo,'DejaVu Sans Mono',consolas,'Courier New',monospace\"><span style=\"font-weight: bold\">Model: \"sequential_5\"</span>\n",
       "</pre>\n"
      ],
      "text/plain": [
       "\u001b[1mModel: \"sequential_5\"\u001b[0m\n"
      ]
     },
     "metadata": {},
     "output_type": "display_data"
    },
    {
     "data": {
      "text/html": [
       "<pre style=\"white-space:pre;overflow-x:auto;line-height:normal;font-family:Menlo,'DejaVu Sans Mono',consolas,'Courier New',monospace\">┏━━━━━━━━━━━━━━━━━━━━━━━━━━━━━━━━━━━━━━┳━━━━━━━━━━━━━━━━━━━━━━━━━━━━━┳━━━━━━━━━━━━━━━━━┓\n",
       "┃<span style=\"font-weight: bold\"> Layer (type)                         </span>┃<span style=\"font-weight: bold\"> Output Shape                </span>┃<span style=\"font-weight: bold\">         Param # </span>┃\n",
       "┡━━━━━━━━━━━━━━━━━━━━━━━━━━━━━━━━━━━━━━╇━━━━━━━━━━━━━━━━━━━━━━━━━━━━━╇━━━━━━━━━━━━━━━━━┩\n",
       "│ lstm_5 (<span style=\"color: #0087ff; text-decoration-color: #0087ff\">LSTM</span>)                        │ (<span style=\"color: #00d7ff; text-decoration-color: #00d7ff\">None</span>, <span style=\"color: #00af00; text-decoration-color: #00af00\">16</span>)                  │           <span style=\"color: #00af00; text-decoration-color: #00af00\">1,152</span> │\n",
       "├──────────────────────────────────────┼─────────────────────────────┼─────────────────┤\n",
       "│ dense_5 (<span style=\"color: #0087ff; text-decoration-color: #0087ff\">Dense</span>)                      │ (<span style=\"color: #00d7ff; text-decoration-color: #00d7ff\">None</span>, <span style=\"color: #00af00; text-decoration-color: #00af00\">1</span>)                   │              <span style=\"color: #00af00; text-decoration-color: #00af00\">17</span> │\n",
       "└──────────────────────────────────────┴─────────────────────────────┴─────────────────┘\n",
       "</pre>\n"
      ],
      "text/plain": [
       "┏━━━━━━━━━━━━━━━━━━━━━━━━━━━━━━━━━━━━━━┳━━━━━━━━━━━━━━━━━━━━━━━━━━━━━┳━━━━━━━━━━━━━━━━━┓\n",
       "┃\u001b[1m \u001b[0m\u001b[1mLayer (type)                        \u001b[0m\u001b[1m \u001b[0m┃\u001b[1m \u001b[0m\u001b[1mOutput Shape               \u001b[0m\u001b[1m \u001b[0m┃\u001b[1m \u001b[0m\u001b[1m        Param #\u001b[0m\u001b[1m \u001b[0m┃\n",
       "┡━━━━━━━━━━━━━━━━━━━━━━━━━━━━━━━━━━━━━━╇━━━━━━━━━━━━━━━━━━━━━━━━━━━━━╇━━━━━━━━━━━━━━━━━┩\n",
       "│ lstm_5 (\u001b[38;5;33mLSTM\u001b[0m)                        │ (\u001b[38;5;45mNone\u001b[0m, \u001b[38;5;34m16\u001b[0m)                  │           \u001b[38;5;34m1,152\u001b[0m │\n",
       "├──────────────────────────────────────┼─────────────────────────────┼─────────────────┤\n",
       "│ dense_5 (\u001b[38;5;33mDense\u001b[0m)                      │ (\u001b[38;5;45mNone\u001b[0m, \u001b[38;5;34m1\u001b[0m)                   │              \u001b[38;5;34m17\u001b[0m │\n",
       "└──────────────────────────────────────┴─────────────────────────────┴─────────────────┘\n"
      ]
     },
     "metadata": {},
     "output_type": "display_data"
    },
    {
     "data": {
      "text/html": [
       "<pre style=\"white-space:pre;overflow-x:auto;line-height:normal;font-family:Menlo,'DejaVu Sans Mono',consolas,'Courier New',monospace\"><span style=\"font-weight: bold\"> Total params: </span><span style=\"color: #00af00; text-decoration-color: #00af00\">1,169</span> (4.57 KB)\n",
       "</pre>\n"
      ],
      "text/plain": [
       "\u001b[1m Total params: \u001b[0m\u001b[38;5;34m1,169\u001b[0m (4.57 KB)\n"
      ]
     },
     "metadata": {},
     "output_type": "display_data"
    },
    {
     "data": {
      "text/html": [
       "<pre style=\"white-space:pre;overflow-x:auto;line-height:normal;font-family:Menlo,'DejaVu Sans Mono',consolas,'Courier New',monospace\"><span style=\"font-weight: bold\"> Trainable params: </span><span style=\"color: #00af00; text-decoration-color: #00af00\">1,169</span> (4.57 KB)\n",
       "</pre>\n"
      ],
      "text/plain": [
       "\u001b[1m Trainable params: \u001b[0m\u001b[38;5;34m1,169\u001b[0m (4.57 KB)\n"
      ]
     },
     "metadata": {},
     "output_type": "display_data"
    },
    {
     "data": {
      "text/html": [
       "<pre style=\"white-space:pre;overflow-x:auto;line-height:normal;font-family:Menlo,'DejaVu Sans Mono',consolas,'Courier New',monospace\"><span style=\"font-weight: bold\"> Non-trainable params: </span><span style=\"color: #00af00; text-decoration-color: #00af00\">0</span> (0.00 B)\n",
       "</pre>\n"
      ],
      "text/plain": [
       "\u001b[1m Non-trainable params: \u001b[0m\u001b[38;5;34m0\u001b[0m (0.00 B)\n"
      ]
     },
     "metadata": {},
     "output_type": "display_data"
    }
   ],
   "source": [
    "model=keras.Sequential()\n",
    "model.add(keras.layers.Input(shape=(30, 1)))                                  # LSTM 입력 크기\n",
    "model.add(keras.layers.LSTM(16, activation='tanh', return_sequences=False))   # 시퀀스 중 마지막 상태만 출력 (회귀)\n",
    "model.add(keras.layers.Dense(1))                                              # 출력층\n",
    "model.summary()"
   ]
  },
  {
   "cell_type": "code",
   "execution_count": 265,
   "id": "caf6eded-e85e-42ae-802f-aeb321aeaed3",
   "metadata": {},
   "outputs": [],
   "source": [
    "def on_epoch_end_fun(epoch, logs):  \n",
    "    if(epoch + 1) % 10 == 0:\n",
    "       print(f\"Epoch {epoch+1}: loss={logs['loss']:.4f}, mse={logs['mse']:.4f}\")\n",
    "\n",
    "# 각 에포크가 끝날 때 on_epoch_end 함수\n",
    "print_callback=LambdaCallback(on_epoch_end=on_epoch_end_fun)\n",
    "\n",
    "# 학습 중단\n",
    "early_stopping_callback=EarlyStopping(monitor='loss',       \n",
    "                                      patience=20,                 # epoch 동안 개선이 없으면 학습 중단\n",
    "                                      verbose=1,                   # early stopping 메시지 출력  \n",
    "                                      restore_best_weights=True)   # 가장 좋은 가중치 복원              "
   ]
  },
  {
   "cell_type": "code",
   "execution_count": 267,
   "id": "286be4bd-884e-4859-8e4b-658b11aec65b",
   "metadata": {},
   "outputs": [
    {
     "name": "stdout",
     "output_type": "stream",
     "text": [
      "Epoch 10: loss=0.0022, mse=0.0022\n",
      "Epoch 20: loss=0.0014, mse=0.0014\n",
      "Epoch 30: loss=0.0010, mse=0.0010\n",
      "Epoch 40: loss=0.0009, mse=0.0009\n",
      "Epoch 50: loss=0.0009, mse=0.0009\n",
      "Epoch 60: loss=0.0008, mse=0.0008\n",
      "Epoch 70: loss=0.0007, mse=0.0007\n",
      "Epoch 80: loss=0.0007, mse=0.0007\n",
      "Epoch 90: loss=0.0006, mse=0.0006\n",
      "Epoch 100: loss=0.0006, mse=0.0006\n",
      "Restoring model weights from the end of the best epoch: 100.\n"
     ]
    },
    {
     "data": {
      "text/plain": [
       "<keras.src.callbacks.history.History at 0x21d67116090>"
      ]
     },
     "execution_count": 267,
     "metadata": {},
     "output_type": "execute_result"
    }
   ],
   "source": [
    "model.compile(optimizer='adam', loss='mean_squared_error', metrics=['mse'])\n",
    "model.fit(X_train, Y_train, epochs=100, batch_size=16,  verbose=0, shuffle=False, callbacks=[print_callback, early_stopping_callback])"
   ]
  },
  {
   "cell_type": "markdown",
   "id": "4d16e119-29ad-4ee3-a6c7-f2c5285a21e2",
   "metadata": {},
   "source": [
    "### 평가"
   ]
  },
  {
   "cell_type": "code",
   "execution_count": 270,
   "id": "0c6b7e1e-1897-48c2-a21a-88564a970229",
   "metadata": {},
   "outputs": [
    {
     "data": {
      "text/plain": [
       "((245, 30, 1), (245, 1))"
      ]
     },
     "execution_count": 270,
     "metadata": {},
     "output_type": "execute_result"
    }
   ],
   "source": [
    "X_test, Y_test=make_sample(test_data, 30)\n",
    "X_test.shape, Y_test.shape"
   ]
  },
  {
   "cell_type": "code",
   "execution_count": 272,
   "id": "1ad8cb71-1b50-4f54-aad5-b1c993066070",
   "metadata": {},
   "outputs": [
    {
     "name": "stdout",
     "output_type": "stream",
     "text": [
      "\u001b[1m8/8\u001b[0m \u001b[32m━━━━━━━━━━━━━━━━━━━━\u001b[0m\u001b[37m\u001b[0m \u001b[1m1s\u001b[0m 10ms/step - loss: 0.0011 - mse: 0.0011         \n",
      "Test Loss: 0.0011, Test MSE: 0.0011\n"
     ]
    }
   ],
   "source": [
    "test_loss, test_mse=model.evaluate(X_test, Y_test)\n",
    "print(f\"Test Loss: {test_loss:.4f}, Test MSE: {test_mse:.4f}\")"
   ]
  },
  {
   "cell_type": "code",
   "execution_count": 274,
   "id": "8f56ea86-5068-43cb-a91b-38720df8c993",
   "metadata": {},
   "outputs": [
    {
     "name": "stdout",
     "output_type": "stream",
     "text": [
      "\u001b[1m8/8\u001b[0m \u001b[32m━━━━━━━━━━━━━━━━━━━━\u001b[0m\u001b[37m\u001b[0m \u001b[1m1s\u001b[0m 40ms/step\n"
     ]
    }
   ],
   "source": [
    "pred=model.predict(X_test)"
   ]
  },
  {
   "cell_type": "code",
   "execution_count": 276,
   "id": "3bbc5176-92d6-45e4-9350-95a60973e2d1",
   "metadata": {},
   "outputs": [
    {
     "name": "stdout",
     "output_type": "stream",
     "text": [
      "R² Score: 0.9798919585569604\n"
     ]
    }
   ],
   "source": [
    "r2=r2_score(Y_test, pred)\n",
    "print(\"R² Score:\", r2)"
   ]
  },
  {
   "cell_type": "code",
   "execution_count": 278,
   "id": "2fb1c647-22c5-486a-ad76-de567b0f4be9",
   "metadata": {},
   "outputs": [
    {
     "data": {
      "image/png": "[encoded data removed]",
      "text/plain": [
       "<Figure size 1000x500 with 1 Axes>"
      ]
     },
     "metadata": {},
     "output_type": "display_data"
    }
   ],
   "source": [
    "plt.figure(figsize=(10, 5))\n",
    "plt.plot(Y_test, label='stock price')\n",
    "plt.plot(pred, label='predicted')\n",
    "plt.legend()\n",
    "plt.show()"
   ]
  },
  {
   "cell_type": "code",
   "execution_count": 280,
   "id": "17667be5-3c15-4b61-b09c-38a06b6be9a2",
   "metadata": {},
   "outputs": [
    {
     "name": "stdout",
     "output_type": "stream",
     "text": [
      "\u001b[1m1/1\u001b[0m \u001b[32m━━━━━━━━━━━━━━━━━━━━\u001b[0m\u001b[37m\u001b[0m \u001b[1m0s\u001b[0m 63ms/step\n",
      "[[0.26313713]]\n",
      "[[55262.15]]\n",
      "예측된 다음날 가격: 55262.15\n"
     ]
    }
   ],
   "source": [
    "# 최근 30일 데이터를 사용해 다음날 가격 예측\n",
    "last_sequence=X_test[-1:]     # 마지막 1개의 샘플, 이미 (1, 30, 1) 형태\n",
    "last_sequence\n",
    "\n",
    "# 예측 수행\n",
    "predicted_price=model.predict(last_sequence)\n",
    "print(predicted_price)\n",
    "\n",
    "# 원래 가격대로 변환 (역정규화)\n",
    "predicted_price=min_max_scaler.inverse_transform(predicted_price)\n",
    "print(predicted_price)\n",
    "\n",
    "print(f\"예측된 다음날 가격: {predicted_price[0][0]:.2f}\")"
   ]
  },
  {
   "cell_type": "code",
   "execution_count": 282,
   "id": "fa35d373-83ab-42f5-8dd2-659f25716bc7",
   "metadata": {},
   "outputs": [
    {
     "data": {
      "text/html": [
       "<div>\n",
       "<style scoped>\n",
       "    .dataframe tbody tr th:only-of-type {\n",
       "        vertical-align: middle;\n",
       "    }\n",
       "\n",
       "    .dataframe tbody tr th {\n",
       "        vertical-align: top;\n",
       "    }\n",
       "\n",
       "    .dataframe thead th {\n",
       "        text-align: right;\n",
       "    }\n",
       "</style>\n",
       "<table border=\"1\" class=\"dataframe\">\n",
       "  <thead>\n",
       "    <tr style=\"text-align: right;\">\n",
       "      <th></th>\n",
       "      <th>Close</th>\n",
       "    </tr>\n",
       "    <tr>\n",
       "      <th>Date</th>\n",
       "      <th></th>\n",
       "    </tr>\n",
       "  </thead>\n",
       "  <tbody>\n",
       "    <tr>\n",
       "      <th>2025-04-11</th>\n",
       "      <td>55200</td>\n",
       "    </tr>\n",
       "  </tbody>\n",
       "</table>\n",
       "</div>"
      ],
      "text/plain": [
       "            Close\n",
       "Date             \n",
       "2025-04-11  55200"
      ]
     },
     "execution_count": 282,
     "metadata": {},
     "output_type": "execute_result"
    }
   ],
   "source": [
    "seq_data.tail(1)"
   ]
  },
  {
   "cell_type": "markdown",
   "id": "46ee137c-09db-4e9a-b38b-8bd9a583ee45",
   "metadata": {},
   "source": [
    "# 마트 상품\n",
    "- 기저귀 금액 예측"
   ]
  },
  {
   "cell_type": "markdown",
   "id": "59128414-a871-4a64-8136-7b2549fa1526",
   "metadata": {},
   "source": [
    "## 데이터 불러오기"
   ]
  },
  {
   "cell_type": "code",
   "execution_count": 49,
   "id": "b22b5b34-9091-4349-9034-bc5405c78c1b",
   "metadata": {},
   "outputs": [
    {
     "data": {
      "text/plain": [
       "(585, 2)"
      ]
     },
     "execution_count": 49,
     "metadata": {},
     "output_type": "execute_result"
    }
   ],
   "source": [
    "mart=pd.read_csv('./../../workspace/MachineLearning/Data/supervised/mart_diaper.csv')\n",
    "mart.shape"
   ]
  },
  {
   "cell_type": "code",
   "execution_count": 51,
   "id": "ec79ee91-cee2-4c8f-81e8-27b3467b3852",
   "metadata": {},
   "outputs": [
    {
     "data": {
      "text/html": [
       "<div>\n",
       "<style scoped>\n",
       "    .dataframe tbody tr th:only-of-type {\n",
       "        vertical-align: middle;\n",
       "    }\n",
       "\n",
       "    .dataframe tbody tr th {\n",
       "        vertical-align: top;\n",
       "    }\n",
       "\n",
       "    .dataframe thead th {\n",
       "        text-align: right;\n",
       "    }\n",
       "</style>\n",
       "<table border=\"1\" class=\"dataframe\">\n",
       "  <thead>\n",
       "    <tr style=\"text-align: right;\">\n",
       "      <th></th>\n",
       "      <th>구매일</th>\n",
       "      <th>구매금액</th>\n",
       "    </tr>\n",
       "  </thead>\n",
       "  <tbody>\n",
       "    <tr>\n",
       "      <th>0</th>\n",
       "      <td>2019-01-01</td>\n",
       "      <td>3051240</td>\n",
       "    </tr>\n",
       "    <tr>\n",
       "      <th>1</th>\n",
       "      <td>2019-01-02</td>\n",
       "      <td>2556280</td>\n",
       "    </tr>\n",
       "    <tr>\n",
       "      <th>2</th>\n",
       "      <td>2019-01-03</td>\n",
       "      <td>2729480</td>\n",
       "    </tr>\n",
       "    <tr>\n",
       "      <th>3</th>\n",
       "      <td>2019-01-04</td>\n",
       "      <td>2238440</td>\n",
       "    </tr>\n",
       "    <tr>\n",
       "      <th>4</th>\n",
       "      <td>2019-01-05</td>\n",
       "      <td>2478680</td>\n",
       "    </tr>\n",
       "  </tbody>\n",
       "</table>\n",
       "</div>"
      ],
      "text/plain": [
       "          구매일     구매금액\n",
       "0  2019-01-01  3051240\n",
       "1  2019-01-02  2556280\n",
       "2  2019-01-03  2729480\n",
       "3  2019-01-04  2238440\n",
       "4  2019-01-05  2478680"
      ]
     },
     "execution_count": 51,
     "metadata": {},
     "output_type": "execute_result"
    }
   ],
   "source": [
    "mart.head()"
   ]
  },
  {
   "cell_type": "code",
   "execution_count": 53,
   "id": "c625bb14-c35e-4772-945f-f254dc45d6ce",
   "metadata": {},
   "outputs": [
    {
     "name": "stdout",
     "output_type": "stream",
     "text": [
      "<class 'pandas.core.frame.DataFrame'>\n",
      "RangeIndex: 585 entries, 0 to 584\n",
      "Data columns (total 2 columns):\n",
      " #   Column  Non-Null Count  Dtype \n",
      "---  ------  --------------  ----- \n",
      " 0   구매일     585 non-null    object\n",
      " 1   구매금액    585 non-null    int64 \n",
      "dtypes: int64(1), object(1)\n",
      "memory usage: 9.3+ KB\n"
     ]
    }
   ],
   "source": [
    "mart.info()"
   ]
  },
  {
   "cell_type": "code",
   "execution_count": 55,
   "id": "d4944bfd-c30f-439f-995f-472028ec9ee6",
   "metadata": {},
   "outputs": [],
   "source": [
    "mart['구매일']=pd.to_datetime(mart['구매일'])"
   ]
  },
  {
   "cell_type": "code",
   "execution_count": 57,
   "id": "6b4ff93a-7774-4bdd-a832-0e763c9a983f",
   "metadata": {},
   "outputs": [],
   "source": [
    "mart.set_index('구매일', inplace=True)"
   ]
  },
  {
   "cell_type": "code",
   "execution_count": 59,
   "id": "ce98faa2-0699-4f74-b420-7a0d1bfe98e6",
   "metadata": {},
   "outputs": [
    {
     "data": {
      "text/html": [
       "<div>\n",
       "<style scoped>\n",
       "    .dataframe tbody tr th:only-of-type {\n",
       "        vertical-align: middle;\n",
       "    }\n",
       "\n",
       "    .dataframe tbody tr th {\n",
       "        vertical-align: top;\n",
       "    }\n",
       "\n",
       "    .dataframe thead th {\n",
       "        text-align: right;\n",
       "    }\n",
       "</style>\n",
       "<table border=\"1\" class=\"dataframe\">\n",
       "  <thead>\n",
       "    <tr style=\"text-align: right;\">\n",
       "      <th></th>\n",
       "      <th>구매금액</th>\n",
       "    </tr>\n",
       "    <tr>\n",
       "      <th>구매일</th>\n",
       "      <th></th>\n",
       "    </tr>\n",
       "  </thead>\n",
       "  <tbody>\n",
       "    <tr>\n",
       "      <th>2019-01-01</th>\n",
       "      <td>3051240</td>\n",
       "    </tr>\n",
       "    <tr>\n",
       "      <th>2019-01-02</th>\n",
       "      <td>2556280</td>\n",
       "    </tr>\n",
       "    <tr>\n",
       "      <th>2019-01-03</th>\n",
       "      <td>2729480</td>\n",
       "    </tr>\n",
       "    <tr>\n",
       "      <th>2019-01-04</th>\n",
       "      <td>2238440</td>\n",
       "    </tr>\n",
       "    <tr>\n",
       "      <th>2019-01-05</th>\n",
       "      <td>2478680</td>\n",
       "    </tr>\n",
       "  </tbody>\n",
       "</table>\n",
       "</div>"
      ],
      "text/plain": [
       "               구매금액\n",
       "구매일                \n",
       "2019-01-01  3051240\n",
       "2019-01-02  2556280\n",
       "2019-01-03  2729480\n",
       "2019-01-04  2238440\n",
       "2019-01-05  2478680"
      ]
     },
     "execution_count": 59,
     "metadata": {},
     "output_type": "execute_result"
    }
   ],
   "source": [
    "mart.head()"
   ]
  },
  {
   "cell_type": "markdown",
   "id": "d4966db4-2ec9-4018-9d34-3364ee291299",
   "metadata": {},
   "source": [
    "## 데이터 전처리"
   ]
  },
  {
   "cell_type": "code",
   "execution_count": 62,
   "id": "39230009-633a-4d84-9e43-67c7953c71ad",
   "metadata": {},
   "outputs": [],
   "source": [
    "min_max_scaler=MinMaxScaler()\n",
    "min_max_scaled=min_max_scaler.fit_transform(mart)"
   ]
  },
  {
   "cell_type": "code",
   "execution_count": 64,
   "id": "0b16f16a-3091-4fb0-a219-a7acf7814b17",
   "metadata": {},
   "outputs": [
    {
     "data": {
      "text/plain": [
       "((468, 1), (117, 1))"
      ]
     },
     "execution_count": 64,
     "metadata": {},
     "output_type": "execute_result"
    }
   ],
   "source": [
    "train_data, test_data=train_test_split(min_max_scaled, test_size=0.2, shuffle=False)\n",
    "train_data.shape, test_data.shape"
   ]
  },
  {
   "cell_type": "code",
   "execution_count": 66,
   "id": "f35b4c6e-4ac3-4a18-9540-e1dc06fbaa57",
   "metadata": {},
   "outputs": [],
   "source": [
    "def make_sample(data, window):\n",
    "    train=[]\n",
    "    target=[]\n",
    "\n",
    "    for i in range(len(data) - window):\n",
    "        train.append(data[i:i + window])\n",
    "        target.append(data[i + window])\n",
    "    return np.array(train), np.array(target)"
   ]
  },
  {
   "cell_type": "code",
   "execution_count": 68,
   "id": "33d8ab0c-5f7f-4274-bed1-121867b513a5",
   "metadata": {},
   "outputs": [
    {
     "data": {
      "text/plain": [
       "((461, 7, 1), (461, 1))"
      ]
     },
     "execution_count": 68,
     "metadata": {},
     "output_type": "execute_result"
    }
   ],
   "source": [
    "seq_length=7\n",
    "\n",
    "X_train, Y_train=make_sample(train_data, seq_length)\n",
    "X_train.shape, Y_train.shape"
   ]
  },
  {
   "cell_type": "code",
   "execution_count": 70,
   "id": "6d3e95e7-7f22-48eb-9a94-5dd39a52ac75",
   "metadata": {},
   "outputs": [
    {
     "data": {
      "text/plain": [
       "((368, 7, 1), (368, 1), (93, 7, 1), (93, 1))"
      ]
     },
     "execution_count": 70,
     "metadata": {},
     "output_type": "execute_result"
    }
   ],
   "source": [
    "# 검증 데이터 나누기\n",
    "\n",
    "split=int(len(X_train) * 0.8)\n",
    "X, X_val=X_train[:split], X_train[split:]\n",
    "Y, Y_val=Y_train[:split], Y_train[split:]\n",
    "X.shape, Y.shape, X_val.shape, Y_val.shape"
   ]
  },
  {
   "attachments": {},
   "cell_type": "markdown",
   "id": "4a9196fe-0851-4969-90e8-a3d18c64cdcd",
   "metadata": {},
   "source": [
    "## 학습"
   ]
  },
  {
   "cell_type": "code",
   "execution_count": 73,
   "id": "fb908c96-6f6f-4ae3-8f6d-fcbeae9eac4b",
   "metadata": {},
   "outputs": [
    {
     "data": {
      "text/html": [
       "<pre style=\"white-space:pre;overflow-x:auto;line-height:normal;font-family:Menlo,'DejaVu Sans Mono',consolas,'Courier New',monospace\"><span style=\"font-weight: bold\">Model: \"sequential_1\"</span>\n",
       "</pre>\n"
      ],
      "text/plain": [
       "\u001b[1mModel: \"sequential_1\"\u001b[0m\n"
      ]
     },
     "metadata": {},
     "output_type": "display_data"
    },
    {
     "data": {
      "text/html": [
       "<pre style=\"white-space:pre;overflow-x:auto;line-height:normal;font-family:Menlo,'DejaVu Sans Mono',consolas,'Courier New',monospace\">┏━━━━━━━━━━━━━━━━━━━━━━━━━━━━━━━━━━━━━━┳━━━━━━━━━━━━━━━━━━━━━━━━━━━━━┳━━━━━━━━━━━━━━━━━┓\n",
       "┃<span style=\"font-weight: bold\"> Layer (type)                         </span>┃<span style=\"font-weight: bold\"> Output Shape                </span>┃<span style=\"font-weight: bold\">         Param # </span>┃\n",
       "┡━━━━━━━━━━━━━━━━━━━━━━━━━━━━━━━━━━━━━━╇━━━━━━━━━━━━━━━━━━━━━━━━━━━━━╇━━━━━━━━━━━━━━━━━┩\n",
       "│ lstm_1 (<span style=\"color: #0087ff; text-decoration-color: #0087ff\">LSTM</span>)                        │ (<span style=\"color: #00d7ff; text-decoration-color: #00d7ff\">None</span>, <span style=\"color: #00af00; text-decoration-color: #00af00\">16</span>)                  │           <span style=\"color: #00af00; text-decoration-color: #00af00\">1,152</span> │\n",
       "├──────────────────────────────────────┼─────────────────────────────┼─────────────────┤\n",
       "│ dense_1 (<span style=\"color: #0087ff; text-decoration-color: #0087ff\">Dense</span>)                      │ (<span style=\"color: #00d7ff; text-decoration-color: #00d7ff\">None</span>, <span style=\"color: #00af00; text-decoration-color: #00af00\">1</span>)                   │              <span style=\"color: #00af00; text-decoration-color: #00af00\">17</span> │\n",
       "└──────────────────────────────────────┴─────────────────────────────┴─────────────────┘\n",
       "</pre>\n"
      ],
      "text/plain": [
       "┏━━━━━━━━━━━━━━━━━━━━━━━━━━━━━━━━━━━━━━┳━━━━━━━━━━━━━━━━━━━━━━━━━━━━━┳━━━━━━━━━━━━━━━━━┓\n",
       "┃\u001b[1m \u001b[0m\u001b[1mLayer (type)                        \u001b[0m\u001b[1m \u001b[0m┃\u001b[1m \u001b[0m\u001b[1mOutput Shape               \u001b[0m\u001b[1m \u001b[0m┃\u001b[1m \u001b[0m\u001b[1m        Param #\u001b[0m\u001b[1m \u001b[0m┃\n",
       "┡━━━━━━━━━━━━━━━━━━━━━━━━━━━━━━━━━━━━━━╇━━━━━━━━━━━━━━━━━━━━━━━━━━━━━╇━━━━━━━━━━━━━━━━━┩\n",
       "│ lstm_1 (\u001b[38;5;33mLSTM\u001b[0m)                        │ (\u001b[38;5;45mNone\u001b[0m, \u001b[38;5;34m16\u001b[0m)                  │           \u001b[38;5;34m1,152\u001b[0m │\n",
       "├──────────────────────────────────────┼─────────────────────────────┼─────────────────┤\n",
       "│ dense_1 (\u001b[38;5;33mDense\u001b[0m)                      │ (\u001b[38;5;45mNone\u001b[0m, \u001b[38;5;34m1\u001b[0m)                   │              \u001b[38;5;34m17\u001b[0m │\n",
       "└──────────────────────────────────────┴─────────────────────────────┴─────────────────┘\n"
      ]
     },
     "metadata": {},
     "output_type": "display_data"
    },
    {
     "data": {
      "text/html": [
       "<pre style=\"white-space:pre;overflow-x:auto;line-height:normal;font-family:Menlo,'DejaVu Sans Mono',consolas,'Courier New',monospace\"><span style=\"font-weight: bold\"> Total params: </span><span style=\"color: #00af00; text-decoration-color: #00af00\">1,169</span> (4.57 KB)\n",
       "</pre>\n"
      ],
      "text/plain": [
       "\u001b[1m Total params: \u001b[0m\u001b[38;5;34m1,169\u001b[0m (4.57 KB)\n"
      ]
     },
     "metadata": {},
     "output_type": "display_data"
    },
    {
     "data": {
      "text/html": [
       "<pre style=\"white-space:pre;overflow-x:auto;line-height:normal;font-family:Menlo,'DejaVu Sans Mono',consolas,'Courier New',monospace\"><span style=\"font-weight: bold\"> Trainable params: </span><span style=\"color: #00af00; text-decoration-color: #00af00\">1,169</span> (4.57 KB)\n",
       "</pre>\n"
      ],
      "text/plain": [
       "\u001b[1m Trainable params: \u001b[0m\u001b[38;5;34m1,169\u001b[0m (4.57 KB)\n"
      ]
     },
     "metadata": {},
     "output_type": "display_data"
    },
    {
     "data": {
      "text/html": [
       "<pre style=\"white-space:pre;overflow-x:auto;line-height:normal;font-family:Menlo,'DejaVu Sans Mono',consolas,'Courier New',monospace\"><span style=\"font-weight: bold\"> Non-trainable params: </span><span style=\"color: #00af00; text-decoration-color: #00af00\">0</span> (0.00 B)\n",
       "</pre>\n"
      ],
      "text/plain": [
       "\u001b[1m Non-trainable params: \u001b[0m\u001b[38;5;34m0\u001b[0m (0.00 B)\n"
      ]
     },
     "metadata": {},
     "output_type": "display_data"
    }
   ],
   "source": [
    "model=keras.Sequential()\n",
    "model.add(keras.layers.Input(shape=(seq_length, 1)))                              \n",
    "model.add(keras.layers.LSTM(16, activation='tanh', return_sequences=False))  \n",
    "model.add(keras.layers.Dense(1))                                                 \n",
    "model.summary()"
   ]
  },
  {
   "cell_type": "code",
   "execution_count": 77,
   "id": "8edcb835-17a0-4a63-898d-ce78aab7e6fd",
   "metadata": {},
   "outputs": [],
   "source": [
    "def on_epoch_end_fun(epoch, logs):  \n",
    "    if(epoch + 1) % 20 == 0:\n",
    "        print(f\"Epoch {epoch+1}: loss={logs['loss']:.4f}, mse={logs['mse']:.4f}\", \n",
    "              f\"val_loss={logs['val_loss']:.4f}, val_mse={logs['val_loss']:.4f}\")\n",
    "        \n",
    "# 각 에포크가 끝날 때 on_epoch_end 함수\n",
    "print_callback=LambdaCallback(on_epoch_end=on_epoch_end_fun)\n",
    "\n",
    "# 학습 중단\n",
    "history=early_stopping_callback=EarlyStopping(monitor='val_loss',       \n",
    "                                              patience=20,                 # epoch 동안 개선이 없으면 학습 중단\n",
    "                                              verbose=1,                   # early stopping 메시지 출력  \n",
    "                                              restore_best_weights=True)   # 가장 좋은 가중치 복원    "
   ]
  },
  {
   "cell_type": "code",
   "execution_count": 79,
   "id": "450193e4-f1ae-498e-98c7-056fdf15c73a",
   "metadata": {},
   "outputs": [
    {
     "name": "stdout",
     "output_type": "stream",
     "text": [
      "Epoch 20: loss=0.0113, mse=0.0113 val_loss=0.0132, val_mse=0.0132\n",
      "Epoch 40: loss=0.0093, mse=0.0093 val_loss=0.0100, val_mse=0.0100\n",
      "Epoch 60: loss=0.0083, mse=0.0083 val_loss=0.0087, val_mse=0.0087\n",
      "Epoch 80: loss=0.0081, mse=0.0081 val_loss=0.0086, val_mse=0.0086\n",
      "Epoch 100: loss=0.0080, mse=0.0080 val_loss=0.0085, val_mse=0.0085\n",
      "Epoch 120: loss=0.0080, mse=0.0080 val_loss=0.0085, val_mse=0.0085\n",
      "Epoch 140: loss=0.0079, mse=0.0079 val_loss=0.0084, val_mse=0.0084\n",
      "Epoch 160: loss=0.0078, mse=0.0078 val_loss=0.0084, val_mse=0.0084\n",
      "Epoch 180: loss=0.0077, mse=0.0077 val_loss=0.0084, val_mse=0.0084\n",
      "Epoch 200: loss=0.0076, mse=0.0076 val_loss=0.0084, val_mse=0.0084\n",
      "Epoch 220: loss=0.0076, mse=0.0076 val_loss=0.0084, val_mse=0.0084\n",
      "Epoch 223: early stopping\n",
      "Restoring model weights from the end of the best epoch: 203.\n"
     ]
    }
   ],
   "source": [
    "model.compile(optimizer='adam', loss='mean_squared_error', metrics=['mse'])\n",
    "history=model.fit(X_train, Y_train, epochs=500, \n",
    "                  batch_size=16, verbose=0,\n",
    "                  shuffle=False,\n",
    "                  validation_data=(X_val, Y_val),\n",
    "                  callbacks=[print_callback, early_stopping_callback])"
   ]
  },
  {
   "cell_type": "markdown",
   "id": "27364767-1ba2-4cfa-8cf5-30befc20331b",
   "metadata": {},
   "source": [
    "## 평가"
   ]
  },
  {
   "cell_type": "code",
   "execution_count": 103,
   "id": "7b3aa27a-192a-406a-86d5-743ca4ac7dcc",
   "metadata": {},
   "outputs": [
    {
     "data": {
      "text/plain": [
       "((110, 7, 1), (110, 1))"
      ]
     },
     "execution_count": 103,
     "metadata": {},
     "output_type": "execute_result"
    }
   ],
   "source": [
    "X_test, Y_test=make_sample(test_data, seq_length)\n",
    "X_test.shape, Y_test.shape"
   ]
  },
  {
   "cell_type": "code",
   "execution_count": 85,
   "id": "b31f5782-9d0c-44a1-a34e-066b185b4bf7",
   "metadata": {},
   "outputs": [
    {
     "name": "stdout",
     "output_type": "stream",
     "text": [
      "\u001b[1m4/4\u001b[0m \u001b[32m━━━━━━━━━━━━━━━━━━━━\u001b[0m\u001b[37m\u001b[0m \u001b[1m0s\u001b[0m 16ms/step - loss: 0.0018 - mse: 0.0018\n",
      "Test Loss: 0.0013, Test MSE: 0.0013\n"
     ]
    }
   ],
   "source": [
    "test_loss, test_mse=model.evaluate(X_test, Y_test)\n",
    "print(f\"Test Loss: {test_loss:.4f}, Test MSE: {test_mse:.4f}\")"
   ]
  },
  {
   "cell_type": "code",
   "execution_count": 87,
   "id": "dcb6c959-e929-4a9e-971d-994370dabded",
   "metadata": {},
   "outputs": [
    {
     "data": {
      "image/png": "[encoded data removed]",
      "text/plain": [
       "<Figure size 640x480 with 1 Axes>"
      ]
     },
     "metadata": {},
     "output_type": "display_data"
    }
   ],
   "source": [
    "plt.plot(history.history['loss'], label='Train Loss')\n",
    "plt.plot(history.history['val_loss'], label='Validation Loss')\n",
    "plt.xlabel('epoch')\n",
    "plt.ylabel('loss')\n",
    "plt.legend()\n",
    "plt.show()"
   ]
  },
  {
   "cell_type": "code",
   "execution_count": 107,
   "id": "e81d05f6-4295-473b-8e4b-bf5afc5515b7",
   "metadata": {},
   "outputs": [],
   "source": [
    "# np.var(Y_test)"
   ]
  },
  {
   "cell_type": "code",
   "execution_count": 105,
   "id": "50c9f341-7699-4e18-9f6b-2dc1594b0464",
   "metadata": {},
   "outputs": [
    {
     "name": "stdout",
     "output_type": "stream",
     "text": [
      "\u001b[1m4/4\u001b[0m \u001b[32m━━━━━━━━━━━━━━━━━━━━\u001b[0m\u001b[37m\u001b[0m \u001b[1m0s\u001b[0m 12ms/step\n"
     ]
    }
   ],
   "source": [
    "pred=model.predict(X_test)"
   ]
  },
  {
   "cell_type": "code",
   "execution_count": 109,
   "id": "9497976a-fc96-4ef5-88e2-7d0d68a70c20",
   "metadata": {},
   "outputs": [
    {
     "data": {
      "text/plain": [
       "0.3358066201512475"
      ]
     },
     "execution_count": 109,
     "metadata": {},
     "output_type": "execute_result"
    }
   ],
   "source": [
    "r2=r2_score(Y_test, pred)\n",
    "r2"
   ]
  },
  {
   "cell_type": "code",
   "execution_count": 95,
   "id": "17f89970-17e7-46c9-9fc0-6a0a5730a53c",
   "metadata": {},
   "outputs": [
    {
     "data": {
      "image/png": "[encoded data removed]",
      "text/plain": [
       "<Figure size 1000x500 with 1 Axes>"
      ]
     },
     "metadata": {},
     "output_type": "display_data"
    }
   ],
   "source": [
    "plt.figure(figsize=(10, 5))\n",
    "plt.plot(Y_test, label='stock price')\n",
    "plt.plot(pred, label='predicted')\n",
    "plt.legend()\n",
    "plt.show()"
   ]
  },
  {
   "cell_type": "code",
   "execution_count": 111,
   "id": "95b053c6-696b-43ce-9bfd-842a413bc889",
   "metadata": {},
   "outputs": [
    {
     "name": "stdout",
     "output_type": "stream",
     "text": [
      "\u001b[1m1/1\u001b[0m \u001b[32m━━━━━━━━━━━━━━━━━━━━\u001b[0m\u001b[37m\u001b[0m \u001b[1m0s\u001b[0m 84ms/step\n",
      "[[0.05229516]]\n",
      "[[3157174.5]]\n",
      "예측된 다음날 가격: 3157174.50\n"
     ]
    }
   ],
   "source": [
    "# 최근 30일 데이터를 사용해 다음날 가격 예측\n",
    "last_sequence=X_test[-1:]     # 마지막 1개의 샘플, 이미 (1, 30, 1) 형태\n",
    "last_sequence\n",
    "\n",
    "# 예측 수행\n",
    "predicted_price=model.predict(last_sequence)\n",
    "print(predicted_price)\n",
    "\n",
    "# 원래 가격대로 변환 (역정규화)\n",
    "predicted_price=min_max_scaler.inverse_transform(predicted_price)\n",
    "print(predicted_price)\n",
    "\n",
    "print(f\"예측된 다음날 가격: {predicted_price[0][0]:.2f}\")"
   ]
  },
  {
   "cell_type": "code",
   "execution_count": 113,
   "id": "38aee78d-ec1e-45fe-972d-bb99e4714230",
   "metadata": {},
   "outputs": [
    {
     "data": {
      "text/html": [
       "<div>\n",
       "<style scoped>\n",
       "    .dataframe tbody tr th:only-of-type {\n",
       "        vertical-align: middle;\n",
       "    }\n",
       "\n",
       "    .dataframe tbody tr th {\n",
       "        vertical-align: top;\n",
       "    }\n",
       "\n",
       "    .dataframe thead th {\n",
       "        text-align: right;\n",
       "    }\n",
       "</style>\n",
       "<table border=\"1\" class=\"dataframe\">\n",
       "  <thead>\n",
       "    <tr style=\"text-align: right;\">\n",
       "      <th></th>\n",
       "      <th>구매금액</th>\n",
       "    </tr>\n",
       "    <tr>\n",
       "      <th>구매일</th>\n",
       "      <th></th>\n",
       "    </tr>\n",
       "  </thead>\n",
       "  <tbody>\n",
       "    <tr>\n",
       "      <th>2020-08-07</th>\n",
       "      <td>1022300</td>\n",
       "    </tr>\n",
       "  </tbody>\n",
       "</table>\n",
       "</div>"
      ],
      "text/plain": [
       "               구매금액\n",
       "구매일                \n",
       "2020-08-07  1022300"
      ]
     },
     "execution_count": 113,
     "metadata": {},
     "output_type": "execute_result"
    }
   ],
   "source": [
    "mart.tail(1)"
   ]
  },
  {
   "cell_type": "code",
   "execution_count": 119,
   "id": "441caf95-7051-4ce7-bf90-541f917ea500",
   "metadata": {},
   "outputs": [],
   "source": [
    "# 모델 저장\n",
    "model.save('./Deep_result/mart.keras')"
   ]
  },
  {
   "cell_type": "code",
   "execution_count": 137,
   "id": "447f2685-840e-437d-b70a-e0c9ac1f1bfe",
   "metadata": {},
   "outputs": [],
   "source": [
    "# 가중치 저장 \n",
    "model.save_weights('./Deep_result/mart_weights.weights.h5')"
   ]
  },
  {
   "cell_type": "code",
   "execution_count": 143,
   "id": "e54396d9-d8ed-49bb-a032-bbe39c8427a2",
   "metadata": {},
   "outputs": [
    {
     "name": "stdout",
     "output_type": "stream",
     "text": [
      "\u001b[1m4/4\u001b[0m \u001b[32m━━━━━━━━━━━━━━━━━━━━\u001b[0m\u001b[37m\u001b[0m \u001b[1m0s\u001b[0m 15ms/step\n"
     ]
    },
    {
     "data": {
      "text/plain": [
       "0.3358066201512475"
      ]
     },
     "execution_count": 143,
     "metadata": {},
     "output_type": "execute_result"
    }
   ],
   "source": [
    "model.load_weights('./Deep_result/mart_weights.weights.h5')\n",
    "predictions = model.predict(X_test)\n",
    "r2_score(Y_test, pred)"
   ]
  }
 ],
 "metadata": {
  "kernelspec": {
   "display_name": "Python [conda env:base] *",
   "language": "python",
   "name": "conda-base-py"
  },
  "language_info": {
   "codemirror_mode": {
    "name": "ipython",
    "version": 3
   },
   "file_extension": ".py",
   "mimetype": "text/x-python",
   "name": "python",
   "nbconvert_exporter": "python",
   "pygments_lexer": "ipython3",
   "version": "3.12.7"
  }
 },
 "nbformat": 4,
 "nbformat_minor": 5
}
