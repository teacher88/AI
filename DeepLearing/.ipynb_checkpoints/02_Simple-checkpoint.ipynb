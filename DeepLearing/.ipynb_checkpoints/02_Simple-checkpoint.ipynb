{
 "cells": [
  {
   "cell_type": "markdown",
   "id": "d40993c0-d968-43a1-a0c5-ffc50911035a",
   "metadata": {},
   "source": [
    "# 인공 신경망 (artificial neural network, ANN)"
   ]
  },
  {
   "cell_type": "code",
   "execution_count": 33,
   "id": "008804cf-6716-4e4d-b642-0f6907d85ca4",
   "metadata": {},
   "outputs": [],
   "source": [
    "import numpy as np\n",
    "import pandas as pd\n",
    "import seaborn as sns\n",
    "\n",
    "import matplotlib.pyplot as plt\n",
    "import matplotlib.pyplot as plt             \n",
    "import matplotlib as mpl                    \n",
    "mpl.rc('font', family='Malgun Gothic')      \n",
    "plt.rcParams['axes.unicode_minus'] = False  \n",
    "\n",
    "from sklearn.model_selection import train_test_split\n",
    "from sklearn.preprocessing import MinMaxScaler\n",
    "from sklearn import metrics\n",
    "\n",
    "import tensorflow as tf\n",
    "from tensorflow import keras     \n",
    "from tensorflow.keras.models import Sequential\n",
    "from tensorflow.keras.optimizers import SGD, Adam\n",
    "from keras.models import load_model\n",
    "\n",
    "from keras.callbacks import ModelCheckpoint, EarlyStopping\n",
    "from tensorflow.keras.callbacks import LambdaCallback"
   ]
  },
  {
   "cell_type": "markdown",
   "id": "502a882c-4376-4bd6-992f-cfa438c78727",
   "metadata": {},
   "source": [
    "## 보스톤 집값 예측 \n",
    "- 506 * 14\n",
    "- 특성\n",
    "   - CRIM – 인구 1인당 범죄율\n",
    "   - ZN – 25,000 평방피트 이상 주택 비율(%)\n",
    "   - INDUS – 비소매 상업지역 비율(%)\n",
    "   - CHAS – 찰스강 인접 여부 (1: 인접, 0: 인접X)\n",
    "   - NOX – 일산화질소 농도(ppm)\n",
    "   - RM – 평균 방 개수\n",
    "   - AGE – 1940년 이전 지어진 주택 비율(%)\n",
    "   - DIS – 직업 중심지까지의 거리(가중 평균)\n",
    "   - RAD – 방사형 고속도로 접근성 지수\n",
    "   - TAX – 재산세율 (10,000달러당)\n",
    "   - PTRATIO – 학생-교사 비율\n",
    "   - B – 흑인 비율 지수(1000(0.63 - 흑인 비율)^2)\n",
    "   - LSTAT – 저소득층 비율(%)\n",
    "- 타겟 값: 주택 가격(MEDV, 단위: 1,000달러) / 예) 0.5는 30,500달러를 의미"
   ]
  },
  {
   "cell_type": "code",
   "execution_count": 19,
   "id": "29168313-d4cf-4f2a-a71b-abf770b738a2",
   "metadata": {},
   "outputs": [],
   "source": [
    "np.random.seed(42)\n",
    "tf.random.set_seed(42)"
   ]
  },
  {
   "cell_type": "markdown",
   "id": "edf732ff-d09f-45ce-973e-b37861675adc",
   "metadata": {},
   "source": [
    "### 데이터 분할 및 전처리"
   ]
  },
  {
   "cell_type": "code",
   "execution_count": 22,
   "id": "9c833e92-ff2a-4f06-8a97-dbafdd062b7a",
   "metadata": {},
   "outputs": [],
   "source": [
    "house=pd.read_csv('./Data/boston.csv')\n",
    "# house.shape\n",
    "# house.head()\n",
    "# house.info()\n",
    "# house.isnull().sum()"
   ]
  },
  {
   "cell_type": "code",
   "execution_count": 24,
   "id": "6c2b0dc7-3eaf-42a3-8a95-902a4ec72e9d",
   "metadata": {},
   "outputs": [],
   "source": [
    "X=house.drop('MEDV', axis=1)\n",
    "Y=house['MEDV']\n",
    "X_train, X_test, Y_train, Y_test=train_test_split(X, Y, test_size=0.2, random_state=42)"
   ]
  },
  {
   "cell_type": "code",
   "execution_count": 26,
   "id": "ecd3d9d1-4fea-42e0-b896-f05d24dfd79b",
   "metadata": {},
   "outputs": [],
   "source": [
    "scaler=MinMaxScaler()\n",
    "X_train=scaler.fit_transform(X_train)\n",
    "X_test=scaler.transform(X_test)"
   ]
  },
  {
   "cell_type": "code",
   "execution_count": 28,
   "id": "833f3360-3990-4de1-b3bc-9766390b18c9",
   "metadata": {},
   "outputs": [
    {
     "data": {
      "text/plain": [
       "13"
      ]
     },
     "execution_count": 28,
     "metadata": {},
     "output_type": "execute_result"
    }
   ],
   "source": [
    "X_train.shape\n",
    "X_train.shape[1]"
   ]
  },
  {
   "cell_type": "markdown",
   "id": "91925f19-75d5-4c84-b552-f44123e6864f",
   "metadata": {},
   "source": [
    "### 모델 구성 - 학습\n",
    "- MLP 모델 >> 컴파일 >> 학습 "
   ]
  },
  {
   "cell_type": "code",
   "execution_count": 31,
   "id": "a94a5664-66bf-4f78-8a93-c28ad1c00f2b",
   "metadata": {},
   "outputs": [
    {
     "data": {
      "text/html": [
       "<pre style=\"white-space:pre;overflow-x:auto;line-height:normal;font-family:Menlo,'DejaVu Sans Mono',consolas,'Courier New',monospace\"><span style=\"font-weight: bold\">Model: \"sequential\"</span>\n",
       "</pre>\n"
      ],
      "text/plain": [
       "\u001b[1mModel: \"sequential\"\u001b[0m\n"
      ]
     },
     "metadata": {},
     "output_type": "display_data"
    },
    {
     "data": {
      "text/html": [
       "<pre style=\"white-space:pre;overflow-x:auto;line-height:normal;font-family:Menlo,'DejaVu Sans Mono',consolas,'Courier New',monospace\">┏━━━━━━━━━━━━━━━━━━━━━━━━━━━━━━━━━━━━━━┳━━━━━━━━━━━━━━━━━━━━━━━━━━━━━┳━━━━━━━━━━━━━━━━━┓\n",
       "┃<span style=\"font-weight: bold\"> Layer (type)                         </span>┃<span style=\"font-weight: bold\"> Output Shape                </span>┃<span style=\"font-weight: bold\">         Param # </span>┃\n",
       "┡━━━━━━━━━━━━━━━━━━━━━━━━━━━━━━━━━━━━━━╇━━━━━━━━━━━━━━━━━━━━━━━━━━━━━╇━━━━━━━━━━━━━━━━━┩\n",
       "│ dense (<span style=\"color: #0087ff; text-decoration-color: #0087ff\">Dense</span>)                        │ (<span style=\"color: #00d7ff; text-decoration-color: #00d7ff\">None</span>, <span style=\"color: #00af00; text-decoration-color: #00af00\">64</span>)                  │             <span style=\"color: #00af00; text-decoration-color: #00af00\">896</span> │\n",
       "├──────────────────────────────────────┼─────────────────────────────┼─────────────────┤\n",
       "│ dense_1 (<span style=\"color: #0087ff; text-decoration-color: #0087ff\">Dense</span>)                      │ (<span style=\"color: #00d7ff; text-decoration-color: #00d7ff\">None</span>, <span style=\"color: #00af00; text-decoration-color: #00af00\">32</span>)                  │           <span style=\"color: #00af00; text-decoration-color: #00af00\">2,080</span> │\n",
       "├──────────────────────────────────────┼─────────────────────────────┼─────────────────┤\n",
       "│ dense_2 (<span style=\"color: #0087ff; text-decoration-color: #0087ff\">Dense</span>)                      │ (<span style=\"color: #00d7ff; text-decoration-color: #00d7ff\">None</span>, <span style=\"color: #00af00; text-decoration-color: #00af00\">1</span>)                   │              <span style=\"color: #00af00; text-decoration-color: #00af00\">33</span> │\n",
       "└──────────────────────────────────────┴─────────────────────────────┴─────────────────┘\n",
       "</pre>\n"
      ],
      "text/plain": [
       "┏━━━━━━━━━━━━━━━━━━━━━━━━━━━━━━━━━━━━━━┳━━━━━━━━━━━━━━━━━━━━━━━━━━━━━┳━━━━━━━━━━━━━━━━━┓\n",
       "┃\u001b[1m \u001b[0m\u001b[1mLayer (type)                        \u001b[0m\u001b[1m \u001b[0m┃\u001b[1m \u001b[0m\u001b[1mOutput Shape               \u001b[0m\u001b[1m \u001b[0m┃\u001b[1m \u001b[0m\u001b[1m        Param #\u001b[0m\u001b[1m \u001b[0m┃\n",
       "┡━━━━━━━━━━━━━━━━━━━━━━━━━━━━━━━━━━━━━━╇━━━━━━━━━━━━━━━━━━━━━━━━━━━━━╇━━━━━━━━━━━━━━━━━┩\n",
       "│ dense (\u001b[38;5;33mDense\u001b[0m)                        │ (\u001b[38;5;45mNone\u001b[0m, \u001b[38;5;34m64\u001b[0m)                  │             \u001b[38;5;34m896\u001b[0m │\n",
       "├──────────────────────────────────────┼─────────────────────────────┼─────────────────┤\n",
       "│ dense_1 (\u001b[38;5;33mDense\u001b[0m)                      │ (\u001b[38;5;45mNone\u001b[0m, \u001b[38;5;34m32\u001b[0m)                  │           \u001b[38;5;34m2,080\u001b[0m │\n",
       "├──────────────────────────────────────┼─────────────────────────────┼─────────────────┤\n",
       "│ dense_2 (\u001b[38;5;33mDense\u001b[0m)                      │ (\u001b[38;5;45mNone\u001b[0m, \u001b[38;5;34m1\u001b[0m)                   │              \u001b[38;5;34m33\u001b[0m │\n",
       "└──────────────────────────────────────┴─────────────────────────────┴─────────────────┘\n"
      ]
     },
     "metadata": {},
     "output_type": "display_data"
    },
    {
     "data": {
      "text/html": [
       "<pre style=\"white-space:pre;overflow-x:auto;line-height:normal;font-family:Menlo,'DejaVu Sans Mono',consolas,'Courier New',monospace\"><span style=\"font-weight: bold\"> Total params: </span><span style=\"color: #00af00; text-decoration-color: #00af00\">3,009</span> (11.75 KB)\n",
       "</pre>\n"
      ],
      "text/plain": [
       "\u001b[1m Total params: \u001b[0m\u001b[38;5;34m3,009\u001b[0m (11.75 KB)\n"
      ]
     },
     "metadata": {},
     "output_type": "display_data"
    },
    {
     "data": {
      "text/html": [
       "<pre style=\"white-space:pre;overflow-x:auto;line-height:normal;font-family:Menlo,'DejaVu Sans Mono',consolas,'Courier New',monospace\"><span style=\"font-weight: bold\"> Trainable params: </span><span style=\"color: #00af00; text-decoration-color: #00af00\">3,009</span> (11.75 KB)\n",
       "</pre>\n"
      ],
      "text/plain": [
       "\u001b[1m Trainable params: \u001b[0m\u001b[38;5;34m3,009\u001b[0m (11.75 KB)\n"
      ]
     },
     "metadata": {},
     "output_type": "display_data"
    },
    {
     "data": {
      "text/html": [
       "<pre style=\"white-space:pre;overflow-x:auto;line-height:normal;font-family:Menlo,'DejaVu Sans Mono',consolas,'Courier New',monospace\"><span style=\"font-weight: bold\"> Non-trainable params: </span><span style=\"color: #00af00; text-decoration-color: #00af00\">0</span> (0.00 B)\n",
       "</pre>\n"
      ],
      "text/plain": [
       "\u001b[1m Non-trainable params: \u001b[0m\u001b[38;5;34m0\u001b[0m (0.00 B)\n"
      ]
     },
     "metadata": {},
     "output_type": "display_data"
    }
   ],
   "source": [
    "# 1) 딥러닝 모델\n",
    "model=keras.Sequential()\n",
    "model.add(keras.layers.Input(shape=(X_train.shape[1], )))  # 506, 13 / 506 자동으로 처리\n",
    "\n",
    "model.add(keras.layers.Dense(64, activation='relu'))\n",
    "# model.add(keras.layers.Dropout(0.3))         #  30% 삭제 / 노드 수가 많은 은닉층 뒤에 배치하는 것이 효과\n",
    "\n",
    "model.add(keras.layers.Dense(32, activation='relu'))\n",
    "# model.add(keras.layers.Dropout(0.2))\n",
    "\n",
    "model.add(keras.layers.Dense(1))\n",
    "model.summary()"
   ]
  },
  {
   "cell_type": "code",
   "execution_count": 33,
   "id": "dacc9b76-fdb8-482c-9d3e-a2cf35bf9bd3",
   "metadata": {},
   "outputs": [],
   "source": [
    "# 2) 모델 컴파일\n",
    "model.compile(optimizer='adam',                # learning_rate=0.01 / default / Adam(learning_rate=0.0002)\n",
    "              loss='mean_squared_error',      \n",
    "              metrics=['mse'])                "
   ]
  },
  {
   "cell_type": "markdown",
   "id": "49072cb3-c9f4-46e3-9486-62630965b640",
   "metadata": {},
   "source": [
    "#### CallBack 함수"
   ]
  },
  {
   "cell_type": "code",
   "execution_count": 36,
   "id": "86963d4f-ee17-417d-afcc-76024c3c10c8",
   "metadata": {},
   "outputs": [],
   "source": [
    "# 3-1) \n",
    "# 20 epoch마다 진행 상황 출력\n",
    "def on_epoch_end_fun(epoch, logs):  \n",
    "    if(epoch + 1) % 20 == 0:\n",
    "        # print(f\"Epoch {epoch+1}: loss={logs['loss']:.4f}, mse={logs['mse']:.4f}\")\n",
    "        print(f\"Epoch {epoch+1}: loss={logs['loss']:.4f}, mse={logs['mse']:.4f}\", \n",
    "              f\"val_loss={logs['val_loss']:.4f}, val_mse={logs['val_loss']:.4f}\")\n",
    "\n",
    "# 각 에포크가 끝날 때 on_epoch_end 함수\n",
    "print_callback=LambdaCallback(on_epoch_end=on_epoch_end_fun)\n",
    "\n",
    "# 학습 중단\n",
    "stopping_callback=EarlyStopping(monitor='val_loss',         # 검증 손실(val_loss)을 모니터링\n",
    "                                patience=20,                # 100 epoch 동안 개선이 없으면 학습 중단\n",
    "                                verbose=1,                   # early stopping 메시지 출력  \n",
    "                                restore_best_weights=True)   # 가장 좋은 가중치 복원 "
   ]
  },
  {
   "cell_type": "code",
   "execution_count": 38,
   "id": "01e005aa-6185-4f1c-a07b-94f25a860214",
   "metadata": {},
   "outputs": [
    {
     "name": "stdout",
     "output_type": "stream",
     "text": [
      "Epoch 20: loss=29.3603, mse=29.3603 val_loss=26.2505, val_mse=26.2505\n",
      "Epoch 40: loss=17.7175, mse=17.7175 val_loss=21.7107, val_mse=21.7107\n",
      "Epoch 60: loss=15.3967, mse=15.3967 val_loss=19.4895, val_mse=19.4895\n",
      "Epoch 80: loss=13.8709, mse=13.8709 val_loss=17.6365, val_mse=17.6365\n",
      "Epoch 100: loss=12.5572, mse=12.5572 val_loss=16.0996, val_mse=16.0996\n",
      "Epoch 120: loss=11.1622, mse=11.1622 val_loss=14.8454, val_mse=14.8454\n",
      "Epoch 140: loss=9.9303, mse=9.9303 val_loss=13.8769, val_mse=13.8769\n",
      "Epoch 160: loss=8.9585, mse=8.9585 val_loss=13.1750, val_mse=13.1750\n",
      "Epoch 180: loss=8.0623, mse=8.0623 val_loss=12.4570, val_mse=12.4570\n",
      "Epoch 200: loss=7.2360, mse=7.2360 val_loss=11.7501, val_mse=11.7501\n",
      "Restoring model weights from the end of the best epoch: 199.\n"
     ]
    }
   ],
   "source": [
    "# 3) 학습\n",
    "history=model.fit(X_train, \n",
    "                  Y_train, \n",
    "                  epochs=200, \n",
    "                  validation_split=0.2, \n",
    "                  batch_size=10, \n",
    "                  verbose=0,                #  콜백 함수 시 작성, verbose=0 출력 안함 / default 1\n",
    "                  callbacks=[print_callback, stopping_callback])"
   ]
  },
  {
   "cell_type": "markdown",
   "id": "fe0b4a21-e797-4d7a-b78a-b9165c5fd9f7",
   "metadata": {},
   "source": [
    "#### 평가 지표"
   ]
  },
  {
   "cell_type": "code",
   "execution_count": 40,
   "id": "c651eb9e-991a-484f-999c-523dbfb326f5",
   "metadata": {},
   "outputs": [
    {
     "name": "stdout",
     "output_type": "stream",
     "text": [
      "\u001b[1m4/4\u001b[0m \u001b[32m━━━━━━━━━━━━━━━━━━━━\u001b[0m\u001b[37m\u001b[0m \u001b[1m0s\u001b[0m 34ms/step\n"
     ]
    },
    {
     "data": {
      "text/plain": [
       "0.8410981646023087"
      ]
     },
     "execution_count": 40,
     "metadata": {},
     "output_type": "execute_result"
    }
   ],
   "source": [
    "pred=model.predict(X_test)\n",
    "r2=metrics.r2_score(Y_test, pred)\n",
    "r2"
   ]
  },
  {
   "cell_type": "code",
   "execution_count": 41,
   "id": "36950065-7f42-423e-a3c0-faab522ed633",
   "metadata": {},
   "outputs": [
    {
     "data": {
      "text/plain": [
       "(2.2563388656167422, 11.652872740831626, 3.413630434131912)"
      ]
     },
     "execution_count": 41,
     "metadata": {},
     "output_type": "execute_result"
    }
   ],
   "source": [
    "mae=metrics.mean_absolute_error(Y_test, pred)\n",
    "mse=metrics.mean_squared_error(Y_test, pred)\n",
    "rmse=metrics.root_mean_squared_error(Y_test, pred)\n",
    "mae, mse, rmse"
   ]
  },
  {
   "cell_type": "code",
   "execution_count": 42,
   "id": "066f9745-40b7-4a40-b348-cff0deacb016",
   "metadata": {},
   "outputs": [
    {
     "data": {
      "image/png": "[encoded data removed]",
      "text/plain": [
       "<Figure size 640x480 with 1 Axes>"
      ]
     },
     "metadata": {},
     "output_type": "display_data"
    }
   ],
   "source": [
    "# 그래프 \n",
    "plt.plot(history.history['loss'], label='Train Loss')\n",
    "plt.plot(history.history['val_loss'], label='Validation Loss')\n",
    "\n",
    "plt.xlabel('epoch')\n",
    "plt.ylabel('loss')\n",
    "plt.legend()\n",
    "plt.show()"
   ]
  },
  {
   "cell_type": "markdown",
   "id": "683875e3-724e-4615-9329-9364e86d6c81",
   "metadata": {},
   "source": [
    "# 와인\n",
    "- https://archive.ics.uci.edu/dataset/109/wine\n",
    "- !pip install ucimlrepo"
   ]
  },
  {
   "cell_type": "markdown",
   "id": "ad41ba4b-9983-4777-a1a3-da81a063ecfc",
   "metadata": {},
   "source": [
    "## 데이터 전처리"
   ]
  },
  {
   "cell_type": "code",
   "execution_count": 53,
   "id": "29cb8eb4-f985-4d5b-bb28-c090627d77e1",
   "metadata": {},
   "outputs": [],
   "source": [
    "from ucimlrepo import fetch_ucirepo "
   ]
  },
  {
   "cell_type": "code",
   "execution_count": 55,
   "id": "ce312284-23a7-4311-93c9-18405f067764",
   "metadata": {},
   "outputs": [],
   "source": [
    "# fetch dataset \n",
    "wine=fetch_ucirepo(id=109) \n",
    "  \n",
    "# data (as pandas dataframes) \n",
    "X=wine.data.features \n",
    "Y=wine.data.targets \n",
    "  \n",
    "# metadata \n",
    "# print(wine.metadata) \n",
    "  \n",
    "# variable information \n",
    "# print(wine.variables) "
   ]
  },
  {
   "cell_type": "code",
   "execution_count": 56,
   "id": "b941e417-9736-4dce-b368-1790b6bb402a",
   "metadata": {},
   "outputs": [
    {
     "data": {
      "text/plain": [
       "(178, 13)"
      ]
     },
     "execution_count": 56,
     "metadata": {},
     "output_type": "execute_result"
    }
   ],
   "source": [
    "X.shape\n",
    "# X.head()\n",
    "# X.info()\n",
    "# X.isnull().sum()\n",
    "# X.describe()"
   ]
  },
  {
   "cell_type": "code",
   "execution_count": 59,
   "id": "49c24b0e-ad5f-46c1-92a3-f543399da504",
   "metadata": {},
   "outputs": [
    {
     "data": {
      "text/plain": [
       "class\n",
       "2        71\n",
       "1        59\n",
       "3        48\n",
       "Name: count, dtype: int64"
      ]
     },
     "execution_count": 59,
     "metadata": {},
     "output_type": "execute_result"
    }
   ],
   "source": [
    "# Y.shape\n",
    "# Y.head()\n",
    "# Y.info()\n",
    "Y.value_counts()   # 재배 지역에서 생산된 와인들을 대표하는 레이블"
   ]
  },
  {
   "cell_type": "code",
   "execution_count": 61,
   "id": "613b2144-da0a-4ea3-834d-52cea60293ad",
   "metadata": {},
   "outputs": [],
   "source": [
    "# categorical_crossentropy  \n",
    "# Y_categorical=to_categorical(Y, num_classes=3)\n",
    "# Y_categorical    \n",
    "\n",
    "# sparse_categorical_crossentropy 원핫인코딩 되어 있음\n",
    "Y=Y-1\n",
    "# Y"
   ]
  },
  {
   "cell_type": "code",
   "execution_count": 63,
   "id": "cb05910c-32ff-4bc2-a15c-f0f05b4cb2fc",
   "metadata": {},
   "outputs": [],
   "source": [
    "X_train, X_test, Y_train, Y_test=train_test_split(X, Y, test_size=0.2, random_state=42)"
   ]
  },
  {
   "cell_type": "code",
   "execution_count": 65,
   "id": "2026c77b-c59d-4aac-ae2b-966578cde810",
   "metadata": {},
   "outputs": [],
   "source": [
    "scaler=MinMaxScaler()\n",
    "X_train=scaler.fit_transform(X_train)\n",
    "X_test=scaler.transform(X_test)"
   ]
  },
  {
   "cell_type": "markdown",
   "id": "350d528e-c712-44b8-a9c3-35820fda9e4d",
   "metadata": {},
   "source": [
    "### 모델 구성 - 학습\n",
    "- MLP 모델 >> 컴파일 >> 학습 "
   ]
  },
  {
   "cell_type": "code",
   "execution_count": 67,
   "id": "cdfbc469-6260-4600-b1fe-4634d58b1b40",
   "metadata": {},
   "outputs": [
    {
     "data": {
      "text/html": [
       "<pre style=\"white-space:pre;overflow-x:auto;line-height:normal;font-family:Menlo,'DejaVu Sans Mono',consolas,'Courier New',monospace\"><span style=\"font-weight: bold\">Model: \"sequential_1\"</span>\n",
       "</pre>\n"
      ],
      "text/plain": [
       "\u001b[1mModel: \"sequential_1\"\u001b[0m\n"
      ]
     },
     "metadata": {},
     "output_type": "display_data"
    },
    {
     "data": {
      "text/html": [
       "<pre style=\"white-space:pre;overflow-x:auto;line-height:normal;font-family:Menlo,'DejaVu Sans Mono',consolas,'Courier New',monospace\">┏━━━━━━━━━━━━━━━━━━━━━━━━━━━━━━━━━━━━━━┳━━━━━━━━━━━━━━━━━━━━━━━━━━━━━┳━━━━━━━━━━━━━━━━━┓\n",
       "┃<span style=\"font-weight: bold\"> Layer (type)                         </span>┃<span style=\"font-weight: bold\"> Output Shape                </span>┃<span style=\"font-weight: bold\">         Param # </span>┃\n",
       "┡━━━━━━━━━━━━━━━━━━━━━━━━━━━━━━━━━━━━━━╇━━━━━━━━━━━━━━━━━━━━━━━━━━━━━╇━━━━━━━━━━━━━━━━━┩\n",
       "│ dense_2 (<span style=\"color: #0087ff; text-decoration-color: #0087ff\">Dense</span>)                      │ (<span style=\"color: #00d7ff; text-decoration-color: #00d7ff\">None</span>, <span style=\"color: #00af00; text-decoration-color: #00af00\">64</span>)                  │             <span style=\"color: #00af00; text-decoration-color: #00af00\">896</span> │\n",
       "├──────────────────────────────────────┼─────────────────────────────┼─────────────────┤\n",
       "│ dense_3 (<span style=\"color: #0087ff; text-decoration-color: #0087ff\">Dense</span>)                      │ (<span style=\"color: #00d7ff; text-decoration-color: #00d7ff\">None</span>, <span style=\"color: #00af00; text-decoration-color: #00af00\">3</span>)                   │             <span style=\"color: #00af00; text-decoration-color: #00af00\">195</span> │\n",
       "└──────────────────────────────────────┴─────────────────────────────┴─────────────────┘\n",
       "</pre>\n"
      ],
      "text/plain": [
       "┏━━━━━━━━━━━━━━━━━━━━━━━━━━━━━━━━━━━━━━┳━━━━━━━━━━━━━━━━━━━━━━━━━━━━━┳━━━━━━━━━━━━━━━━━┓\n",
       "┃\u001b[1m \u001b[0m\u001b[1mLayer (type)                        \u001b[0m\u001b[1m \u001b[0m┃\u001b[1m \u001b[0m\u001b[1mOutput Shape               \u001b[0m\u001b[1m \u001b[0m┃\u001b[1m \u001b[0m\u001b[1m        Param #\u001b[0m\u001b[1m \u001b[0m┃\n",
       "┡━━━━━━━━━━━━━━━━━━━━━━━━━━━━━━━━━━━━━━╇━━━━━━━━━━━━━━━━━━━━━━━━━━━━━╇━━━━━━━━━━━━━━━━━┩\n",
       "│ dense_2 (\u001b[38;5;33mDense\u001b[0m)                      │ (\u001b[38;5;45mNone\u001b[0m, \u001b[38;5;34m64\u001b[0m)                  │             \u001b[38;5;34m896\u001b[0m │\n",
       "├──────────────────────────────────────┼─────────────────────────────┼─────────────────┤\n",
       "│ dense_3 (\u001b[38;5;33mDense\u001b[0m)                      │ (\u001b[38;5;45mNone\u001b[0m, \u001b[38;5;34m3\u001b[0m)                   │             \u001b[38;5;34m195\u001b[0m │\n",
       "└──────────────────────────────────────┴─────────────────────────────┴─────────────────┘\n"
      ]
     },
     "metadata": {},
     "output_type": "display_data"
    },
    {
     "data": {
      "text/html": [
       "<pre style=\"white-space:pre;overflow-x:auto;line-height:normal;font-family:Menlo,'DejaVu Sans Mono',consolas,'Courier New',monospace\"><span style=\"font-weight: bold\"> Total params: </span><span style=\"color: #00af00; text-decoration-color: #00af00\">1,091</span> (4.26 KB)\n",
       "</pre>\n"
      ],
      "text/plain": [
       "\u001b[1m Total params: \u001b[0m\u001b[38;5;34m1,091\u001b[0m (4.26 KB)\n"
      ]
     },
     "metadata": {},
     "output_type": "display_data"
    },
    {
     "data": {
      "text/html": [
       "<pre style=\"white-space:pre;overflow-x:auto;line-height:normal;font-family:Menlo,'DejaVu Sans Mono',consolas,'Courier New',monospace\"><span style=\"font-weight: bold\"> Trainable params: </span><span style=\"color: #00af00; text-decoration-color: #00af00\">1,091</span> (4.26 KB)\n",
       "</pre>\n"
      ],
      "text/plain": [
       "\u001b[1m Trainable params: \u001b[0m\u001b[38;5;34m1,091\u001b[0m (4.26 KB)\n"
      ]
     },
     "metadata": {},
     "output_type": "display_data"
    },
    {
     "data": {
      "text/html": [
       "<pre style=\"white-space:pre;overflow-x:auto;line-height:normal;font-family:Menlo,'DejaVu Sans Mono',consolas,'Courier New',monospace\"><span style=\"font-weight: bold\"> Non-trainable params: </span><span style=\"color: #00af00; text-decoration-color: #00af00\">0</span> (0.00 B)\n",
       "</pre>\n"
      ],
      "text/plain": [
       "\u001b[1m Non-trainable params: \u001b[0m\u001b[38;5;34m0\u001b[0m (0.00 B)\n"
      ]
     },
     "metadata": {},
     "output_type": "display_data"
    }
   ],
   "source": [
    "# 1) 딥러닝 모델\n",
    "model=keras.Sequential()\n",
    "model.add(keras.layers.Input(shape=(X_train.shape[1], )))  \n",
    "\n",
    "model.add(keras.layers.Dense(64, activation='relu'))\n",
    "# model.add(keras.layers.Dropout(0.3))         \n",
    "\n",
    "model.add(keras.layers.Dense(3, activation='softmax'))\n",
    "model.summary()"
   ]
  },
  {
   "cell_type": "code",
   "execution_count": 69,
   "id": "9293443c-ca90-48fa-b360-3c6816e21079",
   "metadata": {},
   "outputs": [],
   "source": [
    "# 2) 모델 컴파일\n",
    "model.compile(optimizer='adam',                # learning_rate=0.01 / default / Adam(learning_rate=0.0002)\n",
    "              loss='sparse_categorical_crossentropy',      \n",
    "              metrics=['accuracy'])    "
   ]
  },
  {
   "cell_type": "markdown",
   "id": "ede46bae-fc5e-400d-a181-3ecc176e7313",
   "metadata": {},
   "source": [
    "#### CallBack 함수"
   ]
  },
  {
   "cell_type": "code",
   "execution_count": 71,
   "id": "eb88e708-d538-4e38-a7cb-79d46df54e35",
   "metadata": {},
   "outputs": [],
   "source": [
    "# 3-1) \n",
    "# 20 epoch마다 진행 상황 출력\n",
    "def on_epoch_end_fun(epoch, logs):  \n",
    "    if(epoch + 1) % 20 == 0:\n",
    "        print(f\"Epoch {epoch+1}: loss={logs['loss']:.4f}, accuracy={logs['accuracy']:.4f}\", \n",
    "              f\"val_loss={logs['val_loss']:.4f}, val_accuracy={logs['val_accuracy']:.4f}\")\n",
    "\n",
    "# 각 에포크가 끝날 때 on_epoch_end 함수\n",
    "print_callback=LambdaCallback(on_epoch_end=on_epoch_end_fun)\n",
    "\n",
    "# 학습 중단\n",
    "stopping_callback=EarlyStopping(monitor='val_loss',         # 검증 손실(val_loss)을 모니터링\n",
    "                                patience=10,                # 100 epoch 동안 개선이 없으면 학습 중단\n",
    "                                verbose=1,                   # early stopping 메시지 출력  \n",
    "                                restore_best_weights=True)   # 가장 좋은 가중치 복원 "
   ]
  },
  {
   "cell_type": "code",
   "execution_count": 73,
   "id": "b7f0af90-0b6a-466c-8018-b2d31b4da610",
   "metadata": {},
   "outputs": [
    {
     "name": "stdout",
     "output_type": "stream",
     "text": [
      "Epoch 20: loss=0.7321, accuracy=0.9469 val_loss=0.6752, val_accuracy=0.9655\n",
      "Epoch 40: loss=0.4133, accuracy=0.9558 val_loss=0.3465, val_accuracy=0.9655\n",
      "Restoring model weights from the end of the best epoch: 50.\n"
     ]
    }
   ],
   "source": [
    "# 3) 학습\n",
    "history=model.fit(X_train, \n",
    "                  Y_train, \n",
    "                  epochs=50, \n",
    "                  validation_split=0.2, \n",
    "                  verbose=0,                #  콜백 함수 시 작성, verbose=0 출력 안함 / default 1\n",
    "                  callbacks=[print_callback, stopping_callback])"
   ]
  },
  {
   "cell_type": "markdown",
   "id": "1fc15898-3f9f-4c15-b32b-4eb93455967d",
   "metadata": {},
   "source": [
    "#### 평가 지표"
   ]
  },
  {
   "cell_type": "code",
   "execution_count": 75,
   "id": "02c68cd2-45b7-4b90-a419-a99eae35a8f1",
   "metadata": {},
   "outputs": [
    {
     "name": "stdout",
     "output_type": "stream",
     "text": [
      "\u001b[1m2/2\u001b[0m \u001b[32m━━━━━━━━━━━━━━━━━━━━\u001b[0m\u001b[37m\u001b[0m \u001b[1m0s\u001b[0m 62ms/step - accuracy: 0.9421 - loss: 0.2964\n"
     ]
    },
    {
     "data": {
      "text/plain": [
       "[0.2913251519203186, 0.9444444179534912]"
      ]
     },
     "execution_count": 75,
     "metadata": {},
     "output_type": "execute_result"
    }
   ],
   "source": [
    "# 정확도\n",
    "model.evaluate(X_test, Y_test)    # loss, val_accuracy"
   ]
  },
  {
   "cell_type": "code",
   "execution_count": 78,
   "id": "d46163da-6c4b-4e6b-92d4-2975c2ffe054",
   "metadata": {},
   "outputs": [
    {
     "data": {
      "image/png": "[encoded data removed]",
      "text/plain": [
       "<Figure size 640x480 with 1 Axes>"
      ]
     },
     "metadata": {},
     "output_type": "display_data"
    }
   ],
   "source": [
    "# 그래프 \n",
    "plt.plot(history.history['loss'], label='Train Loss')\n",
    "plt.plot(history.history['val_loss'], label='Validation Loss')\n",
    "\n",
    "plt.xlabel('epoch')\n",
    "plt.ylabel('loss')\n",
    "plt.legend()\n",
    "plt.show()"
   ]
  },
  {
   "cell_type": "code",
   "execution_count": 81,
   "id": "61c18b2b-c03c-431d-9013-fc0685a6634e",
   "metadata": {},
   "outputs": [
    {
     "name": "stdout",
     "output_type": "stream",
     "text": [
      "\u001b[1m2/2\u001b[0m \u001b[32m━━━━━━━━━━━━━━━━━━━━\u001b[0m\u001b[37m\u001b[0m \u001b[1m0s\u001b[0m 94ms/step\n"
     ]
    }
   ],
   "source": [
    "predict(X_test)\n",
    "pred=np.argmax(pred_prob, axis=1)\n",
    "\n",
    "# 정답도 one-hot 시 → 정수\n",
    "# Y_classes = np.argmax(Y_test, axis=1)\n",
    "# Y_classes\n",
    "pred_prob=model."
   ]
  },
  {
   "cell_type": "code",
   "execution_count": 84,
   "id": "5c0a3726-5525-4f3a-8b64-3d8fcdc8b863",
   "metadata": {},
   "outputs": [
    {
     "name": "stdout",
     "output_type": "stream",
     "text": [
      "              precision    recall  f1-score   support\n",
      "\n",
      "           0       0.93      1.00      0.97        14\n",
      "           1       1.00      0.86      0.92        14\n",
      "           2       0.89      1.00      0.94         8\n",
      "\n",
      "    accuracy                           0.94        36\n",
      "   macro avg       0.94      0.95      0.94        36\n",
      "weighted avg       0.95      0.94      0.94        36\n",
      "\n"
     ]
    }
   ],
   "source": [
    "print(metrics.classification_report(Y_test, pred))"
   ]
  },
  {
   "cell_type": "code",
   "execution_count": null,
   "id": "d9fa25eb-7b14-4de0-b9f2-4f3806f48185",
   "metadata": {},
   "outputs": [],
   "source": []
  }
 ],
 "metadata": {
  "kernelspec": {
   "display_name": "Python [conda env:base] *",
   "language": "python",
   "name": "conda-base-py"
  },
  "language_info": {
   "codemirror_mode": {
    "name": "ipython",
    "version": 3
   },
   "file_extension": ".py",
   "mimetype": "text/x-python",
   "name": "python",
   "nbconvert_exporter": "python",
   "pygments_lexer": "ipython3",
   "version": "3.12.7"
  }
 },
 "nbformat": 4,
 "nbformat_minor": 5
}
