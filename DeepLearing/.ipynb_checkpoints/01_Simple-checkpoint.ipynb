{
 "cells": [
  {
   "cell_type": "markdown",
   "id": "d40993c0-d968-43a1-a0c5-ffc50911035a",
   "metadata": {},
   "source": [
    "# 인공 신경망 (artificial neural network, ANN)"
   ]
  },
  {
   "cell_type": "code",
   "execution_count": 15,
   "id": "d5c8debe-9b4a-42fd-8a86-d816b32277f5",
   "metadata": {},
   "outputs": [],
   "source": [
    "import numpy as np\n",
    "import pandas as pd\n",
    "import seaborn as sns\n",
    "\n",
    "import matplotlib.pyplot as plt\n",
    "import matplotlib.pyplot as plt             \n",
    "import matplotlib as mpl                    \n",
    "mpl.rc('font', family='Malgun Gothic')      \n",
    "plt.rcParams['axes.unicode_minus'] = False  \n",
    "\n",
    "from sklearn.model_selection import train_test_split\n",
    "from sklearn.preprocessing import MinMaxScaler\n",
    "from sklearn import metrics\n",
    "\n",
    "import tensorflow as tf\n",
    "from tensorflow import keras     \n",
    "from tensorflow.keras.models import Sequential\n",
    "from tensorflow.keras.optimizers import SGD, Adam\n",
    "from keras.models import load_model\n",
    "\n",
    "from keras.callbacks import ModelCheckpoint, EarlyStopping\n",
    "from tensorflow.keras.callbacks import LambdaCallback"
   ]
  },
  {
   "cell_type": "markdown",
   "id": "9c97611a-7b65-470b-918b-f0bcbd22dfc4",
   "metadata": {},
   "source": [
    "[Keras getting started](https://keras.io/getting_started/)\n",
    "\n",
    "[User Guide](https://keras.io/guides/)\n",
    "\n",
    "[API Reference](https://keras.io/api/)\n",
    "\n",
    "[Examples](https://keras.io/examples/)"
   ]
  },
  {
   "cell_type": "markdown",
   "id": "0da41fe7-5678-4f86-b32a-dcc6f419c20e",
   "metadata": {},
   "source": [
    "## XOR\n",
    "* 단층 퍼셉트론 (Single-layer Perceptron) : 입력층 + 출력층\n",
    "* 다층 퍼센트론 (Multi-layer Perceptron, MLP) : 입력층 + 은닉층 + 출력층\n",
    "* 딥러닝 (Deep Learning) : 여러 은닉층을 가진 딥 신경망(Deep Neural Network) : 입력층 + n 은닉층 .....  + 출력층\n",
    "* 인공 신경망 (Artificial Neural Network, ANN) : 단층 퍼셉트론, 다층 퍼센트론, 심층 신경망(딥러닝)"
   ]
  },
  {
   "cell_type": "code",
   "execution_count": 1,
   "id": "cf568f54-67b7-4bbe-9033-97d7c5bd1d94",
   "metadata": {},
   "outputs": [],
   "source": [
    "# 설치\n",
    "# pip install tensorflow"
   ]
  },
  {
   "cell_type": "code",
   "execution_count": 215,
   "id": "28aeb6db-7ad7-4e69-87f0-bce39c1d5e3a",
   "metadata": {},
   "outputs": [],
   "source": [
    "X=np.array([[0, 0], [0, 1], [1, 0], [1, 1]])  \n",
    "Y=np.array([[0], [1], [1], [0]])  "
   ]
  },
  {
   "cell_type": "markdown",
   "id": "3c1d426b-105c-4c6a-afab-dc7b1cf6df45",
   "metadata": {},
   "source": [
    "## 학습 절차\n",
    "- MLP(다층퍼셉트론) 모델 >> 컴파일 >> 학습\n",
    "- MLP(다층퍼셉트론) 모델 \n",
    "  - 입력층 >> 은닉층 >> 출력층\n",
    "- 컴파일\n",
    "  - 경사하강법 >> 비용함수 >> 정확도\n",
    "- 학습\n",
    "  - 학습횟수 "
   ]
  },
  {
   "cell_type": "code",
   "execution_count": 230,
   "id": "2cc18ee8-fd0f-48df-9f53-d1071488547b",
   "metadata": {},
   "outputs": [
    {
     "data": {
      "text/html": [
       "<pre style=\"white-space:pre;overflow-x:auto;line-height:normal;font-family:Menlo,'DejaVu Sans Mono',consolas,'Courier New',monospace\"><span style=\"font-weight: bold\">Model: \"sequential_9\"</span>\n",
       "</pre>\n"
      ],
      "text/plain": [
       "\u001b[1mModel: \"sequential_9\"\u001b[0m\n"
      ]
     },
     "metadata": {},
     "output_type": "display_data"
    },
    {
     "data": {
      "text/html": [
       "<pre style=\"white-space:pre;overflow-x:auto;line-height:normal;font-family:Menlo,'DejaVu Sans Mono',consolas,'Courier New',monospace\">┏━━━━━━━━━━━━━━━━━━━━━━━━━━━━━━━━━━━━━━┳━━━━━━━━━━━━━━━━━━━━━━━━━━━━━┳━━━━━━━━━━━━━━━━━┓\n",
       "┃<span style=\"font-weight: bold\"> Layer (type)                         </span>┃<span style=\"font-weight: bold\"> Output Shape                </span>┃<span style=\"font-weight: bold\">         Param # </span>┃\n",
       "┡━━━━━━━━━━━━━━━━━━━━━━━━━━━━━━━━━━━━━━╇━━━━━━━━━━━━━━━━━━━━━━━━━━━━━╇━━━━━━━━━━━━━━━━━┩\n",
       "│ dense_22 (<span style=\"color: #0087ff; text-decoration-color: #0087ff\">Dense</span>)                     │ (<span style=\"color: #00d7ff; text-decoration-color: #00d7ff\">None</span>, <span style=\"color: #00af00; text-decoration-color: #00af00\">10</span>)                  │              <span style=\"color: #00af00; text-decoration-color: #00af00\">30</span> │\n",
       "├──────────────────────────────────────┼─────────────────────────────┼─────────────────┤\n",
       "│ dense_23 (<span style=\"color: #0087ff; text-decoration-color: #0087ff\">Dense</span>)                     │ (<span style=\"color: #00d7ff; text-decoration-color: #00d7ff\">None</span>, <span style=\"color: #00af00; text-decoration-color: #00af00\">1</span>)                   │              <span style=\"color: #00af00; text-decoration-color: #00af00\">11</span> │\n",
       "└──────────────────────────────────────┴─────────────────────────────┴─────────────────┘\n",
       "</pre>\n"
      ],
      "text/plain": [
       "┏━━━━━━━━━━━━━━━━━━━━━━━━━━━━━━━━━━━━━━┳━━━━━━━━━━━━━━━━━━━━━━━━━━━━━┳━━━━━━━━━━━━━━━━━┓\n",
       "┃\u001b[1m \u001b[0m\u001b[1mLayer (type)                        \u001b[0m\u001b[1m \u001b[0m┃\u001b[1m \u001b[0m\u001b[1mOutput Shape               \u001b[0m\u001b[1m \u001b[0m┃\u001b[1m \u001b[0m\u001b[1m        Param #\u001b[0m\u001b[1m \u001b[0m┃\n",
       "┡━━━━━━━━━━━━━━━━━━━━━━━━━━━━━━━━━━━━━━╇━━━━━━━━━━━━━━━━━━━━━━━━━━━━━╇━━━━━━━━━━━━━━━━━┩\n",
       "│ dense_22 (\u001b[38;5;33mDense\u001b[0m)                     │ (\u001b[38;5;45mNone\u001b[0m, \u001b[38;5;34m10\u001b[0m)                  │              \u001b[38;5;34m30\u001b[0m │\n",
       "├──────────────────────────────────────┼─────────────────────────────┼─────────────────┤\n",
       "│ dense_23 (\u001b[38;5;33mDense\u001b[0m)                     │ (\u001b[38;5;45mNone\u001b[0m, \u001b[38;5;34m1\u001b[0m)                   │              \u001b[38;5;34m11\u001b[0m │\n",
       "└──────────────────────────────────────┴─────────────────────────────┴─────────────────┘\n"
      ]
     },
     "metadata": {},
     "output_type": "display_data"
    },
    {
     "data": {
      "text/html": [
       "<pre style=\"white-space:pre;overflow-x:auto;line-height:normal;font-family:Menlo,'DejaVu Sans Mono',consolas,'Courier New',monospace\"><span style=\"font-weight: bold\"> Total params: </span><span style=\"color: #00af00; text-decoration-color: #00af00\">41</span> (164.00 B)\n",
       "</pre>\n"
      ],
      "text/plain": [
       "\u001b[1m Total params: \u001b[0m\u001b[38;5;34m41\u001b[0m (164.00 B)\n"
      ]
     },
     "metadata": {},
     "output_type": "display_data"
    },
    {
     "data": {
      "text/html": [
       "<pre style=\"white-space:pre;overflow-x:auto;line-height:normal;font-family:Menlo,'DejaVu Sans Mono',consolas,'Courier New',monospace\"><span style=\"font-weight: bold\"> Trainable params: </span><span style=\"color: #00af00; text-decoration-color: #00af00\">41</span> (164.00 B)\n",
       "</pre>\n"
      ],
      "text/plain": [
       "\u001b[1m Trainable params: \u001b[0m\u001b[38;5;34m41\u001b[0m (164.00 B)\n"
      ]
     },
     "metadata": {},
     "output_type": "display_data"
    },
    {
     "data": {
      "text/html": [
       "<pre style=\"white-space:pre;overflow-x:auto;line-height:normal;font-family:Menlo,'DejaVu Sans Mono',consolas,'Courier New',monospace\"><span style=\"font-weight: bold\"> Non-trainable params: </span><span style=\"color: #00af00; text-decoration-color: #00af00\">0</span> (0.00 B)\n",
       "</pre>\n"
      ],
      "text/plain": [
       "\u001b[1m Non-trainable params: \u001b[0m\u001b[38;5;34m0\u001b[0m (0.00 B)\n"
      ]
     },
     "metadata": {},
     "output_type": "display_data"
    }
   ],
   "source": [
    "# MLP 모델\n",
    "model=keras.Sequential()    \n",
    "model.add(keras.layers.Input(shape=(2,)))  \n",
    "model.add(keras.layers.Dense(10, activation='relu'))      \n",
    "model.add(keras.layers.Dense(1, activation='sigmoid'))     # 다중분류 softmax, 회귀 model.add(keras.layers.Dense(1))  \n",
    "model.summary()"
   ]
  },
  {
   "cell_type": "markdown",
   "id": "9e04eeaf-ffc2-4d02-92ae-654d1454d415",
   "metadata": {},
   "source": [
    "- 첫번째 Dense 레이어\n",
    "    - 입력차원 : 2 \n",
    "    - 뉴런수 : 10\n",
    "    - 가중치 수 : (2 * 10) = 20 + 10(바이어스) = 30 \n",
    "- 두번째 Dense 레이어\n",
    "    - 뉴런수 : 1\n",
    "    - 가중치 수 : 10 * 1(출력) + 1(바이어스) =  11"
   ]
  },
  {
   "cell_type": "code",
   "execution_count": 237,
   "id": "bc0b8496-1e99-4551-a721-17f4b59e95b8",
   "metadata": {},
   "outputs": [
    {
     "name": "stdout",
     "output_type": "stream",
     "text": [
      "Epoch 1/10\n",
      "\u001b[1m1/1\u001b[0m \u001b[32m━━━━━━━━━━━━━━━━━━━━\u001b[0m\u001b[37m\u001b[0m \u001b[1m1s\u001b[0m 1s/step - accuracy: 0.7500 - loss: 0.7122\n",
      "Epoch 2/10\n",
      "\u001b[1m1/1\u001b[0m \u001b[32m━━━━━━━━━━━━━━━━━━━━\u001b[0m\u001b[37m\u001b[0m \u001b[1m0s\u001b[0m 106ms/step - accuracy: 0.5000 - loss: 0.7119\n",
      "Epoch 3/10\n",
      "\u001b[1m1/1\u001b[0m \u001b[32m━━━━━━━━━━━━━━━━━━━━\u001b[0m\u001b[37m\u001b[0m \u001b[1m0s\u001b[0m 104ms/step - accuracy: 0.7500 - loss: 0.7115\n",
      "Epoch 4/10\n",
      "\u001b[1m1/1\u001b[0m \u001b[32m━━━━━━━━━━━━━━━━━━━━\u001b[0m\u001b[37m\u001b[0m \u001b[1m0s\u001b[0m 104ms/step - accuracy: 0.7500 - loss: 0.7110\n",
      "Epoch 5/10\n",
      "\u001b[1m1/1\u001b[0m \u001b[32m━━━━━━━━━━━━━━━━━━━━\u001b[0m\u001b[37m\u001b[0m \u001b[1m0s\u001b[0m 112ms/step - accuracy: 0.7500 - loss: 0.7106\n",
      "Epoch 6/10\n",
      "\u001b[1m1/1\u001b[0m \u001b[32m━━━━━━━━━━━━━━━━━━━━\u001b[0m\u001b[37m\u001b[0m \u001b[1m0s\u001b[0m 117ms/step - accuracy: 0.7500 - loss: 0.7102\n",
      "Epoch 7/10\n",
      "\u001b[1m1/1\u001b[0m \u001b[32m━━━━━━━━━━━━━━━━━━━━\u001b[0m\u001b[37m\u001b[0m \u001b[1m0s\u001b[0m 111ms/step - accuracy: 0.7500 - loss: 0.7098\n",
      "Epoch 8/10\n",
      "\u001b[1m1/1\u001b[0m \u001b[32m━━━━━━━━━━━━━━━━━━━━\u001b[0m\u001b[37m\u001b[0m \u001b[1m0s\u001b[0m 105ms/step - accuracy: 0.7500 - loss: 0.7094\n",
      "Epoch 9/10\n",
      "\u001b[1m1/1\u001b[0m \u001b[32m━━━━━━━━━━━━━━━━━━━━\u001b[0m\u001b[37m\u001b[0m \u001b[1m0s\u001b[0m 114ms/step - accuracy: 0.7500 - loss: 0.7090\n",
      "Epoch 10/10\n",
      "\u001b[1m1/1\u001b[0m \u001b[32m━━━━━━━━━━━━━━━━━━━━\u001b[0m\u001b[37m\u001b[0m \u001b[1m0s\u001b[0m 120ms/step - accuracy: 0.7500 - loss: 0.7086\n"
     ]
    },
    {
     "data": {
      "text/plain": [
       "<keras.src.callbacks.history.History at 0x236c75d7980>"
      ]
     },
     "execution_count": 237,
     "metadata": {},
     "output_type": "execute_result"
    }
   ],
   "source": [
    "# CASE-1) \n",
    "model.compile(optimizer='sgd',                # learning_rate=0.01 / default\n",
    "              loss='binary_crossentropy',     #  비용함수 : 이진 binary_crossentropy, 다중분류 categorical_crossentropy, 회귀 mean_squared_error, \n",
    "              metrics=['accuracy'])           #  정확도 : 분류 accuracy, 회귀 MSE, MAE, RMSE\n",
    "\n",
    "model.fit(X, Y, epochs=10)                    #  학습횟수 (401*10=4,010)"
   ]
  },
  {
   "cell_type": "markdown",
   "id": "ace568da-48b3-41ee-a8c7-77ef8fdadcbc",
   "metadata": {},
   "source": [
    "- 평가 : 정확도, 예측"
   ]
  },
  {
   "cell_type": "code",
   "execution_count": 239,
   "id": "ac430355-4a56-4156-825e-ba527347b660",
   "metadata": {},
   "outputs": [
    {
     "name": "stdout",
     "output_type": "stream",
     "text": [
      "\u001b[1m1/1\u001b[0m \u001b[32m━━━━━━━━━━━━━━━━━━━━\u001b[0m\u001b[37m\u001b[0m \u001b[1m0s\u001b[0m 404ms/step - accuracy: 0.7500 - loss: 0.7082\n"
     ]
    },
    {
     "data": {
      "text/plain": [
       "[0.7081732749938965, 0.75]"
      ]
     },
     "execution_count": 239,
     "metadata": {},
     "output_type": "execute_result"
    }
   ],
   "source": [
    "# 정확도\n",
    "model.evaluate(X, Y)                          "
   ]
  },
  {
   "cell_type": "code",
   "execution_count": 241,
   "id": "a47c7745-9477-4dad-bd45-3284876f583f",
   "metadata": {},
   "outputs": [
    {
     "name": "stdout",
     "output_type": "stream",
     "text": [
      "\u001b[1m1/1\u001b[0m \u001b[32m━━━━━━━━━━━━━━━━━━━━\u001b[0m\u001b[37m\u001b[0m \u001b[1m0s\u001b[0m 192ms/step\n"
     ]
    },
    {
     "data": {
      "text/plain": [
       "array([[0.5222232]], dtype=float32)"
      ]
     },
     "execution_count": 241,
     "metadata": {},
     "output_type": "execute_result"
    }
   ],
   "source": [
    "# 예측 : XOR - 00 0 / 01 1 / 10 1 / 11 0\n",
    "test=np.array([[1, 0]])\n",
    "pred=model.predict(test)\n",
    "pred"
   ]
  },
  {
   "cell_type": "markdown",
   "id": "0d550048-7ccf-4d59-8040-71873b415ba6",
   "metadata": {},
   "source": [
    "### CASE - 2"
   ]
  },
  {
   "cell_type": "code",
   "execution_count": 275,
   "id": "e3ee1a44-91fa-4710-bf39-42e6eb0aa103",
   "metadata": {},
   "outputs": [],
   "source": [
    "X=np.array([[0, 0], [0, 1], [1, 0], [1, 1]])  \n",
    "Y=np.array([[0], [1], [1], [0]])  "
   ]
  },
  {
   "cell_type": "code",
   "execution_count": 277,
   "id": "51ac7ff4-471c-4969-8281-c2fd1f89707b",
   "metadata": {},
   "outputs": [],
   "source": [
    "# CASE-2)  \n",
    "sgd=SGD(learning_rate=0.05)                        \n",
    "model.compile(optimizer=sgd,          \n",
    "              loss='binary_crossentropy',          # categorical_crossentropy, mean_squared_error\n",
    "              metrics=['accuracy'])                # MSE, MAE, RMSE\n",
    "\n",
    "# model.fit(X, Y, epochs=100)  "
   ]
  },
  {
   "cell_type": "code",
   "execution_count": 279,
   "id": "9402d025-7006-45e2-afe9-455b8b2d02e9",
   "metadata": {},
   "outputs": [
    {
     "name": "stdout",
     "output_type": "stream",
     "text": [
      "\u001b[1m1/1\u001b[0m \u001b[32m━━━━━━━━━━━━━━━━━━━━\u001b[0m\u001b[37m\u001b[0m \u001b[1m0s\u001b[0m 333ms/step - accuracy: 1.0000 - loss: 0.2378\n",
      "Epoch10, Loss:0.24, Accuracy:1.00\n",
      "\u001b[1m1/1\u001b[0m \u001b[32m━━━━━━━━━━━━━━━━━━━━\u001b[0m\u001b[37m\u001b[0m \u001b[1m0s\u001b[0m 84ms/step - accuracy: 1.0000 - loss: 0.2300\n",
      "Epoch20, Loss:0.23, Accuracy:1.00\n",
      "\u001b[1m1/1\u001b[0m \u001b[32m━━━━━━━━━━━━━━━━━━━━\u001b[0m\u001b[37m\u001b[0m \u001b[1m0s\u001b[0m 99ms/step - accuracy: 1.0000 - loss: 0.2226\n",
      "Epoch30, Loss:0.22, Accuracy:1.00\n",
      "\u001b[1m1/1\u001b[0m \u001b[32m━━━━━━━━━━━━━━━━━━━━\u001b[0m\u001b[37m\u001b[0m \u001b[1m0s\u001b[0m 87ms/step - accuracy: 1.0000 - loss: 0.2156\n",
      "Epoch40, Loss:0.22, Accuracy:1.00\n",
      "\u001b[1m1/1\u001b[0m \u001b[32m━━━━━━━━━━━━━━━━━━━━\u001b[0m\u001b[37m\u001b[0m \u001b[1m0s\u001b[0m 89ms/step - accuracy: 1.0000 - loss: 0.2090\n",
      "Epoch50, Loss:0.21, Accuracy:1.00\n",
      "\u001b[1m1/1\u001b[0m \u001b[32m━━━━━━━━━━━━━━━━━━━━\u001b[0m\u001b[37m\u001b[0m \u001b[1m0s\u001b[0m 92ms/step - accuracy: 1.0000 - loss: 0.2024\n",
      "Epoch60, Loss:0.20, Accuracy:1.00\n",
      "\u001b[1m1/1\u001b[0m \u001b[32m━━━━━━━━━━━━━━━━━━━━\u001b[0m\u001b[37m\u001b[0m \u001b[1m0s\u001b[0m 98ms/step - accuracy: 1.0000 - loss: 0.1961\n",
      "Epoch70, Loss:0.20, Accuracy:1.00\n",
      "\u001b[1m1/1\u001b[0m \u001b[32m━━━━━━━━━━━━━━━━━━━━\u001b[0m\u001b[37m\u001b[0m \u001b[1m0s\u001b[0m 98ms/step - accuracy: 1.0000 - loss: 0.1895\n",
      "Epoch80, Loss:0.19, Accuracy:1.00\n",
      "\u001b[1m1/1\u001b[0m \u001b[32m━━━━━━━━━━━━━━━━━━━━\u001b[0m\u001b[37m\u001b[0m \u001b[1m0s\u001b[0m 102ms/step - accuracy: 1.0000 - loss: 0.1834\n",
      "Epoch90, Loss:0.18, Accuracy:1.00\n",
      "\u001b[1m1/1\u001b[0m \u001b[32m━━━━━━━━━━━━━━━━━━━━\u001b[0m\u001b[37m\u001b[0m \u001b[1m0s\u001b[0m 91ms/step - accuracy: 1.0000 - loss: 0.1778\n",
      "Epoch100, Loss:0.18, Accuracy:1.00\n"
     ]
    }
   ],
   "source": [
    "epochs=100                # 401*100=41,000\n",
    "\n",
    "for epoch in range(epochs):\n",
    "    model.fit(X, Y, verbose=0)              # verbose=0 출력 없음, default 1    \n",
    "    if(epoch + 1) % 10 == 0:                # 10 에폭마다 손실과 정확도 출력\n",
    "        loss, accuracy=model.evaluate(X, Y)\n",
    "        print(f\"Epoch{epoch + 1}, Loss:{loss:.2f}, Accuracy:{accuracy:.2f}\")"
   ]
  },
  {
   "cell_type": "markdown",
   "id": "549e3816-1a6c-41b3-9255-cb03bfef6e56",
   "metadata": {},
   "source": [
    "- 평가 : 정확도, 예측"
   ]
  },
  {
   "cell_type": "code",
   "execution_count": 282,
   "id": "a356a5c5-e64f-41b0-8a65-e9be7c0bf855",
   "metadata": {},
   "outputs": [
    {
     "name": "stdout",
     "output_type": "stream",
     "text": [
      "\u001b[1m1/1\u001b[0m \u001b[32m━━━━━━━━━━━━━━━━━━━━\u001b[0m\u001b[37m\u001b[0m \u001b[1m0s\u001b[0m 116ms/step - accuracy: 1.0000 - loss: 0.1778\n"
     ]
    },
    {
     "data": {
      "text/plain": [
       "[0.1777830421924591, 1.0]"
      ]
     },
     "execution_count": 282,
     "metadata": {},
     "output_type": "execute_result"
    }
   ],
   "source": [
    "# 정확도\n",
    "model.evaluate(X, Y)    "
   ]
  },
  {
   "cell_type": "code",
   "execution_count": 284,
   "id": "33f83e21-dbd6-43cd-a75c-b5c28dd61362",
   "metadata": {},
   "outputs": [
    {
     "name": "stdout",
     "output_type": "stream",
     "text": [
      "\u001b[1m1/1\u001b[0m \u001b[32m━━━━━━━━━━━━━━━━━━━━\u001b[0m\u001b[37m\u001b[0m \u001b[1m0s\u001b[0m 191ms/step\n"
     ]
    },
    {
     "data": {
      "text/plain": [
       "array([[0.8909342]], dtype=float32)"
      ]
     },
     "execution_count": 284,
     "metadata": {},
     "output_type": "execute_result"
    }
   ],
   "source": [
    "# 예측 : XOR - 00 0 / 01 1 / 10 1 / 11 0\n",
    "new_data=np.array([[1, 0]])\n",
    "pred=model.predict(new_data)\n",
    "pred"
   ]
  },
  {
   "cell_type": "markdown",
   "id": "a62d5a3b-d4d0-461e-9db2-6e00f10d726e",
   "metadata": {},
   "source": [
    "## 패션 MINST 데이터 셋\n",
    "* 0 ~ 9\n",
    "* 흑백 28 * 28\n",
    "* 학습 데이터 60,000\n",
    "* 테스트 데이터 10,000\n",
    "* 데이터셋 : https://www.tensorflow.org/tutorials/keras/classification?hl=ko"
   ]
  },
  {
   "cell_type": "markdown",
   "id": "84f3af85-768d-43cc-9a34-2a8b73bc3687",
   "metadata": {},
   "source": [
    "### Seed 값 설정\n",
    "- 실행할 때마다 같은 결과를 얻기 위해\n",
    "- 머신러닝 모델은 데이터의 초기화, 가중치 설정, 데이터 샘플링 등에 난수(random number)를 사용\n",
    "- Seed(시드)를 고정하면 항상 동일한 난수 값이 생성 "
   ]
  },
  {
   "cell_type": "code",
   "execution_count": 81,
   "id": "56d9a406-a70d-495e-9530-ad26582acaa6",
   "metadata": {},
   "outputs": [],
   "source": [
    "np.random.seed(42)        # 데이터 샘플링, 랜덤 분할 등에서 난수를 고정\n",
    "tf.random.set_seed(42)    # 가중치 초기화, 데이터 증강, 샘플링 등에서 난수를 고정 "
   ]
  },
  {
   "cell_type": "markdown",
   "id": "031ddfab-f746-4a58-b3b5-f86298b71b75",
   "metadata": {},
   "source": [
    "### 데이터 로드 및 분할"
   ]
  },
  {
   "cell_type": "code",
   "execution_count": 84,
   "id": "fd69cb0f-70f6-415e-a1f7-1719e12793ed",
   "metadata": {},
   "outputs": [
    {
     "name": "stdout",
     "output_type": "stream",
     "text": [
      "(60000, 28, 28) (60000,)\n",
      "(10000, 28, 28) (10000,)\n"
     ]
    }
   ],
   "source": [
    "(X_train, Y_train), (X_test, Y_test)=keras.datasets.fashion_mnist.load_data()\n",
    "print(X_train.shape, Y_train.shape)\n",
    "print(X_test.shape, Y_test.shape)"
   ]
  },
  {
   "cell_type": "code",
   "execution_count": 86,
   "id": "a6ea5774-9a14-40a1-8f2f-e88e9ef1520b",
   "metadata": {},
   "outputs": [
    {
     "data": {
      "image/png": "[encoded data removed]",
      "text/plain": [
       "<Figure size 1000x1000 with 10 Axes>"
      ]
     },
     "metadata": {},
     "output_type": "display_data"
    }
   ],
   "source": [
    "fig, ax=plt.subplots(1, 10, figsize=(10, 10))      # 전체그림객체(Figure), 객체배열(Axes)    \n",
    "\n",
    "for i in range(10):\n",
    "    ax[i].imshow(X_train[i], cmap='gray_r')       # 컬러맵 흑백\n",
    "    ax[i].axis('off')                             # x축, y축, 눈금, 라벨, 테투리 숨김\n",
    "plt.show()"
   ]
  },
  {
   "cell_type": "code",
   "execution_count": 85,
   "id": "bedcec90-df2f-405d-bd6c-3e6a3abe555c",
   "metadata": {},
   "outputs": [
    {
     "name": "stdout",
     "output_type": "stream",
     "text": [
      "9 0 0 3 0 2 7 2 5 5 "
     ]
    }
   ],
   "source": [
    "for i in range(10):\n",
    "    print(Y_train[i], end=' ')            # 목표 값(정답) 출력"
   ]
  },
  {
   "cell_type": "code",
   "execution_count": 87,
   "id": "9f547c2a-64c5-46b1-8215-a0f6bf81d564",
   "metadata": {},
   "outputs": [
    {
     "data": {
      "text/plain": [
       "(array([0, 1, 2, 3, 4, 5, 6, 7, 8, 9], dtype=uint8),\n",
       " array([6000, 6000, 6000, 6000, 6000, 6000, 6000, 6000, 6000, 6000],\n",
       "       dtype=int64))"
      ]
     },
     "execution_count": 87,
     "metadata": {},
     "output_type": "execute_result"
    }
   ],
   "source": [
    "np.unique(Y_train, return_counts=True)     # 각 고유값, 등장 횟수\n",
    "\n",
    "# pandas 사용시\n",
    "# train_target_df=pd.DataFrame(train_target, columns=[\"target\"])\n",
    "# train_target_df.head()\n",
    "# train_target_df.value_counts()"
   ]
  },
  {
   "cell_type": "markdown",
   "id": "98137337-c71e-4d9e-8c02-e01515a16890",
   "metadata": {},
   "source": [
    "* 딥러닝 절차\n",
    "  - 데이터 셋 분할 : 훈련, 검증, 테스트 데이터 \n",
    "  - 딥러닝 모델 : 입력/은닉/출력, 옵티마이저설정(SGD...등), 손실함수(분류/회귀), 정확도(분류/회귀)\n",
    "  - 모델 학습 : 학습횟수, Bacth\n",
    "  - 평가 : 테스트 데이터\n",
    "\n",
    "### 전처리 \n",
    "* 정규화  0 ~ 1\n",
    "* 1 차원 변경 \n",
    "* 데이터 셋 분할 >> 훈련, 검증, 테스트 데이터 "
   ]
  },
  {
   "cell_type": "code",
   "execution_count": 90,
   "id": "b77552a0-9841-40e1-8854-1920270ee046",
   "metadata": {},
   "outputs": [
    {
     "name": "stdout",
     "output_type": "stream",
     "text": [
      "(60000, 784)\n",
      "(10000, 784)\n"
     ]
    }
   ],
   "source": [
    "# 학습 데이터\n",
    "# 입력값이 너무 크거나 작으면 학습이 비효율적 (특정 범위(예: 0~1)로 변환하는 과정) \n",
    "X_train_scaled=X_train / 255.0\n",
    "X_train_scaled.shape                                 #  (60000, 28, 28)\n",
    "X_train_scaled=X_train_scaled.reshape(-1, 28 * 28)   # 1 차원 입력\n",
    "print(X_train_scaled.shape)\n",
    "\n",
    "# 테스트 데이터\n",
    "X_test_scaled=X_test / 255.0\n",
    "X_test_scaled=X_test_scaled.reshape(-1, 28 * 28)\n",
    "print(X_test_scaled.shape)"
   ]
  },
  {
   "cell_type": "markdown",
   "id": "eb13a84b-50a6-493c-89d7-fe3ac7a2f7d5",
   "metadata": {},
   "source": [
    "### 모델 구성 - 학습\n",
    "- 딥러닝 모델 >> 컴파일 >> 학습 "
   ]
  },
  {
   "cell_type": "code",
   "execution_count": 93,
   "id": "948b5750-99e9-41f2-b758-c978aa49bc6e",
   "metadata": {},
   "outputs": [
    {
     "data": {
      "text/html": [
       "<pre style=\"white-space:pre;overflow-x:auto;line-height:normal;font-family:Menlo,'DejaVu Sans Mono',consolas,'Courier New',monospace\"><span style=\"font-weight: bold\">Model: \"sequential_3\"</span>\n",
       "</pre>\n"
      ],
      "text/plain": [
       "\u001b[1mModel: \"sequential_3\"\u001b[0m\n"
      ]
     },
     "metadata": {},
     "output_type": "display_data"
    },
    {
     "data": {
      "text/html": [
       "<pre style=\"white-space:pre;overflow-x:auto;line-height:normal;font-family:Menlo,'DejaVu Sans Mono',consolas,'Courier New',monospace\">┏━━━━━━━━━━━━━━━━━━━━━━━━━━━━━━━━━━━━━━┳━━━━━━━━━━━━━━━━━━━━━━━━━━━━━┳━━━━━━━━━━━━━━━━━┓\n",
       "┃<span style=\"font-weight: bold\"> Layer (type)                         </span>┃<span style=\"font-weight: bold\"> Output Shape                </span>┃<span style=\"font-weight: bold\">         Param # </span>┃\n",
       "┡━━━━━━━━━━━━━━━━━━━━━━━━━━━━━━━━━━━━━━╇━━━━━━━━━━━━━━━━━━━━━━━━━━━━━╇━━━━━━━━━━━━━━━━━┩\n",
       "│ dense_7 (<span style=\"color: #0087ff; text-decoration-color: #0087ff\">Dense</span>)                      │ (<span style=\"color: #00d7ff; text-decoration-color: #00d7ff\">None</span>, <span style=\"color: #00af00; text-decoration-color: #00af00\">100</span>)                 │          <span style=\"color: #00af00; text-decoration-color: #00af00\">78,500</span> │\n",
       "├──────────────────────────────────────┼─────────────────────────────┼─────────────────┤\n",
       "│ dense_8 (<span style=\"color: #0087ff; text-decoration-color: #0087ff\">Dense</span>)                      │ (<span style=\"color: #00d7ff; text-decoration-color: #00d7ff\">None</span>, <span style=\"color: #00af00; text-decoration-color: #00af00\">10</span>)                  │           <span style=\"color: #00af00; text-decoration-color: #00af00\">1,010</span> │\n",
       "└──────────────────────────────────────┴─────────────────────────────┴─────────────────┘\n",
       "</pre>\n"
      ],
      "text/plain": [
       "┏━━━━━━━━━━━━━━━━━━━━━━━━━━━━━━━━━━━━━━┳━━━━━━━━━━━━━━━━━━━━━━━━━━━━━┳━━━━━━━━━━━━━━━━━┓\n",
       "┃\u001b[1m \u001b[0m\u001b[1mLayer (type)                        \u001b[0m\u001b[1m \u001b[0m┃\u001b[1m \u001b[0m\u001b[1mOutput Shape               \u001b[0m\u001b[1m \u001b[0m┃\u001b[1m \u001b[0m\u001b[1m        Param #\u001b[0m\u001b[1m \u001b[0m┃\n",
       "┡━━━━━━━━━━━━━━━━━━━━━━━━━━━━━━━━━━━━━━╇━━━━━━━━━━━━━━━━━━━━━━━━━━━━━╇━━━━━━━━━━━━━━━━━┩\n",
       "│ dense_7 (\u001b[38;5;33mDense\u001b[0m)                      │ (\u001b[38;5;45mNone\u001b[0m, \u001b[38;5;34m100\u001b[0m)                 │          \u001b[38;5;34m78,500\u001b[0m │\n",
       "├──────────────────────────────────────┼─────────────────────────────┼─────────────────┤\n",
       "│ dense_8 (\u001b[38;5;33mDense\u001b[0m)                      │ (\u001b[38;5;45mNone\u001b[0m, \u001b[38;5;34m10\u001b[0m)                  │           \u001b[38;5;34m1,010\u001b[0m │\n",
       "└──────────────────────────────────────┴─────────────────────────────┴─────────────────┘\n"
      ]
     },
     "metadata": {},
     "output_type": "display_data"
    },
    {
     "data": {
      "text/html": [
       "<pre style=\"white-space:pre;overflow-x:auto;line-height:normal;font-family:Menlo,'DejaVu Sans Mono',consolas,'Courier New',monospace\"><span style=\"font-weight: bold\"> Total params: </span><span style=\"color: #00af00; text-decoration-color: #00af00\">79,510</span> (310.59 KB)\n",
       "</pre>\n"
      ],
      "text/plain": [
       "\u001b[1m Total params: \u001b[0m\u001b[38;5;34m79,510\u001b[0m (310.59 KB)\n"
      ]
     },
     "metadata": {},
     "output_type": "display_data"
    },
    {
     "data": {
      "text/html": [
       "<pre style=\"white-space:pre;overflow-x:auto;line-height:normal;font-family:Menlo,'DejaVu Sans Mono',consolas,'Courier New',monospace\"><span style=\"font-weight: bold\"> Trainable params: </span><span style=\"color: #00af00; text-decoration-color: #00af00\">79,510</span> (310.59 KB)\n",
       "</pre>\n"
      ],
      "text/plain": [
       "\u001b[1m Trainable params: \u001b[0m\u001b[38;5;34m79,510\u001b[0m (310.59 KB)\n"
      ]
     },
     "metadata": {},
     "output_type": "display_data"
    },
    {
     "data": {
      "text/html": [
       "<pre style=\"white-space:pre;overflow-x:auto;line-height:normal;font-family:Menlo,'DejaVu Sans Mono',consolas,'Courier New',monospace\"><span style=\"font-weight: bold\"> Non-trainable params: </span><span style=\"color: #00af00; text-decoration-color: #00af00\">0</span> (0.00 B)\n",
       "</pre>\n"
      ],
      "text/plain": [
       "\u001b[1m Non-trainable params: \u001b[0m\u001b[38;5;34m0\u001b[0m (0.00 B)\n"
      ]
     },
     "metadata": {},
     "output_type": "display_data"
    }
   ],
   "source": [
    "# 1) 딥러닝 모델\n",
    "model=keras.Sequential()\n",
    "model.add(keras.layers.Input(shape=(784, )))\n",
    "model.add(keras.layers.Dense(100, activation='relu'))\n",
    "model.add(keras.layers.Dense(10, activation='softmax'))\n",
    "model.summary()"
   ]
  },
  {
   "cell_type": "code",
   "execution_count": 95,
   "id": "a3e0e4fe-b89b-44d2-9e1f-99790f5e2709",
   "metadata": {},
   "outputs": [],
   "source": [
    "#  2)컴파일 \n",
    "model.compile(optimizer='sgd',\n",
    "              loss='sparse_categorical_crossentropy',  \n",
    "              metrics=['accuracy'])    "
   ]
  },
  {
   "cell_type": "code",
   "execution_count": 98,
   "id": "ac5898cf-6d1f-4e96-b838-fc40aff58222",
   "metadata": {},
   "outputs": [
    {
     "name": "stdout",
     "output_type": "stream",
     "text": [
      "Epoch 1/5\n",
      "\u001b[1m1500/1500\u001b[0m \u001b[32m━━━━━━━━━━━━━━━━━━━━\u001b[0m\u001b[37m\u001b[0m \u001b[1m6s\u001b[0m 4ms/step - accuracy: 0.6505 - loss: 1.0838 - val_accuracy: 0.8071 - val_loss: 0.5762\n",
      "Epoch 2/5\n",
      "\u001b[1m1500/1500\u001b[0m \u001b[32m━━━━━━━━━━━━━━━━━━━━\u001b[0m\u001b[37m\u001b[0m \u001b[1m5s\u001b[0m 3ms/step - accuracy: 0.8151 - loss: 0.5531 - val_accuracy: 0.8270 - val_loss: 0.5066\n",
      "Epoch 3/5\n",
      "\u001b[1m1500/1500\u001b[0m \u001b[32m━━━━━━━━━━━━━━━━━━━━\u001b[0m\u001b[37m\u001b[0m \u001b[1m5s\u001b[0m 3ms/step - accuracy: 0.8330 - loss: 0.4923 - val_accuracy: 0.8359 - val_loss: 0.4755\n",
      "Epoch 4/5\n",
      "\u001b[1m1500/1500\u001b[0m \u001b[32m━━━━━━━━━━━━━━━━━━━━\u001b[0m\u001b[37m\u001b[0m \u001b[1m5s\u001b[0m 3ms/step - accuracy: 0.8423 - loss: 0.4624 - val_accuracy: 0.8418 - val_loss: 0.4564\n",
      "Epoch 5/5\n",
      "\u001b[1m1500/1500\u001b[0m \u001b[32m━━━━━━━━━━━━━━━━━━━━\u001b[0m\u001b[37m\u001b[0m \u001b[1m5s\u001b[0m 3ms/step - accuracy: 0.8488 - loss: 0.4428 - val_accuracy: 0.8465 - val_loss: 0.4423\n"
     ]
    }
   ],
   "source": [
    "# 3)학습\n",
    "history=model.fit(X_train_scaled, \n",
    "                  Y_train, \n",
    "                  epochs=5, \n",
    "                  validation_split=0.2)   # 훈련 데이터에서 일부를 검증 데이터로 자동으로 분리\n",
    "                                          # validation_data=(X_val_scaled, Y_val)"
   ]
  },
  {
   "cell_type": "markdown",
   "id": "6c50ec9b-fc9f-48c9-aa79-730dcc640fa0",
   "metadata": {},
   "source": [
    "### 평가"
   ]
  },
  {
   "cell_type": "code",
   "execution_count": 101,
   "id": "95241c11-7ec2-4892-8345-3716c9e342f5",
   "metadata": {},
   "outputs": [
    {
     "name": "stdout",
     "output_type": "stream",
     "text": [
      "\u001b[1m313/313\u001b[0m \u001b[32m━━━━━━━━━━━━━━━━━━━━\u001b[0m\u001b[37m\u001b[0m \u001b[1m1s\u001b[0m 2ms/step - accuracy: 0.8418 - loss: 0.4586\n"
     ]
    },
    {
     "data": {
      "text/plain": [
       "[0.46723392605781555, 0.8374999761581421]"
      ]
     },
     "execution_count": 101,
     "metadata": {},
     "output_type": "execute_result"
    }
   ],
   "source": [
    "# 정확도\n",
    "model.evaluate(X_test_scaled, Y_test)    # loss, val_accuracy"
   ]
  },
  {
   "cell_type": "code",
   "execution_count": 103,
   "id": "c290ff4a-31ed-487b-9c1d-4d37bbe92de6",
   "metadata": {},
   "outputs": [
    {
     "data": {
      "image/png": "[encoded data removed]",
      "text/plain": [
       "<Figure size 640x480 with 1 Axes>"
      ]
     },
     "metadata": {},
     "output_type": "display_data"
    }
   ],
   "source": [
    "# 그래프 \n",
    "plt.plot(history.history['loss'], label='Train Loss')\n",
    "plt.plot(history.history['val_loss'], label='Validation Loss')\n",
    "\n",
    "plt.xlabel('epoch')\n",
    "plt.ylabel('loss')\n",
    "plt.legend()\n",
    "plt.show()"
   ]
  },
  {
   "cell_type": "markdown",
   "id": "5b1f64d7-8e95-4ec3-8467-9ab86335459c",
   "metadata": {},
   "source": [
    "### 예측 "
   ]
  },
  {
   "cell_type": "code",
   "execution_count": 105,
   "id": "6de3664b-f109-4eb7-8784-5d331c461b90",
   "metadata": {},
   "outputs": [
    {
     "name": "stdout",
     "output_type": "stream",
     "text": [
      "\u001b[1m313/313\u001b[0m \u001b[32m━━━━━━━━━━━━━━━━━━━━\u001b[0m\u001b[37m\u001b[0m \u001b[1m1s\u001b[0m 2ms/step\n"
     ]
    },
    {
     "data": {
      "text/plain": [
       "array([[2.48418819e-05, 7.10248241e-06, 7.92797582e-05, ...,\n",
       "        2.84248382e-01, 4.05913079e-03, 6.01409018e-01],\n",
       "       [6.61263548e-05, 3.15153966e-06, 9.59199488e-01, ...,\n",
       "        3.97717692e-10, 8.52269368e-05, 1.14778125e-08],\n",
       "       [5.18890884e-05, 9.99825180e-01, 1.50543301e-05, ...,\n",
       "        1.06146683e-06, 2.27281157e-06, 1.76285884e-08],\n",
       "       ...,\n",
       "       [4.58075218e-02, 5.21167603e-05, 4.25229920e-03, ...,\n",
       "        4.10475797e-04, 7.70256460e-01, 8.24999006e-05],\n",
       "       [8.23739174e-05, 9.95962441e-01, 7.49290921e-05, ...,\n",
       "        1.77153761e-05, 5.71003056e-06, 2.10369326e-05],\n",
       "       [5.76120685e-04, 4.90519393e-04, 1.76137139e-03, ...,\n",
       "        2.32931510e-01, 1.97407454e-02, 1.59536898e-02]], dtype=float32)"
      ]
     },
     "execution_count": 105,
     "metadata": {},
     "output_type": "execute_result"
    }
   ],
   "source": [
    "pred_prob=model.predict(X_test_scaled)\n",
    "pred_prob  # 각 행의 값"
   ]
  },
  {
   "cell_type": "code",
   "execution_count": 107,
   "id": "b8319366-daaa-4a0d-8f44-bde455f2ac98",
   "metadata": {},
   "outputs": [
    {
     "data": {
      "text/plain": [
       "9"
      ]
     },
     "execution_count": 107,
     "metadata": {},
     "output_type": "execute_result"
    }
   ],
   "source": [
    "# np.argmax() : 가장 큰 값을 가진 인덱스\n",
    "# 예) [[0.2, 0.5, 0.3], [0.1, 0.6, 0.3]] 가장 큰 값 [1, 1] 0.6 반환\n",
    "# axis : 열(column)을 기준으로 최대값\n",
    "\n",
    "pred=np.argmax(pred_prob, axis=1)\n",
    "# pred\n",
    "pred[0]"
   ]
  },
  {
   "cell_type": "code",
   "execution_count": 109,
   "id": "b6ddd268-2ff8-4f8c-852d-eba38eff0913",
   "metadata": {},
   "outputs": [
    {
     "data": {
      "image/png": "[encoded data removed]",
      "text/plain": [
       "<Figure size 640x480 with 1 Axes>"
      ]
     },
     "metadata": {},
     "output_type": "display_data"
    }
   ],
   "source": [
    "plt.imshow(X_test_scaled[0].reshape(28, 28), cmap='gray_r')  # 그림\n",
    "plt.title(f'Label: {pred[0]}')   # 예측 값\n",
    "plt.show()"
   ]
  },
  {
   "cell_type": "code",
   "execution_count": 111,
   "id": "0661c552-27ae-4e2e-a10a-c9e4837489a0",
   "metadata": {},
   "outputs": [
    {
     "name": "stdout",
     "output_type": "stream",
     "text": [
      "              precision    recall  f1-score   support\n",
      "\n",
      "           0       0.84      0.75      0.79      1000\n",
      "           1       0.98      0.95      0.96      1000\n",
      "           2       0.72      0.76      0.74      1000\n",
      "           3       0.80      0.88      0.84      1000\n",
      "           4       0.73      0.76      0.74      1000\n",
      "           5       0.94      0.91      0.92      1000\n",
      "           6       0.62      0.57      0.59      1000\n",
      "           7       0.88      0.94      0.91      1000\n",
      "           8       0.93      0.94      0.93      1000\n",
      "           9       0.95      0.93      0.94      1000\n",
      "\n",
      "    accuracy                           0.84     10000\n",
      "   macro avg       0.84      0.84      0.84     10000\n",
      "weighted avg       0.84      0.84      0.84     10000\n",
      "\n"
     ]
    }
   ],
   "source": [
    "print(metrics.classification_report(Y_test, pred))"
   ]
  },
  {
   "cell_type": "markdown",
   "id": "89f2021b-e63d-4900-9c2b-dbd844ae6665",
   "metadata": {},
   "source": [
    "### 모델 저장 & 불러오기"
   ]
  },
  {
   "cell_type": "code",
   "execution_count": 114,
   "id": "5d73784a-de1b-4a5a-9524-a9fbcf225d62",
   "metadata": {},
   "outputs": [],
   "source": [
    "# 저장\n",
    "model.save('./Deep_result/fminst.keras')      # 이전 버전 h5"
   ]
  },
  {
   "cell_type": "code",
   "execution_count": 116,
   "id": "78873de0-a93b-43ff-8b58-221ceba9348b",
   "metadata": {},
   "outputs": [
    {
     "data": {
      "text/html": [
       "<pre style=\"white-space:pre;overflow-x:auto;line-height:normal;font-family:Menlo,'DejaVu Sans Mono',consolas,'Courier New',monospace\"><span style=\"font-weight: bold\">Model: \"sequential_3\"</span>\n",
       "</pre>\n"
      ],
      "text/plain": [
       "\u001b[1mModel: \"sequential_3\"\u001b[0m\n"
      ]
     },
     "metadata": {},
     "output_type": "display_data"
    },
    {
     "data": {
      "text/html": [
       "<pre style=\"white-space:pre;overflow-x:auto;line-height:normal;font-family:Menlo,'DejaVu Sans Mono',consolas,'Courier New',monospace\">┏━━━━━━━━━━━━━━━━━━━━━━━━━━━━━━━━━━━━━━┳━━━━━━━━━━━━━━━━━━━━━━━━━━━━━┳━━━━━━━━━━━━━━━━━┓\n",
       "┃<span style=\"font-weight: bold\"> Layer (type)                         </span>┃<span style=\"font-weight: bold\"> Output Shape                </span>┃<span style=\"font-weight: bold\">         Param # </span>┃\n",
       "┡━━━━━━━━━━━━━━━━━━━━━━━━━━━━━━━━━━━━━━╇━━━━━━━━━━━━━━━━━━━━━━━━━━━━━╇━━━━━━━━━━━━━━━━━┩\n",
       "│ dense_7 (<span style=\"color: #0087ff; text-decoration-color: #0087ff\">Dense</span>)                      │ (<span style=\"color: #00d7ff; text-decoration-color: #00d7ff\">None</span>, <span style=\"color: #00af00; text-decoration-color: #00af00\">100</span>)                 │          <span style=\"color: #00af00; text-decoration-color: #00af00\">78,500</span> │\n",
       "├──────────────────────────────────────┼─────────────────────────────┼─────────────────┤\n",
       "│ dense_8 (<span style=\"color: #0087ff; text-decoration-color: #0087ff\">Dense</span>)                      │ (<span style=\"color: #00d7ff; text-decoration-color: #00d7ff\">None</span>, <span style=\"color: #00af00; text-decoration-color: #00af00\">10</span>)                  │           <span style=\"color: #00af00; text-decoration-color: #00af00\">1,010</span> │\n",
       "└──────────────────────────────────────┴─────────────────────────────┴─────────────────┘\n",
       "</pre>\n"
      ],
      "text/plain": [
       "┏━━━━━━━━━━━━━━━━━━━━━━━━━━━━━━━━━━━━━━┳━━━━━━━━━━━━━━━━━━━━━━━━━━━━━┳━━━━━━━━━━━━━━━━━┓\n",
       "┃\u001b[1m \u001b[0m\u001b[1mLayer (type)                        \u001b[0m\u001b[1m \u001b[0m┃\u001b[1m \u001b[0m\u001b[1mOutput Shape               \u001b[0m\u001b[1m \u001b[0m┃\u001b[1m \u001b[0m\u001b[1m        Param #\u001b[0m\u001b[1m \u001b[0m┃\n",
       "┡━━━━━━━━━━━━━━━━━━━━━━━━━━━━━━━━━━━━━━╇━━━━━━━━━━━━━━━━━━━━━━━━━━━━━╇━━━━━━━━━━━━━━━━━┩\n",
       "│ dense_7 (\u001b[38;5;33mDense\u001b[0m)                      │ (\u001b[38;5;45mNone\u001b[0m, \u001b[38;5;34m100\u001b[0m)                 │          \u001b[38;5;34m78,500\u001b[0m │\n",
       "├──────────────────────────────────────┼─────────────────────────────┼─────────────────┤\n",
       "│ dense_8 (\u001b[38;5;33mDense\u001b[0m)                      │ (\u001b[38;5;45mNone\u001b[0m, \u001b[38;5;34m10\u001b[0m)                  │           \u001b[38;5;34m1,010\u001b[0m │\n",
       "└──────────────────────────────────────┴─────────────────────────────┴─────────────────┘\n"
      ]
     },
     "metadata": {},
     "output_type": "display_data"
    },
    {
     "data": {
      "text/html": [
       "<pre style=\"white-space:pre;overflow-x:auto;line-height:normal;font-family:Menlo,'DejaVu Sans Mono',consolas,'Courier New',monospace\"><span style=\"font-weight: bold\"> Total params: </span><span style=\"color: #00af00; text-decoration-color: #00af00\">79,512</span> (310.60 KB)\n",
       "</pre>\n"
      ],
      "text/plain": [
       "\u001b[1m Total params: \u001b[0m\u001b[38;5;34m79,512\u001b[0m (310.60 KB)\n"
      ]
     },
     "metadata": {},
     "output_type": "display_data"
    },
    {
     "data": {
      "text/html": [
       "<pre style=\"white-space:pre;overflow-x:auto;line-height:normal;font-family:Menlo,'DejaVu Sans Mono',consolas,'Courier New',monospace\"><span style=\"font-weight: bold\"> Trainable params: </span><span style=\"color: #00af00; text-decoration-color: #00af00\">79,510</span> (310.59 KB)\n",
       "</pre>\n"
      ],
      "text/plain": [
       "\u001b[1m Trainable params: \u001b[0m\u001b[38;5;34m79,510\u001b[0m (310.59 KB)\n"
      ]
     },
     "metadata": {},
     "output_type": "display_data"
    },
    {
     "data": {
      "text/html": [
       "<pre style=\"white-space:pre;overflow-x:auto;line-height:normal;font-family:Menlo,'DejaVu Sans Mono',consolas,'Courier New',monospace\"><span style=\"font-weight: bold\"> Non-trainable params: </span><span style=\"color: #00af00; text-decoration-color: #00af00\">0</span> (0.00 B)\n",
       "</pre>\n"
      ],
      "text/plain": [
       "\u001b[1m Non-trainable params: \u001b[0m\u001b[38;5;34m0\u001b[0m (0.00 B)\n"
      ]
     },
     "metadata": {},
     "output_type": "display_data"
    },
    {
     "data": {
      "text/html": [
       "<pre style=\"white-space:pre;overflow-x:auto;line-height:normal;font-family:Menlo,'DejaVu Sans Mono',consolas,'Courier New',monospace\"><span style=\"font-weight: bold\"> Optimizer params: </span><span style=\"color: #00af00; text-decoration-color: #00af00\">2</span> (12.00 B)\n",
       "</pre>\n"
      ],
      "text/plain": [
       "\u001b[1m Optimizer params: \u001b[0m\u001b[38;5;34m2\u001b[0m (12.00 B)\n"
      ]
     },
     "metadata": {},
     "output_type": "display_data"
    }
   ],
   "source": [
    "# 불러오기\n",
    "model_fminst_load=load_model('./Deep_result/fminst.keras')\n",
    "model_fminst_load.summary()"
   ]
  },
  {
   "cell_type": "code",
   "execution_count": 155,
   "id": "a2c7830e-5c4e-4e15-9078-021ab2a6681e",
   "metadata": {},
   "outputs": [],
   "source": [
    "# 모델 학습 및 평가 "
   ]
  },
  {
   "cell_type": "markdown",
   "id": "f27851e8-8c03-4db4-b66a-111a352583c4",
   "metadata": {},
   "source": [
    "## 손글씨 MNIST\n",
    "* 0 ~ 9\n",
    "* 흑백 28 * 28\n",
    "* 학습 데이터 60,000\n",
    "* 테스트 데이터 10,000"
   ]
  },
  {
   "cell_type": "markdown",
   "id": "65604aef-f87e-409e-bd28-d83d75c372ff",
   "metadata": {},
   "source": [
    "### 데이터 로드 및 분할"
   ]
  },
  {
   "cell_type": "code",
   "execution_count": 163,
   "id": "7e90de05-8832-4f54-b480-20866b2d8d1c",
   "metadata": {},
   "outputs": [
    {
     "name": "stdout",
     "output_type": "stream",
     "text": [
      "(60000, 28, 28) (60000,)\n",
      "(10000, 28, 28) (10000,)\n"
     ]
    }
   ],
   "source": [
    "(X_train, Y_train), (X_test, Y_test)=keras.datasets.mnist.load_data()\n",
    "print(X_train.shape, Y_train.shape)\n",
    "print(X_test.shape, Y_test.shape)"
   ]
  },
  {
   "cell_type": "code",
   "execution_count": 169,
   "id": "cd4c7c11-0fc9-41fb-9cf2-77abf2ac725e",
   "metadata": {},
   "outputs": [
    {
     "data": {
      "image/png": "[encoded data removed]",
      "text/plain": [
       "<Figure size 1000x1000 with 10 Axes>"
      ]
     },
     "metadata": {},
     "output_type": "display_data"
    }
   ],
   "source": [
    "fig, ax=plt.subplots(1, 10, figsize=(10, 10))        \n",
    "\n",
    "for i in range(10):\n",
    "    ax[i].imshow(X_train[i], cmap='gray')       \n",
    "    ax[i].axis('off')                             \n",
    "plt.show()"
   ]
  },
  {
   "cell_type": "code",
   "execution_count": 171,
   "id": "3a5989b1-ba8c-440d-be4c-c9e724254692",
   "metadata": {},
   "outputs": [
    {
     "name": "stdout",
     "output_type": "stream",
     "text": [
      "5 0 4 1 9 2 1 3 1 4 "
     ]
    }
   ],
   "source": [
    "for i in range(10):\n",
    "    print(Y_train[i], end=' ')            # 목표 값(정답) 출력"
   ]
  },
  {
   "cell_type": "code",
   "execution_count": 173,
   "id": "3d0dbe82-7b48-4817-bea0-01218f55e15b",
   "metadata": {},
   "outputs": [
    {
     "data": {
      "text/plain": [
       "(array([0, 1, 2, 3, 4, 5, 6, 7, 8, 9], dtype=uint8),\n",
       " array([5923, 6742, 5958, 6131, 5842, 5421, 5918, 6265, 5851, 5949],\n",
       "       dtype=int64))"
      ]
     },
     "execution_count": 173,
     "metadata": {},
     "output_type": "execute_result"
    }
   ],
   "source": [
    "np.unique(Y_train, return_counts=True)     # 각 고유값, 등장 횟수"
   ]
  },
  {
   "cell_type": "markdown",
   "id": "f53679a2-010a-487a-8ecc-47929a79fc5d",
   "metadata": {},
   "source": [
    "### 전처리"
   ]
  },
  {
   "cell_type": "code",
   "execution_count": 97,
   "id": "330df9c6-82a5-4611-aa03-9b9f51451d59",
   "metadata": {},
   "outputs": [
    {
     "name": "stdout",
     "output_type": "stream",
     "text": [
      "(60000, 784)\n",
      "(10000, 784)\n"
     ]
    }
   ],
   "source": [
    "X_train_scaled=X_train / 255.0\n",
    "X_train_scaled.shape                                 #  (60000, 28, 28)\n",
    "X_train_scaled=X_train_scaled.reshape(-1, 28 * 28)   # 1 차원 입력\n",
    "print(X_train_scaled.shape)\n",
    "\n",
    "# 테스트 데이터\n",
    "X_test_scaled=X_test / 255.0\n",
    "X_test_scaled=X_test_scaled.reshape(-1, 28 * 28)\n",
    "print(X_test_scaled.shape)"
   ]
  },
  {
   "cell_type": "markdown",
   "id": "7cf0372f-9ccd-4de3-b228-f7519829ddb2",
   "metadata": {},
   "source": [
    "### 모델 구성 - 학습\n",
    "- 딥러닝 모델 >> 컴파일 >> 학습 "
   ]
  },
  {
   "cell_type": "code",
   "execution_count": 100,
   "id": "d82758c7-2564-49a2-b9fc-d94822a3cece",
   "metadata": {},
   "outputs": [],
   "source": [
    "# 1) 딥러닝 모델\n",
    "# model=keras.Sequential()\n",
    "# model.add(keras.layers.Input(shape=(784, )))\n",
    "# model.add(keras.layers.Dense(100, activation='relu'))\n",
    "# model.add(keras.layers.Dense(10, activation='softmax'))\n",
    "# model.summary()\n",
    "\n",
    "model=load_model('./Deep_result/fminst.keras') \n",
    "model.summary() "
   ]
  },
  {
   "cell_type": "code",
   "execution_count": 106,
   "id": "058e4440-397d-4ccf-9185-8b3723fc1fbf",
   "metadata": {},
   "outputs": [],
   "source": [
    "# 2) compile\n",
    "model.compile(optimizer='sgd',\n",
    "              loss='sparse_categorical_crossentropy',   \n",
    "              metrics=['accuracy'])     "
   ]
  },
  {
   "cell_type": "code",
   "execution_count": 111,
   "id": "c96b649b-22c5-492e-be4c-c46d2c9acdb9",
   "metadata": {},
   "outputs": [
    {
     "name": "stdout",
     "output_type": "stream",
     "text": [
      "Epoch 1/5\n",
      "\u001b[1m1500/1500\u001b[0m \u001b[32m━━━━━━━━━━━━━━━━━━━━\u001b[0m\u001b[37m\u001b[0m \u001b[1m8s\u001b[0m 5ms/step - accuracy: 0.6419 - loss: 1.2286 - val_accuracy: 0.9019 - val_loss: 0.3560\n",
      "Epoch 2/5\n",
      "\u001b[1m1500/1500\u001b[0m \u001b[32m━━━━━━━━━━━━━━━━━━━━\u001b[0m\u001b[37m\u001b[0m \u001b[1m6s\u001b[0m 4ms/step - accuracy: 0.9027 - loss: 0.3531 - val_accuracy: 0.9177 - val_loss: 0.2926\n",
      "Epoch 3/5\n",
      "\u001b[1m1500/1500\u001b[0m \u001b[32m━━━━━━━━━━━━━━━━━━━━\u001b[0m\u001b[37m\u001b[0m \u001b[1m5s\u001b[0m 3ms/step - accuracy: 0.9152 - loss: 0.2982 - val_accuracy: 0.9274 - val_loss: 0.2613\n",
      "Epoch 4/5\n",
      "\u001b[1m1500/1500\u001b[0m \u001b[32m━━━━━━━━━━━━━━━━━━━━\u001b[0m\u001b[37m\u001b[0m \u001b[1m5s\u001b[0m 3ms/step - accuracy: 0.9243 - loss: 0.2703 - val_accuracy: 0.9346 - val_loss: 0.2417\n",
      "Epoch 5/5\n",
      "\u001b[1m1500/1500\u001b[0m \u001b[32m━━━━━━━━━━━━━━━━━━━━\u001b[0m\u001b[37m\u001b[0m \u001b[1m5s\u001b[0m 4ms/step - accuracy: 0.9290 - loss: 0.2478 - val_accuracy: 0.9384 - val_loss: 0.2269\n"
     ]
    }
   ],
   "source": [
    "# 3)학습\n",
    "history=model.fit(X_train_scaled, \n",
    "                  Y_train, \n",
    "                  epochs=5, \n",
    "                  validation_split=0.2)   # 훈련 데이터에서 일부를 검증 데이터로 자동으로 분리"
   ]
  },
  {
   "cell_type": "markdown",
   "id": "89d67e0c-484a-410d-960c-f18177c41d6b",
   "metadata": {},
   "source": [
    "### 평가"
   ]
  },
  {
   "cell_type": "code",
   "execution_count": 123,
   "id": "f7c27462-539c-49bc-b175-b01a5958cf5f",
   "metadata": {},
   "outputs": [
    {
     "name": "stdout",
     "output_type": "stream",
     "text": [
      "\u001b[1m313/313\u001b[0m \u001b[32m━━━━━━━━━━━━━━━━━━━━\u001b[0m\u001b[37m\u001b[0m \u001b[1m1s\u001b[0m 3ms/step - accuracy: 0.9270 - loss: 0.2631\n"
     ]
    },
    {
     "data": {
      "text/plain": [
       "[0.22599604725837708, 0.9376000165939331]"
      ]
     },
     "execution_count": 123,
     "metadata": {},
     "output_type": "execute_result"
    }
   ],
   "source": [
    "# 정확도\n",
    "model.evaluate(X_test_scaled, Y_test)       # loss, val_accuracy"
   ]
  },
  {
   "cell_type": "code",
   "execution_count": 136,
   "id": "af19a669-7d46-4381-9983-f3f2d39a82be",
   "metadata": {},
   "outputs": [
    {
     "data": {
      "image/png": "[encoded data removed]",
      "text/plain": [
       "<Figure size 640x480 with 1 Axes>"
      ]
     },
     "metadata": {},
     "output_type": "display_data"
    }
   ],
   "source": [
    "# 그래프 \n",
    "plt.plot(history.history['loss'], label='Train Loss')\n",
    "plt.plot(history.history['val_loss'], label='Validation Loss')\n",
    "\n",
    "plt.xlabel('epoch')\n",
    "plt.ylabel('loss')\n",
    "plt.legend()\n",
    "plt.show()"
   ]
  },
  {
   "cell_type": "markdown",
   "id": "1b5c6f9d-da44-4e99-8e62-1e1ff5a11e1b",
   "metadata": {},
   "source": [
    "### 예측 "
   ]
  },
  {
   "cell_type": "code",
   "execution_count": 142,
   "id": "328c1690-576b-453a-bbe7-e8eeeb8d52b1",
   "metadata": {},
   "outputs": [
    {
     "name": "stdout",
     "output_type": "stream",
     "text": [
      "\u001b[1m313/313\u001b[0m \u001b[32m━━━━━━━━━━━━━━━━━━━━\u001b[0m\u001b[37m\u001b[0m \u001b[1m1s\u001b[0m 2ms/step\n"
     ]
    },
    {
     "data": {
      "text/plain": [
       "array([[1.0033024e-04, 3.2173924e-07, 2.5258286e-04, ..., 9.9588037e-01,\n",
       "        2.6733267e-05, 6.4498623e-04],\n",
       "       [1.9426034e-03, 1.7818726e-04, 9.8106658e-01, ..., 6.6974126e-10,\n",
       "        2.1844099e-03, 3.5574357e-07],\n",
       "       [5.8422964e-05, 9.6661556e-01, 1.2799237e-02, ..., 5.8145323e-03,\n",
       "        4.5915716e-03, 1.3215891e-03],\n",
       "       ...,\n",
       "       [2.7153143e-07, 6.2441137e-07, 2.1872440e-05, ..., 3.1371380e-04,\n",
       "        4.6457769e-03, 1.0030521e-02],\n",
       "       [2.5155049e-04, 1.6107511e-04, 6.7129629e-05, ..., 6.4145438e-06,\n",
       "        8.6258292e-02, 1.5870479e-04],\n",
       "       [9.3817805e-05, 2.4882212e-08, 1.3172714e-03, ..., 2.1448323e-09,\n",
       "        1.2495813e-06, 8.6790500e-08]], dtype=float32)"
      ]
     },
     "execution_count": 142,
     "metadata": {},
     "output_type": "execute_result"
    }
   ],
   "source": [
    "pred_prob=model.predict(X_test_scaled)\n",
    "pred_prob  # 각 행의 값"
   ]
  },
  {
   "cell_type": "code",
   "execution_count": 145,
   "id": "9d3cb495-6e03-40fa-8340-7f6c11a34538",
   "metadata": {},
   "outputs": [
    {
     "data": {
      "text/plain": [
       "7"
      ]
     },
     "execution_count": 145,
     "metadata": {},
     "output_type": "execute_result"
    }
   ],
   "source": [
    "pred=np.argmax(pred_prob, axis=1)\n",
    "pred[0]"
   ]
  },
  {
   "cell_type": "code",
   "execution_count": 176,
   "id": "bb745f65-7581-42a8-a366-b1ea2619a7e7",
   "metadata": {},
   "outputs": [
    {
     "data": {
      "image/png": "[encoded data removed]",
      "text/plain": [
       "<Figure size 640x480 with 1 Axes>"
      ]
     },
     "metadata": {},
     "output_type": "display_data"
    }
   ],
   "source": [
    "# 그래프\n",
    "plt.imshow(X_test_scaled[0].reshape(28, 28), cmap='gray')  \n",
    "plt.title(f'Label: {pred[0]}')   # 예측 값\n",
    "plt.show()"
   ]
  },
  {
   "cell_type": "code",
   "execution_count": 149,
   "id": "276b5e26-8d82-42f0-be73-b0076a3df034",
   "metadata": {},
   "outputs": [
    {
     "name": "stdout",
     "output_type": "stream",
     "text": [
      "              precision    recall  f1-score   support\n",
      "\n",
      "           0       0.96      0.97      0.97       980\n",
      "           1       0.97      0.98      0.98      1135\n",
      "           2       0.93      0.92      0.92      1032\n",
      "           3       0.92      0.93      0.92      1010\n",
      "           4       0.92      0.95      0.93       982\n",
      "           5       0.93      0.89      0.91       892\n",
      "           6       0.94      0.96      0.95       958\n",
      "           7       0.95      0.93      0.94      1028\n",
      "           8       0.92      0.92      0.92       974\n",
      "           9       0.93      0.92      0.92      1009\n",
      "\n",
      "    accuracy                           0.94     10000\n",
      "   macro avg       0.94      0.94      0.94     10000\n",
      "weighted avg       0.94      0.94      0.94     10000\n",
      "\n"
     ]
    }
   ],
   "source": [
    "print(metrics.classification_report(Y_test, pred))"
   ]
  }
 ],
 "metadata": {
  "kernelspec": {
   "display_name": "Python [conda env:base] *",
   "language": "python",
   "name": "conda-base-py"
  },
  "language_info": {
   "codemirror_mode": {
    "name": "ipython",
    "version": 3
   },
   "file_extension": ".py",
   "mimetype": "text/x-python",
   "name": "python",
   "nbconvert_exporter": "python",
   "pygments_lexer": "ipython3",
   "version": "3.12.7"
  }
 },
 "nbformat": 4,
 "nbformat_minor": 5
}
