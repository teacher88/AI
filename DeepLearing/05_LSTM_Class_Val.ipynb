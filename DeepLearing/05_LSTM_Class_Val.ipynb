{
 "cells": [
  {
   "cell_type": "code",
   "execution_count": 1,
   "id": "f066940b-5e33-4dce-aeca-a41a8220ed57",
   "metadata": {},
   "outputs": [],
   "source": [
    "import numpy as np\n",
    "import pandas as pd\n",
    "import seaborn as sns\n",
    "\n",
    "import matplotlib.pyplot as plt\n",
    "import matplotlib.pyplot as plt             \n",
    "import matplotlib as mpl                    \n",
    "mpl.rc('font', family='Malgun Gothic')      \n",
    "plt.rcParams['axes.unicode_minus']=False  \n",
    "\n",
    "from sklearn.preprocessing import MinMaxScaler, StandardScaler\n",
    "from sklearn.model_selection import train_test_split, TimeSeriesSplit, cross_validate\n",
    "from sklearn.metrics import r2_score\n",
    "import random\n",
    "\n",
    "import tensorflow as tf\n",
    "from tensorflow import keras     \n",
    "from tensorflow.keras.models import Sequential\n",
    "from tensorflow.keras.optimizers import SGD, Adam\n",
    "\n",
    "from keras.callbacks import ModelCheckpoint, EarlyStopping\n",
    "from tensorflow.keras.callbacks import LambdaCallback\n",
    "\n",
    "from sklearn.ensemble import RandomForestClassifier\n",
    "from sklearn.model_selection import GridSearchCV, RandomizedSearchCV\n",
    "from sklearn import metrics\n",
    "\n",
    "from tensorflow.keras.layers import LSTM\n",
    "\n",
    "from statsmodels.tsa.statespace.sarimax import SARIMAX\n",
    "from sklearn.preprocessing import LabelEncoder\n",
    "from sklearn.decomposition import PCA"
   ]
  },
  {
   "cell_type": "markdown",
   "id": "4af78a24-3fab-4315-8e3a-4e7cece4a0cf",
   "metadata": {},
   "source": [
    "# 전력 예측\n",
    "- 데이터: https://archive.ics.uci.edu/dataset/321/electricityloaddiagrams20112014\n",
    "- 날짜와 특정지역코드(MT_001~ MT_370)로 구성\n",
    "    - 행(Row): 140,256개의 타임스탬프(매 15분 단위)\n",
    "    - 열(Column): 370개의 소비 지역(전력 미터 ID)\n",
    "    - 형식: timestamp (DatetimeIndex) + 370개의 소비량 열"
   ]
  },
  {
   "cell_type": "markdown",
   "id": "bd6ccbc0-d4bb-414b-a619-850bca35c501",
   "metadata": {},
   "source": [
    "## 데이터 전처리"
   ]
  },
  {
   "cell_type": "code",
   "execution_count": 4,
   "id": "7a32d9b9-783c-464f-9cbe-cdd4f729a30b",
   "metadata": {},
   "outputs": [],
   "source": [
    "np.random.seed(42)       \n",
    "tf.random.set_seed(42)   \n",
    "random.seed(42)"
   ]
  },
  {
   "cell_type": "code",
   "execution_count": 5,
   "id": "edbb6eb3-db7c-42e2-a057-4542d1d87508",
   "metadata": {},
   "outputs": [
    {
     "data": {
      "text/plain": [
       "(140256, 370)"
      ]
     },
     "execution_count": 5,
     "metadata": {},
     "output_type": "execute_result"
    }
   ],
   "source": [
    "data=pd.read_csv(\"./Data/LD2011_2014.txt\", \n",
    "                 sep=\";\", \n",
    "                 index_col=0, \n",
    "                 parse_dates=True,  # 날짜처럼 보이는 문자열을 자동으로 datetime\n",
    "                 decimal=\",\")\n",
    "data.shape"
   ]
  },
  {
   "cell_type": "code",
   "execution_count": 121,
   "id": "6140fde5-a8e6-45cf-9a65-eecc9c5051ad",
   "metadata": {},
   "outputs": [],
   "source": [
    "elec=data.copy()"
   ]
  },
  {
   "cell_type": "markdown",
   "id": "26e08f9c-5d55-4f7d-a625-4e5e413eb228",
   "metadata": {},
   "source": [
    "- 데이터 로드\n",
    "- 일변 소비량 합산 (평균)\n",
    "- 평균을 기준으로 High(1)/Low(0) 라벨 생성\n",
    "- 스케일 조절"
   ]
  },
  {
   "cell_type": "code",
   "execution_count": 124,
   "id": "0383861f-9f64-4106-b924-4a77eb38ccca",
   "metadata": {},
   "outputs": [
    {
     "name": "stdout",
     "output_type": "stream",
     "text": [
      "<class 'pandas.core.frame.DataFrame'>\n",
      "DatetimeIndex: 140256 entries, 2011-01-01 00:15:00 to 2015-01-01 00:00:00\n",
      "Columns: 370 entries, MT_001 to MT_370\n",
      "dtypes: float64(370)\n",
      "memory usage: 397.0 MB\n"
     ]
    }
   ],
   "source": [
    "# elec.shape\n",
    "# elec.head(2)\n",
    "elec.info()"
   ]
  },
  {
   "cell_type": "code",
   "execution_count": 126,
   "id": "e90c89f7-e84a-4b20-bc0a-f927de78cbb4",
   "metadata": {},
   "outputs": [
    {
     "data": {
      "text/plain": [
       "(1462, 370)"
      ]
     },
     "execution_count": 126,
     "metadata": {},
     "output_type": "execute_result"
    }
   ],
   "source": [
    "# 데이터 리샘플링 (일별 소비량 합산)\n",
    "daily_elec=elec.resample(\"D\").sum()   # S, T, M, D, W, M, Q, Y\n",
    "daily_elec.shape"
   ]
  },
  {
   "cell_type": "code",
   "execution_count": 128,
   "id": "41b97cdc-6746-4cbb-9e9b-09d12202fb4a",
   "metadata": {},
   "outputs": [],
   "source": [
    "# daily_elec.describe()\n",
    "\n",
    "# 결측치\n",
    "# daily_data.fillna(method=\"ffill\", inplace=True)"
   ]
  },
  {
   "cell_type": "code",
   "execution_count": 130,
   "id": "3d4a1c21-7396-46e4-b0a2-731efd041ae0",
   "metadata": {},
   "outputs": [
    {
     "data": {
      "text/plain": [
       "50704.3933356309"
      ]
     },
     "execution_count": 130,
     "metadata": {},
     "output_type": "execute_result"
    }
   ],
   "source": [
    "# 임계값 계산 (전체 평균)\n",
    "threshold=daily_elec.mean(axis=1).mean()\n",
    "threshold"
   ]
  },
  {
   "cell_type": "code",
   "execution_count": 132,
   "id": "5b3bc58b-f484-4c79-b270-fc05522e40af",
   "metadata": {},
   "outputs": [],
   "source": [
    "# 새로운 분류 라벨 추가  : 1, 0\n",
    "daily_elec['label']=np.where(daily_elec.mean(axis=1) > threshold, 1, 0)"
   ]
  },
  {
   "cell_type": "code",
   "execution_count": 134,
   "id": "ed6a26a2-6b9d-4b40-818f-82e5e19069ca",
   "metadata": {},
   "outputs": [
    {
     "data": {
      "text/plain": [
       "label\n",
       "0    742\n",
       "1    720\n",
       "Name: count, dtype: int64"
      ]
     },
     "execution_count": 134,
     "metadata": {},
     "output_type": "execute_result"
    }
   ],
   "source": [
    "daily_elec[\"label\"].value_counts()"
   ]
  },
  {
   "cell_type": "code",
   "execution_count": 136,
   "id": "7fd21d59-c607-4fae-a213-71f3bba6df3d",
   "metadata": {},
   "outputs": [
    {
     "data": {
      "text/html": [
       "<div>\n",
       "<style scoped>\n",
       "    .dataframe tbody tr th:only-of-type {\n",
       "        vertical-align: middle;\n",
       "    }\n",
       "\n",
       "    .dataframe tbody tr th {\n",
       "        vertical-align: top;\n",
       "    }\n",
       "\n",
       "    .dataframe thead th {\n",
       "        text-align: right;\n",
       "    }\n",
       "</style>\n",
       "<table border=\"1\" class=\"dataframe\">\n",
       "  <thead>\n",
       "    <tr style=\"text-align: right;\">\n",
       "      <th></th>\n",
       "      <th>MT_001</th>\n",
       "      <th>MT_002</th>\n",
       "      <th>MT_003</th>\n",
       "      <th>MT_004</th>\n",
       "      <th>MT_005</th>\n",
       "      <th>MT_006</th>\n",
       "      <th>MT_007</th>\n",
       "      <th>MT_008</th>\n",
       "      <th>MT_009</th>\n",
       "      <th>MT_010</th>\n",
       "      <th>...</th>\n",
       "      <th>MT_362</th>\n",
       "      <th>MT_363</th>\n",
       "      <th>MT_364</th>\n",
       "      <th>MT_365</th>\n",
       "      <th>MT_366</th>\n",
       "      <th>MT_367</th>\n",
       "      <th>MT_368</th>\n",
       "      <th>MT_369</th>\n",
       "      <th>MT_370</th>\n",
       "      <th>label</th>\n",
       "    </tr>\n",
       "  </thead>\n",
       "  <tbody>\n",
       "    <tr>\n",
       "      <th>2014-12-28</th>\n",
       "      <td>227.157360</td>\n",
       "      <td>2131.578947</td>\n",
       "      <td>151.172893</td>\n",
       "      <td>14327.235772</td>\n",
       "      <td>6776.829268</td>\n",
       "      <td>20122.023810</td>\n",
       "      <td>429.621255</td>\n",
       "      <td>25255.892256</td>\n",
       "      <td>5118.881119</td>\n",
       "      <td>4794.623656</td>\n",
       "      <td>...</td>\n",
       "      <td>3272100.0</td>\n",
       "      <td>220721.518987</td>\n",
       "      <td>257477.272727</td>\n",
       "      <td>8169.491525</td>\n",
       "      <td>552.369807</td>\n",
       "      <td>45914.837577</td>\n",
       "      <td>4405.676127</td>\n",
       "      <td>66135.630499</td>\n",
       "      <td>1.553189e+06</td>\n",
       "      <td>1</td>\n",
       "    </tr>\n",
       "    <tr>\n",
       "      <th>2014-12-29</th>\n",
       "      <td>248.730964</td>\n",
       "      <td>2212.660028</td>\n",
       "      <td>160.729800</td>\n",
       "      <td>14067.073171</td>\n",
       "      <td>7198.780488</td>\n",
       "      <td>22824.404762</td>\n",
       "      <td>550.593556</td>\n",
       "      <td>30286.195286</td>\n",
       "      <td>6697.552448</td>\n",
       "      <td>6337.634409</td>\n",
       "      <td>...</td>\n",
       "      <td>3109100.0</td>\n",
       "      <td>206852.320675</td>\n",
       "      <td>269090.909091</td>\n",
       "      <td>8438.070404</td>\n",
       "      <td>1153.891164</td>\n",
       "      <td>53928.884987</td>\n",
       "      <td>12914.858097</td>\n",
       "      <td>73882.697947</td>\n",
       "      <td>1.806486e+06</td>\n",
       "      <td>1</td>\n",
       "    </tr>\n",
       "    <tr>\n",
       "      <th>2014-12-30</th>\n",
       "      <td>232.233503</td>\n",
       "      <td>2205.547653</td>\n",
       "      <td>165.073849</td>\n",
       "      <td>14290.650407</td>\n",
       "      <td>7189.024390</td>\n",
       "      <td>23880.952381</td>\n",
       "      <td>586.772188</td>\n",
       "      <td>30909.090909</td>\n",
       "      <td>6487.762238</td>\n",
       "      <td>6489.247312</td>\n",
       "      <td>...</td>\n",
       "      <td>2904300.0</td>\n",
       "      <td>204126.582278</td>\n",
       "      <td>263613.636364</td>\n",
       "      <td>10615.384615</td>\n",
       "      <td>892.334699</td>\n",
       "      <td>56334.503951</td>\n",
       "      <td>15996.661102</td>\n",
       "      <td>73950.146628</td>\n",
       "      <td>1.867568e+06</td>\n",
       "      <td>1</td>\n",
       "    </tr>\n",
       "    <tr>\n",
       "      <th>2014-12-31</th>\n",
       "      <td>229.695431</td>\n",
       "      <td>2273.115220</td>\n",
       "      <td>166.811468</td>\n",
       "      <td>14006.097561</td>\n",
       "      <td>7023.170732</td>\n",
       "      <td>23511.904762</td>\n",
       "      <td>690.785755</td>\n",
       "      <td>28700.336700</td>\n",
       "      <td>6211.538462</td>\n",
       "      <td>5034.408602</td>\n",
       "      <td>...</td>\n",
       "      <td>2748800.0</td>\n",
       "      <td>162556.962025</td>\n",
       "      <td>215886.363636</td>\n",
       "      <td>7415.906128</td>\n",
       "      <td>530.134582</td>\n",
       "      <td>50259.877085</td>\n",
       "      <td>13245.409015</td>\n",
       "      <td>70416.422287</td>\n",
       "      <td>1.365892e+06</td>\n",
       "      <td>0</td>\n",
       "    </tr>\n",
       "    <tr>\n",
       "      <th>2015-01-01</th>\n",
       "      <td>2.538071</td>\n",
       "      <td>19.914651</td>\n",
       "      <td>1.737619</td>\n",
       "      <td>178.861789</td>\n",
       "      <td>84.146341</td>\n",
       "      <td>279.761905</td>\n",
       "      <td>10.175240</td>\n",
       "      <td>249.158249</td>\n",
       "      <td>62.937063</td>\n",
       "      <td>69.892473</td>\n",
       "      <td>...</td>\n",
       "      <td>27800.0</td>\n",
       "      <td>1409.282700</td>\n",
       "      <td>954.545455</td>\n",
       "      <td>27.379400</td>\n",
       "      <td>4.095963</td>\n",
       "      <td>628.621598</td>\n",
       "      <td>131.886477</td>\n",
       "      <td>673.020528</td>\n",
       "      <td>7.135135e+03</td>\n",
       "      <td>0</td>\n",
       "    </tr>\n",
       "  </tbody>\n",
       "</table>\n",
       "<p>5 rows × 371 columns</p>\n",
       "</div>"
      ],
      "text/plain": [
       "                MT_001       MT_002      MT_003        MT_004       MT_005  \\\n",
       "2014-12-28  227.157360  2131.578947  151.172893  14327.235772  6776.829268   \n",
       "2014-12-29  248.730964  2212.660028  160.729800  14067.073171  7198.780488   \n",
       "2014-12-30  232.233503  2205.547653  165.073849  14290.650407  7189.024390   \n",
       "2014-12-31  229.695431  2273.115220  166.811468  14006.097561  7023.170732   \n",
       "2015-01-01    2.538071    19.914651    1.737619    178.861789    84.146341   \n",
       "\n",
       "                  MT_006      MT_007        MT_008       MT_009       MT_010  \\\n",
       "2014-12-28  20122.023810  429.621255  25255.892256  5118.881119  4794.623656   \n",
       "2014-12-29  22824.404762  550.593556  30286.195286  6697.552448  6337.634409   \n",
       "2014-12-30  23880.952381  586.772188  30909.090909  6487.762238  6489.247312   \n",
       "2014-12-31  23511.904762  690.785755  28700.336700  6211.538462  5034.408602   \n",
       "2015-01-01    279.761905   10.175240    249.158249    62.937063    69.892473   \n",
       "\n",
       "            ...     MT_362         MT_363         MT_364        MT_365  \\\n",
       "2014-12-28  ...  3272100.0  220721.518987  257477.272727   8169.491525   \n",
       "2014-12-29  ...  3109100.0  206852.320675  269090.909091   8438.070404   \n",
       "2014-12-30  ...  2904300.0  204126.582278  263613.636364  10615.384615   \n",
       "2014-12-31  ...  2748800.0  162556.962025  215886.363636   7415.906128   \n",
       "2015-01-01  ...    27800.0    1409.282700     954.545455     27.379400   \n",
       "\n",
       "                 MT_366        MT_367        MT_368        MT_369  \\\n",
       "2014-12-28   552.369807  45914.837577   4405.676127  66135.630499   \n",
       "2014-12-29  1153.891164  53928.884987  12914.858097  73882.697947   \n",
       "2014-12-30   892.334699  56334.503951  15996.661102  73950.146628   \n",
       "2014-12-31   530.134582  50259.877085  13245.409015  70416.422287   \n",
       "2015-01-01     4.095963    628.621598    131.886477    673.020528   \n",
       "\n",
       "                  MT_370  label  \n",
       "2014-12-28  1.553189e+06      1  \n",
       "2014-12-29  1.806486e+06      1  \n",
       "2014-12-30  1.867568e+06      1  \n",
       "2014-12-31  1.365892e+06      0  \n",
       "2015-01-01  7.135135e+03      0  \n",
       "\n",
       "[5 rows x 371 columns]"
      ]
     },
     "execution_count": 136,
     "metadata": {},
     "output_type": "execute_result"
    }
   ],
   "source": [
    "daily_elec.tail()"
   ]
  },
  {
   "cell_type": "code",
   "execution_count": 190,
   "id": "855f2891-7ca1-4511-9af5-fa34d39294f2",
   "metadata": {},
   "outputs": [
    {
     "data": {
      "text/plain": [
       "((1462, 370), (1462,))"
      ]
     },
     "execution_count": 190,
     "metadata": {},
     "output_type": "execute_result"
    }
   ],
   "source": [
    "daily_X=daily_elec.drop(['label'], axis=1)\n",
    "daily_Y=daily_elec['label']\n",
    "daily_X.shape, daily_Y.shape"
   ]
  },
  {
   "cell_type": "code",
   "execution_count": 192,
   "id": "760aa3f7-1642-4575-b43c-b75b4ce4a42e",
   "metadata": {},
   "outputs": [],
   "source": [
    "# 정규화\n",
    "min_max_scaler=MinMaxScaler()\n",
    "min_max_scaled=min_max_scaler.fit_transform(daily_X)"
   ]
  },
  {
   "cell_type": "code",
   "execution_count": 236,
   "id": "d1ffd479-e721-44b8-89d8-9ec62d5490ef",
   "metadata": {},
   "outputs": [
    {
     "data": {
      "text/plain": [
       "((1169, 370), (1169,), (293, 370), (293,))"
      ]
     },
     "execution_count": 236,
     "metadata": {},
     "output_type": "execute_result"
    }
   ],
   "source": [
    "# 훈련 & 테스트 \n",
    "X_train, X_test, Y_train, Y_test=train_test_split(min_max_scaled, daily_Y, test_size=0.2, shuffle=False)\n",
    "X_train.shape, Y_train.shape, X_test.shape, Y_test.shape"
   ]
  },
  {
   "cell_type": "code",
   "execution_count": 196,
   "id": "ebd0ab29-98a5-4aa9-87a6-23cd167e8854",
   "metadata": {},
   "outputs": [],
   "source": [
    "def make_sample(data, labels, seq_length):\n",
    "    train, target=[], []\n",
    "    for i in range(len(data) - seq_length):\n",
    "        train.append(data[i: i+seq_length])        \n",
    "        target.append(labels[i+seq_length])       \n",
    "    return np.array(train), np.array(target)"
   ]
  },
  {
   "cell_type": "code",
   "execution_count": 198,
   "id": "96d2c1be-d20e-4577-94d5-54e6ca262254",
   "metadata": {},
   "outputs": [
    {
     "data": {
      "text/plain": [
       "((1139, 30, 370), (1139,))"
      ]
     },
     "execution_count": 198,
     "metadata": {},
     "output_type": "execute_result"
    }
   ],
   "source": [
    "seq_length=30\n",
    "\n",
    "# 훈련 데이터\n",
    "X, Y=make_sample(X_train, Y_train.values, seq_length)\n",
    "X.shape, Y.shape"
   ]
  },
  {
   "cell_type": "code",
   "execution_count": 211,
   "id": "ffc9cae6-1ba4-4f77-8316-fec6045a2904",
   "metadata": {},
   "outputs": [
    {
     "data": {
      "text/plain": [
       "((911, 30, 370), (911,), (228, 30, 370), (228,))"
      ]
     },
     "execution_count": 211,
     "metadata": {},
     "output_type": "execute_result"
    }
   ],
   "source": [
    "train_input, val_input, train_target, val_target=train_test_split(X, Y, test_size=0.2, shuffle=False)\n",
    "train_input.shape, train_target.shape, val_input.shape, val_target.shape"
   ]
  },
  {
   "cell_type": "markdown",
   "id": "0583f637-5dae-477e-84e4-ff9c03b3d450",
   "metadata": {},
   "source": [
    "## LSTM"
   ]
  },
  {
   "cell_type": "code",
   "execution_count": 214,
   "id": "4c8576b8-5c42-434f-bd79-f9ff64bf1ca8",
   "metadata": {},
   "outputs": [
    {
     "data": {
      "text/html": [
       "<pre style=\"white-space:pre;overflow-x:auto;line-height:normal;font-family:Menlo,'DejaVu Sans Mono',consolas,'Courier New',monospace\"><span style=\"font-weight: bold\">Model: \"sequential_5\"</span>\n",
       "</pre>\n"
      ],
      "text/plain": [
       "\u001b[1mModel: \"sequential_5\"\u001b[0m\n"
      ]
     },
     "metadata": {},
     "output_type": "display_data"
    },
    {
     "data": {
      "text/html": [
       "<pre style=\"white-space:pre;overflow-x:auto;line-height:normal;font-family:Menlo,'DejaVu Sans Mono',consolas,'Courier New',monospace\">┏━━━━━━━━━━━━━━━━━━━━━━━━━━━━━━━━━━━━━━┳━━━━━━━━━━━━━━━━━━━━━━━━━━━━━┳━━━━━━━━━━━━━━━━━┓\n",
       "┃<span style=\"font-weight: bold\"> Layer (type)                         </span>┃<span style=\"font-weight: bold\"> Output Shape                </span>┃<span style=\"font-weight: bold\">         Param # </span>┃\n",
       "┡━━━━━━━━━━━━━━━━━━━━━━━━━━━━━━━━━━━━━━╇━━━━━━━━━━━━━━━━━━━━━━━━━━━━━╇━━━━━━━━━━━━━━━━━┩\n",
       "│ lstm_5 (<span style=\"color: #0087ff; text-decoration-color: #0087ff\">LSTM</span>)                        │ (<span style=\"color: #00d7ff; text-decoration-color: #00d7ff\">None</span>, <span style=\"color: #00af00; text-decoration-color: #00af00\">64</span>)                  │         <span style=\"color: #00af00; text-decoration-color: #00af00\">111,360</span> │\n",
       "├──────────────────────────────────────┼─────────────────────────────┼─────────────────┤\n",
       "│ dense_5 (<span style=\"color: #0087ff; text-decoration-color: #0087ff\">Dense</span>)                      │ (<span style=\"color: #00d7ff; text-decoration-color: #00d7ff\">None</span>, <span style=\"color: #00af00; text-decoration-color: #00af00\">1</span>)                   │              <span style=\"color: #00af00; text-decoration-color: #00af00\">65</span> │\n",
       "└──────────────────────────────────────┴─────────────────────────────┴─────────────────┘\n",
       "</pre>\n"
      ],
      "text/plain": [
       "┏━━━━━━━━━━━━━━━━━━━━━━━━━━━━━━━━━━━━━━┳━━━━━━━━━━━━━━━━━━━━━━━━━━━━━┳━━━━━━━━━━━━━━━━━┓\n",
       "┃\u001b[1m \u001b[0m\u001b[1mLayer (type)                        \u001b[0m\u001b[1m \u001b[0m┃\u001b[1m \u001b[0m\u001b[1mOutput Shape               \u001b[0m\u001b[1m \u001b[0m┃\u001b[1m \u001b[0m\u001b[1m        Param #\u001b[0m\u001b[1m \u001b[0m┃\n",
       "┡━━━━━━━━━━━━━━━━━━━━━━━━━━━━━━━━━━━━━━╇━━━━━━━━━━━━━━━━━━━━━━━━━━━━━╇━━━━━━━━━━━━━━━━━┩\n",
       "│ lstm_5 (\u001b[38;5;33mLSTM\u001b[0m)                        │ (\u001b[38;5;45mNone\u001b[0m, \u001b[38;5;34m64\u001b[0m)                  │         \u001b[38;5;34m111,360\u001b[0m │\n",
       "├──────────────────────────────────────┼─────────────────────────────┼─────────────────┤\n",
       "│ dense_5 (\u001b[38;5;33mDense\u001b[0m)                      │ (\u001b[38;5;45mNone\u001b[0m, \u001b[38;5;34m1\u001b[0m)                   │              \u001b[38;5;34m65\u001b[0m │\n",
       "└──────────────────────────────────────┴─────────────────────────────┴─────────────────┘\n"
      ]
     },
     "metadata": {},
     "output_type": "display_data"
    },
    {
     "data": {
      "text/html": [
       "<pre style=\"white-space:pre;overflow-x:auto;line-height:normal;font-family:Menlo,'DejaVu Sans Mono',consolas,'Courier New',monospace\"><span style=\"font-weight: bold\"> Total params: </span><span style=\"color: #00af00; text-decoration-color: #00af00\">111,425</span> (435.25 KB)\n",
       "</pre>\n"
      ],
      "text/plain": [
       "\u001b[1m Total params: \u001b[0m\u001b[38;5;34m111,425\u001b[0m (435.25 KB)\n"
      ]
     },
     "metadata": {},
     "output_type": "display_data"
    },
    {
     "data": {
      "text/html": [
       "<pre style=\"white-space:pre;overflow-x:auto;line-height:normal;font-family:Menlo,'DejaVu Sans Mono',consolas,'Courier New',monospace\"><span style=\"font-weight: bold\"> Trainable params: </span><span style=\"color: #00af00; text-decoration-color: #00af00\">111,425</span> (435.25 KB)\n",
       "</pre>\n"
      ],
      "text/plain": [
       "\u001b[1m Trainable params: \u001b[0m\u001b[38;5;34m111,425\u001b[0m (435.25 KB)\n"
      ]
     },
     "metadata": {},
     "output_type": "display_data"
    },
    {
     "data": {
      "text/html": [
       "<pre style=\"white-space:pre;overflow-x:auto;line-height:normal;font-family:Menlo,'DejaVu Sans Mono',consolas,'Courier New',monospace\"><span style=\"font-weight: bold\"> Non-trainable params: </span><span style=\"color: #00af00; text-decoration-color: #00af00\">0</span> (0.00 B)\n",
       "</pre>\n"
      ],
      "text/plain": [
       "\u001b[1m Non-trainable params: \u001b[0m\u001b[38;5;34m0\u001b[0m (0.00 B)\n"
      ]
     },
     "metadata": {},
     "output_type": "display_data"
    }
   ],
   "source": [
    "model=keras.Sequential()\n",
    "model.add(keras.layers.Input(shape=(seq_length, 370)))                         # LSTM 입력 크기\n",
    "model.add(keras.layers.LSTM(64, activation='tanh', return_sequences=False))    # 시퀀스 중 마지막 상태만 출력 \n",
    "model.add(keras.layers.Dense(1, activation='sigmoid'))                         # 출력층\n",
    "model.summary()"
   ]
  },
  {
   "cell_type": "code",
   "execution_count": 216,
   "id": "19d27755-cbd8-4ca1-835a-1c4cf84eb510",
   "metadata": {},
   "outputs": [],
   "source": [
    "def on_epoch_end_fun(epoch, logs):  \n",
    "    if(epoch + 1) % 10 == 0:\n",
    "        print(f\"Epoch {epoch+1}: loss={logs['loss']:.4f}, accuracy={logs['accuracy']:.4f}\", \n",
    "              f\"val_loss={logs['val_loss']:.4f}, val_accuracy={logs['val_accuracy']:.4f}\")\n",
    "\n",
    "        \n",
    "# 각 에포크가 끝날 때 on_epoch_end 함수\n",
    "print_callback=LambdaCallback(on_epoch_end=on_epoch_end_fun)\n",
    "\n",
    "# 학습 중단\n",
    "early_stopping_callback=EarlyStopping(monitor='val_loss',       \n",
    "                                      patience=10,                  # epoch 동안 개선이 없으면 학습 중단\n",
    "                                      verbose=1,                    # early stopping 메시지 출력\n",
    "                                      restore_best_weights=True)    # 가장 좋은 가중치 복원    "
   ]
  },
  {
   "cell_type": "code",
   "execution_count": 218,
   "id": "e91674a7-b33f-4ebc-bf1e-2e2303787fc2",
   "metadata": {},
   "outputs": [],
   "source": [
    "model.compile(optimizer='adam', loss='binary_crossentropy', metrics=['accuracy'])"
   ]
  },
  {
   "cell_type": "code",
   "execution_count": 220,
   "id": "9b95d278-9e16-455e-b696-26b65dadfc4b",
   "metadata": {},
   "outputs": [
    {
     "name": "stdout",
     "output_type": "stream",
     "text": [
      "Epoch 10: loss=0.4232, accuracy=0.7728 val_loss=0.6673, val_accuracy=0.6711\n",
      "Epoch 20: loss=0.2551, accuracy=0.9155 val_loss=0.5306, val_accuracy=0.6316\n",
      "Epoch 30: loss=0.1603, accuracy=0.9429 val_loss=0.7268, val_accuracy=0.6667\n",
      "Epoch 31: early stopping\n",
      "Restoring model weights from the end of the best epoch: 21.\n"
     ]
    }
   ],
   "source": [
    "history=model.fit(train_input, train_target,\n",
    "                  epochs=100, batch_size=16, verbose=0, \n",
    "                  validation_data=(val_input, val_target), shuffle=False, \n",
    "                  callbacks=[print_callback, early_stopping_callback])  "
   ]
  },
  {
   "cell_type": "code",
   "execution_count": 222,
   "id": "696b2561-9b43-411a-bffc-c746ef64b9fb",
   "metadata": {},
   "outputs": [
    {
     "data": {
      "image/png": "[encoded data removed]",
      "text/plain": [
       "<Figure size 1000x500 with 1 Axes>"
      ]
     },
     "metadata": {},
     "output_type": "display_data"
    }
   ],
   "source": [
    "plt.figure(figsize=(10, 5))\n",
    "plt.plot(history.history['loss'], label='Train Loss')\n",
    "plt.plot(history.history['val_loss'], label='Test Loss')\n",
    "plt.xlabel('epoch')\n",
    "plt.ylabel('loss')\n",
    "plt.legend()\n",
    "plt.show()"
   ]
  },
  {
   "cell_type": "code",
   "execution_count": 238,
   "id": "f380a568-bfed-42bf-b95c-197f4503f9bd",
   "metadata": {},
   "outputs": [
    {
     "data": {
      "text/plain": [
       "((263, 30, 370), (263,))"
      ]
     },
     "execution_count": 238,
     "metadata": {},
     "output_type": "execute_result"
    }
   ],
   "source": [
    "test_input, test_target=make_sample(X_test, Y_test.values, seq_length)\n",
    "test_input.shape, test_target.shape"
   ]
  },
  {
   "cell_type": "code",
   "execution_count": 240,
   "id": "605d791a-4bff-4b97-b852-639f32ccb9b5",
   "metadata": {},
   "outputs": [
    {
     "name": "stdout",
     "output_type": "stream",
     "text": [
      "\u001b[1m9/9\u001b[0m \u001b[32m━━━━━━━━━━━━━━━━━━━━\u001b[0m\u001b[37m\u001b[0m \u001b[1m0s\u001b[0m 17ms/step - accuracy: 0.9756 - loss: 0.1717\n",
      "Test Loss: 0.2149, Test MSE: 0.9468\n"
     ]
    }
   ],
   "source": [
    "test_loss, test_mse=model.evaluate(test_input, test_target)\n",
    "print(f\"Test Loss: {test_loss:.4f}, Test MSE: {test_mse:.4f}\")    "
   ]
  },
  {
   "cell_type": "code",
   "execution_count": 281,
   "id": "f6acd778-b895-4ba7-9b62-4b823422e062",
   "metadata": {},
   "outputs": [
    {
     "name": "stdout",
     "output_type": "stream",
     "text": [
      "\u001b[1m9/9\u001b[0m \u001b[32m━━━━━━━━━━━━━━━━━━━━\u001b[0m\u001b[37m\u001b[0m \u001b[1m0s\u001b[0m 11ms/step\n"
     ]
    },
    {
     "data": {
      "text/plain": [
       "(array([1]), 1)"
      ]
     },
     "execution_count": 281,
     "metadata": {},
     "output_type": "execute_result"
    }
   ],
   "source": [
    "pred_prob=model.predict(test_input)\n",
    "pred_prob[0]\n",
    "\n",
    "pred_class=(pred_prob > 0.5).astype(int)\n",
    "pred_class[0], test_target[0]"
   ]
  },
  {
   "cell_type": "code",
   "execution_count": 284,
   "id": "0cf5ab2f-861c-4f80-ae6b-3083ffb1caaa",
   "metadata": {},
   "outputs": [
    {
     "data": {
      "text/plain": [
       "0.9467680608365019"
      ]
     },
     "execution_count": 284,
     "metadata": {},
     "output_type": "execute_result"
    }
   ],
   "source": [
    "metrics.accuracy_score(test_target, pred_class)"
   ]
  },
  {
   "cell_type": "code",
   "execution_count": null,
   "id": "e0444617-2d28-4a45-a9d6-ade1f8ef30db",
   "metadata": {},
   "outputs": [],
   "source": []
  }
 ],
 "metadata": {
  "kernelspec": {
   "display_name": "Python [conda env:base] *",
   "language": "python",
   "name": "conda-base-py"
  },
  "language_info": {
   "codemirror_mode": {
    "name": "ipython",
    "version": 3
   },
   "file_extension": ".py",
   "mimetype": "text/x-python",
   "name": "python",
   "nbconvert_exporter": "python",
   "pygments_lexer": "ipython3",
   "version": "3.12.7"
  }
 },
 "nbformat": 4,
 "nbformat_minor": 5
}
