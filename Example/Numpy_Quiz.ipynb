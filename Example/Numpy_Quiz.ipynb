{
 "cells": [
  {
   "cell_type": "markdown",
   "id": "998b3892-03a9-4bb2-adcc-90a1389c56d0",
   "metadata": {},
   "source": [
    "## Quiz\n",
    "* 이론 : 1번 ~ 18번\n",
    "* 실습 : 19번 ~ 25번"
   ]
  },
  {
   "cell_type": "code",
   "execution_count": 100,
   "id": "5a3e00e5-6274-4ab4-a03e-fcf5c257ab9a",
   "metadata": {},
   "outputs": [
    {
     "name": "stdout",
     "output_type": "stream",
     "text": [
      "홀수 배열: [1 3 5 7 9]\n",
      "짝수 배열: [ 2  4  6  8 10]\n"
     ]
    }
   ],
   "source": [
    "# Quiz 19번) Numpy 를 사용하여 주어진 배열의 홀수와 짝수를 분리하는 프로그램을 작성\n",
    "arr=np.array([1, 2, 3, 4, 5, 6, 7, 8, 9, 10])\n",
    "\n",
    "odd=arr[arr % 2 != 0]      # 홀수\n",
    "even=arr[arr % 2 == 0]     # 짝수\n",
    "\n",
    "print(\"홀수 배열:\", odd)\n",
    "print(\"짝수 배열:\", even)"
   ]
  },
  {
   "cell_type": "code",
   "execution_count": 101,
   "id": "269c8cb2-1ca5-43e2-8d03-d9c8f7bd7566",
   "metadata": {},
   "outputs": [
    {
     "name": "stdout",
     "output_type": "stream",
     "text": [
      "두 행렬의 합: \n",
      " [[ 6  8]\n",
      " [10 12]]\n"
     ]
    }
   ],
   "source": [
    "# Quiz 20번) 다음과 같은 두 행렬의 합을 계산하는 Numpy 프로그램을 작성하세요.\n",
    "a=np.array([[1, 2],\n",
    "            [3, 4]])\n",
    "\n",
    "b=np.array([[5, 6],\n",
    "            [7, 8]])\n",
    "\n",
    "result=a + b\n",
    "print(\"두 행렬의 합: \\n\", result)"
   ]
  },
  {
   "cell_type": "code",
   "execution_count": 103,
   "id": "ea68b1dc-8407-4620-bf00-8ae7bb83402e",
   "metadata": {},
   "outputs": [
    {
     "name": "stdout",
     "output_type": "stream",
     "text": [
      "각 열의 평균: [5.5 6.5 7.5]\n"
     ]
    }
   ],
   "source": [
    "# Quiz 21번)  21. 다음과 같은 2차원 배열이 주어졌을 때, 각 열(column)의 평균을 구하는 Numpy 프로그램을 작성하세요.\n",
    "data=np.array([[1, 2, 3],\n",
    "               [4, 5, 6],\n",
    "               [7, 8, 9],\n",
    "               [10, 11, 12]])\n",
    "\n",
    "column_means=np.mean(data, axis=0)       # 각 열의 평균 계산\n",
    "print(\"각 열의 평균:\", column_means)"
   ]
  },
  {
   "cell_type": "code",
   "execution_count": 104,
   "id": "49302181-47ac-4c3c-8aa8-720129a6e86b",
   "metadata": {},
   "outputs": [
    {
     "name": "stdout",
     "output_type": "stream",
     "text": [
      "배열의 중앙값: 4.5\n"
     ]
    }
   ],
   "source": [
    "# Quiz 22번) 다음과 같은 1차원 배열이 주어졌을 때, 배열의 중앙값(median)을 계산하는 Numpy 프로그램을 작성하세요. (배열 : [3, 1, 8, 4, 2, 5, 7, 6])\n",
    "arr=np.array([3, 1, 8, 4, 2, 5, 7, 6])\n",
    "\n",
    "median_value=np.median(arr)                   # 배열의 중앙값 계산\n",
    "print(\"배열의 중앙값:\", median_value)"
   ]
  },
  {
   "cell_type": "code",
   "execution_count": 105,
   "id": "c92c69da-0bb2-463c-93cb-1966ed70fe3d",
   "metadata": {},
   "outputs": [
    {
     "name": "stdout",
     "output_type": "stream",
     "text": [
      "각 행의 최솟값: [5 3 8 4]\n"
     ]
    }
   ],
   "source": [
    "# Quiz 23번) 다음과 같은 2차원 배열이 주어졌을 때, 각 행(row)의 최솟값을 찾는 Numpy 프로그램을 작성하세요.\n",
    "arr=np.array([[5, 12, 7],\n",
    "              [9, 3, 20],\n",
    "              [8, 15, 11],\n",
    "              [6, 10, 4]])\n",
    "\n",
    "minimum_values=np.min(arr, axis=1)   # 각 행의 최솟값 계산\n",
    "print(\"각 행의 최솟값:\", minimum_values)"
   ]
  },
  {
   "cell_type": "code",
   "execution_count": 106,
   "id": "552a372c-30d3-4120-89e7-33a2e934af95",
   "metadata": {},
   "outputs": [
    {
     "name": "stdout",
     "output_type": "stream",
     "text": [
      "[[1 2 3]\n",
      " [4 5 6]\n",
      " [7 8 9]]\n"
     ]
    }
   ],
   "source": [
    "# Quiz 24번) Numpy 함수를 활용하여 3x3 크기의 다음과 같은 배열을 생성하세요. \n",
    "#            arange(), reshape() 함수 사용\n",
    "\n",
    "arr=np.arange(1, 10).reshape(3, 3)\n",
    "print(arr)"
   ]
  },
  {
   "cell_type": "code",
   "execution_count": 107,
   "id": "47f5937a-2155-42b3-a582-97ae2430f2e7",
   "metadata": {},
   "outputs": [
    {
     "name": "stdout",
     "output_type": "stream",
     "text": [
      "[[0 1 0 1 0]\n",
      " [1 0 1 0 1]\n",
      " [0 1 0 1 0]\n",
      " [1 0 1 0 1]\n",
      " [0 1 0 1 0]]\n"
     ]
    }
   ],
   "source": [
    "# Quiz 25번) Numpy 함수를 사용하여 5x5 크기의 다음과 같은 배열을 생성하세요. zeros(), 슬라이싱 활용\n",
    "arr=np.zeros((5, 5), dtype=int)\n",
    "\n",
    "arr[::2, 1::2] = 1\n",
    "arr[1::2, ::2] = 1\n",
    "print(arr)"
   ]
  }
 ],
 "metadata": {
  "kernelspec": {
   "display_name": "Python [conda env:base] *",
   "language": "python",
   "name": "conda-base-py"
  },
  "language_info": {
   "codemirror_mode": {
    "name": "ipython",
    "version": 3
   },
   "file_extension": ".py",
   "mimetype": "text/x-python",
   "name": "python",
   "nbconvert_exporter": "python",
   "pygments_lexer": "ipython3",
   "version": "3.12.7"
  }
 },
 "nbformat": 4,
 "nbformat_minor": 5
}
