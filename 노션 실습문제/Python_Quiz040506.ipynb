{
 "cells": [
  {
   "cell_type": "markdown",
   "id": "3897edbb-1269-4d66-8ecb-1b41721d1d65",
   "metadata": {},
   "source": [
    "##  제어문 - Quiz03\n",
    "* 제어문\n",
    "* 1번 ~ 15번 이론 문제\n",
    "* 16번 ~ 30번 실습 문제"
   ]
  },
  {
   "cell_type": "code",
   "execution_count": 65,
   "id": "f5468296-1c8e-4f83-9e40-e4d374c04c0e",
   "metadata": {},
   "outputs": [
    {
     "name": "stdout",
     "output_type": "stream",
     "text": [
      "당신은 고수입니다.\n"
     ]
    }
   ],
   "source": [
    "# Quiz 16)  게임 사용자의 게임점수(game_score)가 1000점 이상이면 ‘당신은 고수입니다’를 출력하는 프로그램을 if 문을 이용하여 작성하시오. \n",
    "#           이때 다음과 같이 game_score값을 화면에 출력하여라. \n",
    "#           game_score에 800점, 1300점을 각각 입력하여 출력문을 확인하시오.\n",
    "\n",
    "game_score = 800\n",
    "if (game_score >= 1000):\n",
    "  print(\"당신은 고수입니다.\")\n",
    "\n",
    "game_score = 1300\n",
    "if (game_score >= 1000):\n",
    "  print(\"당신은 고수입니다.\")"
   ]
  },
  {
   "cell_type": "code",
   "execution_count": 66,
   "id": "a363b520-e7c7-4b56-8e4d-f092df2b67ae",
   "metadata": {},
   "outputs": [
    {
     "name": "stdout",
     "output_type": "stream",
     "text": [
      "두 값이 일치합니다.\n"
     ]
    }
   ],
   "source": [
    "# Quiz 17) num_a와 num_b에 할당된 값이 같으면 ‘두 값이 일치합니다.’를 출력하는 프로그램을 if 문을 이용하여 작성하시오. \n",
    "#          num_a와 num_b에 각각 100과 200이 할당되어 있는 경우와 num_a와 num_b에 300과 300이 할당되어 있는 경우에 \n",
    "#          대하여 각각 코드를 작성하고 출력문을 확인 하시오.\n",
    "num_a, num_b = 100, 200\n",
    "if (num_a == num_b):\n",
    "  print(\"두 값이 일치합니다.\")\n",
    "\n",
    "num_a, num_b = 300, 300\n",
    "if (num_a == num_b):\n",
    "  print(\"두 값이 일치합니다.\")"
   ]
  },
  {
   "cell_type": "code",
   "execution_count": 67,
   "id": "663125ba-3cdc-46ea-9ee5-b5077edf07df",
   "metadata": {},
   "outputs": [
    {
     "name": "stdin",
     "output_type": "stream",
     "text": [
      "정수를 입력하세요 :  2\n"
     ]
    },
    {
     "name": "stdout",
     "output_type": "stream",
     "text": [
      "n = 2\n",
      "2 은(는) 짝수입니다.\n"
     ]
    }
   ],
   "source": [
    "# Quiz 18)  1에서 100 사이의 임의의 정수 n을 입력받아서 \n",
    "#           1) n을 화면에 출력한 후, \n",
    "#           2) n이 짝수이면 \"...은(는) 짝수입니다.\"를 다음과 같이 출력하는 프로그램을 작성하여라.\n",
    "\n",
    "n = int(input(\"정수를 입력하세요 : \"))\n",
    "print(\"n =\", n)\n",
    "if(n % 2 == 0):\n",
    "  print(n ,\"은(는) 짝수입니다.\")"
   ]
  },
  {
   "cell_type": "code",
   "execution_count": 68,
   "id": "4761c3b1-e09c-4ccd-8cc9-036279468b85",
   "metadata": {},
   "outputs": [
    {
     "name": "stdin",
     "output_type": "stream",
     "text": [
      "정수를 입력하세요 :  50\n"
     ]
    },
    {
     "name": "stdout",
     "output_type": "stream",
     "text": [
      "x = 50\n",
      "50 은(는) 자연수입니다\n"
     ]
    }
   ],
   "source": [
    "# Quiz 19) -100에서 100 사이의 임의의 정수 x를 입력받아서 \n",
    "#          1) x를 화면에 출력한 후, \n",
    "#          2) x가 0보다 큰 정수이면 \"...은(는) 자연수입니다.\"를  그렇지 않을 경우 x = -10과 같이 x를 단순 출력하여라.\n",
    "\n",
    "x = int(input(\"정수를 입력하세요 : \"))\n",
    "print(\"x =\", x)\n",
    "\n",
    "if(x > 0):\n",
    "  print(x ,\"은(는) 자연수입니다\")\n",
    "else:\n",
    "  print(x)"
   ]
  },
  {
   "cell_type": "code",
   "execution_count": 69,
   "id": "5f2333c7-676d-4ebd-9307-85e481ed8142",
   "metadata": {},
   "outputs": [
    {
     "name": "stdin",
     "output_type": "stream",
     "text": [
      "당신은 성인인가요(성인이면 1, 미성년이면 0):  1\n",
      "결혼을 하셨나요(기혼이면 1, 미혼이면 0):  0\n"
     ]
    },
    {
     "name": "stdout",
     "output_type": "stream",
     "text": [
      "당신은 결혼하지 않은 성인입니다.\n"
     ]
    }
   ],
   "source": [
    "# Quiz 20) if 문의 복합 조건식을 이용해서 다음과 같은 기능을 수행하는 프로그램을 만들어보자.\n",
    "#          1) 우선 '당신은 성인인가요(성인이면 1, 미성년이면 0)' 문을 통해서 성인인지 미성년인지를 구한다음 미성년이면(0이 입력되면) '당신은 미성년자입니다.'를 출력하고 프로그램을 종료한다. \n",
    "#          2) 다음으로 성인이면(1이 입력되면) '결혼을 하셨나요(기혼이면 1, 미혼이면 0)' 질문을 통해 서 기혼, 미혼을 입력으로 받아서 '당신은 결혼한 성인입니다.' 혹은 '당신은 결혼하지 않은 성인입니다.'를 \n",
    "#             다음과 같이 출력하도록 한다.\n",
    "\n",
    "adult = int(input(\"당신은 성인인가요(성인이면 1, 미성년이면 0): \"))\n",
    "if(adult == 1):\n",
    "   marry = int(input(\"결혼을 하셨나요(기혼이면 1, 미혼이면 0): \"))\n",
    "   if(marry == 0):\n",
    "      print(\"당신은 결혼하지 않은 성인입니다.\")\n",
    "   else:\n",
    "      print(\"당신은 결혼한 성인입니다.\")\n",
    "else:\n",
    "   print(\"당신은 미성년자입니다.\")"
   ]
  },
  {
   "cell_type": "code",
   "execution_count": 70,
   "id": "05dc00e2-df27-4b2a-955c-a43e592b6bb5",
   "metadata": {},
   "outputs": [
    {
     "name": "stdout",
     "output_type": "stream",
     "text": [
      "청소년입니다\n"
     ]
    }
   ],
   "source": [
    "# Quiz 21)  age가 10보다 크고 19보다 작으면 '청소년입니다.'를 출력하는 부울식을 작성하여라. \n",
    "\n",
    "age = 12\n",
    "if(age > 10) and (age < 19):\n",
    "  print(\"청소년입니다\")"
   ]
  },
  {
   "cell_type": "code",
   "execution_count": 71,
   "id": "7d1b7a48-a21f-4dac-9c2e-8310711de6bb",
   "metadata": {},
   "outputs": [
    {
     "name": "stdin",
     "output_type": "stream",
     "text": [
      "미세먼지 농도를 입력하세요(단위 : microgram/m^3 ):  77\n"
     ]
    },
    {
     "name": "stdout",
     "output_type": "stream",
     "text": [
      "매우 나쁨\n"
     ]
    }
   ],
   "source": [
    "# Quiz 22) 미세먼지 농도 예보 기준이 다음과 같을 때 미세먼지 농도를 입력받아 ‘좋음’, ‘보통’, ‘나쁨’, ‘매우 나쁨’을 출력하는 코드를 작성하여라.(단위 ㎍/m3)\n",
    "\n",
    "dust = int(input(\"미세먼지 농도를 입력하세요(단위 : microgram/m^3 ): \"))\n",
    "if(dust >= 76):\n",
    "  print(\"매우 나쁨\")\n",
    "elif(dust <= 75) and (dust >= 36):\n",
    "  print(\"나쁨\")\n",
    "elif(dust <= 35) and (dust >= 16):\n",
    "  print(\"보통\")\n",
    "else:\n",
    "  print(\"좋음\")"
   ]
  },
  {
   "cell_type": "code",
   "execution_count": 72,
   "id": "c48cedf2-db84-4eea-9581-6d25bd7e81f2",
   "metadata": {},
   "outputs": [
    {
     "name": "stdout",
     "output_type": "stream",
     "text": [
      "Hello, Python!\n",
      "Hello, Python!\n",
      "Hello, Python!\n",
      "Hello, Python!\n",
      "Hello, Python!\n"
     ]
    }
   ],
   "source": [
    "# Quiz 23) for 반복문 사용하여  Hello, Python!을 5번 출력하는 프로그램을 작성하세요.\n",
    "for i in range(5):                    #   for _ in range(5):\n",
    "      print(\"Hello, Python!\")"
   ]
  },
  {
   "cell_type": "code",
   "execution_count": 73,
   "id": "48d69068-15a3-4afb-a3b2-48cfdf211ec8",
   "metadata": {},
   "outputs": [
    {
     "name": "stdout",
     "output_type": "stream",
     "text": [
      "0\n",
      "1\n",
      "2\n",
      "3\n",
      "4\n"
     ]
    }
   ],
   "source": [
    "# Quiz 24) for 반복문 사용하여 0에서 4까지의 정수를 출력하는 프로그램을 작성하세요.\n",
    "for i in range(5):\n",
    "  print(i)"
   ]
  },
  {
   "cell_type": "code",
   "execution_count": 74,
   "id": "bdc52d2f-b28c-4893-b686-2842386d50b3",
   "metadata": {},
   "outputs": [
    {
     "name": "stdout",
     "output_type": "stream",
     "text": [
      "[2, 4, 6, 8, 10, 12, 14, 16, 18, 20, 22, 24, 26, 28, 30, 32, 34, 36, 38, 40, 42, 44, 46, 48, 50, 52, 54, 56, 58, 60, 62, 64, 66, 68, 70, 72, 74, 76, 78, 80, 82, 84, 86, 88, 90, 92, 94, 96, 98, 100]\n"
     ]
    }
   ],
   "source": [
    "# Quiz 25) 1이상 100이하의 짝수 리스트를 작성하세요.\n",
    "su=list(range(2,101,2))\n",
    "print(su)"
   ]
  },
  {
   "cell_type": "code",
   "execution_count": 75,
   "id": "37457e85-7398-4e16-bf01-e4b58201a45e",
   "metadata": {},
   "outputs": [
    {
     "name": "stdout",
     "output_type": "stream",
     "text": [
      "1에서 100까지 정수의 합: 5050\n"
     ]
    }
   ],
   "source": [
    "# Quiz 26) 1~100까지 정수의 합을 구하여 출력하세요.\n",
    "total = 0\n",
    "for i in range(1, 101):\n",
    "    total = total + i\n",
    "print('1에서 100까지 정수의 합:', total)"
   ]
  },
  {
   "cell_type": "code",
   "execution_count": 76,
   "id": "440f4745-9478-4c1b-a8bf-5c646807886b",
   "metadata": {},
   "outputs": [
    {
     "name": "stdout",
     "output_type": "stream",
     "text": [
      "1에서 100까지 홀수의 합: 2500\n"
     ]
    }
   ],
   "source": [
    "# Quiz 27) 1~100 까지 정수 중에서 홀수의 합을 구하여 출력하세요.\n",
    "total = 0\n",
    "for i in range(1, 101, 2):\n",
    "    total = total + i\n",
    "print('1에서 100까지 홀수의 합:', total)"
   ]
  },
  {
   "cell_type": "code",
   "execution_count": 78,
   "id": "a6e690f5-d50b-4bcb-9a7a-ed575e97c9f8",
   "metadata": {},
   "outputs": [
    {
     "name": "stdout",
     "output_type": "stream",
     "text": [
      "몇 번 반복할까요?\n"
     ]
    },
    {
     "name": "stdin",
     "output_type": "stream",
     "text": [
      " 10\n"
     ]
    },
    {
     "name": "stdout",
     "output_type": "stream",
     "text": [
      "1회 반복\n",
      "2회 반복\n",
      "3회 반복\n",
      "4회 반복\n",
      "5회 반복\n",
      "6회 반복\n",
      "7회 반복\n",
      "8회 반복\n",
      "9회 반복\n",
      "10회 반복\n",
      "반복이 종료되었습니다.\n"
     ]
    }
   ],
   "source": [
    "# Quiz 28) 반복 횟수 만큼 출력하세요. \n",
    "print(\"몇 번 반복할까요?\")\n",
    "limit=int(input())\n",
    "\n",
    "count=0\n",
    "while count < limit:\n",
    "   count=count+1\n",
    "   print('{}회 반복'.format(count))\n",
    "\n",
    "print(\"반복이 종료되었습니다.\")"
   ]
  },
  {
   "cell_type": "code",
   "execution_count": 79,
   "id": "86316603-1de2-4b5a-9275-402d25ab001b",
   "metadata": {},
   "outputs": [
    {
     "name": "stdout",
     "output_type": "stream",
     "text": [
      "2 * 1 = 2\n",
      "2 * 2 = 4\n",
      "2 * 3 = 6\n",
      "2 * 4 = 8\n",
      "2 * 5 = 10\n",
      "2 * 6 = 12\n",
      "2 * 7 = 14\n",
      "2 * 8 = 16\n",
      "2 * 9 = 18\n"
     ]
    }
   ],
   "source": [
    "# Quiz 29) 다음과 같이 구구단의 2절을 출력하는 프로그램을 while문으로 사용하여 작성하세요.\n",
    "\n",
    "i=1\n",
    "dan=2\n",
    "while True:\n",
    "   print('{} * {} = {}'.format(dan, i, dan*i))\n",
    "   i=i+1\n",
    "   if i > 9:\n",
    "      break;"
   ]
  },
  {
   "cell_type": "code",
   "execution_count": 80,
   "id": "4d209504-d374-46c7-85a4-f440b633b7eb",
   "metadata": {},
   "outputs": [
    {
     "name": "stdout",
     "output_type": "stream",
     "text": [
      "맛나 식당에 오신것을 환영합니다. 메뉴는 다음과 같습니다\n",
      "1)햄버거\n",
      "2)치킨\n",
      "3)피자\n"
     ]
    },
    {
     "name": "stdin",
     "output_type": "stream",
     "text": [
      "1에서 3까지의 메뉴를 선택하세요 :  1\n"
     ]
    },
    {
     "name": "stdout",
     "output_type": "stream",
     "text": [
      "햄버거를 선택하였습니다.\n"
     ]
    }
   ],
   "source": [
    "# Quiz 30) 맛나 식당의 메뉴 주문 프로그램을 개발하고자 한다. 이를 위하여 사용자에게 다음과\n",
    "#          같은 메뉴를 보여주고 이 중에서 하나를 선택하도록 하자. 이때 메누에 없는 숫자가 입려되면\n",
    "#          메뉴를 다시 입력하세요' 가 출력되도록 한 후 다시 입력을 받도록 하자.\n",
    "\n",
    "print('맛나 식당에 오신것을 환영합니다. 메뉴는 다음과 같습니다')\n",
    "print('1)햄버거\\n2)치킨\\n3)피자')\n",
    "\n",
    "menu = int(input('1에서 3까지의 메뉴를 선택하세요 : '))\n",
    "while menu > 3 or menu < 1:\n",
    "  menu = int(input('메뉴를 다시 입력하세요 : '))\n",
    "\n",
    "if menu == 1:\n",
    "    print('햄버거를 선택하였습니다.')\n",
    "elif menu == 2:\n",
    "    print('치킨을 선택하였습니다.')\n",
    "else:\n",
    "    print('피자를 선택하였습니다')"
   ]
  },
  {
   "cell_type": "markdown",
   "id": "a04081d5-c08f-487a-96d7-c6a08237e28e",
   "metadata": {},
   "source": [
    "## 기본함수 - Quiz04\n",
    "* 함수\n",
    "* 1번 ~ 11번 이론 문제\n",
    "* 12번 ~ 20번 실습 문제"
   ]
  },
  {
   "cell_type": "code",
   "execution_count": 8,
   "id": "33b65daf-99f8-46cb-9e08-ad4d50acc91e",
   "metadata": {},
   "outputs": [
    {
     "name": "stdout",
     "output_type": "stream",
     "text": [
      "환영합니다.\n",
      "환영합니다.\n"
     ]
    }
   ],
   "source": [
    "# Quiz 12) \"환영합니다.“를 출력하는 greet()이라는 이름의 함수를 정의하고 이 함수를 두 번 호출하여 이 인사말을 두 번 출력하여라\n",
    "\n",
    "def my_greet():\n",
    "    print('환영합니다.')\n",
    "\n",
    "my_greet()\n",
    "my_greet()"
   ]
  },
  {
   "cell_type": "code",
   "execution_count": 124,
   "id": "02dd7927-632e-4204-a7bb-c1856dc554a9",
   "metadata": {},
   "outputs": [
    {
     "name": "stdout",
     "output_type": "stream",
     "text": [
      "************************\n",
      "************************\n",
      "************************\n",
      "************************\n",
      "************************\n",
      "************************\n"
     ]
    }
   ],
   "source": [
    "# Quiz 13) 6줄의 별표를 출력해 보시오. 이때 함수 호출을 6회 하시오.\n",
    "\n",
    "def print_star():  \n",
    "  print('************************')\n",
    "\n",
    "for _ in range(6):\n",
    "  print_star() "
   ]
  },
  {
   "cell_type": "code",
   "execution_count": 127,
   "id": "0f2e6d2b-38ff-4f23-8cdd-2759b1169a15",
   "metadata": {},
   "outputs": [
    {
     "name": "stdout",
     "output_type": "stream",
     "text": [
      "10 과 20 의 차는 -10 입니다\n"
     ]
    }
   ],
   "source": [
    "# Quiz 14) 두 개의 매개변수 a, b를 받아서 두 수의 차를 구하여 출력하는 print_sub(a, b) 함수를 구현하여라. \n",
    "#          print_sum(10, 20)을 호출한 결과 다음과 같은 출력이 나타나도록 하여라.\n",
    "\n",
    "def print_sub(a,b):\n",
    "  print(a,\"과\", b, \"의 차는\", a-b,\"입니다\")\n",
    "\n",
    "print_sub(10, 20)"
   ]
  },
  {
   "cell_type": "code",
   "execution_count": 129,
   "id": "f074557c-a5a9-4255-b6fd-a9669e8b80db",
   "metadata": {},
   "outputs": [
    {
     "name": "stdout",
     "output_type": "stream",
     "text": [
      "10 과 20 의 곱은(는) 200 입니다\n"
     ]
    }
   ],
   "source": [
    "# Quiz 15) 두 개의 매개변수 a, b를 받아서 두 수의 곱를 구하여 출력하는 print_mult(a, b) 함수를 구현하여라. \n",
    "#          print_mult(10, 20)을 호출한 결과 다음과 같은 출력이 나타나도록 하여라.\n",
    "\n",
    "def print_mult(a, b):\n",
    "  print(a,\"과\",b,\"의 곱은(는)\" , a*b, \"입니다\")\n",
    "  \n",
    "print_mult(10,20)"
   ]
  },
  {
   "cell_type": "code",
   "execution_count": 130,
   "id": "e3910f7c-8fa4-475b-9c2e-ab2308e3a742",
   "metadata": {},
   "outputs": [
    {
     "name": "stdout",
     "output_type": "stream",
     "text": [
      "3의 제곱은 : 9\n",
      "4의 제곱은 : 16\n"
     ]
    }
   ],
   "source": [
    "# Quiz 16) n이라는 이름의 매개변수를 입력으로 받아서 이 값의 제곱 값을 반환하는 square(n) 함수를 정의하고 \n",
    "#          이 함수를 호출하여 3과 4의 제곱을 출력하여라\n",
    "\n",
    "def square(n):\n",
    "    return n * n\n",
    "\n",
    "print('3의 제곱은 :', square(3))\n",
    "print('4의 제곱은 :', square(4))"
   ]
  },
  {
   "cell_type": "code",
   "execution_count": 132,
   "id": "6e873e44-11e4-4dc4-b267-f017ad59301b",
   "metadata": {},
   "outputs": [
    {
     "name": "stdout",
     "output_type": "stream",
     "text": [
      "반지름 10인 원의 면적은 314.0, 원의 둘레는 62.8\n"
     ]
    }
   ],
   "source": [
    "# Quiz 17) 원의 면적과 둘레를 구하기 위하여 원의 반지름을 사용하려고 한다. 이 때 사용할 circle_ area_circum(radius) 함수는 \n",
    "#          다음과 같이 반지름(radius) 10을 입력으로 받아서 면적(area)과 둘레(circum)의 두 값을 반환하도록 구현하여라.\n",
    "\n",
    "def circle_area_circum(radius) :\n",
    "    area = 3.14 * radius ** 2\n",
    "    circum = 2 * 3.14 * radius\n",
    "    return area, circum  \n",
    "\n",
    "radius = 10\n",
    "area, circum = circle_area_circum(radius)  \n",
    "print(\"반지름 {}인 원의 면적은 {:.1f}, 원의 둘레는 {:.1f}\".format(radius, area, circum))"
   ]
  },
  {
   "cell_type": "code",
   "execution_count": 134,
   "id": "861af1c3-bf67-49ad-9caa-e757f7f91eb1",
   "metadata": {},
   "outputs": [
    {
     "name": "stdout",
     "output_type": "stream",
     "text": [
      "100과 200중 큰 수는 : 200\n",
      "100과 200중 작은 수는 : 100\n"
     ]
    }
   ],
   "source": [
    "# Quiz 18) m과 n이라는 이름의 매개변수를 두 개 입력받아서 이 두 값 중에서 큰 값을 반환하는 \n",
    "#          max2(m, n) 함수와 작은 값을 반환하는 min2(m, n) 함수를 구현하시오. \n",
    "\n",
    "def max2(m, n):\n",
    "    if m > n :\n",
    "        return m\n",
    "    else :\n",
    "        return n\n",
    "\n",
    "def min2(m, n):\n",
    "    if m < n :\n",
    "        return m\n",
    "    else :\n",
    "        return m\n",
    "\n",
    "print('100과 200중 큰 수는 :', max2(100, 200))\n",
    "print('100과 200중 작은 수는 :', min2(100, 200))"
   ]
  },
  {
   "cell_type": "code",
   "execution_count": 135,
   "id": "02f1e1fc-ec11-4dca-a2bd-6c39c3be0898",
   "metadata": {},
   "outputs": [
    {
     "name": "stdout",
     "output_type": "stream",
     "text": [
      " 10에서  20까지의 정수의 합 :  165\n",
      " 40에서 100까지의 정수의 합 : 4270\n"
     ]
    }
   ],
   "source": [
    "# Quiz 19) n1에서 n2까지의 정수의 합을 구하는 함수 sum_range(n1, n2)를 작성하시오. \n",
    "#          이 함수를 이용하여 10에서 20까지의 정수의 합과 40에서 100까지의 정수의 합을 구하여 \n",
    "#          다음과 같은 출력을 하는 프로그램을 작성하시오.\n",
    "\n",
    "def sum_range(n1, n2):\n",
    "  total = 0\n",
    "  for n in range(n1, n2+1):\n",
    "    total += n\n",
    "  return total\n",
    "\n",
    "print('{:3d}에서 {:3d}까지의 정수의 합 : {:4d}'.format(10, 20, sum_range(10, 20)))\n",
    "print('{:3d}에서 {:3d}까지의 정수의 합 : {:4d}'.format(40, 100, sum_range(40, 100)))"
   ]
  },
  {
   "cell_type": "code",
   "execution_count": 136,
   "id": "4e07d3fd-3b90-42f5-881b-d281b7a9ca75",
   "metadata": {},
   "outputs": [
    {
     "name": "stdout",
     "output_type": "stream",
     "text": [
      "3 6 9 12\n",
      "2 4 6 8 10\n"
     ]
    }
   ],
   "source": [
    "# Quiz 20) 어떤 정수 n과 m을 입력하면, n의 배수 m개를 반환하는 multiplies(n, m) 함수를 구현하고 \n",
    "#          다음과 같이 호출하여 결과를 출력하여라.\n",
    "\n",
    "def muliples(n, m):\n",
    "  tup = ()\n",
    "  for i in range(1,m+1):\n",
    "    tup = tup + (i*n,)\n",
    "  return tup\n",
    "\n",
    "r1, r2, r3, r4 = muliples(3, 4)       # 3의 배수 4 개를 구하라\n",
    "print(r1, r2, r3, r4)\n",
    "r1, r2, r3, r4, r5 = muliples(2, 5)   # 2의 배수 5 개를 구하라\n",
    "print(r1, r2, r3, r4, r5)"
   ]
  },
  {
   "cell_type": "markdown",
   "id": "ff667a1c-f36e-4dfe-9a44-db6a161a8ba5",
   "metadata": {},
   "source": [
    "## 여러형태의 함수 - Quiz05\n",
    "* 여러형태의  함수 \n",
    "* 1번 ~ 23번 이론 문제\n",
    "* 24번 ~ 29번 실습 문제"
   ]
  },
  {
   "cell_type": "code",
   "execution_count": 138,
   "id": "4e5ff5a6-c22a-4cc0-a6e0-616d14d44878",
   "metadata": {},
   "outputs": [
    {
     "name": "stdout",
     "output_type": "stream",
     "text": [
      "Dr Gildong Hong\n",
      "Gildong Hong Dr\n"
     ]
    }
   ],
   "source": [
    "# Quiz 24) 다음과 같이 성(last name)과 이름(first name), 존칭(honorifics)을 매개변수로 받아서 출력하는 함수 print_name이 있다.\n",
    "\n",
    "def print_name(honorifics, first_name, last_name):\n",
    "    print(honorifics, first_name, last_name)\n",
    "\n",
    "print_name(first_name='Gildong', last_name='Hong', honorifics='Dr')     #  Dr Gildong Hong\n",
    "print_name('Gildong', 'Hong', 'Dr')                                                             #  Gildong Hong Dr"
   ]
  },
  {
   "cell_type": "code",
   "execution_count": 140,
   "id": "8731a4f3-789b-4582-9315-0cec25ba59ce",
   "metadata": {},
   "outputs": [
    {
     "name": "stdout",
     "output_type": "stream",
     "text": [
      "3 개의 인자 (10, 20, 30)\n",
      "합계 : 60 , 평균 : 20.0\n",
      "5 개의 인자 (10, 20, 30, 40, 50)\n",
      "합계 : 150 , 평균 : 30.0\n"
     ]
    }
   ],
   "source": [
    "# Quiz 25) 가변 인자를 사용하는 sum_nums() 함수를 수정하여 인자들을 튜플 형식으로 출력한 후 모든 값들의 합과 평균을 다음과 같이 출력하시오.\n",
    "\n",
    "def sum_nums(*numbers):\n",
    "  avg = 0\n",
    "  sum = 0\n",
    "  count =0\n",
    "  for n in numbers:\n",
    "    count = count + 1\n",
    "    sum = sum + n\n",
    "    avg = avg + n\n",
    "  avg = avg / count\n",
    "  print(count, '개의 인자', numbers)\n",
    "  print(\"합계 :\", sum ,\", 평균 :\", avg)\n",
    "  \n",
    "sum_nums(10, 20 ,30)\n",
    "sum_nums(10, 20, 30, 40, 50)"
   ]
  },
  {
   "cell_type": "code",
   "execution_count": 141,
   "id": "c8c4a339-5576-47cb-bf09-45671a9d2be3",
   "metadata": {},
   "outputs": [
    {
     "name": "stdout",
     "output_type": "stream",
     "text": [
      "최솟값은 10\n"
     ]
    }
   ],
   "source": [
    "# Quiz 26) 가변 인자를 사용하는 함수 min_nums() 함수를 구현하시오. 이 함수는 정수를 인자로 받을 수 있는데 이 인자의 갯수가 가변적이다. 이 함수의 호출문이 다음과 같을 경우\n",
    "\n",
    "def min_nums(*number):\n",
    "  min = number[0]\n",
    "  for n in number:\n",
    "    if(min > n):\n",
    "      min = n\n",
    "  return min\n",
    "\n",
    "print(\"최솟값은\", min_nums(20,40,50,10))"
   ]
  },
  {
   "cell_type": "code",
   "execution_count": 142,
   "id": "9f6a4803-f308-4f8f-971b-00a82b714a1a",
   "metadata": {},
   "outputs": [
    {
     "name": "stdout",
     "output_type": "stream",
     "text": [
      "정렬 결과: [3, 4, 5, 45, 56]\n",
      "정렬 결과: [3, 4, 5, 6, 7, 8, 9]\n"
     ]
    }
   ],
   "source": [
    "# Quiz 27) n개의 숫자를 가변인수로 입력받은 후 이 숫자들을 오름차순으로 정렬하여 출력하는 다음 my_sort() 함수를 작성하시오.\n",
    "def my_sort(*numbers):\n",
    "  lst =[]\n",
    "  for number in numbers:\n",
    "    lst.append(number)\n",
    "  lst.sort()\n",
    "  print('정렬 결과:', lst)\n",
    "\n",
    "my_sort(45, 3, 4, 56, 5)\n",
    "my_sort(9, 8, 7, 6, 5, 4, 3)    "
   ]
  },
  {
   "cell_type": "code",
   "execution_count": 144,
   "id": "0449b538-81ef-4ab6-bd58-36c040478788",
   "metadata": {},
   "outputs": [
    {
     "name": "stdout",
     "output_type": "stream",
     "text": [
      "철수 학생의 성적표:\n",
      "수학: 95\n",
      "영어: 80\n",
      "과학: 75\n",
      "영희 학생의 성적표:\n",
      "국어: 88\n",
      "음악: 95\n",
      "미술: 70\n"
     ]
    }
   ],
   "source": [
    "# Quiz 28) 주어진 함수는 각 학생의 이름과 과목별 성적을 출력하는 함수입니다.\n",
    "#          이 함수는 학생의 이름을 받고, 이어서 키워드 인수로 과목 해당 과목의 성적을 받는다.\n",
    "\n",
    "def print_student_grades(name, **subjects):\n",
    "    print(f\"{name} 학생의 성적표:\")\n",
    "    for subject, score in subjects.items():\n",
    "        print(f\"{subject}: {score}\")\n",
    "\n",
    "\n",
    "# 함수 호출 예시\n",
    "print_student_grades(\"철수\", 수학=95, 영어=80, 과학=75)\n",
    "print_student_grades(\"영희\", 국어=88, 음악=95, 미술=70)"
   ]
  },
  {
   "cell_type": "code",
   "execution_count": 145,
   "id": "2be4857d-75d0-4717-9fa5-3b1cecc96dc9",
   "metadata": {},
   "outputs": [
    {
     "name": "stdout",
     "output_type": "stream",
     "text": [
      "장바구니 목록:\n",
      "과일: 사과, 바나나\n",
      "음료: 콜라, 주스\n",
      "간식: 과자, 초콜릿\n",
      "장바구니 목록:\n",
      "의류: 티셔츠, 바지\n",
      "신발: 운동화\n",
      "악세서리: 시계\n"
     ]
    }
   ],
   "source": [
    "# Quiz 29) 쇼핑 목록을 출력하는 함수를 만들려고 합니다. \n",
    "#         이 함수는 사용자의 장바구니 목록을 출력하며, 특정 카테고리에 해당하는 항목들을 추가할 수 있어야 합니다.\n",
    "def show_shopping_list(**items):\n",
    "    print(\"장바구니 목록:\")\n",
    "    for category, item in items.items():\n",
    "        print(f\"{category}: {item}\")\n",
    "\n",
    "# 함수 호출 예시\n",
    "show_shopping_list(과일=\"사과, 바나나\", 음료=\"콜라, 주스\", 간식=\"과자, 초콜릿\")\n",
    "show_shopping_list(의류=\"티셔츠, 바지\", 신발=\"운동화\", 악세서리=\"시계\")"
   ]
  },
  {
   "cell_type": "markdown",
   "id": "ecba94f1-7cf9-4673-b947-cb9abed498e5",
   "metadata": {},
   "source": [
    "## 내장함수 - Quiz06\n",
    "* 내장함수 & 모듈\n",
    "* 내장함수 : 1번 ~ 11번 이론 문제 /  12번 ~ 14번 실습 문제\n",
    "* 모듈 : 15번 ~ 18번 이론 문제  / 19번 ~ 22 실습 문제"
   ]
  },
  {
   "cell_type": "code",
   "execution_count": 146,
   "id": "32c15a0e-46e9-462b-bc46-abe237b9b152",
   "metadata": {},
   "outputs": [
    {
     "name": "stdout",
     "output_type": "stream",
     "text": [
      "8\n"
     ]
    }
   ],
   "source": [
    "# Quiz 12) 다음 데이터로 이루어진 리스트가 주어졌을 때, 이 리스트에서 최대값과 최소값의 차이를 반환하는 프로그램을 작성하세요. \n",
    "\n",
    "numbers = [3, 7, 2, 10, 5]\n",
    "print(max(numbers) - min(numbers))"
   ]
  },
  {
   "cell_type": "code",
   "execution_count": 147,
   "id": "2d6a85c1-0b88-4a72-94ec-d9f8039de31f",
   "metadata": {},
   "outputs": [
    {
     "name": "stdout",
     "output_type": "stream",
     "text": [
      "banana\n"
     ]
    }
   ],
   "source": [
    "# Quiz 13) 다음 문자열 중  가장 긴 문자열을 출력하는 프로그램 작성하세요.\n",
    "\n",
    "strings = ['apple', 'banana', 'kiwi', 'orange']\n",
    "longest = max(strings, key=len)\n",
    "print(longest)"
   ]
  },
  {
   "cell_type": "code",
   "execution_count": 148,
   "id": "3836c188-e172-4ad0-8bd9-d72affef427d",
   "metadata": {},
   "outputs": [
    {
     "name": "stdout",
     "output_type": "stream",
     "text": [
      "[1, 2, 3, 4, 5]\n",
      "\n",
      "\n"
     ]
    }
   ],
   "source": [
    "# Quiz 14) 리스트에서 중복된 숫자를 제거 후 하는 프로그램 작성하세요.\n",
    "\n",
    "numbers = [1, 2, 2, 3, 4, 4, 5]\n",
    "print(list(set(numbers)))\n",
    "print(\"\\n\")"
   ]
  },
  {
   "cell_type": "code",
   "execution_count": 150,
   "id": "b7a0ff40-8306-481c-a500-f6dc7b26e5a7",
   "metadata": {},
   "outputs": [
    {
     "name": "stdout",
     "output_type": "stream",
     "text": [
      "춘향이와 몽룡이의 연애 시작일: 2019-02-24\n",
      "오늘날짜: 2024-06-13\n",
      "연애 시작일로부터 경과한 날짜: 1936\n"
     ]
    }
   ],
   "source": [
    "# Quiz 19)  춘향이와 몽룡이는 2019년 2월 24일 연애를 시작했다.\n",
    "#           오늘은 두 사람의 연애 시작일로부터 며칠이 경과하였는지 프로그램 작성하세요.\n",
    "\n",
    "import datetime \n",
    "start_day=datetime.date(2019, 2, 24)\n",
    "today=datetime.date.today()\n",
    "result=today-start_day\n",
    "print('춘향이와 몽룡이의 연애 시작일:', start_day)\n",
    "print('오늘날짜:', today)\n",
    "print('연애 시작일로부터 경과한 날짜:', result.days)"
   ]
  },
  {
   "cell_type": "code",
   "execution_count": 152,
   "id": "9713c4d2-84cf-46df-a17d-63b43c5b96c7",
   "metadata": {},
   "outputs": [
    {
     "name": "stdout",
     "output_type": "stream",
     "text": [
      "2025년 크리스마스 까지는 559일 9시간 남았습니다.\n"
     ]
    }
   ],
   "source": [
    "# Quiz 20) 크리스마스까지의 남은 날짜와 시간을 구하는 프로그램 작성하세요.\n",
    "\n",
    "today=datetime.datetime.now()\n",
    "xMas=datetime.datetime(2025, 12, 25)\n",
    "result=xMas-today\n",
    "print('2025년 크리스마스 까지는 {}일 {}시간 남았습니다.'.format(result.days, result.seconds // 3600))"
   ]
  },
  {
   "cell_type": "code",
   "execution_count": 153,
   "id": "d0b8b4ce-7af9-4914-9517-ae0ad28e984f",
   "metadata": {},
   "outputs": [
    {
     "name": "stdout",
     "output_type": "stream",
     "text": [
      "8 is even.\n",
      "\n"
     ]
    }
   ],
   "source": [
    "# Quiz 21) 무작위로 1에서 10까지의 숫자를 생성하고, 그 숫자가 홀수인지 짝수인지 판별하는 프로그램을 작성하세요. \n",
    "\n",
    "import random\n",
    "number = random.randint(1, 10)\n",
    "if number % 2 == 0:\n",
    "    print(f\"{number} is even.\")\n",
    "else:\n",
    "    print(f\"{number} is odd.\")\n",
    "print()"
   ]
  },
  {
   "cell_type": "code",
   "execution_count": 154,
   "id": "8e43fc00-f7d2-473e-952b-1bc9ae9a43bc",
   "metadata": {},
   "outputs": [
    {
     "name": "stdout",
     "output_type": "stream",
     "text": [
      " 4** 2 =      16.0\n",
      " 4** 3 =      64.0\n",
      " 4** 4 =     256.0\n",
      " 4** 5 =    1024.0\n",
      " 4** 6 =    4096.0\n",
      " 4** 7 =   16384.0\n",
      " 4** 8 =   65536.0\n",
      " 4** 9 =  262144.0\n",
      " 4**10 = 1048576.0\n"
     ]
    }
   ],
   "source": [
    "# Quiz 22) math 모듈과 for - in range()를 사용하여 4의 2승부터 10승까지를 화면에 출력하세요.\n",
    "\n",
    "import math \n",
    "for n in range(2, 11):\n",
    "    print('{:2d}**{:2d} = {:9.1f}'.format(4, n, math.pow(4, n)))"
   ]
  }
 ],
 "metadata": {
  "kernelspec": {
   "display_name": "Python [conda env:base] *",
   "language": "python",
   "name": "conda-base-py"
  },
  "language_info": {
   "codemirror_mode": {
    "name": "ipython",
    "version": 3
   },
   "file_extension": ".py",
   "mimetype": "text/x-python",
   "name": "python",
   "nbconvert_exporter": "python",
   "pygments_lexer": "ipython3",
   "version": "3.12.7"
  }
 },
 "nbformat": 4,
 "nbformat_minor": 5
}
