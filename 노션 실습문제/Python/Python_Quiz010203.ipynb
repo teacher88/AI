{
 "cells": [
  {
   "cell_type": "markdown",
   "id": "0672f7de-8712-445f-b7d4-503cd381f8fa",
   "metadata": {},
   "source": [
    "## 기본 자료형 - Quiz01 \n",
    "* 기본 자료형\n",
    "* 1번 ~ 15번 이론 문제\n",
    "* 16번 ~ 27번 실습 문제"
   ]
  },
  {
   "cell_type": "code",
   "execution_count": 1,
   "id": "06af11f5-bc71-49a8-bc38-86ae7d101e79",
   "metadata": {},
   "outputs": [
    {
     "name": "stdout",
     "output_type": "stream",
     "text": [
      "100\n",
      "300\n",
      "100 200\n",
      "100 200\n",
      "Hello Python!\n",
      "Hello Python !\n",
      "HelloPython!\n",
      "**********\n",
      "**********\n"
     ]
    }
   ],
   "source": [
    "# Quiz 16) 다음 파이썬의 프로그램의 출력 결과는 무엇인가?\n",
    "print(100)\n",
    "print(100+200)\n",
    "print(100, 200)\n",
    "print('100', '200')\n",
    "print('Hello Python!')\n",
    "print('Hello', 'Python', '!')\n",
    "print('Hello' + 'Python' + '!')\n",
    "print('**********')\n",
    "print('*' * 10)"
   ]
  },
  {
   "cell_type": "code",
   "execution_count": 3,
   "id": "5363b8ff-6c0c-47d4-966f-18238e5f8c21",
   "metadata": {},
   "outputs": [
    {
     "name": "stdout",
     "output_type": "stream",
     "text": [
      "200\n",
      "4005\n",
      "4.0\n",
      "27\n",
      "729\n",
      "3.0\n",
      "3\n",
      "0\n"
     ]
    }
   ],
   "source": [
    "# Quiz 17) 다음 파이썬 프로그램의 출력 결과는 무엇인가?\n",
    "print(400 - 200)\n",
    "print( 45 * 89)\n",
    "print( 32 / 8)\n",
    "print(9 * 3)\n",
    "print( 9 ** 3)\n",
    "print(9 / 3)\n",
    "print( 9 // 3)\n",
    "print(9 % 3)"
   ]
  },
  {
   "cell_type": "code",
   "execution_count": 5,
   "id": "889d6e66-0e89-45a1-b736-dd2f7e306804",
   "metadata": {},
   "outputs": [
    {
     "name": "stdout",
     "output_type": "stream",
     "text": [
      "31.400000000000002\n",
      "100\n",
      "625\n",
      "80\n",
      "300\n"
     ]
    }
   ],
   "source": [
    "# Quiz 18) 파이썬을 이용하여 다음과 같은 수식 계산하기\n",
    "print(2 * 3.14 * 5)                  # 반지름의 길이가 5인 원의 둘레(원주율 파이는 3.14)\n",
    "print(25 * 4)                        # 한 변의 길이가 25인 정사각형의 둘레\n",
    "print(25 * 25)                       # 한 변의 길이가 25인 정사각형의 면적\n",
    "print((10 * 2) + (30 * 2))           # 높이가 10이고 밑변이 30인 직사각형의 둘레\n",
    "print(10 * 30)                       # 높이가 10이고 밑변이 30인 직사각형의 면적"
   ]
  },
  {
   "cell_type": "code",
   "execution_count": 6,
   "id": "2fa97b24-37b3-43ce-b0c2-2d3382bdeae1",
   "metadata": {},
   "outputs": [
    {
     "name": "stdout",
     "output_type": "stream",
     "text": [
      "거리: 120.0\n",
      "평균: 95.0\n",
      "결과: 8.316759064062193\n"
     ]
    }
   ],
   "source": [
    "# Quiz 19) 파이썬의 변수를 사용하여 아래의 문제를 해결하세요.\n",
    "# 19-1) 민수가 자동차를 이용하여 시속 80km의 속력으로 1시간 30분을 달렸을 때, 민수의 총 주행 거리를 계산(단, 거리는 속력*시간)\n",
    "speed=80\n",
    "time=1.5\n",
    "result=speed*time\n",
    "print(\"거리:\", result)\n",
    "\n",
    "# 19-2) 철수는 자동차를 이용하여 2시간 동안 190km를 이동하였다. 평균 속력을 계산\n",
    "speed=190\n",
    "time=2\n",
    "result=speed/time\n",
    "print(\"평균:\", result)\n",
    "\n",
    "# 19-3) 태양과 지구의 평균 거리는 빛의 속도로 149,597,870km로 정의되어 있다. 빛이 1초에\n",
    "#       299,792km를 이동한다고 가정할 때 태양에서 출발한 빛이 지구에 도착하는 시간은 몇 초인가?\n",
    "#      이 값을 분으로 환산\n",
    "speed=149597870\n",
    "second=299792\n",
    "minute=60\n",
    "result=(speed/second)/minute\n",
    "print(\"결과:\", result)       # 실수는 결과 다름 8.316759102978065,  8.316759064062193  "
   ]
  },
  {
   "cell_type": "code",
   "execution_count": 7,
   "id": "5f49ae41-9404-4859-8654-dec0dc14c13a",
   "metadata": {},
   "outputs": [
    {
     "name": "stdout",
     "output_type": "stream",
     "text": [
      "6\n",
      "120\n",
      "479001600\n",
      "2432902008176640000\n"
     ]
    }
   ],
   "source": [
    "# Quiz 20) n 팩토리얼은 n * (n-1) * (n-2) * ... * 2 * 1 로 정의한다. 이 정의를 바탕으로 다음 값을 구하기\n",
    "#          3! 5! 12! 20!\n",
    "\n",
    "print(3 * 2 * 1)\n",
    "print(5 * 4 * 3 * 2 *1)\n",
    "print(12 * 11 * 10 * 9 * 8 * 7 * 6 * 5 * 4 * 3 * 2 * 1)\n",
    "print(20 * 19 * 18 * 17 * 16 * 15 * 14 * 13 * 12 * 11 * 10 * 9 * 8 * 7 * 6 * 5 * 4 * 3 * 2 * 1)"
   ]
  },
  {
   "cell_type": "code",
   "execution_count": 8,
   "id": "fa110e45-2b0a-4426-956e-85fd470b5446",
   "metadata": {},
   "outputs": [
    {
     "name": "stdout",
     "output_type": "stream",
     "text": [
      "50+30: 80\n",
      "50-30: 20\n",
      "50*30: 1500\n",
      "50/30: 1.6666666666666667\n"
     ]
    }
   ],
   "source": [
    "# Quiz 21) 아래의 실행 결과를 보시고 변수를 사용하여 프로그램을 작성하세요.\n",
    "a=50\n",
    "b=30\n",
    "hap=a+b\n",
    "cha=a-b\n",
    "mul=a*b\n",
    "div=a/b\n",
    "print(\"50+30:\", hap)\n",
    "print(\"50-30:\", cha)\n",
    "print(\"50*30:\", mul)\n",
    "print(\"50/30:\", div)"
   ]
  },
  {
   "cell_type": "code",
   "execution_count": 15,
   "id": "92dea63c-9420-4d2a-b3f4-17e33110287a",
   "metadata": {},
   "outputs": [
    {
     "name": "stdout",
     "output_type": "stream",
     "text": [
      "pin: 2\n"
     ]
    }
   ],
   "source": [
    "# Quiz 22) 주민번호(\"830331-2039471\")의 뒤자리의 첫번째 숫자는 성별을 의미한다. \n",
    "#          주민등록번호에서 성별을 나타내는 숫자를 출력하세요 (인덱싱)\n",
    "jumin=\"830331-2039471\"\n",
    "pin=jumin[7]\n",
    "print(\"pin:\", pin)"
   ]
  },
  {
   "cell_type": "code",
   "execution_count": 16,
   "id": "0d994bbf-3d56-47c2-9e54-1fd0d798f0fc",
   "metadata": {},
   "outputs": [
    {
     "name": "stdout",
     "output_type": "stream",
     "text": [
      "시작위치: 12\n"
     ]
    }
   ],
   "source": [
    "# Quiz 23) \"Life is too short, you need python\" 문자열에서 \"short\"라는 문자열의 시작 위치를 구하세요.\n",
    "temp=\"Life is too short, you need python\"\n",
    "print(\"시작위치:\", temp.index(\"short\"))"
   ]
  },
  {
   "cell_type": "code",
   "execution_count": 17,
   "id": "5cbb7b55-b198-4605-a671-6e659b27420c",
   "metadata": {},
   "outputs": [
    {
     "name": "stdout",
     "output_type": "stream",
     "text": [
      "010\n",
      "1234\n",
      "5678\n"
     ]
    }
   ],
   "source": [
    "# Quiz 24) 임꺽정씨의 전화번호는 \"010-1234-5678\"입니다. 임꺽정씨의 전화번호에서 '-'을 제외하고 \n",
    "#          숫자 부분만 나누어 출력하세요 (슬라이싱)\n",
    "phone=\"010-1234-5678\"\n",
    "print(phone[:3])\n",
    "print(phone[4:8])\n",
    "print(phone[9:])"
   ]
  },
  {
   "cell_type": "code",
   "execution_count": 19,
   "id": "633006ca-60e4-4799-9307-406325d73cde",
   "metadata": {},
   "outputs": [
    {
     "name": "stdout",
     "output_type": "stream",
     "text": [
      "W19830331\n"
     ]
    }
   ],
   "source": [
    "# Quiz 25) \"1983W0331\"이라는 문자열을 \"W19830331\"로 바꿔보자 (슬라이싱 또는 인덱싱)\n",
    "value=\"1983W0331\"\n",
    "print(value[4] +  value[:4] + value[5:])"
   ]
  },
  {
   "cell_type": "code",
   "execution_count": 22,
   "id": "8750be34-f70d-47d4-ac01-636a98a4b4d1",
   "metadata": {},
   "outputs": [
    {
     "name": "stdout",
     "output_type": "stream",
     "text": [
      "치환: a#b#c#d\n"
     ]
    }
   ],
   "source": [
    "# Quiz 26) \"a:b:c:d\" 문자열을 \"a#b#c#d\"문자열로 치환하세요.\n",
    "imsi=\"a:b:c:d\"\n",
    "print(\"치환:\", imsi.replace(\":\", \"#\"))"
   ]
  },
  {
   "cell_type": "code",
   "execution_count": 23,
   "id": "9e286897-fc1f-4e24-a081-ab43d3d18bfc",
   "metadata": {},
   "outputs": [
    {
     "name": "stdout",
     "output_type": "stream",
     "text": [
      "대문자: python programming\n"
     ]
    }
   ],
   "source": [
    "# Quiz 27) \"python programming\" 문자열을 모두 대문자로 출력하세요.\n",
    "subject=\"python programming\"\n",
    "print(\"대문자:\", subject.lower())"
   ]
  },
  {
   "cell_type": "markdown",
   "id": "8d3a71fb-25ce-4d89-a70e-75596b8ef577",
   "metadata": {},
   "source": [
    "## 컬렉션 자료형 - Quiz02\n",
    "* 컬렉션 자료형\n",
    "* 1번 ~ 22번 이론 문제\n",
    "* 23번 ~ 45번 실습 문제"
   ]
  },
  {
   "cell_type": "code",
   "execution_count": 29,
   "id": "d44ed2b1-e4f3-486c-9b39-7a4884d369b4",
   "metadata": {},
   "outputs": [
    {
     "name": "stdout",
     "output_type": "stream",
     "text": [
      "[2, 4, 6, 7, 10]\n"
     ]
    }
   ],
   "source": [
    "# Quiz 23) 1부터 10까지의 숫자 중에서 짝수를 요소로  가지는 even_list라는 리스트를 생성하여 출력\n",
    "even_list=[2, 4, 6, 7, 10]\n",
    "print(even_list)"
   ]
  },
  {
   "cell_type": "code",
   "execution_count": 30,
   "id": "8c0b2e3c-3d99-461e-b447-3eb45ebd112c",
   "metadata": {},
   "outputs": [
    {
     "name": "stdout",
     "output_type": "stream",
     "text": [
      "['Korea', 'China', 'India', 'Nepal']\n"
     ]
    }
   ],
   "source": [
    "# Quiz 24)  ‘Korea', 'China', 'India', 'Nepal' 의 네 원소를 가지는 nations라는 리스트를 생성하여 출력.\n",
    "nations=['Korea', 'China', 'India', 'Nepal']\n",
    "print(nations)"
   ]
  },
  {
   "cell_type": "code",
   "execution_count": 32,
   "id": "4f489b6e-9263-4a6d-9650-105f43e461b4",
   "metadata": {},
   "outputs": [
    {
     "name": "stdout",
     "output_type": "stream",
     "text": [
      "['길동', '철수', '은지', '지은', '영민']\n"
     ]
    }
   ],
   "source": [
    "# Quiz 25)  친한 친구 5명의 이름을 원소로 가지는 friends라는 리스트를 생성하여 출력.\n",
    "friends=['길동', '철수', '은지', '지은', '영민']\n",
    "print(friends)"
   ]
  },
  {
   "cell_type": "code",
   "execution_count": 33,
   "id": "b065a00a-fd53-43a5-9954-b023dffd3d22",
   "metadata": {},
   "outputs": [
    {
     "name": "stdout",
     "output_type": "stream",
     "text": [
      "['X', 'Y', 'Z']\n"
     ]
    }
   ],
   "source": [
    "# Quiz 26) 'XYZ' 문자열을 이용하여 'X', 'Y', 'Z'라는 요소를 가지는 string이라는 이름의 리스트 생성하고 출력\n",
    "string='XYZ'\n",
    "print(list(string))"
   ]
  },
  {
   "cell_type": "code",
   "execution_count": 34,
   "id": "97625194-559c-4fc5-a37d-198067a3d1a8",
   "metadata": {},
   "outputs": [
    {
     "name": "stdout",
     "output_type": "stream",
     "text": [
      "prime_list의 첫 원소: 2\n"
     ]
    }
   ],
   "source": [
    "# Quiz 27) 2부터 ~ 10까지의 수중에서 소수를 원소를 가지는 prime_list라는 리스트를 생성하고\n",
    "#          이 리스트의 가장 첫 원소를 리스트 인덱싱을 이용하여 출력하세요.\n",
    "prime_list=[2, 3, 5, 7]\n",
    "print('prime_list의 첫 원소:', prime_list[0])"
   ]
  },
  {
   "cell_type": "code",
   "execution_count": 35,
   "id": "5b7baf84-a49b-43fe-beef-e76f011e5780",
   "metadata": {},
   "outputs": [
    {
     "name": "stdout",
     "output_type": "stream",
     "text": [
      "prime_list의 마지막 원소: 7\n"
     ]
    }
   ],
   "source": [
    "# Quiz 28) prime_list의 가장 마지막 원소를 음수 인덱스를 사용하여 출력하세요.\n",
    "print('prime_list의 마지막 원소:', prime_list[-1])"
   ]
  },
  {
   "cell_type": "code",
   "execution_count": 40,
   "id": "ea578e52-433a-4042-92d3-11620d241836",
   "metadata": {},
   "outputs": [
    {
     "name": "stdout",
     "output_type": "stream",
     "text": [
      "추가 전 소수 목록: [2, 3, 5, 7]\n",
      "추가 후 소수 목록: [2, 3, 5, 7, 11]\n"
     ]
    }
   ],
   "source": [
    "# Quiz 29) 1부터 ~ 10까지의 수들 중에서 소수 원소를 가지는 prime_list라는 리스트를 생성하시고 \n",
    "#          list의 메소드를 사용하여 11을 추가하세요. 이때 추가 전과 추가 후의 결과를 출력하세요.\n",
    "\n",
    "prime_list=[2, 3, 5, 7]\n",
    "print(\"추가 전 소수 목록:\", prime_list)\n",
    "\n",
    "prime_list.append(11)\n",
    "print(\"추가 후 소수 목록:\", prime_list)"
   ]
  },
  {
   "cell_type": "code",
   "execution_count": 41,
   "id": "c59f52a7-7de5-4b3d-90f8-2fa78a30ed38",
   "metadata": {},
   "outputs": [
    {
     "name": "stdout",
     "output_type": "stream",
     "text": [
      "삭제 전 소수 목록: [2, 3, 5, 7, 11]\n",
      "삭제 후 소수 목록: [2, 5, 7, 11]\n"
     ]
    }
   ],
   "source": [
    "# Quiz 30)  Quiz 29의 prime_list라는 리스트에 있는 3이라는 원소를 list의 메소드를 사용하여 제거하세요,\n",
    "#           이 때 삭제 전과 삭제 후의 결과를 출력하세요.\n",
    "print(\"삭제 전 소수 목록:\", prime_list)\n",
    "\n",
    "prime_list.remove(3)\n",
    "print(\"삭제 후 소수 목록:\", prime_list)"
   ]
  },
  {
   "cell_type": "code",
   "execution_count": 43,
   "id": "83fa2ecb-82d4-4ad5-a706-626f5d0d5846",
   "metadata": {},
   "outputs": [
    {
     "name": "stdout",
     "output_type": "stream",
     "text": [
      "False\n",
      "True\n"
     ]
    }
   ],
   "source": [
    "# Quiz 31) nations = ['Korea', 'China', 'Russia', 'Malaysia'] 라는 리스트에 'Japan'과 'Russia'가 있는지 검사하세요.\n",
    "nations = ['Korea', 'China', 'Russia', 'Malaysia']\n",
    "print('Japan' in nations)\n",
    "print('Russia' in nations)"
   ]
  },
  {
   "cell_type": "code",
   "execution_count": 46,
   "id": "39906e30-da41-41c1-ab78-60440cbba8de",
   "metadata": {},
   "outputs": [
    {
     "name": "stdout",
     "output_type": "stream",
     "text": [
      "[1, 2, 3, [10, 20, 30]]\n",
      "[1, 2, 3, 10, 20, 30]\n"
     ]
    }
   ],
   "source": [
    "# Quiz 32) a리스트의 원소 값이 [1, 2, 3]이고 b리스트의 원소값이 [10, 20, 30]이다.\n",
    "#          a리스트에 append(b)와 extend(b) 메소드를 각각 호출할 때 어떤 결과가 나타날지 예측하세요.\n",
    "a=[1, 2, 3]\n",
    "b=[10, 20, 30]\n",
    "a.append(b)\n",
    "print(a)\n",
    "\n",
    "a=[1, 2, 3]\n",
    "b=[10, 20, 30]\n",
    "a.extend(b)\n",
    "print(a)"
   ]
  },
  {
   "cell_type": "code",
   "execution_count": 48,
   "id": "f01a12d9-526a-4935-bf2e-5d2ef3664e8f",
   "metadata": {},
   "outputs": [
    {
     "name": "stdout",
     "output_type": "stream",
     "text": [
      "[0, 1, 2, 3, 4, 5, 6, 7, 8, 9, 10]\n"
     ]
    }
   ],
   "source": [
    "# Quiz 33) nlist = [1, 2, 3, 4, 5, 6, 7, 8, 9, 10]라는 리스트에 제일 앞에 0을 삽입하여 출력하세요.\n",
    "nlist = [1, 2, 3, 4, 5, 6, 7, 8, 9, 10]\n",
    "nlist.insert(0, 0)\n",
    "print(nlist)"
   ]
  },
  {
   "cell_type": "code",
   "execution_count": 50,
   "id": "e6e8b9ab-7b75-4c16-ad3e-95b11b531a55",
   "metadata": {},
   "outputs": [
    {
     "name": "stdout",
     "output_type": "stream",
     "text": [
      "[0, 1, 2, 3, 4, 5, 6, 7, 8, 9, 10]\n"
     ]
    }
   ],
   "source": [
    "# Quiz 34) Quiz 33번 nlist를 역순으로 출력하세요.\n",
    "nlist.reverse()\n",
    "print(nlist)"
   ]
  },
  {
   "cell_type": "code",
   "execution_count": 51,
   "id": "db52c0e1-e26f-4182-8e45-67b8cd18e55b",
   "metadata": {},
   "outputs": [
    {
     "name": "stdout",
     "output_type": "stream",
     "text": [
      "[0, 1, 2, 3, 4]\n",
      "[5, 6, 7, 8, 9, 10]\n",
      "[11, 12, 13, 14]\n",
      "[2, 4, 6, 8, 10]\n",
      "[10, 9, 8, 7, 6]\n",
      "[10, 8, 6, 4, 2]\n"
     ]
    }
   ],
   "source": [
    "#Quiz 35) nlist = [0, 1, 2, 3, 4, 5, 6, 7, 8, 9, 10, 11, 12, 13, 14]로 부터 슬라이싱을 수앵하여 다음과 같은 리스트를 생성하세요.\n",
    "# slist1 = [0, 1, 2, 3, 4]\n",
    "# slist2 = [5, 6, 7, 8, 9, 10]\n",
    "# slist3 = [11, 12, 13, 14]\n",
    "# slist4 = [2, 4, 6, 8, 10]\n",
    "# slist5 = [10, 9, 8, 7, 6]\n",
    "# slist6 = [10, 8, 6, 4, 2]\n",
    "\n",
    "nlist = [0, 1, 2, 3, 4, 5, 6, 7, 8, 9, 10, 11, 12, 13, 14]\n",
    "slist1 = nlist[0:5]\n",
    "print(slist1)\n",
    "\n",
    "slist2 = nlist[5:11]\n",
    "print(slist2)\n",
    "\n",
    "slist3 = nlist[11:15]\n",
    "print(slist3)\n",
    "\n",
    "slist4 = nlist[2:11:2]\n",
    "print(slist4)\n",
    "\n",
    "slist5 = nlist[10:5:-1]\n",
    "print(slist5)\n",
    "\n",
    "slist6 = nlist[10:0:-2]\n",
    "print(slist6)"
   ]
  },
  {
   "cell_type": "code",
   "execution_count": 52,
   "id": "27c90093-ddc3-4a2b-8408-16b9bdccc67c",
   "metadata": {},
   "outputs": [
    {
     "name": "stdout",
     "output_type": "stream",
     "text": [
      "{'Korea': 'Seoul', 'China': 'Beijing', 'USA': 'Washington DC'}\n"
     ]
    }
   ],
   "source": [
    "# Quiz 36) 다음과 같은 문자열 키-값의 항목을 가지는 capital_dic 딕셔너리를 생성하고 출력하세요.\n",
    "capital_dic = {'Korea':'Seoul','China':'Beijing','USA':'Washington DC'}\n",
    "print(capital_dic)"
   ]
  },
  {
   "cell_type": "code",
   "execution_count": 53,
   "id": "6e0a604e-7db1-419f-9b55-a957bf3a83a3",
   "metadata": {},
   "outputs": [
    {
     "name": "stdout",
     "output_type": "stream",
     "text": [
      "apple의 가격은 5000원입니다.\n",
      "banana의 가격은 4000원입니다.\n",
      "grape의 가격은 5300원입니다.\n",
      "melon의 가격은 6500원입니다.\n"
     ]
    }
   ],
   "source": [
    "# Quiz 37) 다음 키-값의 항목을 요소로 가지는 fruits_dic 딕셔너리를 생성하세요.\n",
    "#          그리고 이 딕셔너리를 이용하여 각 과일의 가격을 다음과 같이 출력하세요.\n",
    "fruits_dic = {'apple':5000,'banana':4000,'grape':5300,'melon':6500}\n",
    "print('{}의 가격은 {}원입니다.'.format('apple',fruits_dic['apple']))\n",
    "print('{}의 가격은 {}원입니다.'.format('banana',fruits_dic['banana']))\n",
    "print('{}의 가격은 {}원입니다.'.format('grape',fruits_dic['grape']))\n",
    "print('{}의 가격은 {}원입니다.'.format('melon',fruits_dic['melon']))"
   ]
  },
  {
   "cell_type": "code",
   "execution_count": 55,
   "id": "6671dea4-96e7-48f4-ae0b-498fc4b918f1",
   "metadata": {},
   "outputs": [
    {
     "data": {
      "text/plain": [
       "{'이름': '홍길동', '나이': 26, '몸무게': 82, '특기': '분신술'}"
      ]
     },
     "execution_count": 55,
     "metadata": {},
     "output_type": "execute_result"
    }
   ],
   "source": [
    "# Quiz 38) {'이름': '홍길동', '나이': 26, '키': 179, '특기': '분신술'}라는 딕셔너리를 생성 후\n",
    "#          '아버지' 키와 '홍판서' 값을 가지는 새로운 항목을 추가하세요.\n",
    "person = {'이름' : '홍길동', '나이' : 26, '몸무게' : 82 , '특기': '분신술'}  \n",
    "person['특기'] = '분신술'\n",
    "person"
   ]
  },
  {
   "cell_type": "code",
   "execution_count": 56,
   "id": "61617a69-f37d-4300-9250-76453defdd85",
   "metadata": {},
   "outputs": [
    {
     "data": {
      "text/plain": [
       "{'이름': '홍길동', '몸무게': 82, '특기': '분신술', '아버지': '홍판서'}"
      ]
     },
     "execution_count": 56,
     "metadata": {},
     "output_type": "execute_result"
    }
   ],
   "source": [
    "# Quiz 39) Quiz 38번 person 딕셔너리에 대해 '나이'를 키로 가지는 항목을 삭제하여 다음과 같은 딕 셔너리로 갱신하시오.\n",
    "person = {'이름' : '홍길동', '나이' : 26, '몸무게' : 82 , '특기': '분신술', '아버지':'홍판서'}\n",
    "del person['나이']\n",
    "person"
   ]
  },
  {
   "cell_type": "code",
   "execution_count": 57,
   "id": "e96d1627-4152-44cb-ac43-5cfbfd66cac9",
   "metadata": {},
   "outputs": [
    {
     "name": "stdout",
     "output_type": "stream",
     "text": [
      "{'apple': 6000, 'melon': 3000, 'banana': 5000, 'orange': 7000}\n",
      "dict_keys(['apple', 'melon', 'banana', 'orange'])\n",
      "dict_values([6000, 3000, 5000, 7000])\n",
      "None\n"
     ]
    }
   ],
   "source": [
    "# Quiz 40) apple, melon, banana, orange라는 문자열로 된 키와 각각 6000, 3000, 5000, 7000원의 가 격을 값으로 가지는 fruits_dic이라는 이름의 딕셔너리를 생성하자.\n",
    "#            1) fruits_dic 딕셔너리의 모든 키 출력하시오.\n",
    "#            2) fruits_dic 딕셔너리의 모든 값 출력하시오.     \n",
    "#            3) fruits_dic 딕셔너리의 모든 항목을 삭제하시오. \n",
    "fruits_dic = {'apple':6000, 'melon':3000, 'banana':5000, 'orange':7000}\n",
    "print(fruits_dic)\n",
    "print(fruits_dic.keys())\n",
    "print(fruits_dic.values())\n",
    "print(fruits_dic.clear())"
   ]
  },
  {
   "cell_type": "code",
   "execution_count": 58,
   "id": "87e8038c-7015-4972-b068-72970e37e228",
   "metadata": {},
   "outputs": [
    {
     "name": "stdout",
     "output_type": "stream",
     "text": [
      "1919년 3월 1일은 삼일절입니다.\n"
     ]
    }
   ],
   "source": [
    "# Quiz 41)  (1919, 3, 1)의 요소 값을 가지는 the_day 튜플을 생성하여라. \n",
    "#            그리고 이 튜플의 요소를 언 패킹을 통해 year, month, day 변수에 할당한 후 출력하시요.\n",
    "the_day=(1919, 3, 1)\n",
    "year, month, day=the_day\n",
    "print('{}년 {}월 {}일은 삼일절입니다.'.format(year, month, day))"
   ]
  },
  {
   "cell_type": "code",
   "execution_count": 60,
   "id": "c41a3711-b0a2-405b-a3f2-5dfc80465cd2",
   "metadata": {},
   "outputs": [
    {
     "name": "stdout",
     "output_type": "stream",
     "text": [
      "a = 30\n",
      "b = 20\n",
      "c = 10\n"
     ]
    }
   ],
   "source": [
    "# Quiz 42) 10, 20, 30의 순서대로 이루어진 리스트를 튜플로 변환하여 a, b, c에 언패킹한 후\n",
    "#                   출력하세요.\n",
    "n_list = [10,20,30]\n",
    "tup = tuple(n_list)\n",
    "c, b, a = tup\n",
    "print('a =', a)\n",
    "print('b =', b)\n",
    "print('c =', c)"
   ]
  },
  {
   "cell_type": "code",
   "execution_count": 62,
   "id": "bd191e46-b972-44f9-92e5-d26b893c1fbf",
   "metadata": {},
   "outputs": [
    {
     "name": "stdout",
     "output_type": "stream",
     "text": [
      "(10, 20, 30, 40, 50, 60)\n",
      "HelloHelloHello\n",
      "('Hello', 'Hello', 'Hello')\n"
     ]
    }
   ],
   "source": [
    "# Quiz 43) 다음 튜플 결과를 작성하세요.\n",
    "#                   (10, 20, 30) + (40, 50, 60)\n",
    "#                   ('Hello' * 3)\n",
    "#                   (('Hello', ) * 3)\n",
    "print((10, 20, 30) + (40, 50, 60))\n",
    "print('Hello' * 3)\n",
    "print (('Hello', ) * 3)"
   ]
  },
  {
   "cell_type": "code",
   "execution_count": 63,
   "id": "e4cd956e-92dc-4b14-9257-b633f47e8a24",
   "metadata": {},
   "outputs": [
    {
     "data": {
      "text/plain": [
       "{'apple', 'banana', 'mango'}"
      ]
     },
     "execution_count": 63,
     "metadata": {},
     "output_type": "execute_result"
    }
   ],
   "source": [
    "#Quiz 44) fruits=['apple', 'mango', 'banana'] 리스트를 세트로 생성하여 출력하세요.\n",
    "fruits=['apple', 'mango', 'banana']\n",
    "myset=set(fruits)\n",
    "myset"
   ]
  },
  {
   "cell_type": "code",
   "execution_count": 64,
   "id": "37f2b974-1fd7-46cf-8f6f-010d8f891693",
   "metadata": {},
   "outputs": [
    {
     "data": {
      "text/plain": [
       "{' ', 'G', 'a', 'd', 'e', 'f', 'n', 'o', 'r', 't'}"
      ]
     },
     "execution_count": 64,
     "metadata": {},
     "output_type": "execute_result"
    }
   ],
   "source": [
    "#Quiz 45) greet='Good afternoon' 문자열을 세트으로 생성하여 출력하세요.\n",
    "greet = 'Good afternoon'\n",
    "myset=set(greet)\n",
    "myset"
   ]
  },
  {
   "cell_type": "markdown",
   "id": "3897edbb-1269-4d66-8ecb-1b41721d1d65",
   "metadata": {},
   "source": [
    "##  제어문 - Quiz03\n",
    "* 제어문\n",
    "* 1번 ~ 15번 이론 문제\n",
    "* 16번 ~ 30번 실습 문제"
   ]
  },
  {
   "cell_type": "code",
   "execution_count": 65,
   "id": "f5468296-1c8e-4f83-9e40-e4d374c04c0e",
   "metadata": {},
   "outputs": [
    {
     "name": "stdout",
     "output_type": "stream",
     "text": [
      "당신은 고수입니다.\n"
     ]
    }
   ],
   "source": [
    "# Quiz 16)  게임 사용자의 게임점수(game_score)가 1000점 이상이면 ‘당신은 고수입니다’를 출력하는 프로그램을 if 문을 이용하여 작성하시오. \n",
    "#           이때 다음과 같이 game_score값을 화면에 출력하여라. \n",
    "#           game_score에 800점, 1300점을 각각 입력하여 출력문을 확인하시오.\n",
    "\n",
    "game_score = 800\n",
    "if (game_score >= 1000):\n",
    "  print(\"당신은 고수입니다.\")\n",
    "\n",
    "game_score = 1300\n",
    "if (game_score >= 1000):\n",
    "  print(\"당신은 고수입니다.\")"
   ]
  },
  {
   "cell_type": "code",
   "execution_count": 66,
   "id": "a363b520-e7c7-4b56-8e4d-f092df2b67ae",
   "metadata": {},
   "outputs": [
    {
     "name": "stdout",
     "output_type": "stream",
     "text": [
      "두 값이 일치합니다.\n"
     ]
    }
   ],
   "source": [
    "# Quiz 17) num_a와 num_b에 할당된 값이 같으면 ‘두 값이 일치합니다.’를 출력하는 프로그램을 if 문을 이용하여 작성하시오. \n",
    "#          num_a와 num_b에 각각 100과 200이 할당되어 있는 경우와 num_a와 num_b에 300과 300이 할당되어 있는 경우에 \n",
    "#          대하여 각각 코드를 작성하고 출력문을 확인 하시오.\n",
    "num_a, num_b = 100, 200\n",
    "if (num_a == num_b):\n",
    "  print(\"두 값이 일치합니다.\")\n",
    "\n",
    "num_a, num_b = 300, 300\n",
    "if (num_a == num_b):\n",
    "  print(\"두 값이 일치합니다.\")"
   ]
  },
  {
   "cell_type": "code",
   "execution_count": 67,
   "id": "663125ba-3cdc-46ea-9ee5-b5077edf07df",
   "metadata": {},
   "outputs": [
    {
     "name": "stdin",
     "output_type": "stream",
     "text": [
      "정수를 입력하세요 :  2\n"
     ]
    },
    {
     "name": "stdout",
     "output_type": "stream",
     "text": [
      "n = 2\n",
      "2 은(는) 짝수입니다.\n"
     ]
    }
   ],
   "source": [
    "# Quiz 18)  1에서 100 사이의 임의의 정수 n을 입력받아서 \n",
    "#           1) n을 화면에 출력한 후, \n",
    "#           2) n이 짝수이면 \"...은(는) 짝수입니다.\"를 다음과 같이 출력하는 프로그램을 작성하여라.\n",
    "\n",
    "n = int(input(\"정수를 입력하세요 : \"))\n",
    "print(\"n =\", n)\n",
    "if(n % 2 == 0):\n",
    "  print(n ,\"은(는) 짝수입니다.\")"
   ]
  },
  {
   "cell_type": "code",
   "execution_count": 68,
   "id": "4761c3b1-e09c-4ccd-8cc9-036279468b85",
   "metadata": {},
   "outputs": [
    {
     "name": "stdin",
     "output_type": "stream",
     "text": [
      "정수를 입력하세요 :  50\n"
     ]
    },
    {
     "name": "stdout",
     "output_type": "stream",
     "text": [
      "x = 50\n",
      "50 은(는) 자연수입니다\n"
     ]
    }
   ],
   "source": [
    "# Quiz 19) -100에서 100 사이의 임의의 정수 x를 입력받아서 \n",
    "#          1) x를 화면에 출력한 후, \n",
    "#          2) x가 0보다 큰 정수이면 \"...은(는) 자연수입니다.\"를  그렇지 않을 경우 x = -10과 같이 x를 단순 출력하여라.\n",
    "\n",
    "x = int(input(\"정수를 입력하세요 : \"))\n",
    "print(\"x =\", x)\n",
    "\n",
    "if(x > 0):\n",
    "  print(x ,\"은(는) 자연수입니다\")\n",
    "else:\n",
    "  print(x)"
   ]
  },
  {
   "cell_type": "code",
   "execution_count": 69,
   "id": "5f2333c7-676d-4ebd-9307-85e481ed8142",
   "metadata": {},
   "outputs": [
    {
     "name": "stdin",
     "output_type": "stream",
     "text": [
      "당신은 성인인가요(성인이면 1, 미성년이면 0):  1\n",
      "결혼을 하셨나요(기혼이면 1, 미혼이면 0):  0\n"
     ]
    },
    {
     "name": "stdout",
     "output_type": "stream",
     "text": [
      "당신은 결혼하지 않은 성인입니다.\n"
     ]
    }
   ],
   "source": [
    "# Quiz 20) if 문의 복합 조건식을 이용해서 다음과 같은 기능을 수행하는 프로그램을 만들어보자.\n",
    "#          1) 우선 '당신은 성인인가요(성인이면 1, 미성년이면 0)' 문을 통해서 성인인지 미성년인지를 구한다음 미성년이면(0이 입력되면) '당신은 미성년자입니다.'를 출력하고 프로그램을 종료한다. \n",
    "#          2) 다음으로 성인이면(1이 입력되면) '결혼을 하셨나요(기혼이면 1, 미혼이면 0)' 질문을 통해 서 기혼, 미혼을 입력으로 받아서 '당신은 결혼한 성인입니다.' 혹은 '당신은 결혼하지 않은 성인입니다.'를 \n",
    "#             다음과 같이 출력하도록 한다.\n",
    "\n",
    "adult = int(input(\"당신은 성인인가요(성인이면 1, 미성년이면 0): \"))\n",
    "if(adult == 1):\n",
    "   marry = int(input(\"결혼을 하셨나요(기혼이면 1, 미혼이면 0): \"))\n",
    "   if(marry == 0):\n",
    "      print(\"당신은 결혼하지 않은 성인입니다.\")\n",
    "   else:\n",
    "      print(\"당신은 결혼한 성인입니다.\")\n",
    "else:\n",
    "   print(\"당신은 미성년자입니다.\")"
   ]
  },
  {
   "cell_type": "code",
   "execution_count": 70,
   "id": "05dc00e2-df27-4b2a-955c-a43e592b6bb5",
   "metadata": {},
   "outputs": [
    {
     "name": "stdout",
     "output_type": "stream",
     "text": [
      "청소년입니다\n"
     ]
    }
   ],
   "source": [
    "# Quiz 21)  age가 10보다 크고 19보다 작으면 '청소년입니다.'를 출력하는 부울식을 작성하여라. \n",
    "\n",
    "age = 12\n",
    "if(age > 10) and (age < 19):\n",
    "  print(\"청소년입니다\")"
   ]
  },
  {
   "cell_type": "code",
   "execution_count": 71,
   "id": "7d1b7a48-a21f-4dac-9c2e-8310711de6bb",
   "metadata": {},
   "outputs": [
    {
     "name": "stdin",
     "output_type": "stream",
     "text": [
      "미세먼지 농도를 입력하세요(단위 : microgram/m^3 ):  77\n"
     ]
    },
    {
     "name": "stdout",
     "output_type": "stream",
     "text": [
      "매우 나쁨\n"
     ]
    }
   ],
   "source": [
    "# Quiz 22) 미세먼지 농도 예보 기준이 다음과 같을 때 미세먼지 농도를 입력받아 ‘좋음’, ‘보통’, ‘나쁨’, ‘매우 나쁨’을 출력하는 코드를 작성하여라.(단위 ㎍/m3)\n",
    "\n",
    "dust = int(input(\"미세먼지 농도를 입력하세요(단위 : microgram/m^3 ): \"))\n",
    "if(dust >= 76):\n",
    "  print(\"매우 나쁨\")\n",
    "elif(dust <= 75) and (dust >= 36):\n",
    "  print(\"나쁨\")\n",
    "elif(dust <= 35) and (dust >= 16):\n",
    "  print(\"보통\")\n",
    "else:\n",
    "  print(\"좋음\")"
   ]
  },
  {
   "cell_type": "code",
   "execution_count": 72,
   "id": "c48cedf2-db84-4eea-9581-6d25bd7e81f2",
   "metadata": {},
   "outputs": [
    {
     "name": "stdout",
     "output_type": "stream",
     "text": [
      "Hello, Python!\n",
      "Hello, Python!\n",
      "Hello, Python!\n",
      "Hello, Python!\n",
      "Hello, Python!\n"
     ]
    }
   ],
   "source": [
    "# Quiz 23) for 반복문 사용하여  Hello, Python!을 5번 출력하는 프로그램을 작성하세요.\n",
    "for i in range(5):                    #   for _ in range(5):\n",
    "      print(\"Hello, Python!\")"
   ]
  },
  {
   "cell_type": "code",
   "execution_count": 73,
   "id": "48d69068-15a3-4afb-a3b2-48cfdf211ec8",
   "metadata": {},
   "outputs": [
    {
     "name": "stdout",
     "output_type": "stream",
     "text": [
      "0\n",
      "1\n",
      "2\n",
      "3\n",
      "4\n"
     ]
    }
   ],
   "source": [
    "# Quiz 24) for 반복문 사용하여 0에서 4까지의 정수를 출력하는 프로그램을 작성하세요.\n",
    "for i in range(5):\n",
    "  print(i)"
   ]
  },
  {
   "cell_type": "code",
   "execution_count": 74,
   "id": "bdc52d2f-b28c-4893-b686-2842386d50b3",
   "metadata": {},
   "outputs": [
    {
     "name": "stdout",
     "output_type": "stream",
     "text": [
      "[2, 4, 6, 8, 10, 12, 14, 16, 18, 20, 22, 24, 26, 28, 30, 32, 34, 36, 38, 40, 42, 44, 46, 48, 50, 52, 54, 56, 58, 60, 62, 64, 66, 68, 70, 72, 74, 76, 78, 80, 82, 84, 86, 88, 90, 92, 94, 96, 98, 100]\n"
     ]
    }
   ],
   "source": [
    "# Quiz 25) 1이상 100이하의 짝수 리스트를 작성하세요.\n",
    "su=list(range(2,101,2))\n",
    "print(su)"
   ]
  },
  {
   "cell_type": "code",
   "execution_count": 75,
   "id": "37457e85-7398-4e16-bf01-e4b58201a45e",
   "metadata": {},
   "outputs": [
    {
     "name": "stdout",
     "output_type": "stream",
     "text": [
      "1에서 100까지 정수의 합: 5050\n"
     ]
    }
   ],
   "source": [
    "# Quiz 26) 1~100까지 정수의 합을 구하여 출력하세요.\n",
    "total = 0\n",
    "for i in range(1, 101):\n",
    "    total = total + i\n",
    "print('1에서 100까지 정수의 합:', total)"
   ]
  },
  {
   "cell_type": "code",
   "execution_count": 76,
   "id": "440f4745-9478-4c1b-a8bf-5c646807886b",
   "metadata": {},
   "outputs": [
    {
     "name": "stdout",
     "output_type": "stream",
     "text": [
      "1에서 100까지 홀수의 합: 2500\n"
     ]
    }
   ],
   "source": [
    "# Quiz 27) 1~100 까지 정수 중에서 홀수의 합을 구하여 출력하세요.\n",
    "total = 0\n",
    "for i in range(1, 101, 2):\n",
    "    total = total + i\n",
    "print('1에서 100까지 홀수의 합:', total)"
   ]
  },
  {
   "cell_type": "code",
   "execution_count": 78,
   "id": "a6e690f5-d50b-4bcb-9a7a-ed575e97c9f8",
   "metadata": {},
   "outputs": [
    {
     "name": "stdout",
     "output_type": "stream",
     "text": [
      "몇 번 반복할까요?\n"
     ]
    },
    {
     "name": "stdin",
     "output_type": "stream",
     "text": [
      " 10\n"
     ]
    },
    {
     "name": "stdout",
     "output_type": "stream",
     "text": [
      "1회 반복\n",
      "2회 반복\n",
      "3회 반복\n",
      "4회 반복\n",
      "5회 반복\n",
      "6회 반복\n",
      "7회 반복\n",
      "8회 반복\n",
      "9회 반복\n",
      "10회 반복\n",
      "반복이 종료되었습니다.\n"
     ]
    }
   ],
   "source": [
    "# Quiz 28) 반복 횟수 만큼 출력하세요. \n",
    "print(\"몇 번 반복할까요?\")\n",
    "limit=int(input())\n",
    "\n",
    "count=0\n",
    "while count < limit:\n",
    "   count=count+1\n",
    "   print('{}회 반복'.format(count))\n",
    "\n",
    "print(\"반복이 종료되었습니다.\")"
   ]
  },
  {
   "cell_type": "code",
   "execution_count": 3,
   "id": "86316603-1de2-4b5a-9275-402d25ab001b",
   "metadata": {},
   "outputs": [
    {
     "name": "stdout",
     "output_type": "stream",
     "text": [
      "2 * 1 = 2\n",
      "2 * 2 = 4\n",
      "2 * 3 = 6\n",
      "2 * 4 = 8\n",
      "2 * 5 = 10\n",
      "2 * 6 = 12\n",
      "2 * 7 = 14\n",
      "2 * 8 = 16\n",
      "2 * 9 = 18\n"
     ]
    }
   ],
   "source": [
    "# Quiz 29) 다음과 같이 구구단의 2절을 출력하는 프로그램을 while문으로 사용하여 작성하세요.\n",
    "\n",
    "i=1\n",
    "dan=2\n",
    "while True:\n",
    "   print('{} * {} = {}'.format(dan, i, dan*i))\n",
    "   i=i+1\n",
    "   if i > 9:\n",
    "      break;"
   ]
  },
  {
   "cell_type": "code",
   "execution_count": null,
   "id": "ce2953b3-6926-45e4-b060-f7b16ebbfd7f",
   "metadata": {},
   "outputs": [
    {
     "name": "stdout",
     "output_type": "stream",
     "text": [
      "맛나 식당에 오신것을 환영합니다. 메뉴는 다음과 같습니다\n",
      "1)햄버거\n",
      "2)치킨\n",
      "3)피자\n"
     ]
    }
   ],
   "source": [
    "# Quiz 30) 맛나 식당의 메뉴 주문 프로그램을 개발하고자 한다. 이를 위하여 사용자에게 다음과\n",
    "#          같은 메뉴를 보여주고 이 중에서 하나를 선택하도록 하자. 이때 메누에 없는 숫자가 입려되면\n",
    "#          메뉴를 다시 입력하세요' 가 출력되도록 한 후 다시 입력을 받도록 하자.\n",
    "\n",
    "print('맛나 식당에 오신것을 환영합니다. 메뉴는 다음과 같습니다')\n",
    "print('1)햄버거\\n2)치킨\\n3)피자')\n",
    "\n",
    "menu = int(input('1에서 3까지의 메뉴를 선택하세요 : '))\n",
    "while menu > 3 or menu < 1:\n",
    "  menu = int(input('메뉴를 다시 입력하세요 : '))\n",
    "\n",
    "if menu == 1:\n",
    "    print('햄버거를 선택하였습니다.')\n",
    "elif menu == 2:\n",
    "    print('치킨을 선택하였습니다.')\n",
    "else:\n",
    "    print('피자를 선택하였습니다')"
   ]
  },
  {
   "cell_type": "code",
   "execution_count": null,
   "id": "e04bc5b2-4685-46ef-8c80-94583f4357c7",
   "metadata": {},
   "outputs": [],
   "source": []
  }
 ],
 "metadata": {
  "kernelspec": {
   "display_name": "Python [conda env:base] *",
   "language": "python",
   "name": "conda-base-py"
  },
  "language_info": {
   "codemirror_mode": {
    "name": "ipython",
    "version": 3
   },
   "file_extension": ".py",
   "mimetype": "text/x-python",
   "name": "python",
   "nbconvert_exporter": "python",
   "pygments_lexer": "ipython3",
   "version": "3.12.7"
  }
 },
 "nbformat": 4,
 "nbformat_minor": 5
}
